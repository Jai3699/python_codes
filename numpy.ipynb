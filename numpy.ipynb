{
 "cells": [
  {
   "cell_type": "code",
   "execution_count": 1,
   "id": "c32c2896-11ca-4dda-93a1-335e606a7705",
   "metadata": {},
   "outputs": [],
   "source": [
    "import numpy as np"
   ]
  },
  {
   "cell_type": "code",
   "execution_count": 2,
   "id": "f21b5ea3-e695-4856-a70d-100e864745b0",
   "metadata": {},
   "outputs": [],
   "source": [
    "l=[1,2,3,4]"
   ]
  },
  {
   "cell_type": "code",
   "execution_count": 3,
   "id": "b9dfe74b-1d26-424b-ad9b-c53fe64dcccf",
   "metadata": {},
   "outputs": [],
   "source": [
    "arr=np.array(l)"
   ]
  },
  {
   "cell_type": "code",
   "execution_count": 4,
   "id": "6791f92e-3654-4e44-80be-71c9b29f9a87",
   "metadata": {},
   "outputs": [
    {
     "data": {
      "text/plain": [
       "array([1, 2, 3, 4])"
      ]
     },
     "execution_count": 4,
     "metadata": {},
     "output_type": "execute_result"
    }
   ],
   "source": [
    "arr"
   ]
  },
  {
   "cell_type": "code",
   "execution_count": 5,
   "id": "c3b92d43-9264-4e39-893f-938a4e29417e",
   "metadata": {},
   "outputs": [
    {
     "data": {
      "text/plain": [
       "numpy.ndarray"
      ]
     },
     "execution_count": 5,
     "metadata": {},
     "output_type": "execute_result"
    }
   ],
   "source": [
    "type(arr)"
   ]
  },
  {
   "cell_type": "code",
   "execution_count": 6,
   "id": "70f854db-26fa-41b1-ac80-0e35023e3b5a",
   "metadata": {},
   "outputs": [
    {
     "data": {
      "text/plain": [
       "array([1, 2, 3, 4])"
      ]
     },
     "execution_count": 6,
     "metadata": {},
     "output_type": "execute_result"
    }
   ],
   "source": [
    "np.asarray(l)"
   ]
  },
  {
   "cell_type": "code",
   "execution_count": 7,
   "id": "ba5e07c4-e518-476b-b9b2-5a52ffc7c49d",
   "metadata": {},
   "outputs": [
    {
     "data": {
      "text/plain": [
       "array([1, 2, 3, 4])"
      ]
     },
     "execution_count": 7,
     "metadata": {},
     "output_type": "execute_result"
    }
   ],
   "source": [
    "np.asanyarray(l)"
   ]
  },
  {
   "cell_type": "code",
   "execution_count": 8,
   "id": "1fb161aa-b214-4da2-bbad-b3e5bbffe642",
   "metadata": {},
   "outputs": [],
   "source": [
    "b=np.matrix(l)"
   ]
  },
  {
   "cell_type": "code",
   "execution_count": 9,
   "id": "bbc3db4d-5382-4258-8c78-062c601e98fe",
   "metadata": {},
   "outputs": [
    {
     "data": {
      "text/plain": [
       "matrix([[1, 2, 3, 4]])"
      ]
     },
     "execution_count": 9,
     "metadata": {},
     "output_type": "execute_result"
    }
   ],
   "source": [
    "b"
   ]
  },
  {
   "cell_type": "code",
   "execution_count": 10,
   "id": "9221577e-e552-41a2-be6d-250a6d190c2d",
   "metadata": {},
   "outputs": [
    {
     "data": {
      "text/plain": [
       "matrix([[1, 2, 3, 4]])"
      ]
     },
     "execution_count": 10,
     "metadata": {},
     "output_type": "execute_result"
    }
   ],
   "source": [
    "##matrix is a subset of array so it will not change it\n",
    "np.asanyarray(b)"
   ]
  },
  {
   "cell_type": "code",
   "execution_count": 11,
   "id": "ae0e8eea-291b-452a-9483-538fa9139558",
   "metadata": {},
   "outputs": [],
   "source": [
    "a=np.array(l)"
   ]
  },
  {
   "cell_type": "code",
   "execution_count": 12,
   "id": "7a2d21e6-058a-4663-a610-7faef3697e45",
   "metadata": {},
   "outputs": [
    {
     "data": {
      "text/plain": [
       "array([1, 2, 3, 4])"
      ]
     },
     "execution_count": 12,
     "metadata": {},
     "output_type": "execute_result"
    }
   ],
   "source": [
    "a"
   ]
  },
  {
   "cell_type": "code",
   "execution_count": 13,
   "id": "68395249-eaf9-4f5f-989b-aff4dfc0b1e8",
   "metadata": {},
   "outputs": [],
   "source": [
    "##this is solo copy\n",
    "d=a"
   ]
  },
  {
   "cell_type": "code",
   "execution_count": 14,
   "id": "0fc72bde-f388-4cf8-909b-563b76115742",
   "metadata": {},
   "outputs": [
    {
     "data": {
      "text/plain": [
       "array([1, 2, 3, 4])"
      ]
     },
     "execution_count": 14,
     "metadata": {},
     "output_type": "execute_result"
    }
   ],
   "source": [
    "d"
   ]
  },
  {
   "cell_type": "code",
   "execution_count": 15,
   "id": "55bd579c-32bb-4d3a-988f-b9b4d6cfd4e6",
   "metadata": {},
   "outputs": [
    {
     "data": {
      "text/plain": [
       "1"
      ]
     },
     "execution_count": 15,
     "metadata": {},
     "output_type": "execute_result"
    }
   ],
   "source": [
    "d[0]"
   ]
  },
  {
   "cell_type": "code",
   "execution_count": 16,
   "id": "17575fae-9467-4589-bb34-a14270b6cc61",
   "metadata": {},
   "outputs": [],
   "source": [
    "d[0]=100"
   ]
  },
  {
   "cell_type": "code",
   "execution_count": 17,
   "id": "397079d2-8747-4cd3-a7d5-174821c9da06",
   "metadata": {},
   "outputs": [
    {
     "data": {
      "text/plain": [
       "array([100,   2,   3,   4])"
      ]
     },
     "execution_count": 17,
     "metadata": {},
     "output_type": "execute_result"
    }
   ],
   "source": [
    "d"
   ]
  },
  {
   "cell_type": "code",
   "execution_count": 18,
   "id": "939201b7-18b3-4b60-a58f-dab3054b5dc8",
   "metadata": {},
   "outputs": [
    {
     "data": {
      "text/plain": [
       "array([100,   2,   3,   4])"
      ]
     },
     "execution_count": 18,
     "metadata": {},
     "output_type": "execute_result"
    }
   ],
   "source": [
    "a"
   ]
  },
  {
   "cell_type": "code",
   "execution_count": null,
   "id": "d4478cc8-f56e-4da1-98df-3f01f7dab656",
   "metadata": {},
   "outputs": [],
   "source": []
  },
  {
   "cell_type": "code",
   "execution_count": 19,
   "id": "63da84ef-44de-4836-9def-f4240eae691a",
   "metadata": {},
   "outputs": [
    {
     "data": {
      "text/plain": [
       "array([100,   2,   3,   4])"
      ]
     },
     "execution_count": 19,
     "metadata": {},
     "output_type": "execute_result"
    }
   ],
   "source": [
    "a"
   ]
  },
  {
   "cell_type": "code",
   "execution_count": 20,
   "id": "e9e1ff7d-f226-438a-a687-1faf5b5eb5a8",
   "metadata": {},
   "outputs": [],
   "source": [
    "##this is deep copy\n",
    "x=np.copy(a)"
   ]
  },
  {
   "cell_type": "code",
   "execution_count": 21,
   "id": "87ff069d-3356-4ef6-b91f-3cd59e099745",
   "metadata": {},
   "outputs": [
    {
     "data": {
      "text/plain": [
       "array([100,   2,   3,   4])"
      ]
     },
     "execution_count": 21,
     "metadata": {},
     "output_type": "execute_result"
    }
   ],
   "source": [
    "x"
   ]
  },
  {
   "cell_type": "code",
   "execution_count": 22,
   "id": "1f5fb810-ddee-464b-85ea-6f44ec1c5717",
   "metadata": {},
   "outputs": [],
   "source": [
    "x[0]=500"
   ]
  },
  {
   "cell_type": "code",
   "execution_count": 23,
   "id": "369da246-c797-4caa-98a0-7d8fa5c88102",
   "metadata": {},
   "outputs": [
    {
     "data": {
      "text/plain": [
       "array([500,   2,   3,   4])"
      ]
     },
     "execution_count": 23,
     "metadata": {},
     "output_type": "execute_result"
    }
   ],
   "source": [
    "x"
   ]
  },
  {
   "cell_type": "code",
   "execution_count": 24,
   "id": "63aa2f6f-71ce-4d3e-a32b-ab7980de1c8a",
   "metadata": {},
   "outputs": [
    {
     "data": {
      "text/plain": [
       "array([100,   2,   3,   4])"
      ]
     },
     "execution_count": 24,
     "metadata": {},
     "output_type": "execute_result"
    }
   ],
   "source": [
    "a"
   ]
  },
  {
   "cell_type": "code",
   "execution_count": null,
   "id": "1673c04c-6c34-4851-9de9-9fa74a2af939",
   "metadata": {},
   "outputs": [],
   "source": []
  },
  {
   "cell_type": "code",
   "execution_count": 25,
   "id": "2e664b0b-5552-4549-bdd8-ecad5a6c1263",
   "metadata": {},
   "outputs": [],
   "source": [
    "y=np.array([1,2,3,4,5,6])"
   ]
  },
  {
   "cell_type": "code",
   "execution_count": 26,
   "id": "091f5689-3b91-4eba-8836-c5faaf494803",
   "metadata": {},
   "outputs": [
    {
     "data": {
      "text/plain": [
       "array([1, 2, 3, 4, 5, 6])"
      ]
     },
     "execution_count": 26,
     "metadata": {},
     "output_type": "execute_result"
    }
   ],
   "source": [
    "y"
   ]
  },
  {
   "cell_type": "code",
   "execution_count": 27,
   "id": "f93211df-1bd1-467b-ab64-3184b490e520",
   "metadata": {},
   "outputs": [],
   "source": [
    "y=y.reshape(3,2)"
   ]
  },
  {
   "cell_type": "code",
   "execution_count": 28,
   "id": "a98b8c01-09ca-468b-9c25-8e2a99420938",
   "metadata": {},
   "outputs": [
    {
     "data": {
      "text/plain": [
       "array([[1, 2],\n",
       "       [3, 4],\n",
       "       [5, 6]])"
      ]
     },
     "execution_count": 28,
     "metadata": {},
     "output_type": "execute_result"
    }
   ],
   "source": [
    "y"
   ]
  },
  {
   "cell_type": "code",
   "execution_count": 29,
   "id": "82c157e6-fe95-4844-a7ea-afd96fd18de9",
   "metadata": {},
   "outputs": [
    {
     "data": {
      "text/plain": [
       "24"
      ]
     },
     "execution_count": 29,
     "metadata": {},
     "output_type": "execute_result"
    }
   ],
   "source": [
    "y.nbytes"
   ]
  },
  {
   "cell_type": "code",
   "execution_count": 30,
   "id": "1ec12d9c-2cef-4c53-bcc5-ac2cf790e499",
   "metadata": {},
   "outputs": [
    {
     "data": {
      "text/plain": [
       "2"
      ]
     },
     "execution_count": 30,
     "metadata": {},
     "output_type": "execute_result"
    }
   ],
   "source": [
    "y.ndim"
   ]
  },
  {
   "cell_type": "code",
   "execution_count": 31,
   "id": "93f43706-0897-44df-b663-db0adc16bbc9",
   "metadata": {},
   "outputs": [
    {
     "data": {
      "text/plain": [
       "(3, 2)"
      ]
     },
     "execution_count": 31,
     "metadata": {},
     "output_type": "execute_result"
    }
   ],
   "source": [
    "y.shape"
   ]
  },
  {
   "cell_type": "code",
   "execution_count": 32,
   "id": "06586291-9401-4729-b241-3137f2acc213",
   "metadata": {},
   "outputs": [
    {
     "data": {
      "text/plain": [
       "array([[1, 1, 1],\n",
       "       [1, 1, 1],\n",
       "       [1, 1, 1]])"
      ]
     },
     "execution_count": 32,
     "metadata": {},
     "output_type": "execute_result"
    }
   ],
   "source": [
    "np.ones((3,3),dtype='int32')"
   ]
  },
  {
   "cell_type": "code",
   "execution_count": 33,
   "id": "98a943bb-2900-46de-bc13-2217b289efac",
   "metadata": {},
   "outputs": [
    {
     "data": {
      "text/plain": [
       "array([[ True, False, False],\n",
       "       [False,  True, False],\n",
       "       [False, False,  True]])"
      ]
     },
     "execution_count": 33,
     "metadata": {},
     "output_type": "execute_result"
    }
   ],
   "source": [
    "np.fromfunction(lambda i,j:i==j,(3,3))"
   ]
  },
  {
   "cell_type": "code",
   "execution_count": 34,
   "id": "e4a571d4-fcb9-497a-a966-6fdb8c530d0e",
   "metadata": {},
   "outputs": [
    {
     "data": {
      "text/plain": [
       "array([[0, 0, 0],\n",
       "       [0, 1, 2],\n",
       "       [0, 2, 4]])"
      ]
     },
     "execution_count": 34,
     "metadata": {},
     "output_type": "execute_result"
    }
   ],
   "source": [
    "np.fromfunction(lambda i,j:i*j,(3,3),dtype='int32')"
   ]
  },
  {
   "cell_type": "code",
   "execution_count": 35,
   "id": "9c23be52-a4af-4ed8-b885-375e3629b1e7",
   "metadata": {},
   "outputs": [
    {
     "data": {
      "text/plain": [
       "array([[False,  True,  True],\n",
       "       [ True, False,  True],\n",
       "       [ True,  True, False]])"
      ]
     },
     "execution_count": 35,
     "metadata": {},
     "output_type": "execute_result"
    }
   ],
   "source": [
    "np.fromfunction(lambda i,j:i!=j,(3,3),dtype='int32')"
   ]
  },
  {
   "cell_type": "code",
   "execution_count": 36,
   "id": "f4e7daff-5853-4569-9943-54c823c5d8e6",
   "metadata": {},
   "outputs": [],
   "source": [
    "iterable=(i*i for i in range(5))"
   ]
  },
  {
   "cell_type": "code",
   "execution_count": 37,
   "id": "003b0b9f-26cc-4873-8e60-6200e6b563fc",
   "metadata": {},
   "outputs": [
    {
     "name": "stdout",
     "output_type": "stream",
     "text": [
      "0\n",
      "1\n",
      "4\n",
      "9\n",
      "16\n"
     ]
    }
   ],
   "source": [
    "for i in iterable:\n",
    "    print(i)"
   ]
  },
  {
   "cell_type": "code",
   "execution_count": 38,
   "id": "98607627-73dd-4387-b0bb-c56c16aefaea",
   "metadata": {},
   "outputs": [
    {
     "data": {
      "text/plain": [
       "array([], dtype=int32)"
      ]
     },
     "execution_count": 38,
     "metadata": {},
     "output_type": "execute_result"
    }
   ],
   "source": [
    "np.fromiter(iterable,dtype='int32')"
   ]
  },
  {
   "cell_type": "code",
   "execution_count": 39,
   "id": "4b0021d0-ed65-4382-899f-1a5aff841b8d",
   "metadata": {},
   "outputs": [
    {
     "data": {
      "text/plain": [
       "array([23, 34, 34])"
      ]
     },
     "execution_count": 39,
     "metadata": {},
     "output_type": "execute_result"
    }
   ],
   "source": [
    "np.fromstring('23 34 34',sep=' ',dtype='int32')"
   ]
  },
  {
   "cell_type": "code",
   "execution_count": 40,
   "id": "cb6ff46d-36b1-4bbd-99ac-ab6c1fcc0fa1",
   "metadata": {},
   "outputs": [
    {
     "data": {
      "text/plain": [
       "array([ 2.,  4., 34., 24.,  2., 45., 56.])"
      ]
     },
     "execution_count": 40,
     "metadata": {},
     "output_type": "execute_result"
    }
   ],
   "source": [
    "np.fromstring('2,4,34,24,2,45,56',sep=',')"
   ]
  },
  {
   "cell_type": "code",
   "execution_count": 41,
   "id": "61f14a41-496e-43ed-86bb-a781d3aae0bc",
   "metadata": {},
   "outputs": [
    {
     "data": {
      "text/plain": [
       "array([0.3, 1.3, 2.3, 3.3, 4.3])"
      ]
     },
     "execution_count": 41,
     "metadata": {},
     "output_type": "execute_result"
    }
   ],
   "source": [
    "##range function in numpy\n",
    "np.arange(0.3,4.6)"
   ]
  },
  {
   "cell_type": "code",
   "execution_count": 42,
   "id": "5ce187e6-d327-4181-a2ac-4f2641aeba75",
   "metadata": {},
   "outputs": [
    {
     "data": {
      "text/plain": [
       "array([ 0.5,  2.5,  4.5,  6.5,  8.5, 10.5, 12.5, 14.5, 16.5, 18.5])"
      ]
     },
     "execution_count": 42,
     "metadata": {},
     "output_type": "execute_result"
    }
   ],
   "source": [
    "np.arange(0.5,20,2)"
   ]
  },
  {
   "cell_type": "code",
   "execution_count": 43,
   "id": "704f3b73-06b3-4bf4-a99d-c0925f865adf",
   "metadata": {},
   "outputs": [
    {
     "data": {
      "text/plain": [
       "array([ 2.        ,  3.14285714,  4.28571429,  5.42857143,  6.57142857,\n",
       "        7.71428571,  8.85714286, 10.        ])"
      ]
     },
     "execution_count": 43,
     "metadata": {},
     "output_type": "execute_result"
    }
   ],
   "source": [
    "##iinspace will divide the range in equal parts in this case 8 equal parts from 2 to 10\n",
    "np.linspace(2,10,8)"
   ]
  },
  {
   "cell_type": "code",
   "execution_count": 47,
   "id": "b7936b50-190d-40e4-b365-00c8ef6daebd",
   "metadata": {},
   "outputs": [
    {
     "data": {
      "text/plain": [
       "array([[[0., 0., 0., 0.],\n",
       "        [0., 0., 0., 0.],\n",
       "        [0., 0., 0., 0.],\n",
       "        [0., 0., 0., 0.]],\n",
       "\n",
       "       [[0., 0., 0., 0.],\n",
       "        [0., 0., 0., 0.],\n",
       "        [0., 0., 0., 0.],\n",
       "        [0., 0., 0., 0.]],\n",
       "\n",
       "       [[0., 0., 0., 0.],\n",
       "        [0., 0., 0., 0.],\n",
       "        [0., 0., 0., 0.],\n",
       "        [0., 0., 0., 0.]]])"
      ]
     },
     "execution_count": 47,
     "metadata": {},
     "output_type": "execute_result"
    }
   ],
   "source": [
    "np.zeros((3,4,4))"
   ]
  },
  {
   "cell_type": "code",
   "execution_count": 50,
   "id": "9864d473-807a-4c73-9421-19ca78f8a0ad",
   "metadata": {},
   "outputs": [],
   "source": [
    "one=np.ones((3,3))"
   ]
  },
  {
   "cell_type": "code",
   "execution_count": 51,
   "id": "47a46fe2-b467-496f-a6c2-47c1adf6bdfe",
   "metadata": {},
   "outputs": [
    {
     "data": {
      "text/plain": [
       "array([[2., 2., 2.],\n",
       "       [2., 2., 2.],\n",
       "       [2., 2., 2.]])"
      ]
     },
     "execution_count": 51,
     "metadata": {},
     "output_type": "execute_result"
    }
   ],
   "source": [
    "one*2"
   ]
  },
  {
   "cell_type": "code",
   "execution_count": 52,
   "id": "e0ad8dde-c35c-4aef-b253-62b8f966b4e0",
   "metadata": {},
   "outputs": [
    {
     "data": {
      "text/plain": [
       "array([[3., 3., 3.],\n",
       "       [3., 3., 3.],\n",
       "       [3., 3., 3.]])"
      ]
     },
     "execution_count": 52,
     "metadata": {},
     "output_type": "execute_result"
    }
   ],
   "source": [
    "one+2"
   ]
  },
  {
   "cell_type": "code",
   "execution_count": 60,
   "id": "96c730de-274b-4ac0-a107-158409b0ef71",
   "metadata": {},
   "outputs": [
    {
     "data": {
      "text/plain": [
       "array([[      0,       0,       0],\n",
       "       [      0,       0,       0],\n",
       "       [      0,       0,       0],\n",
       "       [      0,    2384,       0],\n",
       "       [      0, 7602273,       0]])"
      ]
     },
     "execution_count": 60,
     "metadata": {},
     "output_type": "execute_result"
    }
   ],
   "source": [
    "np.empty((5,3),dtype='int32')"
   ]
  },
  {
   "cell_type": "code",
   "execution_count": 64,
   "id": "b8b3c7f4-fc1c-40a3-ab83-4d5405cdb9f4",
   "metadata": {},
   "outputs": [
    {
     "data": {
      "text/plain": [
       "array([[1, 0, 0, 0, 0],\n",
       "       [0, 1, 0, 0, 0],\n",
       "       [0, 0, 1, 0, 0],\n",
       "       [0, 0, 0, 1, 0],\n",
       "       [0, 0, 0, 0, 1]])"
      ]
     },
     "execution_count": 64,
     "metadata": {},
     "output_type": "execute_result"
    }
   ],
   "source": [
    "##identity matrix\n",
    "np.eye(5,dtype='int32')"
   ]
  },
  {
   "cell_type": "code",
   "execution_count": 71,
   "id": "6e4bb090-47ee-4bbd-8b14-0654d6e8b6ae",
   "metadata": {},
   "outputs": [
    {
     "data": {
      "text/plain": [
       "array([ 4.        ,  5.0396842 ,  6.34960421,  8.        , 10.0793684 ,\n",
       "       12.69920842, 16.        , 20.1587368 , 25.39841683, 32.        ])"
      ]
     },
     "execution_count": 71,
     "metadata": {},
     "output_type": "execute_result"
    }
   ],
   "source": [
    "##it is like linspace it also divide the range in this case 10 equal parts and then find the log\n",
    "np.logspace(2,5,10,base=2)"
   ]
  },
  {
   "cell_type": "code",
   "execution_count": 90,
   "id": "04c12cb6-7ecd-4f4f-ad46-dc053abc6990",
   "metadata": {},
   "outputs": [
    {
     "data": {
      "text/plain": [
       "array([[-1.2745396 ,  0.47355721],\n",
       "       [ 0.68424252,  0.50794262],\n",
       "       [ 0.25004784,  0.27596195],\n",
       "       [-0.51015417, -0.72409282]])"
      ]
     },
     "execution_count": 90,
     "metadata": {},
     "output_type": "execute_result"
    }
   ],
   "source": [
    "##it gives the data from the standard normal distribution that is whose mean is zero and standard \n",
    "##deviation is 1\n",
    "np.random.randn(4,2)"
   ]
  },
  {
   "cell_type": "code",
   "execution_count": 91,
   "id": "2698800d-245a-4443-8211-1f7b7c3a6238",
   "metadata": {},
   "outputs": [
    {
     "data": {
      "text/plain": [
       "array([[0.91757159, 0.67632197, 0.67161999],\n",
       "       [0.73651483, 0.62433877, 0.07855705],\n",
       "       [0.59903394, 0.72127079, 0.154953  ]])"
      ]
     },
     "execution_count": 91,
     "metadata": {},
     "output_type": "execute_result"
    }
   ],
   "source": [
    "##it generates the random data\n",
    "np.random.rand(3,3)"
   ]
  },
  {
   "cell_type": "code",
   "execution_count": 98,
   "id": "de511ad2-ddb5-4d98-bb75-cbebc2dcceef",
   "metadata": {},
   "outputs": [],
   "source": [
    "dt=np.random.randint(-10,20,(3,4))"
   ]
  },
  {
   "cell_type": "code",
   "execution_count": 99,
   "id": "220ad293-b796-4973-b738-a9901093fea2",
   "metadata": {},
   "outputs": [
    {
     "data": {
      "text/plain": [
       "array([[10, -1, 18, -1],\n",
       "       [ 6,  1,  1, -1],\n",
       "       [13,  2, 13, -9]])"
      ]
     },
     "execution_count": 99,
     "metadata": {},
     "output_type": "execute_result"
    }
   ],
   "source": [
    "dt"
   ]
  },
  {
   "cell_type": "code",
   "execution_count": 100,
   "id": "79ddf5a5-44f5-4ebf-95c1-b3c6e9866a3d",
   "metadata": {},
   "outputs": [],
   "source": [
    "import pandas as pd"
   ]
  },
  {
   "cell_type": "code",
   "execution_count": 101,
   "id": "f08fbe68-fdba-4a3c-a297-20a73f88491a",
   "metadata": {},
   "outputs": [
    {
     "data": {
      "text/html": [
       "<div>\n",
       "<style scoped>\n",
       "    .dataframe tbody tr th:only-of-type {\n",
       "        vertical-align: middle;\n",
       "    }\n",
       "\n",
       "    .dataframe tbody tr th {\n",
       "        vertical-align: top;\n",
       "    }\n",
       "\n",
       "    .dataframe thead th {\n",
       "        text-align: right;\n",
       "    }\n",
       "</style>\n",
       "<table border=\"1\" class=\"dataframe\">\n",
       "  <thead>\n",
       "    <tr style=\"text-align: right;\">\n",
       "      <th></th>\n",
       "      <th>0</th>\n",
       "      <th>1</th>\n",
       "      <th>2</th>\n",
       "      <th>3</th>\n",
       "    </tr>\n",
       "  </thead>\n",
       "  <tbody>\n",
       "    <tr>\n",
       "      <th>0</th>\n",
       "      <td>10</td>\n",
       "      <td>-1</td>\n",
       "      <td>18</td>\n",
       "      <td>-1</td>\n",
       "    </tr>\n",
       "    <tr>\n",
       "      <th>1</th>\n",
       "      <td>6</td>\n",
       "      <td>1</td>\n",
       "      <td>1</td>\n",
       "      <td>-1</td>\n",
       "    </tr>\n",
       "    <tr>\n",
       "      <th>2</th>\n",
       "      <td>13</td>\n",
       "      <td>2</td>\n",
       "      <td>13</td>\n",
       "      <td>-9</td>\n",
       "    </tr>\n",
       "  </tbody>\n",
       "</table>\n",
       "</div>"
      ],
      "text/plain": [
       "    0  1   2  3\n",
       "0  10 -1  18 -1\n",
       "1   6  1   1 -1\n",
       "2  13  2  13 -9"
      ]
     },
     "execution_count": 101,
     "metadata": {},
     "output_type": "execute_result"
    }
   ],
   "source": [
    "pd.DataFrame(dt)"
   ]
  },
  {
   "cell_type": "code",
   "execution_count": 102,
   "id": "5a17e028-65b4-4a74-b685-24905225eaa1",
   "metadata": {},
   "outputs": [
    {
     "data": {
      "text/plain": [
       "array([[10, -1, 18, -1],\n",
       "       [ 6,  1,  1, -1],\n",
       "       [13,  2, 13, -9]])"
      ]
     },
     "execution_count": 102,
     "metadata": {},
     "output_type": "execute_result"
    }
   ],
   "source": [
    "dt"
   ]
  },
  {
   "cell_type": "code",
   "execution_count": 113,
   "id": "3a4a60be-cb0d-4925-8f62-e199738541c2",
   "metadata": {},
   "outputs": [
    {
     "data": {
      "text/plain": [
       "array([[10, -1, 18],\n",
       "       [-1,  6,  1],\n",
       "       [ 1, -1, 13],\n",
       "       [ 2, 13, -9]])"
      ]
     },
     "execution_count": 113,
     "metadata": {},
     "output_type": "execute_result"
    }
   ],
   "source": [
    "##by default it will take rows multiple of 12 according to column\n",
    "dt.reshape(-2,3)"
   ]
  },
  {
   "cell_type": "code",
   "execution_count": 115,
   "id": "cd93d1b2-d8cc-444d-a31a-882c3979bc29",
   "metadata": {},
   "outputs": [
    {
     "data": {
      "text/plain": [
       "array([[10, -1, 18, -1],\n",
       "       [ 6,  1,  1, -1],\n",
       "       [13,  2, 13, -9]])"
      ]
     },
     "execution_count": 115,
     "metadata": {},
     "output_type": "execute_result"
    }
   ],
   "source": [
    "##by default it will take column\n",
    "dt.reshape(3,-123)"
   ]
  },
  {
   "cell_type": "code",
   "execution_count": 118,
   "id": "82fecaaa-b668-4ca2-9d97-276b764e9604",
   "metadata": {},
   "outputs": [],
   "source": [
    "arr3=np.random.randint(1,100,(5,5))"
   ]
  },
  {
   "cell_type": "code",
   "execution_count": 119,
   "id": "65b894a4-0352-4f0b-a376-081670c0d98b",
   "metadata": {},
   "outputs": [
    {
     "data": {
      "text/plain": [
       "array([[ 3, 24, 87, 99, 55],\n",
       "       [ 2, 90, 26, 36, 63],\n",
       "       [94,  7, 94, 36, 62],\n",
       "       [ 1, 57, 32, 88, 44],\n",
       "       [69, 83, 44, 99, 99]])"
      ]
     },
     "execution_count": 119,
     "metadata": {},
     "output_type": "execute_result"
    }
   ],
   "source": [
    "arr3"
   ]
  },
  {
   "cell_type": "code",
   "execution_count": 121,
   "id": "bd3f6905-e590-49e9-9185-a616c479f85e",
   "metadata": {},
   "outputs": [
    {
     "data": {
      "text/plain": [
       "array([87, 99, 55, 90, 63, 94, 94, 62, 57, 88, 69, 83, 99, 99])"
      ]
     },
     "execution_count": 121,
     "metadata": {},
     "output_type": "execute_result"
    }
   ],
   "source": [
    "##finding the number which is greater than 50\n",
    "arr3[arr3>50]"
   ]
  },
  {
   "cell_type": "code",
   "execution_count": 122,
   "id": "63fb8d92-18c9-4a17-b403-6d9be83d0c2d",
   "metadata": {},
   "outputs": [
    {
     "data": {
      "text/plain": [
       "array([[ 3, 24, 87, 99, 55],\n",
       "       [ 2, 90, 26, 36, 63],\n",
       "       [94,  7, 94, 36, 62],\n",
       "       [ 1, 57, 32, 88, 44],\n",
       "       [69, 83, 44, 99, 99]])"
      ]
     },
     "execution_count": 122,
     "metadata": {},
     "output_type": "execute_result"
    }
   ],
   "source": [
    "arr3"
   ]
  },
  {
   "cell_type": "code",
   "execution_count": 126,
   "id": "00e01737-d222-4b45-aed4-3d5b44940352",
   "metadata": {},
   "outputs": [
    {
     "data": {
      "text/plain": [
       "array([[ 7, 36],\n",
       "       [57, 88]])"
      ]
     },
     "execution_count": 126,
     "metadata": {},
     "output_type": "execute_result"
    }
   ],
   "source": [
    "arr3[2:4,[1,3]]"
   ]
  },
  {
   "cell_type": "code",
   "execution_count": 127,
   "id": "48793021-6edf-4cb9-b219-5b6f52f40810",
   "metadata": {},
   "outputs": [
    {
     "data": {
      "text/plain": [
       "3"
      ]
     },
     "execution_count": 127,
     "metadata": {},
     "output_type": "execute_result"
    }
   ],
   "source": [
    "arr3[0][0]"
   ]
  },
  {
   "cell_type": "code",
   "execution_count": 128,
   "id": "d2e87691-44b8-47a7-8588-b9d95cf986bd",
   "metadata": {},
   "outputs": [
    {
     "data": {
      "text/plain": [
       "3"
      ]
     },
     "execution_count": 128,
     "metadata": {},
     "output_type": "execute_result"
    }
   ],
   "source": [
    "arr3[0,0]"
   ]
  },
  {
   "cell_type": "code",
   "execution_count": 129,
   "id": "e3144d08-3136-4bc7-9b10-abdd368644ba",
   "metadata": {},
   "outputs": [
    {
     "data": {
      "text/plain": [
       "36"
      ]
     },
     "execution_count": 129,
     "metadata": {},
     "output_type": "execute_result"
    }
   ],
   "source": [
    "arr3[2][3]"
   ]
  },
  {
   "cell_type": "code",
   "execution_count": 132,
   "id": "6c643c2b-ca06-4879-a5aa-7531b14a167f",
   "metadata": {},
   "outputs": [
    {
     "data": {
      "text/plain": [
       "36"
      ]
     },
     "execution_count": 132,
     "metadata": {},
     "output_type": "execute_result"
    }
   ],
   "source": [
    "arr3[2,3]"
   ]
  },
  {
   "cell_type": "code",
   "execution_count": 133,
   "id": "af2d7a0e-9969-49ca-9827-713219b61d7a",
   "metadata": {},
   "outputs": [],
   "source": [
    "a1=np.random.randint(1,4,(3,3))\n",
    "a2=np.random.randint(1,4,(3,3))"
   ]
  },
  {
   "cell_type": "code",
   "execution_count": 134,
   "id": "12916b1e-b4d6-4c60-86ce-83eee57a4295",
   "metadata": {},
   "outputs": [
    {
     "data": {
      "text/plain": [
       "array([[2, 2, 3],\n",
       "       [2, 3, 3],\n",
       "       [2, 1, 2]])"
      ]
     },
     "execution_count": 134,
     "metadata": {},
     "output_type": "execute_result"
    }
   ],
   "source": [
    "a1"
   ]
  },
  {
   "cell_type": "code",
   "execution_count": 135,
   "id": "a7522c73-9a29-448f-94c4-5dd38181b5d5",
   "metadata": {},
   "outputs": [
    {
     "data": {
      "text/plain": [
       "array([[3, 1, 2],\n",
       "       [3, 3, 3],\n",
       "       [2, 1, 3]])"
      ]
     },
     "execution_count": 135,
     "metadata": {},
     "output_type": "execute_result"
    }
   ],
   "source": [
    "a2"
   ]
  },
  {
   "cell_type": "code",
   "execution_count": 137,
   "id": "db0260cc-7616-4322-8ec2-1720c39f7263",
   "metadata": {},
   "outputs": [
    {
     "data": {
      "text/plain": [
       "array([[6, 2, 6],\n",
       "       [6, 9, 9],\n",
       "       [4, 1, 6]])"
      ]
     },
     "execution_count": 137,
     "metadata": {},
     "output_type": "execute_result"
    }
   ],
   "source": [
    "##this is not a matrix multiplication but it is a multiplication index wise\n",
    "a1*a2"
   ]
  },
  {
   "cell_type": "code",
   "execution_count": 145,
   "id": "8d775ca3-135a-48e4-be7d-1dd7f69d06af",
   "metadata": {},
   "outputs": [
    {
     "data": {
      "text/plain": [
       "array([[18, 11, 19],\n",
       "       [21, 14, 22],\n",
       "       [13,  7, 13]])"
      ]
     },
     "execution_count": 145,
     "metadata": {},
     "output_type": "execute_result"
    }
   ],
   "source": [
    "##this is matrix multiplication\n",
    "np.matmul(a1,a2)"
   ]
  },
  {
   "cell_type": "code",
   "execution_count": 146,
   "id": "bf64ce6c-525b-491b-b416-28b85bce13a5",
   "metadata": {},
   "outputs": [
    {
     "data": {
      "text/plain": [
       "array([[18, 11, 19],\n",
       "       [21, 14, 22],\n",
       "       [13,  7, 13]])"
      ]
     },
     "execution_count": 146,
     "metadata": {},
     "output_type": "execute_result"
    }
   ],
   "source": [
    "##this is matrix multiplication\n",
    "a1@a2"
   ]
  },
  {
   "cell_type": "code",
   "execution_count": 147,
   "id": "21361f75-305d-4c95-a358-92f88032f842",
   "metadata": {},
   "outputs": [
    {
     "data": {
      "text/plain": [
       "array([[2, 2, 3],\n",
       "       [2, 3, 3],\n",
       "       [2, 1, 2]])"
      ]
     },
     "execution_count": 147,
     "metadata": {},
     "output_type": "execute_result"
    }
   ],
   "source": [
    "a1"
   ]
  },
  {
   "cell_type": "code",
   "execution_count": 148,
   "id": "8f3464d7-e19f-4eee-9fca-2897581a8a3d",
   "metadata": {},
   "outputs": [
    {
     "data": {
      "text/plain": [
       "-2.0"
      ]
     },
     "execution_count": 148,
     "metadata": {},
     "output_type": "execute_result"
    }
   ],
   "source": [
    "np.linalg.det(a1)"
   ]
  },
  {
   "cell_type": "code",
   "execution_count": 152,
   "id": "a6e80f8a-92be-46aa-b050-84f44fead1a8",
   "metadata": {},
   "outputs": [],
   "source": [
    "##broadcasting in numpy\n",
    "ar=np.zeros((3,3))"
   ]
  },
  {
   "cell_type": "code",
   "execution_count": 157,
   "id": "2c099ad5-df1d-4773-bd77-9c82140256da",
   "metadata": {},
   "outputs": [],
   "source": [
    "row=np.array([1,2,3])"
   ]
  },
  {
   "cell_type": "code",
   "execution_count": 158,
   "id": "43edaa1a-320b-4e3d-8ca2-c44b77919f01",
   "metadata": {},
   "outputs": [
    {
     "data": {
      "text/plain": [
       "array([[1., 2., 3.],\n",
       "       [1., 2., 3.],\n",
       "       [1., 2., 3.]])"
      ]
     },
     "execution_count": 158,
     "metadata": {},
     "output_type": "execute_result"
    }
   ],
   "source": [
    "ar+row"
   ]
  },
  {
   "cell_type": "code",
   "execution_count": 159,
   "id": "844bdcf1-ed1d-451f-9f0e-5bae3fc77e60",
   "metadata": {},
   "outputs": [],
   "source": [
    "##we are adding row by row this is row wise broadcasting"
   ]
  },
  {
   "cell_type": "code",
   "execution_count": 161,
   "id": "53d00d09-f732-4655-b9e1-53a83d7c3c73",
   "metadata": {},
   "outputs": [],
   "source": [
    "##for broadcasting column wise\n",
    "row2=row.reshape(3,1)"
   ]
  },
  {
   "cell_type": "code",
   "execution_count": 162,
   "id": "ce451f7b-cab3-4908-917e-56239b466e10",
   "metadata": {},
   "outputs": [
    {
     "data": {
      "text/plain": [
       "array([[1., 1., 1.],\n",
       "       [2., 2., 2.],\n",
       "       [3., 3., 3.]])"
      ]
     },
     "execution_count": 162,
     "metadata": {},
     "output_type": "execute_result"
    }
   ],
   "source": [
    "ar+row2"
   ]
  },
  {
   "cell_type": "code",
   "execution_count": 163,
   "id": "19dd8d50-a3eb-42ba-979f-99707f7f6c36",
   "metadata": {},
   "outputs": [
    {
     "data": {
      "text/plain": [
       "array([[1],\n",
       "       [2],\n",
       "       [3]])"
      ]
     },
     "execution_count": 163,
     "metadata": {},
     "output_type": "execute_result"
    }
   ],
   "source": [
    "row2"
   ]
  },
  {
   "cell_type": "code",
   "execution_count": 165,
   "id": "44e1d36c-236c-457b-b906-9811d122d817",
   "metadata": {},
   "outputs": [
    {
     "data": {
      "text/plain": [
       "array([[0.84147098],\n",
       "       [0.90929743],\n",
       "       [0.14112001]])"
      ]
     },
     "execution_count": 165,
     "metadata": {},
     "output_type": "execute_result"
    }
   ],
   "source": [
    "np.sin(row2)"
   ]
  },
  {
   "cell_type": "code",
   "execution_count": 166,
   "id": "f3afb12e-ba30-496b-97c3-5d88ccfb531a",
   "metadata": {},
   "outputs": [
    {
     "data": {
      "text/plain": [
       "array([[1.        ],\n",
       "       [1.41421356],\n",
       "       [1.73205081]])"
      ]
     },
     "execution_count": 166,
     "metadata": {},
     "output_type": "execute_result"
    }
   ],
   "source": [
    "np.sqrt(row2)"
   ]
  },
  {
   "cell_type": "code",
   "execution_count": 168,
   "id": "15073763-6eca-4665-a45a-1842f2790cd5",
   "metadata": {},
   "outputs": [],
   "source": [
    "td=np.array([[1,2,3],[4,5,6]])"
   ]
  },
  {
   "cell_type": "code",
   "execution_count": 169,
   "id": "51a97e98-9b37-433e-85e3-12c47a4c34c2",
   "metadata": {},
   "outputs": [
    {
     "data": {
      "text/plain": [
       "array([[1, 2, 3],\n",
       "       [4, 5, 6]])"
      ]
     },
     "execution_count": 169,
     "metadata": {},
     "output_type": "execute_result"
    }
   ],
   "source": [
    "td"
   ]
  },
  {
   "cell_type": "code",
   "execution_count": 170,
   "id": "6dfcf5c7-658e-474a-a5ea-e58ee92711dd",
   "metadata": {},
   "outputs": [
    {
     "data": {
      "text/plain": [
       "array([[1, 4],\n",
       "       [2, 5],\n",
       "       [3, 6]])"
      ]
     },
     "execution_count": 170,
     "metadata": {},
     "output_type": "execute_result"
    }
   ],
   "source": [
    "td.T"
   ]
  },
  {
   "cell_type": "code",
   "execution_count": 176,
   "id": "3e204d10-d447-4ae0-91fc-cb3ae353c7c3",
   "metadata": {},
   "outputs": [],
   "source": [
    "j=np.array([1,2,3])"
   ]
  },
  {
   "cell_type": "code",
   "execution_count": 177,
   "id": "f3eb7881-457f-412e-9f6e-dcc7f7fa821b",
   "metadata": {},
   "outputs": [
    {
     "data": {
      "text/plain": [
       "array([1, 2, 3])"
      ]
     },
     "execution_count": 177,
     "metadata": {},
     "output_type": "execute_result"
    }
   ],
   "source": [
    "j.T"
   ]
  },
  {
   "cell_type": "code",
   "execution_count": 178,
   "id": "5344c175-3070-4d03-acbc-eebc5f2cd263",
   "metadata": {},
   "outputs": [],
   "source": [
    "k=np.array([[1,2,3]])"
   ]
  },
  {
   "cell_type": "code",
   "execution_count": 180,
   "id": "3ee9b2fc-4e26-42c7-84eb-e50450660a8e",
   "metadata": {},
   "outputs": [
    {
     "data": {
      "text/plain": [
       "array([[1, 2, 3]])"
      ]
     },
     "execution_count": 180,
     "metadata": {},
     "output_type": "execute_result"
    }
   ],
   "source": [
    "k"
   ]
  },
  {
   "cell_type": "code",
   "execution_count": 185,
   "id": "b1120fc8-70c6-4bd6-b914-5ab90ff12dfc",
   "metadata": {},
   "outputs": [
    {
     "data": {
      "text/plain": [
       "array([[1],\n",
       "       [2],\n",
       "       [3]])"
      ]
     },
     "execution_count": 185,
     "metadata": {},
     "output_type": "execute_result"
    }
   ],
   "source": [
    "##transpose of matrix\n",
    "k.T"
   ]
  },
  {
   "cell_type": "code",
   "execution_count": 181,
   "id": "31dee3dd-a89a-4cca-9302-685d4309528f",
   "metadata": {},
   "outputs": [
    {
     "data": {
      "text/plain": [
       "array([[1, 2, 3],\n",
       "       [4, 5, 6]])"
      ]
     },
     "execution_count": 181,
     "metadata": {},
     "output_type": "execute_result"
    }
   ],
   "source": [
    "td"
   ]
  },
  {
   "cell_type": "code",
   "execution_count": 186,
   "id": "fb22ae51-7857-4f76-8445-adb096cbdb31",
   "metadata": {},
   "outputs": [
    {
     "data": {
      "text/plain": [
       "array([1, 2, 3, 4, 5, 6])"
      ]
     },
     "execution_count": 186,
     "metadata": {},
     "output_type": "execute_result"
    }
   ],
   "source": [
    "##converting the matrix into single array\n",
    "td.flatten()"
   ]
  },
  {
   "cell_type": "code",
   "execution_count": 187,
   "id": "f566033b-1777-42c0-9d58-3c2cdb06a44e",
   "metadata": {},
   "outputs": [
    {
     "data": {
      "text/plain": [
       "array([[1, 4],\n",
       "       [2, 5],\n",
       "       [3, 6]])"
      ]
     },
     "execution_count": 187,
     "metadata": {},
     "output_type": "execute_result"
    }
   ],
   "source": [
    "##transpose of matrix\n",
    "td.transpose()"
   ]
  },
  {
   "cell_type": "code",
   "execution_count": 188,
   "id": "ac286096-4213-45e4-928a-8591d3b7927d",
   "metadata": {},
   "outputs": [],
   "source": [
    "##to convert from 1-d to 2-d\n",
    "arr5=np.array([1,2,3,4])"
   ]
  },
  {
   "cell_type": "code",
   "execution_count": 189,
   "id": "837e3380-36b5-4542-a127-564fc1886366",
   "metadata": {},
   "outputs": [
    {
     "data": {
      "text/plain": [
       "array([1, 2, 3, 4])"
      ]
     },
     "execution_count": 189,
     "metadata": {},
     "output_type": "execute_result"
    }
   ],
   "source": [
    "arr5"
   ]
  },
  {
   "cell_type": "code",
   "execution_count": 190,
   "id": "f369f6f8-b997-40a6-9de9-d5f13fd13fd6",
   "metadata": {},
   "outputs": [
    {
     "data": {
      "text/plain": [
       "1"
      ]
     },
     "execution_count": 190,
     "metadata": {},
     "output_type": "execute_result"
    }
   ],
   "source": [
    "arr5.ndim"
   ]
  },
  {
   "cell_type": "code",
   "execution_count": 191,
   "id": "085d3961-088a-4157-b796-09132e2862f0",
   "metadata": {},
   "outputs": [
    {
     "data": {
      "text/plain": [
       "array([[1],\n",
       "       [2],\n",
       "       [3],\n",
       "       [4]])"
      ]
     },
     "execution_count": 191,
     "metadata": {},
     "output_type": "execute_result"
    }
   ],
   "source": [
    "np.expand_dims(arr5,axis=1)"
   ]
  },
  {
   "cell_type": "code",
   "execution_count": 192,
   "id": "1e5c5545-64b8-4854-92c9-8cd4a4c869ed",
   "metadata": {},
   "outputs": [
    {
     "data": {
      "text/plain": [
       "array([[1, 2, 3, 4]])"
      ]
     },
     "execution_count": 192,
     "metadata": {},
     "output_type": "execute_result"
    }
   ],
   "source": [
    "np.expand_dims(arr5,axis=0)"
   ]
  },
  {
   "cell_type": "code",
   "execution_count": 204,
   "id": "46f8a395-ccb3-441c-91a7-ab89be03d5f2",
   "metadata": {},
   "outputs": [
    {
     "data": {
      "text/plain": [
       "array([1, 4])"
      ]
     },
     "execution_count": 204,
     "metadata": {},
     "output_type": "execute_result"
    }
   ],
   "source": [
    "##here axis=1 means row wise\n",
    "td.min(axis=1)"
   ]
  },
  {
   "cell_type": "code",
   "execution_count": 205,
   "id": "40980837-0250-4019-8418-d6df69af9877",
   "metadata": {},
   "outputs": [
    {
     "data": {
      "text/plain": [
       "array([1, 2, 3])"
      ]
     },
     "execution_count": 205,
     "metadata": {},
     "output_type": "execute_result"
    }
   ],
   "source": [
    "##here axis=0 means column wise\n",
    "np.min(td,axis=0)"
   ]
  },
  {
   "cell_type": "code",
   "execution_count": 206,
   "id": "8c38fc16-0f09-4525-8323-59c7d445d25e",
   "metadata": {},
   "outputs": [
    {
     "data": {
      "text/plain": [
       "array([[1, 2, 3],\n",
       "       [4, 5, 6]])"
      ]
     },
     "execution_count": 206,
     "metadata": {},
     "output_type": "execute_result"
    }
   ],
   "source": [
    "td"
   ]
  },
  {
   "cell_type": "code",
   "execution_count": null,
   "id": "5320dce3-8a7b-42e2-9d45-e5557fc1a72a",
   "metadata": {},
   "outputs": [],
   "source": []
  },
  {
   "cell_type": "code",
   "execution_count": 208,
   "id": "7cef9988-dc05-4d52-862b-8051ac817fb4",
   "metadata": {},
   "outputs": [
    {
     "data": {
      "text/plain": [
       "array([[[1, 2, 3]],\n",
       "\n",
       "       [[4, 5, 6]]])"
      ]
     },
     "execution_count": 208,
     "metadata": {},
     "output_type": "execute_result"
    }
   ],
   "source": [
    "np.expand_dims(td,axis=1)"
   ]
  },
  {
   "cell_type": "code",
   "execution_count": 209,
   "id": "60677fe0-3497-42f5-8095-46313c9ef33e",
   "metadata": {},
   "outputs": [],
   "source": [
    "arr6=np.array([[1],[2],[3]])"
   ]
  },
  {
   "cell_type": "code",
   "execution_count": 210,
   "id": "c8522dae-8a13-48db-96d3-9f863244a5f5",
   "metadata": {},
   "outputs": [
    {
     "data": {
      "text/plain": [
       "array([[1],\n",
       "       [2],\n",
       "       [3]])"
      ]
     },
     "execution_count": 210,
     "metadata": {},
     "output_type": "execute_result"
    }
   ],
   "source": [
    "arr6"
   ]
  },
  {
   "cell_type": "code",
   "execution_count": 211,
   "id": "4b9d4e51-b680-4002-8927-34356ba4a49a",
   "metadata": {},
   "outputs": [
    {
     "data": {
      "text/plain": [
       "array([1, 2, 3])"
      ]
     },
     "execution_count": 211,
     "metadata": {},
     "output_type": "execute_result"
    }
   ],
   "source": [
    "np.squeeze(arr6)"
   ]
  },
  {
   "cell_type": "code",
   "execution_count": 212,
   "id": "de93061a-74d2-41fe-9531-d9a169a9d71b",
   "metadata": {},
   "outputs": [],
   "source": [
    "arr7=np.array([1,2,1,3])"
   ]
  },
  {
   "cell_type": "code",
   "execution_count": 225,
   "id": "2437999e-cc44-45f1-830a-b484db965064",
   "metadata": {},
   "outputs": [
    {
     "data": {
      "text/plain": [
       "array([1, 1, 1, 2, 2, 2, 1, 1, 1, 3, 3, 3])"
      ]
     },
     "execution_count": 225,
     "metadata": {},
     "output_type": "execute_result"
    }
   ],
   "source": [
    "np.repeat(arr7,3)"
   ]
  },
  {
   "cell_type": "code",
   "execution_count": 226,
   "id": "f20f9513-a25a-452f-9ce7-b86e8d83183b",
   "metadata": {},
   "outputs": [],
   "source": [
    "##shifting the positions of elements in right\n",
    "arr8=np.array([4,5,6,7,8])"
   ]
  },
  {
   "cell_type": "code",
   "execution_count": 227,
   "id": "71ff64d0-2c9b-4de7-a491-238224d700f0",
   "metadata": {},
   "outputs": [
    {
     "data": {
      "text/plain": [
       "array([4, 5, 6, 7, 8])"
      ]
     },
     "execution_count": 227,
     "metadata": {},
     "output_type": "execute_result"
    }
   ],
   "source": [
    "arr8"
   ]
  },
  {
   "cell_type": "code",
   "execution_count": 228,
   "id": "a644486f-ee6e-4280-8049-af20c06bb125",
   "metadata": {},
   "outputs": [
    {
     "data": {
      "text/plain": [
       "array([7, 8, 4, 5, 6])"
      ]
     },
     "execution_count": 228,
     "metadata": {},
     "output_type": "execute_result"
    }
   ],
   "source": [
    "np.roll(arr8,2)"
   ]
  },
  {
   "cell_type": "code",
   "execution_count": 229,
   "id": "db6b94a5-0f7a-4f7b-bc13-25a52fa29c8e",
   "metadata": {},
   "outputs": [
    {
     "data": {
      "text/plain": [
       "array([[4, 0, 0, 0, 0],\n",
       "       [0, 5, 0, 0, 0],\n",
       "       [0, 0, 6, 0, 0],\n",
       "       [0, 0, 0, 7, 0],\n",
       "       [0, 0, 0, 0, 8]])"
      ]
     },
     "execution_count": 229,
     "metadata": {},
     "output_type": "execute_result"
    }
   ],
   "source": [
    "np.diag(arr8)"
   ]
  },
  {
   "cell_type": "code",
   "execution_count": 230,
   "id": "6cb8df82-72b2-4dd4-af41-423bf254b6d6",
   "metadata": {},
   "outputs": [
    {
     "data": {
      "text/plain": [
       "array([[1, 2, 3],\n",
       "       [4, 5, 6]])"
      ]
     },
     "execution_count": 230,
     "metadata": {},
     "output_type": "execute_result"
    }
   ],
   "source": [
    "td"
   ]
  },
  {
   "cell_type": "code",
   "execution_count": 231,
   "id": "81c3bf02-f5ab-4299-8529-13f871bd17c4",
   "metadata": {},
   "outputs": [
    {
     "data": {
      "text/plain": [
       "array([[-2, -3, -4],\n",
       "       [-5, -6, -7]])"
      ]
     },
     "execution_count": 231,
     "metadata": {},
     "output_type": "execute_result"
    }
   ],
   "source": [
    "~td"
   ]
  },
  {
   "cell_type": "code",
   "execution_count": 236,
   "id": "49bf9137-d217-48fa-8c5a-4eb9d8c7d453",
   "metadata": {},
   "outputs": [
    {
     "data": {
      "text/plain": [
       "array([234.,  32.,  56.])"
      ]
     },
     "execution_count": 236,
     "metadata": {},
     "output_type": "execute_result"
    }
   ],
   "source": [
    "##string function in numpy\n",
    "np.fromstring('234 32 56',sep=' ')"
   ]
  },
  {
   "cell_type": "code",
   "execution_count": 237,
   "id": "8c0547f8-1203-4c53-9dd6-76233f9f3458",
   "metadata": {},
   "outputs": [],
   "source": [
    "arr9=np.array(['jai','yadav'])"
   ]
  },
  {
   "cell_type": "code",
   "execution_count": 238,
   "id": "223e1c3b-cdc3-4ed2-9ffe-b6635dd3e4c4",
   "metadata": {},
   "outputs": [
    {
     "data": {
      "text/plain": [
       "array(['jai', 'yadav'], dtype='<U5')"
      ]
     },
     "execution_count": 238,
     "metadata": {},
     "output_type": "execute_result"
    }
   ],
   "source": [
    "arr9"
   ]
  },
  {
   "cell_type": "code",
   "execution_count": 239,
   "id": "fee9f9ea-92ba-4678-8a11-3fe43df2d8a3",
   "metadata": {},
   "outputs": [
    {
     "data": {
      "text/plain": [
       "array(['JAI', 'YADAV'], dtype='<U5')"
      ]
     },
     "execution_count": 239,
     "metadata": {},
     "output_type": "execute_result"
    }
   ],
   "source": [
    "np.char.upper(arr9)"
   ]
  },
  {
   "cell_type": "code",
   "execution_count": 240,
   "id": "fdfd4c7d-70b3-4266-8538-be3af325a7c1",
   "metadata": {},
   "outputs": [
    {
     "data": {
      "text/plain": [
       "array(['Jai', 'Yadav'], dtype='<U5')"
      ]
     },
     "execution_count": 240,
     "metadata": {},
     "output_type": "execute_result"
    }
   ],
   "source": [
    "np.char.title(arr9)"
   ]
  },
  {
   "cell_type": "code",
   "execution_count": 242,
   "id": "9279b272-af57-4c44-b0d8-0b83de2f536e",
   "metadata": {},
   "outputs": [],
   "source": [
    "##mathematical functions in numpy"
   ]
  },
  {
   "cell_type": "code",
   "execution_count": 243,
   "id": "3b8a08d2-977c-415c-a957-51777eba5d82",
   "metadata": {},
   "outputs": [
    {
     "data": {
      "text/plain": [
       "array([[1, 2, 3],\n",
       "       [4, 5, 6]])"
      ]
     },
     "execution_count": 243,
     "metadata": {},
     "output_type": "execute_result"
    }
   ],
   "source": [
    "td"
   ]
  },
  {
   "cell_type": "code",
   "execution_count": 244,
   "id": "c4011e2b-97eb-459b-b4b2-184428ab44d3",
   "metadata": {},
   "outputs": [
    {
     "data": {
      "text/plain": [
       "array([[ 0.84147098,  0.90929743,  0.14112001],\n",
       "       [-0.7568025 , -0.95892427, -0.2794155 ]])"
      ]
     },
     "execution_count": 244,
     "metadata": {},
     "output_type": "execute_result"
    }
   ],
   "source": [
    "np.sin(td)"
   ]
  },
  {
   "cell_type": "code",
   "execution_count": 245,
   "id": "bb013700-1c0c-4e3d-9994-63af64890eb8",
   "metadata": {},
   "outputs": [
    {
     "data": {
      "text/plain": [
       "array([[0.        , 1.        , 1.5849625 ],\n",
       "       [2.        , 2.32192809, 2.5849625 ]])"
      ]
     },
     "execution_count": 245,
     "metadata": {},
     "output_type": "execute_result"
    }
   ],
   "source": [
    "np.log2(td)"
   ]
  },
  {
   "cell_type": "code",
   "execution_count": 246,
   "id": "38e1309e-6260-4470-bb99-0d18c8c835af",
   "metadata": {},
   "outputs": [
    {
     "data": {
      "text/plain": [
       "array([[0.        , 0.30103   , 0.47712125],\n",
       "       [0.60205999, 0.69897   , 0.77815125]])"
      ]
     },
     "execution_count": 246,
     "metadata": {},
     "output_type": "execute_result"
    }
   ],
   "source": [
    "np.log10(td)"
   ]
  },
  {
   "cell_type": "code",
   "execution_count": 249,
   "id": "ec43b253-e631-4226-b326-f04d01905c95",
   "metadata": {},
   "outputs": [
    {
     "data": {
      "text/plain": [
       "array([[  2.71828183,   7.3890561 ,  20.08553692],\n",
       "       [ 54.59815003, 148.4131591 , 403.42879349]])"
      ]
     },
     "execution_count": 249,
     "metadata": {},
     "output_type": "execute_result"
    }
   ],
   "source": [
    "np.exp(td)"
   ]
  },
  {
   "cell_type": "code",
   "execution_count": 250,
   "id": "b0149a72-df53-49ce-a9ac-c1273c64d2b6",
   "metadata": {},
   "outputs": [
    {
     "data": {
      "text/plain": [
       "array([[1.        , 1.41421356, 1.73205081],\n",
       "       [2.        , 2.23606798, 2.44948974]])"
      ]
     },
     "execution_count": 250,
     "metadata": {},
     "output_type": "execute_result"
    }
   ],
   "source": [
    "np.sqrt(td)"
   ]
  },
  {
   "cell_type": "code",
   "execution_count": 252,
   "id": "e3b694c0-7e6b-41c1-9a21-fe5144d60976",
   "metadata": {},
   "outputs": [
    {
     "data": {
      "text/plain": [
       "array([[  1,   8,  27],\n",
       "       [ 64, 125, 216]], dtype=int32)"
      ]
     },
     "execution_count": 252,
     "metadata": {},
     "output_type": "execute_result"
    }
   ],
   "source": [
    "np.power(td,3)"
   ]
  },
  {
   "cell_type": "code",
   "execution_count": 253,
   "id": "a698647f-63cf-4592-8311-9e8b75554cb4",
   "metadata": {},
   "outputs": [
    {
     "data": {
      "text/plain": [
       "1"
      ]
     },
     "execution_count": 253,
     "metadata": {},
     "output_type": "execute_result"
    }
   ],
   "source": [
    "np.min(td)"
   ]
  },
  {
   "cell_type": "code",
   "execution_count": 254,
   "id": "fc054279-8028-41b5-bc19-1b4e84df60e1",
   "metadata": {},
   "outputs": [
    {
     "data": {
      "text/plain": [
       "3.5"
      ]
     },
     "execution_count": 254,
     "metadata": {},
     "output_type": "execute_result"
    }
   ],
   "source": [
    "np.mean(td)"
   ]
  },
  {
   "cell_type": "code",
   "execution_count": 255,
   "id": "a07bde64-3d89-44ed-b9bb-df8b2ecf0818",
   "metadata": {},
   "outputs": [
    {
     "data": {
      "text/plain": [
       "array([[1, 2, 3],\n",
       "       [4, 5, 6]])"
      ]
     },
     "execution_count": 255,
     "metadata": {},
     "output_type": "execute_result"
    }
   ],
   "source": [
    "td"
   ]
  },
  {
   "cell_type": "code",
   "execution_count": 257,
   "id": "50ea972b-fa1f-41b8-94c6-208e18ebf438",
   "metadata": {},
   "outputs": [
    {
     "data": {
      "text/plain": [
       "array([1, 4])"
      ]
     },
     "execution_count": 257,
     "metadata": {},
     "output_type": "execute_result"
    }
   ],
   "source": [
    "np.min(td,axis=1)"
   ]
  },
  {
   "cell_type": "code",
   "execution_count": 262,
   "id": "b5cb2250-65a9-49c8-93e8-eb7e9aff3bb9",
   "metadata": {},
   "outputs": [],
   "source": [
    "tt=np.random.randint(1,10,(3,3))"
   ]
  },
  {
   "cell_type": "code",
   "execution_count": 263,
   "id": "5101c040-8122-4bff-b13b-3e9dcd8849bb",
   "metadata": {},
   "outputs": [
    {
     "data": {
      "text/plain": [
       "array([2, 2, 1])"
      ]
     },
     "execution_count": 263,
     "metadata": {},
     "output_type": "execute_result"
    }
   ],
   "source": [
    "np.min(tt,axis=0)"
   ]
  },
  {
   "cell_type": "code",
   "execution_count": 264,
   "id": "b0bf0051-0a15-47d1-b7a6-acca71d8109e",
   "metadata": {},
   "outputs": [
    {
     "data": {
      "text/plain": [
       "array([[9, 7, 1],\n",
       "       [2, 6, 2],\n",
       "       [3, 2, 2]])"
      ]
     },
     "execution_count": 264,
     "metadata": {},
     "output_type": "execute_result"
    }
   ],
   "source": [
    "tt"
   ]
  },
  {
   "cell_type": "code",
   "execution_count": null,
   "id": "8a248c70-d372-4bf5-81f2-0407d6e7a71a",
   "metadata": {},
   "outputs": [],
   "source": []
  },
  {
   "cell_type": "code",
   "execution_count": 265,
   "id": "19517511-582d-48e3-bc79-bef3c2d40d44",
   "metadata": {},
   "outputs": [
    {
     "data": {
      "text/plain": [
       "array([1, 2, 2])"
      ]
     },
     "execution_count": 265,
     "metadata": {},
     "output_type": "execute_result"
    }
   ],
   "source": [
    "np.min(tt,axis=1)"
   ]
  },
  {
   "cell_type": "code",
   "execution_count": 266,
   "id": "0f944145-9947-46c3-974b-7492c607a1b8",
   "metadata": {},
   "outputs": [
    {
     "data": {
      "text/plain": [
       "array([[1, 7, 9],\n",
       "       [2, 2, 6],\n",
       "       [2, 2, 3]])"
      ]
     },
     "execution_count": 266,
     "metadata": {},
     "output_type": "execute_result"
    }
   ],
   "source": [
    "## search,sort and counting function\n",
    "np.sort(tt)"
   ]
  },
  {
   "cell_type": "code",
   "execution_count": 268,
   "id": "cb70c836-7a06-4805-87ab-bcb8ad9c439f",
   "metadata": {},
   "outputs": [],
   "source": [
    "arr10=np.array([1,23,5,34,32,56,22])"
   ]
  },
  {
   "cell_type": "code",
   "execution_count": 269,
   "id": "34572244-a78a-44b3-a661-2e3ccfb94ec6",
   "metadata": {},
   "outputs": [
    {
     "data": {
      "text/plain": [
       "array([ 1, 23,  5, 34, 32, 56, 22])"
      ]
     },
     "execution_count": 269,
     "metadata": {},
     "output_type": "execute_result"
    }
   ],
   "source": [
    "arr10"
   ]
  },
  {
   "cell_type": "code",
   "execution_count": 281,
   "id": "b4b17b8d-54c3-4cc4-8e5f-0a16798f2789",
   "metadata": {},
   "outputs": [
    {
     "data": {
      "text/plain": [
       "3"
      ]
     },
     "execution_count": 281,
     "metadata": {},
     "output_type": "execute_result"
    }
   ],
   "source": [
    "##it will tell after what index the particular value will fit\n",
    "np.searchsorted(arr10,30)"
   ]
  },
  {
   "cell_type": "code",
   "execution_count": 282,
   "id": "199d4d9f-273b-4a1e-9767-e0b75c09da61",
   "metadata": {},
   "outputs": [
    {
     "data": {
      "text/plain": [
       "array([ 1,  5, 22, 23, 32, 34, 56])"
      ]
     },
     "execution_count": 282,
     "metadata": {},
     "output_type": "execute_result"
    }
   ],
   "source": [
    "np.sort(arr10)"
   ]
  },
  {
   "cell_type": "code",
   "execution_count": null,
   "id": "604a5466-a22b-40a2-972e-98ff891b66d4",
   "metadata": {},
   "outputs": [],
   "source": []
  },
  {
   "cell_type": "code",
   "execution_count": 283,
   "id": "08a604b2-7b39-475a-8c49-19d317444ba8",
   "metadata": {},
   "outputs": [],
   "source": [
    "arr11=np.array([1,2,0,0,5,4,0,7,0])"
   ]
  },
  {
   "cell_type": "code",
   "execution_count": 286,
   "id": "606b287b-0f75-4d19-a861-c0049acf37ed",
   "metadata": {},
   "outputs": [
    {
     "data": {
      "text/plain": [
       "5"
      ]
     },
     "execution_count": 286,
     "metadata": {},
     "output_type": "execute_result"
    }
   ],
   "source": [
    "np.count_nonzero(arr11)"
   ]
  },
  {
   "cell_type": "code",
   "execution_count": 293,
   "id": "17c6c7e0-7a5f-4c31-83cc-e3460158f72b",
   "metadata": {},
   "outputs": [
    {
     "data": {
      "text/plain": [
       "(array([3, 4, 5], dtype=int64),)"
      ]
     },
     "execution_count": 293,
     "metadata": {},
     "output_type": "execute_result"
    }
   ],
   "source": [
    "##it will give the index\n",
    "np.where(arr10>30)"
   ]
  },
  {
   "cell_type": "code",
   "execution_count": 301,
   "id": "478d11cb-1795-41c1-a6fb-120940d1356c",
   "metadata": {},
   "outputs": [
    {
     "data": {
      "text/plain": [
       "array([23, 34, 32, 56, 22])"
      ]
     },
     "execution_count": 301,
     "metadata": {},
     "output_type": "execute_result"
    }
   ],
   "source": [
    "##getting data from array\n",
    "np.extract(arr10>10,arr10)"
   ]
  },
  {
   "cell_type": "code",
   "execution_count": 312,
   "id": "2e4f761d-d6b0-4396-9709-4c03ab226188",
   "metadata": {},
   "outputs": [],
   "source": [
    "##view \n",
    "##view is also solo copy\n",
    "a=np.array([1,2,3,4])"
   ]
  },
  {
   "cell_type": "code",
   "execution_count": 313,
   "id": "07adc5cf-297b-47af-8b10-a1ea965ad1e9",
   "metadata": {},
   "outputs": [],
   "source": [
    "b=a.view()"
   ]
  },
  {
   "cell_type": "code",
   "execution_count": 314,
   "id": "9c2dcfbf-bcd1-432e-a940-7b71e67309e8",
   "metadata": {},
   "outputs": [
    {
     "data": {
      "text/plain": [
       "array([1, 2, 3, 4])"
      ]
     },
     "execution_count": 314,
     "metadata": {},
     "output_type": "execute_result"
    }
   ],
   "source": [
    "b"
   ]
  },
  {
   "cell_type": "code",
   "execution_count": 315,
   "id": "c4f0d881-e396-44de-bbf8-7970c8e35232",
   "metadata": {},
   "outputs": [],
   "source": [
    "b[0]=5"
   ]
  },
  {
   "cell_type": "code",
   "execution_count": 316,
   "id": "d1f14c93-2e7b-4751-876e-aa6ce72d822a",
   "metadata": {},
   "outputs": [
    {
     "data": {
      "text/plain": [
       "array([5, 2, 3, 4])"
      ]
     },
     "execution_count": 316,
     "metadata": {},
     "output_type": "execute_result"
    }
   ],
   "source": [
    "a"
   ]
  },
  {
   "cell_type": "code",
   "execution_count": 317,
   "id": "3415305b-c237-4378-972d-6ccb486d217f",
   "metadata": {},
   "outputs": [],
   "source": [
    "##matrix\n",
    "import numpy.matlib as nm"
   ]
  },
  {
   "cell_type": "code",
   "execution_count": 318,
   "id": "de30633a-c4f7-4dfa-8364-4839361bf4ce",
   "metadata": {},
   "outputs": [
    {
     "data": {
      "text/plain": [
       "matrix([[0., 0., 0., 0.],\n",
       "        [0., 0., 0., 0.],\n",
       "        [0., 0., 0., 0.]])"
      ]
     },
     "execution_count": 318,
     "metadata": {},
     "output_type": "execute_result"
    }
   ],
   "source": [
    "nm.zeros((3,4))"
   ]
  },
  {
   "cell_type": "code",
   "execution_count": 319,
   "id": "fab65db5-c6a8-4202-9f5e-95891228efdb",
   "metadata": {},
   "outputs": [
    {
     "data": {
      "text/plain": [
       "matrix([[1., 1., 1., 1.],\n",
       "        [1., 1., 1., 1.],\n",
       "        [1., 1., 1., 1.],\n",
       "        [1., 1., 1., 1.]])"
      ]
     },
     "execution_count": 319,
     "metadata": {},
     "output_type": "execute_result"
    }
   ],
   "source": [
    "nm.ones((4,4))"
   ]
  },
  {
   "cell_type": "code",
   "execution_count": 321,
   "id": "4324ce28-2535-47ea-8512-0f6556b97a78",
   "metadata": {},
   "outputs": [
    {
     "data": {
      "text/plain": [
       "matrix([[1., 0., 0., 0., 0.],\n",
       "        [0., 1., 0., 0., 0.],\n",
       "        [0., 0., 1., 0., 0.],\n",
       "        [0., 0., 0., 1., 0.],\n",
       "        [0., 0., 0., 0., 1.]])"
      ]
     },
     "execution_count": 321,
     "metadata": {},
     "output_type": "execute_result"
    }
   ],
   "source": [
    "nm.eye(5)"
   ]
  },
  {
   "cell_type": "code",
   "execution_count": 322,
   "id": "d33a36d5-7148-4650-a635-85f4fe1c259f",
   "metadata": {},
   "outputs": [
    {
     "data": {
      "text/plain": [
       "array([[1., 0., 0., 0., 0.],\n",
       "       [0., 1., 0., 0., 0.],\n",
       "       [0., 0., 1., 0., 0.],\n",
       "       [0., 0., 0., 1., 0.],\n",
       "       [0., 0., 0., 0., 1.]])"
      ]
     },
     "execution_count": 322,
     "metadata": {},
     "output_type": "execute_result"
    }
   ],
   "source": [
    "np.eye(5)"
   ]
  },
  {
   "cell_type": "code",
   "execution_count": 323,
   "id": "b3a15216-1be6-49fa-a0e5-ad0e4a50eb8e",
   "metadata": {},
   "outputs": [],
   "source": [
    "##matrix is a subset of array"
   ]
  },
  {
   "cell_type": "code",
   "execution_count": 324,
   "id": "e9ff0a19-5405-451e-aa78-1d9f3283a67b",
   "metadata": {},
   "outputs": [
    {
     "data": {
      "text/plain": [
       "array([[2, 2, 3],\n",
       "       [2, 3, 3],\n",
       "       [2, 1, 2]])"
      ]
     },
     "execution_count": 324,
     "metadata": {},
     "output_type": "execute_result"
    }
   ],
   "source": [
    "a1"
   ]
  },
  {
   "cell_type": "code",
   "execution_count": 325,
   "id": "f5c7b8ed-e3a4-41cf-8855-7d8ff88100d5",
   "metadata": {},
   "outputs": [
    {
     "data": {
      "text/plain": [
       "array([[3, 1, 2],\n",
       "       [3, 3, 3],\n",
       "       [2, 1, 3]])"
      ]
     },
     "execution_count": 325,
     "metadata": {},
     "output_type": "execute_result"
    }
   ],
   "source": [
    "a2"
   ]
  },
  {
   "cell_type": "code",
   "execution_count": 330,
   "id": "193cd07c-b3f2-44ec-b14d-2212703d88d0",
   "metadata": {},
   "outputs": [
    {
     "data": {
      "text/plain": [
       "array([[18, 11, 19],\n",
       "       [21, 14, 22],\n",
       "       [13,  7, 13]])"
      ]
     },
     "execution_count": 330,
     "metadata": {},
     "output_type": "execute_result"
    }
   ],
   "source": [
    "##matrix multiplication\n",
    "np.dot(a1,a2)"
   ]
  },
  {
   "cell_type": "code",
   "execution_count": 331,
   "id": "0e8b03a0-43f1-47fd-b248-2dd093ba5a7b",
   "metadata": {},
   "outputs": [
    {
     "data": {
      "text/plain": [
       "array([[18, 11, 19],\n",
       "       [21, 14, 22],\n",
       "       [13,  7, 13]])"
      ]
     },
     "execution_count": 331,
     "metadata": {},
     "output_type": "execute_result"
    }
   ],
   "source": [
    "a1@a2"
   ]
  },
  {
   "cell_type": "code",
   "execution_count": 332,
   "id": "2b8f1a80-df8d-4c6f-a5d2-ba1b92b2bbe2",
   "metadata": {},
   "outputs": [
    {
     "data": {
      "text/plain": [
       "array([[18, 11, 19],\n",
       "       [21, 14, 22],\n",
       "       [13,  7, 13]])"
      ]
     },
     "execution_count": 332,
     "metadata": {},
     "output_type": "execute_result"
    }
   ],
   "source": [
    "np.matmul(a1,a2)"
   ]
  },
  {
   "cell_type": "code",
   "execution_count": 333,
   "id": "a1f3b9b3-7300-4a68-9900-5d3de9866664",
   "metadata": {},
   "outputs": [],
   "source": [
    "p=np.array([[2,3],[4,-3]])"
   ]
  },
  {
   "cell_type": "code",
   "execution_count": 334,
   "id": "ca0465f5-fa9a-48d0-812e-28d8bac301b3",
   "metadata": {},
   "outputs": [],
   "source": [
    "q=np.array([4,2])"
   ]
  },
  {
   "cell_type": "code",
   "execution_count": 337,
   "id": "a9e4fe97-47d7-48ea-b59b-f5bc5b22c012",
   "metadata": {},
   "outputs": [
    {
     "data": {
      "text/plain": [
       "array([1.        , 0.66666667])"
      ]
     },
     "execution_count": 337,
     "metadata": {},
     "output_type": "execute_result"
    }
   ],
   "source": [
    "np.linalg.solve(p,q)"
   ]
  },
  {
   "cell_type": "code",
   "execution_count": null,
   "id": "dd6aeeb7-a937-43a9-9c8d-48bf302f62fb",
   "metadata": {},
   "outputs": [],
   "source": []
  },
  {
   "cell_type": "code",
   "execution_count": null,
   "id": "88af4620-3ff5-449c-838b-3c6f1e8332a9",
   "metadata": {},
   "outputs": [],
   "source": []
  },
  {
   "cell_type": "code",
   "execution_count": null,
   "id": "098633f5-ff80-4662-b603-dede1761142c",
   "metadata": {},
   "outputs": [],
   "source": []
  }
 ],
 "metadata": {
  "kernelspec": {
   "display_name": "Python 3 (ipykernel)",
   "language": "python",
   "name": "python3"
  },
  "language_info": {
   "codemirror_mode": {
    "name": "ipython",
    "version": 3
   },
   "file_extension": ".py",
   "mimetype": "text/x-python",
   "name": "python",
   "nbconvert_exporter": "python",
   "pygments_lexer": "ipython3",
   "version": "3.9.7"
  }
 },
 "nbformat": 4,
 "nbformat_minor": 5
}
