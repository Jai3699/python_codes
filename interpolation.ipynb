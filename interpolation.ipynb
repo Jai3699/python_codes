{
 "cells": [
  {
   "cell_type": "code",
   "execution_count": 1,
   "id": "182369c3-cb7d-488f-b213-8e583740bbdd",
   "metadata": {},
   "outputs": [],
   "source": [
    "import numpy as np"
   ]
  },
  {
   "cell_type": "code",
   "execution_count": 139,
   "id": "9c37c5a3-36a7-4b00-8a96-6a290ccd7a4b",
   "metadata": {},
   "outputs": [],
   "source": [
    "x=[1,2,3,4,5]"
   ]
  },
  {
   "cell_type": "code",
   "execution_count": 140,
   "id": "aabf3280-5318-443a-93b6-4c035dc4dbab",
   "metadata": {},
   "outputs": [],
   "source": [
    "y=[3,5,7,9,11]"
   ]
  },
  {
   "cell_type": "code",
   "execution_count": 141,
   "id": "cafe343e-45d0-4089-aea2-216def4a1e67",
   "metadata": {},
   "outputs": [],
   "source": [
    "import matplotlib.pyplot as plt"
   ]
  },
  {
   "cell_type": "code",
   "execution_count": 142,
   "id": "d782ae38-9b09-4dd2-b78e-9b2804a0f0c3",
   "metadata": {},
   "outputs": [
    {
     "data": {
      "text/plain": [
       "<matplotlib.collections.PathCollection at 0x1abb75d84f0>"
      ]
     },
     "execution_count": 142,
     "metadata": {},
     "output_type": "execute_result"
    },
    {
     "data": {
      "image/png": "[encoded data removed]",
      "text/plain": [
       "<Figure size 432x288 with 1 Axes>"
      ]
     },
     "metadata": {
      "needs_background": "light"
     },
     "output_type": "display_data"
    }
   ],
   "source": [
    "plt.scatter(x,y)"
   ]
  },
  {
   "cell_type": "code",
   "execution_count": 143,
   "id": "0791246d-bc11-4155-9a57-9bfccf9b2e35",
   "metadata": {},
   "outputs": [],
   "source": [
    "x_new=np.linspace(1,5,10)"
   ]
  },
  {
   "cell_type": "code",
   "execution_count": 144,
   "id": "1167370a-2d82-4676-8a68-0062ebbe3696",
   "metadata": {},
   "outputs": [
    {
     "data": {
      "text/plain": [
       "array([1.        , 1.44444444, 1.88888889, 2.33333333, 2.77777778,\n",
       "       3.22222222, 3.66666667, 4.11111111, 4.55555556, 5.        ])"
      ]
     },
     "execution_count": 144,
     "metadata": {},
     "output_type": "execute_result"
    }
   ],
   "source": [
    "x_new"
   ]
  },
  {
   "cell_type": "code",
   "execution_count": 145,
   "id": "9a1ba673-1ff9-4bf6-afc8-f7d3bf69e942",
   "metadata": {},
   "outputs": [],
   "source": [
    "## interpolate data using linear interpolation\n",
    "y_intrp=np.interp(x_new,x,y)"
   ]
  },
  {
   "cell_type": "code",
   "execution_count": 146,
   "id": "5648bfad-f142-4d97-8114-54b5fb5dc15b",
   "metadata": {},
   "outputs": [
    {
     "data": {
      "text/plain": [
       "array([ 3.        ,  3.88888889,  4.77777778,  5.66666667,  6.55555556,\n",
       "        7.44444444,  8.33333333,  9.22222222, 10.11111111, 11.        ])"
      ]
     },
     "execution_count": 146,
     "metadata": {},
     "output_type": "execute_result"
    }
   ],
   "source": [
    "y_intrp"
   ]
  },
  {
   "cell_type": "code",
   "execution_count": 147,
   "id": "72cef108-0aae-46ca-94ca-c30285362640",
   "metadata": {},
   "outputs": [
    {
     "data": {
      "text/plain": [
       "<matplotlib.collections.PathCollection at 0x1abb75cddc0>"
      ]
     },
     "execution_count": 147,
     "metadata": {},
     "output_type": "execute_result"
    },
    {
     "data": {
      "image/png": "[encoded data removed]",
      "text/plain": [
       "<Figure size 432x288 with 1 Axes>"
      ]
     },
     "metadata": {
      "needs_background": "light"
     },
     "output_type": "display_data"
    }
   ],
   "source": [
    "plt.scatter(x_new,y_intrp)"
   ]
  },
  {
   "cell_type": "code",
   "execution_count": 155,
   "id": "4b354985-2cc4-497d-8b02-cd1d04fe03e5",
   "metadata": {},
   "outputs": [],
   "source": [
    "## using Scipi\n",
    "from scipy.interpolate import interp1d"
   ]
  },
  {
   "cell_type": "code",
   "execution_count": 156,
   "id": "97cfafcb-8cd9-456c-966f-b5747ad35198",
   "metadata": {},
   "outputs": [],
   "source": [
    "f=interp1d(x,y,kind='linear')"
   ]
  },
  {
   "cell_type": "code",
   "execution_count": 157,
   "id": "321bd1e1-56bf-4627-8ac0-870eddc33e25",
   "metadata": {},
   "outputs": [],
   "source": [
    "x_new=np.linspace(1,5,10)"
   ]
  },
  {
   "cell_type": "code",
   "execution_count": 158,
   "id": "d4bc8e54-1948-4b33-a9c5-7e41e1031b49",
   "metadata": {},
   "outputs": [],
   "source": [
    "y_interp=f(x_new)"
   ]
  },
  {
   "cell_type": "code",
   "execution_count": 159,
   "id": "c5e92ea4-e89a-4483-83ec-b1590739224a",
   "metadata": {},
   "outputs": [
    {
     "data": {
      "text/plain": [
       "<matplotlib.collections.PathCollection at 0x1abb8a8b9d0>"
      ]
     },
     "execution_count": 159,
     "metadata": {},
     "output_type": "execute_result"
    },
    {
     "data": {
      "image/png": "[encoded data removed]",
      "text/plain": [
       "<Figure size 432x288 with 1 Axes>"
      ]
     },
     "metadata": {
      "needs_background": "light"
     },
     "output_type": "display_data"
    }
   ],
   "source": [
    "plt.scatter(x_new,y_interp)"
   ]
  },
  {
   "cell_type": "code",
   "execution_count": null,
   "id": "708f852c-b4eb-49f6-a314-66577d640901",
   "metadata": {},
   "outputs": [],
   "source": []
  },
  {
   "cell_type": "code",
   "execution_count": null,
   "id": "f16d7cf2-8906-4b92-b516-c74a7eaeb7f2",
   "metadata": {},
   "outputs": [],
   "source": []
  },
  {
   "cell_type": "markdown",
   "id": "19eec8d0-dd7b-43b1-b726-576d4a4b85ec",
   "metadata": {},
   "source": [
    "## cubic interpolation using scipi"
   ]
  },
  {
   "cell_type": "code",
   "execution_count": 165,
   "id": "23377a29-c0d6-4205-81fe-611ca634caa3",
   "metadata": {},
   "outputs": [],
   "source": [
    "from scipy.interpolate import interp1d"
   ]
  },
  {
   "cell_type": "code",
   "execution_count": 166,
   "id": "1f51f4fd-ecac-4377-874d-0a5e9ded40f3",
   "metadata": {},
   "outputs": [],
   "source": [
    "x=[1,2,3,4,5]"
   ]
  },
  {
   "cell_type": "code",
   "execution_count": 167,
   "id": "4798a8fc-9e87-452c-b816-1c30170b07b4",
   "metadata": {},
   "outputs": [],
   "source": [
    "y=[1,8,27,64,125]"
   ]
  },
  {
   "cell_type": "code",
   "execution_count": 172,
   "id": "542f4ca9-863a-4c66-8636-7071f81325f6",
   "metadata": {},
   "outputs": [
    {
     "data": {
      "text/plain": [
       "<matplotlib.collections.PathCollection at 0x1abbab848e0>"
      ]
     },
     "execution_count": 172,
     "metadata": {},
     "output_type": "execute_result"
    },
    {
     "data": {
      "image/png": "[encoded data removed]",
      "text/plain": [
       "<Figure size 432x288 with 1 Axes>"
      ]
     },
     "metadata": {
      "needs_background": "light"
     },
     "output_type": "display_data"
    }
   ],
   "source": [
    "plt.scatter(x,y)"
   ]
  },
  {
   "cell_type": "code",
   "execution_count": 173,
   "id": "0de56680-a241-4574-81f0-990288662c46",
   "metadata": {},
   "outputs": [],
   "source": [
    "f=interp1d(x,y,kind='cubic')"
   ]
  },
  {
   "cell_type": "code",
   "execution_count": 174,
   "id": "f6502ec5-c03b-42c1-82ff-bd8b9153b404",
   "metadata": {},
   "outputs": [],
   "source": [
    "x_new=np.linspace(1,5,10)\n",
    "y_interp=f(x_new)"
   ]
  },
  {
   "cell_type": "code",
   "execution_count": 175,
   "id": "830c6fa3-91ae-4e12-9f05-761820efe4b2",
   "metadata": {},
   "outputs": [
    {
     "data": {
      "text/plain": [
       "array([  1.        ,   3.01371742,   6.739369  ,  12.7037037 ,\n",
       "        21.43347051,  33.45541838,  49.2962963 ,  69.48285322,\n",
       "        94.54183813, 125.        ])"
      ]
     },
     "execution_count": 175,
     "metadata": {},
     "output_type": "execute_result"
    }
   ],
   "source": [
    "y_interp"
   ]
  },
  {
   "cell_type": "code",
   "execution_count": 176,
   "id": "726a8b29-d774-465d-a29d-7d7d2768542f",
   "metadata": {},
   "outputs": [
    {
     "data": {
      "text/plain": [
       "<matplotlib.collections.PathCollection at 0x1abbabe1130>"
      ]
     },
     "execution_count": 176,
     "metadata": {},
     "output_type": "execute_result"
    },
    {
     "data": {
      "image/png": "[encoded data removed]",
      "text/plain": [
       "<Figure size 432x288 with 1 Axes>"
      ]
     },
     "metadata": {
      "needs_background": "light"
     },
     "output_type": "display_data"
    }
   ],
   "source": [
    "plt.scatter(x_new,y_interp)"
   ]
  },
  {
   "cell_type": "markdown",
   "id": "b00f5354-69b4-4742-9e70-e1fe9556da09",
   "metadata": {},
   "source": [
    "## polynomial interpolation "
   ]
  },
  {
   "cell_type": "code",
   "execution_count": 177,
   "id": "6aa68948-469b-46b0-9fb3-0a4655f6f658",
   "metadata": {},
   "outputs": [],
   "source": [
    "x=[1,2,3,4,5]\n",
    "y=[1,4,9,16,25]"
   ]
  },
  {
   "cell_type": "code",
   "execution_count": 178,
   "id": "67f5e762-d504-4e26-bf2f-adbb63c3ab80",
   "metadata": {},
   "outputs": [
    {
     "data": {
      "text/plain": [
       "<matplotlib.collections.PathCollection at 0x1abbac6a640>"
      ]
     },
     "execution_count": 178,
     "metadata": {},
     "output_type": "execute_result"
    },
    {
     "data": {
      "image/png": "[encoded data removed]",
      "text/plain": [
       "<Figure size 432x288 with 1 Axes>"
      ]
     },
     "metadata": {
      "needs_background": "light"
     },
     "output_type": "display_data"
    }
   ],
   "source": [
    "plt.scatter(x,y)"
   ]
  },
  {
   "cell_type": "code",
   "execution_count": 180,
   "id": "fe5ae9c5-7f47-4121-90e0-0d777ec755e2",
   "metadata": {},
   "outputs": [],
   "source": [
    "pf=np.polyfit(x,y,2) ## fit a 2nd degree polynomial to data"
   ]
  },
  {
   "cell_type": "code",
   "execution_count": 181,
   "id": "5693f395-ed33-41ad-8a9b-8ed3a2a92678",
   "metadata": {},
   "outputs": [],
   "source": [
    "x_new=np.linspace(1,5,10)\n",
    "y_interp=np.polyval(pf,x_new)"
   ]
  },
  {
   "cell_type": "code",
   "execution_count": 182,
   "id": "5636b9bb-6ed4-43f4-ae44-832cb49467d5",
   "metadata": {},
   "outputs": [
    {
     "data": {
      "text/plain": [
       "<matplotlib.collections.PathCollection at 0x1abbac62400>"
      ]
     },
     "execution_count": 182,
     "metadata": {},
     "output_type": "execute_result"
    },
    {
     "data": {
      "image/png": "[encoded data removed]",
      "text/plain": [
       "<Figure size 432x288 with 1 Axes>"
      ]
     },
     "metadata": {
      "needs_background": "light"
     },
     "output_type": "display_data"
    }
   ],
   "source": [
    "plt.scatter(x_new,y_interp)"
   ]
  },
  {
   "cell_type": "code",
   "execution_count": null,
   "id": "384cba2a-f1ac-448a-882a-3624fcad3476",
   "metadata": {},
   "outputs": [],
   "source": []
  }
 ],
 "metadata": {
  "kernelspec": {
   "display_name": "Python 3 (ipykernel)",
   "language": "python",
   "name": "python3"
  },
  "language_info": {
   "codemirror_mode": {
    "name": "ipython",
    "version": 3
   },
   "file_extension": ".py",
   "mimetype": "text/x-python",
   "name": "python",
   "nbconvert_exporter": "python",
   "pygments_lexer": "ipython3",
   "version": "3.9.7"
  }
 },
 "nbformat": 4,
 "nbformat_minor": 5
}
