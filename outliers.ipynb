{
 "cells": [
  {
   "cell_type": "code",
   "execution_count": 1,
   "id": "892e3576-d317-4c1e-9aec-18f484620f65",
   "metadata": {},
   "outputs": [],
   "source": [
    "import numpy as np"
   ]
  },
  {
   "cell_type": "code",
   "execution_count": 2,
   "id": "ab6fc99c-b6a4-461e-a1d2-80c28d1c7951",
   "metadata": {},
   "outputs": [],
   "source": [
    "lst=[45,50,66,70,76,56,88,78,95,98,1000,1100]"
   ]
  },
  {
   "cell_type": "code",
   "execution_count": 4,
   "id": "c5ebd9df-4886-4fdd-b2bf-d57aa8ce4823",
   "metadata": {},
   "outputs": [],
   "source": [
    "import seaborn as sns"
   ]
  },
  {
   "cell_type": "code",
   "execution_count": 5,
   "id": "e58abd08-511f-457d-9e02-8a3b72636075",
   "metadata": {},
   "outputs": [
    {
     "data": {
      "text/plain": [
       "<AxesSubplot:>"
      ]
     },
     "execution_count": 5,
     "metadata": {},
     "output_type": "execute_result"
    },
    {
     "data": {
      "image/png": "[encoded data removed]",
      "text/plain": [
       "<Figure size 432x288 with 1 Axes>"
      ]
     },
     "metadata": {
      "needs_background": "light"
     },
     "output_type": "display_data"
    }
   ],
   "source": [
    "sns.boxenplot(lst)"
   ]
  },
  {
   "cell_type": "code",
   "execution_count": 34,
   "id": "1e74b32b-eb85-435d-9ccc-aeb46d892da3",
   "metadata": {},
   "outputs": [],
   "source": [
    "percentile_25=np.percentile(lst,[25])"
   ]
  },
  {
   "cell_type": "code",
   "execution_count": 35,
   "id": "e4abdacb-803e-4b1d-ad0f-4e04c157a6c6",
   "metadata": {},
   "outputs": [
    {
     "data": {
      "text/plain": [
       "array([63.5])"
      ]
     },
     "execution_count": 35,
     "metadata": {},
     "output_type": "execute_result"
    }
   ],
   "source": [
    "percentile_25"
   ]
  },
  {
   "cell_type": "code",
   "execution_count": 36,
   "id": "2df137a8-872e-4b7d-936d-b94992fe81ff",
   "metadata": {},
   "outputs": [
    {
     "data": {
      "text/plain": [
       "[45, 50, 66, 70, 76, 56, 88, 78, 95, 98, 1000, 1100]"
      ]
     },
     "execution_count": 36,
     "metadata": {},
     "output_type": "execute_result"
    }
   ],
   "source": [
    "lst"
   ]
  },
  {
   "cell_type": "code",
   "execution_count": 37,
   "id": "666d9192-00df-4c1c-876c-594bcfd18898",
   "metadata": {},
   "outputs": [],
   "source": [
    "## using quantile\n",
    "min,q1,median,q3,max=np.quantile(lst,[0,0.25,0.50,0.75,1])"
   ]
  },
  {
   "cell_type": "code",
   "execution_count": 38,
   "id": "929036d3-fff5-4b28-a83b-85cc9f2e1fe9",
   "metadata": {},
   "outputs": [],
   "source": [
    "IQR=q3-q1"
   ]
  },
  {
   "cell_type": "code",
   "execution_count": 39,
   "id": "086217ee-8260-4e05-b9fd-64dd87b43196",
   "metadata": {},
   "outputs": [],
   "source": [
    "lower_fence=q1-1.5*(IQR)"
   ]
  },
  {
   "cell_type": "code",
   "execution_count": 40,
   "id": "c9d47730-0e66-4c8f-af04-ca0a7bd4a551",
   "metadata": {},
   "outputs": [],
   "source": [
    "upper_fence=q3+1.5*(IQR)"
   ]
  },
  {
   "cell_type": "code",
   "execution_count": 41,
   "id": "d21c125d-e690-44ea-9e14-3d1a95159046",
   "metadata": {},
   "outputs": [],
   "source": [
    "lst_updated=[]"
   ]
  },
  {
   "cell_type": "code",
   "execution_count": 42,
   "id": "a8334864-642e-41ce-ac17-fe26aed2495a",
   "metadata": {},
   "outputs": [],
   "source": [
    "for i in lst:\n",
    "    if i>=lower_fence and i<=upper_fence:\n",
    "        lst_updated.append(i)\n",
    "            \n",
    "        \n",
    "        "
   ]
  },
  {
   "cell_type": "code",
   "execution_count": 43,
   "id": "a142eac2-c5dd-4535-9efe-a281950ff52c",
   "metadata": {},
   "outputs": [
    {
     "data": {
      "text/plain": [
       "[45, 50, 66, 70, 76, 56, 88, 78, 95, 98]"
      ]
     },
     "execution_count": 43,
     "metadata": {},
     "output_type": "execute_result"
    }
   ],
   "source": [
    "lst_updated"
   ]
  },
  {
   "cell_type": "code",
   "execution_count": 44,
   "id": "8efaa924-563b-4a31-ad19-3ae1c54ab97a",
   "metadata": {},
   "outputs": [
    {
     "data": {
      "text/plain": [
       "<AxesSubplot:>"
      ]
     },
     "execution_count": 44,
     "metadata": {},
     "output_type": "execute_result"
    },
    {
     "data": {
      "image/png": "[encoded data removed]",
      "text/plain": [
       "<Figure size 432x288 with 1 Axes>"
      ]
     },
     "metadata": {
      "needs_background": "light"
     },
     "output_type": "display_data"
    }
   ],
   "source": [
    "sns.boxenplot(lst_updated)"
   ]
  },
  {
   "cell_type": "code",
   "execution_count": null,
   "id": "12564147-409a-4c60-8346-1a763ae2221e",
   "metadata": {},
   "outputs": [],
   "source": []
  }
 ],
 "metadata": {
  "kernelspec": {
   "display_name": "Python 3 (ipykernel)",
   "language": "python",
   "name": "python3"
  },
  "language_info": {
   "codemirror_mode": {
    "name": "ipython",
    "version": 3
   },
   "file_extension": ".py",
   "mimetype": "text/x-python",
   "name": "python",
   "nbconvert_exporter": "python",
   "pygments_lexer": "ipython3",
   "version": "3.9.7"
  }
 },
 "nbformat": 4,
 "nbformat_minor": 5
}
