{
 "cells": [
  {
   "cell_type": "code",
   "execution_count": 1,
   "id": "ea48a31e-ba32-4b09-a938-7436c1f7c92d",
   "metadata": {},
   "outputs": [],
   "source": [
    "s=\"hello how are you\""
   ]
  },
  {
   "cell_type": "code",
   "execution_count": 2,
   "id": "540a1eb6-6a53-4f1d-912c-e8c07c301dc9",
   "metadata": {},
   "outputs": [
    {
     "data": {
      "text/plain": [
       "'hello how are you'"
      ]
     },
     "execution_count": 2,
     "metadata": {},
     "output_type": "execute_result"
    }
   ],
   "source": [
    "s"
   ]
  },
  {
   "cell_type": "code",
   "execution_count": 3,
   "id": "e3c6686e-d970-4c2c-ad23-55d73c62c6f6",
   "metadata": {},
   "outputs": [
    {
     "ename": "ValueError",
     "evalue": "invalid literal for int() with base 10: 'hello how are you'",
     "output_type": "error",
     "traceback": [
      "\u001b[1;31m---------------------------------------------------------------------------\u001b[0m",
      "\u001b[1;31mValueError\u001b[0m                                Traceback (most recent call last)",
      "Input \u001b[1;32mIn [3]\u001b[0m, in \u001b[0;36m<cell line: 1>\u001b[1;34m()\u001b[0m\n\u001b[1;32m----> 1\u001b[0m x\u001b[38;5;241m=\u001b[39m\u001b[38;5;28mint\u001b[39m(s)\n",
      "\u001b[1;31mValueError\u001b[0m: invalid literal for int() with base 10: 'hello how are you'"
     ]
    }
   ],
   "source": [
    "x=int(s)"
   ]
  },
  {
   "cell_type": "code",
   "execution_count": 4,
   "id": "5fe3d403-b27e-4c71-a6d5-a3f9589b1443",
   "metadata": {},
   "outputs": [],
   "source": [
    "x=10\n"
   ]
  },
  {
   "cell_type": "code",
   "execution_count": 5,
   "id": "b55fec1b-c008-45b9-935b-0bc69bfe46db",
   "metadata": {},
   "outputs": [
    {
     "data": {
      "text/plain": [
       "int"
      ]
     },
     "execution_count": 5,
     "metadata": {},
     "output_type": "execute_result"
    }
   ],
   "source": [
    "type(x)"
   ]
  },
  {
   "cell_type": "code",
   "execution_count": 6,
   "id": "83f9c34c-e2be-4752-af09-91c466abb94d",
   "metadata": {},
   "outputs": [],
   "source": [
    "a=str(x)"
   ]
  },
  {
   "cell_type": "code",
   "execution_count": 7,
   "id": "1c1e4608-7f94-4f41-8f12-5db4a2410685",
   "metadata": {},
   "outputs": [
    {
     "data": {
      "text/plain": [
       "str"
      ]
     },
     "execution_count": 7,
     "metadata": {},
     "output_type": "execute_result"
    }
   ],
   "source": [
    "type(a)"
   ]
  },
  {
   "cell_type": "code",
   "execution_count": 8,
   "id": "01f7298a-4240-4cd1-82ba-3a00e90538f3",
   "metadata": {},
   "outputs": [
    {
     "data": {
      "text/plain": [
       "'10'"
      ]
     },
     "execution_count": 8,
     "metadata": {},
     "output_type": "execute_result"
    }
   ],
   "source": [
    "a"
   ]
  },
  {
   "cell_type": "code",
   "execution_count": 9,
   "id": "83c641ef-17ad-485d-aa66-073cd15afba6",
   "metadata": {},
   "outputs": [
    {
     "data": {
      "text/plain": [
       "'jai1'"
      ]
     },
     "execution_count": 9,
     "metadata": {},
     "output_type": "execute_result"
    }
   ],
   "source": [
    "'jai'+str(1)"
   ]
  },
  {
   "cell_type": "code",
   "execution_count": 10,
   "id": "35b93852-5ffb-4c25-ab0d-7f9d7426d690",
   "metadata": {},
   "outputs": [],
   "source": [
    "a=1\n"
   ]
  },
  {
   "cell_type": "code",
   "execution_count": 11,
   "id": "12326c53-5b03-47e4-a11b-f0ee0a3c33f9",
   "metadata": {},
   "outputs": [
    {
     "data": {
      "text/plain": [
       "'yadav1'"
      ]
     },
     "execution_count": 11,
     "metadata": {},
     "output_type": "execute_result"
    }
   ],
   "source": [
    "'yadav'+str(a)"
   ]
  },
  {
   "cell_type": "code",
   "execution_count": 22,
   "id": "76b6c4fa-1fbd-4c04-99cc-877501e4c70e",
   "metadata": {},
   "outputs": [],
   "source": [
    "l=[1,32,12,54,12,65,89,4,65]"
   ]
  },
  {
   "cell_type": "code",
   "execution_count": 23,
   "id": "56fcd99a-3301-4919-8932-64b36f7294d6",
   "metadata": {},
   "outputs": [
    {
     "data": {
      "text/plain": [
       "[1, 32, 12, 54, 12, 65, 89, 4, 65]"
      ]
     },
     "execution_count": 23,
     "metadata": {},
     "output_type": "execute_result"
    }
   ],
   "source": [
    "l"
   ]
  },
  {
   "cell_type": "code",
   "execution_count": 24,
   "id": "693ea909-098b-418b-b551-9464de6b45b1",
   "metadata": {},
   "outputs": [],
   "source": [
    "l2=[21,43,54,34,'jai',(1,2,3,89,56)]"
   ]
  },
  {
   "cell_type": "code",
   "execution_count": 25,
   "id": "9d3ab03d-50d8-4e95-8735-d35d964a5558",
   "metadata": {},
   "outputs": [
    {
     "data": {
      "text/plain": [
       "[21, 43, 54, 34, 'jai', (1, 2, 3, 89, 56)]"
      ]
     },
     "execution_count": 25,
     "metadata": {},
     "output_type": "execute_result"
    }
   ],
   "source": [
    "l2"
   ]
  },
  {
   "cell_type": "code",
   "execution_count": 26,
   "id": "16815245-ec26-4c8a-8c05-978c5bed97f8",
   "metadata": {},
   "outputs": [],
   "source": [
    "l.append(l2)"
   ]
  },
  {
   "cell_type": "code",
   "execution_count": 27,
   "id": "9c3702c1-f5ad-45c6-8c95-c7c97ca93591",
   "metadata": {},
   "outputs": [
    {
     "data": {
      "text/plain": [
       "[1, 32, 12, 54, 12, 65, 89, 4, 65, [21, 43, 54, 34, 'jai', (1, 2, 3, 89, 56)]]"
      ]
     },
     "execution_count": 27,
     "metadata": {},
     "output_type": "execute_result"
    }
   ],
   "source": [
    "l"
   ]
  },
  {
   "cell_type": "code",
   "execution_count": 29,
   "id": "50667413-452d-40d3-a22e-ea4377a68978",
   "metadata": {},
   "outputs": [],
   "source": [
    "l.extend(l2)"
   ]
  },
  {
   "cell_type": "code",
   "execution_count": 30,
   "id": "1fbf1f9f-e891-4e89-aece-19ed1245a600",
   "metadata": {},
   "outputs": [
    {
     "data": {
      "text/plain": [
       "[1,\n",
       " 32,\n",
       " 12,\n",
       " 54,\n",
       " 12,\n",
       " 65,\n",
       " 89,\n",
       " 4,\n",
       " 65,\n",
       " [21, 43, 54, 34, 'jai', (1, 2, 3, 89, 56)],\n",
       " 21,\n",
       " 43,\n",
       " 54,\n",
       " 34,\n",
       " 'jai',\n",
       " (1, 2, 3, 89, 56)]"
      ]
     },
     "execution_count": 30,
     "metadata": {},
     "output_type": "execute_result"
    }
   ],
   "source": [
    "l"
   ]
  },
  {
   "cell_type": "code",
   "execution_count": 31,
   "id": "cc1f6edf-7897-4d46-b3ab-66c98f081840",
   "metadata": {},
   "outputs": [],
   "source": [
    "str='hello how are you today'"
   ]
  },
  {
   "cell_type": "code",
   "execution_count": 34,
   "id": "2da98db2-1708-429e-b64b-74afc6de3e8a",
   "metadata": {},
   "outputs": [
    {
     "data": {
      "text/plain": [
       "10"
      ]
     },
     "execution_count": 34,
     "metadata": {},
     "output_type": "execute_result"
    }
   ],
   "source": [
    "str.find('are')"
   ]
  },
  {
   "cell_type": "code",
   "execution_count": 35,
   "id": "80db33c8-98c5-47dd-8e41-a2970e0fd18d",
   "metadata": {},
   "outputs": [
    {
     "data": {
      "text/plain": [
       "10"
      ]
     },
     "execution_count": 35,
     "metadata": {},
     "output_type": "execute_result"
    }
   ],
   "source": [
    "str.index('are')"
   ]
  },
  {
   "cell_type": "code",
   "execution_count": 36,
   "id": "e9da2533-b0a0-4230-b659-25d90aa7b355",
   "metadata": {},
   "outputs": [],
   "source": [
    "l=['jai',23,54,12,356,'yadav']"
   ]
  },
  {
   "cell_type": "code",
   "execution_count": 37,
   "id": "f0806246-557a-4df4-91fd-6d693db653af",
   "metadata": {},
   "outputs": [
    {
     "data": {
      "text/plain": [
       "['jai', 23, 54, 12, 356, 'yadav']"
      ]
     },
     "execution_count": 37,
     "metadata": {},
     "output_type": "execute_result"
    }
   ],
   "source": [
    "l"
   ]
  },
  {
   "cell_type": "code",
   "execution_count": 42,
   "id": "fa14788f-2b2c-4499-8c5a-1b79e164e39a",
   "metadata": {},
   "outputs": [
    {
     "data": {
      "text/plain": [
       "1"
      ]
     },
     "execution_count": 42,
     "metadata": {},
     "output_type": "execute_result"
    }
   ],
   "source": [
    "l.index(23)"
   ]
  },
  {
   "cell_type": "code",
   "execution_count": 43,
   "id": "be4e3c0a-df49-4668-be7a-4159cef0f25f",
   "metadata": {},
   "outputs": [
    {
     "data": {
      "text/plain": [
       "['jai', 23, 54, 12, 356, 'yadav']"
      ]
     },
     "execution_count": 43,
     "metadata": {},
     "output_type": "execute_result"
    }
   ],
   "source": [
    "l"
   ]
  },
  {
   "cell_type": "code",
   "execution_count": 44,
   "id": "b01fa31a-bfa0-444a-8c09-234c2b959684",
   "metadata": {},
   "outputs": [
    {
     "name": "stdout",
     "output_type": "stream",
     "text": [
      "jai\n",
      "23\n",
      "54\n",
      "12\n",
      "356\n",
      "yadav\n"
     ]
    }
   ],
   "source": [
    "for i in l:\n",
    "    print(i)"
   ]
  },
  {
   "cell_type": "code",
   "execution_count": 72,
   "id": "d5ba7c12-a2ff-40c3-9068-0478f275eb6e",
   "metadata": {},
   "outputs": [],
   "source": [
    "l=[1,2,3,4,5,6,7,8,9]"
   ]
  },
  {
   "cell_type": "code",
   "execution_count": 73,
   "id": "333a08dd-7b0f-4ebd-8970-2ec797df411f",
   "metadata": {},
   "outputs": [
    {
     "data": {
      "text/plain": [
       "[1, 2, 3, 4, 5, 6, 7, 8, 9]"
      ]
     },
     "execution_count": 73,
     "metadata": {},
     "output_type": "execute_result"
    }
   ],
   "source": [
    "l"
   ]
  },
  {
   "cell_type": "code",
   "execution_count": 76,
   "id": "f310bd39-50dd-4412-8354-46e832abbf7a",
   "metadata": {},
   "outputs": [],
   "source": [
    "lx=[]"
   ]
  },
  {
   "cell_type": "code",
   "execution_count": 77,
   "id": "c604370d-9c20-4d22-917c-bb35b33412d8",
   "metadata": {},
   "outputs": [],
   "source": [
    "for i in l:\n",
    "    lx.append(i+1)\n",
    "    \n",
    "    "
   ]
  },
  {
   "cell_type": "code",
   "execution_count": 79,
   "id": "a8f9f767-bade-4f6d-94a5-37c5a44c52ec",
   "metadata": {},
   "outputs": [
    {
     "data": {
      "text/plain": [
       "[1, 2, 3, 4, 5, 6, 7, 8, 9]"
      ]
     },
     "execution_count": 79,
     "metadata": {},
     "output_type": "execute_result"
    }
   ],
   "source": [
    "l"
   ]
  },
  {
   "cell_type": "code",
   "execution_count": 83,
   "id": "9eb292a9-53d2-4d66-82ae-3704471ec181",
   "metadata": {},
   "outputs": [
    {
     "data": {
      "text/plain": [
       "[9, 7, 5, 3, 1]"
      ]
     },
     "execution_count": 83,
     "metadata": {},
     "output_type": "execute_result"
    }
   ],
   "source": [
    "l[::-2]"
   ]
  },
  {
   "cell_type": "code",
   "execution_count": 84,
   "id": "20b19f02-9b63-4dd9-a503-ba0db16be0ce",
   "metadata": {},
   "outputs": [
    {
     "data": {
      "text/plain": [
       "[]"
      ]
     },
     "execution_count": 84,
     "metadata": {},
     "output_type": "execute_result"
    }
   ],
   "source": [
    "l[-2:-8:]"
   ]
  },
  {
   "cell_type": "code",
   "execution_count": 140,
   "id": "1d293cfd-bb6e-48d2-a974-b75d637f2cff",
   "metadata": {},
   "outputs": [],
   "source": [
    "dict={123:'jai','yadav':'caste'}"
   ]
  },
  {
   "cell_type": "code",
   "execution_count": 141,
   "id": "fb9c880f-1798-4e23-a1f7-ae37adffb11f",
   "metadata": {},
   "outputs": [
    {
     "data": {
      "text/plain": [
       "{123: 'jai', 'yadav': 'caste'}"
      ]
     },
     "execution_count": 141,
     "metadata": {},
     "output_type": "execute_result"
    }
   ],
   "source": [
    "dict"
   ]
  },
  {
   "cell_type": "code",
   "execution_count": 90,
   "id": "96e02a87-036d-4ab3-a3ac-8774b836c2ce",
   "metadata": {},
   "outputs": [
    {
     "data": {
      "text/plain": [
       "'jai'"
      ]
     },
     "execution_count": 90,
     "metadata": {},
     "output_type": "execute_result"
    }
   ],
   "source": [
    "dict[123]"
   ]
  },
  {
   "cell_type": "code",
   "execution_count": 91,
   "id": "1cb9e11d-2f55-4fb6-a867-d2da6c87b55f",
   "metadata": {},
   "outputs": [],
   "source": [
    "del dict[123]"
   ]
  },
  {
   "cell_type": "code",
   "execution_count": 92,
   "id": "e936ef6e-0b9d-4f0a-8701-20e3b5eb4ef1",
   "metadata": {},
   "outputs": [
    {
     "data": {
      "text/plain": [
       "{'yadav': 'caste'}"
      ]
     },
     "execution_count": 92,
     "metadata": {},
     "output_type": "execute_result"
    }
   ],
   "source": [
    "dict"
   ]
  },
  {
   "cell_type": "code",
   "execution_count": 94,
   "id": "3fe38675-2879-4bff-b549-eeff696b9336",
   "metadata": {},
   "outputs": [],
   "source": [
    "dict.update({123:'jai'})"
   ]
  },
  {
   "cell_type": "code",
   "execution_count": 100,
   "id": "4d0d15b1-ebe9-420d-9555-a25dcecd1823",
   "metadata": {},
   "outputs": [
    {
     "data": {
      "text/plain": [
       "['caste', 'jai']"
      ]
     },
     "execution_count": 100,
     "metadata": {},
     "output_type": "execute_result"
    }
   ],
   "source": [
    "list(dict.values())"
   ]
  },
  {
   "cell_type": "code",
   "execution_count": 93,
   "id": "2d34c2b9-9b74-4d65-ad07-1179a00215ca",
   "metadata": {},
   "outputs": [
    {
     "name": "stdin",
     "output_type": "stream",
     "text": [
      "Enter the marks 88\n"
     ]
    },
    {
     "name": "stdout",
     "output_type": "stream",
     "text": [
      "second\n"
     ]
    }
   ],
   "source": [
    "marks=int(input('Enter the marks'))\n",
    "\n",
    "if marks >=90:\n",
    "    print('congrats.......\\n you are first divison')\n",
    "    \n",
    "elif marks >=70 and marks <90:\n",
    "    print('second')\n",
    "\n",
    "    \n",
    "elif marks >=30 and marks <70:\n",
    "    print('third')\n",
    "\n",
    "elif marks <30:\n",
    "    print('fail')"
   ]
  },
  {
   "cell_type": "code",
   "execution_count": 1,
   "id": "58b1dc08-4046-4308-94a5-a6cc64bb0434",
   "metadata": {},
   "outputs": [],
   "source": [
    "l=[1,2,3,4,5]"
   ]
  },
  {
   "cell_type": "code",
   "execution_count": 8,
   "id": "73c7da6f-c29f-4a53-a352-f940fb05b2e4",
   "metadata": {},
   "outputs": [],
   "source": [
    "l1=[]"
   ]
  },
  {
   "cell_type": "code",
   "execution_count": 9,
   "id": "4a3526fc-0ae3-425a-8542-ae9943b9f530",
   "metadata": {},
   "outputs": [],
   "source": [
    "for i in l:\n",
    "    l1.append(i+1)\n",
    "    \n",
    "    "
   ]
  },
  {
   "cell_type": "code",
   "execution_count": 10,
   "id": "ff15fc39-9ced-48a4-b7e8-dcae43ea1657",
   "metadata": {},
   "outputs": [
    {
     "data": {
      "text/plain": [
       "[2, 3, 4, 5, 6]"
      ]
     },
     "execution_count": 10,
     "metadata": {},
     "output_type": "execute_result"
    }
   ],
   "source": [
    "l1"
   ]
  },
  {
   "cell_type": "code",
   "execution_count": 15,
   "id": "a9576e43-b8a8-4b63-a003-ade803a7c704",
   "metadata": {},
   "outputs": [],
   "source": [
    "l1=['jai','arpit','asif','kulbir']"
   ]
  },
  {
   "cell_type": "code",
   "execution_count": 16,
   "id": "50ada413-edd8-41ef-a021-3fcf648d066d",
   "metadata": {},
   "outputs": [
    {
     "data": {
      "text/plain": [
       "['jai', 'arpit', 'asif', 'kulbir']"
      ]
     },
     "execution_count": 16,
     "metadata": {},
     "output_type": "execute_result"
    }
   ],
   "source": [
    "l1"
   ]
  },
  {
   "cell_type": "code",
   "execution_count": 25,
   "id": "fb1aa90e-a200-4bb9-a42d-a120284b507d",
   "metadata": {},
   "outputs": [
    {
     "name": "stdout",
     "output_type": "stream",
     "text": [
      "jai\n",
      "arpit\n",
      "asif\n",
      "kulbir\n",
      "else will be executed only when for is completely executed,it should not be break in between\n"
     ]
    }
   ],
   "source": [
    "for i in l1:\n",
    "    print(i)\n",
    "\n",
    "else:\n",
    "    print('else will be executed only when for is completely executed,it should not be break in between')"
   ]
  },
  {
   "cell_type": "code",
   "execution_count": 19,
   "id": "1694026b-94cd-4ccf-ac43-fb49c942b005",
   "metadata": {},
   "outputs": [
    {
     "data": {
      "text/plain": [
       "['jai', 'arpit', 'asif', 'kulbir']"
      ]
     },
     "execution_count": 19,
     "metadata": {},
     "output_type": "execute_result"
    }
   ],
   "source": [
    "l1"
   ]
  },
  {
   "cell_type": "code",
   "execution_count": 26,
   "id": "17772872-8916-47cf-9952-96ac9fb479be",
   "metadata": {},
   "outputs": [
    {
     "name": "stdout",
     "output_type": "stream",
     "text": [
      "jai\n",
      "arpit\n",
      "asif\n",
      "for loop is not break in between\n"
     ]
    }
   ],
   "source": [
    "for i in l1:\n",
    "    if i=='kulbir':\n",
    "        continue\n",
    "    print(i)\n",
    "\n",
    "else:\n",
    "    print('for loop is not break in between')"
   ]
  },
  {
   "cell_type": "code",
   "execution_count": 27,
   "id": "0606a379-f859-4e43-b041-de877cdb552c",
   "metadata": {},
   "outputs": [
    {
     "data": {
      "text/plain": [
       "range(0, 5)"
      ]
     },
     "execution_count": 27,
     "metadata": {},
     "output_type": "execute_result"
    }
   ],
   "source": [
    "range(5)"
   ]
  },
  {
   "cell_type": "code",
   "execution_count": 28,
   "id": "b95a3dbf-246a-43d2-9f64-c7de4a7b56bc",
   "metadata": {},
   "outputs": [
    {
     "data": {
      "text/plain": [
       "[0, 1, 2, 3, 4]"
      ]
     },
     "execution_count": 28,
     "metadata": {},
     "output_type": "execute_result"
    }
   ],
   "source": [
    "list(range(5))"
   ]
  },
  {
   "cell_type": "code",
   "execution_count": 79,
   "id": "3c6479ea-ba14-46e3-83f8-7e230655d1a9",
   "metadata": {},
   "outputs": [
    {
     "data": {
      "text/plain": [
       "[20, 19, 18, 17, 16, 15, 14, 13, 12, 11]"
      ]
     },
     "execution_count": 79,
     "metadata": {},
     "output_type": "execute_result"
    }
   ],
   "source": [
    "list(range(20,10,-1))"
   ]
  },
  {
   "cell_type": "code",
   "execution_count": 48,
   "id": "30f39a07-7b31-43c1-b0cf-59a432546b12",
   "metadata": {},
   "outputs": [
    {
     "data": {
      "text/plain": [
       "['jai', 'arpit', 'asif', 'kulbir']"
      ]
     },
     "execution_count": 48,
     "metadata": {},
     "output_type": "execute_result"
    }
   ],
   "source": [
    "l1"
   ]
  },
  {
   "cell_type": "code",
   "execution_count": 55,
   "id": "e4ad81e3-e1ca-4ddd-9e93-850171a85f46",
   "metadata": {},
   "outputs": [
    {
     "data": {
      "text/plain": [
       "[0, 1, 2, 3]"
      ]
     },
     "execution_count": 55,
     "metadata": {},
     "output_type": "execute_result"
    }
   ],
   "source": [
    "list(range(len(l1)))"
   ]
  },
  {
   "cell_type": "code",
   "execution_count": 59,
   "id": "c7dca955-e13f-4445-9c61-4d77ceabe11d",
   "metadata": {},
   "outputs": [
    {
     "name": "stdout",
     "output_type": "stream",
     "text": [
      "jai\n",
      "arpit\n",
      "asif\n",
      "kulbir\n"
     ]
    }
   ],
   "source": [
    "for i in list(range(len(l1))):\n",
    "              print(l1[i])"
   ]
  },
  {
   "cell_type": "code",
   "execution_count": 60,
   "id": "b9173c2e-294f-492e-a600-9bb856779844",
   "metadata": {},
   "outputs": [],
   "source": [
    "x=[1,2,3,4,5,6,7,8,9]"
   ]
  },
  {
   "cell_type": "code",
   "execution_count": 62,
   "id": "c89a8ea1-252b-4406-91d8-c366c32a11c9",
   "metadata": {},
   "outputs": [],
   "source": [
    "for i in list(range(len(x))):\n",
    "    x[i]+=1"
   ]
  },
  {
   "cell_type": "code",
   "execution_count": 81,
   "id": "013934c4-39ec-4c72-937d-326a04e9b0da",
   "metadata": {},
   "outputs": [
    {
     "data": {
      "text/plain": [
       "[2, 3, 4, 5, 6, 7, 8, 9, 10]"
      ]
     },
     "execution_count": 81,
     "metadata": {},
     "output_type": "execute_result"
    }
   ],
   "source": [
    "x"
   ]
  },
  {
   "cell_type": "code",
   "execution_count": 83,
   "id": "b2544f86-ee64-4144-a0c3-2468dd65e034",
   "metadata": {},
   "outputs": [
    {
     "name": "stdout",
     "output_type": "stream",
     "text": [
      "10\n",
      "9\n",
      "8\n",
      "7\n",
      "6\n",
      "5\n",
      "4\n",
      "3\n",
      "2\n"
     ]
    }
   ],
   "source": [
    "for i in list(range(len(x)-1,-1,-1)):\n",
    "    print(x[i])"
   ]
  },
  {
   "cell_type": "code",
   "execution_count": 74,
   "id": "50f93426-5081-4214-9609-e1bccb417b8c",
   "metadata": {},
   "outputs": [
    {
     "data": {
      "text/plain": [
       "[]"
      ]
     },
     "execution_count": 74,
     "metadata": {},
     "output_type": "execute_result"
    }
   ],
   "source": [
    "list(range(len(x),0))"
   ]
  },
  {
   "cell_type": "code",
   "execution_count": 77,
   "id": "43acfc2f-cd60-4c51-b3af-16d283751352",
   "metadata": {},
   "outputs": [
    {
     "data": {
      "text/plain": [
       "[9, 8, 7, 6, 5, 4, 3, 2, 1]"
      ]
     },
     "execution_count": 77,
     "metadata": {},
     "output_type": "execute_result"
    }
   ],
   "source": [
    "list(range(9,0,-1))"
   ]
  },
  {
   "cell_type": "code",
   "execution_count": 84,
   "id": "7cb4a234-6cb6-498a-8abc-f1ea14e5c1f3",
   "metadata": {},
   "outputs": [
    {
     "data": {
      "text/plain": [
       "[2, 3, 4, 5, 6, 7, 8, 9, 10]"
      ]
     },
     "execution_count": 84,
     "metadata": {},
     "output_type": "execute_result"
    }
   ],
   "source": [
    "x"
   ]
  },
  {
   "cell_type": "code",
   "execution_count": 95,
   "id": "64a66754-351d-47b7-849c-f6a0c036eeb1",
   "metadata": {},
   "outputs": [
    {
     "name": "stdout",
     "output_type": "stream",
     "text": [
      "2\n",
      "4\n",
      "6\n",
      "8\n",
      "10\n"
     ]
    }
   ],
   "source": [
    "for i in list(range(0,len(x),1)):\n",
    "    if i%2==0:\n",
    "        print(x[i])"
   ]
  },
  {
   "cell_type": "code",
   "execution_count": 97,
   "id": "ae79fc52-7186-4788-9f2c-008936a60ef4",
   "metadata": {},
   "outputs": [
    {
     "name": "stdout",
     "output_type": "stream",
     "text": [
      "3\n",
      "5\n",
      "7\n",
      "9\n"
     ]
    }
   ],
   "source": [
    "for i in list(range(1,len(x),2)):\n",
    "    print(x[i])"
   ]
  },
  {
   "cell_type": "code",
   "execution_count": 98,
   "id": "f0ea403e-63d1-4013-957f-a4beaedf4844",
   "metadata": {},
   "outputs": [
    {
     "data": {
      "text/plain": [
       "[1, 2, 3, 4, 5]"
      ]
     },
     "execution_count": 98,
     "metadata": {},
     "output_type": "execute_result"
    }
   ],
   "source": [
    "l"
   ]
  },
  {
   "cell_type": "code",
   "execution_count": 100,
   "id": "88e09ef0-1717-4d6d-bc28-049ebcddb938",
   "metadata": {},
   "outputs": [],
   "source": [
    "x=0\n",
    "for i in list(range(0,len(l))):\n",
    "    x+=l[i]"
   ]
  },
  {
   "cell_type": "code",
   "execution_count": 101,
   "id": "85116940-bc05-4b4d-a561-56e6116950cd",
   "metadata": {},
   "outputs": [
    {
     "data": {
      "text/plain": [
       "15"
      ]
     },
     "execution_count": 101,
     "metadata": {},
     "output_type": "execute_result"
    }
   ],
   "source": [
    "x"
   ]
  },
  {
   "cell_type": "code",
   "execution_count": 102,
   "id": "9eef4f27-5311-4b28-9276-32e727479ce8",
   "metadata": {},
   "outputs": [],
   "source": [
    "sum=0\n",
    "for i in l:\n",
    "    sum+=i\n",
    "    "
   ]
  },
  {
   "cell_type": "code",
   "execution_count": 103,
   "id": "b814c91e-856f-41c1-8288-06c4c743d931",
   "metadata": {},
   "outputs": [
    {
     "data": {
      "text/plain": [
       "15"
      ]
     },
     "execution_count": 103,
     "metadata": {},
     "output_type": "execute_result"
    }
   ],
   "source": [
    "sum"
   ]
  },
  {
   "cell_type": "code",
   "execution_count": 104,
   "id": "1b7b4561-e1b0-4828-8a84-0c1a0114372b",
   "metadata": {},
   "outputs": [],
   "source": [
    "t=(1,2,3)"
   ]
  },
  {
   "cell_type": "code",
   "execution_count": 105,
   "id": "2bfc63d1-e53f-423f-87a6-bdf8becfd1f9",
   "metadata": {},
   "outputs": [
    {
     "data": {
      "text/plain": [
       "(1, 2, 3)"
      ]
     },
     "execution_count": 105,
     "metadata": {},
     "output_type": "execute_result"
    }
   ],
   "source": [
    "t\n"
   ]
  },
  {
   "cell_type": "code",
   "execution_count": 106,
   "id": "fa4bdde5-7468-4484-ba3e-8a4c00038173",
   "metadata": {},
   "outputs": [],
   "source": [
    "s={1,2,3}"
   ]
  },
  {
   "cell_type": "code",
   "execution_count": 107,
   "id": "f9ca99e5-fa3c-495d-bfbd-5cab399dae3c",
   "metadata": {},
   "outputs": [
    {
     "data": {
      "text/plain": [
       "{1, 2, 3}"
      ]
     },
     "execution_count": 107,
     "metadata": {},
     "output_type": "execute_result"
    }
   ],
   "source": [
    "s"
   ]
  },
  {
   "cell_type": "code",
   "execution_count": 110,
   "id": "6418d43d-0f78-4310-a2f5-687d5f9027a4",
   "metadata": {},
   "outputs": [],
   "source": [
    "s.add(10)"
   ]
  },
  {
   "cell_type": "code",
   "execution_count": 111,
   "id": "3fb0f475-ef70-4e6e-903c-fdb87124baa1",
   "metadata": {},
   "outputs": [
    {
     "data": {
      "text/plain": [
       "{1, 2, 3, 10}"
      ]
     },
     "execution_count": 111,
     "metadata": {},
     "output_type": "execute_result"
    }
   ],
   "source": [
    "s"
   ]
  },
  {
   "cell_type": "code",
   "execution_count": 114,
   "id": "146ed686-2af4-4669-9a48-06cdd5b896b5",
   "metadata": {},
   "outputs": [],
   "source": [
    "s.add(5)"
   ]
  },
  {
   "cell_type": "code",
   "execution_count": 115,
   "id": "22a49de0-8ad9-41f9-8113-87e38cafe0d6",
   "metadata": {},
   "outputs": [
    {
     "data": {
      "text/plain": [
       "{1, 2, 3, 5, 10}"
      ]
     },
     "execution_count": 115,
     "metadata": {},
     "output_type": "execute_result"
    }
   ],
   "source": [
    "s"
   ]
  },
  {
   "cell_type": "code",
   "execution_count": 125,
   "id": "7b92ffbc-6523-40f5-9e4d-989cba779b3b",
   "metadata": {},
   "outputs": [
    {
     "data": {
      "text/plain": [
       "4"
      ]
     },
     "execution_count": 125,
     "metadata": {},
     "output_type": "execute_result"
    }
   ],
   "source": [
    "s.pop()"
   ]
  },
  {
   "cell_type": "code",
   "execution_count": 137,
   "id": "f60f825d-2a60-4c03-af6c-42217e20d39c",
   "metadata": {},
   "outputs": [
    {
     "data": {
      "text/plain": [
       "70"
      ]
     },
     "execution_count": 137,
     "metadata": {},
     "output_type": "execute_result"
    }
   ],
   "source": [
    "s.pop()"
   ]
  },
  {
   "cell_type": "code",
   "execution_count": 138,
   "id": "13819b3c-38e1-455f-9d4d-3258cebd151a",
   "metadata": {},
   "outputs": [
    {
     "data": {
      "text/plain": [
       "{10, 80}"
      ]
     },
     "execution_count": 138,
     "metadata": {},
     "output_type": "execute_result"
    }
   ],
   "source": [
    "s"
   ]
  },
  {
   "cell_type": "code",
   "execution_count": 142,
   "id": "a69faea1-b0b0-458a-8756-29dc6525b2eb",
   "metadata": {},
   "outputs": [
    {
     "data": {
      "text/plain": [
       "{123: 'jai', 'yadav': 'caste'}"
      ]
     },
     "execution_count": 142,
     "metadata": {},
     "output_type": "execute_result"
    }
   ],
   "source": [
    "dict"
   ]
  },
  {
   "cell_type": "code",
   "execution_count": 145,
   "id": "7fd31a0e-ae30-437a-9877-deaf317afa3c",
   "metadata": {},
   "outputs": [],
   "source": [
    "del dict['yadav']"
   ]
  },
  {
   "cell_type": "code",
   "execution_count": 146,
   "id": "2e8b6492-cb52-4b8c-a816-bc03c0fb0d90",
   "metadata": {},
   "outputs": [
    {
     "data": {
      "text/plain": [
       "{123: 'jai'}"
      ]
     },
     "execution_count": 146,
     "metadata": {},
     "output_type": "execute_result"
    }
   ],
   "source": [
    "dict"
   ]
  },
  {
   "cell_type": "code",
   "execution_count": 147,
   "id": "0443c5de-e81e-4490-a1ed-6d56e1e15758",
   "metadata": {},
   "outputs": [],
   "source": [
    "dict.update({'arpit':'gouri','kulbir':'punia','asif':'khan'})"
   ]
  },
  {
   "cell_type": "code",
   "execution_count": 148,
   "id": "40f58c78-d735-4ec4-bd8f-ded6876461c3",
   "metadata": {},
   "outputs": [
    {
     "data": {
      "text/plain": [
       "{123: 'jai', 'arpit': 'gouri', 'kulbir': 'punia', 'asif': 'khan'}"
      ]
     },
     "execution_count": 148,
     "metadata": {},
     "output_type": "execute_result"
    }
   ],
   "source": [
    "dict"
   ]
  },
  {
   "cell_type": "code",
   "execution_count": 150,
   "id": "252e8355-3588-41b8-9aa8-956f846b5952",
   "metadata": {},
   "outputs": [
    {
     "data": {
      "text/plain": [
       "'jai'"
      ]
     },
     "execution_count": 150,
     "metadata": {},
     "output_type": "execute_result"
    }
   ],
   "source": [
    "dict.pop(123)"
   ]
  },
  {
   "cell_type": "code",
   "execution_count": 151,
   "id": "90698b49-ecc4-4819-80fe-d51643fb95c0",
   "metadata": {},
   "outputs": [
    {
     "data": {
      "text/plain": [
       "{'arpit': 'gouri', 'kulbir': 'punia', 'asif': 'khan'}"
      ]
     },
     "execution_count": 151,
     "metadata": {},
     "output_type": "execute_result"
    }
   ],
   "source": [
    "dict"
   ]
  },
  {
   "cell_type": "code",
   "execution_count": 152,
   "id": "6707960b-593b-418f-9fad-4b19f92e3599",
   "metadata": {},
   "outputs": [],
   "source": [
    "del dict['asif']"
   ]
  },
  {
   "cell_type": "code",
   "execution_count": 153,
   "id": "5a9fe094-e23c-4641-970a-fdc4b2b0fad9",
   "metadata": {},
   "outputs": [
    {
     "data": {
      "text/plain": [
       "{'arpit': 'gouri', 'kulbir': 'punia'}"
      ]
     },
     "execution_count": 153,
     "metadata": {},
     "output_type": "execute_result"
    }
   ],
   "source": [
    "dict"
   ]
  },
  {
   "cell_type": "code",
   "execution_count": 154,
   "id": "1044d4cf-88de-4086-8e76-d600c87feaaf",
   "metadata": {},
   "outputs": [],
   "source": [
    "s='heelo how are you'"
   ]
  },
  {
   "cell_type": "code",
   "execution_count": 157,
   "id": "12dc4911-87ec-47df-b31c-07407187d041",
   "metadata": {},
   "outputs": [
    {
     "name": "stdout",
     "output_type": "stream",
     "text": [
      "h\n",
      "e\n",
      "e\n",
      "l\n",
      "o\n",
      " \n",
      "h\n",
      "o\n",
      "w\n",
      " \n",
      "a\n",
      "r\n",
      "e\n",
      " \n",
      "y\n",
      "o\n",
      "u\n"
     ]
    }
   ],
   "source": [
    "for i in s:\n",
    "    print(i)"
   ]
  },
  {
   "cell_type": "code",
   "execution_count": 158,
   "id": "e645330b-04c5-4d89-b4be-53ec5746dd68",
   "metadata": {},
   "outputs": [
    {
     "name": "stdout",
     "output_type": "stream",
     "text": [
      "arpit\n",
      "kulbir\n"
     ]
    }
   ],
   "source": [
    "for i in dict:\n",
    "    print(i)"
   ]
  },
  {
   "cell_type": "code",
   "execution_count": 162,
   "id": "6aba2983-0152-4d9e-b7f3-3792941ca301",
   "metadata": {},
   "outputs": [
    {
     "name": "stdout",
     "output_type": "stream",
     "text": [
      "gouri\n",
      "punia\n"
     ]
    }
   ],
   "source": [
    "for i in list(dict.keys()):\n",
    "    print(dict[i])"
   ]
  },
  {
   "cell_type": "code",
   "execution_count": 161,
   "id": "2a478898-5b77-438b-bdab-241730b3612b",
   "metadata": {},
   "outputs": [
    {
     "data": {
      "text/plain": [
       "['arpit', 'kulbir']"
      ]
     },
     "execution_count": 161,
     "metadata": {},
     "output_type": "execute_result"
    }
   ],
   "source": [
    "list(dict.keys())"
   ]
  },
  {
   "cell_type": "code",
   "execution_count": 3,
   "id": "dfbdd2d2-15ab-4fc6-a959-d9c2e59fc693",
   "metadata": {},
   "outputs": [],
   "source": [
    "a=1;\n"
   ]
  },
  {
   "cell_type": "code",
   "execution_count": 4,
   "id": "39de37d6-eddc-42f3-b865-93add5699be9",
   "metadata": {},
   "outputs": [
    {
     "name": "stdout",
     "output_type": "stream",
     "text": [
      "1\n",
      "2\n",
      "3\n",
      "4\n",
      "5\n",
      "6\n",
      "7\n",
      "8\n",
      "9\n",
      "10\n"
     ]
    }
   ],
   "source": [
    "while a<=10:\n",
    "    print(a)\n",
    "    a=a+1"
   ]
  },
  {
   "cell_type": "code",
   "execution_count": 11,
   "id": "54c973cd-4e76-48b2-a65f-80fd0b395eef",
   "metadata": {},
   "outputs": [
    {
     "name": "stdin",
     "output_type": "stream",
     "text": [
      "Enter a number 5\n"
     ]
    },
    {
     "name": "stdout",
     "output_type": "stream",
     "text": [
      "120\n"
     ]
    }
   ],
   "source": [
    "x=int(input('Enter a number'))\n",
    "fact=1\n",
    "i=1\n",
    " \n",
    "while(i<=x):\n",
    "    fact=fact*i\n",
    "    i=i+1\n",
    "    \n",
    "print(fact)    "
   ]
  },
  {
   "cell_type": "code",
   "execution_count": 16,
   "id": "2912bcb6-87ce-4a76-9723-3c579d6fc5e3",
   "metadata": {},
   "outputs": [
    {
     "name": "stdin",
     "output_type": "stream",
     "text": [
      "Enter a number 100\n"
     ]
    },
    {
     "name": "stdout",
     "output_type": "stream",
     "text": [
      "93326215443944152681699238856266700490715968264381621468592963895217599993229915608941463976156518286253697920827223758251185210916864000000000000000000000000\n"
     ]
    }
   ],
   "source": [
    "num=int(input('Enter a number'))\n",
    "\n",
    "factorital=1\n",
    "\n",
    "while(num>0):\n",
    "    factorital=factorital*num\n",
    "    num -=1\n",
    "print(factorital)    "
   ]
  },
  {
   "cell_type": "code",
   "execution_count": 23,
   "id": "39c08c0d-31f0-49c9-a055-59ba337079e3",
   "metadata": {},
   "outputs": [
    {
     "name": "stdin",
     "output_type": "stream",
     "text": [
      "enter number of elements in series 10\n"
     ]
    },
    {
     "name": "stdout",
     "output_type": "stream",
     "text": [
      "0\n",
      "1\n",
      "1\n",
      "2\n",
      "3\n",
      "5\n",
      "8\n",
      "13\n",
      "21\n",
      "34\n"
     ]
    }
   ],
   "source": [
    " num=int(input('enter number of elements in series'))\n",
    "    \n",
    "a,b=0,1\n",
    "i=1\n",
    "while(i<=num):\n",
    "    print(a)\n",
    "    \n",
    "    c=a+b\n",
    "    a=b\n",
    "    b=c\n",
    "    i+=1\n",
    "    "
   ]
  },
  {
   "cell_type": "code",
   "execution_count": 24,
   "id": "5faa7aac-ff5b-4ee8-a10e-693f93443d47",
   "metadata": {},
   "outputs": [
    {
     "name": "stdin",
     "output_type": "stream",
     "text": [
      "enter number of elements in series 10\n"
     ]
    },
    {
     "name": "stdout",
     "output_type": "stream",
     "text": [
      "0\n",
      "1\n",
      "1\n",
      "2\n",
      "3\n",
      "5\n",
      "8\n",
      "13\n",
      "21\n",
      "34\n"
     ]
    }
   ],
   "source": [
    "num=int(input('enter number of elements in series'))\n",
    "    \n",
    "a,b=0,1\n",
    "for i in range(num):\n",
    "    print(a)\n",
    "    c=a+b\n",
    "    a=b\n",
    "    b=c\n",
    "    \n",
    "    "
   ]
  },
  {
   "cell_type": "code",
   "execution_count": 29,
   "id": "0b772999-2fed-4118-a43a-f40f1b884c2b",
   "metadata": {},
   "outputs": [
    {
     "name": "stdin",
     "output_type": "stream",
     "text": [
      "enter number 5\n"
     ]
    },
    {
     "name": "stdout",
     "output_type": "stream",
     "text": [
      "120\n"
     ]
    }
   ],
   "source": [
    "num=int(input('enter number'))\n",
    "fact=1\n",
    "for i in range(1,num+1,1):\n",
    "    fact=fact*i\n",
    "print(fact)    "
   ]
  },
  {
   "cell_type": "code",
   "execution_count": 31,
   "id": "78772c1b-bfb6-4326-ae68-08f81d03d02b",
   "metadata": {},
   "outputs": [
    {
     "name": "stdin",
     "output_type": "stream",
     "text": [
      "enter the name jai yadav\n"
     ]
    },
    {
     "name": "stdout",
     "output_type": "stream",
     "text": [
      "vaday iaj\n"
     ]
    }
   ],
   "source": [
    "name=input('enter the name')\n",
    "rev_name=''\n",
    "length=len(name)\n",
    "while length>0:\n",
    "    rev_name=rev_name+name[length-1]\n",
    "    length=length-1\n",
    "print(rev_name)    "
   ]
  },
  {
   "cell_type": "code",
   "execution_count": 39,
   "id": "f717cfe0-404d-4703-b074-f8b06b24b738",
   "metadata": {},
   "outputs": [
    {
     "name": "stdin",
     "output_type": "stream",
     "text": [
      "enter the number whose table to find 10\n"
     ]
    },
    {
     "name": "stdout",
     "output_type": "stream",
     "text": [
      "10 * 1 = 10\n",
      "10 * 2 = 20\n",
      "10 * 3 = 30\n",
      "10 * 4 = 40\n",
      "10 * 5 = 50\n",
      "10 * 6 = 60\n",
      "10 * 7 = 70\n",
      "10 * 8 = 80\n",
      "10 * 9 = 90\n",
      "10 * 10 = 100\n"
     ]
    }
   ],
   "source": [
    "num=int(input('enter the number whose table to find'))\n",
    "i=1\n",
    "while i<=10:\n",
    "    print(num,'*',i,'=',num*i)\n",
    "    i=i+1"
   ]
  },
  {
   "cell_type": "code",
   "execution_count": 43,
   "id": "46f8ab0d-61cb-4680-a0a0-fe51388bd665",
   "metadata": {},
   "outputs": [
    {
     "name": "stdout",
     "output_type": "stream",
     "text": [
      "1\n",
      "2\n",
      "3\n",
      "4\n",
      "5\n",
      "6\n"
     ]
    }
   ],
   "source": [
    "n=10\n",
    "i=1\n",
    "while(i<=10):\n",
    "    if(i==7):\n",
    "        break\n",
    "    print(i)  \n",
    "    i=i+1\n",
    "else:\n",
    "    print('this will be executed only if while complete its execution without breaking in between')"
   ]
  },
  {
   "cell_type": "code",
   "execution_count": 44,
   "id": "faa3c5c4-ded6-4a72-8d6e-63cf13423760",
   "metadata": {},
   "outputs": [
    {
     "name": "stdout",
     "output_type": "stream",
     "text": [
      "1\n",
      "2\n",
      "3\n",
      "4\n",
      "5\n",
      "6\n",
      "7\n",
      "8\n",
      "9\n",
      "10\n",
      "this will be executed only if while complete its execution without breaking in between\n"
     ]
    }
   ],
   "source": [
    "n=10\n",
    "i=1\n",
    "while(i<=10):\n",
    "   \n",
    "    print(i)  \n",
    "    i=i+1\n",
    "else:\n",
    "    print('this will be executed only if while complete its execution without breaking in between')"
   ]
  },
  {
   "cell_type": "markdown",
   "id": "45b8e05a-9cf2-42a8-94b0-c727f38f6e85",
   "metadata": {},
   "source": [
    "## comprehension"
   ]
  },
  {
   "cell_type": "code",
   "execution_count": 45,
   "id": "19f9883e-036f-42da-8460-6c1e8f059d3e",
   "metadata": {},
   "outputs": [],
   "source": [
    "l=[1,2,3,4,5,6,7,8,9,10,11,12,13,14,15,16,17,18]\n"
   ]
  },
  {
   "cell_type": "code",
   "execution_count": 46,
   "id": "4ea2da77-2870-471d-aaf8-b62fd4506345",
   "metadata": {},
   "outputs": [
    {
     "data": {
      "text/plain": [
       "[1, 4, 9, 16, 25, 36, 49, 64, 81, 100, 121, 144, 169, 196, 225, 256, 289, 324]"
      ]
     },
     "execution_count": 46,
     "metadata": {},
     "output_type": "execute_result"
    }
   ],
   "source": [
    "[i**2 for i in l]"
   ]
  },
  {
   "cell_type": "code",
   "execution_count": 47,
   "id": "b00a91bf-8422-4144-b802-f99a1dd6ed71",
   "metadata": {},
   "outputs": [
    {
     "data": {
      "text/plain": [
       "[2, 4, 6, 8, 10, 12, 14, 16, 18]"
      ]
     },
     "execution_count": 47,
     "metadata": {},
     "output_type": "execute_result"
    }
   ],
   "source": [
    "[i for i in l if i%2==0]"
   ]
  },
  {
   "cell_type": "code",
   "execution_count": 48,
   "id": "e070fb34-8309-455b-8d92-0960487d42b4",
   "metadata": {},
   "outputs": [],
   "source": [
    "t=(1,2,3,4,5,6,7,8,9)"
   ]
  },
  {
   "cell_type": "code",
   "execution_count": 54,
   "id": "bd84424b-48a2-4d9f-a9fd-543c5554dc99",
   "metadata": {},
   "outputs": [
    {
     "data": {
      "text/plain": [
       "[1, 2, 3, 4, 5, 6, 7, 8, 9]"
      ]
     },
     "execution_count": 54,
     "metadata": {},
     "output_type": "execute_result"
    }
   ],
   "source": [
    "list((i for i in t))"
   ]
  },
  {
   "cell_type": "code",
   "execution_count": 56,
   "id": "4dc5e388-24c8-4caf-904e-eaa4f7ceef41",
   "metadata": {},
   "outputs": [],
   "source": [
    "dict={'key1':1,'key2':2,'key3':3,'key4':4}"
   ]
  },
  {
   "cell_type": "code",
   "execution_count": 57,
   "id": "c999bc24-c9f9-49b8-ae64-e9d1df052e70",
   "metadata": {},
   "outputs": [
    {
     "data": {
      "text/plain": [
       "{'key1': 1, 'key2': 2, 'key3': 3, 'key4': 4}"
      ]
     },
     "execution_count": 57,
     "metadata": {},
     "output_type": "execute_result"
    }
   ],
   "source": [
    "dict"
   ]
  },
  {
   "cell_type": "code",
   "execution_count": 60,
   "id": "9a451acf-8f0a-4af2-b570-375f117e9370",
   "metadata": {},
   "outputs": [
    {
     "data": {
      "text/plain": [
       "{'key1': 1, 'key2': 4, 'key3': 9, 'key4': 16}"
      ]
     },
     "execution_count": 60,
     "metadata": {},
     "output_type": "execute_result"
    }
   ],
   "source": [
    "{k:v**2 for k,v in dict.items()}"
   ]
  },
  {
   "cell_type": "code",
   "execution_count": 62,
   "id": "c1fb3ef4-f2b7-40e7-a680-aeb21afa8715",
   "metadata": {},
   "outputs": [],
   "source": [
    "def fun():\n",
    "    pass\n",
    "    "
   ]
  },
  {
   "cell_type": "code",
   "execution_count": 70,
   "id": "8790d1ce-d2f1-4693-bb07-497332fe2ba6",
   "metadata": {},
   "outputs": [],
   "source": [
    "def fun():\n",
    "    \n",
    "    return 'hello'"
   ]
  },
  {
   "cell_type": "code",
   "execution_count": 75,
   "id": "710d63b4-8183-42f0-b82f-bd4f9e286fcd",
   "metadata": {},
   "outputs": [
    {
     "data": {
      "text/plain": [
       "'hello JAi'"
      ]
     },
     "execution_count": 75,
     "metadata": {},
     "output_type": "execute_result"
    }
   ],
   "source": [
    "fun()+' '+'JAi'"
   ]
  },
  {
   "cell_type": "code",
   "execution_count": 76,
   "id": "24ffb578-f659-4cc8-9c2c-01860ae3bb06",
   "metadata": {},
   "outputs": [],
   "source": [
    "def fun2():\n",
    "    return 'Jai',50,'yadav','GJU' "
   ]
  },
  {
   "cell_type": "code",
   "execution_count": 77,
   "id": "f251e35c-99d3-4ac1-ac64-d1f2d4fbe364",
   "metadata": {},
   "outputs": [
    {
     "data": {
      "text/plain": [
       "('Jai', 50, 'yadav', 'GJU')"
      ]
     },
     "execution_count": 77,
     "metadata": {},
     "output_type": "execute_result"
    }
   ],
   "source": [
    "fun2()"
   ]
  },
  {
   "cell_type": "code",
   "execution_count": 87,
   "id": "d5a9db8b-f80b-484a-8f0d-37734387980e",
   "metadata": {},
   "outputs": [],
   "source": [
    "l=[1,2,3,4,5]"
   ]
  },
  {
   "cell_type": "code",
   "execution_count": 88,
   "id": "2214a758-9ac4-442f-9088-95b98c9c26b1",
   "metadata": {},
   "outputs": [],
   "source": [
    "l2=[6,7,8,9,'jai']"
   ]
  },
  {
   "cell_type": "code",
   "execution_count": 89,
   "id": "4709a752-f288-428c-bb65-891215f94bb3",
   "metadata": {},
   "outputs": [
    {
     "data": {
      "text/plain": [
       "[1, 2, 3, 4, 5, 6, 7, 8, 9, 'jai']"
      ]
     },
     "execution_count": 89,
     "metadata": {},
     "output_type": "execute_result"
    }
   ],
   "source": [
    "l+l2"
   ]
  },
  {
   "cell_type": "code",
   "execution_count": 90,
   "id": "9375fc00-2995-4955-858c-9ffbb79966d8",
   "metadata": {},
   "outputs": [],
   "source": [
    "l.extend(l2)"
   ]
  },
  {
   "cell_type": "code",
   "execution_count": 91,
   "id": "06128f32-bf6f-4bad-afda-4b2bcf931e12",
   "metadata": {},
   "outputs": [
    {
     "data": {
      "text/plain": [
       "[1, 2, 3, 4, 5, 6, 7, 8, 9, 'jai']"
      ]
     },
     "execution_count": 91,
     "metadata": {},
     "output_type": "execute_result"
    }
   ],
   "source": [
    "l"
   ]
  },
  {
   "cell_type": "code",
   "execution_count": 109,
   "id": "ba24e003-ee0b-4f36-9758-36fa74d7a336",
   "metadata": {},
   "outputs": [],
   "source": [
    "l=[1,2,34,5,'jai','yadav',[5,6,7,43]]\n"
   ]
  },
  {
   "cell_type": "code",
   "execution_count": 126,
   "id": "c556afc1-1bff-46c1-93da-f02a87c7ee33",
   "metadata": {},
   "outputs": [],
   "source": [
    "l2=[]\n",
    "def fun(l):\n",
    "    \"\"\"enter the list as a arguement\"\"\"\n",
    "    for i in l:\n",
    "        if type(i)==list:\n",
    "            for j in i:\n",
    "                l2.append(j)\n",
    "        elif (type(i)==int or type(i)==float):\n",
    "            l2.append(i)\n",
    "    return l2       \n",
    "                "
   ]
  },
  {
   "cell_type": "code",
   "execution_count": 127,
   "id": "249f7096-f30a-4094-b1e8-4f26d4dc5601",
   "metadata": {},
   "outputs": [
    {
     "data": {
      "text/plain": [
       "[1, 2, 34, 5, 5, 6, 7, 43]"
      ]
     },
     "execution_count": 127,
     "metadata": {},
     "output_type": "execute_result"
    }
   ],
   "source": [
    "fun(l)"
   ]
  },
  {
   "cell_type": "code",
   "execution_count": 5,
   "id": "c0cd320d-0c58-4eef-877a-df3de9a16149",
   "metadata": {},
   "outputs": [],
   "source": [
    "def fun2(x,*args):\n",
    "    return x,args"
   ]
  },
  {
   "cell_type": "code",
   "execution_count": 9,
   "id": "2a4209bc-a08b-4dd9-b2e8-b42e38b91d42",
   "metadata": {},
   "outputs": [
    {
     "data": {
      "text/plain": [
       "(1, (2, 3, 'jai'))"
      ]
     },
     "execution_count": 9,
     "metadata": {},
     "output_type": "execute_result"
    }
   ],
   "source": [
    "fun2(1,2,3,'jai')"
   ]
  },
  {
   "cell_type": "code",
   "execution_count": 7,
   "id": "8bf356d6-57fb-4820-8bf8-be7a97421874",
   "metadata": {},
   "outputs": [
    {
     "data": {
      "text/plain": [
       "(1, (2, 'jai'))"
      ]
     },
     "execution_count": 7,
     "metadata": {},
     "output_type": "execute_result"
    }
   ],
   "source": [
    "x=[1,2,'jai']\n",
    "fun2(*x)\n"
   ]
  },
  {
   "cell_type": "code",
   "execution_count": 10,
   "id": "19f7798e-e583-4c37-a3ff-784bf28f1bd0",
   "metadata": {},
   "outputs": [],
   "source": [
    "def fun4(*args,x):\n",
    "    return args,x"
   ]
  },
  {
   "cell_type": "code",
   "execution_count": 13,
   "id": "8622ba72-a0d7-41ef-bf11-9286c04e488f",
   "metadata": {},
   "outputs": [
    {
     "data": {
      "text/plain": [
       "((1, 2, 3), 9)"
      ]
     },
     "execution_count": 13,
     "metadata": {},
     "output_type": "execute_result"
    }
   ],
   "source": [
    "fun4(1,2,3,x=9)"
   ]
  },
  {
   "cell_type": "code",
   "execution_count": 20,
   "id": "c5aa681c-3e64-4999-a836-9c9bad77ecfa",
   "metadata": {},
   "outputs": [],
   "source": [
    "def fun5(**d):\n",
    "    return d\n"
   ]
  },
  {
   "cell_type": "code",
   "execution_count": 21,
   "id": "47223637-35c9-44c1-9648-d41f72af7fd9",
   "metadata": {},
   "outputs": [
    {
     "data": {
      "text/plain": [
       "dict"
      ]
     },
     "execution_count": 21,
     "metadata": {},
     "output_type": "execute_result"
    }
   ],
   "source": [
    "type(fun5())\n"
   ]
  },
  {
   "cell_type": "code",
   "execution_count": 23,
   "id": "202811b8-3814-422c-803b-321cb572a3bd",
   "metadata": {},
   "outputs": [
    {
     "data": {
      "text/plain": [
       "{'jai': 6, 'a': 'hello', 'b': 'whats up'}"
      ]
     },
     "execution_count": 23,
     "metadata": {},
     "output_type": "execute_result"
    }
   ],
   "source": [
    "fun5(jai=6,a='hello',b='whats up')"
   ]
  },
  {
   "cell_type": "code",
   "execution_count": 182,
   "id": "6e4180ce-a4f0-416f-a80d-093b00037e4e",
   "metadata": {},
   "outputs": [],
   "source": [
    "dict={'jai':50,'x':'hello'}"
   ]
  },
  {
   "cell_type": "code",
   "execution_count": 183,
   "id": "34329e52-bc79-49b7-a85e-c20d4cf9eeb3",
   "metadata": {},
   "outputs": [
    {
     "data": {
      "text/plain": [
       "{'jai': 50, 'x': 'hello'}"
      ]
     },
     "execution_count": 183,
     "metadata": {},
     "output_type": "execute_result"
    }
   ],
   "source": [
    "dict"
   ]
  },
  {
   "cell_type": "code",
   "execution_count": 184,
   "id": "0037ddd0-a3ff-4582-b5f9-f42cfac9b805",
   "metadata": {},
   "outputs": [
    {
     "data": {
      "text/plain": [
       "{'jai': 50, 'x': 'hello'}"
      ]
     },
     "execution_count": 184,
     "metadata": {},
     "output_type": "execute_result"
    }
   ],
   "source": [
    "fun5(**dict)"
   ]
  },
  {
   "cell_type": "code",
   "execution_count": 193,
   "id": "2d822ed9-c31d-4269-aed9-e05f33094656",
   "metadata": {},
   "outputs": [],
   "source": [
    "def fun6(**dict):\n",
    "    for k,v in dict.items():\n",
    "        print('keys in entered dictionary are',' ',k)\n",
    "        "
   ]
  },
  {
   "cell_type": "code",
   "execution_count": 194,
   "id": "225d0f82-8c75-4274-921c-2237a9d6d56f",
   "metadata": {},
   "outputs": [
    {
     "name": "stdout",
     "output_type": "stream",
     "text": [
      "keys in entered dictionary are   jai\n",
      "keys in entered dictionary are   Rollnumber\n"
     ]
    }
   ],
   "source": [
    "fun6(jai='yadav',Rollnumber=50)"
   ]
  },
  {
   "cell_type": "code",
   "execution_count": 9,
   "id": "5e4041ca-1e20-4441-bf89-e4e73067fba0",
   "metadata": {},
   "outputs": [],
   "source": [
    "l=(1,2,3,4,5)"
   ]
  },
  {
   "cell_type": "code",
   "execution_count": 10,
   "id": "a6e3a216-86b1-4c35-b688-84b078689d90",
   "metadata": {},
   "outputs": [
    {
     "data": {
      "text/plain": [
       "{1, 4, 9, 16, 25}"
      ]
     },
     "execution_count": 10,
     "metadata": {},
     "output_type": "execute_result"
    }
   ],
   "source": [
    "{i**2 for i in l}"
   ]
  },
  {
   "cell_type": "code",
   "execution_count": 28,
   "id": "d56cd1a2-8bcc-451f-afb1-eb1fbb825867",
   "metadata": {},
   "outputs": [],
   "source": [
    "d={1:'jai',2:'asif',3:'kulbir'}"
   ]
  },
  {
   "cell_type": "code",
   "execution_count": 32,
   "id": "f0c6bbf7-6963-4d7d-bd36-0399b8795c56",
   "metadata": {},
   "outputs": [
    {
     "data": {
      "text/plain": [
       "{2: 'jaijai', 4: 'asifasif', 6: 'kulbirkulbir'}"
      ]
     },
     "execution_count": 32,
     "metadata": {},
     "output_type": "execute_result"
    }
   ],
   "source": [
    "{k*2:v*2 for k,v in d.items()}"
   ]
  },
  {
   "cell_type": "code",
   "execution_count": 5,
   "id": "a0564709-9def-4fd9-b3ec-8bfb0c2b9a1f",
   "metadata": {},
   "outputs": [
    {
     "name": "stdout",
     "output_type": "stream",
     "text": [
      "2\n",
      "3\n"
     ]
    }
   ],
   "source": [
    "a=1\n",
    "b=2\n",
    "a,b=b,a+b\n",
    "print(a)\n",
    "print(b)\n"
   ]
  },
  {
   "cell_type": "code",
   "execution_count": 6,
   "id": "2b67d27a-7240-46ac-b8ef-42ff526d8740",
   "metadata": {},
   "outputs": [],
   "source": [
    "def fib(n):\n",
    "    a,b=0,1\n",
    "    i=1\n",
    "    while(i<=n):\n",
    "        print(a)\n",
    "        a,b=b,a+b\n",
    "        i+=1\n",
    "    "
   ]
  },
  {
   "cell_type": "code",
   "execution_count": 7,
   "id": "94b6f636-78a3-4f85-80be-4990148be923",
   "metadata": {},
   "outputs": [
    {
     "name": "stdout",
     "output_type": "stream",
     "text": [
      "0\n",
      "1\n",
      "1\n",
      "2\n",
      "3\n",
      "5\n",
      "8\n",
      "13\n",
      "21\n",
      "34\n"
     ]
    }
   ],
   "source": [
    "fib(10)"
   ]
  },
  {
   "cell_type": "code",
   "execution_count": 8,
   "id": "e335f7e4-2601-42bb-8554-dc256f1c4848",
   "metadata": {},
   "outputs": [],
   "source": [
    "def fib(n):\n",
    "    a,b=0,1\n",
    "    i=1\n",
    "    while(i<=n):\n",
    "        print(a)\n",
    "        c=a+b\n",
    "        a=b\n",
    "        b=c\n",
    "       # a,b=b,a+b\n",
    "    \n",
    "        i+=1\n",
    "    "
   ]
  },
  {
   "cell_type": "code",
   "execution_count": 9,
   "id": "597d4f4d-5f61-4728-a6b6-80b4a4c63d7f",
   "metadata": {},
   "outputs": [
    {
     "name": "stdout",
     "output_type": "stream",
     "text": [
      "0\n",
      "1\n",
      "1\n",
      "2\n",
      "3\n",
      "5\n",
      "8\n",
      "13\n",
      "21\n",
      "34\n"
     ]
    }
   ],
   "source": [
    "fib(10)"
   ]
  },
  {
   "cell_type": "markdown",
   "id": "69101348-376d-4455-baf9-9d8739a83d10",
   "metadata": {},
   "source": [
    "## Generator Funcion"
   ]
  },
  {
   "cell_type": "code",
   "execution_count": 29,
   "id": "3558fd94-bc35-4a5c-ac59-29af02b61720",
   "metadata": {},
   "outputs": [],
   "source": [
    "def gen1():\n",
    "    a=1\n",
    "    b=2\n",
    "    c=3\n",
    "    yield a\n",
    "    yield b\n",
    "    yield c"
   ]
  },
  {
   "cell_type": "code",
   "execution_count": 33,
   "id": "5b06eabd-2570-4adc-81bd-98b2993b6b47",
   "metadata": {},
   "outputs": [],
   "source": [
    "x=gen1()"
   ]
  },
  {
   "cell_type": "code",
   "execution_count": 34,
   "id": "7743b5cf-fae0-42bd-853d-958b913a6621",
   "metadata": {},
   "outputs": [
    {
     "name": "stdout",
     "output_type": "stream",
     "text": [
      "1\n"
     ]
    }
   ],
   "source": [
    "print(next(x))"
   ]
  },
  {
   "cell_type": "code",
   "execution_count": 35,
   "id": "93d5b8e8-dc4b-4438-8709-490fa736f9c2",
   "metadata": {},
   "outputs": [
    {
     "name": "stdout",
     "output_type": "stream",
     "text": [
      "2\n"
     ]
    }
   ],
   "source": [
    "print(next(x))"
   ]
  },
  {
   "cell_type": "code",
   "execution_count": 36,
   "id": "6af2ffcf-303d-4d9d-bc22-0345522159b8",
   "metadata": {},
   "outputs": [
    {
     "name": "stdout",
     "output_type": "stream",
     "text": [
      "3\n"
     ]
    }
   ],
   "source": [
    "print(next(x))"
   ]
  },
  {
   "cell_type": "code",
   "execution_count": 37,
   "id": "bebb6319-025a-4402-9f8c-a320c1bcb432",
   "metadata": {},
   "outputs": [
    {
     "name": "stdout",
     "output_type": "stream",
     "text": [
      "1\n",
      "2\n",
      "3\n"
     ]
    }
   ],
   "source": [
    "for value in gen1():\n",
    "    print(value)"
   ]
  },
  {
   "cell_type": "markdown",
   "id": "dcb5f2a2-82ae-48cb-83f5-c7c4af154047",
   "metadata": {},
   "source": [
    "## Fibonacci series using generator function"
   ]
  },
  {
   "cell_type": "code",
   "execution_count": 38,
   "id": "e820fe08-72eb-4ab5-9791-dbcc89e83981",
   "metadata": {},
   "outputs": [],
   "source": [
    "def fib_gen(n):\n",
    "    a,b=0,1\n",
    "    for i in range(n):\n",
    "        yield a\n",
    "        a,b=b,a+b"
   ]
  },
  {
   "cell_type": "code",
   "execution_count": 40,
   "id": "123e4650-b0b2-433d-b590-b3e32b333020",
   "metadata": {},
   "outputs": [
    {
     "name": "stdin",
     "output_type": "stream",
     "text": [
      "Enter the number elements in series to print 20\n"
     ]
    },
    {
     "name": "stdout",
     "output_type": "stream",
     "text": [
      "0\n",
      "1\n",
      "1\n",
      "2\n",
      "3\n",
      "5\n",
      "8\n",
      "13\n",
      "21\n",
      "34\n",
      "55\n",
      "89\n",
      "144\n",
      "233\n",
      "377\n",
      "610\n",
      "987\n",
      "1597\n",
      "2584\n",
      "4181\n"
     ]
    }
   ],
   "source": [
    "num=int(input('Enter the number elements in series to print'))\n",
    "\n",
    "for value in fib_gen(num):\n",
    "    print(value)"
   ]
  },
  {
   "cell_type": "code",
   "execution_count": 82,
   "id": "1bab330d-deff-43c3-a761-95f18610a148",
   "metadata": {},
   "outputs": [],
   "source": [
    "s='jai yadav'"
   ]
  },
  {
   "cell_type": "code",
   "execution_count": 83,
   "id": "4136a6f1-9634-429e-9bc3-9f3bacf7225b",
   "metadata": {},
   "outputs": [],
   "source": [
    "x=iter(s)"
   ]
  },
  {
   "cell_type": "code",
   "execution_count": 85,
   "id": "f42ae425-0ae3-4505-aeb5-1469127185b5",
   "metadata": {},
   "outputs": [
    {
     "name": "stdout",
     "output_type": "stream",
     "text": [
      "j\n",
      "a\n",
      "i\n",
      " \n",
      "y\n",
      "a\n",
      "d\n",
      "a\n",
      "v\n"
     ]
    }
   ],
   "source": [
    "for value in x:\n",
    "    print(value)"
   ]
  },
  {
   "cell_type": "code",
   "execution_count": null,
   "id": "7e847b00-6e1d-4867-91cd-ad3396712fce",
   "metadata": {},
   "outputs": [],
   "source": []
  },
  {
   "cell_type": "code",
   "execution_count": null,
   "id": "0326fc7a-7c86-4ab0-b399-e11b3cde1a63",
   "metadata": {},
   "outputs": [],
   "source": []
  },
  {
   "cell_type": "code",
   "execution_count": 7,
   "id": "8786b5c5-d3a2-4d50-86b6-60796b4125fb",
   "metadata": {},
   "outputs": [],
   "source": [
    "greater=lambda x,y: x if x>y else y "
   ]
  },
  {
   "cell_type": "code",
   "execution_count": 8,
   "id": "d9f9f676-df00-41b1-82f4-47dfd1fba7e9",
   "metadata": {},
   "outputs": [
    {
     "data": {
      "text/plain": [
       "5"
      ]
     },
     "execution_count": 8,
     "metadata": {},
     "output_type": "execute_result"
    }
   ],
   "source": [
    "greater(2,5)"
   ]
  },
  {
   "cell_type": "code",
   "execution_count": 11,
   "id": "1a61f44e-d8ba-4660-9c33-35e91e4a5d5d",
   "metadata": {},
   "outputs": [],
   "source": [
    "upper=lambda s:s.upper()"
   ]
  },
  {
   "cell_type": "code",
   "execution_count": 13,
   "id": "4dc25218-ffe9-455f-bc7d-7e8857e49dc1",
   "metadata": {},
   "outputs": [
    {
     "data": {
      "text/plain": [
       "'JAI YADAV'"
      ]
     },
     "execution_count": 13,
     "metadata": {},
     "output_type": "execute_result"
    }
   ],
   "source": [
    "upper('jai yadav')"
   ]
  },
  {
   "cell_type": "code",
   "execution_count": 14,
   "id": "af99fef2-68e6-4706-a38a-79a4c706ab98",
   "metadata": {},
   "outputs": [],
   "source": [
    "square=lambda x:x**2"
   ]
  },
  {
   "cell_type": "code",
   "execution_count": 15,
   "id": "6ffb134a-b3bb-4faa-8924-3215f2b180f7",
   "metadata": {},
   "outputs": [
    {
     "data": {
      "text/plain": [
       "81"
      ]
     },
     "execution_count": 15,
     "metadata": {},
     "output_type": "execute_result"
    }
   ],
   "source": [
    "square(9)"
   ]
  },
  {
   "cell_type": "markdown",
   "id": "040fc69a-09c6-4d89-a449-c62fcfd1e67a",
   "metadata": {},
   "source": [
    "## Map function\n"
   ]
  },
  {
   "cell_type": "code",
   "execution_count": 43,
   "id": "1330c546-16f9-4cf3-bb9f-cf66c1495311",
   "metadata": {},
   "outputs": [],
   "source": [
    "def sq(n):\n",
    "    return n**2"
   ]
  },
  {
   "cell_type": "code",
   "execution_count": 44,
   "id": "5a46d719-a5f1-4d5f-b4f3-1d48fbc22380",
   "metadata": {},
   "outputs": [],
   "source": [
    "l=[1,2,3,4,5,6,7,8]"
   ]
  },
  {
   "cell_type": "code",
   "execution_count": 46,
   "id": "fbec5bb2-8a24-4b74-99f8-36da6ee81470",
   "metadata": {},
   "outputs": [
    {
     "data": {
      "text/plain": [
       "[1, 4, 9, 16, 25, 36, 49, 64]"
      ]
     },
     "execution_count": 46,
     "metadata": {},
     "output_type": "execute_result"
    }
   ],
   "source": [
    "list(map(sq,l))"
   ]
  },
  {
   "cell_type": "code",
   "execution_count": 47,
   "id": "350aede5-a4a8-46b3-bb24-29aff1128983",
   "metadata": {},
   "outputs": [],
   "source": [
    "l1=[1,2,3,4]\n",
    "l2=[5,6,7,8]"
   ]
  },
  {
   "cell_type": "code",
   "execution_count": 48,
   "id": "e3ef613c-e8ae-4782-bcb3-1b33e571606e",
   "metadata": {},
   "outputs": [],
   "source": [
    "def ad(x,y):\n",
    "    return x+y"
   ]
  },
  {
   "cell_type": "code",
   "execution_count": 49,
   "id": "75027375-e222-4370-b8be-915652d95162",
   "metadata": {},
   "outputs": [
    {
     "data": {
      "text/plain": [
       "[6, 8, 10, 12]"
      ]
     },
     "execution_count": 49,
     "metadata": {},
     "output_type": "execute_result"
    }
   ],
   "source": [
    "list(map(ad,l1,l2))"
   ]
  },
  {
   "cell_type": "code",
   "execution_count": 50,
   "id": "7648ee7a-437e-415c-babf-6926fb7987d3",
   "metadata": {},
   "outputs": [],
   "source": [
    "ad2=lambda x,y:x+y"
   ]
  },
  {
   "cell_type": "code",
   "execution_count": 51,
   "id": "a96bf984-2c62-4af2-93b0-2a455c110502",
   "metadata": {},
   "outputs": [
    {
     "data": {
      "text/plain": [
       "[6, 8, 10, 12]"
      ]
     },
     "execution_count": 51,
     "metadata": {},
     "output_type": "execute_result"
    }
   ],
   "source": [
    "list(map(ad2,l1,l2))"
   ]
  },
  {
   "cell_type": "code",
   "execution_count": 93,
   "id": "e6313f00-f14f-46ba-a5d9-949181c78120",
   "metadata": {},
   "outputs": [
    {
     "data": {
      "text/plain": [
       "[1, 4, 9, 16]"
      ]
     },
     "execution_count": 93,
     "metadata": {},
     "output_type": "execute_result"
    }
   ],
   "source": [
    "list(map(lambda x:x**2,l1))"
   ]
  },
  {
   "cell_type": "markdown",
   "id": "7d54edba-7757-4790-aee1-f2ea28ae5ada",
   "metadata": {},
   "source": [
    "## Reduce function--->it will always takes two input as parameter"
   ]
  },
  {
   "cell_type": "code",
   "execution_count": 95,
   "id": "b40849c3-7b28-41b1-9ce6-a83d12b0db74",
   "metadata": {},
   "outputs": [],
   "source": [
    "from functools import reduce"
   ]
  },
  {
   "cell_type": "code",
   "execution_count": 96,
   "id": "70c07a62-06b7-4e69-a721-f428cf338cb5",
   "metadata": {},
   "outputs": [],
   "source": [
    "l3=[1,2,3,4,5,6,7,8]"
   ]
  },
  {
   "cell_type": "code",
   "execution_count": 102,
   "id": "6d91b96e-edf6-46ce-86df-369aaf4af584",
   "metadata": {},
   "outputs": [
    {
     "data": {
      "text/plain": [
       "36"
      ]
     },
     "execution_count": 102,
     "metadata": {},
     "output_type": "execute_result"
    }
   ],
   "source": [
    "reduce(lambda x,y:x+y,l3)"
   ]
  },
  {
   "cell_type": "code",
   "execution_count": 103,
   "id": "35084f4c-58f2-4df5-bd7c-86028f897484",
   "metadata": {},
   "outputs": [],
   "source": [
    "l4=[2,2,3]"
   ]
  },
  {
   "cell_type": "code",
   "execution_count": 104,
   "id": "7a4a533d-04f1-4f2f-850a-3a1d8a25fa1e",
   "metadata": {},
   "outputs": [
    {
     "data": {
      "text/plain": [
       "64"
      ]
     },
     "execution_count": 104,
     "metadata": {},
     "output_type": "execute_result"
    }
   ],
   "source": [
    "reduce(lambda x,y:x**y,l4)"
   ]
  },
  {
   "cell_type": "code",
   "execution_count": 105,
   "id": "3c6cda16-b8a5-4fce-b660-f43f2a0588d2",
   "metadata": {},
   "outputs": [],
   "source": [
    "# finding greater in the list\n",
    "l5=[456,34,3525,234,65,234,6463,2342,3453,3423,53523,5464]"
   ]
  },
  {
   "cell_type": "code",
   "execution_count": 106,
   "id": "f4f4076c-5bf3-459c-b2ac-8c1f0e968b92",
   "metadata": {},
   "outputs": [
    {
     "data": {
      "text/plain": [
       "53523"
      ]
     },
     "execution_count": 106,
     "metadata": {},
     "output_type": "execute_result"
    }
   ],
   "source": [
    "reduce(lambda x,y:x if x>y else y,l5)"
   ]
  },
  {
   "cell_type": "markdown",
   "id": "89db4531-692d-413e-a9ab-925ec6f97c79",
   "metadata": {},
   "source": [
    "## Filter function"
   ]
  },
  {
   "cell_type": "code",
   "execution_count": 111,
   "id": "fdefe2d2-b3e4-455d-a95d-2b8a632416e0",
   "metadata": {},
   "outputs": [
    {
     "data": {
      "text/plain": [
       "[2, 4, 6, 8, 90, 12, 34]"
      ]
     },
     "execution_count": 111,
     "metadata": {},
     "output_type": "execute_result"
    }
   ],
   "source": [
    "l=[2,4,5,6,8,90,12,34,45]\n",
    "list(filter(lambda x:x%2==0,l))"
   ]
  },
  {
   "cell_type": "code",
   "execution_count": 113,
   "id": "076a02ce-a9db-4b73-8611-f79bbf50c7dc",
   "metadata": {},
   "outputs": [
    {
     "data": {
      "text/plain": [
       "[2, 4, 6, 8, 90, 12, 34]"
      ]
     },
     "execution_count": 113,
     "metadata": {},
     "output_type": "execute_result"
    }
   ],
   "source": [
    "## same using comprehension \n",
    "[i for i in l if i%2==0]"
   ]
  },
  {
   "cell_type": "code",
   "execution_count": 117,
   "id": "5ef94295-b94a-48fb-866b-9531f06239b1",
   "metadata": {},
   "outputs": [
    {
     "data": {
      "text/plain": [
       "[-2, -3, -4, -56, -34]"
      ]
     },
     "execution_count": 117,
     "metadata": {},
     "output_type": "execute_result"
    }
   ],
   "source": [
    "l2=[-2,-3,-4,-56,-34,1,2,3,4]\n",
    "list(filter(lambda x:x<0,l2))"
   ]
  },
  {
   "cell_type": "code",
   "execution_count": 122,
   "id": "7b789199-0a1b-486e-b606-339d8b60d1e5",
   "metadata": {},
   "outputs": [
    {
     "data": {
      "text/plain": [
       "['jai yadav', 'asif khan']"
      ]
     },
     "execution_count": 122,
     "metadata": {},
     "output_type": "execute_result"
    }
   ],
   "source": [
    "l3=['jai yadav','asif khan','arpit gouri','kulbir punia','ankit dhull']\n",
    "list(filter(lambda x:len(x)<=10,l3))"
   ]
  },
  {
   "cell_type": "code",
   "execution_count": 27,
   "id": "56a41247-494e-49b0-8e29-23f905bf4eb6",
   "metadata": {},
   "outputs": [],
   "source": [
    "def fun(normal,*args,**kwargs):\n",
    "    return normal,args,kwargs\n",
    "\n"
   ]
  },
  {
   "cell_type": "code",
   "execution_count": 35,
   "id": "6b0791d4-125a-4ce3-9c35-2fc0ab907f35",
   "metadata": {},
   "outputs": [
    {
     "data": {
      "text/plain": [
       "('This is norm', (1, 2, 3, 4, 'jai', {1: 'jai', 'b': 'asif'}), {})"
      ]
     },
     "execution_count": 35,
     "metadata": {},
     "output_type": "execute_result"
    }
   ],
   "source": [
    "fun('This is norm',1,2,3,4,'jai',dict)"
   ]
  },
  {
   "cell_type": "code",
   "execution_count": 31,
   "id": "b82e37a8-d1c4-4331-a8ac-806bd017f244",
   "metadata": {},
   "outputs": [],
   "source": [
    "dict={1:'jai','b':'asif'}"
   ]
  },
  {
   "cell_type": "code",
   "execution_count": 36,
   "id": "6cf97dfa-6e1e-477e-be19-382bb0add7a9",
   "metadata": {},
   "outputs": [],
   "source": [
    "def fun2(**k):\n",
    "    return k\n"
   ]
  },
  {
   "cell_type": "code",
   "execution_count": 43,
   "id": "b086ce69-811d-4280-bf35-13b3f9f76875",
   "metadata": {},
   "outputs": [
    {
     "data": {
      "text/plain": [
       "{'a': 'jai'}"
      ]
     },
     "execution_count": 43,
     "metadata": {},
     "output_type": "execute_result"
    }
   ],
   "source": [
    "fun2(a='jai')"
   ]
  },
  {
   "cell_type": "code",
   "execution_count": 39,
   "id": "5ca3fdae-a719-4f43-913f-82d3476a538f",
   "metadata": {},
   "outputs": [
    {
     "data": {
      "text/plain": [
       "{1: 'jai', 'b': 'asif'}"
      ]
     },
     "execution_count": 39,
     "metadata": {},
     "output_type": "execute_result"
    }
   ],
   "source": [
    "dict"
   ]
  },
  {
   "cell_type": "code",
   "execution_count": null,
   "id": "8ecb6790-57f9-4d5f-a2ff-f0cf51116412",
   "metadata": {},
   "outputs": [],
   "source": []
  },
  {
   "cell_type": "markdown",
   "id": "59a77e7d-2f6a-42d1-82c4-dde0daa03683",
   "metadata": {},
   "source": [
    "## Polymorphism"
   ]
  },
  {
   "cell_type": "code",
   "execution_count": 9,
   "id": "7dbc718b-6121-4c8b-bf56-3d8c1fd0c632",
   "metadata": {},
   "outputs": [],
   "source": [
    "class car:\n",
    "    def set(self,x):\n",
    "        self.__a=x\n",
    "    \n",
    "    def get(self):\n",
    "        print(self.__a)\n",
    "        "
   ]
  },
  {
   "cell_type": "code",
   "execution_count": 10,
   "id": "df03fe90-45df-4fab-8554-dad7c1cd0bbe",
   "metadata": {},
   "outputs": [],
   "source": [
    "c=car()"
   ]
  },
  {
   "cell_type": "code",
   "execution_count": 11,
   "id": "e94bea4d-970f-4ed3-b197-7a4c19a3357d",
   "metadata": {},
   "outputs": [],
   "source": [
    "c.set(50)"
   ]
  },
  {
   "cell_type": "code",
   "execution_count": 12,
   "id": "e8a21d70-9184-4cff-84f9-fd8ea7552dc2",
   "metadata": {},
   "outputs": [
    {
     "name": "stdout",
     "output_type": "stream",
     "text": [
      "50\n"
     ]
    }
   ],
   "source": [
    "c.get()"
   ]
  },
  {
   "cell_type": "code",
   "execution_count": null,
   "id": "2a29f8f0-aba8-4c9b-86d2-7454f0f2bfc1",
   "metadata": {},
   "outputs": [],
   "source": []
  },
  {
   "cell_type": "code",
   "execution_count": 61,
   "id": "17a6254b-9008-4c28-bffe-cc4233ad65af",
   "metadata": {},
   "outputs": [],
   "source": [
    "class account:\n",
    "    def __init__(self,amount):\n",
    "        self.__account_balance=amount\n",
    "        \n",
    "    def deposit(self,amount):\n",
    "        if amount>0:\n",
    "            \n",
    "            self.__account_balance=amount+self.__account_balance\n",
    "            print('the amount of',amount,'is deposited successfully')\n",
    "        else:\n",
    "            return 'invalid amount deposited!!!'\n",
    "        \n",
    "    def withdraw(self,amount):\n",
    "        if (amount<=self.__account_balance):\n",
    "            self.__account_balance=self.__account_balance-amount\n",
    "            print('amount withdrawl of' ,amount, 'is successfull')\n",
    "        else:\n",
    "            return 'your account has insufficient amount!!!'\n",
    "        \n",
    "    def check_balance(self):\n",
    "        print('your account has' ,self.__account_balance, 'balance left')\n",
    "    "
   ]
  },
  {
   "cell_type": "code",
   "execution_count": 62,
   "id": "76ed1e84-f7e0-4dc7-89bd-95b822d9948f",
   "metadata": {},
   "outputs": [],
   "source": [
    "obj=account(10000)"
   ]
  },
  {
   "cell_type": "code",
   "execution_count": 63,
   "id": "9c50b171-def2-4284-bf15-121323fd52ed",
   "metadata": {},
   "outputs": [
    {
     "name": "stdout",
     "output_type": "stream",
     "text": [
      "your account has 10000 balance left\n"
     ]
    }
   ],
   "source": [
    "obj.check_balance()"
   ]
  },
  {
   "cell_type": "code",
   "execution_count": 64,
   "id": "1ab8c547-58e8-4252-82a0-124571361684",
   "metadata": {},
   "outputs": [
    {
     "name": "stdout",
     "output_type": "stream",
     "text": [
      "the amount of 5000 is deposited successfully\n"
     ]
    }
   ],
   "source": [
    "obj.deposit(5000)"
   ]
  },
  {
   "cell_type": "code",
   "execution_count": 65,
   "id": "40139aa0-5c0b-4d65-9d3c-dcfec7966585",
   "metadata": {},
   "outputs": [
    {
     "name": "stdout",
     "output_type": "stream",
     "text": [
      "your account has 15000 balance left\n"
     ]
    }
   ],
   "source": [
    "obj.check_balance()"
   ]
  },
  {
   "cell_type": "code",
   "execution_count": 69,
   "id": "78cee271-4084-4f64-99d9-2d8dcc355231",
   "metadata": {},
   "outputs": [
    {
     "name": "stdout",
     "output_type": "stream",
     "text": [
      "amount withdrawl of 8000 is successfull\n"
     ]
    }
   ],
   "source": [
    "obj.withdraw(8000)"
   ]
  },
  {
   "cell_type": "code",
   "execution_count": 70,
   "id": "838cc4c1-c9fa-4dd0-a418-694b045b8a20",
   "metadata": {},
   "outputs": [
    {
     "name": "stdout",
     "output_type": "stream",
     "text": [
      "your account has 12000 balance left\n"
     ]
    }
   ],
   "source": [
    "obj.check_balance()"
   ]
  },
  {
   "cell_type": "code",
   "execution_count": null,
   "id": "4a2cdb80-2163-4b08-ae07-d3bbe8f16116",
   "metadata": {},
   "outputs": [],
   "source": []
  },
  {
   "cell_type": "markdown",
   "id": "e75d6456-1829-4b06-b515-9e7c1e32a94e",
   "metadata": {},
   "source": [
    "## Polymorphism"
   ]
  },
  {
   "cell_type": "code",
   "execution_count": 77,
   "id": "079d10fa-e00e-4662-8cc9-5b3c0ec435d5",
   "metadata": {},
   "outputs": [],
   "source": [
    "## method overloading\n",
    "class rectangle:\n",
    "    def area(self,a,b):\n",
    "        self.area=a*b\n",
    "        return self.area\n",
    "    \n",
    "class circle:\n",
    "    def area(self,radius):\n",
    "        self.area=3.14*radius**2\n",
    "        return self.area\n",
    "    \n",
    "    "
   ]
  },
  {
   "cell_type": "code",
   "execution_count": 80,
   "id": "827e33af-4a97-4dc8-be80-2ddaa0a4165f",
   "metadata": {},
   "outputs": [
    {
     "ename": "IndentationError",
     "evalue": "expected an indented block (4074407775.py, line 1)",
     "output_type": "error",
     "traceback": [
      "\u001b[1;36m  Input \u001b[1;32mIn [80]\u001b[1;36m\u001b[0m\n\u001b[1;33m    def print_details():\u001b[0m\n\u001b[1;37m                        ^\u001b[0m\n\u001b[1;31mIndentationError\u001b[0m\u001b[1;31m:\u001b[0m expected an indented block\n"
     ]
    }
   ],
   "source": [
    "def print_details():\n",
    "    "
   ]
  },
  {
   "cell_type": "code",
   "execution_count": 81,
   "id": "70cbefca-bcce-4118-9cfc-0b652a8fd8be",
   "metadata": {},
   "outputs": [],
   "source": [
    "obj1=rectangle()"
   ]
  },
  {
   "cell_type": "code",
   "execution_count": 82,
   "id": "32fcd785-3429-42fa-a137-939aa29eff2e",
   "metadata": {},
   "outputs": [
    {
     "data": {
      "text/plain": [
       "6"
      ]
     },
     "execution_count": 82,
     "metadata": {},
     "output_type": "execute_result"
    }
   ],
   "source": [
    "obj1.area(2,3)"
   ]
  },
  {
   "cell_type": "code",
   "execution_count": 83,
   "id": "e0e6f5bb-f19b-4107-bb74-4039b2c47851",
   "metadata": {},
   "outputs": [],
   "source": [
    "obj2=circle()"
   ]
  },
  {
   "cell_type": "code",
   "execution_count": 21,
   "id": "f5944df5-e59e-4254-9db6-e079ba9d4bb7",
   "metadata": {},
   "outputs": [],
   "source": [
    "def fun(x):\n",
    "    if x>='a' and x<='z':\n",
    "        return True\n",
    "    \n",
    "    "
   ]
  },
  {
   "cell_type": "code",
   "execution_count": 22,
   "id": "f08b30d3-dda5-4808-9cf6-109042204304",
   "metadata": {},
   "outputs": [],
   "source": [
    "fun('D')"
   ]
  },
  {
   "cell_type": "code",
   "execution_count": 29,
   "id": "91748d01-801f-46cc-8d54-4654ad587ddc",
   "metadata": {},
   "outputs": [],
   "source": [
    "\n",
    "def fun(s):\n",
    "    lower_case=0\n",
    "    upper_case=0\n",
    "    special_case=0\n",
    "    num=0\n",
    "    \n",
    "    for i in list(range(len(s))):\n",
    "        if (s[i]>='a' and s[i]<='z'):\n",
    "            lower_case+=1\n",
    "        elif (s[i]>='A' and s[i]<='Z'):\n",
    "            upper_case+=1\n",
    "        elif (s[i]>='0' and s[i]<='9'):\n",
    "            num+=1\n",
    "            \n",
    "        \n",
    "        else:\n",
    "            special_case+=1\n",
    "            \n",
    "            \n",
    "    if (lower_case>=2 and upper_case>=2 and num>=1 and special_case>=3 and len(s)>=10):\n",
    "        return True\n",
    "        \n",
    "    else:\n",
    "        return False\n",
    "            \n",
    "            \n",
    "            \n",
    "            \n",
    "            \n",
    "            \n",
    "     \n",
    "     \n",
    "           \n",
    "        \n",
    "        \n",
    "            \n",
    "         \n",
    "        \n",
    "      \n",
    "    \n",
    "    \n",
    "            \n",
    "        "
   ]
  },
  {
   "cell_type": "code",
   "execution_count": 30,
   "id": "454d2e3c-5a8c-4435-bc2f-e0b9d3f2f352",
   "metadata": {},
   "outputs": [
    {
     "name": "stdin",
     "output_type": "stream",
     "text": [
      "enter your input Jai@123\n"
     ]
    },
    {
     "data": {
      "text/plain": [
       "False"
      ]
     },
     "execution_count": 30,
     "metadata": {},
     "output_type": "execute_result"
    }
   ],
   "source": [
    "string=input('enter your input')\n",
    "fun(string)"
   ]
  },
  {
   "cell_type": "code",
   "execution_count": null,
   "id": "818054eb-c3fc-48cf-a19b-29a142d4b1b7",
   "metadata": {},
   "outputs": [],
   "source": []
  },
  {
   "cell_type": "code",
   "execution_count": 50,
   "id": "954ba175-c19a-452b-83ba-8bf06cd6ffb8",
   "metadata": {},
   "outputs": [
    {
     "name": "stdin",
     "output_type": "stream",
     "text": [
      "Enter the string jaip\n",
      "enter the letter to start with jai\n"
     ]
    },
    {
     "data": {
      "text/plain": [
       "True"
      ]
     },
     "execution_count": 50,
     "metadata": {},
     "output_type": "execute_result"
    }
   ],
   "source": [
    "str=input('Enter the string')\n",
    "y=input('enter the letter to start with')\n",
    "\n",
    "\n",
    "j=lambda str:True if str.startswith(y) else False\n",
    "\n",
    "j(str)"
   ]
  },
  {
   "cell_type": "code",
   "execution_count": null,
   "id": "94cfd28c-b6d4-4cf8-b77c-d5c95ab90468",
   "metadata": {},
   "outputs": [],
   "source": []
  },
  {
   "cell_type": "code",
   "execution_count": 58,
   "id": "3cb30ec1-d2e1-4bff-b93e-7c0d5dbfd616",
   "metadata": {},
   "outputs": [
    {
     "name": "stdin",
     "output_type": "stream",
     "text": [
      "Enter the string jai1\n"
     ]
    },
    {
     "data": {
      "text/plain": [
       "False"
      ]
     },
     "execution_count": 58,
     "metadata": {},
     "output_type": "execute_result"
    }
   ],
   "source": [
    "string=input('Enter the string')\n",
    "check_num=lambda string:True if string.isnumeric() else False\n",
    "\n",
    "check_num(string)"
   ]
  },
  {
   "cell_type": "code",
   "execution_count": 92,
   "id": "d90464bc-cb6c-4e4a-aa2e-6db7a74bd3d9",
   "metadata": {},
   "outputs": [],
   "source": [
    "l=range(1,11)"
   ]
  },
  {
   "cell_type": "code",
   "execution_count": 93,
   "id": "232053ec-a3da-420b-80e6-277dd79bcc4d",
   "metadata": {},
   "outputs": [
    {
     "data": {
      "text/plain": [
       "[1, 4, 9, 16, 25, 36, 49, 64, 81, 100]"
      ]
     },
     "execution_count": 93,
     "metadata": {},
     "output_type": "execute_result"
    }
   ],
   "source": [
    "list(map(lambda x:x**2,l))"
   ]
  },
  {
   "cell_type": "code",
   "execution_count": 94,
   "id": "2fc9d1fe-8623-40b9-a365-b58be6632d0a",
   "metadata": {},
   "outputs": [
    {
     "data": {
      "text/plain": [
       "[1, 4, 9, 16, 25, 36, 49, 64, 81, 100]"
      ]
     },
     "execution_count": 94,
     "metadata": {},
     "output_type": "execute_result"
    }
   ],
   "source": [
    "[i**2 for i in l]"
   ]
  },
  {
   "cell_type": "code",
   "execution_count": 67,
   "id": "f7176950-8975-4f9e-8f4e-1dd4070e460e",
   "metadata": {},
   "outputs": [],
   "source": [
    "l2=range(1,11)"
   ]
  },
  {
   "cell_type": "code",
   "execution_count": 71,
   "id": "2876f656-a5e6-4143-8b3d-10de118c34c7",
   "metadata": {},
   "outputs": [
    {
     "data": {
      "text/plain": [
       "[1.0,\n",
       " 1.2599210498948732,\n",
       " 1.4422495703074083,\n",
       " 1.5874010519681994,\n",
       " 1.7099759466766968,\n",
       " 1.8171205928321397,\n",
       " 1.912931182772389,\n",
       " 2.0,\n",
       " 2.080083823051904,\n",
       " 2.154434690031884]"
      ]
     },
     "execution_count": 71,
     "metadata": {},
     "output_type": "execute_result"
    }
   ],
   "source": [
    "list(map(lambda x:x**(1/3),l2))"
   ]
  },
  {
   "cell_type": "code",
   "execution_count": 74,
   "id": "e38198a9-a851-4dae-bdbb-bfb6c3fe2e7b",
   "metadata": {},
   "outputs": [
    {
     "name": "stdin",
     "output_type": "stream",
     "text": [
      "Enter a num 14\n"
     ]
    },
    {
     "data": {
      "text/plain": [
       "True"
      ]
     },
     "execution_count": 74,
     "metadata": {},
     "output_type": "execute_result"
    }
   ],
   "source": [
    "num=int(input('Enter a num'))\n",
    "check_even=lambda num:True if num%2==0 else False\n",
    "\n",
    "check_even(num)"
   ]
  },
  {
   "cell_type": "code",
   "execution_count": null,
   "id": "6284b585-948c-446b-95c0-7de204bab95f",
   "metadata": {},
   "outputs": [],
   "source": []
  },
  {
   "cell_type": "code",
   "execution_count": 77,
   "id": "3820823e-c3e5-42bb-a7db-f9f824d8531d",
   "metadata": {},
   "outputs": [
    {
     "data": {
      "text/plain": [
       "[1, 3, 5, 7, 9]"
      ]
     },
     "execution_count": 77,
     "metadata": {},
     "output_type": "execute_result"
    }
   ],
   "source": [
    "l3=[1,2,3,4,5,6,7,8,9]\n",
    "list(filter(lambda x:x%2!=0,l3))"
   ]
  },
  {
   "cell_type": "code",
   "execution_count": 91,
   "id": "e32535cd-a2aa-4175-815a-0b0b5f69e4f3",
   "metadata": {},
   "outputs": [
    {
     "name": "stdout",
     "output_type": "stream",
     "text": [
      "[1, 2, 3, 4, 5, 6, 0] [-1, -2, -3, -4, -5]\n"
     ]
    }
   ],
   "source": [
    "neg_list=[]\n",
    "pos_list=[]\n",
    "given_list=[1,2,3,4,5,6,-1,-2,-3,-4,-5,0]\n",
    "list(filter(lambda x:pos_list.append(x) if x>=0 else neg_list.append(x),given_list))\n",
    "\n",
    "print(pos_list,neg_list)\n",
    "\n"
   ]
  },
  {
   "cell_type": "code",
   "execution_count": null,
   "id": "dba83d38-cf7e-4b91-a379-cb9506abcbb3",
   "metadata": {},
   "outputs": [],
   "source": []
  },
  {
   "cell_type": "code",
   "execution_count": 107,
   "id": "d9aa82ae-38b0-4a39-8bf2-85c890035686",
   "metadata": {},
   "outputs": [],
   "source": [
    "def sort_tuple(t):\n",
    "    t.sort(key=lambda x:x[1])\n",
    "    return t"
   ]
  },
  {
   "cell_type": "code",
   "execution_count": 109,
   "id": "e16dd115-73e1-4cfd-943a-40af0bd8a0b7",
   "metadata": {},
   "outputs": [
    {
     "name": "stdout",
     "output_type": "stream",
     "text": [
      "[('orange', 80), ('mango', 99), ('grapes', 1000)]\n"
     ]
    }
   ],
   "source": [
    "t=[(\"mango\",99),(\"orange\",80), (\"grapes\", 1000)]\n",
    "print(sort_tuple(t))"
   ]
  },
  {
   "cell_type": "code",
   "execution_count": null,
   "id": "5018c5bf-c0b4-4a15-b3b3-352843752753",
   "metadata": {},
   "outputs": [],
   "source": []
  },
  {
   "cell_type": "markdown",
   "id": "9b0e63a3-52df-4bbe-9c00-4ea85edd4c84",
   "metadata": {},
   "source": [
    "## Class Methods\n",
    "#### using class methods we can access the class functions and variables without creating object   \n",
    "\"\"\" actually this is like method overloading,here we are trying to overload __init__() but not actually \n",
    "overloading \n",
    "\"\"\""
   ]
  },
  {
   "cell_type": "code",
   "execution_count": 1,
   "id": "bf7f3552-2050-46b7-b475-2536fba2d387",
   "metadata": {},
   "outputs": [],
   "source": [
    "class jai:\n",
    "    var=101\n",
    "    def __init__(self,name,id):\n",
    "        self.name=name\n",
    "        self.id=id\n",
    "    @classmethod\n",
    "    def details(cls,naame,iid):\n",
    "        return cls(naame,iid)\n",
    "    \n",
    "    def show(self):\n",
    "        print(self.id,self.name)"
   ]
  },
  {
   "cell_type": "code",
   "execution_count": null,
   "id": "88396186-dc04-443e-9ae0-7b37f4bf0ae2",
   "metadata": {},
   "outputs": [],
   "source": []
  },
  {
   "cell_type": "code",
   "execution_count": null,
   "id": "00007e8a-ec5f-42a9-8b3f-e28405609097",
   "metadata": {},
   "outputs": [],
   "source": []
  },
  {
   "cell_type": "code",
   "execution_count": null,
   "id": "ea5d151a-3008-47b0-b88e-b4fdd16f9ad7",
   "metadata": {},
   "outputs": [],
   "source": []
  },
  {
   "cell_type": "code",
   "execution_count": 2,
   "id": "0fa93d3c-316d-42ed-bf4e-adbea44572a6",
   "metadata": {},
   "outputs": [],
   "source": [
    "# we are storing the values in a variable name j\n",
    "j=jai.details('jai',50)"
   ]
  },
  {
   "cell_type": "code",
   "execution_count": 3,
   "id": "3688d678-97d6-4d49-97f2-eb1a3e8ae49a",
   "metadata": {},
   "outputs": [
    {
     "data": {
      "text/plain": [
       "'jai'"
      ]
     },
     "execution_count": 3,
     "metadata": {},
     "output_type": "execute_result"
    }
   ],
   "source": [
    "j.name"
   ]
  },
  {
   "cell_type": "code",
   "execution_count": 4,
   "id": "b0009391-b87e-4440-9f59-6907d6650b3b",
   "metadata": {},
   "outputs": [
    {
     "data": {
      "text/plain": [
       "50"
      ]
     },
     "execution_count": 4,
     "metadata": {},
     "output_type": "execute_result"
    }
   ],
   "source": [
    "j.id"
   ]
  },
  {
   "cell_type": "code",
   "execution_count": 5,
   "id": "3ced2498-3f26-4ac8-8802-2a5a3bb33104",
   "metadata": {},
   "outputs": [
    {
     "name": "stdout",
     "output_type": "stream",
     "text": [
      "50 jai\n"
     ]
    }
   ],
   "source": [
    "j.show()"
   ]
  },
  {
   "cell_type": "code",
   "execution_count": 6,
   "id": "a69ee7c4-cfe8-47b0-881c-974d613e58bb",
   "metadata": {},
   "outputs": [
    {
     "data": {
      "text/plain": [
       "101"
      ]
     },
     "execution_count": 6,
     "metadata": {},
     "output_type": "execute_result"
    }
   ],
   "source": [
    "j.var"
   ]
  },
  {
   "cell_type": "code",
   "execution_count": null,
   "id": "8a5dc4ee-890e-4bd2-822e-a0b68a2b89d8",
   "metadata": {},
   "outputs": [],
   "source": []
  },
  {
   "cell_type": "code",
   "execution_count": 33,
   "id": "708512a4-7881-48c4-b590-6d07841c7b44",
   "metadata": {},
   "outputs": [],
   "source": [
    "## understanding using class name\n",
    "class grand_father:\n",
    "    def __init__(self,name):\n",
    "        self.name=name\n",
    "        print(self.name)\n",
    "     \n",
    "    \n",
    "        \n",
    "class father(grand_father):\n",
    "    def __init__(self,fname,gname):\n",
    "        self.fname=fname\n",
    "        grand_father.__init__(self,gname)\n",
    "        print(self.fname)\n",
    "        \n",
    "        \n",
    "class child(father):\n",
    "    def __init__(self,cname,fname,gname):\n",
    "        self.cname=cname\n",
    "        father.__init__(self,fname,gname)\n",
    "        print(self.cname)"
   ]
  },
  {
   "cell_type": "code",
   "execution_count": 34,
   "id": "f1040ff3-d334-4694-85ca-fa93c577de5c",
   "metadata": {},
   "outputs": [
    {
     "name": "stdout",
     "output_type": "stream",
     "text": [
      "jai prakash\n",
      "subhash\n",
      "shambhu dayal\n"
     ]
    }
   ],
   "source": [
    "obj=child('shambhu dayal','subhash','jai prakash')"
   ]
  },
  {
   "cell_type": "code",
   "execution_count": null,
   "id": "ce4b277f-e730-452f-9001-2cb037ebe207",
   "metadata": {},
   "outputs": [],
   "source": []
  },
  {
   "cell_type": "code",
   "execution_count": 61,
   "id": "1f38be82-c4ea-4f73-8e26-f76283d00e11",
   "metadata": {},
   "outputs": [],
   "source": [
    "## using same reference type(self) we can also do the work but to make it look different we use cls(or any other name)\n",
    "##instead of self\n",
    "class jai:\n",
    "    var=1000\n",
    "    def __init__(self,name,id):\n",
    "        self.name=name\n",
    "        self.id=id\n",
    "    @classmethod\n",
    "    def details(self,name,id):\n",
    "        return self(name,id)\n",
    "    \n",
    "    def show(self):\n",
    "        print(self.id,self.name)"
   ]
  },
  {
   "cell_type": "code",
   "execution_count": 62,
   "id": "4d309c8b-8c1f-4c62-92d7-a4070e21b93e",
   "metadata": {},
   "outputs": [],
   "source": [
    "x=jai.details('yadav',10000)"
   ]
  },
  {
   "cell_type": "code",
   "execution_count": 63,
   "id": "6b5e74c5-9e1d-4651-918e-02d45f45b62b",
   "metadata": {},
   "outputs": [
    {
     "name": "stdout",
     "output_type": "stream",
     "text": [
      "10000 yadav\n"
     ]
    }
   ],
   "source": [
    "x.show()"
   ]
  },
  {
   "cell_type": "code",
   "execution_count": 5,
   "id": "cc24f365-119f-4f7e-8f94-940fc8c66377",
   "metadata": {},
   "outputs": [],
   "source": [
    "## changing the name of variable using class object\n",
    "class jai:\n",
    "    var=1011\n",
    "    def __init__(self,name,id):\n",
    "        self.name=name\n",
    "        self.id=id\n",
    "    @classmethod    \n",
    "    def change(self,num):\n",
    "        self.var=num\n",
    "    @classmethod\n",
    "    def details(self,name,id):\n",
    "        return self(name,id)\n",
    "    \n",
    "    def show(self):\n",
    "        print(self.id,self.name)\n",
    "    def hee(self):\n",
    "        print('hello')"
   ]
  },
  {
   "cell_type": "code",
   "execution_count": 6,
   "id": "5d1364ed-4134-4a8d-8c31-1877c39a4081",
   "metadata": {},
   "outputs": [],
   "source": [
    "j=jai('jai',21)"
   ]
  },
  {
   "cell_type": "code",
   "execution_count": 67,
   "id": "526b15e6-e40b-48bf-be13-597a4cbd6558",
   "metadata": {},
   "outputs": [
    {
     "data": {
      "text/plain": [
       "1011"
      ]
     },
     "execution_count": 67,
     "metadata": {},
     "output_type": "execute_result"
    }
   ],
   "source": [
    "j.var"
   ]
  },
  {
   "cell_type": "code",
   "execution_count": 68,
   "id": "7ef1fb89-b2a7-4495-9972-b24749411ea5",
   "metadata": {},
   "outputs": [],
   "source": [
    "j.change(1234)"
   ]
  },
  {
   "cell_type": "code",
   "execution_count": 69,
   "id": "78d86d58-c78d-4d6b-8804-3519d40e5691",
   "metadata": {},
   "outputs": [
    {
     "data": {
      "text/plain": [
       "1234"
      ]
     },
     "execution_count": 69,
     "metadata": {},
     "output_type": "execute_result"
    }
   ],
   "source": [
    "j.var"
   ]
  },
  {
   "cell_type": "code",
   "execution_count": 12,
   "id": "51b8a65c-4643-4a2c-8258-84b7451f65b4",
   "metadata": {},
   "outputs": [],
   "source": [
    "## changing the variable of class without using class object\n",
    "class jai1:\n",
    "    var=1011\n",
    "    def __init__(self,name,id):\n",
    "        self.name=name\n",
    "        self.id=id\n",
    "    @classmethod    \n",
    "    def change(self,num):\n",
    "        self.var=num\n",
    "    @classmethod\n",
    "    def details(self,name,id):\n",
    "        return self(name,id)\n",
    "    \n",
    "    def show(self):\n",
    "        print(self.id,self.name)"
   ]
  },
  {
   "cell_type": "code",
   "execution_count": 13,
   "id": "046190df-e75a-4554-8d51-e587724439db",
   "metadata": {},
   "outputs": [],
   "source": [
    "jai1.change(123456)"
   ]
  },
  {
   "cell_type": "code",
   "execution_count": 14,
   "id": "0d142411-6c29-49b6-93df-219116c199de",
   "metadata": {},
   "outputs": [
    {
     "data": {
      "text/plain": [
       "101"
      ]
     },
     "execution_count": 14,
     "metadata": {},
     "output_type": "execute_result"
    }
   ],
   "source": [
    "jai.var"
   ]
  },
  {
   "cell_type": "code",
   "execution_count": 99,
   "id": "f3e03bbe-7f86-4492-b897-051b8758ecac",
   "metadata": {},
   "outputs": [],
   "source": [
    "# adding an external method into a class so that we can access using class object and class method\n",
    "def funn(self,str):\n",
    "    print(str)"
   ]
  },
  {
   "cell_type": "code",
   "execution_count": 100,
   "id": "361f4370-e10d-46c8-9011-ba869393085c",
   "metadata": {},
   "outputs": [],
   "source": [
    "jai1.funn=classmethod(funn)"
   ]
  },
  {
   "cell_type": "code",
   "execution_count": 101,
   "id": "0de656fd-1758-4b19-a7cb-ff3b55ffceeb",
   "metadata": {},
   "outputs": [
    {
     "name": "stdout",
     "output_type": "stream",
     "text": [
      "jaijai\n"
     ]
    }
   ],
   "source": [
    "jai1.funn('jaijai')"
   ]
  },
  {
   "cell_type": "code",
   "execution_count": 102,
   "id": "e70e0b49-8a38-4f2a-9434-4652de5ffd02",
   "metadata": {},
   "outputs": [],
   "source": [
    "# making class object and trying to acces the external function which is added to the class\n",
    "x=jai1('sds',12345465757)"
   ]
  },
  {
   "cell_type": "code",
   "execution_count": 103,
   "id": "738b3f60-747a-4c13-b338-67c39aa337a1",
   "metadata": {},
   "outputs": [
    {
     "name": "stdout",
     "output_type": "stream",
     "text": [
      "heelo jaiiii\n"
     ]
    }
   ],
   "source": [
    "x.funn('heelo jaiiii')"
   ]
  },
  {
   "cell_type": "code",
   "execution_count": 113,
   "id": "403d4e91-37fc-4d0a-b13f-72181ddaa364",
   "metadata": {},
   "outputs": [],
   "source": [
    "def email(self,email):\n",
    "    print(email)"
   ]
  },
  {
   "cell_type": "code",
   "execution_count": 114,
   "id": "2df35aed-752e-4489-9a7f-073e8d400181",
   "metadata": {},
   "outputs": [],
   "source": [
    "jai1.email=classmethod(email)"
   ]
  },
  {
   "cell_type": "code",
   "execution_count": 115,
   "id": "c401729d-a531-4c24-8738-cdf03c947432",
   "metadata": {},
   "outputs": [
    {
     "name": "stdout",
     "output_type": "stream",
     "text": [
      "jaiyadav3699@gmail.com\n"
     ]
    }
   ],
   "source": [
    "x.email('jaiyadav3699@gmail.com')"
   ]
  },
  {
   "cell_type": "code",
   "execution_count": 116,
   "id": "cd5bbba3-83de-4abf-a264-ecc7e4d23682",
   "metadata": {},
   "outputs": [],
   "source": [
    "## delete method and variable of class\n",
    "\n",
    "del jai1.funn"
   ]
  },
  {
   "cell_type": "code",
   "execution_count": 117,
   "id": "5822b668-e6b4-4601-8065-215b2f28c606",
   "metadata": {},
   "outputs": [],
   "source": [
    "del jai1.var"
   ]
  },
  {
   "cell_type": "code",
   "execution_count": 119,
   "id": "0f62967a-bddb-4da4-b74d-7ace5e233d21",
   "metadata": {},
   "outputs": [],
   "source": [
    "## using delattr() we can aslo delete\n",
    "delattr(jai1,'email')"
   ]
  },
  {
   "cell_type": "code",
   "execution_count": null,
   "id": "75b69a76-17b7-46f1-a1dd-73ae61f8626b",
   "metadata": {},
   "outputs": [],
   "source": []
  },
  {
   "cell_type": "markdown",
   "id": "68344c53-273a-4b20-997b-a1b7abb67a9c",
   "metadata": {},
   "source": [
    "## Decorators\n",
    "decorators are used to decorate a method,when we want some lines to print in every function then we have to add these \n",
    "lines in the function again and again but using decorators we can do that easily\n"
   ]
  },
  {
   "cell_type": "code",
   "execution_count": 142,
   "id": "687afd44-6ceb-41d2-815a-c2ef1be9d575",
   "metadata": {},
   "outputs": [],
   "source": [
    "## making a decorator function\n",
    "def mak_dec(func):\n",
    "    def inner_dec():\n",
    "        print('this is starting point')\n",
    "        func()\n",
    "        print('this is ending point')\n",
    "    return inner_dec\n"
   ]
  },
  {
   "cell_type": "code",
   "execution_count": 143,
   "id": "3072e532-baf4-4e9d-866b-39b5a6b49a7b",
   "metadata": {},
   "outputs": [],
   "source": [
    "@mak_dec\n",
    "def fun1():\n",
    "    for i in range(10):\n",
    "        print(i)"
   ]
  },
  {
   "cell_type": "code",
   "execution_count": 144,
   "id": "daa85214-ade7-4214-a901-b308384597d4",
   "metadata": {},
   "outputs": [
    {
     "name": "stdout",
     "output_type": "stream",
     "text": [
      "this is starting point\n",
      "0\n",
      "1\n",
      "2\n",
      "3\n",
      "4\n",
      "5\n",
      "6\n",
      "7\n",
      "8\n",
      "9\n",
      "this is ending point\n"
     ]
    }
   ],
   "source": [
    "fun1()"
   ]
  },
  {
   "cell_type": "code",
   "execution_count": null,
   "id": "6b0d1352-bbf5-4da4-aa1e-ef5d8f6cdde8",
   "metadata": {},
   "outputs": [],
   "source": []
  },
  {
   "cell_type": "code",
   "execution_count": 149,
   "id": "eed8df63-b42a-47ca-8a7f-8ecc280c5a5d",
   "metadata": {},
   "outputs": [],
   "source": [
    "import time\n",
    "\n",
    "def time_dec(fun):\n",
    "    def inner_time():\n",
    "        start=time.time()\n",
    "        fun()\n",
    "        end=time.time()\n",
    "        time_taken=end-start\n",
    "        print('start=',start,'end=',end,' ',time_taken)\n",
    "    return inner_time    "
   ]
  },
  {
   "cell_type": "code",
   "execution_count": 164,
   "id": "39311146-b18d-4be1-9835-d6700de65c19",
   "metadata": {},
   "outputs": [],
   "source": [
    "@time_dec\n",
    "def fun():\n",
    "    for i in range(101):\n",
    "        print(i)\n",
    "     "
   ]
  },
  {
   "cell_type": "code",
   "execution_count": 165,
   "id": "0a3166fe-5a4f-4a94-aefd-f3e7065e1310",
   "metadata": {},
   "outputs": [
    {
     "name": "stdout",
     "output_type": "stream",
     "text": [
      "0\n",
      "1\n",
      "2\n",
      "3\n",
      "4\n",
      "5\n",
      "6\n",
      "7\n",
      "8\n",
      "9\n",
      "10\n",
      "11\n",
      "12\n",
      "13\n",
      "14\n",
      "15\n",
      "16\n",
      "17\n",
      "18\n",
      "19\n",
      "20\n",
      "21\n",
      "22\n",
      "23\n",
      "24\n",
      "25\n",
      "26\n",
      "27\n",
      "28\n",
      "29\n",
      "30\n",
      "31\n",
      "32\n",
      "33\n",
      "34\n",
      "35\n",
      "36\n",
      "37\n",
      "38\n",
      "39\n",
      "40\n",
      "41\n",
      "42\n",
      "43\n",
      "44\n",
      "45\n",
      "46\n",
      "47\n",
      "48\n",
      "49\n",
      "50\n",
      "51\n",
      "52\n",
      "53\n",
      "54\n",
      "55\n",
      "56\n",
      "57\n",
      "58\n",
      "59\n",
      "60\n",
      "61\n",
      "62\n",
      "63\n",
      "64\n",
      "65\n",
      "66\n",
      "67\n",
      "68\n",
      "69\n",
      "70\n",
      "71\n",
      "72\n",
      "73\n",
      "74\n",
      "75\n",
      "76\n",
      "77\n",
      "78\n",
      "79\n",
      "80\n",
      "81\n",
      "82\n",
      "83\n",
      "84\n",
      "85\n",
      "86\n",
      "87\n",
      "88\n",
      "89\n",
      "90\n",
      "91\n",
      "92\n",
      "93\n",
      "94\n",
      "95\n",
      "96\n",
      "97\n",
      "98\n",
      "99\n",
      "100\n",
      "start= 1676179571.4447584 end= 1676179571.4527636   0.008005142211914062\n"
     ]
    }
   ],
   "source": [
    "fun()"
   ]
  },
  {
   "cell_type": "markdown",
   "id": "a2120320-4549-4add-9f17-c1d872ed5c3b",
   "metadata": {},
   "source": [
    "# static method\n",
    "## we can't access the functions of a class directly using the class name, to access the function of class by using\n",
    "## class name we have to make the method static\n",
    "## it is used for memory optimization in class\n",
    "## static method don't have self"
   ]
  },
  {
   "cell_type": "code",
   "execution_count": 17,
   "id": "a58156a9-6b3f-46c3-aca1-b9336c3d8e42",
   "metadata": {},
   "outputs": [],
   "source": [
    "class pwskills2:\n",
    "    def __init__(self,name,id):\n",
    "        self.name=name\n",
    "        self.id=id\n",
    "    @staticmethod\n",
    "    def fun1(list_mentor):\n",
    "        print(list_mentor)\n",
    "        \n",
    "        "
   ]
  },
  {
   "cell_type": "code",
   "execution_count": 18,
   "id": "ae246eb0-dc98-46b9-841a-591a52ccbc9b",
   "metadata": {},
   "outputs": [
    {
     "name": "stdout",
     "output_type": "stream",
     "text": [
      "['krish', 'sudhanshu']\n"
     ]
    }
   ],
   "source": [
    "pwskills2.fun1(['krish','sudhanshu'])"
   ]
  },
  {
   "cell_type": "code",
   "execution_count": null,
   "id": "be4bf2a3-8dde-4f0d-9c51-e0c1bcc8a4bd",
   "metadata": {},
   "outputs": [],
   "source": []
  },
  {
   "cell_type": "markdown",
   "id": "58c3397c-53f1-4070-83bc-d99b3e732ea7",
   "metadata": {},
   "source": [
    "\"\"\" why we are using static method is because when we create object of class the each time when we create the\n",
    "object of the class the method present inside the class will be created for each object because we know\n",
    "the memory is allocated to the variables and methods at the time of object creation. so to prevent these\n",
    "type of creation of methods again and again we make the method static so that we can acces that using class\n",
    "name\"\"\""
   ]
  },
  {
   "cell_type": "code",
   "execution_count": 43,
   "id": "268ef2ac-38f2-43a9-a914-28aa8ffd9a10",
   "metadata": {},
   "outputs": [],
   "source": [
    "class pwskills2:\n",
    "  \n",
    "    @staticmethod\n",
    "    def fun3(mail_id):\n",
    "        print(mail_id)\n",
    "        \n",
    "    @staticmethod\n",
    "    def fun1(list_mentor):\n",
    "        pwskills2.fun3(['jai@gmail.com','asif@gmail.com'])\n",
    "        print(list_mentor)\n",
    "        \n",
    "        \n",
    "    @classmethod\n",
    "    def fun2(cls):\n",
    "        pwskills2.fun1(['jaiyadav',55])\n",
    "      #  cls.fun1(['jaiyadav2',552]) ## both ways we can access the static method bcz cls is also bind with class name\n",
    "    def inst_method(self):\n",
    "        pwskills2.fun1(['jai','asif'])"
   ]
  },
  {
   "cell_type": "code",
   "execution_count": 44,
   "id": "04b0c309-45e9-4615-a469-ddde304707f9",
   "metadata": {},
   "outputs": [
    {
     "name": "stdout",
     "output_type": "stream",
     "text": [
      "['jai@gmail.com', 'asif@gmail.com']\n",
      "['jaiyadav', 55]\n"
     ]
    }
   ],
   "source": [
    "# classmethod(staticmethod(staticmethod))\n",
    "pwskills2.fun2()"
   ]
  },
  {
   "cell_type": "code",
   "execution_count": 45,
   "id": "b015b237-b466-41e4-b25c-6f05a7c92b2e",
   "metadata": {},
   "outputs": [
    {
     "name": "stdout",
     "output_type": "stream",
     "text": [
      "['jai@gmail.com', 'asif@gmail.com']\n",
      "['krish', 'sudh']\n"
     ]
    }
   ],
   "source": [
    "# staticmethod(staticmethod)\n",
    "pwskills2.fun1(['krish','sudh'])"
   ]
  },
  {
   "cell_type": "code",
   "execution_count": 46,
   "id": "a3e56098-3d3a-4b78-9e44-87937268c967",
   "metadata": {},
   "outputs": [],
   "source": [
    "# instance_method(staticmethod)\n",
    "obj=pwskills2()"
   ]
  },
  {
   "cell_type": "code",
   "execution_count": 47,
   "id": "e77d89d7-2b27-4f7e-9fab-ca6c1097fe7d",
   "metadata": {},
   "outputs": [
    {
     "name": "stdout",
     "output_type": "stream",
     "text": [
      "['jai@gmail.com', 'asif@gmail.com']\n",
      "['jai', 'asif']\n"
     ]
    }
   ],
   "source": [
    "obj.inst_method()"
   ]
  },
  {
   "cell_type": "code",
   "execution_count": null,
   "id": "cdaaab13-1934-41e3-9208-ac9921734b1e",
   "metadata": {},
   "outputs": [],
   "source": []
  },
  {
   "cell_type": "code",
   "execution_count": null,
   "id": "423e1680-2dec-4183-b35f-022b4c73a0bd",
   "metadata": {},
   "outputs": [],
   "source": []
  },
  {
   "cell_type": "code",
   "execution_count": null,
   "id": "7eb92b1d-52de-4cfd-8a22-a90638d3ce36",
   "metadata": {},
   "outputs": [],
   "source": []
  },
  {
   "cell_type": "markdown",
   "id": "758665b2-10f4-4e81-91f2-47555ed93d30",
   "metadata": {},
   "source": [
    "## Dunder/Magic function\n",
    "\"\"\"dunder functions are called internally and we can also call them explicitly \"\"\""
   ]
  },
  {
   "cell_type": "code",
   "execution_count": 48,
   "id": "9df26f34-32de-4fcb-add9-84f887d0bcec",
   "metadata": {},
   "outputs": [],
   "source": [
    "a=100"
   ]
  },
  {
   "cell_type": "code",
   "execution_count": 49,
   "id": "3e93020c-ff3f-409d-a4d0-49a596204fc8",
   "metadata": {},
   "outputs": [
    {
     "data": {
      "text/plain": [
       "105"
      ]
     },
     "execution_count": 49,
     "metadata": {},
     "output_type": "execute_result"
    }
   ],
   "source": [
    "a+5"
   ]
  },
  {
   "cell_type": "code",
   "execution_count": 51,
   "id": "0d2db7c7-e526-48e9-a359-a8235b8196ba",
   "metadata": {},
   "outputs": [
    {
     "data": {
      "text/plain": [
       "105"
      ]
     },
     "execution_count": 51,
     "metadata": {},
     "output_type": "execute_result"
    }
   ],
   "source": [
    "# this __add__ is a dunder function whcih is called internally by the system when we do '+'\n",
    "a.__add__(5)"
   ]
  },
  {
   "cell_type": "code",
   "execution_count": 52,
   "id": "48fa0efe-16c0-4dcf-b2e3-54e6038cca47",
   "metadata": {},
   "outputs": [],
   "source": [
    "## see dunder function in class\n",
    "class pwskills4:\n",
    "    def __init__(self):\n",
    "        self.num=123456789"
   ]
  },
  {
   "cell_type": "code",
   "execution_count": 54,
   "id": "f1017f91-3770-433a-8d9a-1d790ee58bec",
   "metadata": {},
   "outputs": [],
   "source": [
    "pw_obj=pwskills4()"
   ]
  },
  {
   "cell_type": "code",
   "execution_count": 55,
   "id": "4f09f9a3-95c0-4ba3-aefb-cd1856281cd6",
   "metadata": {},
   "outputs": [
    {
     "data": {
      "text/plain": [
       "123456789"
      ]
     },
     "execution_count": 55,
     "metadata": {},
     "output_type": "execute_result"
    }
   ],
   "source": [
    "pw_obj.num\n"
   ]
  },
  {
   "cell_type": "code",
   "execution_count": 57,
   "id": "80baaa88-ec2d-4821-8937-5567af83e4d0",
   "metadata": {},
   "outputs": [],
   "source": [
    "## now there is a __new__ dunder function which will be called before the init function,this __new__ helps to\n",
    "## create instance/object of a class\n",
    "class pwskills4:\n",
    "    def __new__(cls):\n",
    "        print('this is new')\n",
    "    def __init__(self):\n",
    "        print('this is init')\n",
    "        self.num=123456789\n",
    "        \n",
    "    def __str__()    "
   ]
  },
  {
   "cell_type": "code",
   "execution_count": 58,
   "id": "338417e7-2a06-45e9-b04c-2941f92e543e",
   "metadata": {},
   "outputs": [
    {
     "name": "stdout",
     "output_type": "stream",
     "text": [
      "this is new\n"
     ]
    }
   ],
   "source": [
    "xx=pwskills4()"
   ]
  },
  {
   "cell_type": "code",
   "execution_count": null,
   "id": "5bd7c6c0-2b54-4a96-9e7a-5a3944c6d3a0",
   "metadata": {},
   "outputs": [],
   "source": []
  },
  {
   "cell_type": "code",
   "execution_count": 84,
   "id": "b1a3d206-7be3-42eb-8278-8466a77488c3",
   "metadata": {},
   "outputs": [],
   "source": [
    "## \n",
    "class pwskills5:\n",
    "\n",
    "    def __init__(self):\n",
    "        print('this is init')\n",
    "        self.num=123456789\n",
    "    def __str__(self):\n",
    "        return 'this is your object'\n",
    "        \n",
    "    "
   ]
  },
  {
   "cell_type": "code",
   "execution_count": 85,
   "id": "a73c08ba-0578-4b34-846e-7596b492dd2b",
   "metadata": {},
   "outputs": [
    {
     "name": "stdout",
     "output_type": "stream",
     "text": [
      "this is init\n"
     ]
    }
   ],
   "source": [
    "xq=pwskills5()"
   ]
  },
  {
   "cell_type": "code",
   "execution_count": 86,
   "id": "dd15dafe-4a8e-412b-98da-d6cf2cab8c44",
   "metadata": {},
   "outputs": [
    {
     "data": {
      "text/plain": [
       "<__main__.pwskills5 at 0x2779d1d85b0>"
      ]
     },
     "execution_count": 86,
     "metadata": {},
     "output_type": "execute_result"
    }
   ],
   "source": [
    "xq"
   ]
  },
  {
   "cell_type": "code",
   "execution_count": 87,
   "id": "1d5022e8-1314-427b-a731-ce8def95f985",
   "metadata": {},
   "outputs": [
    {
     "name": "stdout",
     "output_type": "stream",
     "text": [
      "this is your object\n"
     ]
    }
   ],
   "source": [
    "print(xq)"
   ]
  },
  {
   "cell_type": "code",
   "execution_count": null,
   "id": "f121f677-f8d4-4128-9065-e07d2e564e8d",
   "metadata": {},
   "outputs": [],
   "source": []
  },
  {
   "cell_type": "code",
   "execution_count": null,
   "id": "5304ebe7-1307-4768-8ac7-2f8462d9bff4",
   "metadata": {},
   "outputs": [],
   "source": []
  },
  {
   "cell_type": "code",
   "execution_count": 106,
   "id": "05903061-ff4e-4f66-beb6-4e44f3d80083",
   "metadata": {},
   "outputs": [],
   "source": [
    "## property decorators to set and get and delete private/protected variable\n",
    "##property decorators hepls to access and modify these pri./pro. variables just by calling the name of methods like variable name\n",
    "class prop_dec:\n",
    "    __var=10\n",
    "    def __init__(self,course_name,course_price):\n",
    "        self.__course_price=course_price\n",
    "        self.course_name=course_name\n",
    "    @property\n",
    "    def access_course(self):\n",
    "        return self.__course_price \n",
    "    \n",
    "    @access_course.setter\n",
    "    def set_price(self,price):\n",
    "        self.__course_price=price\n",
    "    "
   ]
  },
  {
   "cell_type": "code",
   "execution_count": 107,
   "id": "5e50493b-83ee-4d86-9491-5decc3c674fd",
   "metadata": {},
   "outputs": [],
   "source": [
    "ob=prop_dec('data',3500)"
   ]
  },
  {
   "cell_type": "code",
   "execution_count": 108,
   "id": "92351fb8-3014-449b-ab85-425378a4cb4a",
   "metadata": {},
   "outputs": [
    {
     "data": {
      "text/plain": [
       "3500"
      ]
     },
     "execution_count": 108,
     "metadata": {},
     "output_type": "execute_result"
    }
   ],
   "source": [
    "ob.access_course"
   ]
  },
  {
   "cell_type": "code",
   "execution_count": 110,
   "id": "054c67e8-8dff-4695-8fdc-f3909d986fc9",
   "metadata": {},
   "outputs": [],
   "source": [
    "ob.set_price=4500"
   ]
  },
  {
   "cell_type": "code",
   "execution_count": 111,
   "id": "5d154968-e8b3-474a-b420-fe212621f127",
   "metadata": {},
   "outputs": [
    {
     "data": {
      "text/plain": [
       "4500"
      ]
     },
     "execution_count": 111,
     "metadata": {},
     "output_type": "execute_result"
    }
   ],
   "source": [
    "ob.access_course"
   ]
  },
  {
   "cell_type": "code",
   "execution_count": 118,
   "id": "332947c4-bfa3-4a1f-b697-0ed0b3fab717",
   "metadata": {},
   "outputs": [],
   "source": [
    "## delete variable using property\n",
    "class prop_dec:\n",
    "    __var=10\n",
    "    def __init__(self,course_name,course_price):\n",
    "        self.__course_price=course_price\n",
    "        self.course_name=course_name\n",
    "    @property\n",
    "    def access_course_price(self):\n",
    "        return self.__course_price \n",
    "    \n",
    "    @access_course_price.setter\n",
    "    def set_price(self,price):\n",
    "        self.__course_price=price\n",
    "        \n",
    "    @access_course_price.deleter\n",
    "    def delete_course_price(self):\n",
    "        del self.__course_price\n",
    "    "
   ]
  },
  {
   "cell_type": "code",
   "execution_count": 119,
   "id": "34a0b21f-e31d-4663-8a86-e6d2c7b24249",
   "metadata": {},
   "outputs": [],
   "source": [
    "objj=prop_dec('data science',3500)"
   ]
  },
  {
   "cell_type": "code",
   "execution_count": 120,
   "id": "70622e34-0c11-475d-9f4f-610d2d0910a5",
   "metadata": {},
   "outputs": [
    {
     "data": {
      "text/plain": [
       "3500"
      ]
     },
     "execution_count": 120,
     "metadata": {},
     "output_type": "execute_result"
    }
   ],
   "source": [
    "objj.access_course_price"
   ]
  },
  {
   "cell_type": "code",
   "execution_count": 121,
   "id": "0cef15f0-a350-485d-95b7-5c0bcca291fd",
   "metadata": {},
   "outputs": [],
   "source": [
    "objj.set_price=4500"
   ]
  },
  {
   "cell_type": "code",
   "execution_count": 122,
   "id": "3357e96f-743f-47d3-a6a5-c36953a2cc08",
   "metadata": {},
   "outputs": [
    {
     "data": {
      "text/plain": [
       "4500"
      ]
     },
     "execution_count": 122,
     "metadata": {},
     "output_type": "execute_result"
    }
   ],
   "source": [
    "objj.access_course_price"
   ]
  },
  {
   "cell_type": "code",
   "execution_count": 124,
   "id": "9908730e-0575-4071-b376-0d0c090d8333",
   "metadata": {},
   "outputs": [],
   "source": [
    "del objj.delete_course_price"
   ]
  },
  {
   "cell_type": "code",
   "execution_count": 125,
   "id": "6d6573eb-ed33-4e80-9c35-fda56a0f78c7",
   "metadata": {},
   "outputs": [
    {
     "ename": "AttributeError",
     "evalue": "'prop_dec' object has no attribute '_prop_dec__course_price'",
     "output_type": "error",
     "traceback": [
      "\u001b[1;31m---------------------------------------------------------------------------\u001b[0m",
      "\u001b[1;31mAttributeError\u001b[0m                            Traceback (most recent call last)",
      "Input \u001b[1;32mIn [125]\u001b[0m, in \u001b[0;36m<cell line: 1>\u001b[1;34m()\u001b[0m\n\u001b[1;32m----> 1\u001b[0m objj\u001b[38;5;241m.\u001b[39maccess_course_price\n",
      "Input \u001b[1;32mIn [118]\u001b[0m, in \u001b[0;36mprop_dec.access_course_price\u001b[1;34m(self)\u001b[0m\n\u001b[0;32m      7\u001b[0m \u001b[38;5;129m@property\u001b[39m\n\u001b[0;32m      8\u001b[0m \u001b[38;5;28;01mdef\u001b[39;00m \u001b[38;5;21maccess_course_price\u001b[39m(\u001b[38;5;28mself\u001b[39m):\n\u001b[1;32m----> 9\u001b[0m     \u001b[38;5;28;01mreturn\u001b[39;00m \u001b[38;5;28;43mself\u001b[39;49m\u001b[38;5;241;43m.\u001b[39;49m\u001b[43m__course_price\u001b[49m\n",
      "\u001b[1;31mAttributeError\u001b[0m: 'prop_dec' object has no attribute '_prop_dec__course_price'"
     ]
    }
   ],
   "source": [
    "objj.access_course_price"
   ]
  },
  {
   "cell_type": "code",
   "execution_count": null,
   "id": "11a7bc66-dc56-46de-969a-bbbb59938c5b",
   "metadata": {},
   "outputs": [],
   "source": []
  },
  {
   "cell_type": "code",
   "execution_count": null,
   "id": "b9de3007-3c4d-4c09-afb0-a7785ada3d36",
   "metadata": {},
   "outputs": [],
   "source": []
  },
  {
   "cell_type": "markdown",
   "id": "2ffa6fd9-b738-44db-a4f4-191b9a90ff78",
   "metadata": {},
   "source": [
    "### read and write "
   ]
  },
  {
   "cell_type": "code",
   "execution_count": 2,
   "id": "0b5ac011-0d73-42b5-b849-86bce44dc0cf",
   "metadata": {},
   "outputs": [],
   "source": [
    "f=open('jai1.txt','w')"
   ]
  },
  {
   "cell_type": "code",
   "execution_count": 7,
   "id": "9e8433c0-2d72-4eeb-9d98-151e72c22164",
   "metadata": {},
   "outputs": [],
   "source": [
    "## to check where our present working directory is pwd is used\n"
   ]
  },
  {
   "cell_type": "code",
   "execution_count": 8,
   "id": "df00051d-3049-4c41-9283-5e711a19d35d",
   "metadata": {},
   "outputs": [
    {
     "data": {
      "text/plain": [
       "'C:\\\\Users\\\\Jai Yaduvanshi'"
      ]
     },
     "execution_count": 8,
     "metadata": {},
     "output_type": "execute_result"
    }
   ],
   "source": [
    "pwd"
   ]
  },
  {
   "cell_type": "code",
   "execution_count": 12,
   "id": "14206f5b-ca90-40fc-8c3d-789f57cce33c",
   "metadata": {},
   "outputs": [
    {
     "ename": "ValueError",
     "evalue": "I/O operation on closed file.",
     "output_type": "error",
     "traceback": [
      "\u001b[1;31m---------------------------------------------------------------------------\u001b[0m",
      "\u001b[1;31mValueError\u001b[0m                                Traceback (most recent call last)",
      "Input \u001b[1;32mIn [12]\u001b[0m, in \u001b[0;36m<cell line: 1>\u001b[1;34m()\u001b[0m\n\u001b[1;32m----> 1\u001b[0m f\u001b[38;5;241m.\u001b[39mwrite(\u001b[38;5;124m\"\u001b[39m\u001b[38;5;124mHello jai this is your first file\u001b[39m\u001b[38;5;124m\"\u001b[39m)\n",
      "\u001b[1;31mValueError\u001b[0m: I/O operation on closed file."
     ]
    }
   ],
   "source": [
    "f.write(\"Hello jai this is your first file\")"
   ]
  },
  {
   "cell_type": "code",
   "execution_count": 13,
   "id": "f8a99de7-b8bf-4457-92bd-a781c8f8df6e",
   "metadata": {},
   "outputs": [],
   "source": [
    "f.close()\n"
   ]
  },
  {
   "cell_type": "code",
   "execution_count": 14,
   "id": "bb523396-241d-4c6b-9edd-57c955c0d871",
   "metadata": {},
   "outputs": [],
   "source": [
    "f=open('jai1.txt','a')"
   ]
  },
  {
   "cell_type": "code",
   "execution_count": 15,
   "id": "311982d8-3408-4972-a3b9-5ee14fda77c4",
   "metadata": {},
   "outputs": [
    {
     "data": {
      "text/plain": [
       "22"
      ]
     },
     "execution_count": 15,
     "metadata": {},
     "output_type": "execute_result"
    }
   ],
   "source": [
    "f.write('hello again im writing')"
   ]
  },
  {
   "cell_type": "code",
   "execution_count": 16,
   "id": "ba9308bb-7090-44f5-9ee6-2381b2af86d9",
   "metadata": {},
   "outputs": [],
   "source": [
    "f.close()"
   ]
  },
  {
   "cell_type": "code",
   "execution_count": 17,
   "id": "ead19fea-81b3-44d8-a677-a8df5d3506ea",
   "metadata": {},
   "outputs": [],
   "source": [
    "f=open('jai1.txt','r')"
   ]
  },
  {
   "cell_type": "code",
   "execution_count": 18,
   "id": "b7594dfd-32cb-4df9-9292-7935382284a6",
   "metadata": {},
   "outputs": [
    {
     "data": {
      "text/plain": [
       "'Hello jai this is your first filehello again im writing'"
      ]
     },
     "execution_count": 18,
     "metadata": {},
     "output_type": "execute_result"
    }
   ],
   "source": [
    "f.read()"
   ]
  },
  {
   "cell_type": "code",
   "execution_count": 19,
   "id": "1d530c95-0aaa-4dd6-835f-df8d2843b4ec",
   "metadata": {},
   "outputs": [
    {
     "data": {
      "text/plain": [
       "''"
      ]
     },
     "execution_count": 19,
     "metadata": {},
     "output_type": "execute_result"
    }
   ],
   "source": [
    "f.readline()"
   ]
  },
  {
   "cell_type": "code",
   "execution_count": 20,
   "id": "2b6cf6ac-660d-4f57-8bcc-a545168ff48a",
   "metadata": {},
   "outputs": [],
   "source": [
    "##after f.read() the pointer is now pointing to the end of the file so readline() is showing empty string\n",
    "##so we have to make seek(0) to point to the starting point of the file"
   ]
  },
  {
   "cell_type": "code",
   "execution_count": 21,
   "id": "3be51f6d-6258-4e4a-96fb-33e23b095762",
   "metadata": {},
   "outputs": [
    {
     "data": {
      "text/plain": [
       "0"
      ]
     },
     "execution_count": 21,
     "metadata": {},
     "output_type": "execute_result"
    }
   ],
   "source": [
    "f.seek(0)"
   ]
  },
  {
   "cell_type": "code",
   "execution_count": 22,
   "id": "fc947021-3aa2-40cf-b7d1-d37697b32555",
   "metadata": {},
   "outputs": [
    {
     "data": {
      "text/plain": [
       "'Hello jai this is your first filehello again im writing'"
      ]
     },
     "execution_count": 22,
     "metadata": {},
     "output_type": "execute_result"
    }
   ],
   "source": [
    "f.readline()"
   ]
  },
  {
   "cell_type": "code",
   "execution_count": 29,
   "id": "649c3ad2-4707-4e46-a57b-4181808a357f",
   "metadata": {},
   "outputs": [],
   "source": [
    "## reading using for loop\n",
    "f=open('jai1.txt','r')"
   ]
  },
  {
   "cell_type": "code",
   "execution_count": 30,
   "id": "5972ebcd-d1ca-4167-9a84-4a21abb75d48",
   "metadata": {},
   "outputs": [
    {
     "name": "stdout",
     "output_type": "stream",
     "text": [
      "Hello jai this is your first filehello again im writing\n"
     ]
    }
   ],
   "source": [
    "for i in f:\n",
    "    print(i)"
   ]
  },
  {
   "cell_type": "code",
   "execution_count": 51,
   "id": "3ae479a3-8b6c-43c3-a0c5-636dde5f480e",
   "metadata": {},
   "outputs": [],
   "source": [
    "f.close()"
   ]
  },
  {
   "cell_type": "code",
   "execution_count": 57,
   "id": "f87e8253-55d0-4ed3-9ddf-71575f00b09b",
   "metadata": {},
   "outputs": [],
   "source": [
    "## to know the size of the file and delete and rename the file import os module\n",
    "import os"
   ]
  },
  {
   "cell_type": "code",
   "execution_count": 58,
   "id": "f0b0a3b6-9d81-4caa-aef1-494b89f31a59",
   "metadata": {},
   "outputs": [
    {
     "data": {
      "text/plain": [
       "55"
      ]
     },
     "execution_count": 58,
     "metadata": {},
     "output_type": "execute_result"
    }
   ],
   "source": [
    "os.path.getsize('jai1.txt')"
   ]
  },
  {
   "cell_type": "code",
   "execution_count": 59,
   "id": "7d77dbaf-f22e-4d23-8692-ed0ebdf52ee3",
   "metadata": {},
   "outputs": [
    {
     "ename": "PermissionError",
     "evalue": "[WinError 32] The process cannot access the file because it is being used by another process: 'jai1.txt'",
     "output_type": "error",
     "traceback": [
      "\u001b[1;31m---------------------------------------------------------------------------\u001b[0m",
      "\u001b[1;31mPermissionError\u001b[0m                           Traceback (most recent call last)",
      "Input \u001b[1;32mIn [59]\u001b[0m, in \u001b[0;36m<cell line: 1>\u001b[1;34m()\u001b[0m\n\u001b[1;32m----> 1\u001b[0m os\u001b[38;5;241m.\u001b[39mremove(\u001b[38;5;124m'\u001b[39m\u001b[38;5;124mjai1.txt\u001b[39m\u001b[38;5;124m'\u001b[39m)\n",
      "\u001b[1;31mPermissionError\u001b[0m: [WinError 32] The process cannot access the file because it is being used by another process: 'jai1.txt'"
     ]
    }
   ],
   "source": [
    "os.remove('jai1.txt')"
   ]
  },
  {
   "cell_type": "code",
   "execution_count": 60,
   "id": "5f82b3b6-3576-4b62-9419-4f7f54591a7d",
   "metadata": {},
   "outputs": [
    {
     "ename": "PermissionError",
     "evalue": "[WinError 32] The process cannot access the file because it is being used by another process: 'jai1.txt' -> 'newjai.txt'",
     "output_type": "error",
     "traceback": [
      "\u001b[1;31m---------------------------------------------------------------------------\u001b[0m",
      "\u001b[1;31mPermissionError\u001b[0m                           Traceback (most recent call last)",
      "Input \u001b[1;32mIn [60]\u001b[0m, in \u001b[0;36m<cell line: 1>\u001b[1;34m()\u001b[0m\n\u001b[1;32m----> 1\u001b[0m os\u001b[38;5;241m.\u001b[39mrename(\u001b[38;5;124m'\u001b[39m\u001b[38;5;124mjai1.txt\u001b[39m\u001b[38;5;124m'\u001b[39m,\u001b[38;5;124m'\u001b[39m\u001b[38;5;124mnewjai.txt\u001b[39m\u001b[38;5;124m'\u001b[39m)\n",
      "\u001b[1;31mPermissionError\u001b[0m: [WinError 32] The process cannot access the file because it is being used by another process: 'jai1.txt' -> 'newjai.txt'"
     ]
    }
   ],
   "source": [
    "os.rename('jai1.txt','newjai.txt')"
   ]
  },
  {
   "cell_type": "code",
   "execution_count": 61,
   "id": "cc98cf64-5d3c-4712-84e3-45a8758a068b",
   "metadata": {},
   "outputs": [],
   "source": [
    "## to copy a file in another file we first import shutil module\n",
    "import shutil"
   ]
  },
  {
   "cell_type": "code",
   "execution_count": 62,
   "id": "aec1a680-e21a-4a23-9857-2efde3d292e3",
   "metadata": {},
   "outputs": [
    {
     "data": {
      "text/plain": [
       "'new.txt'"
      ]
     },
     "execution_count": 62,
     "metadata": {},
     "output_type": "execute_result"
    }
   ],
   "source": [
    "shutil.copy('jai1.txt','new.txt')"
   ]
  },
  {
   "cell_type": "code",
   "execution_count": 64,
   "id": "f137bbf5-b1b7-4d83-aaab-742c08695a61",
   "metadata": {},
   "outputs": [
    {
     "name": "stdout",
     "output_type": "stream",
     "text": [
      "Hello jai this is your first filehello again im writing\n"
     ]
    }
   ],
   "source": [
    "with open('new.txt','r') as f:\n",
    "    print(f.read())"
   ]
  },
  {
   "cell_type": "code",
   "execution_count": 68,
   "id": "d605da39-2194-488a-8cc8-517538e6759a",
   "metadata": {},
   "outputs": [],
   "source": [
    "f=open('new.txt','a')"
   ]
  },
  {
   "cell_type": "code",
   "execution_count": 66,
   "id": "79aaebb6-36bb-4e6b-94ab-b4e97ff1f832",
   "metadata": {},
   "outputs": [
    {
     "data": {
      "text/plain": [
       "19"
      ]
     },
     "execution_count": 66,
     "metadata": {},
     "output_type": "execute_result"
    }
   ],
   "source": [
    "f.write('hellooo hello hello')"
   ]
  },
  {
   "cell_type": "code",
   "execution_count": 109,
   "id": "11bca525-0d51-407a-b38e-4d8ddbbb9052",
   "metadata": {},
   "outputs": [],
   "source": [
    "## json format data\n",
    "import json\n"
   ]
  },
  {
   "cell_type": "code",
   "execution_count": 110,
   "id": "01cb4e11-5bf6-465d-85ae-1e6c48bb5b02",
   "metadata": {},
   "outputs": [],
   "source": [
    "data={'name':'jai','email':'jai@gmail.com','courses':['data science','operating system','dbms','cd']}"
   ]
  },
  {
   "cell_type": "code",
   "execution_count": 104,
   "id": "699a7a01-97dc-4681-b552-290983d5059d",
   "metadata": {},
   "outputs": [],
   "source": [
    "\n",
    "with open('data.json','w') as f:\n",
    "    json.dump(data,f)"
   ]
  },
  {
   "cell_type": "code",
   "execution_count": 112,
   "id": "c3897be7-ae50-4635-94f9-081ccc411bff",
   "metadata": {},
   "outputs": [],
   "source": [
    "with open('data.json','r') as f:\n",
    "    data1=json.load(f)"
   ]
  },
  {
   "cell_type": "code",
   "execution_count": 113,
   "id": "c32ca8d2-bfb7-4d4c-bdb8-bd044a8af95f",
   "metadata": {},
   "outputs": [
    {
     "data": {
      "text/plain": [
       "{'name': 'jai',\n",
       " 'email': 'jai@gmail.com',\n",
       " 'courses': ['data science', 'operating system', 'dbms', 'cd']}"
      ]
     },
     "execution_count": 113,
     "metadata": {},
     "output_type": "execute_result"
    }
   ],
   "source": [
    "data1"
   ]
  },
  {
   "cell_type": "code",
   "execution_count": null,
   "id": "c2cdbcc8-0995-4db5-9ea5-1b8546614c15",
   "metadata": {},
   "outputs": [],
   "source": []
  },
  {
   "cell_type": "code",
   "execution_count": 118,
   "id": "69ae1f6b-1f99-4b69-8c65-f19a007fce25",
   "metadata": {},
   "outputs": [],
   "source": [
    "## make a comma separated file\n",
    "import csv"
   ]
  },
  {
   "cell_type": "code",
   "execution_count": 119,
   "id": "8680daf2-14ef-4f49-85b0-c76c026bbd67",
   "metadata": {},
   "outputs": [],
   "source": [
    "data2=[['name','email','phone'],\n",
    "      ['jai','jai@gmail.com',123445446],\n",
    "      ['asif','asif@gmail.com',12354864]]"
   ]
  },
  {
   "cell_type": "code",
   "execution_count": 120,
   "id": "f3b248a9-0fd0-4693-b5c4-81fb39287821",
   "metadata": {},
   "outputs": [],
   "source": [
    "with open('datac.csv','w') as f:\n",
    "    x=csv.writer(f)\n",
    "    \n",
    "    for i in data2:\n",
    "        x.writerow(i)"
   ]
  },
  {
   "cell_type": "code",
   "execution_count": 127,
   "id": "f1fe44b4-58ef-4ae7-b9b1-03c74196f884",
   "metadata": {},
   "outputs": [
    {
     "name": "stdout",
     "output_type": "stream",
     "text": [
      "['name', 'email', 'phone']\n",
      "[]\n",
      "['jai', 'jai@gmail.com', '123445446']\n",
      "[]\n",
      "['asif', 'asif@gmail.com', '12354864']\n",
      "[]\n"
     ]
    }
   ],
   "source": [
    "with open('datac.csv','r') as f:\n",
    "    ret_data=csv.reader(f)\n",
    "    \n",
    "    for i in ret_data:\n",
    "        print(i)"
   ]
  },
  {
   "cell_type": "code",
   "execution_count": null,
   "id": "2ed61589-0140-4f42-adfd-ea39c23f7a68",
   "metadata": {},
   "outputs": [],
   "source": []
  },
  {
   "cell_type": "code",
   "execution_count": 128,
   "id": "4c34277c-6a0c-4b87-841e-4212fae37550",
   "metadata": {},
   "outputs": [],
   "source": [
    "## writing binary file\n",
    "with open('binary_file.bin','wb') as f:\n",
    "    f.write(b'\\x01\\x04\\x234')"
   ]
  },
  {
   "cell_type": "code",
   "execution_count": 129,
   "id": "5973705b-0c43-4503-8168-3bc750fba0f3",
   "metadata": {},
   "outputs": [
    {
     "name": "stdout",
     "output_type": "stream",
     "text": [
      "b'\\x01\\x04#4'\n"
     ]
    }
   ],
   "source": [
    "with open('binary_file.bin','rb')as f:\n",
    "    print(f.read())"
   ]
  },
  {
   "cell_type": "code",
   "execution_count": null,
   "id": "2504b8f8-a2c4-43d2-aaa6-64235212a106",
   "metadata": {},
   "outputs": [],
   "source": []
  },
  {
   "cell_type": "code",
   "execution_count": 130,
   "id": "7be0b919-fc32-4c39-8dbc-1d19d1279da2",
   "metadata": {},
   "outputs": [],
   "source": [
    "## buffer to read and write file\n",
    "import io"
   ]
  },
  {
   "cell_type": "code",
   "execution_count": 136,
   "id": "eed7ee20-4876-4ce6-89ba-9f2cd28cb128",
   "metadata": {},
   "outputs": [],
   "source": [
    "with open('buff.txt','wb') as f:\n",
    "    file=io.BufferedWriter(f)\n",
    "    \n",
    "    file.write(b'heelo heelo')\n",
    "    file.flush()"
   ]
  },
  {
   "cell_type": "code",
   "execution_count": 138,
   "id": "6f18d0c7-58c5-4f2e-9ae0-6a37940ea7ae",
   "metadata": {},
   "outputs": [
    {
     "name": "stdout",
     "output_type": "stream",
     "text": [
      "b'heelo heelo'\n"
     ]
    }
   ],
   "source": [
    "with open('buff.txt','rb')as f:\n",
    "    file1=io.BufferedReader(f)\n",
    "    print(file1.read())\n",
    "    "
   ]
  },
  {
   "cell_type": "code",
   "execution_count": null,
   "id": "91b3ed63-18ef-4ca8-b98d-2bb3777b99ce",
   "metadata": {},
   "outputs": [],
   "source": []
  },
  {
   "cell_type": "markdown",
   "id": "70af81ed-3f78-4c28-ac50-adbd5e609915",
   "metadata": {},
   "source": [
    "## logging module"
   ]
  },
  {
   "cell_type": "code",
   "execution_count": 17,
   "id": "2e488c9a-6f1b-474b-a707-228990fb14f3",
   "metadata": {},
   "outputs": [],
   "source": [
    "import logging"
   ]
  },
  {
   "cell_type": "code",
   "execution_count": 3,
   "id": "5d6cd2c1-6ef7-4100-8c95-de5a84f653b5",
   "metadata": {},
   "outputs": [],
   "source": [
    "logging.basicConfig(filename=\"test1.log\",level=logging.INFO)"
   ]
  },
  {
   "cell_type": "code",
   "execution_count": 4,
   "id": "e5d6d054-dd6b-4443-b1c4-304bd72558d8",
   "metadata": {},
   "outputs": [],
   "source": [
    "logging.info('this is logging file')"
   ]
  },
  {
   "cell_type": "code",
   "execution_count": 5,
   "id": "eaa31bec-7c8f-420f-bc6d-4361a3c05d3d",
   "metadata": {},
   "outputs": [],
   "source": [
    "logging.info('hi this is a info message')"
   ]
  },
  {
   "cell_type": "markdown",
   "id": "90247a4a-8c7c-4f9d-8c1c-91d58d86c0e5",
   "metadata": {},
   "source": [
    "1. NOTSET\n",
    "2. DEBUG\n",
    "3. INFO\n",
    "4. WARNING\n",
    "5. ERROR\n",
    "6. CRITICAL\n",
    "with level=logging.INFO we can't add with logging.debug, we can add below the sequence not above\n",
    "like we can add with logging.warning"
   ]
  },
  {
   "cell_type": "code",
   "execution_count": 6,
   "id": "df1f20c3-0cad-4ea4-b908-0910a3cc94c4",
   "metadata": {},
   "outputs": [],
   "source": [
    "logging.warning('this is warning msg')"
   ]
  },
  {
   "cell_type": "code",
   "execution_count": 13,
   "id": "01db3b21-b01b-47bd-95df-3ee0590fd3ca",
   "metadata": {},
   "outputs": [],
   "source": [
    "logging.error('this is error msg')"
   ]
  },
  {
   "cell_type": "code",
   "execution_count": 14,
   "id": "9ca44958-c258-42b9-b41f-62a2aa5661c6",
   "metadata": {},
   "outputs": [],
   "source": [
    "logging.shutdown()"
   ]
  },
  {
   "cell_type": "code",
   "execution_count": 3,
   "id": "ed550a61-5575-4dda-aa6f-b3af475400f2",
   "metadata": {},
   "outputs": [],
   "source": [
    "logging.basicConfig(filename='test2.log',level=logging.DEBUG,format='%(asctime)s %(message)s')"
   ]
  },
  {
   "cell_type": "code",
   "execution_count": 4,
   "id": "5546d5d7-22fe-4136-abf4-d2a345c30fb8",
   "metadata": {},
   "outputs": [],
   "source": [
    "logging.info('this is my info')"
   ]
  },
  {
   "cell_type": "code",
   "execution_count": 5,
   "id": "9d1cd607-c830-484a-99a2-4b8397f3385b",
   "metadata": {},
   "outputs": [],
   "source": [
    "logging.error('this is error')"
   ]
  },
  {
   "cell_type": "code",
   "execution_count": 6,
   "id": "0f129afd-7405-43d6-a6c5-0c25aeaadfc8",
   "metadata": {},
   "outputs": [],
   "source": [
    "logging.critical('this is my critical')"
   ]
  },
  {
   "cell_type": "code",
   "execution_count": 20,
   "id": "2aec3e48-bd6b-4f0a-9287-13492dfc3506",
   "metadata": {},
   "outputs": [],
   "source": [
    "logging.shutdown()"
   ]
  },
  {
   "cell_type": "code",
   "execution_count": 2,
   "id": "27ee18be-0108-462f-a7d1-7933092dc7cd",
   "metadata": {},
   "outputs": [],
   "source": [
    "logging.basicConfig(filename='test3.log',level=logging.DEBUG,format='%(asctime)s %(message)s')"
   ]
  },
  {
   "cell_type": "code",
   "execution_count": 3,
   "id": "283556ba-d9c7-4e0e-9b03-8c8a077f28c6",
   "metadata": {},
   "outputs": [],
   "source": [
    "logging.info('this is info')"
   ]
  },
  {
   "cell_type": "code",
   "execution_count": 4,
   "id": "2f2719c8-3071-4786-aaec-b483f68126e2",
   "metadata": {},
   "outputs": [],
   "source": [
    "logging.error('this is error')"
   ]
  },
  {
   "cell_type": "code",
   "execution_count": 5,
   "id": "6e706705-4ff2-4780-bd64-6111877bf8a5",
   "metadata": {},
   "outputs": [],
   "source": [
    "logging.critical('this is critical')"
   ]
  },
  {
   "cell_type": "code",
   "execution_count": 18,
   "id": "8cf163e5-0997-448a-ac1d-cc4044f8bfb6",
   "metadata": {},
   "outputs": [],
   "source": [
    "## let's see use of logging \n",
    "logging.basicConfig(filename='use.log',level=logging.DEBUG,format='%(asctime)s %(message)s ')\n"
   ]
  },
  {
   "cell_type": "code",
   "execution_count": 24,
   "id": "f7e7fd7a-7bf1-46f0-9302-eddc3eee0657",
   "metadata": {},
   "outputs": [],
   "source": [
    "## let's we have a list and we want to make different lists for both integer and string\n",
    "l=[1,2,3,[34,50,34],'jai','asif','kulbir','arpit']\n",
    "l_int=[]\n",
    "l_str=[]\n",
    "for i in l:\n",
    "    logging.info('inside for loop')\n",
    "    if type(i)==int:\n",
    "        logging.info('checking the type '+str(i))\n",
    "        l_int.append(i)\n",
    "        logging.info('appended the value'+str(i))\n",
    "        \n",
    "    elif type(i)==list:\n",
    "        for j in i:\n",
    "            logging.info('inside for loop')\n",
    "            if type(j)==int:\n",
    "                logging.info('checking the type'+str(j))\n",
    "                l_int.append(j)\n",
    "                logging.info('appended the value'+str(j))\n",
    "                \n",
    "    else:\n",
    "        if type(i)==str:\n",
    "            logging.info('checking the type'+str(i))\n",
    "            l_str.append(i)\n",
    "            logging.info('appended the value'+str(i))"
   ]
  },
  {
   "cell_type": "code",
   "execution_count": 22,
   "id": "a0d7c005-658f-4618-aaf3-d1dd0f0f6531",
   "metadata": {},
   "outputs": [
    {
     "data": {
      "text/plain": [
       "[1, 2, 3, 34, 50, 34]"
      ]
     },
     "execution_count": 22,
     "metadata": {},
     "output_type": "execute_result"
    }
   ],
   "source": [
    "l_int\n"
   ]
  },
  {
   "cell_type": "code",
   "execution_count": 23,
   "id": "850545e2-9ab0-4905-a16d-25861e552588",
   "metadata": {},
   "outputs": [
    {
     "data": {
      "text/plain": [
       "['jai', 'asif', 'kulbir', 'arpit']"
      ]
     },
     "execution_count": 23,
     "metadata": {},
     "output_type": "execute_result"
    }
   ],
   "source": [
    "l_str"
   ]
  },
  {
   "cell_type": "code",
   "execution_count": null,
   "id": "80552765-4d8e-4bf5-a059-a5d6bf4145ae",
   "metadata": {},
   "outputs": [],
   "source": []
  },
  {
   "cell_type": "code",
   "execution_count": null,
   "id": "a804e98a-5857-45af-b6b8-e23bf6a82b16",
   "metadata": {},
   "outputs": [],
   "source": []
  },
  {
   "cell_type": "code",
   "execution_count": null,
   "id": "ed556a06-d313-4cff-9d21-2549002cf51a",
   "metadata": {},
   "outputs": [],
   "source": []
  },
  {
   "cell_type": "code",
   "execution_count": null,
   "id": "32f80d6b-430c-4462-ba98-7dfbb09e55a2",
   "metadata": {},
   "outputs": [],
   "source": []
  },
  {
   "cell_type": "code",
   "execution_count": null,
   "id": "181bcd63-3487-4c83-84f5-8e2071c2af9b",
   "metadata": {},
   "outputs": [],
   "source": []
  },
  {
   "cell_type": "markdown",
   "id": "9a284455-3d86-4072-be9e-3a736a830c0f",
   "metadata": {},
   "source": [
    "## Exception Handling"
   ]
  },
  {
   "cell_type": "code",
   "execution_count": 1,
   "id": "f084dafb-b520-44a2-b3d6-f538706a8b5d",
   "metadata": {},
   "outputs": [
    {
     "ename": "FileNotFoundError",
     "evalue": "[Errno 2] No such file or directory: 'j.txt'",
     "output_type": "error",
     "traceback": [
      "\u001b[1;31m---------------------------------------------------------------------------\u001b[0m",
      "\u001b[1;31mFileNotFoundError\u001b[0m                         Traceback (most recent call last)",
      "Input \u001b[1;32mIn [1]\u001b[0m, in \u001b[0;36m<cell line: 1>\u001b[1;34m()\u001b[0m\n\u001b[1;32m----> 1\u001b[0m f\u001b[38;5;241m=\u001b[39m\u001b[38;5;28mopen\u001b[39m(\u001b[38;5;124m'\u001b[39m\u001b[38;5;124mj.txt\u001b[39m\u001b[38;5;124m'\u001b[39m,\u001b[38;5;124m'\u001b[39m\u001b[38;5;124mr\u001b[39m\u001b[38;5;124m'\u001b[39m)\n",
      "\u001b[1;31mFileNotFoundError\u001b[0m: [Errno 2] No such file or directory: 'j.txt'"
     ]
    }
   ],
   "source": [
    "f=open('j.txt','r')"
   ]
  },
  {
   "cell_type": "code",
   "execution_count": 6,
   "id": "d318b93f-60ad-4fbf-86db-742bdf478e03",
   "metadata": {},
   "outputs": [
    {
     "name": "stdout",
     "output_type": "stream",
     "text": [
      "there was error division by zero\n"
     ]
    }
   ],
   "source": [
    "try:\n",
    "    a=10\n",
    "    a/0\n",
    "except Exception as e:\n",
    "    \n",
    "    print('there was error',e)"
   ]
  },
  {
   "cell_type": "code",
   "execution_count": null,
   "id": "58f51d5e-49cc-4e72-bd0a-d54559ddbb28",
   "metadata": {},
   "outputs": [],
   "source": []
  },
  {
   "cell_type": "markdown",
   "id": "e36860b3-7b41-44a4-a6c8-d6cb736aa0f5",
   "metadata": {},
   "source": [
    "### else block in try except will be executed only when try is successfully executed"
   ]
  },
  {
   "cell_type": "code",
   "execution_count": 8,
   "id": "da54b652-7eff-4552-bb5b-c8df82609d26",
   "metadata": {},
   "outputs": [
    {
     "name": "stdout",
     "output_type": "stream",
     "text": [
      "5.0\n",
      "try block successfully executed\n"
     ]
    }
   ],
   "source": [
    "try:\n",
    "    a=10\n",
    "    print(a/2)\n",
    "except Exception as e:\n",
    "    print('hey error occured',e)\n",
    "    \n",
    "else:\n",
    "    print('try block successfully executed')"
   ]
  },
  {
   "cell_type": "code",
   "execution_count": 9,
   "id": "73f0ce93-621b-4819-ae62-dcdae6f40490",
   "metadata": {},
   "outputs": [
    {
     "name": "stdout",
     "output_type": "stream",
     "text": [
      "hey error occured division by zero\n"
     ]
    }
   ],
   "source": [
    "try:\n",
    "    a=10\n",
    "    print(a/0)\n",
    "except Exception as e:\n",
    "    print('hey error occured',e)\n",
    "    \n",
    "else:\n",
    "    print('try block successfully executed')"
   ]
  },
  {
   "cell_type": "markdown",
   "id": "bfa15e6e-525e-4ad0-8cf7-eb886eb39efa",
   "metadata": {},
   "source": [
    "## we can write try inside try , try inside except or inside else means there can be hierarchy in exception handling"
   ]
  },
  {
   "cell_type": "markdown",
   "id": "00c5ff45-c663-4571-acb9-87054d501119",
   "metadata": {},
   "source": [
    "## finally block will always execute after try and catch"
   ]
  },
  {
   "cell_type": "code",
   "execution_count": 12,
   "id": "7b5946d2-ca2f-407a-8d66-c78c7620c7a4",
   "metadata": {},
   "outputs": [
    {
     "name": "stdout",
     "output_type": "stream",
     "text": [
      "finally will always execute\n"
     ]
    },
    {
     "ename": "ZeroDivisionError",
     "evalue": "division by zero",
     "output_type": "error",
     "traceback": [
      "\u001b[1;31m---------------------------------------------------------------------------\u001b[0m",
      "\u001b[1;31mZeroDivisionError\u001b[0m                         Traceback (most recent call last)",
      "Input \u001b[1;32mIn [12]\u001b[0m, in \u001b[0;36m<cell line: 1>\u001b[1;34m()\u001b[0m\n\u001b[0;32m      1\u001b[0m \u001b[38;5;28;01mtry\u001b[39;00m:\n\u001b[0;32m      2\u001b[0m     a\u001b[38;5;241m=\u001b[39m\u001b[38;5;241m10\u001b[39m\n\u001b[1;32m----> 3\u001b[0m     a\u001b[38;5;241m/\u001b[39m\u001b[38;5;241m0\u001b[39m\n\u001b[0;32m      4\u001b[0m \u001b[38;5;28;01mfinally\u001b[39;00m:\n\u001b[0;32m      5\u001b[0m     \u001b[38;5;28mprint\u001b[39m(\u001b[38;5;124m'\u001b[39m\u001b[38;5;124mfinally will always execute\u001b[39m\u001b[38;5;124m'\u001b[39m)\n",
      "\u001b[1;31mZeroDivisionError\u001b[0m: division by zero"
     ]
    }
   ],
   "source": [
    "try:\n",
    "    a=10\n",
    "    a/0\n",
    "finally:\n",
    "    print('finally will always execute')"
   ]
  },
  {
   "cell_type": "markdown",
   "id": "14c715d2-23ae-4547-9db7-30c08e8b132e",
   "metadata": {},
   "source": [
    "## no problem if we don't write except but finally will always execute"
   ]
  },
  {
   "cell_type": "code",
   "execution_count": null,
   "id": "971dc5fe-dee0-443e-b362-e36c471bf59e",
   "metadata": {},
   "outputs": [],
   "source": []
  },
  {
   "cell_type": "markdown",
   "id": "246d8e2d-1ac2-4166-89f7-aaee20ace2b3",
   "metadata": {},
   "source": [
    "## Custom Exception Handling\n",
    "### generally there is exception class which is super class of all the exception classes\n",
    "### if we want to raise our exception then we use custom exception \n",
    "### we can write any number of except for a try block,and the the except block which can handle the error first will be executed but this execution will be in sequence in which they are written"
   ]
  },
  {
   "cell_type": "code",
   "execution_count": 13,
   "id": "a952bd74-9705-4573-b45d-5172b7bf6fab",
   "metadata": {},
   "outputs": [],
   "source": [
    "class our_exception(Exception):\n",
    "    def __init__(self,msg):\n",
    "        self.msg=msg\n",
    "        \n",
    "        \n",
    "    "
   ]
  },
  {
   "cell_type": "code",
   "execution_count": 14,
   "id": "f430864b-46c6-41da-a95e-fe4b27d7c72c",
   "metadata": {},
   "outputs": [],
   "source": [
    "def exc_method(age):\n",
    "    if age<0:\n",
    "        raise our_exception('entered age is negative invalid')\n",
    "        \n",
    "    if age>200:\n",
    "        raise our_exception('entered age too high invalid')\n",
    "        \n",
    "    else:\n",
    "        print(200)"
   ]
  },
  {
   "cell_type": "code",
   "execution_count": 16,
   "id": "00d0208d-4103-4d94-af2a-898594037f36",
   "metadata": {},
   "outputs": [
    {
     "name": "stdin",
     "output_type": "stream",
     "text": [
      "Enter your age -10\n"
     ]
    },
    {
     "name": "stdout",
     "output_type": "stream",
     "text": [
      "error entered age is negative invalid\n"
     ]
    }
   ],
   "source": [
    "try:\n",
    "    age=int(input('Enter your age'))\n",
    "    exc_method(age)\n",
    "    \n",
    "except our_exception as e:\n",
    "    print('error',e)"
   ]
  },
  {
   "cell_type": "code",
   "execution_count": null,
   "id": "a9ff456b-d229-4c0b-b5d5-594d89bc331b",
   "metadata": {},
   "outputs": [],
   "source": []
  },
  {
   "cell_type": "code",
   "execution_count": 26,
   "id": "dbb9446e-2dac-4b54-8a22-6e143b871369",
   "metadata": {},
   "outputs": [],
   "source": [
    "mydata={'mentor':['jai','asif','arpit','kulbir','preeto','dhulli'],'subject':['os','dbms','cn','coa'],\n",
    "       'college':'GJU'}"
   ]
  },
  {
   "cell_type": "code",
   "execution_count": 25,
   "id": "d62e4e05-56fc-4535-bccb-2cc14572c4f7",
   "metadata": {},
   "outputs": [],
   "source": [
    "import json"
   ]
  },
  {
   "cell_type": "code",
   "execution_count": 27,
   "id": "7ab0eed1-b910-4044-9e76-6d1bae2072a5",
   "metadata": {},
   "outputs": [],
   "source": [
    "with open('jai.json','w') as f:\n",
    "    json.dump(mydata,f)"
   ]
  },
  {
   "cell_type": "code",
   "execution_count": 28,
   "id": "5b478294-5833-4282-95f1-aa2d917fe890",
   "metadata": {},
   "outputs": [],
   "source": [
    "with open('jai.json','r') as f:\n",
    "    d=json.load(f)"
   ]
  },
  {
   "cell_type": "code",
   "execution_count": 29,
   "id": "486da3b2-1e7c-45c4-a798-30f61766cfaa",
   "metadata": {},
   "outputs": [
    {
     "data": {
      "text/plain": [
       "{'mentor': ['jai', 'asif', 'arpit', 'kulbir', 'preeto', 'dhulli'],\n",
       " 'subject': ['os', 'dbms', 'cn', 'coa'],\n",
       " 'college': 'GJU'}"
      ]
     },
     "execution_count": 29,
     "metadata": {},
     "output_type": "execute_result"
    }
   ],
   "source": [
    "d"
   ]
  },
  {
   "cell_type": "code",
   "execution_count": null,
   "id": "944a6a0a-4acf-44a0-94db-0a707f2dea42",
   "metadata": {},
   "outputs": [],
   "source": []
  },
  {
   "cell_type": "code",
   "execution_count": 10,
   "id": "ddcd3308-27a5-481a-8055-809add70c19a",
   "metadata": {},
   "outputs": [],
   "source": [
    "import csv"
   ]
  },
  {
   "cell_type": "code",
   "execution_count": 11,
   "id": "1edb1bc8-8b67-4279-9498-fcb173c0968f",
   "metadata": {},
   "outputs": [],
   "source": [
    "data=[['jai','asif','kulbir'],\n",
    "     ['jai@gmail.com','asif@gmail.com','kulbir@gmail.com']]"
   ]
  },
  {
   "cell_type": "code",
   "execution_count": 12,
   "id": "f7260452-c493-414e-8a10-8df39380c0c1",
   "metadata": {},
   "outputs": [],
   "source": [
    "with open('jai.csv','w') as f:\n",
    "    x=csv.writer(f)\n",
    "    \n",
    "    for i in data:\n",
    "        x.writerow(i)"
   ]
  },
  {
   "cell_type": "code",
   "execution_count": 13,
   "id": "7fb0d2cc-a36c-451f-ac70-b5e087b91a75",
   "metadata": {},
   "outputs": [
    {
     "name": "stdout",
     "output_type": "stream",
     "text": [
      "['jai', 'asif', 'kulbir']\n",
      "[]\n",
      "['jai@gmail.com', 'asif@gmail.com', 'kulbir@gmail.com']\n",
      "[]\n"
     ]
    }
   ],
   "source": [
    "with open('jai.csv','r') as f:\n",
    "    ret_d=csv.reader(f)\n",
    "    \n",
    "    for i in ret_d:\n",
    "        print(i)"
   ]
  },
  {
   "cell_type": "code",
   "execution_count": null,
   "id": "982dd9f1-7bcb-4b79-928c-d15c90a020ae",
   "metadata": {},
   "outputs": [],
   "source": []
  },
  {
   "cell_type": "code",
   "execution_count": 16,
   "id": "76e37653-acc0-41ff-a69a-52ba06349d00",
   "metadata": {},
   "outputs": [
    {
     "name": "stdout",
     "output_type": "stream",
     "text": [
      "error\n"
     ]
    }
   ],
   "source": [
    "try:\n",
    "    a=10/0\n",
    " \n",
    "except :\n",
    "    print('error')\n"
   ]
  },
  {
   "cell_type": "code",
   "execution_count": 17,
   "id": "8d2710e1-576a-49b1-8194-c029fdb06ef2",
   "metadata": {},
   "outputs": [
    {
     "name": "stdout",
     "output_type": "stream",
     "text": [
      "No module named 'jai'\n"
     ]
    }
   ],
   "source": [
    "try:\n",
    "    import jai\n",
    "    \n",
    "except Exception as e:\n",
    "    print(e)"
   ]
  },
  {
   "cell_type": "code",
   "execution_count": 18,
   "id": "c7c32936-e2cf-4e31-97cb-ec246c842677",
   "metadata": {},
   "outputs": [
    {
     "name": "stdout",
     "output_type": "stream",
     "text": [
      "list index out of range\n"
     ]
    }
   ],
   "source": [
    "try:\n",
    "    l=[1,23,4]\n",
    "    print(l[5])\n",
    "except Exception as e:\n",
    "    print(e)"
   ]
  },
  {
   "cell_type": "code",
   "execution_count": 78,
   "id": "29e1384e-dea6-4524-8d43-0095e1af1d5c",
   "metadata": {},
   "outputs": [],
   "source": [
    "def fun(*kwargs):\n",
    "    return kwargs"
   ]
  },
  {
   "cell_type": "code",
   "execution_count": 88,
   "id": "29639412-6734-42e9-9c36-eff32f000a53",
   "metadata": {},
   "outputs": [
    {
     "data": {
      "text/plain": [
       "([12, 3, 4, 5, 6], [23, 4, 6])"
      ]
     },
     "execution_count": 88,
     "metadata": {},
     "output_type": "execute_result"
    }
   ],
   "source": [
    "fun(l,l2)"
   ]
  },
  {
   "cell_type": "code",
   "execution_count": 80,
   "id": "e2b1ef2c-c122-44ff-a68e-0c1359888231",
   "metadata": {},
   "outputs": [],
   "source": [
    "l=[12,3,4,5,6]"
   ]
  },
  {
   "cell_type": "code",
   "execution_count": 87,
   "id": "43cbd74b-fcf2-46e1-9a53-2ca1ad8c45ab",
   "metadata": {},
   "outputs": [],
   "source": [
    "l2=[23,4,6]"
   ]
  },
  {
   "cell_type": "code",
   "execution_count": null,
   "id": "6925dc45-6fe2-44fa-956d-1de7e67be01a",
   "metadata": {},
   "outputs": [],
   "source": []
  },
  {
   "cell_type": "code",
   "execution_count": null,
   "id": "f42df99e-675a-4156-b225-946d30a3184a",
   "metadata": {},
   "outputs": [],
   "source": []
  },
  {
   "cell_type": "code",
   "execution_count": null,
   "id": "0814bf47-26e9-4717-8d32-1ee770981f54",
   "metadata": {},
   "outputs": [],
   "source": []
  },
  {
   "cell_type": "markdown",
   "id": "d6bda7ea-2a33-40f6-8341-861d27ef47aa",
   "metadata": {},
   "source": [
    "## Multithreading\n",
    "### When we run multiple instance of same program on a single processor or we can say when process is divided into sub-processes called thread and executed on cpu\n"
   ]
  },
  {
   "cell_type": "code",
   "execution_count": 9,
   "id": "0cae3e02-6ae2-46e3-8c96-e360a92a418b",
   "metadata": {},
   "outputs": [],
   "source": [
    "import threading\n"
   ]
  },
  {
   "cell_type": "code",
   "execution_count": 19,
   "id": "ff9e3136-3ece-4b0d-a772-d4366e87158a",
   "metadata": {},
   "outputs": [],
   "source": [
    "import time"
   ]
  },
  {
   "cell_type": "code",
   "execution_count": 42,
   "id": "1b56b0c4-1163-4ab3-b6c8-72e42d91331a",
   "metadata": {},
   "outputs": [],
   "source": [
    "def fun(id):\n",
    "    for i in range(10):\n",
    "        print(\"id is %d and loop is %d\" %(id,i),time.asctime())\n",
    "        time.sleep(1)"
   ]
  },
  {
   "cell_type": "code",
   "execution_count": 43,
   "id": "924bfdcd-b099-42e5-a248-fad3dd6f2005",
   "metadata": {},
   "outputs": [],
   "source": [
    "x=[threading.Thread(target=fun,args=(i,)) for i in range(3)]"
   ]
  },
  {
   "cell_type": "code",
   "execution_count": 44,
   "id": "55ce8660-9a2f-49b1-935f-16d007db718f",
   "metadata": {},
   "outputs": [
    {
     "name": "stdout",
     "output_type": "stream",
     "text": [
      "id is 0 and loop is 0 Wed Feb 15 18:17:39 2023\n",
      "id is 1 and loop is 0id is 2 and loop is 0 Wed Feb 15 18:17:39 2023\n",
      " Wed Feb 15 18:17:39 2023\n",
      "id is 0 and loop is 1 Wed Feb 15 18:17:40 2023\n",
      "id is 2 and loop is 1id is 1 and loop is 1 Wed Feb 15 18:17:40 2023\n",
      " Wed Feb 15 18:17:40 2023\n",
      "id is 0 and loop is 2 Wed Feb 15 18:17:41 2023\n",
      "id is 2 and loop is 2id is 1 and loop is 2 Wed Feb 15 18:17:41 2023\n",
      " Wed Feb 15 18:17:41 2023\n",
      "id is 0 and loop is 3 Wed Feb 15 18:17:42 2023\n",
      "id is 2 and loop is 3 Wed Feb 15 18:17:42 2023\n",
      "id is 1 and loop is 3 Wed Feb 15 18:17:42 2023\n",
      "id is 0 and loop is 4 Wed Feb 15 18:17:43 2023\n",
      "id is 1 and loop is 4id is 2 and loop is 4 Wed Feb 15 18:17:43 2023\n",
      " Wed Feb 15 18:17:43 2023\n",
      "id is 0 and loop is 5 Wed Feb 15 18:17:44 2023\n",
      "id is 1 and loop is 5id is 2 and loop is 5 Wed Feb 15 18:17:44 2023\n",
      " Wed Feb 15 18:17:44 2023\n",
      "id is 0 and loop is 6 Wed Feb 15 18:17:45 2023\n",
      "id is 1 and loop is 6id is 2 and loop is 6 Wed Feb 15 18:17:45 2023\n",
      " Wed Feb 15 18:17:45 2023\n",
      "id is 0 and loop is 7 Wed Feb 15 18:17:46 2023\n",
      "id is 1 and loop is 7id is 2 and loop is 7 Wed Feb 15 18:17:46 2023\n",
      " Wed Feb 15 18:17:46 2023\n",
      "id is 0 and loop is 8 Wed Feb 15 18:17:47 2023\n",
      "id is 2 and loop is 8id is 1 and loop is 8 Wed Feb 15 18:17:47 2023\n",
      " Wed Feb 15 18:17:47 2023\n",
      "id is 0 and loop is 9 Wed Feb 15 18:17:48 2023\n",
      "id is 2 and loop is 9id is 1 and loop is 9 Wed Feb 15 18:17:48 2023\n",
      " Wed Feb 15 18:17:48 2023\n"
     ]
    }
   ],
   "source": [
    "for t in x:\n",
    "    t.start()"
   ]
  },
  {
   "cell_type": "code",
   "execution_count": 42,
   "id": "eda8e322-41c9-4db2-bfa7-8d91bcdf125a",
   "metadata": {},
   "outputs": [],
   "source": [
    "import threading"
   ]
  },
  {
   "cell_type": "code",
   "execution_count": 43,
   "id": "12d8c775-314a-47b8-9ff0-44befc333cd0",
   "metadata": {},
   "outputs": [],
   "source": [
    "import urllib"
   ]
  },
  {
   "cell_type": "code",
   "execution_count": 44,
   "id": "b06dde7f-852f-4de3-bc97-6fa86ede52cd",
   "metadata": {},
   "outputs": [],
   "source": [
    "def fun2(url_name,file_name):\n",
    "    urllib.request.urlretrieve(url_name,file_name)"
   ]
  },
  {
   "cell_type": "code",
   "execution_count": 45,
   "id": "448a8dd4-388d-44c3-acdb-8ef8d7a640e2",
   "metadata": {},
   "outputs": [],
   "source": [
    "url_name=['https://github.com/Jai3699/Assignments/blob/main/Untitled.ipynb','https://github.com/Jai3699/Assignments/blob/main/assign10feb.ipynb','https://github.com/Jai3699/Assignments/blob/main/assign_9feb.ipynb']"
   ]
  },
  {
   "cell_type": "code",
   "execution_count": 46,
   "id": "0f54b04b-3862-4516-9ac0-653a8e5e8ea9",
   "metadata": {},
   "outputs": [],
   "source": [
    "file_name=['down1.ipynb','down2.ipynb','down3.ipynb']"
   ]
  },
  {
   "cell_type": "code",
   "execution_count": 47,
   "id": "80f5ec0b-7a4b-4ee5-825e-a36e7284ed38",
   "metadata": {},
   "outputs": [],
   "source": [
    "t=[threading.Thread(target=fun2,args=(url_name[i],file_name[i])) for i in range(len(url_name))]"
   ]
  },
  {
   "cell_type": "code",
   "execution_count": 48,
   "id": "fdc0b5cb-c893-40a8-8dcb-7f34456be14c",
   "metadata": {},
   "outputs": [],
   "source": [
    "for i in t:\n",
    "    i.start()"
   ]
  },
  {
   "cell_type": "code",
   "execution_count": null,
   "id": "cd1777c9-043b-42b5-b062-4492fe4592de",
   "metadata": {},
   "outputs": [],
   "source": []
  },
  {
   "cell_type": "markdown",
   "id": "821b77bb-f61a-439a-b159-80a31f3b513a",
   "metadata": {},
   "source": [
    "## Multiprocessing"
   ]
  },
  {
   "cell_type": "code",
   "execution_count": 4,
   "id": "b031ff8f-2c87-4324-b763-fdb253f92881",
   "metadata": {},
   "outputs": [],
   "source": [
    "import multiprocessing\n",
    "def sender(conn , msg) :\n",
    "    for i in msg:\n",
    "        conn.send(i)\n",
    "    conn.close()\n",
    "    \n",
    "def receive(conn) : \n",
    "    while True :\n",
    "        try :\n",
    "            msg = conn.recv()\n",
    "        except Exception as e :\n",
    "            print(e)\n",
    "            break \n",
    "        print(msg)\n",
    "\n",
    "if __name__ == '__main__' :\n",
    "    msg = [\"my name is sudh\" , \"this is my msg to students\" , \"i am taking class for multiprocssing \" ] \n",
    "    parent_con , child_con = multiprocessing.Pipe()\n",
    "    m1  = multiprocessing.Process(target=sender , args = (child_con , msg))\n",
    "    m2 = multiprocessing.Process(target=receive , args =(parent_con,))\n",
    "    m1.start()\n",
    "    m2.start()\n",
    "    m1.join()\n",
    "    child_con.close()\n",
    "    m2.join()\n",
    "    parent_con.close()\n",
    "    \n",
    "    \n",
    "    "
   ]
  },
  {
   "cell_type": "code",
   "execution_count": null,
   "id": "8cf7d06b-4211-42d2-bd6e-ed8172dfb2d9",
   "metadata": {},
   "outputs": [],
   "source": [
    "import multiprocessing\n",
    "def fun():\n",
    "    print('this is fun')\n",
    "    \n",
    "if __name__=='__main__':\n",
    "    m=multiprocessing.Process(target=fun)\n",
    "    m.start()\n",
    "    m.join()\n",
    "    print('main')\n",
    "    \n",
    "    "
   ]
  },
  {
   "cell_type": "code",
   "execution_count": null,
   "id": "c57791f3-50b6-4612-b5be-3657a221a692",
   "metadata": {},
   "outputs": [],
   "source": []
  },
  {
   "cell_type": "code",
   "execution_count": null,
   "id": "afa5d1b8-9540-4144-9291-7abaea9d32d7",
   "metadata": {},
   "outputs": [],
   "source": [
    "## pool in multiprocessing\n",
    "\n",
    "import multiprocessing\n",
    "def squ(n):\n",
    "    return n**2\n",
    "\n",
    "if __name__=='__main__':\n",
    "    with multiprocessing.Pool(processes=4) as pl:\n",
    "        lis=pl.map(squ,[2,3,4,5])\n",
    "        print(lis)\n",
    "        "
   ]
  },
  {
   "cell_type": "code",
   "execution_count": null,
   "id": "bc7608f7-ad81-4fc0-b6f4-3c7ba706fc94",
   "metadata": {},
   "outputs": [],
   "source": [
    "print(lis)"
   ]
  },
  {
   "cell_type": "code",
   "execution_count": null,
   "id": "0aa31774-2471-4c5b-8258-e9626570d4dc",
   "metadata": {},
   "outputs": [],
   "source": []
  }
 ],
 "metadata": {
  "kernelspec": {
   "display_name": "Python 3 (ipykernel)",
   "language": "python",
   "name": "python3"
  },
  "language_info": {
   "codemirror_mode": {
    "name": "ipython",
    "version": 3
   },
   "file_extension": ".py",
   "mimetype": "text/x-python",
   "name": "python",
   "nbconvert_exporter": "python",
   "pygments_lexer": "ipython3",
   "version": "3.9.7"
  }
 },
 "nbformat": 4,
 "nbformat_minor": 5
}
