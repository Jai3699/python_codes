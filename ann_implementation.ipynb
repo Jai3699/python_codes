{
 "cells": [
  {
   "cell_type": "code",
   "execution_count": 2,
   "id": "7c6a60e6-337a-44d5-8e1c-ef7af0d6e66a",
   "metadata": {},
   "outputs": [],
   "source": [
    "import tensorflow as tf\n",
    "import pandas as pd\n",
    "import numpy as np\n",
    "import matplotlib.pyplot as plt\n",
    "import seaborn as sns\n",
    "import os"
   ]
  },
  {
   "cell_type": "code",
   "execution_count": 3,
   "id": "9ef63ea5-d89e-499d-9d65-88204cfb29dd",
   "metadata": {},
   "outputs": [
    {
     "name": "stdout",
     "output_type": "stream",
     "text": [
      "version of tensorflow 2.13.0\n"
     ]
    }
   ],
   "source": [
    "print('version of tensorflow {}'.format(tf.__version__))"
   ]
  },
  {
   "cell_type": "code",
   "execution_count": 4,
   "id": "e3e8bb4e-e399-41e9-b5f4-7a311be1bba2",
   "metadata": {},
   "outputs": [
    {
     "ename": "AttributeError",
     "evalue": "module 'keras.api._v2.keras' has no attribute '__version__'",
     "output_type": "error",
     "traceback": [
      "\u001b[0;31m---------------------------------------------------------------------------\u001b[0m",
      "\u001b[0;31mAttributeError\u001b[0m                            Traceback (most recent call last)",
      "Cell \u001b[0;32mIn[4], line 1\u001b[0m\n\u001b[0;32m----> 1\u001b[0m \u001b[38;5;28mprint\u001b[39m(\u001b[38;5;124mf\u001b[39m\u001b[38;5;124m\"\u001b[39m\u001b[38;5;124mversion of keras \u001b[39m\u001b[38;5;132;01m{\u001b[39;00m\u001b[43mtf\u001b[49m\u001b[38;5;241;43m.\u001b[39;49m\u001b[43mkeras\u001b[49m\u001b[38;5;241;43m.\u001b[39;49m\u001b[43m__version__\u001b[49m\u001b[38;5;132;01m}\u001b[39;00m\u001b[38;5;124m\"\u001b[39m)\n",
      "File \u001b[0;32m/opt/conda/lib/python3.10/site-packages/tensorflow/python/util/lazy_loader.py:59\u001b[0m, in \u001b[0;36mLazyLoader.__getattr__\u001b[0;34m(self, item)\u001b[0m\n\u001b[1;32m     57\u001b[0m \u001b[38;5;28;01mdef\u001b[39;00m \u001b[38;5;21m__getattr__\u001b[39m(\u001b[38;5;28mself\u001b[39m, item):\n\u001b[1;32m     58\u001b[0m   module \u001b[38;5;241m=\u001b[39m \u001b[38;5;28mself\u001b[39m\u001b[38;5;241m.\u001b[39m_load()\n\u001b[0;32m---> 59\u001b[0m   \u001b[38;5;28;01mreturn\u001b[39;00m \u001b[38;5;28;43mgetattr\u001b[39;49m\u001b[43m(\u001b[49m\u001b[43mmodule\u001b[49m\u001b[43m,\u001b[49m\u001b[43m \u001b[49m\u001b[43mitem\u001b[49m\u001b[43m)\u001b[49m\n",
      "\u001b[0;31mAttributeError\u001b[0m: module 'keras.api._v2.keras' has no attribute '__version__'"
     ]
    }
   ],
   "source": [
    "print(f\"version of keras {tf.keras.__version__}\")"
   ]
  },
  {
   "cell_type": "code",
   "execution_count": 5,
   "id": "54148d8e-d622-4a90-8b09-0c46993ecb06",
   "metadata": {},
   "outputs": [
    {
     "data": {
      "text/plain": [
       "'/home/jovyan/work'"
      ]
     },
     "execution_count": 5,
     "metadata": {},
     "output_type": "execute_result"
    }
   ],
   "source": [
    "os.getcwd()"
   ]
  },
  {
   "cell_type": "code",
   "execution_count": 6,
   "id": "49eb41d0-8c94-4082-b56c-f7ebb15e78f8",
   "metadata": {},
   "outputs": [
    {
     "data": {
      "text/plain": [
       "[PhysicalDevice(name='/physical_device:CPU:0', device_type='CPU')]"
      ]
     },
     "execution_count": 6,
     "metadata": {},
     "output_type": "execute_result"
    }
   ],
   "source": [
    "tf.config.list_physical_devices(\"CPU\")"
   ]
  },
  {
   "cell_type": "code",
   "execution_count": 7,
   "id": "0c85ed39-d5ba-4da0-8935-2a3440893428",
   "metadata": {},
   "outputs": [
    {
     "data": {
      "text/plain": [
       "[]"
      ]
     },
     "execution_count": 7,
     "metadata": {},
     "output_type": "execute_result"
    }
   ],
   "source": [
    "tf.config.list_physical_devices(\"GPU\")"
   ]
  },
  {
   "cell_type": "code",
   "execution_count": 8,
   "id": "82d7d54b-0e62-4116-8cf3-23636a334a08",
   "metadata": {},
   "outputs": [
    {
     "name": "stdout",
     "output_type": "stream",
     "text": [
      "CPU is available\n",
      "details are [PhysicalDevice(name='/physical_device:CPU:0', device_type='CPU')]\n",
      "GPU is not available\n"
     ]
    }
   ],
   "source": [
    "list_device=['CPU','GPU']\n",
    "for i in list_device:\n",
    "    output=tf.config.list_physical_devices(i)\n",
    "    if len(output)>0:\n",
    "        print(f\"{i} is available\")\n",
    "        print(f\"details are {output}\")\n",
    "    else:\n",
    "        print(f\"{i} is not available\")"
   ]
  },
  {
   "cell_type": "markdown",
   "id": "187ac31b-e182-466c-875e-7872bf71ade0",
   "metadata": {},
   "source": [
    "## Creating a simple classifier using keras on MNIST data"
   ]
  },
  {
   "cell_type": "code",
   "execution_count": 9,
   "id": "c2dd0fd9-a468-402e-b1aa-a352c716a366",
   "metadata": {},
   "outputs": [],
   "source": [
    "mnist=tf.keras.datasets.mnist"
   ]
  },
  {
   "cell_type": "code",
   "execution_count": 10,
   "id": "802874d4-484b-4a1f-9e6a-82ab33a4d3ad",
   "metadata": {},
   "outputs": [
    {
     "data": {
      "text/plain": [
       "<module 'keras.api._v2.keras.datasets.mnist' from '/opt/conda/lib/python3.10/site-packages/keras/api/_v2/keras/datasets/mnist/__init__.py'>"
      ]
     },
     "execution_count": 10,
     "metadata": {},
     "output_type": "execute_result"
    }
   ],
   "source": [
    "mnist"
   ]
  },
  {
   "cell_type": "code",
   "execution_count": 11,
   "id": "ba4b5571-f42b-4f04-998b-c45379c719e9",
   "metadata": {},
   "outputs": [
    {
     "name": "stdout",
     "output_type": "stream",
     "text": [
      "Downloading data from https://storage.googleapis.com/tensorflow/tf-keras-datasets/mnist.npz\n",
      "11490434/11490434 [==============================] - 2s 0us/step\n"
     ]
    }
   ],
   "source": [
    "(x_train_full,y_train_full),(x_test,y_test)=mnist.load_data()"
   ]
  },
  {
   "cell_type": "code",
   "execution_count": 12,
   "id": "afe8b8e6-2da4-4bd9-aac9-53d8abd860a1",
   "metadata": {},
   "outputs": [
    {
     "data": {
      "text/plain": [
       "(60000, 28, 28)"
      ]
     },
     "execution_count": 12,
     "metadata": {},
     "output_type": "execute_result"
    }
   ],
   "source": [
    "x_train_full.shape"
   ]
  },
  {
   "cell_type": "markdown",
   "id": "c92d6399-3d92-4d7f-9a30-a2568687ad89",
   "metadata": {},
   "source": [
    "## mnist dataset contain handwritten numbers from 1-9 in the form of square matrix\n",
    "## x_train_full contains 60000 images,each image contain 28*28 elements,in this case elements ranges from 0-255"
   ]
  },
  {
   "cell_type": "code",
   "execution_count": 70,
   "id": "55ca029e-64c8-474c-9e37-fd7db537d0ff",
   "metadata": {},
   "outputs": [
    {
     "data": {
      "text/plain": [
       "array([[  0,   0,   0,   0,   0,   0,   0,   0,   0,   0,   0,   0,   0,\n",
       "          0,   0,   0,   0,   0,   0,   0,   0,   0,   0,   0,   0,   0,\n",
       "          0,   0],\n",
       "       [  0,   0,   0,   0,   0,   0,   0,   0,   0,   0,   0,   0,   0,\n",
       "          0,   0,   0,   0,   0,   0,   0,   0,   0,   0,   0,   0,   0,\n",
       "          0,   0],\n",
       "       [  0,   0,   0,   0,   0,   0,   0,   0,   0,   0,   0,   0,   0,\n",
       "          0,   0,   0,   0,   0,   0,   0,   0,   0,   0,   0,   0,   0,\n",
       "          0,   0],\n",
       "       [  0,   0,   0,   0,   0,   0,   0,   0,   0,   0,   0,   0,   0,\n",
       "          0,   0,   0,   0,   0,   0,   0,   0,   0,   0,   0,   0,   0,\n",
       "          0,   0],\n",
       "       [  0,   0,   0,   0,   0,   0,   0,   0,   0,   0,   0,   0,   0,\n",
       "          0,   0,   0,   0,   0,   0,   0,   0,   0,   0,   0,   0,   0,\n",
       "          0,   0],\n",
       "       [  0,   0,   0,   0,   0,   0,   0,   0,   0,   0,   0,   0,   3,\n",
       "         18,  18,  18, 126, 136, 175,  26, 166, 255, 247, 127,   0,   0,\n",
       "          0,   0],\n",
       "       [  0,   0,   0,   0,   0,   0,   0,   0,  30,  36,  94, 154, 170,\n",
       "        253, 253, 253, 253, 253, 225, 172, 253, 242, 195,  64,   0,   0,\n",
       "          0,   0],\n",
       "       [  0,   0,   0,   0,   0,   0,   0,  49, 238, 253, 253, 253, 253,\n",
       "        253, 253, 253, 253, 251,  93,  82,  82,  56,  39,   0,   0,   0,\n",
       "          0,   0],\n",
       "       [  0,   0,   0,   0,   0,   0,   0,  18, 219, 253, 253, 253, 253,\n",
       "        253, 198, 182, 247, 241,   0,   0,   0,   0,   0,   0,   0,   0,\n",
       "          0,   0],\n",
       "       [  0,   0,   0,   0,   0,   0,   0,   0,  80, 156, 107, 253, 253,\n",
       "        205,  11,   0,  43, 154,   0,   0,   0,   0,   0,   0,   0,   0,\n",
       "          0,   0],\n",
       "       [  0,   0,   0,   0,   0,   0,   0,   0,   0,  14,   1, 154, 253,\n",
       "         90,   0,   0,   0,   0,   0,   0,   0,   0,   0,   0,   0,   0,\n",
       "          0,   0],\n",
       "       [  0,   0,   0,   0,   0,   0,   0,   0,   0,   0,   0, 139, 253,\n",
       "        190,   2,   0,   0,   0,   0,   0,   0,   0,   0,   0,   0,   0,\n",
       "          0,   0],\n",
       "       [  0,   0,   0,   0,   0,   0,   0,   0,   0,   0,   0,  11, 190,\n",
       "        253,  70,   0,   0,   0,   0,   0,   0,   0,   0,   0,   0,   0,\n",
       "          0,   0],\n",
       "       [  0,   0,   0,   0,   0,   0,   0,   0,   0,   0,   0,   0,  35,\n",
       "        241, 225, 160, 108,   1,   0,   0,   0,   0,   0,   0,   0,   0,\n",
       "          0,   0],\n",
       "       [  0,   0,   0,   0,   0,   0,   0,   0,   0,   0,   0,   0,   0,\n",
       "         81, 240, 253, 253, 119,  25,   0,   0,   0,   0,   0,   0,   0,\n",
       "          0,   0],\n",
       "       [  0,   0,   0,   0,   0,   0,   0,   0,   0,   0,   0,   0,   0,\n",
       "          0,  45, 186, 253, 253, 150,  27,   0,   0,   0,   0,   0,   0,\n",
       "          0,   0],\n",
       "       [  0,   0,   0,   0,   0,   0,   0,   0,   0,   0,   0,   0,   0,\n",
       "          0,   0,  16,  93, 252, 253, 187,   0,   0,   0,   0,   0,   0,\n",
       "          0,   0],\n",
       "       [  0,   0,   0,   0,   0,   0,   0,   0,   0,   0,   0,   0,   0,\n",
       "          0,   0,   0,   0, 249, 253, 249,  64,   0,   0,   0,   0,   0,\n",
       "          0,   0],\n",
       "       [  0,   0,   0,   0,   0,   0,   0,   0,   0,   0,   0,   0,   0,\n",
       "          0,  46, 130, 183, 253, 253, 207,   2,   0,   0,   0,   0,   0,\n",
       "          0,   0],\n",
       "       [  0,   0,   0,   0,   0,   0,   0,   0,   0,   0,   0,   0,  39,\n",
       "        148, 229, 253, 253, 253, 250, 182,   0,   0,   0,   0,   0,   0,\n",
       "          0,   0],\n",
       "       [  0,   0,   0,   0,   0,   0,   0,   0,   0,   0,  24, 114, 221,\n",
       "        253, 253, 253, 253, 201,  78,   0,   0,   0,   0,   0,   0,   0,\n",
       "          0,   0],\n",
       "       [  0,   0,   0,   0,   0,   0,   0,   0,  23,  66, 213, 253, 253,\n",
       "        253, 253, 198,  81,   2,   0,   0,   0,   0,   0,   0,   0,   0,\n",
       "          0,   0],\n",
       "       [  0,   0,   0,   0,   0,   0,  18, 171, 219, 253, 253, 253, 253,\n",
       "        195,  80,   9,   0,   0,   0,   0,   0,   0,   0,   0,   0,   0,\n",
       "          0,   0],\n",
       "       [  0,   0,   0,   0,  55, 172, 226, 253, 253, 253, 253, 244, 133,\n",
       "         11,   0,   0,   0,   0,   0,   0,   0,   0,   0,   0,   0,   0,\n",
       "          0,   0],\n",
       "       [  0,   0,   0,   0, 136, 253, 253, 253, 212, 135, 132,  16,   0,\n",
       "          0,   0,   0,   0,   0,   0,   0,   0,   0,   0,   0,   0,   0,\n",
       "          0,   0],\n",
       "       [  0,   0,   0,   0,   0,   0,   0,   0,   0,   0,   0,   0,   0,\n",
       "          0,   0,   0,   0,   0,   0,   0,   0,   0,   0,   0,   0,   0,\n",
       "          0,   0],\n",
       "       [  0,   0,   0,   0,   0,   0,   0,   0,   0,   0,   0,   0,   0,\n",
       "          0,   0,   0,   0,   0,   0,   0,   0,   0,   0,   0,   0,   0,\n",
       "          0,   0],\n",
       "       [  0,   0,   0,   0,   0,   0,   0,   0,   0,   0,   0,   0,   0,\n",
       "          0,   0,   0,   0,   0,   0,   0,   0,   0,   0,   0,   0,   0,\n",
       "          0,   0]], dtype=uint8)"
      ]
     },
     "execution_count": 70,
     "metadata": {},
     "output_type": "execute_result"
    }
   ],
   "source": [
    "x_train_full[0]"
   ]
  },
  {
   "cell_type": "code",
   "execution_count": 14,
   "id": "1b992072-38b4-4419-8155-78dc7e673a24",
   "metadata": {},
   "outputs": [],
   "source": [
    "# create a validation data set from the full training data\n",
    "# scale the data between 0 to 1 by dividing it by 255. as its an unsigned data between 0-255 range\n",
    "\n",
    "x_valid,x_train=x_train_full[:5000]/255.,x_train_full[5000:]/255.\n",
    "y_valid,y_train=y_train_full[:5000],y_train_full[5000:]\n",
    "\n",
    "# scale the test set as well\n",
    "x_test=x_test/255."
   ]
  },
  {
   "cell_type": "code",
   "execution_count": 15,
   "id": "6b8594ab-592f-4a0b-9847-232fdad87207",
   "metadata": {},
   "outputs": [
    {
     "data": {
      "text/plain": [
       "<matplotlib.image.AxesImage at 0x7fefe028e560>"
      ]
     },
     "execution_count": 15,
     "metadata": {},
     "output_type": "execute_result"
    },
    {
     "data": {
      "image/png": "[encoded data removed]",
      "text/plain": [
       "<Figure size 640x480 with 1 Axes>"
      ]
     },
     "metadata": {},
     "output_type": "display_data"
    }
   ],
   "source": [
    "plt.imshow(x_train[0],cmap='binary')"
   ]
  },
  {
   "cell_type": "code",
   "execution_count": 16,
   "id": "20ccafe5-52c7-4404-a801-90a28641e9f8",
   "metadata": {},
   "outputs": [
    {
     "data": {
      "text/plain": [
       "<AxesSubplot: >"
      ]
     },
     "execution_count": 16,
     "metadata": {},
     "output_type": "execute_result"
    },
    {
     "data": {
      "image/png": "[encoded data removed]",
      "text/plain": [
       "<Figure size 1500x1500 with 2 Axes>"
      ]
     },
     "metadata": {},
     "output_type": "display_data"
    }
   ],
   "source": [
    "plt.figure(figsize=(15,15))\n",
    "sns.heatmap(x_train[0],annot=True,cmap='binary')"
   ]
  },
  {
   "cell_type": "code",
   "execution_count": 17,
   "id": "2628e76c-55f9-48db-9e0b-a331379489cb",
   "metadata": {},
   "outputs": [
    {
     "data": {
      "text/plain": [
       "784"
      ]
     },
     "execution_count": 17,
     "metadata": {},
     "output_type": "execute_result"
    }
   ],
   "source": [
    "28*28"
   ]
  },
  {
   "cell_type": "markdown",
   "id": "6c836c40-1fdc-41ac-931f-d93c42ae84fd",
   "metadata": {},
   "source": [
    "# means there are 784 inputs which will go to the first hidden layer which contains 300 neurons.\n",
    "# now the next hidden layer contains 100 neurons,each neuron will take 300 inputs\n",
    "# the output of this model will range 0-9 \n",
    "# so its a multi-class classification,we will use softmax function in last and we can use any activation function in hidden layers \n",
    "# now we will flatten the input"
   ]
  },
  {
   "cell_type": "code",
   "execution_count": 19,
   "id": "c17d73f6-e5b8-4d4e-9c3f-65cd84b49fdc",
   "metadata": {},
   "outputs": [],
   "source": [
    "Layers=[tf.keras.layers.Flatten(input_shape=(28,28),name=\"inputlayer\"),\n",
    "       tf.keras.layers.Dense(units=300,activation='relu',name=\"hiddenlayer1\"),\n",
    "       tf.keras.layers.Dense(units=100,activation='relu',name=\"hiddenlayer2\"),\n",
    "       tf.keras.layers.Dense(units=10,activation='softmax',name='outputlayer') \n",
    "       ]\n",
    "model=tf.keras.models.Sequential(Layers)"
   ]
  },
  {
   "cell_type": "code",
   "execution_count": 20,
   "id": "43760674-b3ca-4304-b077-7a2657edf178",
   "metadata": {},
   "outputs": [
    {
     "data": {
      "text/plain": [
       "[<keras.src.layers.reshaping.flatten.Flatten at 0x7fefba6d8610>,\n",
       " <keras.src.layers.core.dense.Dense at 0x7fefba696c50>,\n",
       " <keras.src.layers.core.dense.Dense at 0x7fefba6948b0>,\n",
       " <keras.src.layers.core.dense.Dense at 0x7fefba6968f0>]"
      ]
     },
     "execution_count": 20,
     "metadata": {},
     "output_type": "execute_result"
    }
   ],
   "source": [
    "model.layers"
   ]
  },
  {
   "cell_type": "code",
   "execution_count": 21,
   "id": "3fbcf6ce-f5e4-4e63-801e-4569e712ce45",
   "metadata": {},
   "outputs": [
    {
     "name": "stdout",
     "output_type": "stream",
     "text": [
      "Model: \"sequential\"\n",
      "_________________________________________________________________\n",
      " Layer (type)                Output Shape              Param #   \n",
      "=================================================================\n",
      " inputlayer (Flatten)        (None, 784)               0         \n",
      "                                                                 \n",
      " hiddenlayer1 (Dense)        (None, 300)               235500    \n",
      "                                                                 \n",
      " hiddenlayer2 (Dense)        (None, 100)               30100     \n",
      "                                                                 \n",
      " outputlayer (Dense)         (None, 10)                1010      \n",
      "                                                                 \n",
      "=================================================================\n",
      "Total params: 266610 (1.02 MB)\n",
      "Trainable params: 266610 (1.02 MB)\n",
      "Non-trainable params: 0 (0.00 Byte)\n",
      "_________________________________________________________________\n"
     ]
    }
   ],
   "source": [
    "model.summary()"
   ]
  },
  {
   "cell_type": "code",
   "execution_count": 22,
   "id": "1e6853a2-6819-44d4-a1e8-941bee58c76e",
   "metadata": {},
   "outputs": [],
   "source": [
    "## hiddellayer1-->784*300+300\n",
    "## hiddenlayer2-->300*100+100\n",
    "## outputlayer-->100*10+10\n",
    "## these parameters will be trained"
   ]
  },
  {
   "cell_type": "code",
   "execution_count": 25,
   "id": "6845a844-e74a-424f-85e2-411bad5af594",
   "metadata": {},
   "outputs": [
    {
     "data": {
      "text/plain": [
       "[235500, 30100, 1010]"
      ]
     },
     "execution_count": 25,
     "metadata": {},
     "output_type": "execute_result"
    }
   ],
   "source": [
    "[784*300+300,\n",
    "300*100+100,\n",
    "100*10+10]"
   ]
  },
  {
   "cell_type": "code",
   "execution_count": 29,
   "id": "e34ebdf5-1ccb-4193-81c4-c8fb87c98817",
   "metadata": {},
   "outputs": [],
   "source": [
    "layer=model.layers[0]"
   ]
  },
  {
   "cell_type": "code",
   "execution_count": 30,
   "id": "6ce73c7d-1e1d-49ba-be5f-644b0c022b72",
   "metadata": {},
   "outputs": [
    {
     "data": {
      "text/plain": [
       "'inputlayer'"
      ]
     },
     "execution_count": 30,
     "metadata": {},
     "output_type": "execute_result"
    }
   ],
   "source": [
    "layer.name"
   ]
  },
  {
   "cell_type": "code",
   "execution_count": 31,
   "id": "18afdbde-e14a-402f-80ff-e04f834aab15",
   "metadata": {},
   "outputs": [
    {
     "data": {
      "text/plain": [
       "[]"
      ]
     },
     "execution_count": 31,
     "metadata": {},
     "output_type": "execute_result"
    }
   ],
   "source": [
    "layer.get_weights()"
   ]
  },
  {
   "cell_type": "code",
   "execution_count": 32,
   "id": "e5db9a12-888c-4b7a-a636-9cf94882f215",
   "metadata": {},
   "outputs": [],
   "source": [
    "layer=model.layers[1]"
   ]
  },
  {
   "cell_type": "code",
   "execution_count": 33,
   "id": "a301460e-a366-42e6-b6eb-1ebac0fded73",
   "metadata": {},
   "outputs": [
    {
     "data": {
      "text/plain": [
       "'hiddenlayer1'"
      ]
     },
     "execution_count": 33,
     "metadata": {},
     "output_type": "execute_result"
    }
   ],
   "source": [
    "layer.name"
   ]
  },
  {
   "cell_type": "code",
   "execution_count": null,
   "id": "d57ec33c-7479-4d3c-a380-923d15fb284f",
   "metadata": {},
   "outputs": [],
   "source": []
  },
  {
   "cell_type": "code",
   "execution_count": 37,
   "id": "23e98d4e-e2a1-4bcb-b0fe-dd9ed5beef37",
   "metadata": {},
   "outputs": [
    {
     "data": {
      "text/plain": [
       "[array([[-0.0389235 ,  0.02686091,  0.05984557, ...,  0.05412698,\n",
       "          0.06158487, -0.02646119],\n",
       "        [-0.05039243, -0.07170881, -0.04262841, ..., -0.01131461,\n",
       "         -0.03847821,  0.05764987],\n",
       "        [ 0.02086465, -0.05453242, -0.06168014, ...,  0.02902225,\n",
       "         -0.02046172,  0.00829798],\n",
       "        ...,\n",
       "        [-0.04908541, -0.04057484, -0.01539145, ...,  0.0675554 ,\n",
       "          0.00458994, -0.0009461 ],\n",
       "        [ 0.0485868 ,  0.0615066 , -0.03597489, ..., -0.07343936,\n",
       "          0.00480304,  0.05462363],\n",
       "        [-0.02649221, -0.0728318 ,  0.02261793, ..., -0.02831494,\n",
       "         -0.06630167,  0.01845794]], dtype=float32),\n",
       " array([0., 0., 0., 0., 0., 0., 0., 0., 0., 0., 0., 0., 0., 0., 0., 0., 0.,\n",
       "        0., 0., 0., 0., 0., 0., 0., 0., 0., 0., 0., 0., 0., 0., 0., 0., 0.,\n",
       "        0., 0., 0., 0., 0., 0., 0., 0., 0., 0., 0., 0., 0., 0., 0., 0., 0.,\n",
       "        0., 0., 0., 0., 0., 0., 0., 0., 0., 0., 0., 0., 0., 0., 0., 0., 0.,\n",
       "        0., 0., 0., 0., 0., 0., 0., 0., 0., 0., 0., 0., 0., 0., 0., 0., 0.,\n",
       "        0., 0., 0., 0., 0., 0., 0., 0., 0., 0., 0., 0., 0., 0., 0., 0., 0.,\n",
       "        0., 0., 0., 0., 0., 0., 0., 0., 0., 0., 0., 0., 0., 0., 0., 0., 0.,\n",
       "        0., 0., 0., 0., 0., 0., 0., 0., 0., 0., 0., 0., 0., 0., 0., 0., 0.,\n",
       "        0., 0., 0., 0., 0., 0., 0., 0., 0., 0., 0., 0., 0., 0., 0., 0., 0.,\n",
       "        0., 0., 0., 0., 0., 0., 0., 0., 0., 0., 0., 0., 0., 0., 0., 0., 0.,\n",
       "        0., 0., 0., 0., 0., 0., 0., 0., 0., 0., 0., 0., 0., 0., 0., 0., 0.,\n",
       "        0., 0., 0., 0., 0., 0., 0., 0., 0., 0., 0., 0., 0., 0., 0., 0., 0.,\n",
       "        0., 0., 0., 0., 0., 0., 0., 0., 0., 0., 0., 0., 0., 0., 0., 0., 0.,\n",
       "        0., 0., 0., 0., 0., 0., 0., 0., 0., 0., 0., 0., 0., 0., 0., 0., 0.,\n",
       "        0., 0., 0., 0., 0., 0., 0., 0., 0., 0., 0., 0., 0., 0., 0., 0., 0.,\n",
       "        0., 0., 0., 0., 0., 0., 0., 0., 0., 0., 0., 0., 0., 0., 0., 0., 0.,\n",
       "        0., 0., 0., 0., 0., 0., 0., 0., 0., 0., 0., 0., 0., 0., 0., 0., 0.,\n",
       "        0., 0., 0., 0., 0., 0., 0., 0., 0., 0., 0.], dtype=float32)]"
      ]
     },
     "execution_count": 37,
     "metadata": {},
     "output_type": "execute_result"
    }
   ],
   "source": [
    "layer.get_weights()"
   ]
  },
  {
   "cell_type": "markdown",
   "id": "4e988aeb-c47e-4d62-9230-b0bdac35523c",
   "metadata": {},
   "source": [
    "# upper array contains weight\n",
    "# lower array contains bias"
   ]
  },
  {
   "cell_type": "code",
   "execution_count": 41,
   "id": "3569c38e-f71a-474e-9d8e-893076b2efe8",
   "metadata": {},
   "outputs": [
    {
     "data": {
      "text/plain": [
       "(784, 300)"
      ]
     },
     "execution_count": 41,
     "metadata": {},
     "output_type": "execute_result"
    }
   ],
   "source": [
    "# lets check weight\n",
    "layer.get_weights()[0].shape"
   ]
  },
  {
   "cell_type": "markdown",
   "id": "3af73eb2-c1f1-4100-b48c-5391b8b6aa5a",
   "metadata": {},
   "source": [
    "## 784*300 are the weights for hiddenlayer1"
   ]
  },
  {
   "cell_type": "code",
   "execution_count": 42,
   "id": "e20c689e-6534-49d4-b270-3598d606d8d4",
   "metadata": {},
   "outputs": [
    {
     "data": {
      "text/plain": [
       "(300,)"
      ]
     },
     "execution_count": 42,
     "metadata": {},
     "output_type": "execute_result"
    }
   ],
   "source": [
    "# lets check bias\n",
    "layer.get_weights()[1].shape"
   ]
  },
  {
   "cell_type": "markdown",
   "id": "a92fc1fe-4331-4036-998b-36b104c4ec06",
   "metadata": {},
   "source": [
    "## 300 are bias for hiddenlayer1"
   ]
  },
  {
   "cell_type": "markdown",
   "id": "1f19fccf-37be-491e-b714-1bdcb1f973e5",
   "metadata": {},
   "source": [
    "## similarily for hidden layer2 also and output layer also"
   ]
  },
  {
   "cell_type": "markdown",
   "id": "1b407c45-bc61-4fa5-ad83-f3b02f33c9aa",
   "metadata": {},
   "source": [
    "# now we will train our model"
   ]
  },
  {
   "cell_type": "code",
   "execution_count": 46,
   "id": "dcfbe7c0-d664-49be-87d3-45e3d468512c",
   "metadata": {},
   "outputs": [],
   "source": [
    "loss_function='sparse_categorical_crossentropy'  ## we can also give like->tf.losses.sparse_categorical_crossentropy\n",
    "optimizer='SGD'  ## tf.keras.optimizers.SGD(0.02)\n",
    "metrics='accuracy'\n",
    "\n",
    "model.compile(optimizer=optimizer,loss=loss_function,metrics=metrics)"
   ]
  },
  {
   "cell_type": "code",
   "execution_count": 47,
   "id": "177a9427-921e-4849-aba2-6336926e6e7e",
   "metadata": {},
   "outputs": [
    {
     "name": "stdout",
     "output_type": "stream",
     "text": [
      "Epoch 1/30\n",
      "1719/1719 [==============================] - 6s 3ms/step - loss: 0.6288 - accuracy: 0.8359 - val_loss: 0.3099 - val_accuracy: 0.9116\n",
      "Epoch 2/30\n",
      "1719/1719 [==============================] - 5s 3ms/step - loss: 0.2907 - accuracy: 0.9173 - val_loss: 0.2559 - val_accuracy: 0.9308\n",
      "Epoch 3/30\n",
      "1719/1719 [==============================] - 5s 3ms/step - loss: 0.2368 - accuracy: 0.9331 - val_loss: 0.2054 - val_accuracy: 0.9412\n",
      "Epoch 4/30\n",
      "1719/1719 [==============================] - 5s 3ms/step - loss: 0.2011 - accuracy: 0.9427 - val_loss: 0.1756 - val_accuracy: 0.9508\n",
      "Epoch 5/30\n",
      "1719/1719 [==============================] - 5s 3ms/step - loss: 0.1744 - accuracy: 0.9508 - val_loss: 0.1595 - val_accuracy: 0.9538\n",
      "Epoch 6/30\n",
      "1719/1719 [==============================] - 5s 3ms/step - loss: 0.1539 - accuracy: 0.9565 - val_loss: 0.1462 - val_accuracy: 0.9598\n",
      "Epoch 7/30\n",
      "1719/1719 [==============================] - 5s 3ms/step - loss: 0.1372 - accuracy: 0.9613 - val_loss: 0.1297 - val_accuracy: 0.9642\n",
      "Epoch 8/30\n",
      "1719/1719 [==============================] - 5s 3ms/step - loss: 0.1236 - accuracy: 0.9652 - val_loss: 0.1199 - val_accuracy: 0.9670\n",
      "Epoch 9/30\n",
      "1719/1719 [==============================] - 5s 3ms/step - loss: 0.1120 - accuracy: 0.9689 - val_loss: 0.1137 - val_accuracy: 0.9676\n",
      "Epoch 10/30\n",
      "1719/1719 [==============================] - 5s 3ms/step - loss: 0.1019 - accuracy: 0.9716 - val_loss: 0.1075 - val_accuracy: 0.9704\n",
      "Epoch 11/30\n",
      "1719/1719 [==============================] - 5s 3ms/step - loss: 0.0937 - accuracy: 0.9739 - val_loss: 0.0997 - val_accuracy: 0.9720\n",
      "Epoch 12/30\n",
      "1719/1719 [==============================] - 5s 3ms/step - loss: 0.0864 - accuracy: 0.9755 - val_loss: 0.0974 - val_accuracy: 0.9732\n",
      "Epoch 13/30\n",
      "1719/1719 [==============================] - 5s 3ms/step - loss: 0.0796 - accuracy: 0.9778 - val_loss: 0.0936 - val_accuracy: 0.9724\n",
      "Epoch 14/30\n",
      "1719/1719 [==============================] - 5s 3ms/step - loss: 0.0738 - accuracy: 0.9791 - val_loss: 0.0923 - val_accuracy: 0.9726\n",
      "Epoch 15/30\n",
      "1719/1719 [==============================] - 5s 3ms/step - loss: 0.0688 - accuracy: 0.9810 - val_loss: 0.0882 - val_accuracy: 0.9744\n",
      "Epoch 16/30\n",
      "1719/1719 [==============================] - 5s 3ms/step - loss: 0.0638 - accuracy: 0.9825 - val_loss: 0.0865 - val_accuracy: 0.9736\n",
      "Epoch 17/30\n",
      "1719/1719 [==============================] - 5s 3ms/step - loss: 0.0598 - accuracy: 0.9839 - val_loss: 0.0813 - val_accuracy: 0.9774\n",
      "Epoch 18/30\n",
      "1719/1719 [==============================] - 6s 3ms/step - loss: 0.0560 - accuracy: 0.9844 - val_loss: 0.0809 - val_accuracy: 0.9776\n",
      "Epoch 19/30\n",
      "1719/1719 [==============================] - 5s 3ms/step - loss: 0.0522 - accuracy: 0.9855 - val_loss: 0.0785 - val_accuracy: 0.9778\n",
      "Epoch 20/30\n",
      "1719/1719 [==============================] - 5s 3ms/step - loss: 0.0488 - accuracy: 0.9872 - val_loss: 0.0766 - val_accuracy: 0.9790\n",
      "Epoch 21/30\n",
      "1719/1719 [==============================] - 5s 3ms/step - loss: 0.0459 - accuracy: 0.9883 - val_loss: 0.0763 - val_accuracy: 0.9804\n",
      "Epoch 22/30\n",
      "1719/1719 [==============================] - 5s 3ms/step - loss: 0.0430 - accuracy: 0.9893 - val_loss: 0.0807 - val_accuracy: 0.9774\n",
      "Epoch 23/30\n",
      "1719/1719 [==============================] - 5s 3ms/step - loss: 0.0406 - accuracy: 0.9895 - val_loss: 0.0761 - val_accuracy: 0.9790\n",
      "Epoch 24/30\n",
      "1719/1719 [==============================] - 5s 3ms/step - loss: 0.0382 - accuracy: 0.9902 - val_loss: 0.0730 - val_accuracy: 0.9784\n",
      "Epoch 25/30\n",
      "1719/1719 [==============================] - 5s 3ms/step - loss: 0.0360 - accuracy: 0.9912 - val_loss: 0.0733 - val_accuracy: 0.9788\n",
      "Epoch 26/30\n",
      "1719/1719 [==============================] - 5s 3ms/step - loss: 0.0338 - accuracy: 0.9921 - val_loss: 0.0733 - val_accuracy: 0.9804\n",
      "Epoch 27/30\n",
      "1719/1719 [==============================] - 5s 3ms/step - loss: 0.0320 - accuracy: 0.9927 - val_loss: 0.0704 - val_accuracy: 0.9786\n",
      "Epoch 28/30\n",
      "1719/1719 [==============================] - 5s 3ms/step - loss: 0.0302 - accuracy: 0.9929 - val_loss: 0.0723 - val_accuracy: 0.9802\n",
      "Epoch 29/30\n",
      "1719/1719 [==============================] - 5s 3ms/step - loss: 0.0284 - accuracy: 0.9939 - val_loss: 0.0694 - val_accuracy: 0.9804\n",
      "Epoch 30/30\n",
      "1719/1719 [==============================] - 5s 3ms/step - loss: 0.0269 - accuracy: 0.9940 - val_loss: 0.0698 - val_accuracy: 0.9800\n"
     ]
    }
   ],
   "source": [
    "## training model\n",
    "\n",
    "epochs=30\n",
    "validation_set=(x_valid,y_valid)\n",
    "\n",
    "trained_model=model.fit(x_train,y_train,epochs=epochs,validation_data=validation_set,batch_size=32)\n",
    "\n"
   ]
  },
  {
   "cell_type": "code",
   "execution_count": 48,
   "id": "cc7e0d1f-4990-419b-afcc-c562ae5ed43a",
   "metadata": {},
   "outputs": [
    {
     "data": {
      "text/plain": [
       "{'verbose': 1, 'epochs': 30, 'steps': 1719}"
      ]
     },
     "execution_count": 48,
     "metadata": {},
     "output_type": "execute_result"
    }
   ],
   "source": [
    "trained_model.params"
   ]
  },
  {
   "cell_type": "code",
   "execution_count": 50,
   "id": "e06fca14-5833-49a7-9c22-aa6f356bedf7",
   "metadata": {},
   "outputs": [
    {
     "data": {
      "text/html": [
       "<div>\n",
       "<style scoped>\n",
       "    .dataframe tbody tr th:only-of-type {\n",
       "        vertical-align: middle;\n",
       "    }\n",
       "\n",
       "    .dataframe tbody tr th {\n",
       "        vertical-align: top;\n",
       "    }\n",
       "\n",
       "    .dataframe thead th {\n",
       "        text-align: right;\n",
       "    }\n",
       "</style>\n",
       "<table border=\"1\" class=\"dataframe\">\n",
       "  <thead>\n",
       "    <tr style=\"text-align: right;\">\n",
       "      <th></th>\n",
       "      <th>loss</th>\n",
       "      <th>accuracy</th>\n",
       "      <th>val_loss</th>\n",
       "      <th>val_accuracy</th>\n",
       "    </tr>\n",
       "  </thead>\n",
       "  <tbody>\n",
       "    <tr>\n",
       "      <th>0</th>\n",
       "      <td>0.628840</td>\n",
       "      <td>0.835855</td>\n",
       "      <td>0.309879</td>\n",
       "      <td>0.9116</td>\n",
       "    </tr>\n",
       "    <tr>\n",
       "      <th>1</th>\n",
       "      <td>0.290744</td>\n",
       "      <td>0.917255</td>\n",
       "      <td>0.255920</td>\n",
       "      <td>0.9308</td>\n",
       "    </tr>\n",
       "    <tr>\n",
       "      <th>2</th>\n",
       "      <td>0.236774</td>\n",
       "      <td>0.933145</td>\n",
       "      <td>0.205448</td>\n",
       "      <td>0.9412</td>\n",
       "    </tr>\n",
       "    <tr>\n",
       "      <th>3</th>\n",
       "      <td>0.201110</td>\n",
       "      <td>0.942727</td>\n",
       "      <td>0.175603</td>\n",
       "      <td>0.9508</td>\n",
       "    </tr>\n",
       "    <tr>\n",
       "      <th>4</th>\n",
       "      <td>0.174436</td>\n",
       "      <td>0.950764</td>\n",
       "      <td>0.159511</td>\n",
       "      <td>0.9538</td>\n",
       "    </tr>\n",
       "    <tr>\n",
       "      <th>5</th>\n",
       "      <td>0.153892</td>\n",
       "      <td>0.956455</td>\n",
       "      <td>0.146240</td>\n",
       "      <td>0.9598</td>\n",
       "    </tr>\n",
       "    <tr>\n",
       "      <th>6</th>\n",
       "      <td>0.137214</td>\n",
       "      <td>0.961309</td>\n",
       "      <td>0.129726</td>\n",
       "      <td>0.9642</td>\n",
       "    </tr>\n",
       "    <tr>\n",
       "      <th>7</th>\n",
       "      <td>0.123568</td>\n",
       "      <td>0.965164</td>\n",
       "      <td>0.119879</td>\n",
       "      <td>0.9670</td>\n",
       "    </tr>\n",
       "    <tr>\n",
       "      <th>8</th>\n",
       "      <td>0.111990</td>\n",
       "      <td>0.968927</td>\n",
       "      <td>0.113701</td>\n",
       "      <td>0.9676</td>\n",
       "    </tr>\n",
       "    <tr>\n",
       "      <th>9</th>\n",
       "      <td>0.101890</td>\n",
       "      <td>0.971564</td>\n",
       "      <td>0.107508</td>\n",
       "      <td>0.9704</td>\n",
       "    </tr>\n",
       "    <tr>\n",
       "      <th>10</th>\n",
       "      <td>0.093739</td>\n",
       "      <td>0.973855</td>\n",
       "      <td>0.099689</td>\n",
       "      <td>0.9720</td>\n",
       "    </tr>\n",
       "    <tr>\n",
       "      <th>11</th>\n",
       "      <td>0.086362</td>\n",
       "      <td>0.975545</td>\n",
       "      <td>0.097428</td>\n",
       "      <td>0.9732</td>\n",
       "    </tr>\n",
       "    <tr>\n",
       "      <th>12</th>\n",
       "      <td>0.079579</td>\n",
       "      <td>0.977836</td>\n",
       "      <td>0.093581</td>\n",
       "      <td>0.9724</td>\n",
       "    </tr>\n",
       "    <tr>\n",
       "      <th>13</th>\n",
       "      <td>0.073833</td>\n",
       "      <td>0.979109</td>\n",
       "      <td>0.092284</td>\n",
       "      <td>0.9726</td>\n",
       "    </tr>\n",
       "    <tr>\n",
       "      <th>14</th>\n",
       "      <td>0.068806</td>\n",
       "      <td>0.981036</td>\n",
       "      <td>0.088191</td>\n",
       "      <td>0.9744</td>\n",
       "    </tr>\n",
       "    <tr>\n",
       "      <th>15</th>\n",
       "      <td>0.063832</td>\n",
       "      <td>0.982545</td>\n",
       "      <td>0.086516</td>\n",
       "      <td>0.9736</td>\n",
       "    </tr>\n",
       "    <tr>\n",
       "      <th>16</th>\n",
       "      <td>0.059791</td>\n",
       "      <td>0.983909</td>\n",
       "      <td>0.081299</td>\n",
       "      <td>0.9774</td>\n",
       "    </tr>\n",
       "    <tr>\n",
       "      <th>17</th>\n",
       "      <td>0.056039</td>\n",
       "      <td>0.984418</td>\n",
       "      <td>0.080888</td>\n",
       "      <td>0.9776</td>\n",
       "    </tr>\n",
       "    <tr>\n",
       "      <th>18</th>\n",
       "      <td>0.052188</td>\n",
       "      <td>0.985527</td>\n",
       "      <td>0.078493</td>\n",
       "      <td>0.9778</td>\n",
       "    </tr>\n",
       "    <tr>\n",
       "      <th>19</th>\n",
       "      <td>0.048848</td>\n",
       "      <td>0.987236</td>\n",
       "      <td>0.076633</td>\n",
       "      <td>0.9790</td>\n",
       "    </tr>\n",
       "    <tr>\n",
       "      <th>20</th>\n",
       "      <td>0.045944</td>\n",
       "      <td>0.988291</td>\n",
       "      <td>0.076336</td>\n",
       "      <td>0.9804</td>\n",
       "    </tr>\n",
       "    <tr>\n",
       "      <th>21</th>\n",
       "      <td>0.042999</td>\n",
       "      <td>0.989273</td>\n",
       "      <td>0.080743</td>\n",
       "      <td>0.9774</td>\n",
       "    </tr>\n",
       "    <tr>\n",
       "      <th>22</th>\n",
       "      <td>0.040627</td>\n",
       "      <td>0.989527</td>\n",
       "      <td>0.076115</td>\n",
       "      <td>0.9790</td>\n",
       "    </tr>\n",
       "    <tr>\n",
       "      <th>23</th>\n",
       "      <td>0.038204</td>\n",
       "      <td>0.990218</td>\n",
       "      <td>0.072968</td>\n",
       "      <td>0.9784</td>\n",
       "    </tr>\n",
       "    <tr>\n",
       "      <th>24</th>\n",
       "      <td>0.035979</td>\n",
       "      <td>0.991164</td>\n",
       "      <td>0.073319</td>\n",
       "      <td>0.9788</td>\n",
       "    </tr>\n",
       "    <tr>\n",
       "      <th>25</th>\n",
       "      <td>0.033844</td>\n",
       "      <td>0.992091</td>\n",
       "      <td>0.073257</td>\n",
       "      <td>0.9804</td>\n",
       "    </tr>\n",
       "    <tr>\n",
       "      <th>26</th>\n",
       "      <td>0.031997</td>\n",
       "      <td>0.992655</td>\n",
       "      <td>0.070384</td>\n",
       "      <td>0.9786</td>\n",
       "    </tr>\n",
       "    <tr>\n",
       "      <th>27</th>\n",
       "      <td>0.030184</td>\n",
       "      <td>0.992945</td>\n",
       "      <td>0.072336</td>\n",
       "      <td>0.9802</td>\n",
       "    </tr>\n",
       "    <tr>\n",
       "      <th>28</th>\n",
       "      <td>0.028396</td>\n",
       "      <td>0.993855</td>\n",
       "      <td>0.069387</td>\n",
       "      <td>0.9804</td>\n",
       "    </tr>\n",
       "    <tr>\n",
       "      <th>29</th>\n",
       "      <td>0.026873</td>\n",
       "      <td>0.994018</td>\n",
       "      <td>0.069783</td>\n",
       "      <td>0.9800</td>\n",
       "    </tr>\n",
       "  </tbody>\n",
       "</table>\n",
       "</div>"
      ],
      "text/plain": [
       "        loss  accuracy  val_loss  val_accuracy\n",
       "0   0.628840  0.835855  0.309879        0.9116\n",
       "1   0.290744  0.917255  0.255920        0.9308\n",
       "2   0.236774  0.933145  0.205448        0.9412\n",
       "3   0.201110  0.942727  0.175603        0.9508\n",
       "4   0.174436  0.950764  0.159511        0.9538\n",
       "5   0.153892  0.956455  0.146240        0.9598\n",
       "6   0.137214  0.961309  0.129726        0.9642\n",
       "7   0.123568  0.965164  0.119879        0.9670\n",
       "8   0.111990  0.968927  0.113701        0.9676\n",
       "9   0.101890  0.971564  0.107508        0.9704\n",
       "10  0.093739  0.973855  0.099689        0.9720\n",
       "11  0.086362  0.975545  0.097428        0.9732\n",
       "12  0.079579  0.977836  0.093581        0.9724\n",
       "13  0.073833  0.979109  0.092284        0.9726\n",
       "14  0.068806  0.981036  0.088191        0.9744\n",
       "15  0.063832  0.982545  0.086516        0.9736\n",
       "16  0.059791  0.983909  0.081299        0.9774\n",
       "17  0.056039  0.984418  0.080888        0.9776\n",
       "18  0.052188  0.985527  0.078493        0.9778\n",
       "19  0.048848  0.987236  0.076633        0.9790\n",
       "20  0.045944  0.988291  0.076336        0.9804\n",
       "21  0.042999  0.989273  0.080743        0.9774\n",
       "22  0.040627  0.989527  0.076115        0.9790\n",
       "23  0.038204  0.990218  0.072968        0.9784\n",
       "24  0.035979  0.991164  0.073319        0.9788\n",
       "25  0.033844  0.992091  0.073257        0.9804\n",
       "26  0.031997  0.992655  0.070384        0.9786\n",
       "27  0.030184  0.992945  0.072336        0.9802\n",
       "28  0.028396  0.993855  0.069387        0.9804\n",
       "29  0.026873  0.994018  0.069783        0.9800"
      ]
     },
     "execution_count": 50,
     "metadata": {},
     "output_type": "execute_result"
    }
   ],
   "source": [
    "pd.DataFrame(trained_model.history)"
   ]
  },
  {
   "cell_type": "code",
   "execution_count": 51,
   "id": "7fb88804-2e58-4234-88d4-655c114944d7",
   "metadata": {},
   "outputs": [
    {
     "data": {
      "text/plain": [
       "<AxesSubplot: >"
      ]
     },
     "execution_count": 51,
     "metadata": {},
     "output_type": "execute_result"
    },
    {
     "data": {
      "image/png": "[encoded data removed]",
      "text/plain": [
       "<Figure size 640x480 with 1 Axes>"
      ]
     },
     "metadata": {},
     "output_type": "display_data"
    }
   ],
   "source": [
    "pd.DataFrame(trained_model.history).plot()"
   ]
  },
  {
   "cell_type": "code",
   "execution_count": 64,
   "id": "59e568bb-85b5-4ed1-ba35-da578c06a8a5",
   "metadata": {},
   "outputs": [
    {
     "name": "stdout",
     "output_type": "stream",
     "text": [
      "313/313 [==============================] - 1s 2ms/step - loss: 0.0707 - accuracy: 0.9787\n"
     ]
    },
    {
     "data": {
      "text/plain": [
       "[0.07066892832517624, 0.9786999821662903]"
      ]
     },
     "execution_count": 64,
     "metadata": {},
     "output_type": "execute_result"
    }
   ],
   "source": [
    "## lets evaluate our model\n",
    "model.evaluate(x_test,y_test)"
   ]
  },
  {
   "cell_type": "code",
   "execution_count": null,
   "id": "56eceaf4-34c5-43c1-a045-50779197d95d",
   "metadata": {},
   "outputs": [],
   "source": []
  },
  {
   "cell_type": "code",
   "execution_count": 58,
   "id": "472734cd-d457-4cd3-84aa-42cdc5248e51",
   "metadata": {},
   "outputs": [],
   "source": [
    "#lets test out model by giving input\n",
    "x_input=x_test[:3]"
   ]
  },
  {
   "cell_type": "code",
   "execution_count": 59,
   "id": "615a572f-b0a8-4a2f-9664-6c059d8486dd",
   "metadata": {},
   "outputs": [],
   "source": [
    "y_actual=y_test[:3]"
   ]
  },
  {
   "cell_type": "code",
   "execution_count": 60,
   "id": "e7561d4f-21c9-4d8a-8fdc-6c825c8d666d",
   "metadata": {},
   "outputs": [
    {
     "data": {
      "text/plain": [
       "array([7, 2, 1], dtype=uint8)"
      ]
     },
     "execution_count": 60,
     "metadata": {},
     "output_type": "execute_result"
    }
   ],
   "source": [
    "y_actual"
   ]
  },
  {
   "cell_type": "code",
   "execution_count": 66,
   "id": "5a1102dc-bea8-4d2b-87ca-c94424e249d7",
   "metadata": {},
   "outputs": [
    {
     "name": "stdout",
     "output_type": "stream",
     "text": [
      "1/1 [==============================] - 0s 26ms/step\n"
     ]
    }
   ],
   "source": [
    "y_pred=model.predict(x_input)"
   ]
  },
  {
   "cell_type": "code",
   "execution_count": 68,
   "id": "c106582e-4b11-4cf4-b831-544c9f893d8d",
   "metadata": {},
   "outputs": [
    {
     "data": {
      "text/plain": [
       "array([[0., 0., 0., 0., 0., 0., 0., 1., 0., 0.],\n",
       "       [0., 0., 1., 0., 0., 0., 0., 0., 0., 0.],\n",
       "       [0., 1., 0., 0., 0., 0., 0., 0., 0., 0.]], dtype=float32)"
      ]
     },
     "execution_count": 68,
     "metadata": {},
     "output_type": "execute_result"
    }
   ],
   "source": [
    "y_pred.round(2)"
   ]
  },
  {
   "cell_type": "code",
   "execution_count": null,
   "id": "d12d186f-a3f3-4302-8e61-ae01fd81e845",
   "metadata": {},
   "outputs": [],
   "source": []
  }
 ],
 "metadata": {
  "kernelspec": {
   "display_name": "Python 3 (ipykernel)",
   "language": "python",
   "name": "python3"
  },
  "language_info": {
   "codemirror_mode": {
    "name": "ipython",
    "version": 3
   },
   "file_extension": ".py",
   "mimetype": "text/x-python",
   "name": "python",
   "nbconvert_exporter": "python",
   "pygments_lexer": "ipython3",
   "version": "3.10.8"
  }
 },
 "nbformat": 4,
 "nbformat_minor": 5
}
