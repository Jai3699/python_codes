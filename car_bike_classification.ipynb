{
  "nbformat": 4,
  "nbformat_minor": 0,
  "metadata": {
    "colab": {
      "provenance": [],
      "gpuType": "T4"
    },
    "kernelspec": {
      "name": "python3",
      "display_name": "Python 3"
    },
    "language_info": {
      "name": "python"
    },
    "accelerator": "GPU"
  },
  "cells": [
    {
      "cell_type": "code",
      "execution_count": null,
      "metadata": {
        "id": "hqcKqRe-ICwG"
      },
      "outputs": [],
      "source": [
        "import os\n",
        "import tensorflow as tf\n",
        "from tensorflow import keras\n",
        "from keras.models import Sequential\n",
        "from keras.layers import Dense,Flatten\n",
        "from keras.preprocessing import image\n",
        "from keras.preprocessing.image import ImageDataGenerator\n",
        "from glob import glob"
      ]
    },
    {
      "cell_type": "code",
      "source": [
        "from google.colab import drive"
      ],
      "metadata": {
        "id": "AJkqVsKGIGHB"
      },
      "execution_count": null,
      "outputs": []
    },
    {
      "cell_type": "code",
      "source": [
        "drive.mount('/content/drive/')"
      ],
      "metadata": {
        "colab": {
          "base_uri": "https://localhost:8080/"
        },
        "id": "tAU4guHcIJHk",
        "outputId": "ea4ba8ec-7b9c-4cf6-df59-aaedb60e7127"
      },
      "execution_count": null,
      "outputs": [
        {
          "output_type": "stream",
          "name": "stdout",
          "text": [
            "Mounted at /content/drive/\n"
          ]
        }
      ]
    },
    {
      "cell_type": "code",
      "source": [],
      "metadata": {
        "id": "SiyLgIIdINgk"
      },
      "execution_count": null,
      "outputs": []
    },
    {
      "cell_type": "code",
      "source": [
        "os.getcwd()"
      ],
      "metadata": {
        "colab": {
          "base_uri": "https://localhost:8080/",
          "height": 35
        },
        "id": "gTSb-vWVIZ1v",
        "outputId": "02519bce-4b24-4d50-afb4-9a130104954b"
      },
      "execution_count": null,
      "outputs": [
        {
          "output_type": "execute_result",
          "data": {
            "text/plain": [
              "'/content'"
            ],
            "application/vnd.google.colaboratory.intrinsic+json": {
              "type": "string"
            }
          },
          "metadata": {},
          "execution_count": 14
        }
      ]
    },
    {
      "cell_type": "code",
      "source": [
        "os.chdir('/content/drive/MyDrive/project')"
      ],
      "metadata": {
        "id": "uO0yOMfrMp_V"
      },
      "execution_count": null,
      "outputs": []
    },
    {
      "cell_type": "code",
      "source": [
        "os.getcwd()"
      ],
      "metadata": {
        "colab": {
          "base_uri": "https://localhost:8080/",
          "height": 35
        },
        "id": "TTaY_NTuMzml",
        "outputId": "0b99c2e4-0e79-4d03-db64-e8d03404e64a"
      },
      "execution_count": null,
      "outputs": [
        {
          "output_type": "execute_result",
          "data": {
            "text/plain": [
              "'/content/drive/MyDrive/project'"
            ],
            "application/vnd.google.colaboratory.intrinsic+json": {
              "type": "string"
            }
          },
          "metadata": {},
          "execution_count": 18
        }
      ]
    },
    {
      "cell_type": "code",
      "source": [
        "ls"
      ],
      "metadata": {
        "colab": {
          "base_uri": "https://localhost:8080/"
        },
        "id": "y6KvU8jEM4ZM",
        "outputId": "a83fdc0b-ae9a-4182-a11d-ee87f06f524f"
      },
      "execution_count": null,
      "outputs": [
        {
          "output_type": "stream",
          "name": "stdout",
          "text": [
            "\u001b[0m\u001b[01;34mcar_bike\u001b[0m/\n"
          ]
        }
      ]
    },
    {
      "cell_type": "code",
      "source": [
        "from keras.applications.vgg16 import VGG16"
      ],
      "metadata": {
        "id": "8-29McQQM7kB"
      },
      "execution_count": null,
      "outputs": []
    },
    {
      "cell_type": "code",
      "source": [
        "vgg16=VGG16(input_shape=[224,224,3],weights='imagenet',include_top=False)"
      ],
      "metadata": {
        "colab": {
          "base_uri": "https://localhost:8080/"
        },
        "id": "cCXuGruXTJZr",
        "outputId": "c465c8c1-040e-433c-aea5-e2ec0a607029"
      },
      "execution_count": null,
      "outputs": [
        {
          "output_type": "stream",
          "name": "stdout",
          "text": [
            "Downloading data from https://storage.googleapis.com/tensorflow/keras-applications/vgg16/vgg16_weights_tf_dim_ordering_tf_kernels_notop.h5\n",
            "58889256/58889256 [==============================] - 24s 0us/step\n"
          ]
        }
      ]
    },
    {
      "cell_type": "code",
      "source": [
        "for layer in vgg16.layers:\n",
        "  print(layer.name)"
      ],
      "metadata": {
        "colab": {
          "base_uri": "https://localhost:8080/"
        },
        "id": "fZ4rEQ08TS3r",
        "outputId": "c21489d1-f379-41ec-da7f-ea5d224a3a97"
      },
      "execution_count": null,
      "outputs": [
        {
          "output_type": "stream",
          "name": "stdout",
          "text": [
            "input_1\n",
            "block1_conv1\n",
            "block1_conv2\n",
            "block1_pool\n",
            "block2_conv1\n",
            "block2_conv2\n",
            "block2_pool\n",
            "block3_conv1\n",
            "block3_conv2\n",
            "block3_conv3\n",
            "block3_pool\n",
            "block4_conv1\n",
            "block4_conv2\n",
            "block4_conv3\n",
            "block4_pool\n",
            "block5_conv1\n",
            "block5_conv2\n",
            "block5_conv3\n",
            "block5_pool\n"
          ]
        }
      ]
    },
    {
      "cell_type": "code",
      "source": [
        "for layer in vgg16.layers:\n",
        "  layer.trainable=False"
      ],
      "metadata": {
        "id": "IeRneQhXTUdY"
      },
      "execution_count": null,
      "outputs": []
    },
    {
      "cell_type": "code",
      "source": [
        "\n",
        "for layer in vgg16.layers:\n",
        "  print(layer.trainable)"
      ],
      "metadata": {
        "colab": {
          "base_uri": "https://localhost:8080/"
        },
        "id": "OYjly5b5TaH5",
        "outputId": "58990884-1ac1-4a3e-cd9b-55933a361b79"
      },
      "execution_count": null,
      "outputs": [
        {
          "output_type": "stream",
          "name": "stdout",
          "text": [
            "False\n",
            "False\n",
            "False\n",
            "False\n",
            "False\n",
            "False\n",
            "False\n",
            "False\n",
            "False\n",
            "False\n",
            "False\n",
            "False\n",
            "False\n",
            "False\n",
            "False\n",
            "False\n",
            "False\n",
            "False\n",
            "False\n"
          ]
        }
      ]
    },
    {
      "cell_type": "code",
      "source": [
        "vgg16.summary()"
      ],
      "metadata": {
        "colab": {
          "base_uri": "https://localhost:8080/"
        },
        "id": "cluDfO_LToAu",
        "outputId": "a6452cb5-c554-41af-e5c8-80aa0ae544b7"
      },
      "execution_count": null,
      "outputs": [
        {
          "output_type": "stream",
          "name": "stdout",
          "text": [
            "Model: \"vgg16\"\n",
            "_________________________________________________________________\n",
            " Layer (type)                Output Shape              Param #   \n",
            "=================================================================\n",
            " input_1 (InputLayer)        [(None, 224, 224, 3)]     0         \n",
            "                                                                 \n",
            " block1_conv1 (Conv2D)       (None, 224, 224, 64)      1792      \n",
            "                                                                 \n",
            " block1_conv2 (Conv2D)       (None, 224, 224, 64)      36928     \n",
            "                                                                 \n",
            " block1_pool (MaxPooling2D)  (None, 112, 112, 64)      0         \n",
            "                                                                 \n",
            " block2_conv1 (Conv2D)       (None, 112, 112, 128)     73856     \n",
            "                                                                 \n",
            " block2_conv2 (Conv2D)       (None, 112, 112, 128)     147584    \n",
            "                                                                 \n",
            " block2_pool (MaxPooling2D)  (None, 56, 56, 128)       0         \n",
            "                                                                 \n",
            " block3_conv1 (Conv2D)       (None, 56, 56, 256)       295168    \n",
            "                                                                 \n",
            " block3_conv2 (Conv2D)       (None, 56, 56, 256)       590080    \n",
            "                                                                 \n",
            " block3_conv3 (Conv2D)       (None, 56, 56, 256)       590080    \n",
            "                                                                 \n",
            " block3_pool (MaxPooling2D)  (None, 28, 28, 256)       0         \n",
            "                                                                 \n",
            " block4_conv1 (Conv2D)       (None, 28, 28, 512)       1180160   \n",
            "                                                                 \n",
            " block4_conv2 (Conv2D)       (None, 28, 28, 512)       2359808   \n",
            "                                                                 \n",
            " block4_conv3 (Conv2D)       (None, 28, 28, 512)       2359808   \n",
            "                                                                 \n",
            " block4_pool (MaxPooling2D)  (None, 14, 14, 512)       0         \n",
            "                                                                 \n",
            " block5_conv1 (Conv2D)       (None, 14, 14, 512)       2359808   \n",
            "                                                                 \n",
            " block5_conv2 (Conv2D)       (None, 14, 14, 512)       2359808   \n",
            "                                                                 \n",
            " block5_conv3 (Conv2D)       (None, 14, 14, 512)       2359808   \n",
            "                                                                 \n",
            " block5_pool (MaxPooling2D)  (None, 7, 7, 512)         0         \n",
            "                                                                 \n",
            "=================================================================\n",
            "Total params: 14714688 (56.13 MB)\n",
            "Trainable params: 0 (0.00 Byte)\n",
            "Non-trainable params: 14714688 (56.13 MB)\n",
            "_________________________________________________________________\n"
          ]
        }
      ]
    },
    {
      "cell_type": "code",
      "source": [
        "model=Sequential()\n",
        "model.add(vgg16)\n",
        "model.add(Flatten())\n",
        "model.add(Dense(256,activation='relu'))\n",
        "model.add(Dense(2,activation='softmax'))"
      ],
      "metadata": {
        "id": "bL4qzoWtTpfL"
      },
      "execution_count": null,
      "outputs": []
    },
    {
      "cell_type": "code",
      "source": [
        "model.summary()\n"
      ],
      "metadata": {
        "colab": {
          "base_uri": "https://localhost:8080/"
        },
        "id": "B1F66fUiTps9",
        "outputId": "b2fa3e51-a4fb-4416-92ad-e9caa3110b95"
      },
      "execution_count": null,
      "outputs": [
        {
          "output_type": "stream",
          "name": "stdout",
          "text": [
            "Model: \"sequential\"\n",
            "_________________________________________________________________\n",
            " Layer (type)                Output Shape              Param #   \n",
            "=================================================================\n",
            " vgg16 (Functional)          (None, 7, 7, 512)         14714688  \n",
            "                                                                 \n",
            " flatten (Flatten)           (None, 25088)             0         \n",
            "                                                                 \n",
            " dense (Dense)               (None, 256)               6422784   \n",
            "                                                                 \n",
            " dense_1 (Dense)             (None, 2)                 514       \n",
            "                                                                 \n",
            "=================================================================\n",
            "Total params: 21137986 (80.64 MB)\n",
            "Trainable params: 6423298 (24.50 MB)\n",
            "Non-trainable params: 14714688 (56.13 MB)\n",
            "_________________________________________________________________\n"
          ]
        }
      ]
    },
    {
      "cell_type": "code",
      "source": [
        "model.compile(loss=keras.losses.categorical_crossentropy,\n",
        "              optimizer=tf.keras.optimizers.Adam(),\n",
        "              metrics=['accuracy'])"
      ],
      "metadata": {
        "id": "O0pamvjLVt3K"
      },
      "execution_count": null,
      "outputs": []
    },
    {
      "cell_type": "code",
      "source": [
        "os.getcwd()"
      ],
      "metadata": {
        "colab": {
          "base_uri": "https://localhost:8080/",
          "height": 35
        },
        "id": "AEllw9sIWIMc",
        "outputId": "6e1e2f8b-0b90-4485-881b-ec20d8fea62e"
      },
      "execution_count": null,
      "outputs": [
        {
          "output_type": "execute_result",
          "data": {
            "text/plain": [
              "'/content'"
            ],
            "application/vnd.google.colaboratory.intrinsic+json": {
              "type": "string"
            }
          },
          "metadata": {},
          "execution_count": 34
        }
      ]
    },
    {
      "cell_type": "code",
      "source": [
        "os.chdir('/content/drive/MyDrive/project')"
      ],
      "metadata": {
        "id": "Ckwmzro6XSd3"
      },
      "execution_count": null,
      "outputs": []
    },
    {
      "cell_type": "code",
      "source": [
        "os.getcwd()"
      ],
      "metadata": {
        "colab": {
          "base_uri": "https://localhost:8080/",
          "height": 35
        },
        "id": "lvL71JE9YjpW",
        "outputId": "a3c9be26-6eb0-4d68-a00e-bf58d4439e97"
      },
      "execution_count": null,
      "outputs": [
        {
          "output_type": "execute_result",
          "data": {
            "text/plain": [
              "'/content/drive/MyDrive/project'"
            ],
            "application/vnd.google.colaboratory.intrinsic+json": {
              "type": "string"
            }
          },
          "metadata": {},
          "execution_count": 46
        }
      ]
    },
    {
      "cell_type": "code",
      "source": [
        "loc=glob('car_bike/train/*')"
      ],
      "metadata": {
        "id": "Yv6Md4NBYlvS"
      },
      "execution_count": null,
      "outputs": []
    },
    {
      "cell_type": "code",
      "source": [
        "loc"
      ],
      "metadata": {
        "colab": {
          "base_uri": "https://localhost:8080/"
        },
        "id": "qDATuHVFYxBh",
        "outputId": "883e9621-72e0-428d-f37c-38200629c44c"
      },
      "execution_count": null,
      "outputs": [
        {
          "output_type": "execute_result",
          "data": {
            "text/plain": [
              "['car_bike/train/Car', 'car_bike/train/Bike']"
            ]
          },
          "metadata": {},
          "execution_count": 40
        }
      ]
    },
    {
      "cell_type": "code",
      "source": [
        "loc2=glob('car_bike/validation/*')"
      ],
      "metadata": {
        "id": "qKcLjlJCYyOa"
      },
      "execution_count": null,
      "outputs": []
    },
    {
      "cell_type": "code",
      "source": [
        "loc2"
      ],
      "metadata": {
        "colab": {
          "base_uri": "https://localhost:8080/"
        },
        "id": "MG3If67BY5QY",
        "outputId": "9719b689-3c24-487f-c168-4de48678e965"
      },
      "execution_count": null,
      "outputs": [
        {
          "output_type": "execute_result",
          "data": {
            "text/plain": [
              "['car_bike/validation/bike', 'car_bike/validation/car']"
            ]
          },
          "metadata": {},
          "execution_count": 42
        }
      ]
    },
    {
      "cell_type": "code",
      "source": [
        "train_data=ImageDataGenerator(rescale = 1./255,\n",
        "                                   shear_range = 0.2,\n",
        "                                   zoom_range = 0.2,\n",
        "                                   horizontal_flip = True)\n",
        "\n",
        "test_data=ImageDataGenerator(rescale = 1./255)"
      ],
      "metadata": {
        "id": "JmSv7aOYY55x"
      },
      "execution_count": null,
      "outputs": []
    },
    {
      "cell_type": "code",
      "source": [
        "training_dataset=train_data.flow_from_directory('car_bike/train',class_mode='categorical',\n",
        "                                                batch_size=32,target_size=(224,224))"
      ],
      "metadata": {
        "colab": {
          "base_uri": "https://localhost:8080/"
        },
        "id": "rYFP4P2JZq4T",
        "outputId": "f30bb078-f10e-4b49-eb7f-60bb1c48cd71"
      },
      "execution_count": null,
      "outputs": [
        {
          "output_type": "stream",
          "name": "stdout",
          "text": [
            "Found 3500 images belonging to 2 classes.\n"
          ]
        }
      ]
    },
    {
      "cell_type": "code",
      "source": [
        "validation_dataset=test_data.flow_from_directory('car_bike/validation',class_mode='categorical',\n",
        "                                                 batch_size=32,target_size=(224,224))"
      ],
      "metadata": {
        "colab": {
          "base_uri": "https://localhost:8080/"
        },
        "id": "6wI7RCguZ83o",
        "outputId": "a1a288a0-10a4-4d69-d912-1028d040203f"
      },
      "execution_count": null,
      "outputs": [
        {
          "output_type": "stream",
          "name": "stdout",
          "text": [
            "Found 500 images belonging to 2 classes.\n"
          ]
        }
      ]
    },
    {
      "cell_type": "code",
      "source": [
        "fit=model.fit(training_dataset,validation_data=validation_dataset,batch_size=32,epochs=10,steps_per_epoch=len(training_dataset),\n",
        "              validation_steps=len(validation_dataset))"
      ],
      "metadata": {
        "colab": {
          "base_uri": "https://localhost:8080/"
        },
        "id": "5frI6N0fePP3",
        "outputId": "3fec3e37-b86b-463c-d6a5-d0ec7a472224"
      },
      "execution_count": null,
      "outputs": [
        {
          "output_type": "stream",
          "name": "stdout",
          "text": [
            "Epoch 1/10\n",
            "110/110 [==============================] - ETA: 0s - loss: 0.2616 - accuracy: 0.9371"
          ]
        },
        {
          "output_type": "stream",
          "name": "stderr",
          "text": [
            "/usr/local/lib/python3.10/dist-packages/PIL/Image.py:996: UserWarning: Palette images with Transparency expressed in bytes should be converted to RGBA images\n",
            "  warnings.warn(\n"
          ]
        },
        {
          "output_type": "stream",
          "name": "stdout",
          "text": [
            "\b\b\b\b\b\b\b\b\b\b\b\b\b\b\b\b\b\b\b\b\b\b\b\b\b\b\b\b\b\b\b\b\b\b\b\b\b\b\b\b\b\b\b\b\b\b\b\b\b\b\b\b\b\b\b\b\b\b\b\b\b\b\b\b\b\b\b\b\b\b\b\b\b\b\b\b\b\b\b\b\b\b\b\b\r110/110 [==============================] - 1100s 10s/step - loss: 0.2616 - accuracy: 0.9371 - val_loss: 0.0451 - val_accuracy: 0.9860\n",
            "Epoch 2/10\n",
            "110/110 [==============================] - 59s 541ms/step - loss: 0.0467 - accuracy: 0.9840 - val_loss: 0.0360 - val_accuracy: 0.9900\n",
            "Epoch 3/10\n",
            "110/110 [==============================] - 59s 536ms/step - loss: 0.0562 - accuracy: 0.9797 - val_loss: 0.0609 - val_accuracy: 0.9860\n",
            "Epoch 4/10\n",
            "110/110 [==============================] - 60s 546ms/step - loss: 0.0254 - accuracy: 0.9909 - val_loss: 0.0413 - val_accuracy: 0.9860\n",
            "Epoch 5/10\n",
            "110/110 [==============================] - 57s 523ms/step - loss: 0.0197 - accuracy: 0.9929 - val_loss: 0.0518 - val_accuracy: 0.9900\n",
            "Epoch 6/10\n",
            "110/110 [==============================] - 57s 520ms/step - loss: 0.0100 - accuracy: 0.9971 - val_loss: 0.0403 - val_accuracy: 0.9920\n",
            "Epoch 7/10\n",
            "110/110 [==============================] - 58s 523ms/step - loss: 0.0124 - accuracy: 0.9969 - val_loss: 0.0455 - val_accuracy: 0.9920\n",
            "Epoch 8/10\n",
            "110/110 [==============================] - 58s 526ms/step - loss: 0.0065 - accuracy: 0.9986 - val_loss: 0.0524 - val_accuracy: 0.9900\n",
            "Epoch 9/10\n",
            "110/110 [==============================] - 58s 517ms/step - loss: 0.0088 - accuracy: 0.9971 - val_loss: 0.0650 - val_accuracy: 0.9880\n",
            "Epoch 10/10\n",
            "110/110 [==============================] - 58s 526ms/step - loss: 0.0104 - accuracy: 0.9966 - val_loss: 0.0793 - val_accuracy: 0.9880\n"
          ]
        }
      ]
    },
    {
      "cell_type": "code",
      "source": [
        "fit.history"
      ],
      "metadata": {
        "colab": {
          "base_uri": "https://localhost:8080/"
        },
        "id": "q0UbeHK1fKEx",
        "outputId": "4cdaf8e3-6e3b-4bdc-ad9c-99a1fdec622b"
      },
      "execution_count": null,
      "outputs": [
        {
          "output_type": "execute_result",
          "data": {
            "text/plain": [
              "{'loss': [0.26156315207481384,\n",
              "  0.046710025519132614,\n",
              "  0.05623491480946541,\n",
              "  0.02540985494852066,\n",
              "  0.01969454437494278,\n",
              "  0.009960545226931572,\n",
              "  0.01240015123039484,\n",
              "  0.006501892581582069,\n",
              "  0.008782589808106422,\n",
              "  0.010350785218179226],\n",
              " 'accuracy': [0.9371428489685059,\n",
              "  0.984000027179718,\n",
              "  0.9797142744064331,\n",
              "  0.9908571243286133,\n",
              "  0.9928571581840515,\n",
              "  0.9971428513526917,\n",
              "  0.9968571662902832,\n",
              "  0.9985714554786682,\n",
              "  0.9971428513526917,\n",
              "  0.99657142162323],\n",
              " 'val_loss': [0.0450909323990345,\n",
              "  0.036008428782224655,\n",
              "  0.06091727316379547,\n",
              "  0.04134580120444298,\n",
              "  0.05180243402719498,\n",
              "  0.04028375446796417,\n",
              "  0.04551676660776138,\n",
              "  0.05239789932966232,\n",
              "  0.06502794474363327,\n",
              "  0.07931617647409439],\n",
              " 'val_accuracy': [0.9860000014305115,\n",
              "  0.9900000095367432,\n",
              "  0.9860000014305115,\n",
              "  0.9860000014305115,\n",
              "  0.9900000095367432,\n",
              "  0.9919999837875366,\n",
              "  0.9919999837875366,\n",
              "  0.9900000095367432,\n",
              "  0.9879999756813049,\n",
              "  0.9879999756813049]}"
            ]
          },
          "metadata": {},
          "execution_count": 56
        }
      ]
    },
    {
      "cell_type": "code",
      "source": [
        "import matplotlib.pyplot as plt\n",
        "import pandas as pd"
      ],
      "metadata": {
        "id": "SxlWz3ECmbHi"
      },
      "execution_count": null,
      "outputs": []
    },
    {
      "cell_type": "code",
      "source": [
        "pd.DataFrame(fit.history).plot()"
      ],
      "metadata": {
        "colab": {
          "base_uri": "https://localhost:8080/",
          "height": 447
        },
        "id": "Evt5lBpNnOZM",
        "outputId": "bd4feeaf-f035-4321-bb3f-bcdf04dc4a1d"
      },
      "execution_count": null,
      "outputs": [
        {
          "output_type": "execute_result",
          "data": {
            "text/plain": [
              "<Axes: >"
            ]
          },
          "metadata": {},
          "execution_count": 59
        },
        {
          "output_type": "display_data",
          "data": {
            "text/plain": [
              "<Figure size 640x480 with 1 Axes>"
            ],
            "image/png": "[encoded data removed]"
          },
          "metadata": {}
        }
      ]
    },
    {
      "cell_type": "code",
      "source": [
        "plt.plot(fit.history['loss'],label='loss')\n",
        "plt.plot(fit.history['val_loss'],label='val_loss')\n",
        "plt.legend()"
      ],
      "metadata": {
        "colab": {
          "base_uri": "https://localhost:8080/",
          "height": 447
        },
        "id": "mwd_-JiVndb7",
        "outputId": "1330c37e-b2b3-44b7-b124-702fb134d54e"
      },
      "execution_count": null,
      "outputs": [
        {
          "output_type": "execute_result",
          "data": {
            "text/plain": [
              "<matplotlib.legend.Legend at 0x7c927cefeb00>"
            ]
          },
          "metadata": {},
          "execution_count": 66
        },
        {
          "output_type": "display_data",
          "data": {
            "text/plain": [
              "<Figure size 640x480 with 1 Axes>"
            ],
            "image/png": "[encoded data removed]"
          },
          "metadata": {}
        }
      ]
    },
    {
      "cell_type": "code",
      "source": [
        "plt.plot(fit.history['accuracy'],label='train_accuracy')\n",
        "plt.plot(fit.history['val_accuracy'],label='val_accuracy')\n",
        "plt.legend()"
      ],
      "metadata": {
        "colab": {
          "base_uri": "https://localhost:8080/",
          "height": 447
        },
        "id": "azrWEOhMn09a",
        "outputId": "cdb1fa37-70a7-4b69-a7b0-44f1da1a623f"
      },
      "execution_count": null,
      "outputs": [
        {
          "output_type": "execute_result",
          "data": {
            "text/plain": [
              "<matplotlib.legend.Legend at 0x7c927d2d6260>"
            ]
          },
          "metadata": {},
          "execution_count": 67
        },
        {
          "output_type": "display_data",
          "data": {
            "text/plain": [
              "<Figure size 640x480 with 1 Axes>"
            ],
            "image/png": "[encoded data removed]"
          },
          "metadata": {}
        }
      ]
    },
    {
      "cell_type": "code",
      "source": [
        "os.getcwd()"
      ],
      "metadata": {
        "colab": {
          "base_uri": "https://localhost:8080/",
          "height": 35
        },
        "id": "ZCpLO-c6oe0z",
        "outputId": "f819cab4-3d28-425c-f06b-4a923cf0bad8"
      },
      "execution_count": null,
      "outputs": [
        {
          "output_type": "execute_result",
          "data": {
            "text/plain": [
              "'/content/drive/MyDrive/project'"
            ],
            "application/vnd.google.colaboratory.intrinsic+json": {
              "type": "string"
            }
          },
          "metadata": {},
          "execution_count": 68
        }
      ]
    },
    {
      "cell_type": "code",
      "source": [
        "model.save('vgg16_prediction_model.h5')"
      ],
      "metadata": {
        "colab": {
          "base_uri": "https://localhost:8080/"
        },
        "id": "tUqEjVdKomG6",
        "outputId": "3f6948dc-aafe-47f8-8394-fc2617bdbbfe"
      },
      "execution_count": null,
      "outputs": [
        {
          "output_type": "stream",
          "name": "stderr",
          "text": [
            "/usr/local/lib/python3.10/dist-packages/keras/src/engine/training.py:3000: UserWarning: You are saving your model as an HDF5 file via `model.save()`. This file format is considered legacy. We recommend using instead the native Keras format, e.g. `model.save('my_model.keras')`.\n",
            "  saving_api.save_model(\n"
          ]
        }
      ]
    },
    {
      "cell_type": "code",
      "source": [
        "## lets make prediction\n",
        "y_pred=model.predict(validation_dataset)"
      ],
      "metadata": {
        "colab": {
          "base_uri": "https://localhost:8080/"
        },
        "id": "9f3SQUgXovUm",
        "outputId": "60d10b12-9ab7-4bc2-a248-5b4d8a9bd18b"
      },
      "execution_count": null,
      "outputs": [
        {
          "output_type": "stream",
          "name": "stderr",
          "text": [
            "/usr/local/lib/python3.10/dist-packages/PIL/Image.py:996: UserWarning: Palette images with Transparency expressed in bytes should be converted to RGBA images\n",
            "  warnings.warn(\n"
          ]
        },
        {
          "output_type": "stream",
          "name": "stdout",
          "text": [
            "16/16 [==============================] - 3s 183ms/step\n"
          ]
        }
      ]
    },
    {
      "cell_type": "code",
      "source": [
        "y_pred"
      ],
      "metadata": {
        "colab": {
          "base_uri": "https://localhost:8080/"
        },
        "id": "qYruXZyvpRMa",
        "outputId": "aa3bbcad-4d8b-4a43-8ee9-174a991f4d49"
      },
      "execution_count": null,
      "outputs": [
        {
          "output_type": "execute_result",
          "data": {
            "text/plain": [
              "array([[1.00000000e+00, 9.14353008e-16],\n",
              "       [1.18016622e-07, 9.99999881e-01],\n",
              "       [1.52482255e-06, 9.99998450e-01],\n",
              "       [1.00000000e+00, 1.19426550e-13],\n",
              "       [1.00000000e+00, 1.15395464e-10],\n",
              "       [5.84423049e-07, 9.99999404e-01],\n",
              "       [3.83448833e-06, 9.99996185e-01],\n",
              "       [7.36205311e-06, 9.99992609e-01],\n",
              "       [7.17789862e-06, 9.99992847e-01],\n",
              "       [9.99999762e-01, 2.51723861e-07],\n",
              "       [1.00000000e+00, 1.64619739e-12],\n",
              "       [1.00000000e+00, 9.90370363e-09],\n",
              "       [7.90179183e-05, 9.99920964e-01],\n",
              "       [1.00000000e+00, 9.91358097e-18],\n",
              "       [1.73780845e-05, 9.99982595e-01],\n",
              "       [4.07135167e-06, 9.99995947e-01],\n",
              "       [1.00000000e+00, 1.96314116e-14],\n",
              "       [1.00000000e+00, 5.75682622e-13],\n",
              "       [3.08784911e-05, 9.99969125e-01],\n",
              "       [1.00000000e+00, 4.29780829e-11],\n",
              "       [1.00000000e+00, 4.13900922e-14],\n",
              "       [9.99999762e-01, 1.86800008e-07],\n",
              "       [1.00000000e+00, 4.82842407e-15],\n",
              "       [1.61252629e-08, 1.00000000e+00],\n",
              "       [6.27384907e-07, 9.99999404e-01],\n",
              "       [1.00000000e+00, 1.22316698e-10],\n",
              "       [1.02959052e-06, 9.99998927e-01],\n",
              "       [3.41514351e-05, 9.99965906e-01],\n",
              "       [2.71992576e-06, 9.99997258e-01],\n",
              "       [1.15990474e-06, 9.99998808e-01],\n",
              "       [1.00000000e+00, 5.47719476e-13],\n",
              "       [5.95405538e-07, 9.99999404e-01],\n",
              "       [4.89045575e-04, 9.99511003e-01],\n",
              "       [1.00000000e+00, 4.76747308e-09],\n",
              "       [9.99996424e-01, 3.54206031e-06],\n",
              "       [1.00000000e+00, 1.08913536e-08],\n",
              "       [8.26854603e-07, 9.99999166e-01],\n",
              "       [1.00000000e+00, 3.20798915e-10],\n",
              "       [1.00000000e+00, 2.90595777e-11],\n",
              "       [4.92598417e-07, 9.99999523e-01],\n",
              "       [9.99997139e-01, 2.90504818e-06],\n",
              "       [1.00000000e+00, 8.35194935e-09],\n",
              "       [3.84075101e-05, 9.99961615e-01],\n",
              "       [3.59670288e-04, 9.99640346e-01],\n",
              "       [1.00000000e+00, 4.00293866e-13],\n",
              "       [4.64640689e-05, 9.99953508e-01],\n",
              "       [1.00000000e+00, 9.42907753e-13],\n",
              "       [1.00000000e+00, 6.72105600e-14],\n",
              "       [3.31726426e-07, 9.99999642e-01],\n",
              "       [1.39173464e-08, 1.00000000e+00],\n",
              "       [1.00000000e+00, 4.57705127e-08],\n",
              "       [9.99999762e-01, 2.11744023e-07],\n",
              "       [1.02557065e-08, 1.00000000e+00],\n",
              "       [1.00000000e+00, 1.82207527e-14],\n",
              "       [1.00000000e+00, 1.66931313e-09],\n",
              "       [9.99223828e-01, 7.76136934e-04],\n",
              "       [1.00000000e+00, 1.59753710e-09],\n",
              "       [9.99998212e-01, 1.73471187e-06],\n",
              "       [1.00000000e+00, 5.48605883e-10],\n",
              "       [1.00000000e+00, 1.50986704e-15],\n",
              "       [7.18290361e-09, 1.00000000e+00],\n",
              "       [1.62581462e-04, 9.99837399e-01],\n",
              "       [3.49076640e-06, 9.99996543e-01],\n",
              "       [1.00000000e+00, 3.42671447e-11],\n",
              "       [9.99997139e-01, 2.87044759e-06],\n",
              "       [1.00000000e+00, 5.70271963e-09],\n",
              "       [9.62412916e-04, 9.99037623e-01],\n",
              "       [9.99999881e-01, 6.71759040e-08],\n",
              "       [9.99891520e-01, 1.08504690e-04],\n",
              "       [1.00000000e+00, 5.44487433e-09],\n",
              "       [1.00000000e+00, 2.72664486e-13],\n",
              "       [7.27242195e-07, 9.99999285e-01],\n",
              "       [2.49175400e-07, 9.99999762e-01],\n",
              "       [1.00000000e+00, 2.84226331e-09],\n",
              "       [2.90560229e-06, 9.99997139e-01],\n",
              "       [1.21461824e-04, 9.99878526e-01],\n",
              "       [1.00000000e+00, 2.24477717e-13],\n",
              "       [6.50169295e-06, 9.99993443e-01],\n",
              "       [6.65298148e-06, 9.99993324e-01],\n",
              "       [2.54045247e-08, 1.00000000e+00],\n",
              "       [1.00000000e+00, 1.26999375e-11],\n",
              "       [9.82712436e-08, 9.99999881e-01],\n",
              "       [8.07219301e-04, 9.99192774e-01],\n",
              "       [4.51469333e-07, 9.99999523e-01],\n",
              "       [1.43599054e-05, 9.99985695e-01],\n",
              "       [1.94382430e-08, 1.00000000e+00],\n",
              "       [9.98169541e-01, 1.83046784e-03],\n",
              "       [1.00000000e+00, 3.39052889e-14],\n",
              "       [1.01644412e-06, 9.99998927e-01],\n",
              "       [6.23752014e-04, 9.99376237e-01],\n",
              "       [1.00000000e+00, 1.38227076e-13],\n",
              "       [1.00000000e+00, 8.37114530e-14],\n",
              "       [6.63387327e-05, 9.99933600e-01],\n",
              "       [1.00000000e+00, 5.38573488e-08],\n",
              "       [2.36209999e-05, 9.99976397e-01],\n",
              "       [2.92982691e-06, 9.99997020e-01],\n",
              "       [2.45178206e-04, 9.99754846e-01],\n",
              "       [1.37258412e-05, 9.99986291e-01],\n",
              "       [5.35513527e-06, 9.99994636e-01],\n",
              "       [1.00000000e+00, 9.13885023e-10],\n",
              "       [1.00000000e+00, 1.33698164e-08],\n",
              "       [1.00000000e+00, 3.27124547e-12],\n",
              "       [4.88920762e-08, 1.00000000e+00],\n",
              "       [1.00000000e+00, 5.11123144e-09],\n",
              "       [9.99897838e-01, 1.02162994e-04],\n",
              "       [9.81017947e-01, 1.89820714e-02],\n",
              "       [9.99999881e-01, 1.40326350e-07],\n",
              "       [1.00000000e+00, 4.47523407e-10],\n",
              "       [1.00000000e+00, 4.57578921e-14],\n",
              "       [4.23810576e-07, 9.99999523e-01],\n",
              "       [3.41428267e-06, 9.99996543e-01],\n",
              "       [5.20109777e-09, 1.00000000e+00],\n",
              "       [1.00000000e+00, 2.05193516e-17],\n",
              "       [1.00000000e+00, 1.80962267e-08],\n",
              "       [1.41788781e-01, 8.58211219e-01],\n",
              "       [1.00000000e+00, 2.88910181e-11],\n",
              "       [1.00000000e+00, 1.98148142e-09],\n",
              "       [1.40802388e-06, 9.99998569e-01],\n",
              "       [1.00000000e+00, 1.08470080e-12],\n",
              "       [1.00000000e+00, 7.55603566e-11],\n",
              "       [1.00000000e+00, 1.69290679e-08],\n",
              "       [6.48820048e-07, 9.99999404e-01],\n",
              "       [9.99997258e-01, 2.80031441e-06],\n",
              "       [1.00000000e+00, 5.28506371e-11],\n",
              "       [1.00000000e+00, 5.40980902e-14],\n",
              "       [9.99999642e-01, 2.99967780e-07],\n",
              "       [1.00000000e+00, 8.74753464e-11],\n",
              "       [1.31881492e-07, 9.99999881e-01],\n",
              "       [1.00000000e+00, 1.50409429e-09],\n",
              "       [9.99999881e-01, 1.64264151e-07],\n",
              "       [1.00000000e+00, 2.13771414e-11],\n",
              "       [3.51874405e-08, 1.00000000e+00],\n",
              "       [1.00000000e+00, 4.58116531e-08],\n",
              "       [1.68232117e-02, 9.83176827e-01],\n",
              "       [1.00000000e+00, 3.38129871e-11],\n",
              "       [1.57771996e-04, 9.99842167e-01],\n",
              "       [1.00000000e+00, 3.64720275e-15],\n",
              "       [1.00000000e+00, 3.89725708e-12],\n",
              "       [1.00000000e+00, 7.25019778e-09],\n",
              "       [2.44909206e-05, 9.99975562e-01],\n",
              "       [9.99608219e-01, 3.91818932e-04],\n",
              "       [1.20545345e-04, 9.99879479e-01],\n",
              "       [3.66766301e-07, 9.99999642e-01],\n",
              "       [2.20548049e-01, 7.79451907e-01],\n",
              "       [6.37182779e-07, 9.99999404e-01],\n",
              "       [1.00000000e+00, 3.42172742e-13],\n",
              "       [4.01258376e-06, 9.99995947e-01],\n",
              "       [2.37716655e-08, 1.00000000e+00],\n",
              "       [1.00000000e+00, 2.02348780e-11],\n",
              "       [1.00000000e+00, 3.16266977e-08],\n",
              "       [1.00000000e+00, 3.26483909e-11],\n",
              "       [3.01807784e-02, 9.69819188e-01],\n",
              "       [1.53626461e-05, 9.99984622e-01],\n",
              "       [4.07475818e-06, 9.99995947e-01],\n",
              "       [4.14281374e-07, 9.99999642e-01],\n",
              "       [1.75185880e-06, 9.99998212e-01],\n",
              "       [2.42077675e-07, 9.99999762e-01],\n",
              "       [1.00000000e+00, 3.57508104e-13],\n",
              "       [1.63572253e-07, 9.99999881e-01],\n",
              "       [1.00000000e+00, 1.52862410e-11],\n",
              "       [1.00000000e+00, 8.09659184e-09],\n",
              "       [1.00000000e+00, 1.55077692e-13],\n",
              "       [1.18916342e-02, 9.88108337e-01],\n",
              "       [1.08994001e-07, 9.99999881e-01],\n",
              "       [1.23677537e-05, 9.99987602e-01],\n",
              "       [9.99998927e-01, 1.08958523e-06],\n",
              "       [1.22204528e-03, 9.98777926e-01],\n",
              "       [1.00000000e+00, 2.02456389e-12],\n",
              "       [1.00000000e+00, 1.19419091e-12],\n",
              "       [1.00000000e+00, 1.49737666e-12],\n",
              "       [9.07676353e-04, 9.99092340e-01],\n",
              "       [1.00000000e+00, 3.96549391e-11],\n",
              "       [5.73040609e-07, 9.99999404e-01],\n",
              "       [1.00000000e+00, 2.08328094e-11],\n",
              "       [8.22279446e-07, 9.99999166e-01],\n",
              "       [1.75503160e-07, 9.99999881e-01],\n",
              "       [3.47440817e-07, 9.99999642e-01],\n",
              "       [3.70839871e-07, 9.99999642e-01],\n",
              "       [9.99999881e-01, 1.78656506e-07],\n",
              "       [1.77570911e-07, 9.99999881e-01],\n",
              "       [1.00000000e+00, 1.19784373e-11],\n",
              "       [1.47643243e-06, 9.99998569e-01],\n",
              "       [1.00000000e+00, 7.13283654e-10],\n",
              "       [1.00000000e+00, 1.13275253e-12],\n",
              "       [2.47723915e-06, 9.99997497e-01],\n",
              "       [1.00000000e+00, 4.41796556e-12],\n",
              "       [1.07255291e-05, 9.99989271e-01],\n",
              "       [1.00000000e+00, 2.48982279e-09],\n",
              "       [7.15218732e-07, 9.99999285e-01],\n",
              "       [2.53092018e-08, 1.00000000e+00],\n",
              "       [9.99876976e-01, 1.22956000e-04],\n",
              "       [5.39416362e-07, 9.99999404e-01],\n",
              "       [9.87328649e-01, 1.26713738e-02],\n",
              "       [1.87322657e-05, 9.99981284e-01],\n",
              "       [2.55697699e-07, 9.99999762e-01],\n",
              "       [1.00000000e+00, 5.02207520e-09],\n",
              "       [3.89686247e-05, 9.99961019e-01],\n",
              "       [8.37940320e-07, 9.99999166e-01],\n",
              "       [2.03560394e-05, 9.99979615e-01],\n",
              "       [1.00000000e+00, 1.09988539e-10],\n",
              "       [5.91887441e-03, 9.94081080e-01],\n",
              "       [1.00000000e+00, 9.23028143e-09],\n",
              "       [1.00000000e+00, 4.02453649e-16],\n",
              "       [1.00000000e+00, 3.88705873e-11],\n",
              "       [1.41177381e-07, 9.99999881e-01],\n",
              "       [9.99999642e-01, 3.19462686e-07],\n",
              "       [7.82309968e-08, 9.99999881e-01],\n",
              "       [2.94994015e-06, 9.99997020e-01],\n",
              "       [7.00486780e-08, 9.99999881e-01],\n",
              "       [1.00000000e+00, 1.12817515e-08],\n",
              "       [9.22816980e-07, 9.99999046e-01],\n",
              "       [5.11670635e-07, 9.99999523e-01],\n",
              "       [2.49850880e-02, 9.75014925e-01],\n",
              "       [1.00000000e+00, 2.35849621e-12],\n",
              "       [1.05639754e-06, 9.99998927e-01],\n",
              "       [1.00000000e+00, 1.21341843e-11],\n",
              "       [9.96632880e-05, 9.99900341e-01],\n",
              "       [1.00000000e+00, 7.89962605e-13],\n",
              "       [1.52157881e-07, 9.99999881e-01],\n",
              "       [1.00000000e+00, 9.62834153e-12],\n",
              "       [1.00000000e+00, 6.29259006e-11],\n",
              "       [1.88614759e-08, 1.00000000e+00],\n",
              "       [9.99999881e-01, 1.22373564e-07],\n",
              "       [1.44044116e-05, 9.99985576e-01],\n",
              "       [9.56025898e-01, 4.39741351e-02],\n",
              "       [7.24184036e-04, 9.99275863e-01],\n",
              "       [1.00000000e+00, 1.20198052e-09],\n",
              "       [1.00000000e+00, 3.43940190e-16],\n",
              "       [9.99999762e-01, 2.64138635e-07],\n",
              "       [1.00000000e+00, 1.62357378e-13],\n",
              "       [1.00000000e+00, 1.69667730e-14],\n",
              "       [9.58586097e-01, 4.14138585e-02],\n",
              "       [9.99998093e-01, 1.88259855e-06],\n",
              "       [9.99896288e-01, 1.03678874e-04],\n",
              "       [4.22968529e-03, 9.95770276e-01],\n",
              "       [1.00000000e+00, 2.70320183e-10],\n",
              "       [5.85446151e-06, 9.99994159e-01],\n",
              "       [9.99999881e-01, 7.77272362e-08],\n",
              "       [1.00000000e+00, 8.82504952e-13],\n",
              "       [6.94753180e-06, 9.99993086e-01],\n",
              "       [1.00000000e+00, 1.89011341e-11],\n",
              "       [1.00000000e+00, 1.24011706e-12],\n",
              "       [1.00000000e+00, 8.68682940e-15],\n",
              "       [1.51163172e-02, 9.84883666e-01],\n",
              "       [1.00000000e+00, 1.45842789e-12],\n",
              "       [1.00000000e+00, 6.95210289e-09],\n",
              "       [6.59239641e-09, 1.00000000e+00],\n",
              "       [1.00000000e+00, 1.52933916e-14],\n",
              "       [1.92089360e-02, 9.80791092e-01],\n",
              "       [1.53908303e-07, 9.99999881e-01],\n",
              "       [1.00000000e+00, 7.85546406e-10],\n",
              "       [6.86494741e-06, 9.99993086e-01],\n",
              "       [7.86019154e-06, 9.99992132e-01],\n",
              "       [9.98049617e-01, 1.95038854e-03],\n",
              "       [2.52442192e-07, 9.99999762e-01],\n",
              "       [5.58565855e-01, 4.41434115e-01],\n",
              "       [1.92174298e-07, 9.99999762e-01],\n",
              "       [1.00000000e+00, 8.73490114e-10],\n",
              "       [7.77437549e-07, 9.99999166e-01],\n",
              "       [1.00000000e+00, 3.12702503e-10],\n",
              "       [6.91585898e-01, 3.08414102e-01],\n",
              "       [2.20881066e-06, 9.99997735e-01],\n",
              "       [9.99845624e-01, 1.54296562e-04],\n",
              "       [2.06888231e-08, 1.00000000e+00],\n",
              "       [1.00000000e+00, 6.37828115e-13],\n",
              "       [2.96559006e-01, 7.03440964e-01],\n",
              "       [1.00000000e+00, 3.04163118e-12],\n",
              "       [3.74491194e-08, 1.00000000e+00],\n",
              "       [9.99335229e-01, 6.64797262e-04],\n",
              "       [5.26742028e-08, 1.00000000e+00],\n",
              "       [2.40896338e-06, 9.99997616e-01],\n",
              "       [1.00000000e+00, 2.19378116e-09],\n",
              "       [1.00000000e+00, 9.20881684e-15],\n",
              "       [1.00000000e+00, 4.11524637e-09],\n",
              "       [9.99998927e-01, 1.07414530e-06],\n",
              "       [9.00018669e-04, 9.99099970e-01],\n",
              "       [3.61732265e-04, 9.99638200e-01],\n",
              "       [1.35961398e-06, 9.99998689e-01],\n",
              "       [9.99999881e-01, 1.75632408e-07],\n",
              "       [5.61180605e-06, 9.99994397e-01],\n",
              "       [1.61650587e-05, 9.99983788e-01],\n",
              "       [3.27407724e-05, 9.99967217e-01],\n",
              "       [7.36385118e-06, 9.99992609e-01],\n",
              "       [1.28643151e-04, 9.99871373e-01],\n",
              "       [1.00000000e+00, 4.04851977e-12],\n",
              "       [8.76611331e-04, 9.99123394e-01],\n",
              "       [1.00000000e+00, 1.34783322e-11],\n",
              "       [1.00000000e+00, 5.22112227e-14],\n",
              "       [7.53062324e-08, 9.99999881e-01],\n",
              "       [1.51224122e-05, 9.99984860e-01],\n",
              "       [3.84570558e-06, 9.99996185e-01],\n",
              "       [1.91382014e-07, 9.99999762e-01],\n",
              "       [1.00000000e+00, 2.23814967e-10],\n",
              "       [1.00000000e+00, 2.23968890e-12],\n",
              "       [1.00000000e+00, 5.52934478e-12],\n",
              "       [1.00000000e+00, 1.00745437e-16],\n",
              "       [8.18763681e-07, 9.99999166e-01],\n",
              "       [1.00000000e+00, 7.69388080e-13],\n",
              "       [7.04805498e-05, 9.99929547e-01],\n",
              "       [1.00000000e+00, 2.45046674e-11],\n",
              "       [9.99992728e-01, 7.26284134e-06],\n",
              "       [1.00000000e+00, 1.01856865e-11],\n",
              "       [1.22567610e-04, 9.99877453e-01],\n",
              "       [8.72662291e-04, 9.99127328e-01],\n",
              "       [1.00000000e+00, 4.52711582e-17],\n",
              "       [1.00000000e+00, 6.35565778e-09],\n",
              "       [3.07561692e-07, 9.99999642e-01],\n",
              "       [1.00000000e+00, 4.94364230e-08],\n",
              "       [1.77186055e-04, 9.99822795e-01],\n",
              "       [9.99999285e-01, 6.94920118e-07],\n",
              "       [1.00000000e+00, 8.32951262e-14],\n",
              "       [4.12631838e-04, 9.99587357e-01],\n",
              "       [1.00000000e+00, 1.61358682e-09],\n",
              "       [1.00000000e+00, 1.56916119e-10],\n",
              "       [1.30764292e-05, 9.99986887e-01],\n",
              "       [2.98994273e-04, 9.99701023e-01],\n",
              "       [1.13777824e-04, 9.99886155e-01],\n",
              "       [7.92823229e-09, 1.00000000e+00],\n",
              "       [2.01114155e-02, 9.79888618e-01],\n",
              "       [4.19043063e-05, 9.99958038e-01],\n",
              "       [9.98761654e-01, 1.23841455e-03],\n",
              "       [1.59924127e-06, 9.99998450e-01],\n",
              "       [1.00000000e+00, 1.22758288e-16],\n",
              "       [1.00000000e+00, 6.34619024e-11],\n",
              "       [9.99980927e-01, 1.90594856e-05],\n",
              "       [1.00000000e+00, 2.30123663e-11],\n",
              "       [1.29473570e-04, 9.99870539e-01],\n",
              "       [1.29106786e-06, 9.99998689e-01],\n",
              "       [3.87237634e-07, 9.99999642e-01],\n",
              "       [9.99999404e-01, 6.23466860e-07],\n",
              "       [1.00000000e+00, 3.72124953e-09],\n",
              "       [4.98787090e-02, 9.50121343e-01],\n",
              "       [1.00000000e+00, 1.17377841e-09],\n",
              "       [1.00000000e+00, 5.10708009e-09],\n",
              "       [4.19293283e-05, 9.99958038e-01],\n",
              "       [1.55649036e-06, 9.99998450e-01],\n",
              "       [1.00000000e+00, 6.86736303e-16],\n",
              "       [1.83099229e-03, 9.98168945e-01],\n",
              "       [8.01797978e-06, 9.99992013e-01],\n",
              "       [3.99979879e-04, 9.99599993e-01],\n",
              "       [1.00000000e+00, 5.57050413e-11],\n",
              "       [1.00000000e+00, 1.90029641e-11],\n",
              "       [6.11418909e-06, 9.99993920e-01],\n",
              "       [1.00000000e+00, 1.29716693e-09],\n",
              "       [4.63942206e-06, 9.99995351e-01],\n",
              "       [1.00000000e+00, 2.96842620e-11],\n",
              "       [7.19285799e-06, 9.99992847e-01],\n",
              "       [2.76678525e-09, 1.00000000e+00],\n",
              "       [1.00000000e+00, 8.59359621e-13],\n",
              "       [6.49455217e-07, 9.99999404e-01],\n",
              "       [4.11930494e-04, 9.99588072e-01],\n",
              "       [2.68828416e-07, 9.99999762e-01],\n",
              "       [1.00000000e+00, 2.41057927e-16],\n",
              "       [3.94258812e-08, 1.00000000e+00],\n",
              "       [1.49414234e-07, 9.99999881e-01],\n",
              "       [9.99999523e-01, 4.48301762e-07],\n",
              "       [1.00000000e+00, 1.30299105e-10],\n",
              "       [1.00000000e+00, 5.21204642e-11],\n",
              "       [1.00000000e+00, 5.84097393e-09],\n",
              "       [2.50580433e-06, 9.99997497e-01],\n",
              "       [1.00000000e+00, 6.40102971e-11],\n",
              "       [4.94101641e-06, 9.99995112e-01],\n",
              "       [1.77256516e-04, 9.99822795e-01],\n",
              "       [1.33785922e-02, 9.86621380e-01],\n",
              "       [9.99990940e-01, 9.04921490e-06],\n",
              "       [1.17469099e-07, 9.99999881e-01],\n",
              "       [4.11714382e-06, 9.99995828e-01],\n",
              "       [1.00000000e+00, 3.59868767e-11],\n",
              "       [8.29017832e-09, 1.00000000e+00],\n",
              "       [2.05739775e-06, 9.99997973e-01],\n",
              "       [2.93454235e-07, 9.99999762e-01],\n",
              "       [1.48689549e-04, 9.99851346e-01],\n",
              "       [2.69730616e-09, 1.00000000e+00],\n",
              "       [1.00000000e+00, 8.92590613e-10],\n",
              "       [1.00000000e+00, 2.60865507e-09],\n",
              "       [5.72122154e-08, 1.00000000e+00],\n",
              "       [6.00568228e-06, 9.99994040e-01],\n",
              "       [9.99979973e-01, 2.00523464e-05],\n",
              "       [1.15579669e-05, 9.99988437e-01],\n",
              "       [1.00000000e+00, 2.49134871e-12],\n",
              "       [1.00000000e+00, 5.36488116e-08],\n",
              "       [8.38675192e-08, 9.99999881e-01],\n",
              "       [1.19846818e-05, 9.99987960e-01],\n",
              "       [9.97440219e-01, 2.55971495e-03],\n",
              "       [1.00000000e+00, 4.18088350e-12],\n",
              "       [1.00000000e+00, 7.73000303e-14],\n",
              "       [5.11877397e-06, 9.99994874e-01],\n",
              "       [8.99314117e-08, 9.99999881e-01],\n",
              "       [1.00000000e+00, 1.14508153e-10],\n",
              "       [6.65334883e-05, 9.99933481e-01],\n",
              "       [2.46181389e-05, 9.99975324e-01],\n",
              "       [1.00000000e+00, 2.35150166e-09],\n",
              "       [1.00000000e+00, 1.76991950e-08],\n",
              "       [9.96635258e-01, 3.36477486e-03],\n",
              "       [1.00000000e+00, 7.68253137e-13],\n",
              "       [1.00000000e+00, 3.31807399e-08],\n",
              "       [2.50365190e-07, 9.99999762e-01],\n",
              "       [2.42159440e-05, 9.99975801e-01],\n",
              "       [1.00000000e+00, 1.43715196e-11],\n",
              "       [7.33379522e-07, 9.99999285e-01],\n",
              "       [1.00000000e+00, 4.38307420e-12],\n",
              "       [1.14881423e-05, 9.99988556e-01],\n",
              "       [1.00000000e+00, 4.95061457e-12],\n",
              "       [1.00000000e+00, 3.49887372e-08],\n",
              "       [1.00000000e+00, 1.24945009e-12],\n",
              "       [3.11315307e-05, 9.99968886e-01],\n",
              "       [1.00000000e+00, 8.22048647e-13],\n",
              "       [4.99217913e-06, 9.99994993e-01],\n",
              "       [1.82751479e-04, 9.99817312e-01],\n",
              "       [9.83366775e-08, 9.99999881e-01],\n",
              "       [1.43031618e-02, 9.85696793e-01],\n",
              "       [1.49845553e-04, 9.99850154e-01],\n",
              "       [1.00000000e+00, 4.96988789e-15],\n",
              "       [1.00000000e+00, 5.68884566e-13],\n",
              "       [9.54470033e-06, 9.99990463e-01],\n",
              "       [3.16066970e-03, 9.96839285e-01],\n",
              "       [6.22384869e-06, 9.99993801e-01],\n",
              "       [1.00000000e+00, 8.37827496e-09],\n",
              "       [1.00000000e+00, 2.51607606e-08],\n",
              "       [9.99982476e-01, 1.75177884e-05],\n",
              "       [1.00000000e+00, 3.64767461e-12],\n",
              "       [1.00000000e+00, 1.38991726e-12],\n",
              "       [1.00000000e+00, 7.02376796e-13],\n",
              "       [2.71041222e-06, 9.99997258e-01],\n",
              "       [2.04731782e-06, 9.99997973e-01],\n",
              "       [6.89894364e-07, 9.99999285e-01],\n",
              "       [9.99998212e-01, 1.74994534e-06],\n",
              "       [8.71423345e-06, 9.99991298e-01],\n",
              "       [9.98283744e-01, 1.71633367e-03],\n",
              "       [1.00000000e+00, 2.39714203e-11],\n",
              "       [8.04662645e-01, 1.95337370e-01],\n",
              "       [9.78961452e-06, 9.99990225e-01],\n",
              "       [1.00000000e+00, 4.82622664e-10],\n",
              "       [1.00000000e+00, 4.23453983e-09],\n",
              "       [1.00000000e+00, 3.69801303e-13],\n",
              "       [1.00000000e+00, 5.01859145e-12],\n",
              "       [1.00000000e+00, 2.34168618e-09],\n",
              "       [9.99999881e-01, 1.26970548e-07],\n",
              "       [3.45753762e-07, 9.99999642e-01],\n",
              "       [1.00000000e+00, 4.50544158e-10],\n",
              "       [1.00000000e+00, 5.10788978e-16],\n",
              "       [4.25345343e-06, 9.99995708e-01],\n",
              "       [1.00000000e+00, 1.15704605e-15],\n",
              "       [2.44206399e-06, 9.99997616e-01],\n",
              "       [9.99863625e-01, 1.36398870e-04],\n",
              "       [6.59871375e-07, 9.99999285e-01],\n",
              "       [5.18990305e-07, 9.99999523e-01],\n",
              "       [8.00353234e-07, 9.99999166e-01],\n",
              "       [1.00000000e+00, 1.01561025e-11],\n",
              "       [1.00000000e+00, 1.83933259e-13],\n",
              "       [3.60381023e-08, 1.00000000e+00],\n",
              "       [1.00000000e+00, 1.66778226e-13],\n",
              "       [1.00000000e+00, 1.79954718e-09],\n",
              "       [2.24199781e-07, 9.99999762e-01],\n",
              "       [1.30823185e-03, 9.98691738e-01],\n",
              "       [9.99999881e-01, 1.55946054e-07],\n",
              "       [3.68359139e-07, 9.99999642e-01],\n",
              "       [1.00000000e+00, 4.74897455e-10],\n",
              "       [1.19729020e-06, 9.99998808e-01],\n",
              "       [9.99999881e-01, 1.07919348e-07],\n",
              "       [1.00000000e+00, 1.72740443e-14],\n",
              "       [7.77506500e-07, 9.99999166e-01],\n",
              "       [1.00000000e+00, 5.45184388e-14],\n",
              "       [5.01194409e-05, 9.99949932e-01],\n",
              "       [2.11096108e-06, 9.99997854e-01],\n",
              "       [1.56504866e-05, 9.99984384e-01],\n",
              "       [1.00000000e+00, 2.52311894e-10],\n",
              "       [5.40534941e-08, 1.00000000e+00],\n",
              "       [3.61976532e-07, 9.99999642e-01],\n",
              "       [1.05033005e-08, 1.00000000e+00],\n",
              "       [1.00000000e+00, 1.40838277e-14],\n",
              "       [1.00000000e+00, 2.72953779e-13],\n",
              "       [2.35331536e-05, 9.99976516e-01],\n",
              "       [1.95776465e-05, 9.99980450e-01],\n",
              "       [1.00000000e+00, 2.12647417e-11],\n",
              "       [9.95706344e-08, 9.99999881e-01],\n",
              "       [1.00000000e+00, 4.66265204e-09],\n",
              "       [3.72628023e-07, 9.99999642e-01],\n",
              "       [5.92385931e-03, 9.94076133e-01],\n",
              "       [1.22020865e-05, 9.99987841e-01],\n",
              "       [3.83214501e-06, 9.99996185e-01],\n",
              "       [3.19583633e-05, 9.99968052e-01],\n",
              "       [9.26512129e-08, 9.99999881e-01],\n",
              "       [1.00000000e+00, 8.25715974e-14],\n",
              "       [1.94145523e-05, 9.99980569e-01],\n",
              "       [1.00000000e+00, 2.18910892e-12],\n",
              "       [2.36470807e-08, 1.00000000e+00],\n",
              "       [1.00000000e+00, 3.07389725e-18],\n",
              "       [5.07749338e-03, 9.94922578e-01],\n",
              "       [1.00000000e+00, 1.07047216e-08],\n",
              "       [3.73834009e-05, 9.99962568e-01],\n",
              "       [1.00000000e+00, 1.20261457e-11],\n",
              "       [1.31297828e-09, 1.00000000e+00],\n",
              "       [5.98029792e-02, 9.40197051e-01],\n",
              "       [9.99999762e-01, 2.44435142e-07],\n",
              "       [1.00000000e+00, 1.04169061e-13],\n",
              "       [1.00000000e+00, 2.74387804e-12],\n",
              "       [1.00000000e+00, 1.48731624e-10],\n",
              "       [9.99982476e-01, 1.75363912e-05],\n",
              "       [7.90615650e-06, 9.99992132e-01]], dtype=float32)"
            ]
          },
          "metadata": {},
          "execution_count": 71
        }
      ]
    },
    {
      "cell_type": "code",
      "source": [
        "import numpy as np"
      ],
      "metadata": {
        "id": "PiYIP6F5pWEN"
      },
      "execution_count": null,
      "outputs": []
    },
    {
      "cell_type": "code",
      "source": [
        "y_pred.shape"
      ],
      "metadata": {
        "colab": {
          "base_uri": "https://localhost:8080/"
        },
        "id": "qz9rGtOjpdgd",
        "outputId": "7e4c6d01-afea-4fd8-dae4-46825bb8d8c7"
      },
      "execution_count": null,
      "outputs": [
        {
          "output_type": "execute_result",
          "data": {
            "text/plain": [
              "(500, 2)"
            ]
          },
          "metadata": {},
          "execution_count": 79
        }
      ]
    },
    {
      "cell_type": "code",
      "source": [
        "np.argmax(y_pred,axis=1)"
      ],
      "metadata": {
        "colab": {
          "base_uri": "https://localhost:8080/"
        },
        "id": "rIhc-4MFpY3_",
        "outputId": "9b48f190-90bf-4f62-ee2d-3ebb304c4359"
      },
      "execution_count": null,
      "outputs": [
        {
          "output_type": "execute_result",
          "data": {
            "text/plain": [
              "array([0, 1, 1, 0, 0, 1, 1, 1, 1, 0, 0, 0, 1, 0, 1, 1, 0, 0, 1, 0, 0, 0,\n",
              "       0, 1, 1, 0, 1, 1, 1, 1, 0, 1, 1, 0, 0, 0, 1, 0, 0, 1, 0, 0, 1, 1,\n",
              "       0, 1, 0, 0, 1, 1, 0, 0, 1, 0, 0, 0, 0, 0, 0, 0, 1, 1, 1, 0, 0, 0,\n",
              "       1, 0, 0, 0, 0, 1, 1, 0, 1, 1, 0, 1, 1, 1, 0, 1, 1, 1, 1, 1, 0, 0,\n",
              "       1, 1, 0, 0, 1, 0, 1, 1, 1, 1, 1, 0, 0, 0, 1, 0, 0, 0, 0, 0, 0, 1,\n",
              "       1, 1, 0, 0, 1, 0, 0, 1, 0, 0, 0, 1, 0, 0, 0, 0, 0, 1, 0, 0, 0, 1,\n",
              "       0, 1, 0, 1, 0, 0, 0, 1, 0, 1, 1, 1, 1, 0, 1, 1, 0, 0, 0, 1, 1, 1,\n",
              "       1, 1, 1, 0, 1, 0, 0, 0, 1, 1, 1, 0, 1, 0, 0, 0, 1, 0, 1, 0, 1, 1,\n",
              "       1, 1, 0, 1, 0, 1, 0, 0, 1, 0, 1, 0, 1, 1, 0, 1, 0, 1, 1, 0, 1, 1,\n",
              "       1, 0, 1, 0, 0, 0, 1, 0, 1, 1, 1, 0, 1, 1, 1, 0, 1, 0, 1, 0, 1, 0,\n",
              "       0, 1, 0, 1, 0, 1, 0, 0, 0, 0, 0, 0, 0, 0, 1, 0, 1, 0, 0, 1, 0, 0,\n",
              "       0, 1, 0, 0, 1, 0, 1, 1, 0, 1, 1, 0, 1, 0, 1, 0, 1, 0, 0, 1, 0, 1,\n",
              "       0, 1, 0, 1, 0, 1, 1, 0, 0, 0, 0, 1, 1, 1, 0, 1, 1, 1, 1, 1, 0, 1,\n",
              "       0, 0, 1, 1, 1, 1, 0, 0, 0, 0, 1, 0, 1, 0, 0, 0, 1, 1, 0, 0, 1, 0,\n",
              "       1, 0, 0, 1, 0, 0, 1, 1, 1, 1, 1, 1, 0, 1, 0, 0, 0, 0, 1, 1, 1, 0,\n",
              "       0, 1, 0, 0, 1, 1, 0, 1, 1, 1, 0, 0, 1, 0, 1, 0, 1, 1, 0, 1, 1, 1,\n",
              "       0, 1, 1, 0, 0, 0, 0, 1, 0, 1, 1, 1, 0, 1, 1, 0, 1, 1, 1, 1, 1, 0,\n",
              "       0, 1, 1, 0, 1, 0, 0, 1, 1, 0, 0, 0, 1, 1, 0, 1, 1, 0, 0, 0, 0, 0,\n",
              "       1, 1, 0, 1, 0, 1, 0, 0, 0, 1, 0, 1, 1, 1, 1, 1, 0, 0, 1, 1, 1, 0,\n",
              "       0, 0, 0, 0, 0, 1, 1, 1, 0, 1, 0, 0, 0, 1, 0, 0, 0, 0, 0, 0, 1, 0,\n",
              "       0, 1, 0, 1, 0, 1, 1, 1, 0, 0, 1, 0, 0, 1, 1, 0, 1, 0, 1, 0, 0, 1,\n",
              "       0, 1, 1, 1, 0, 1, 1, 1, 0, 0, 1, 1, 0, 1, 0, 1, 1, 1, 1, 1, 1, 0,\n",
              "       1, 0, 1, 0, 1, 0, 1, 0, 1, 1, 0, 0, 0, 0, 0, 1])"
            ]
          },
          "metadata": {},
          "execution_count": 80
        }
      ]
    },
    {
      "cell_type": "code",
      "source": [
        "from keras.models import load_model"
      ],
      "metadata": {
        "id": "08py4-MCpbz6"
      },
      "execution_count": null,
      "outputs": []
    },
    {
      "cell_type": "code",
      "source": [
        "my_model=load_model('vgg16_prediction_model.h5')"
      ],
      "metadata": {
        "id": "aRoihUVLqKwJ"
      },
      "execution_count": null,
      "outputs": []
    },
    {
      "cell_type": "code",
      "source": [
        "from keras.preprocessing.image import load_img"
      ],
      "metadata": {
        "id": "jMK8XAupqNem"
      },
      "execution_count": null,
      "outputs": []
    },
    {
      "cell_type": "code",
      "source": [
        "img=image.load_img('/content/drive/MyDrive/project/car_bike/train/Bike/Bike (1).jpeg',target_size=(224,224))"
      ],
      "metadata": {
        "id": "9jXcOHK4qP2q"
      },
      "execution_count": null,
      "outputs": []
    },
    {
      "cell_type": "code",
      "source": [
        "x=image.img_to_array(img)"
      ],
      "metadata": {
        "id": "F3oVzIlw1YNs"
      },
      "execution_count": null,
      "outputs": []
    },
    {
      "cell_type": "code",
      "source": [
        "plt.imshow(x)"
      ],
      "metadata": {
        "colab": {
          "base_uri": "https://localhost:8080/",
          "height": 469
        },
        "id": "O6H2KGZ11pwx",
        "outputId": "3527c8a7-dbd5-433a-ff5a-230c010e8485"
      },
      "execution_count": null,
      "outputs": [
        {
          "output_type": "stream",
          "name": "stderr",
          "text": [
            "WARNING:matplotlib.image:Clipping input data to the valid range for imshow with RGB data ([0..1] for floats or [0..255] for integers).\n"
          ]
        },
        {
          "output_type": "execute_result",
          "data": {
            "text/plain": [
              "<matplotlib.image.AxesImage at 0x7c92782ae6e0>"
            ]
          },
          "metadata": {},
          "execution_count": 100
        },
        {
          "output_type": "display_data",
          "data": {
            "text/plain": [
              "<Figure size 640x480 with 1 Axes>"
            ],
            "image/png": "[encoded data removed]"
          },
          "metadata": {}
        }
      ]
    },
    {
      "cell_type": "code",
      "source": [
        "x.shape"
      ],
      "metadata": {
        "colab": {
          "base_uri": "https://localhost:8080/"
        },
        "id": "MXlLk9931sJ3",
        "outputId": "e4405b3b-d317-458e-c878-4ae148ee8d25"
      },
      "execution_count": null,
      "outputs": [
        {
          "output_type": "execute_result",
          "data": {
            "text/plain": [
              "(224, 224, 3)"
            ]
          },
          "metadata": {},
          "execution_count": 101
        }
      ]
    },
    {
      "cell_type": "code",
      "source": [
        "x=x/255."
      ],
      "metadata": {
        "id": "xDF8H_q72onc"
      },
      "execution_count": null,
      "outputs": []
    },
    {
      "cell_type": "code",
      "source": [
        "plt.imshow(x)"
      ],
      "metadata": {
        "colab": {
          "base_uri": "https://localhost:8080/",
          "height": 451
        },
        "id": "DrNC42GH2qTx",
        "outputId": "59285967-57c2-429b-e0de-ef32715376f6"
      },
      "execution_count": null,
      "outputs": [
        {
          "output_type": "execute_result",
          "data": {
            "text/plain": [
              "<matplotlib.image.AxesImage at 0x7c9279852530>"
            ]
          },
          "metadata": {},
          "execution_count": 103
        },
        {
          "output_type": "display_data",
          "data": {
            "text/plain": [
              "<Figure size 640x480 with 1 Axes>"
            ],
            "image/png": "[encoded data removed]"
          },
          "metadata": {}
        }
      ]
    },
    {
      "cell_type": "code",
      "source": [
        "from keras.applications.vgg16 import preprocess_input"
      ],
      "metadata": {
        "id": "zsk4SS9j21cL"
      },
      "execution_count": null,
      "outputs": []
    },
    {
      "cell_type": "code",
      "source": [
        "x=np.expand_dims(x,axis=0)\n",
        "img_data=preprocess_input(x)\n",
        "img_data.shape"
      ],
      "metadata": {
        "colab": {
          "base_uri": "https://localhost:8080/"
        },
        "id": "LxpmtyBw27WP",
        "outputId": "7a730da5-cced-401b-9796-6ccab2dce570"
      },
      "execution_count": null,
      "outputs": [
        {
          "output_type": "execute_result",
          "data": {
            "text/plain": [
              "(1, 224, 224, 3)"
            ]
          },
          "metadata": {},
          "execution_count": 105
        }
      ]
    },
    {
      "cell_type": "code",
      "source": [
        "my_model.predict(img_data)"
      ],
      "metadata": {
        "colab": {
          "base_uri": "https://localhost:8080/"
        },
        "id": "PT-LOceA3AWK",
        "outputId": "93482b26-3f7e-4cc1-ef4a-97d65732e261"
      },
      "execution_count": null,
      "outputs": [
        {
          "output_type": "stream",
          "name": "stdout",
          "text": [
            "1/1 [==============================] - 1s 921ms/step\n"
          ]
        },
        {
          "output_type": "execute_result",
          "data": {
            "text/plain": [
              "array([[0.00275479, 0.9972452 ]], dtype=float32)"
            ]
          },
          "metadata": {},
          "execution_count": 106
        }
      ]
    },
    {
      "cell_type": "code",
      "source": [
        "np.argmax(my_model.predict(img_data),axis=1)"
      ],
      "metadata": {
        "colab": {
          "base_uri": "https://localhost:8080/"
        },
        "id": "5-dHPCAw3Il8",
        "outputId": "59165fa6-508f-436f-d9c6-232ed5e41e5b"
      },
      "execution_count": null,
      "outputs": [
        {
          "output_type": "stream",
          "name": "stdout",
          "text": [
            "1/1 [==============================] - 0s 29ms/step\n"
          ]
        },
        {
          "output_type": "execute_result",
          "data": {
            "text/plain": [
              "array([1])"
            ]
          },
          "metadata": {},
          "execution_count": 109
        }
      ]
    },
    {
      "cell_type": "code",
      "source": [
        "## it means if prediction is 1 then it is bike otherwise car"
      ],
      "metadata": {
        "id": "fMyFhESL3PQb"
      },
      "execution_count": null,
      "outputs": []
    },
    {
      "cell_type": "code",
      "source": [],
      "metadata": {
        "id": "MFrLEWFM3fYe"
      },
      "execution_count": null,
      "outputs": []
    }
  ]
}