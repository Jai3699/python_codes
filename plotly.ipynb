{
 "cells": [
  {
   "cell_type": "code",
   "execution_count": 1,
   "id": "b2676124-6d00-4a4b-be66-0f3c58206a11",
   "metadata": {},
   "outputs": [],
   "source": [
    "import plotly.graph_objects as go"
   ]
  },
  {
   "cell_type": "code",
   "execution_count": 52,
   "id": "a17c03ee-2571-44ef-85ea-d72a18d3db5e",
   "metadata": {},
   "outputs": [
    {
     "data": {
      "application/vnd.plotly.v1+json": {
       "config": {
        "plotlyServerURL": "https://plot.ly"
       },
       "data": [
        {
         "type": "scatter",
         "x": [
          1,
          2,
          3,
          4,
          5
         ],
         "y": [
          3,
          4,
          5,
          6,
          7
         ]
        }
       ],
       "layout": {
        "autosize": true,
        "template": {
         "data": {
          "bar": [
           {
            "error_x": {
             "color": "#2a3f5f"
            },
            "error_y": {
             "color": "#2a3f5f"
            },
            "marker": {
             "line": {
              "color": "#E5ECF6",
              "width": 0.5
             },
             "pattern": {
              "fillmode": "overlay",
              "size": 10,
              "solidity": 0.2
             }
            },
            "type": "bar"
           }
          ],
          "barpolar": [
           {
            "marker": {
             "line": {
              "color": "#E5ECF6",
              "width": 0.5
             },
             "pattern": {
              "fillmode": "overlay",
              "size": 10,
              "solidity": 0.2
             }
            },
            "type": "barpolar"
           }
          ],
          "carpet": [
           {
            "aaxis": {
             "endlinecolor": "#2a3f5f",
             "gridcolor": "white",
             "linecolor": "white",
             "minorgridcolor": "white",
             "startlinecolor": "#2a3f5f"
            },
            "baxis": {
             "endlinecolor": "#2a3f5f",
             "gridcolor": "white",
             "linecolor": "white",
             "minorgridcolor": "white",
             "startlinecolor": "#2a3f5f"
            },
            "type": "carpet"
           }
          ],
          "choropleth": [
           {
            "colorbar": {
             "outlinewidth": 0,
             "ticks": ""
            },
            "type": "choropleth"
           }
          ],
          "contour": [
           {
            "colorbar": {
             "outlinewidth": 0,
             "ticks": ""
            },
            "colorscale": [
             [
              0,
              "#0d0887"
             ],
             [
              0.1111111111111111,
              "#46039f"
             ],
             [
              0.2222222222222222,
              "#7201a8"
             ],
             [
              0.3333333333333333,
              "#9c179e"
             ],
             [
              0.4444444444444444,
              "#bd3786"
             ],
             [
              0.5555555555555556,
              "#d8576b"
             ],
             [
              0.6666666666666666,
              "#ed7953"
             ],
             [
              0.7777777777777778,
              "#fb9f3a"
             ],
             [
              0.8888888888888888,
              "#fdca26"
             ],
             [
              1,
              "#f0f921"
             ]
            ],
            "type": "contour"
           }
          ],
          "contourcarpet": [
           {
            "colorbar": {
             "outlinewidth": 0,
             "ticks": ""
            },
            "type": "contourcarpet"
           }
          ],
          "heatmap": [
           {
            "colorbar": {
             "outlinewidth": 0,
             "ticks": ""
            },
            "colorscale": [
             [
              0,
              "#0d0887"
             ],
             [
              0.1111111111111111,
              "#46039f"
             ],
             [
              0.2222222222222222,
              "#7201a8"
             ],
             [
              0.3333333333333333,
              "#9c179e"
             ],
             [
              0.4444444444444444,
              "#bd3786"
             ],
             [
              0.5555555555555556,
              "#d8576b"
             ],
             [
              0.6666666666666666,
              "#ed7953"
             ],
             [
              0.7777777777777778,
              "#fb9f3a"
             ],
             [
              0.8888888888888888,
              "#fdca26"
             ],
             [
              1,
              "#f0f921"
             ]
            ],
            "type": "heatmap"
           }
          ],
          "heatmapgl": [
           {
            "colorbar": {
             "outlinewidth": 0,
             "ticks": ""
            },
            "colorscale": [
             [
              0,
              "#0d0887"
             ],
             [
              0.1111111111111111,
              "#46039f"
             ],
             [
              0.2222222222222222,
              "#7201a8"
             ],
             [
              0.3333333333333333,
              "#9c179e"
             ],
             [
              0.4444444444444444,
              "#bd3786"
             ],
             [
              0.5555555555555556,
              "#d8576b"
             ],
             [
              0.6666666666666666,
              "#ed7953"
             ],
             [
              0.7777777777777778,
              "#fb9f3a"
             ],
             [
              0.8888888888888888,
              "#fdca26"
             ],
             [
              1,
              "#f0f921"
             ]
            ],
            "type": "heatmapgl"
           }
          ],
          "histogram": [
           {
            "marker": {
             "pattern": {
              "fillmode": "overlay",
              "size": 10,
              "solidity": 0.2
             }
            },
            "type": "histogram"
           }
          ],
          "histogram2d": [
           {
            "colorbar": {
             "outlinewidth": 0,
             "ticks": ""
            },
            "colorscale": [
             [
              0,
              "#0d0887"
             ],
             [
              0.1111111111111111,
              "#46039f"
             ],
             [
              0.2222222222222222,
              "#7201a8"
             ],
             [
              0.3333333333333333,
              "#9c179e"
             ],
             [
              0.4444444444444444,
              "#bd3786"
             ],
             [
              0.5555555555555556,
              "#d8576b"
             ],
             [
              0.6666666666666666,
              "#ed7953"
             ],
             [
              0.7777777777777778,
              "#fb9f3a"
             ],
             [
              0.8888888888888888,
              "#fdca26"
             ],
             [
              1,
              "#f0f921"
             ]
            ],
            "type": "histogram2d"
           }
          ],
          "histogram2dcontour": [
           {
            "colorbar": {
             "outlinewidth": 0,
             "ticks": ""
            },
            "colorscale": [
             [
              0,
              "#0d0887"
             ],
             [
              0.1111111111111111,
              "#46039f"
             ],
             [
              0.2222222222222222,
              "#7201a8"
             ],
             [
              0.3333333333333333,
              "#9c179e"
             ],
             [
              0.4444444444444444,
              "#bd3786"
             ],
             [
              0.5555555555555556,
              "#d8576b"
             ],
             [
              0.6666666666666666,
              "#ed7953"
             ],
             [
              0.7777777777777778,
              "#fb9f3a"
             ],
             [
              0.8888888888888888,
              "#fdca26"
             ],
             [
              1,
              "#f0f921"
             ]
            ],
            "type": "histogram2dcontour"
           }
          ],
          "mesh3d": [
           {
            "colorbar": {
             "outlinewidth": 0,
             "ticks": ""
            },
            "type": "mesh3d"
           }
          ],
          "parcoords": [
           {
            "line": {
             "colorbar": {
              "outlinewidth": 0,
              "ticks": ""
             }
            },
            "type": "parcoords"
           }
          ],
          "pie": [
           {
            "automargin": true,
            "type": "pie"
           }
          ],
          "scatter": [
           {
            "fillpattern": {
             "fillmode": "overlay",
             "size": 10,
             "solidity": 0.2
            },
            "type": "scatter"
           }
          ],
          "scatter3d": [
           {
            "line": {
             "colorbar": {
              "outlinewidth": 0,
              "ticks": ""
             }
            },
            "marker": {
             "colorbar": {
              "outlinewidth": 0,
              "ticks": ""
             }
            },
            "type": "scatter3d"
           }
          ],
          "scattercarpet": [
           {
            "marker": {
             "colorbar": {
              "outlinewidth": 0,
              "ticks": ""
             }
            },
            "type": "scattercarpet"
           }
          ],
          "scattergeo": [
           {
            "marker": {
             "colorbar": {
              "outlinewidth": 0,
              "ticks": ""
             }
            },
            "type": "scattergeo"
           }
          ],
          "scattergl": [
           {
            "marker": {
             "colorbar": {
              "outlinewidth": 0,
              "ticks": ""
             }
            },
            "type": "scattergl"
           }
          ],
          "scattermapbox": [
           {
            "marker": {
             "colorbar": {
              "outlinewidth": 0,
              "ticks": ""
             }
            },
            "type": "scattermapbox"
           }
          ],
          "scatterpolar": [
           {
            "marker": {
             "colorbar": {
              "outlinewidth": 0,
              "ticks": ""
             }
            },
            "type": "scatterpolar"
           }
          ],
          "scatterpolargl": [
           {
            "marker": {
             "colorbar": {
              "outlinewidth": 0,
              "ticks": ""
             }
            },
            "type": "scatterpolargl"
           }
          ],
          "scatterternary": [
           {
            "marker": {
             "colorbar": {
              "outlinewidth": 0,
              "ticks": ""
             }
            },
            "type": "scatterternary"
           }
          ],
          "surface": [
           {
            "colorbar": {
             "outlinewidth": 0,
             "ticks": ""
            },
            "colorscale": [
             [
              0,
              "#0d0887"
             ],
             [
              0.1111111111111111,
              "#46039f"
             ],
             [
              0.2222222222222222,
              "#7201a8"
             ],
             [
              0.3333333333333333,
              "#9c179e"
             ],
             [
              0.4444444444444444,
              "#bd3786"
             ],
             [
              0.5555555555555556,
              "#d8576b"
             ],
             [
              0.6666666666666666,
              "#ed7953"
             ],
             [
              0.7777777777777778,
              "#fb9f3a"
             ],
             [
              0.8888888888888888,
              "#fdca26"
             ],
             [
              1,
              "#f0f921"
             ]
            ],
            "type": "surface"
           }
          ],
          "table": [
           {
            "cells": {
             "fill": {
              "color": "#EBF0F8"
             },
             "line": {
              "color": "white"
             }
            },
            "header": {
             "fill": {
              "color": "#C8D4E3"
             },
             "line": {
              "color": "white"
             }
            },
            "type": "table"
           }
          ]
         },
         "layout": {
          "annotationdefaults": {
           "arrowcolor": "#2a3f5f",
           "arrowhead": 0,
           "arrowwidth": 1
          },
          "autotypenumbers": "strict",
          "coloraxis": {
           "colorbar": {
            "outlinewidth": 0,
            "ticks": ""
           }
          },
          "colorscale": {
           "diverging": [
            [
             0,
             "#8e0152"
            ],
            [
             0.1,
             "#c51b7d"
            ],
            [
             0.2,
             "#de77ae"
            ],
            [
             0.3,
             "#f1b6da"
            ],
            [
             0.4,
             "#fde0ef"
            ],
            [
             0.5,
             "#f7f7f7"
            ],
            [
             0.6,
             "#e6f5d0"
            ],
            [
             0.7,
             "#b8e186"
            ],
            [
             0.8,
             "#7fbc41"
            ],
            [
             0.9,
             "#4d9221"
            ],
            [
             1,
             "#276419"
            ]
           ],
           "sequential": [
            [
             0,
             "#0d0887"
            ],
            [
             0.1111111111111111,
             "#46039f"
            ],
            [
             0.2222222222222222,
             "#7201a8"
            ],
            [
             0.3333333333333333,
             "#9c179e"
            ],
            [
             0.4444444444444444,
             "#bd3786"
            ],
            [
             0.5555555555555556,
             "#d8576b"
            ],
            [
             0.6666666666666666,
             "#ed7953"
            ],
            [
             0.7777777777777778,
             "#fb9f3a"
            ],
            [
             0.8888888888888888,
             "#fdca26"
            ],
            [
             1,
             "#f0f921"
            ]
           ],
           "sequentialminus": [
            [
             0,
             "#0d0887"
            ],
            [
             0.1111111111111111,
             "#46039f"
            ],
            [
             0.2222222222222222,
             "#7201a8"
            ],
            [
             0.3333333333333333,
             "#9c179e"
            ],
            [
             0.4444444444444444,
             "#bd3786"
            ],
            [
             0.5555555555555556,
             "#d8576b"
            ],
            [
             0.6666666666666666,
             "#ed7953"
            ],
            [
             0.7777777777777778,
             "#fb9f3a"
            ],
            [
             0.8888888888888888,
             "#fdca26"
            ],
            [
             1,
             "#f0f921"
            ]
           ]
          },
          "colorway": [
           "#636efa",
           "#EF553B",
           "#00cc96",
           "#ab63fa",
           "#FFA15A",
           "#19d3f3",
           "#FF6692",
           "#B6E880",
           "#FF97FF",
           "#FECB52"
          ],
          "font": {
           "color": "#2a3f5f"
          },
          "geo": {
           "bgcolor": "white",
           "lakecolor": "white",
           "landcolor": "#E5ECF6",
           "showlakes": true,
           "showland": true,
           "subunitcolor": "white"
          },
          "hoverlabel": {
           "align": "left"
          },
          "hovermode": "closest",
          "mapbox": {
           "style": "light"
          },
          "paper_bgcolor": "white",
          "plot_bgcolor": "#E5ECF6",
          "polar": {
           "angularaxis": {
            "gridcolor": "white",
            "linecolor": "white",
            "ticks": ""
           },
           "bgcolor": "#E5ECF6",
           "radialaxis": {
            "gridcolor": "white",
            "linecolor": "white",
            "ticks": ""
           }
          },
          "scene": {
           "xaxis": {
            "backgroundcolor": "#E5ECF6",
            "gridcolor": "white",
            "gridwidth": 2,
            "linecolor": "white",
            "showbackground": true,
            "ticks": "",
            "zerolinecolor": "white"
           },
           "yaxis": {
            "backgroundcolor": "#E5ECF6",
            "gridcolor": "white",
            "gridwidth": 2,
            "linecolor": "white",
            "showbackground": true,
            "ticks": "",
            "zerolinecolor": "white"
           },
           "zaxis": {
            "backgroundcolor": "#E5ECF6",
            "gridcolor": "white",
            "gridwidth": 2,
            "linecolor": "white",
            "showbackground": true,
            "ticks": "",
            "zerolinecolor": "white"
           }
          },
          "shapedefaults": {
           "line": {
            "color": "#2a3f5f"
           }
          },
          "ternary": {
           "aaxis": {
            "gridcolor": "white",
            "linecolor": "white",
            "ticks": ""
           },
           "baxis": {
            "gridcolor": "white",
            "linecolor": "white",
            "ticks": ""
           },
           "bgcolor": "#E5ECF6",
           "caxis": {
            "gridcolor": "white",
            "linecolor": "white",
            "ticks": ""
           }
          },
          "title": {
           "x": 0.05
          },
          "xaxis": {
           "automargin": true,
           "gridcolor": "white",
           "linecolor": "white",
           "ticks": "",
           "title": {
            "standoff": 15
           },
           "zerolinecolor": "white",
           "zerolinewidth": 2
          },
          "yaxis": {
           "automargin": true,
           "gridcolor": "white",
           "linecolor": "white",
           "ticks": "",
           "title": {
            "standoff": 15
           },
           "zerolinecolor": "white",
           "zerolinewidth": 2
          }
         }
        },
        "xaxis": {
         "autorange": true,
         "range": [
          0.7477477477477478,
          5.252252252252252
         ],
         "type": "linear"
        },
        "yaxis": {
         "autorange": true,
         "range": [
          2.6699029126213594,
          7.330097087378641
         ],
         "type": "linear"
        }
       }
      },
      "image/png": "[encoded data removed]",
      "text/html": [
       "<div>                            <div id=\"129ad15c-14fc-46d7-90c3-532805b0bb8a\" class=\"plotly-graph-div\" style=\"height:525px; width:100%;\"></div>            <script type=\"text/javascript\">                require([\"plotly\"], function(Plotly) {                    window.PLOTLYENV=window.PLOTLYENV || {};                                    if (document.getElementById(\"129ad15c-14fc-46d7-90c3-532805b0bb8a\")) {                    Plotly.newPlot(                        \"129ad15c-14fc-46d7-90c3-532805b0bb8a\",                        [{\"x\":[1,2,3,4,5],\"y\":[3,4,5,6,7],\"type\":\"scatter\"}],                        {\"template\":{\"data\":{\"histogram2dcontour\":[{\"type\":\"histogram2dcontour\",\"colorbar\":{\"outlinewidth\":0,\"ticks\":\"\"},\"colorscale\":[[0.0,\"#0d0887\"],[0.1111111111111111,\"#46039f\"],[0.2222222222222222,\"#7201a8\"],[0.3333333333333333,\"#9c179e\"],[0.4444444444444444,\"#bd3786\"],[0.5555555555555556,\"#d8576b\"],[0.6666666666666666,\"#ed7953\"],[0.7777777777777778,\"#fb9f3a\"],[0.8888888888888888,\"#fdca26\"],[1.0,\"#f0f921\"]]}],\"choropleth\":[{\"type\":\"choropleth\",\"colorbar\":{\"outlinewidth\":0,\"ticks\":\"\"}}],\"histogram2d\":[{\"type\":\"histogram2d\",\"colorbar\":{\"outlinewidth\":0,\"ticks\":\"\"},\"colorscale\":[[0.0,\"#0d0887\"],[0.1111111111111111,\"#46039f\"],[0.2222222222222222,\"#7201a8\"],[0.3333333333333333,\"#9c179e\"],[0.4444444444444444,\"#bd3786\"],[0.5555555555555556,\"#d8576b\"],[0.6666666666666666,\"#ed7953\"],[0.7777777777777778,\"#fb9f3a\"],[0.8888888888888888,\"#fdca26\"],[1.0,\"#f0f921\"]]}],\"heatmap\":[{\"type\":\"heatmap\",\"colorbar\":{\"outlinewidth\":0,\"ticks\":\"\"},\"colorscale\":[[0.0,\"#0d0887\"],[0.1111111111111111,\"#46039f\"],[0.2222222222222222,\"#7201a8\"],[0.3333333333333333,\"#9c179e\"],[0.4444444444444444,\"#bd3786\"],[0.5555555555555556,\"#d8576b\"],[0.6666666666666666,\"#ed7953\"],[0.7777777777777778,\"#fb9f3a\"],[0.8888888888888888,\"#fdca26\"],[1.0,\"#f0f921\"]]}],\"heatmapgl\":[{\"type\":\"heatmapgl\",\"colorbar\":{\"outlinewidth\":0,\"ticks\":\"\"},\"colorscale\":[[0.0,\"#0d0887\"],[0.1111111111111111,\"#46039f\"],[0.2222222222222222,\"#7201a8\"],[0.3333333333333333,\"#9c179e\"],[0.4444444444444444,\"#bd3786\"],[0.5555555555555556,\"#d8576b\"],[0.6666666666666666,\"#ed7953\"],[0.7777777777777778,\"#fb9f3a\"],[0.8888888888888888,\"#fdca26\"],[1.0,\"#f0f921\"]]}],\"contourcarpet\":[{\"type\":\"contourcarpet\",\"colorbar\":{\"outlinewidth\":0,\"ticks\":\"\"}}],\"contour\":[{\"type\":\"contour\",\"colorbar\":{\"outlinewidth\":0,\"ticks\":\"\"},\"colorscale\":[[0.0,\"#0d0887\"],[0.1111111111111111,\"#46039f\"],[0.2222222222222222,\"#7201a8\"],[0.3333333333333333,\"#9c179e\"],[0.4444444444444444,\"#bd3786\"],[0.5555555555555556,\"#d8576b\"],[0.6666666666666666,\"#ed7953\"],[0.7777777777777778,\"#fb9f3a\"],[0.8888888888888888,\"#fdca26\"],[1.0,\"#f0f921\"]]}],\"surface\":[{\"type\":\"surface\",\"colorbar\":{\"outlinewidth\":0,\"ticks\":\"\"},\"colorscale\":[[0.0,\"#0d0887\"],[0.1111111111111111,\"#46039f\"],[0.2222222222222222,\"#7201a8\"],[0.3333333333333333,\"#9c179e\"],[0.4444444444444444,\"#bd3786\"],[0.5555555555555556,\"#d8576b\"],[0.6666666666666666,\"#ed7953\"],[0.7777777777777778,\"#fb9f3a\"],[0.8888888888888888,\"#fdca26\"],[1.0,\"#f0f921\"]]}],\"mesh3d\":[{\"type\":\"mesh3d\",\"colorbar\":{\"outlinewidth\":0,\"ticks\":\"\"}}],\"scatter\":[{\"fillpattern\":{\"fillmode\":\"overlay\",\"size\":10,\"solidity\":0.2},\"type\":\"scatter\"}],\"parcoords\":[{\"type\":\"parcoords\",\"line\":{\"colorbar\":{\"outlinewidth\":0,\"ticks\":\"\"}}}],\"scatterpolargl\":[{\"type\":\"scatterpolargl\",\"marker\":{\"colorbar\":{\"outlinewidth\":0,\"ticks\":\"\"}}}],\"bar\":[{\"error_x\":{\"color\":\"#2a3f5f\"},\"error_y\":{\"color\":\"#2a3f5f\"},\"marker\":{\"line\":{\"color\":\"#E5ECF6\",\"width\":0.5},\"pattern\":{\"fillmode\":\"overlay\",\"size\":10,\"solidity\":0.2}},\"type\":\"bar\"}],\"scattergeo\":[{\"type\":\"scattergeo\",\"marker\":{\"colorbar\":{\"outlinewidth\":0,\"ticks\":\"\"}}}],\"scatterpolar\":[{\"type\":\"scatterpolar\",\"marker\":{\"colorbar\":{\"outlinewidth\":0,\"ticks\":\"\"}}}],\"histogram\":[{\"marker\":{\"pattern\":{\"fillmode\":\"overlay\",\"size\":10,\"solidity\":0.2}},\"type\":\"histogram\"}],\"scattergl\":[{\"type\":\"scattergl\",\"marker\":{\"colorbar\":{\"outlinewidth\":0,\"ticks\":\"\"}}}],\"scatter3d\":[{\"type\":\"scatter3d\",\"line\":{\"colorbar\":{\"outlinewidth\":0,\"ticks\":\"\"}},\"marker\":{\"colorbar\":{\"outlinewidth\":0,\"ticks\":\"\"}}}],\"scattermapbox\":[{\"type\":\"scattermapbox\",\"marker\":{\"colorbar\":{\"outlinewidth\":0,\"ticks\":\"\"}}}],\"scatterternary\":[{\"type\":\"scatterternary\",\"marker\":{\"colorbar\":{\"outlinewidth\":0,\"ticks\":\"\"}}}],\"scattercarpet\":[{\"type\":\"scattercarpet\",\"marker\":{\"colorbar\":{\"outlinewidth\":0,\"ticks\":\"\"}}}],\"carpet\":[{\"aaxis\":{\"endlinecolor\":\"#2a3f5f\",\"gridcolor\":\"white\",\"linecolor\":\"white\",\"minorgridcolor\":\"white\",\"startlinecolor\":\"#2a3f5f\"},\"baxis\":{\"endlinecolor\":\"#2a3f5f\",\"gridcolor\":\"white\",\"linecolor\":\"white\",\"minorgridcolor\":\"white\",\"startlinecolor\":\"#2a3f5f\"},\"type\":\"carpet\"}],\"table\":[{\"cells\":{\"fill\":{\"color\":\"#EBF0F8\"},\"line\":{\"color\":\"white\"}},\"header\":{\"fill\":{\"color\":\"#C8D4E3\"},\"line\":{\"color\":\"white\"}},\"type\":\"table\"}],\"barpolar\":[{\"marker\":{\"line\":{\"color\":\"#E5ECF6\",\"width\":0.5},\"pattern\":{\"fillmode\":\"overlay\",\"size\":10,\"solidity\":0.2}},\"type\":\"barpolar\"}],\"pie\":[{\"automargin\":true,\"type\":\"pie\"}]},\"layout\":{\"autotypenumbers\":\"strict\",\"colorway\":[\"#636efa\",\"#EF553B\",\"#00cc96\",\"#ab63fa\",\"#FFA15A\",\"#19d3f3\",\"#FF6692\",\"#B6E880\",\"#FF97FF\",\"#FECB52\"],\"font\":{\"color\":\"#2a3f5f\"},\"hovermode\":\"closest\",\"hoverlabel\":{\"align\":\"left\"},\"paper_bgcolor\":\"white\",\"plot_bgcolor\":\"#E5ECF6\",\"polar\":{\"bgcolor\":\"#E5ECF6\",\"angularaxis\":{\"gridcolor\":\"white\",\"linecolor\":\"white\",\"ticks\":\"\"},\"radialaxis\":{\"gridcolor\":\"white\",\"linecolor\":\"white\",\"ticks\":\"\"}},\"ternary\":{\"bgcolor\":\"#E5ECF6\",\"aaxis\":{\"gridcolor\":\"white\",\"linecolor\":\"white\",\"ticks\":\"\"},\"baxis\":{\"gridcolor\":\"white\",\"linecolor\":\"white\",\"ticks\":\"\"},\"caxis\":{\"gridcolor\":\"white\",\"linecolor\":\"white\",\"ticks\":\"\"}},\"coloraxis\":{\"colorbar\":{\"outlinewidth\":0,\"ticks\":\"\"}},\"colorscale\":{\"sequential\":[[0.0,\"#0d0887\"],[0.1111111111111111,\"#46039f\"],[0.2222222222222222,\"#7201a8\"],[0.3333333333333333,\"#9c179e\"],[0.4444444444444444,\"#bd3786\"],[0.5555555555555556,\"#d8576b\"],[0.6666666666666666,\"#ed7953\"],[0.7777777777777778,\"#fb9f3a\"],[0.8888888888888888,\"#fdca26\"],[1.0,\"#f0f921\"]],\"sequentialminus\":[[0.0,\"#0d0887\"],[0.1111111111111111,\"#46039f\"],[0.2222222222222222,\"#7201a8\"],[0.3333333333333333,\"#9c179e\"],[0.4444444444444444,\"#bd3786\"],[0.5555555555555556,\"#d8576b\"],[0.6666666666666666,\"#ed7953\"],[0.7777777777777778,\"#fb9f3a\"],[0.8888888888888888,\"#fdca26\"],[1.0,\"#f0f921\"]],\"diverging\":[[0,\"#8e0152\"],[0.1,\"#c51b7d\"],[0.2,\"#de77ae\"],[0.3,\"#f1b6da\"],[0.4,\"#fde0ef\"],[0.5,\"#f7f7f7\"],[0.6,\"#e6f5d0\"],[0.7,\"#b8e186\"],[0.8,\"#7fbc41\"],[0.9,\"#4d9221\"],[1,\"#276419\"]]},\"xaxis\":{\"gridcolor\":\"white\",\"linecolor\":\"white\",\"ticks\":\"\",\"title\":{\"standoff\":15},\"zerolinecolor\":\"white\",\"automargin\":true,\"zerolinewidth\":2},\"yaxis\":{\"gridcolor\":\"white\",\"linecolor\":\"white\",\"ticks\":\"\",\"title\":{\"standoff\":15},\"zerolinecolor\":\"white\",\"automargin\":true,\"zerolinewidth\":2},\"scene\":{\"xaxis\":{\"backgroundcolor\":\"#E5ECF6\",\"gridcolor\":\"white\",\"linecolor\":\"white\",\"showbackground\":true,\"ticks\":\"\",\"zerolinecolor\":\"white\",\"gridwidth\":2},\"yaxis\":{\"backgroundcolor\":\"#E5ECF6\",\"gridcolor\":\"white\",\"linecolor\":\"white\",\"showbackground\":true,\"ticks\":\"\",\"zerolinecolor\":\"white\",\"gridwidth\":2},\"zaxis\":{\"backgroundcolor\":\"#E5ECF6\",\"gridcolor\":\"white\",\"linecolor\":\"white\",\"showbackground\":true,\"ticks\":\"\",\"zerolinecolor\":\"white\",\"gridwidth\":2}},\"shapedefaults\":{\"line\":{\"color\":\"#2a3f5f\"}},\"annotationdefaults\":{\"arrowcolor\":\"#2a3f5f\",\"arrowhead\":0,\"arrowwidth\":1},\"geo\":{\"bgcolor\":\"white\",\"landcolor\":\"#E5ECF6\",\"subunitcolor\":\"white\",\"showland\":true,\"showlakes\":true,\"lakecolor\":\"white\"},\"title\":{\"x\":0.05},\"mapbox\":{\"style\":\"light\"}}}},                        {\"responsive\": true}                    ).then(function(){\n",
       "                            \n",
       "var gd = document.getElementById('129ad15c-14fc-46d7-90c3-532805b0bb8a');\n",
       "var x = new MutationObserver(function (mutations, observer) {{\n",
       "        var display = window.getComputedStyle(gd).display;\n",
       "        if (!display || display === 'none') {{\n",
       "            console.log([gd, 'removed!']);\n",
       "            Plotly.purge(gd);\n",
       "            observer.disconnect();\n",
       "        }}\n",
       "}});\n",
       "\n",
       "// Listen for the removal of the full notebook cells\n",
       "var notebookContainer = gd.closest('#notebook-container');\n",
       "if (notebookContainer) {{\n",
       "    x.observe(notebookContainer, {childList: true});\n",
       "}}\n",
       "\n",
       "// Listen for the clearing of the current output cell\n",
       "var outputEl = gd.closest('.output');\n",
       "if (outputEl) {{\n",
       "    x.observe(outputEl, {childList: true});\n",
       "}}\n",
       "\n",
       "                        })                };                });            </script>        </div>"
      ]
     },
     "metadata": {},
     "output_type": "display_data"
    }
   ],
   "source": [
    "##Scatter plot here is line graph\n",
    "fig=go.Figure()\n",
    "fig.add_trace(go.Scatter(x=[1,2,3,4,5],y=[3,4,5,6,7]))"
   ]
  },
  {
   "cell_type": "code",
   "execution_count": 14,
   "id": "9085ff64-ee8d-4827-9f7f-024dec923fe2",
   "metadata": {},
   "outputs": [
    {
     "data": {
      "application/vnd.plotly.v1+json": {
       "config": {
        "plotlyServerURL": "https://plot.ly"
       },
       "data": [
        {
         "type": "bar",
         "x": [
          1,
          2,
          3,
          4,
          5
         ],
         "y": [
          3,
          4,
          5,
          6,
          7
         ]
        }
       ],
       "layout": {
        "autosize": true,
        "template": {
         "data": {
          "bar": [
           {
            "error_x": {
             "color": "#2a3f5f"
            },
            "error_y": {
             "color": "#2a3f5f"
            },
            "marker": {
             "line": {
              "color": "#E5ECF6",
              "width": 0.5
             },
             "pattern": {
              "fillmode": "overlay",
              "size": 10,
              "solidity": 0.2
             }
            },
            "type": "bar"
           }
          ],
          "barpolar": [
           {
            "marker": {
             "line": {
              "color": "#E5ECF6",
              "width": 0.5
             },
             "pattern": {
              "fillmode": "overlay",
              "size": 10,
              "solidity": 0.2
             }
            },
            "type": "barpolar"
           }
          ],
          "carpet": [
           {
            "aaxis": {
             "endlinecolor": "#2a3f5f",
             "gridcolor": "white",
             "linecolor": "white",
             "minorgridcolor": "white",
             "startlinecolor": "#2a3f5f"
            },
            "baxis": {
             "endlinecolor": "#2a3f5f",
             "gridcolor": "white",
             "linecolor": "white",
             "minorgridcolor": "white",
             "startlinecolor": "#2a3f5f"
            },
            "type": "carpet"
           }
          ],
          "choropleth": [
           {
            "colorbar": {
             "outlinewidth": 0,
             "ticks": ""
            },
            "type": "choropleth"
           }
          ],
          "contour": [
           {
            "colorbar": {
             "outlinewidth": 0,
             "ticks": ""
            },
            "colorscale": [
             [
              0,
              "#0d0887"
             ],
             [
              0.1111111111111111,
              "#46039f"
             ],
             [
              0.2222222222222222,
              "#7201a8"
             ],
             [
              0.3333333333333333,
              "#9c179e"
             ],
             [
              0.4444444444444444,
              "#bd3786"
             ],
             [
              0.5555555555555556,
              "#d8576b"
             ],
             [
              0.6666666666666666,
              "#ed7953"
             ],
             [
              0.7777777777777778,
              "#fb9f3a"
             ],
             [
              0.8888888888888888,
              "#fdca26"
             ],
             [
              1,
              "#f0f921"
             ]
            ],
            "type": "contour"
           }
          ],
          "contourcarpet": [
           {
            "colorbar": {
             "outlinewidth": 0,
             "ticks": ""
            },
            "type": "contourcarpet"
           }
          ],
          "heatmap": [
           {
            "colorbar": {
             "outlinewidth": 0,
             "ticks": ""
            },
            "colorscale": [
             [
              0,
              "#0d0887"
             ],
             [
              0.1111111111111111,
              "#46039f"
             ],
             [
              0.2222222222222222,
              "#7201a8"
             ],
             [
              0.3333333333333333,
              "#9c179e"
             ],
             [
              0.4444444444444444,
              "#bd3786"
             ],
             [
              0.5555555555555556,
              "#d8576b"
             ],
             [
              0.6666666666666666,
              "#ed7953"
             ],
             [
              0.7777777777777778,
              "#fb9f3a"
             ],
             [
              0.8888888888888888,
              "#fdca26"
             ],
             [
              1,
              "#f0f921"
             ]
            ],
            "type": "heatmap"
           }
          ],
          "heatmapgl": [
           {
            "colorbar": {
             "outlinewidth": 0,
             "ticks": ""
            },
            "colorscale": [
             [
              0,
              "#0d0887"
             ],
             [
              0.1111111111111111,
              "#46039f"
             ],
             [
              0.2222222222222222,
              "#7201a8"
             ],
             [
              0.3333333333333333,
              "#9c179e"
             ],
             [
              0.4444444444444444,
              "#bd3786"
             ],
             [
              0.5555555555555556,
              "#d8576b"
             ],
             [
              0.6666666666666666,
              "#ed7953"
             ],
             [
              0.7777777777777778,
              "#fb9f3a"
             ],
             [
              0.8888888888888888,
              "#fdca26"
             ],
             [
              1,
              "#f0f921"
             ]
            ],
            "type": "heatmapgl"
           }
          ],
          "histogram": [
           {
            "marker": {
             "pattern": {
              "fillmode": "overlay",
              "size": 10,
              "solidity": 0.2
             }
            },
            "type": "histogram"
           }
          ],
          "histogram2d": [
           {
            "colorbar": {
             "outlinewidth": 0,
             "ticks": ""
            },
            "colorscale": [
             [
              0,
              "#0d0887"
             ],
             [
              0.1111111111111111,
              "#46039f"
             ],
             [
              0.2222222222222222,
              "#7201a8"
             ],
             [
              0.3333333333333333,
              "#9c179e"
             ],
             [
              0.4444444444444444,
              "#bd3786"
             ],
             [
              0.5555555555555556,
              "#d8576b"
             ],
             [
              0.6666666666666666,
              "#ed7953"
             ],
             [
              0.7777777777777778,
              "#fb9f3a"
             ],
             [
              0.8888888888888888,
              "#fdca26"
             ],
             [
              1,
              "#f0f921"
             ]
            ],
            "type": "histogram2d"
           }
          ],
          "histogram2dcontour": [
           {
            "colorbar": {
             "outlinewidth": 0,
             "ticks": ""
            },
            "colorscale": [
             [
              0,
              "#0d0887"
             ],
             [
              0.1111111111111111,
              "#46039f"
             ],
             [
              0.2222222222222222,
              "#7201a8"
             ],
             [
              0.3333333333333333,
              "#9c179e"
             ],
             [
              0.4444444444444444,
              "#bd3786"
             ],
             [
              0.5555555555555556,
              "#d8576b"
             ],
             [
              0.6666666666666666,
              "#ed7953"
             ],
             [
              0.7777777777777778,
              "#fb9f3a"
             ],
             [
              0.8888888888888888,
              "#fdca26"
             ],
             [
              1,
              "#f0f921"
             ]
            ],
            "type": "histogram2dcontour"
           }
          ],
          "mesh3d": [
           {
            "colorbar": {
             "outlinewidth": 0,
             "ticks": ""
            },
            "type": "mesh3d"
           }
          ],
          "parcoords": [
           {
            "line": {
             "colorbar": {
              "outlinewidth": 0,
              "ticks": ""
             }
            },
            "type": "parcoords"
           }
          ],
          "pie": [
           {
            "automargin": true,
            "type": "pie"
           }
          ],
          "scatter": [
           {
            "fillpattern": {
             "fillmode": "overlay",
             "size": 10,
             "solidity": 0.2
            },
            "type": "scatter"
           }
          ],
          "scatter3d": [
           {
            "line": {
             "colorbar": {
              "outlinewidth": 0,
              "ticks": ""
             }
            },
            "marker": {
             "colorbar": {
              "outlinewidth": 0,
              "ticks": ""
             }
            },
            "type": "scatter3d"
           }
          ],
          "scattercarpet": [
           {
            "marker": {
             "colorbar": {
              "outlinewidth": 0,
              "ticks": ""
             }
            },
            "type": "scattercarpet"
           }
          ],
          "scattergeo": [
           {
            "marker": {
             "colorbar": {
              "outlinewidth": 0,
              "ticks": ""
             }
            },
            "type": "scattergeo"
           }
          ],
          "scattergl": [
           {
            "marker": {
             "colorbar": {
              "outlinewidth": 0,
              "ticks": ""
             }
            },
            "type": "scattergl"
           }
          ],
          "scattermapbox": [
           {
            "marker": {
             "colorbar": {
              "outlinewidth": 0,
              "ticks": ""
             }
            },
            "type": "scattermapbox"
           }
          ],
          "scatterpolar": [
           {
            "marker": {
             "colorbar": {
              "outlinewidth": 0,
              "ticks": ""
             }
            },
            "type": "scatterpolar"
           }
          ],
          "scatterpolargl": [
           {
            "marker": {
             "colorbar": {
              "outlinewidth": 0,
              "ticks": ""
             }
            },
            "type": "scatterpolargl"
           }
          ],
          "scatterternary": [
           {
            "marker": {
             "colorbar": {
              "outlinewidth": 0,
              "ticks": ""
             }
            },
            "type": "scatterternary"
           }
          ],
          "surface": [
           {
            "colorbar": {
             "outlinewidth": 0,
             "ticks": ""
            },
            "colorscale": [
             [
              0,
              "#0d0887"
             ],
             [
              0.1111111111111111,
              "#46039f"
             ],
             [
              0.2222222222222222,
              "#7201a8"
             ],
             [
              0.3333333333333333,
              "#9c179e"
             ],
             [
              0.4444444444444444,
              "#bd3786"
             ],
             [
              0.5555555555555556,
              "#d8576b"
             ],
             [
              0.6666666666666666,
              "#ed7953"
             ],
             [
              0.7777777777777778,
              "#fb9f3a"
             ],
             [
              0.8888888888888888,
              "#fdca26"
             ],
             [
              1,
              "#f0f921"
             ]
            ],
            "type": "surface"
           }
          ],
          "table": [
           {
            "cells": {
             "fill": {
              "color": "#EBF0F8"
             },
             "line": {
              "color": "white"
             }
            },
            "header": {
             "fill": {
              "color": "#C8D4E3"
             },
             "line": {
              "color": "white"
             }
            },
            "type": "table"
           }
          ]
         },
         "layout": {
          "annotationdefaults": {
           "arrowcolor": "#2a3f5f",
           "arrowhead": 0,
           "arrowwidth": 1
          },
          "autotypenumbers": "strict",
          "coloraxis": {
           "colorbar": {
            "outlinewidth": 0,
            "ticks": ""
           }
          },
          "colorscale": {
           "diverging": [
            [
             0,
             "#8e0152"
            ],
            [
             0.1,
             "#c51b7d"
            ],
            [
             0.2,
             "#de77ae"
            ],
            [
             0.3,
             "#f1b6da"
            ],
            [
             0.4,
             "#fde0ef"
            ],
            [
             0.5,
             "#f7f7f7"
            ],
            [
             0.6,
             "#e6f5d0"
            ],
            [
             0.7,
             "#b8e186"
            ],
            [
             0.8,
             "#7fbc41"
            ],
            [
             0.9,
             "#4d9221"
            ],
            [
             1,
             "#276419"
            ]
           ],
           "sequential": [
            [
             0,
             "#0d0887"
            ],
            [
             0.1111111111111111,
             "#46039f"
            ],
            [
             0.2222222222222222,
             "#7201a8"
            ],
            [
             0.3333333333333333,
             "#9c179e"
            ],
            [
             0.4444444444444444,
             "#bd3786"
            ],
            [
             0.5555555555555556,
             "#d8576b"
            ],
            [
             0.6666666666666666,
             "#ed7953"
            ],
            [
             0.7777777777777778,
             "#fb9f3a"
            ],
            [
             0.8888888888888888,
             "#fdca26"
            ],
            [
             1,
             "#f0f921"
            ]
           ],
           "sequentialminus": [
            [
             0,
             "#0d0887"
            ],
            [
             0.1111111111111111,
             "#46039f"
            ],
            [
             0.2222222222222222,
             "#7201a8"
            ],
            [
             0.3333333333333333,
             "#9c179e"
            ],
            [
             0.4444444444444444,
             "#bd3786"
            ],
            [
             0.5555555555555556,
             "#d8576b"
            ],
            [
             0.6666666666666666,
             "#ed7953"
            ],
            [
             0.7777777777777778,
             "#fb9f3a"
            ],
            [
             0.8888888888888888,
             "#fdca26"
            ],
            [
             1,
             "#f0f921"
            ]
           ]
          },
          "colorway": [
           "#636efa",
           "#EF553B",
           "#00cc96",
           "#ab63fa",
           "#FFA15A",
           "#19d3f3",
           "#FF6692",
           "#B6E880",
           "#FF97FF",
           "#FECB52"
          ],
          "font": {
           "color": "#2a3f5f"
          },
          "geo": {
           "bgcolor": "white",
           "lakecolor": "white",
           "landcolor": "#E5ECF6",
           "showlakes": true,
           "showland": true,
           "subunitcolor": "white"
          },
          "hoverlabel": {
           "align": "left"
          },
          "hovermode": "closest",
          "mapbox": {
           "style": "light"
          },
          "paper_bgcolor": "white",
          "plot_bgcolor": "#E5ECF6",
          "polar": {
           "angularaxis": {
            "gridcolor": "white",
            "linecolor": "white",
            "ticks": ""
           },
           "bgcolor": "#E5ECF6",
           "radialaxis": {
            "gridcolor": "white",
            "linecolor": "white",
            "ticks": ""
           }
          },
          "scene": {
           "xaxis": {
            "backgroundcolor": "#E5ECF6",
            "gridcolor": "white",
            "gridwidth": 2,
            "linecolor": "white",
            "showbackground": true,
            "ticks": "",
            "zerolinecolor": "white"
           },
           "yaxis": {
            "backgroundcolor": "#E5ECF6",
            "gridcolor": "white",
            "gridwidth": 2,
            "linecolor": "white",
            "showbackground": true,
            "ticks": "",
            "zerolinecolor": "white"
           },
           "zaxis": {
            "backgroundcolor": "#E5ECF6",
            "gridcolor": "white",
            "gridwidth": 2,
            "linecolor": "white",
            "showbackground": true,
            "ticks": "",
            "zerolinecolor": "white"
           }
          },
          "shapedefaults": {
           "line": {
            "color": "#2a3f5f"
           }
          },
          "ternary": {
           "aaxis": {
            "gridcolor": "white",
            "linecolor": "white",
            "ticks": ""
           },
           "baxis": {
            "gridcolor": "white",
            "linecolor": "white",
            "ticks": ""
           },
           "bgcolor": "#E5ECF6",
           "caxis": {
            "gridcolor": "white",
            "linecolor": "white",
            "ticks": ""
           }
          },
          "title": {
           "x": 0.05
          },
          "xaxis": {
           "automargin": true,
           "gridcolor": "white",
           "linecolor": "white",
           "ticks": "",
           "title": {
            "standoff": 15
           },
           "zerolinecolor": "white",
           "zerolinewidth": 2
          },
          "yaxis": {
           "automargin": true,
           "gridcolor": "white",
           "linecolor": "white",
           "ticks": "",
           "title": {
            "standoff": 15
           },
           "zerolinecolor": "white",
           "zerolinewidth": 2
          }
         }
        },
        "xaxis": {
         "autorange": true,
         "range": [
          0.5,
          5.5
         ],
         "type": "linear"
        },
        "yaxis": {
         "autorange": true,
         "range": [
          0,
          7.368421052631579
         ],
         "type": "linear"
        }
       }
      },
      "image/png": "[encoded data removed]",
      "text/html": [
       "<div>                            <div id=\"0fbdcfdd-d032-4016-b779-19f1f1ac8eb6\" class=\"plotly-graph-div\" style=\"height:525px; width:100%;\"></div>            <script type=\"text/javascript\">                require([\"plotly\"], function(Plotly) {                    window.PLOTLYENV=window.PLOTLYENV || {};                                    if (document.getElementById(\"0fbdcfdd-d032-4016-b779-19f1f1ac8eb6\")) {                    Plotly.newPlot(                        \"0fbdcfdd-d032-4016-b779-19f1f1ac8eb6\",                        [{\"x\":[1,2,3,4,5],\"y\":[3,4,5,6,7],\"type\":\"bar\"}],                        {\"template\":{\"data\":{\"histogram2dcontour\":[{\"type\":\"histogram2dcontour\",\"colorbar\":{\"outlinewidth\":0,\"ticks\":\"\"},\"colorscale\":[[0.0,\"#0d0887\"],[0.1111111111111111,\"#46039f\"],[0.2222222222222222,\"#7201a8\"],[0.3333333333333333,\"#9c179e\"],[0.4444444444444444,\"#bd3786\"],[0.5555555555555556,\"#d8576b\"],[0.6666666666666666,\"#ed7953\"],[0.7777777777777778,\"#fb9f3a\"],[0.8888888888888888,\"#fdca26\"],[1.0,\"#f0f921\"]]}],\"choropleth\":[{\"type\":\"choropleth\",\"colorbar\":{\"outlinewidth\":0,\"ticks\":\"\"}}],\"histogram2d\":[{\"type\":\"histogram2d\",\"colorbar\":{\"outlinewidth\":0,\"ticks\":\"\"},\"colorscale\":[[0.0,\"#0d0887\"],[0.1111111111111111,\"#46039f\"],[0.2222222222222222,\"#7201a8\"],[0.3333333333333333,\"#9c179e\"],[0.4444444444444444,\"#bd3786\"],[0.5555555555555556,\"#d8576b\"],[0.6666666666666666,\"#ed7953\"],[0.7777777777777778,\"#fb9f3a\"],[0.8888888888888888,\"#fdca26\"],[1.0,\"#f0f921\"]]}],\"heatmap\":[{\"type\":\"heatmap\",\"colorbar\":{\"outlinewidth\":0,\"ticks\":\"\"},\"colorscale\":[[0.0,\"#0d0887\"],[0.1111111111111111,\"#46039f\"],[0.2222222222222222,\"#7201a8\"],[0.3333333333333333,\"#9c179e\"],[0.4444444444444444,\"#bd3786\"],[0.5555555555555556,\"#d8576b\"],[0.6666666666666666,\"#ed7953\"],[0.7777777777777778,\"#fb9f3a\"],[0.8888888888888888,\"#fdca26\"],[1.0,\"#f0f921\"]]}],\"heatmapgl\":[{\"type\":\"heatmapgl\",\"colorbar\":{\"outlinewidth\":0,\"ticks\":\"\"},\"colorscale\":[[0.0,\"#0d0887\"],[0.1111111111111111,\"#46039f\"],[0.2222222222222222,\"#7201a8\"],[0.3333333333333333,\"#9c179e\"],[0.4444444444444444,\"#bd3786\"],[0.5555555555555556,\"#d8576b\"],[0.6666666666666666,\"#ed7953\"],[0.7777777777777778,\"#fb9f3a\"],[0.8888888888888888,\"#fdca26\"],[1.0,\"#f0f921\"]]}],\"contourcarpet\":[{\"type\":\"contourcarpet\",\"colorbar\":{\"outlinewidth\":0,\"ticks\":\"\"}}],\"contour\":[{\"type\":\"contour\",\"colorbar\":{\"outlinewidth\":0,\"ticks\":\"\"},\"colorscale\":[[0.0,\"#0d0887\"],[0.1111111111111111,\"#46039f\"],[0.2222222222222222,\"#7201a8\"],[0.3333333333333333,\"#9c179e\"],[0.4444444444444444,\"#bd3786\"],[0.5555555555555556,\"#d8576b\"],[0.6666666666666666,\"#ed7953\"],[0.7777777777777778,\"#fb9f3a\"],[0.8888888888888888,\"#fdca26\"],[1.0,\"#f0f921\"]]}],\"surface\":[{\"type\":\"surface\",\"colorbar\":{\"outlinewidth\":0,\"ticks\":\"\"},\"colorscale\":[[0.0,\"#0d0887\"],[0.1111111111111111,\"#46039f\"],[0.2222222222222222,\"#7201a8\"],[0.3333333333333333,\"#9c179e\"],[0.4444444444444444,\"#bd3786\"],[0.5555555555555556,\"#d8576b\"],[0.6666666666666666,\"#ed7953\"],[0.7777777777777778,\"#fb9f3a\"],[0.8888888888888888,\"#fdca26\"],[1.0,\"#f0f921\"]]}],\"mesh3d\":[{\"type\":\"mesh3d\",\"colorbar\":{\"outlinewidth\":0,\"ticks\":\"\"}}],\"scatter\":[{\"fillpattern\":{\"fillmode\":\"overlay\",\"size\":10,\"solidity\":0.2},\"type\":\"scatter\"}],\"parcoords\":[{\"type\":\"parcoords\",\"line\":{\"colorbar\":{\"outlinewidth\":0,\"ticks\":\"\"}}}],\"scatterpolargl\":[{\"type\":\"scatterpolargl\",\"marker\":{\"colorbar\":{\"outlinewidth\":0,\"ticks\":\"\"}}}],\"bar\":[{\"error_x\":{\"color\":\"#2a3f5f\"},\"error_y\":{\"color\":\"#2a3f5f\"},\"marker\":{\"line\":{\"color\":\"#E5ECF6\",\"width\":0.5},\"pattern\":{\"fillmode\":\"overlay\",\"size\":10,\"solidity\":0.2}},\"type\":\"bar\"}],\"scattergeo\":[{\"type\":\"scattergeo\",\"marker\":{\"colorbar\":{\"outlinewidth\":0,\"ticks\":\"\"}}}],\"scatterpolar\":[{\"type\":\"scatterpolar\",\"marker\":{\"colorbar\":{\"outlinewidth\":0,\"ticks\":\"\"}}}],\"histogram\":[{\"marker\":{\"pattern\":{\"fillmode\":\"overlay\",\"size\":10,\"solidity\":0.2}},\"type\":\"histogram\"}],\"scattergl\":[{\"type\":\"scattergl\",\"marker\":{\"colorbar\":{\"outlinewidth\":0,\"ticks\":\"\"}}}],\"scatter3d\":[{\"type\":\"scatter3d\",\"line\":{\"colorbar\":{\"outlinewidth\":0,\"ticks\":\"\"}},\"marker\":{\"colorbar\":{\"outlinewidth\":0,\"ticks\":\"\"}}}],\"scattermapbox\":[{\"type\":\"scattermapbox\",\"marker\":{\"colorbar\":{\"outlinewidth\":0,\"ticks\":\"\"}}}],\"scatterternary\":[{\"type\":\"scatterternary\",\"marker\":{\"colorbar\":{\"outlinewidth\":0,\"ticks\":\"\"}}}],\"scattercarpet\":[{\"type\":\"scattercarpet\",\"marker\":{\"colorbar\":{\"outlinewidth\":0,\"ticks\":\"\"}}}],\"carpet\":[{\"aaxis\":{\"endlinecolor\":\"#2a3f5f\",\"gridcolor\":\"white\",\"linecolor\":\"white\",\"minorgridcolor\":\"white\",\"startlinecolor\":\"#2a3f5f\"},\"baxis\":{\"endlinecolor\":\"#2a3f5f\",\"gridcolor\":\"white\",\"linecolor\":\"white\",\"minorgridcolor\":\"white\",\"startlinecolor\":\"#2a3f5f\"},\"type\":\"carpet\"}],\"table\":[{\"cells\":{\"fill\":{\"color\":\"#EBF0F8\"},\"line\":{\"color\":\"white\"}},\"header\":{\"fill\":{\"color\":\"#C8D4E3\"},\"line\":{\"color\":\"white\"}},\"type\":\"table\"}],\"barpolar\":[{\"marker\":{\"line\":{\"color\":\"#E5ECF6\",\"width\":0.5},\"pattern\":{\"fillmode\":\"overlay\",\"size\":10,\"solidity\":0.2}},\"type\":\"barpolar\"}],\"pie\":[{\"automargin\":true,\"type\":\"pie\"}]},\"layout\":{\"autotypenumbers\":\"strict\",\"colorway\":[\"#636efa\",\"#EF553B\",\"#00cc96\",\"#ab63fa\",\"#FFA15A\",\"#19d3f3\",\"#FF6692\",\"#B6E880\",\"#FF97FF\",\"#FECB52\"],\"font\":{\"color\":\"#2a3f5f\"},\"hovermode\":\"closest\",\"hoverlabel\":{\"align\":\"left\"},\"paper_bgcolor\":\"white\",\"plot_bgcolor\":\"#E5ECF6\",\"polar\":{\"bgcolor\":\"#E5ECF6\",\"angularaxis\":{\"gridcolor\":\"white\",\"linecolor\":\"white\",\"ticks\":\"\"},\"radialaxis\":{\"gridcolor\":\"white\",\"linecolor\":\"white\",\"ticks\":\"\"}},\"ternary\":{\"bgcolor\":\"#E5ECF6\",\"aaxis\":{\"gridcolor\":\"white\",\"linecolor\":\"white\",\"ticks\":\"\"},\"baxis\":{\"gridcolor\":\"white\",\"linecolor\":\"white\",\"ticks\":\"\"},\"caxis\":{\"gridcolor\":\"white\",\"linecolor\":\"white\",\"ticks\":\"\"}},\"coloraxis\":{\"colorbar\":{\"outlinewidth\":0,\"ticks\":\"\"}},\"colorscale\":{\"sequential\":[[0.0,\"#0d0887\"],[0.1111111111111111,\"#46039f\"],[0.2222222222222222,\"#7201a8\"],[0.3333333333333333,\"#9c179e\"],[0.4444444444444444,\"#bd3786\"],[0.5555555555555556,\"#d8576b\"],[0.6666666666666666,\"#ed7953\"],[0.7777777777777778,\"#fb9f3a\"],[0.8888888888888888,\"#fdca26\"],[1.0,\"#f0f921\"]],\"sequentialminus\":[[0.0,\"#0d0887\"],[0.1111111111111111,\"#46039f\"],[0.2222222222222222,\"#7201a8\"],[0.3333333333333333,\"#9c179e\"],[0.4444444444444444,\"#bd3786\"],[0.5555555555555556,\"#d8576b\"],[0.6666666666666666,\"#ed7953\"],[0.7777777777777778,\"#fb9f3a\"],[0.8888888888888888,\"#fdca26\"],[1.0,\"#f0f921\"]],\"diverging\":[[0,\"#8e0152\"],[0.1,\"#c51b7d\"],[0.2,\"#de77ae\"],[0.3,\"#f1b6da\"],[0.4,\"#fde0ef\"],[0.5,\"#f7f7f7\"],[0.6,\"#e6f5d0\"],[0.7,\"#b8e186\"],[0.8,\"#7fbc41\"],[0.9,\"#4d9221\"],[1,\"#276419\"]]},\"xaxis\":{\"gridcolor\":\"white\",\"linecolor\":\"white\",\"ticks\":\"\",\"title\":{\"standoff\":15},\"zerolinecolor\":\"white\",\"automargin\":true,\"zerolinewidth\":2},\"yaxis\":{\"gridcolor\":\"white\",\"linecolor\":\"white\",\"ticks\":\"\",\"title\":{\"standoff\":15},\"zerolinecolor\":\"white\",\"automargin\":true,\"zerolinewidth\":2},\"scene\":{\"xaxis\":{\"backgroundcolor\":\"#E5ECF6\",\"gridcolor\":\"white\",\"linecolor\":\"white\",\"showbackground\":true,\"ticks\":\"\",\"zerolinecolor\":\"white\",\"gridwidth\":2},\"yaxis\":{\"backgroundcolor\":\"#E5ECF6\",\"gridcolor\":\"white\",\"linecolor\":\"white\",\"showbackground\":true,\"ticks\":\"\",\"zerolinecolor\":\"white\",\"gridwidth\":2},\"zaxis\":{\"backgroundcolor\":\"#E5ECF6\",\"gridcolor\":\"white\",\"linecolor\":\"white\",\"showbackground\":true,\"ticks\":\"\",\"zerolinecolor\":\"white\",\"gridwidth\":2}},\"shapedefaults\":{\"line\":{\"color\":\"#2a3f5f\"}},\"annotationdefaults\":{\"arrowcolor\":\"#2a3f5f\",\"arrowhead\":0,\"arrowwidth\":1},\"geo\":{\"bgcolor\":\"white\",\"landcolor\":\"#E5ECF6\",\"subunitcolor\":\"white\",\"showland\":true,\"showlakes\":true,\"lakecolor\":\"white\"},\"title\":{\"x\":0.05},\"mapbox\":{\"style\":\"light\"}}}},                        {\"responsive\": true}                    ).then(function(){\n",
       "                            \n",
       "var gd = document.getElementById('0fbdcfdd-d032-4016-b779-19f1f1ac8eb6');\n",
       "var x = new MutationObserver(function (mutations, observer) {{\n",
       "        var display = window.getComputedStyle(gd).display;\n",
       "        if (!display || display === 'none') {{\n",
       "            console.log([gd, 'removed!']);\n",
       "            Plotly.purge(gd);\n",
       "            observer.disconnect();\n",
       "        }}\n",
       "}});\n",
       "\n",
       "// Listen for the removal of the full notebook cells\n",
       "var notebookContainer = gd.closest('#notebook-container');\n",
       "if (notebookContainer) {{\n",
       "    x.observe(notebookContainer, {childList: true});\n",
       "}}\n",
       "\n",
       "// Listen for the clearing of the current output cell\n",
       "var outputEl = gd.closest('.output');\n",
       "if (outputEl) {{\n",
       "    x.observe(outputEl, {childList: true});\n",
       "}}\n",
       "\n",
       "                        })                };                });            </script>        </div>"
      ]
     },
     "metadata": {},
     "output_type": "display_data"
    }
   ],
   "source": [
    "fig=go.Figure()\n",
    "fig.add_trace(go.Bar(x=[1,2,3,4,5],y=[3,4,5,6,7]))"
   ]
  },
  {
   "cell_type": "code",
   "execution_count": 25,
   "id": "18b96fb7-d026-4c92-9cd7-40ff60672051",
   "metadata": {},
   "outputs": [],
   "source": [
    "fig=go.Figure(data=[go.Scatter(x=[1,2,3,4,5,6,7],mode='markers')])"
   ]
  },
  {
   "cell_type": "code",
   "execution_count": 26,
   "id": "8acc7bd5-60ff-4f15-9ccf-f03c7e98ce68",
   "metadata": {},
   "outputs": [
    {
     "data": {
      "application/vnd.plotly.v1+json": {
       "config": {
        "plotlyServerURL": "https://plot.ly"
       },
       "data": [
        {
         "mode": "markers",
         "type": "scatter",
         "x": [
          1,
          2,
          3,
          4,
          5,
          6,
          7
         ]
        }
       ],
       "layout": {
        "autosize": true,
        "template": {
         "data": {
          "bar": [
           {
            "error_x": {
             "color": "#2a3f5f"
            },
            "error_y": {
             "color": "#2a3f5f"
            },
            "marker": {
             "line": {
              "color": "#E5ECF6",
              "width": 0.5
             },
             "pattern": {
              "fillmode": "overlay",
              "size": 10,
              "solidity": 0.2
             }
            },
            "type": "bar"
           }
          ],
          "barpolar": [
           {
            "marker": {
             "line": {
              "color": "#E5ECF6",
              "width": 0.5
             },
             "pattern": {
              "fillmode": "overlay",
              "size": 10,
              "solidity": 0.2
             }
            },
            "type": "barpolar"
           }
          ],
          "carpet": [
           {
            "aaxis": {
             "endlinecolor": "#2a3f5f",
             "gridcolor": "white",
             "linecolor": "white",
             "minorgridcolor": "white",
             "startlinecolor": "#2a3f5f"
            },
            "baxis": {
             "endlinecolor": "#2a3f5f",
             "gridcolor": "white",
             "linecolor": "white",
             "minorgridcolor": "white",
             "startlinecolor": "#2a3f5f"
            },
            "type": "carpet"
           }
          ],
          "choropleth": [
           {
            "colorbar": {
             "outlinewidth": 0,
             "ticks": ""
            },
            "type": "choropleth"
           }
          ],
          "contour": [
           {
            "colorbar": {
             "outlinewidth": 0,
             "ticks": ""
            },
            "colorscale": [
             [
              0,
              "#0d0887"
             ],
             [
              0.1111111111111111,
              "#46039f"
             ],
             [
              0.2222222222222222,
              "#7201a8"
             ],
             [
              0.3333333333333333,
              "#9c179e"
             ],
             [
              0.4444444444444444,
              "#bd3786"
             ],
             [
              0.5555555555555556,
              "#d8576b"
             ],
             [
              0.6666666666666666,
              "#ed7953"
             ],
             [
              0.7777777777777778,
              "#fb9f3a"
             ],
             [
              0.8888888888888888,
              "#fdca26"
             ],
             [
              1,
              "#f0f921"
             ]
            ],
            "type": "contour"
           }
          ],
          "contourcarpet": [
           {
            "colorbar": {
             "outlinewidth": 0,
             "ticks": ""
            },
            "type": "contourcarpet"
           }
          ],
          "heatmap": [
           {
            "colorbar": {
             "outlinewidth": 0,
             "ticks": ""
            },
            "colorscale": [
             [
              0,
              "#0d0887"
             ],
             [
              0.1111111111111111,
              "#46039f"
             ],
             [
              0.2222222222222222,
              "#7201a8"
             ],
             [
              0.3333333333333333,
              "#9c179e"
             ],
             [
              0.4444444444444444,
              "#bd3786"
             ],
             [
              0.5555555555555556,
              "#d8576b"
             ],
             [
              0.6666666666666666,
              "#ed7953"
             ],
             [
              0.7777777777777778,
              "#fb9f3a"
             ],
             [
              0.8888888888888888,
              "#fdca26"
             ],
             [
              1,
              "#f0f921"
             ]
            ],
            "type": "heatmap"
           }
          ],
          "heatmapgl": [
           {
            "colorbar": {
             "outlinewidth": 0,
             "ticks": ""
            },
            "colorscale": [
             [
              0,
              "#0d0887"
             ],
             [
              0.1111111111111111,
              "#46039f"
             ],
             [
              0.2222222222222222,
              "#7201a8"
             ],
             [
              0.3333333333333333,
              "#9c179e"
             ],
             [
              0.4444444444444444,
              "#bd3786"
             ],
             [
              0.5555555555555556,
              "#d8576b"
             ],
             [
              0.6666666666666666,
              "#ed7953"
             ],
             [
              0.7777777777777778,
              "#fb9f3a"
             ],
             [
              0.8888888888888888,
              "#fdca26"
             ],
             [
              1,
              "#f0f921"
             ]
            ],
            "type": "heatmapgl"
           }
          ],
          "histogram": [
           {
            "marker": {
             "pattern": {
              "fillmode": "overlay",
              "size": 10,
              "solidity": 0.2
             }
            },
            "type": "histogram"
           }
          ],
          "histogram2d": [
           {
            "colorbar": {
             "outlinewidth": 0,
             "ticks": ""
            },
            "colorscale": [
             [
              0,
              "#0d0887"
             ],
             [
              0.1111111111111111,
              "#46039f"
             ],
             [
              0.2222222222222222,
              "#7201a8"
             ],
             [
              0.3333333333333333,
              "#9c179e"
             ],
             [
              0.4444444444444444,
              "#bd3786"
             ],
             [
              0.5555555555555556,
              "#d8576b"
             ],
             [
              0.6666666666666666,
              "#ed7953"
             ],
             [
              0.7777777777777778,
              "#fb9f3a"
             ],
             [
              0.8888888888888888,
              "#fdca26"
             ],
             [
              1,
              "#f0f921"
             ]
            ],
            "type": "histogram2d"
           }
          ],
          "histogram2dcontour": [
           {
            "colorbar": {
             "outlinewidth": 0,
             "ticks": ""
            },
            "colorscale": [
             [
              0,
              "#0d0887"
             ],
             [
              0.1111111111111111,
              "#46039f"
             ],
             [
              0.2222222222222222,
              "#7201a8"
             ],
             [
              0.3333333333333333,
              "#9c179e"
             ],
             [
              0.4444444444444444,
              "#bd3786"
             ],
             [
              0.5555555555555556,
              "#d8576b"
             ],
             [
              0.6666666666666666,
              "#ed7953"
             ],
             [
              0.7777777777777778,
              "#fb9f3a"
             ],
             [
              0.8888888888888888,
              "#fdca26"
             ],
             [
              1,
              "#f0f921"
             ]
            ],
            "type": "histogram2dcontour"
           }
          ],
          "mesh3d": [
           {
            "colorbar": {
             "outlinewidth": 0,
             "ticks": ""
            },
            "type": "mesh3d"
           }
          ],
          "parcoords": [
           {
            "line": {
             "colorbar": {
              "outlinewidth": 0,
              "ticks": ""
             }
            },
            "type": "parcoords"
           }
          ],
          "pie": [
           {
            "automargin": true,
            "type": "pie"
           }
          ],
          "scatter": [
           {
            "fillpattern": {
             "fillmode": "overlay",
             "size": 10,
             "solidity": 0.2
            },
            "type": "scatter"
           }
          ],
          "scatter3d": [
           {
            "line": {
             "colorbar": {
              "outlinewidth": 0,
              "ticks": ""
             }
            },
            "marker": {
             "colorbar": {
              "outlinewidth": 0,
              "ticks": ""
             }
            },
            "type": "scatter3d"
           }
          ],
          "scattercarpet": [
           {
            "marker": {
             "colorbar": {
              "outlinewidth": 0,
              "ticks": ""
             }
            },
            "type": "scattercarpet"
           }
          ],
          "scattergeo": [
           {
            "marker": {
             "colorbar": {
              "outlinewidth": 0,
              "ticks": ""
             }
            },
            "type": "scattergeo"
           }
          ],
          "scattergl": [
           {
            "marker": {
             "colorbar": {
              "outlinewidth": 0,
              "ticks": ""
             }
            },
            "type": "scattergl"
           }
          ],
          "scattermapbox": [
           {
            "marker": {
             "colorbar": {
              "outlinewidth": 0,
              "ticks": ""
             }
            },
            "type": "scattermapbox"
           }
          ],
          "scatterpolar": [
           {
            "marker": {
             "colorbar": {
              "outlinewidth": 0,
              "ticks": ""
             }
            },
            "type": "scatterpolar"
           }
          ],
          "scatterpolargl": [
           {
            "marker": {
             "colorbar": {
              "outlinewidth": 0,
              "ticks": ""
             }
            },
            "type": "scatterpolargl"
           }
          ],
          "scatterternary": [
           {
            "marker": {
             "colorbar": {
              "outlinewidth": 0,
              "ticks": ""
             }
            },
            "type": "scatterternary"
           }
          ],
          "surface": [
           {
            "colorbar": {
             "outlinewidth": 0,
             "ticks": ""
            },
            "colorscale": [
             [
              0,
              "#0d0887"
             ],
             [
              0.1111111111111111,
              "#46039f"
             ],
             [
              0.2222222222222222,
              "#7201a8"
             ],
             [
              0.3333333333333333,
              "#9c179e"
             ],
             [
              0.4444444444444444,
              "#bd3786"
             ],
             [
              0.5555555555555556,
              "#d8576b"
             ],
             [
              0.6666666666666666,
              "#ed7953"
             ],
             [
              0.7777777777777778,
              "#fb9f3a"
             ],
             [
              0.8888888888888888,
              "#fdca26"
             ],
             [
              1,
              "#f0f921"
             ]
            ],
            "type": "surface"
           }
          ],
          "table": [
           {
            "cells": {
             "fill": {
              "color": "#EBF0F8"
             },
             "line": {
              "color": "white"
             }
            },
            "header": {
             "fill": {
              "color": "#C8D4E3"
             },
             "line": {
              "color": "white"
             }
            },
            "type": "table"
           }
          ]
         },
         "layout": {
          "annotationdefaults": {
           "arrowcolor": "#2a3f5f",
           "arrowhead": 0,
           "arrowwidth": 1
          },
          "autotypenumbers": "strict",
          "coloraxis": {
           "colorbar": {
            "outlinewidth": 0,
            "ticks": ""
           }
          },
          "colorscale": {
           "diverging": [
            [
             0,
             "#8e0152"
            ],
            [
             0.1,
             "#c51b7d"
            ],
            [
             0.2,
             "#de77ae"
            ],
            [
             0.3,
             "#f1b6da"
            ],
            [
             0.4,
             "#fde0ef"
            ],
            [
             0.5,
             "#f7f7f7"
            ],
            [
             0.6,
             "#e6f5d0"
            ],
            [
             0.7,
             "#b8e186"
            ],
            [
             0.8,
             "#7fbc41"
            ],
            [
             0.9,
             "#4d9221"
            ],
            [
             1,
             "#276419"
            ]
           ],
           "sequential": [
            [
             0,
             "#0d0887"
            ],
            [
             0.1111111111111111,
             "#46039f"
            ],
            [
             0.2222222222222222,
             "#7201a8"
            ],
            [
             0.3333333333333333,
             "#9c179e"
            ],
            [
             0.4444444444444444,
             "#bd3786"
            ],
            [
             0.5555555555555556,
             "#d8576b"
            ],
            [
             0.6666666666666666,
             "#ed7953"
            ],
            [
             0.7777777777777778,
             "#fb9f3a"
            ],
            [
             0.8888888888888888,
             "#fdca26"
            ],
            [
             1,
             "#f0f921"
            ]
           ],
           "sequentialminus": [
            [
             0,
             "#0d0887"
            ],
            [
             0.1111111111111111,
             "#46039f"
            ],
            [
             0.2222222222222222,
             "#7201a8"
            ],
            [
             0.3333333333333333,
             "#9c179e"
            ],
            [
             0.4444444444444444,
             "#bd3786"
            ],
            [
             0.5555555555555556,
             "#d8576b"
            ],
            [
             0.6666666666666666,
             "#ed7953"
            ],
            [
             0.7777777777777778,
             "#fb9f3a"
            ],
            [
             0.8888888888888888,
             "#fdca26"
            ],
            [
             1,
             "#f0f921"
            ]
           ]
          },
          "colorway": [
           "#636efa",
           "#EF553B",
           "#00cc96",
           "#ab63fa",
           "#FFA15A",
           "#19d3f3",
           "#FF6692",
           "#B6E880",
           "#FF97FF",
           "#FECB52"
          ],
          "font": {
           "color": "#2a3f5f"
          },
          "geo": {
           "bgcolor": "white",
           "lakecolor": "white",
           "landcolor": "#E5ECF6",
           "showlakes": true,
           "showland": true,
           "subunitcolor": "white"
          },
          "hoverlabel": {
           "align": "left"
          },
          "hovermode": "closest",
          "mapbox": {
           "style": "light"
          },
          "paper_bgcolor": "white",
          "plot_bgcolor": "#E5ECF6",
          "polar": {
           "angularaxis": {
            "gridcolor": "white",
            "linecolor": "white",
            "ticks": ""
           },
           "bgcolor": "#E5ECF6",
           "radialaxis": {
            "gridcolor": "white",
            "linecolor": "white",
            "ticks": ""
           }
          },
          "scene": {
           "xaxis": {
            "backgroundcolor": "#E5ECF6",
            "gridcolor": "white",
            "gridwidth": 2,
            "linecolor": "white",
            "showbackground": true,
            "ticks": "",
            "zerolinecolor": "white"
           },
           "yaxis": {
            "backgroundcolor": "#E5ECF6",
            "gridcolor": "white",
            "gridwidth": 2,
            "linecolor": "white",
            "showbackground": true,
            "ticks": "",
            "zerolinecolor": "white"
           },
           "zaxis": {
            "backgroundcolor": "#E5ECF6",
            "gridcolor": "white",
            "gridwidth": 2,
            "linecolor": "white",
            "showbackground": true,
            "ticks": "",
            "zerolinecolor": "white"
           }
          },
          "shapedefaults": {
           "line": {
            "color": "#2a3f5f"
           }
          },
          "ternary": {
           "aaxis": {
            "gridcolor": "white",
            "linecolor": "white",
            "ticks": ""
           },
           "baxis": {
            "gridcolor": "white",
            "linecolor": "white",
            "ticks": ""
           },
           "bgcolor": "#E5ECF6",
           "caxis": {
            "gridcolor": "white",
            "linecolor": "white",
            "ticks": ""
           }
          },
          "title": {
           "x": 0.05
          },
          "xaxis": {
           "automargin": true,
           "gridcolor": "white",
           "linecolor": "white",
           "ticks": "",
           "title": {
            "standoff": 15
           },
           "zerolinecolor": "white",
           "zerolinewidth": 2
          },
          "yaxis": {
           "automargin": true,
           "gridcolor": "white",
           "linecolor": "white",
           "ticks": "",
           "title": {
            "standoff": 15
           },
           "zerolinecolor": "white",
           "zerolinewidth": 2
          }
         }
        },
        "xaxis": {
         "autorange": true,
         "range": [
          0.6216216216216216,
          7.378378378378378
         ],
         "type": "linear"
        },
        "yaxis": {
         "autorange": true,
         "range": [
          -0.4951456310679611,
          6.495145631067961
         ]
        }
       }
      },
      "image/png": "[encoded data removed]",
      "text/html": [
       "<div>                            <div id=\"b58ba1ec-52eb-4aeb-ba57-044c845be818\" class=\"plotly-graph-div\" style=\"height:525px; width:100%;\"></div>            <script type=\"text/javascript\">                require([\"plotly\"], function(Plotly) {                    window.PLOTLYENV=window.PLOTLYENV || {};                                    if (document.getElementById(\"b58ba1ec-52eb-4aeb-ba57-044c845be818\")) {                    Plotly.newPlot(                        \"b58ba1ec-52eb-4aeb-ba57-044c845be818\",                        [{\"mode\":\"markers\",\"x\":[1,2,3,4,5,6,7],\"type\":\"scatter\"}],                        {\"template\":{\"data\":{\"histogram2dcontour\":[{\"type\":\"histogram2dcontour\",\"colorbar\":{\"outlinewidth\":0,\"ticks\":\"\"},\"colorscale\":[[0.0,\"#0d0887\"],[0.1111111111111111,\"#46039f\"],[0.2222222222222222,\"#7201a8\"],[0.3333333333333333,\"#9c179e\"],[0.4444444444444444,\"#bd3786\"],[0.5555555555555556,\"#d8576b\"],[0.6666666666666666,\"#ed7953\"],[0.7777777777777778,\"#fb9f3a\"],[0.8888888888888888,\"#fdca26\"],[1.0,\"#f0f921\"]]}],\"choropleth\":[{\"type\":\"choropleth\",\"colorbar\":{\"outlinewidth\":0,\"ticks\":\"\"}}],\"histogram2d\":[{\"type\":\"histogram2d\",\"colorbar\":{\"outlinewidth\":0,\"ticks\":\"\"},\"colorscale\":[[0.0,\"#0d0887\"],[0.1111111111111111,\"#46039f\"],[0.2222222222222222,\"#7201a8\"],[0.3333333333333333,\"#9c179e\"],[0.4444444444444444,\"#bd3786\"],[0.5555555555555556,\"#d8576b\"],[0.6666666666666666,\"#ed7953\"],[0.7777777777777778,\"#fb9f3a\"],[0.8888888888888888,\"#fdca26\"],[1.0,\"#f0f921\"]]}],\"heatmap\":[{\"type\":\"heatmap\",\"colorbar\":{\"outlinewidth\":0,\"ticks\":\"\"},\"colorscale\":[[0.0,\"#0d0887\"],[0.1111111111111111,\"#46039f\"],[0.2222222222222222,\"#7201a8\"],[0.3333333333333333,\"#9c179e\"],[0.4444444444444444,\"#bd3786\"],[0.5555555555555556,\"#d8576b\"],[0.6666666666666666,\"#ed7953\"],[0.7777777777777778,\"#fb9f3a\"],[0.8888888888888888,\"#fdca26\"],[1.0,\"#f0f921\"]]}],\"heatmapgl\":[{\"type\":\"heatmapgl\",\"colorbar\":{\"outlinewidth\":0,\"ticks\":\"\"},\"colorscale\":[[0.0,\"#0d0887\"],[0.1111111111111111,\"#46039f\"],[0.2222222222222222,\"#7201a8\"],[0.3333333333333333,\"#9c179e\"],[0.4444444444444444,\"#bd3786\"],[0.5555555555555556,\"#d8576b\"],[0.6666666666666666,\"#ed7953\"],[0.7777777777777778,\"#fb9f3a\"],[0.8888888888888888,\"#fdca26\"],[1.0,\"#f0f921\"]]}],\"contourcarpet\":[{\"type\":\"contourcarpet\",\"colorbar\":{\"outlinewidth\":0,\"ticks\":\"\"}}],\"contour\":[{\"type\":\"contour\",\"colorbar\":{\"outlinewidth\":0,\"ticks\":\"\"},\"colorscale\":[[0.0,\"#0d0887\"],[0.1111111111111111,\"#46039f\"],[0.2222222222222222,\"#7201a8\"],[0.3333333333333333,\"#9c179e\"],[0.4444444444444444,\"#bd3786\"],[0.5555555555555556,\"#d8576b\"],[0.6666666666666666,\"#ed7953\"],[0.7777777777777778,\"#fb9f3a\"],[0.8888888888888888,\"#fdca26\"],[1.0,\"#f0f921\"]]}],\"surface\":[{\"type\":\"surface\",\"colorbar\":{\"outlinewidth\":0,\"ticks\":\"\"},\"colorscale\":[[0.0,\"#0d0887\"],[0.1111111111111111,\"#46039f\"],[0.2222222222222222,\"#7201a8\"],[0.3333333333333333,\"#9c179e\"],[0.4444444444444444,\"#bd3786\"],[0.5555555555555556,\"#d8576b\"],[0.6666666666666666,\"#ed7953\"],[0.7777777777777778,\"#fb9f3a\"],[0.8888888888888888,\"#fdca26\"],[1.0,\"#f0f921\"]]}],\"mesh3d\":[{\"type\":\"mesh3d\",\"colorbar\":{\"outlinewidth\":0,\"ticks\":\"\"}}],\"scatter\":[{\"fillpattern\":{\"fillmode\":\"overlay\",\"size\":10,\"solidity\":0.2},\"type\":\"scatter\"}],\"parcoords\":[{\"type\":\"parcoords\",\"line\":{\"colorbar\":{\"outlinewidth\":0,\"ticks\":\"\"}}}],\"scatterpolargl\":[{\"type\":\"scatterpolargl\",\"marker\":{\"colorbar\":{\"outlinewidth\":0,\"ticks\":\"\"}}}],\"bar\":[{\"error_x\":{\"color\":\"#2a3f5f\"},\"error_y\":{\"color\":\"#2a3f5f\"},\"marker\":{\"line\":{\"color\":\"#E5ECF6\",\"width\":0.5},\"pattern\":{\"fillmode\":\"overlay\",\"size\":10,\"solidity\":0.2}},\"type\":\"bar\"}],\"scattergeo\":[{\"type\":\"scattergeo\",\"marker\":{\"colorbar\":{\"outlinewidth\":0,\"ticks\":\"\"}}}],\"scatterpolar\":[{\"type\":\"scatterpolar\",\"marker\":{\"colorbar\":{\"outlinewidth\":0,\"ticks\":\"\"}}}],\"histogram\":[{\"marker\":{\"pattern\":{\"fillmode\":\"overlay\",\"size\":10,\"solidity\":0.2}},\"type\":\"histogram\"}],\"scattergl\":[{\"type\":\"scattergl\",\"marker\":{\"colorbar\":{\"outlinewidth\":0,\"ticks\":\"\"}}}],\"scatter3d\":[{\"type\":\"scatter3d\",\"line\":{\"colorbar\":{\"outlinewidth\":0,\"ticks\":\"\"}},\"marker\":{\"colorbar\":{\"outlinewidth\":0,\"ticks\":\"\"}}}],\"scattermapbox\":[{\"type\":\"scattermapbox\",\"marker\":{\"colorbar\":{\"outlinewidth\":0,\"ticks\":\"\"}}}],\"scatterternary\":[{\"type\":\"scatterternary\",\"marker\":{\"colorbar\":{\"outlinewidth\":0,\"ticks\":\"\"}}}],\"scattercarpet\":[{\"type\":\"scattercarpet\",\"marker\":{\"colorbar\":{\"outlinewidth\":0,\"ticks\":\"\"}}}],\"carpet\":[{\"aaxis\":{\"endlinecolor\":\"#2a3f5f\",\"gridcolor\":\"white\",\"linecolor\":\"white\",\"minorgridcolor\":\"white\",\"startlinecolor\":\"#2a3f5f\"},\"baxis\":{\"endlinecolor\":\"#2a3f5f\",\"gridcolor\":\"white\",\"linecolor\":\"white\",\"minorgridcolor\":\"white\",\"startlinecolor\":\"#2a3f5f\"},\"type\":\"carpet\"}],\"table\":[{\"cells\":{\"fill\":{\"color\":\"#EBF0F8\"},\"line\":{\"color\":\"white\"}},\"header\":{\"fill\":{\"color\":\"#C8D4E3\"},\"line\":{\"color\":\"white\"}},\"type\":\"table\"}],\"barpolar\":[{\"marker\":{\"line\":{\"color\":\"#E5ECF6\",\"width\":0.5},\"pattern\":{\"fillmode\":\"overlay\",\"size\":10,\"solidity\":0.2}},\"type\":\"barpolar\"}],\"pie\":[{\"automargin\":true,\"type\":\"pie\"}]},\"layout\":{\"autotypenumbers\":\"strict\",\"colorway\":[\"#636efa\",\"#EF553B\",\"#00cc96\",\"#ab63fa\",\"#FFA15A\",\"#19d3f3\",\"#FF6692\",\"#B6E880\",\"#FF97FF\",\"#FECB52\"],\"font\":{\"color\":\"#2a3f5f\"},\"hovermode\":\"closest\",\"hoverlabel\":{\"align\":\"left\"},\"paper_bgcolor\":\"white\",\"plot_bgcolor\":\"#E5ECF6\",\"polar\":{\"bgcolor\":\"#E5ECF6\",\"angularaxis\":{\"gridcolor\":\"white\",\"linecolor\":\"white\",\"ticks\":\"\"},\"radialaxis\":{\"gridcolor\":\"white\",\"linecolor\":\"white\",\"ticks\":\"\"}},\"ternary\":{\"bgcolor\":\"#E5ECF6\",\"aaxis\":{\"gridcolor\":\"white\",\"linecolor\":\"white\",\"ticks\":\"\"},\"baxis\":{\"gridcolor\":\"white\",\"linecolor\":\"white\",\"ticks\":\"\"},\"caxis\":{\"gridcolor\":\"white\",\"linecolor\":\"white\",\"ticks\":\"\"}},\"coloraxis\":{\"colorbar\":{\"outlinewidth\":0,\"ticks\":\"\"}},\"colorscale\":{\"sequential\":[[0.0,\"#0d0887\"],[0.1111111111111111,\"#46039f\"],[0.2222222222222222,\"#7201a8\"],[0.3333333333333333,\"#9c179e\"],[0.4444444444444444,\"#bd3786\"],[0.5555555555555556,\"#d8576b\"],[0.6666666666666666,\"#ed7953\"],[0.7777777777777778,\"#fb9f3a\"],[0.8888888888888888,\"#fdca26\"],[1.0,\"#f0f921\"]],\"sequentialminus\":[[0.0,\"#0d0887\"],[0.1111111111111111,\"#46039f\"],[0.2222222222222222,\"#7201a8\"],[0.3333333333333333,\"#9c179e\"],[0.4444444444444444,\"#bd3786\"],[0.5555555555555556,\"#d8576b\"],[0.6666666666666666,\"#ed7953\"],[0.7777777777777778,\"#fb9f3a\"],[0.8888888888888888,\"#fdca26\"],[1.0,\"#f0f921\"]],\"diverging\":[[0,\"#8e0152\"],[0.1,\"#c51b7d\"],[0.2,\"#de77ae\"],[0.3,\"#f1b6da\"],[0.4,\"#fde0ef\"],[0.5,\"#f7f7f7\"],[0.6,\"#e6f5d0\"],[0.7,\"#b8e186\"],[0.8,\"#7fbc41\"],[0.9,\"#4d9221\"],[1,\"#276419\"]]},\"xaxis\":{\"gridcolor\":\"white\",\"linecolor\":\"white\",\"ticks\":\"\",\"title\":{\"standoff\":15},\"zerolinecolor\":\"white\",\"automargin\":true,\"zerolinewidth\":2},\"yaxis\":{\"gridcolor\":\"white\",\"linecolor\":\"white\",\"ticks\":\"\",\"title\":{\"standoff\":15},\"zerolinecolor\":\"white\",\"automargin\":true,\"zerolinewidth\":2},\"scene\":{\"xaxis\":{\"backgroundcolor\":\"#E5ECF6\",\"gridcolor\":\"white\",\"linecolor\":\"white\",\"showbackground\":true,\"ticks\":\"\",\"zerolinecolor\":\"white\",\"gridwidth\":2},\"yaxis\":{\"backgroundcolor\":\"#E5ECF6\",\"gridcolor\":\"white\",\"linecolor\":\"white\",\"showbackground\":true,\"ticks\":\"\",\"zerolinecolor\":\"white\",\"gridwidth\":2},\"zaxis\":{\"backgroundcolor\":\"#E5ECF6\",\"gridcolor\":\"white\",\"linecolor\":\"white\",\"showbackground\":true,\"ticks\":\"\",\"zerolinecolor\":\"white\",\"gridwidth\":2}},\"shapedefaults\":{\"line\":{\"color\":\"#2a3f5f\"}},\"annotationdefaults\":{\"arrowcolor\":\"#2a3f5f\",\"arrowhead\":0,\"arrowwidth\":1},\"geo\":{\"bgcolor\":\"white\",\"landcolor\":\"#E5ECF6\",\"subunitcolor\":\"white\",\"showland\":true,\"showlakes\":true,\"lakecolor\":\"white\"},\"title\":{\"x\":0.05},\"mapbox\":{\"style\":\"light\"}}}},                        {\"responsive\": true}                    ).then(function(){\n",
       "                            \n",
       "var gd = document.getElementById('b58ba1ec-52eb-4aeb-ba57-044c845be818');\n",
       "var x = new MutationObserver(function (mutations, observer) {{\n",
       "        var display = window.getComputedStyle(gd).display;\n",
       "        if (!display || display === 'none') {{\n",
       "            console.log([gd, 'removed!']);\n",
       "            Plotly.purge(gd);\n",
       "            observer.disconnect();\n",
       "        }}\n",
       "}});\n",
       "\n",
       "// Listen for the removal of the full notebook cells\n",
       "var notebookContainer = gd.closest('#notebook-container');\n",
       "if (notebookContainer) {{\n",
       "    x.observe(notebookContainer, {childList: true});\n",
       "}}\n",
       "\n",
       "// Listen for the clearing of the current output cell\n",
       "var outputEl = gd.closest('.output');\n",
       "if (outputEl) {{\n",
       "    x.observe(outputEl, {childList: true});\n",
       "}}\n",
       "\n",
       "                        })                };                });            </script>        </div>"
      ]
     },
     "metadata": {},
     "output_type": "display_data"
    }
   ],
   "source": [
    "fig"
   ]
  },
  {
   "cell_type": "code",
   "execution_count": 27,
   "id": "61161911-ac53-4dce-a2b3-0ad08dac3f72",
   "metadata": {},
   "outputs": [
    {
     "data": {
      "application/vnd.plotly.v1+json": {
       "config": {
        "plotlyServerURL": "https://plot.ly"
       },
       "data": [
        {
         "type": "histogram",
         "x": [
          1,
          1,
          1,
          1,
          1,
          2,
          3,
          4,
          5,
          3,
          2,
          3,
          2,
          3,
          3,
          2,
          1,
          1
         ]
        }
       ],
       "layout": {
        "autosize": true,
        "template": {
         "data": {
          "bar": [
           {
            "error_x": {
             "color": "#2a3f5f"
            },
            "error_y": {
             "color": "#2a3f5f"
            },
            "marker": {
             "line": {
              "color": "#E5ECF6",
              "width": 0.5
             },
             "pattern": {
              "fillmode": "overlay",
              "size": 10,
              "solidity": 0.2
             }
            },
            "type": "bar"
           }
          ],
          "barpolar": [
           {
            "marker": {
             "line": {
              "color": "#E5ECF6",
              "width": 0.5
             },
             "pattern": {
              "fillmode": "overlay",
              "size": 10,
              "solidity": 0.2
             }
            },
            "type": "barpolar"
           }
          ],
          "carpet": [
           {
            "aaxis": {
             "endlinecolor": "#2a3f5f",
             "gridcolor": "white",
             "linecolor": "white",
             "minorgridcolor": "white",
             "startlinecolor": "#2a3f5f"
            },
            "baxis": {
             "endlinecolor": "#2a3f5f",
             "gridcolor": "white",
             "linecolor": "white",
             "minorgridcolor": "white",
             "startlinecolor": "#2a3f5f"
            },
            "type": "carpet"
           }
          ],
          "choropleth": [
           {
            "colorbar": {
             "outlinewidth": 0,
             "ticks": ""
            },
            "type": "choropleth"
           }
          ],
          "contour": [
           {
            "colorbar": {
             "outlinewidth": 0,
             "ticks": ""
            },
            "colorscale": [
             [
              0,
              "#0d0887"
             ],
             [
              0.1111111111111111,
              "#46039f"
             ],
             [
              0.2222222222222222,
              "#7201a8"
             ],
             [
              0.3333333333333333,
              "#9c179e"
             ],
             [
              0.4444444444444444,
              "#bd3786"
             ],
             [
              0.5555555555555556,
              "#d8576b"
             ],
             [
              0.6666666666666666,
              "#ed7953"
             ],
             [
              0.7777777777777778,
              "#fb9f3a"
             ],
             [
              0.8888888888888888,
              "#fdca26"
             ],
             [
              1,
              "#f0f921"
             ]
            ],
            "type": "contour"
           }
          ],
          "contourcarpet": [
           {
            "colorbar": {
             "outlinewidth": 0,
             "ticks": ""
            },
            "type": "contourcarpet"
           }
          ],
          "heatmap": [
           {
            "colorbar": {
             "outlinewidth": 0,
             "ticks": ""
            },
            "colorscale": [
             [
              0,
              "#0d0887"
             ],
             [
              0.1111111111111111,
              "#46039f"
             ],
             [
              0.2222222222222222,
              "#7201a8"
             ],
             [
              0.3333333333333333,
              "#9c179e"
             ],
             [
              0.4444444444444444,
              "#bd3786"
             ],
             [
              0.5555555555555556,
              "#d8576b"
             ],
             [
              0.6666666666666666,
              "#ed7953"
             ],
             [
              0.7777777777777778,
              "#fb9f3a"
             ],
             [
              0.8888888888888888,
              "#fdca26"
             ],
             [
              1,
              "#f0f921"
             ]
            ],
            "type": "heatmap"
           }
          ],
          "heatmapgl": [
           {
            "colorbar": {
             "outlinewidth": 0,
             "ticks": ""
            },
            "colorscale": [
             [
              0,
              "#0d0887"
             ],
             [
              0.1111111111111111,
              "#46039f"
             ],
             [
              0.2222222222222222,
              "#7201a8"
             ],
             [
              0.3333333333333333,
              "#9c179e"
             ],
             [
              0.4444444444444444,
              "#bd3786"
             ],
             [
              0.5555555555555556,
              "#d8576b"
             ],
             [
              0.6666666666666666,
              "#ed7953"
             ],
             [
              0.7777777777777778,
              "#fb9f3a"
             ],
             [
              0.8888888888888888,
              "#fdca26"
             ],
             [
              1,
              "#f0f921"
             ]
            ],
            "type": "heatmapgl"
           }
          ],
          "histogram": [
           {
            "marker": {
             "pattern": {
              "fillmode": "overlay",
              "size": 10,
              "solidity": 0.2
             }
            },
            "type": "histogram"
           }
          ],
          "histogram2d": [
           {
            "colorbar": {
             "outlinewidth": 0,
             "ticks": ""
            },
            "colorscale": [
             [
              0,
              "#0d0887"
             ],
             [
              0.1111111111111111,
              "#46039f"
             ],
             [
              0.2222222222222222,
              "#7201a8"
             ],
             [
              0.3333333333333333,
              "#9c179e"
             ],
             [
              0.4444444444444444,
              "#bd3786"
             ],
             [
              0.5555555555555556,
              "#d8576b"
             ],
             [
              0.6666666666666666,
              "#ed7953"
             ],
             [
              0.7777777777777778,
              "#fb9f3a"
             ],
             [
              0.8888888888888888,
              "#fdca26"
             ],
             [
              1,
              "#f0f921"
             ]
            ],
            "type": "histogram2d"
           }
          ],
          "histogram2dcontour": [
           {
            "colorbar": {
             "outlinewidth": 0,
             "ticks": ""
            },
            "colorscale": [
             [
              0,
              "#0d0887"
             ],
             [
              0.1111111111111111,
              "#46039f"
             ],
             [
              0.2222222222222222,
              "#7201a8"
             ],
             [
              0.3333333333333333,
              "#9c179e"
             ],
             [
              0.4444444444444444,
              "#bd3786"
             ],
             [
              0.5555555555555556,
              "#d8576b"
             ],
             [
              0.6666666666666666,
              "#ed7953"
             ],
             [
              0.7777777777777778,
              "#fb9f3a"
             ],
             [
              0.8888888888888888,
              "#fdca26"
             ],
             [
              1,
              "#f0f921"
             ]
            ],
            "type": "histogram2dcontour"
           }
          ],
          "mesh3d": [
           {
            "colorbar": {
             "outlinewidth": 0,
             "ticks": ""
            },
            "type": "mesh3d"
           }
          ],
          "parcoords": [
           {
            "line": {
             "colorbar": {
              "outlinewidth": 0,
              "ticks": ""
             }
            },
            "type": "parcoords"
           }
          ],
          "pie": [
           {
            "automargin": true,
            "type": "pie"
           }
          ],
          "scatter": [
           {
            "fillpattern": {
             "fillmode": "overlay",
             "size": 10,
             "solidity": 0.2
            },
            "type": "scatter"
           }
          ],
          "scatter3d": [
           {
            "line": {
             "colorbar": {
              "outlinewidth": 0,
              "ticks": ""
             }
            },
            "marker": {
             "colorbar": {
              "outlinewidth": 0,
              "ticks": ""
             }
            },
            "type": "scatter3d"
           }
          ],
          "scattercarpet": [
           {
            "marker": {
             "colorbar": {
              "outlinewidth": 0,
              "ticks": ""
             }
            },
            "type": "scattercarpet"
           }
          ],
          "scattergeo": [
           {
            "marker": {
             "colorbar": {
              "outlinewidth": 0,
              "ticks": ""
             }
            },
            "type": "scattergeo"
           }
          ],
          "scattergl": [
           {
            "marker": {
             "colorbar": {
              "outlinewidth": 0,
              "ticks": ""
             }
            },
            "type": "scattergl"
           }
          ],
          "scattermapbox": [
           {
            "marker": {
             "colorbar": {
              "outlinewidth": 0,
              "ticks": ""
             }
            },
            "type": "scattermapbox"
           }
          ],
          "scatterpolar": [
           {
            "marker": {
             "colorbar": {
              "outlinewidth": 0,
              "ticks": ""
             }
            },
            "type": "scatterpolar"
           }
          ],
          "scatterpolargl": [
           {
            "marker": {
             "colorbar": {
              "outlinewidth": 0,
              "ticks": ""
             }
            },
            "type": "scatterpolargl"
           }
          ],
          "scatterternary": [
           {
            "marker": {
             "colorbar": {
              "outlinewidth": 0,
              "ticks": ""
             }
            },
            "type": "scatterternary"
           }
          ],
          "surface": [
           {
            "colorbar": {
             "outlinewidth": 0,
             "ticks": ""
            },
            "colorscale": [
             [
              0,
              "#0d0887"
             ],
             [
              0.1111111111111111,
              "#46039f"
             ],
             [
              0.2222222222222222,
              "#7201a8"
             ],
             [
              0.3333333333333333,
              "#9c179e"
             ],
             [
              0.4444444444444444,
              "#bd3786"
             ],
             [
              0.5555555555555556,
              "#d8576b"
             ],
             [
              0.6666666666666666,
              "#ed7953"
             ],
             [
              0.7777777777777778,
              "#fb9f3a"
             ],
             [
              0.8888888888888888,
              "#fdca26"
             ],
             [
              1,
              "#f0f921"
             ]
            ],
            "type": "surface"
           }
          ],
          "table": [
           {
            "cells": {
             "fill": {
              "color": "#EBF0F8"
             },
             "line": {
              "color": "white"
             }
            },
            "header": {
             "fill": {
              "color": "#C8D4E3"
             },
             "line": {
              "color": "white"
             }
            },
            "type": "table"
           }
          ]
         },
         "layout": {
          "annotationdefaults": {
           "arrowcolor": "#2a3f5f",
           "arrowhead": 0,
           "arrowwidth": 1
          },
          "autotypenumbers": "strict",
          "coloraxis": {
           "colorbar": {
            "outlinewidth": 0,
            "ticks": ""
           }
          },
          "colorscale": {
           "diverging": [
            [
             0,
             "#8e0152"
            ],
            [
             0.1,
             "#c51b7d"
            ],
            [
             0.2,
             "#de77ae"
            ],
            [
             0.3,
             "#f1b6da"
            ],
            [
             0.4,
             "#fde0ef"
            ],
            [
             0.5,
             "#f7f7f7"
            ],
            [
             0.6,
             "#e6f5d0"
            ],
            [
             0.7,
             "#b8e186"
            ],
            [
             0.8,
             "#7fbc41"
            ],
            [
             0.9,
             "#4d9221"
            ],
            [
             1,
             "#276419"
            ]
           ],
           "sequential": [
            [
             0,
             "#0d0887"
            ],
            [
             0.1111111111111111,
             "#46039f"
            ],
            [
             0.2222222222222222,
             "#7201a8"
            ],
            [
             0.3333333333333333,
             "#9c179e"
            ],
            [
             0.4444444444444444,
             "#bd3786"
            ],
            [
             0.5555555555555556,
             "#d8576b"
            ],
            [
             0.6666666666666666,
             "#ed7953"
            ],
            [
             0.7777777777777778,
             "#fb9f3a"
            ],
            [
             0.8888888888888888,
             "#fdca26"
            ],
            [
             1,
             "#f0f921"
            ]
           ],
           "sequentialminus": [
            [
             0,
             "#0d0887"
            ],
            [
             0.1111111111111111,
             "#46039f"
            ],
            [
             0.2222222222222222,
             "#7201a8"
            ],
            [
             0.3333333333333333,
             "#9c179e"
            ],
            [
             0.4444444444444444,
             "#bd3786"
            ],
            [
             0.5555555555555556,
             "#d8576b"
            ],
            [
             0.6666666666666666,
             "#ed7953"
            ],
            [
             0.7777777777777778,
             "#fb9f3a"
            ],
            [
             0.8888888888888888,
             "#fdca26"
            ],
            [
             1,
             "#f0f921"
            ]
           ]
          },
          "colorway": [
           "#636efa",
           "#EF553B",
           "#00cc96",
           "#ab63fa",
           "#FFA15A",
           "#19d3f3",
           "#FF6692",
           "#B6E880",
           "#FF97FF",
           "#FECB52"
          ],
          "font": {
           "color": "#2a3f5f"
          },
          "geo": {
           "bgcolor": "white",
           "lakecolor": "white",
           "landcolor": "#E5ECF6",
           "showlakes": true,
           "showland": true,
           "subunitcolor": "white"
          },
          "hoverlabel": {
           "align": "left"
          },
          "hovermode": "closest",
          "mapbox": {
           "style": "light"
          },
          "paper_bgcolor": "white",
          "plot_bgcolor": "#E5ECF6",
          "polar": {
           "angularaxis": {
            "gridcolor": "white",
            "linecolor": "white",
            "ticks": ""
           },
           "bgcolor": "#E5ECF6",
           "radialaxis": {
            "gridcolor": "white",
            "linecolor": "white",
            "ticks": ""
           }
          },
          "scene": {
           "xaxis": {
            "backgroundcolor": "#E5ECF6",
            "gridcolor": "white",
            "gridwidth": 2,
            "linecolor": "white",
            "showbackground": true,
            "ticks": "",
            "zerolinecolor": "white"
           },
           "yaxis": {
            "backgroundcolor": "#E5ECF6",
            "gridcolor": "white",
            "gridwidth": 2,
            "linecolor": "white",
            "showbackground": true,
            "ticks": "",
            "zerolinecolor": "white"
           },
           "zaxis": {
            "backgroundcolor": "#E5ECF6",
            "gridcolor": "white",
            "gridwidth": 2,
            "linecolor": "white",
            "showbackground": true,
            "ticks": "",
            "zerolinecolor": "white"
           }
          },
          "shapedefaults": {
           "line": {
            "color": "#2a3f5f"
           }
          },
          "ternary": {
           "aaxis": {
            "gridcolor": "white",
            "linecolor": "white",
            "ticks": ""
           },
           "baxis": {
            "gridcolor": "white",
            "linecolor": "white",
            "ticks": ""
           },
           "bgcolor": "#E5ECF6",
           "caxis": {
            "gridcolor": "white",
            "linecolor": "white",
            "ticks": ""
           }
          },
          "title": {
           "x": 0.05
          },
          "xaxis": {
           "automargin": true,
           "gridcolor": "white",
           "linecolor": "white",
           "ticks": "",
           "title": {
            "standoff": 15
           },
           "zerolinecolor": "white",
           "zerolinewidth": 2
          },
          "yaxis": {
           "automargin": true,
           "gridcolor": "white",
           "linecolor": "white",
           "ticks": "",
           "title": {
            "standoff": 15
           },
           "zerolinecolor": "white",
           "zerolinewidth": 2
          }
         }
        },
        "xaxis": {
         "autorange": true,
         "range": [
          0.5,
          5.5
         ],
         "type": "linear"
        },
        "yaxis": {
         "autorange": true,
         "range": [
          0,
          7.368421052631579
         ]
        }
       }
      },
      "image/png": "[encoded data removed]",
      "text/html": [
       "<div>                            <div id=\"d3c674be-fdb8-4a1b-bdc7-e26186277f3e\" class=\"plotly-graph-div\" style=\"height:525px; width:100%;\"></div>            <script type=\"text/javascript\">                require([\"plotly\"], function(Plotly) {                    window.PLOTLYENV=window.PLOTLYENV || {};                                    if (document.getElementById(\"d3c674be-fdb8-4a1b-bdc7-e26186277f3e\")) {                    Plotly.newPlot(                        \"d3c674be-fdb8-4a1b-bdc7-e26186277f3e\",                        [{\"x\":[1,1,1,1,1,2,3,4,5,3,2,3,2,3,3,2,1,1],\"type\":\"histogram\"}],                        {\"template\":{\"data\":{\"histogram2dcontour\":[{\"type\":\"histogram2dcontour\",\"colorbar\":{\"outlinewidth\":0,\"ticks\":\"\"},\"colorscale\":[[0.0,\"#0d0887\"],[0.1111111111111111,\"#46039f\"],[0.2222222222222222,\"#7201a8\"],[0.3333333333333333,\"#9c179e\"],[0.4444444444444444,\"#bd3786\"],[0.5555555555555556,\"#d8576b\"],[0.6666666666666666,\"#ed7953\"],[0.7777777777777778,\"#fb9f3a\"],[0.8888888888888888,\"#fdca26\"],[1.0,\"#f0f921\"]]}],\"choropleth\":[{\"type\":\"choropleth\",\"colorbar\":{\"outlinewidth\":0,\"ticks\":\"\"}}],\"histogram2d\":[{\"type\":\"histogram2d\",\"colorbar\":{\"outlinewidth\":0,\"ticks\":\"\"},\"colorscale\":[[0.0,\"#0d0887\"],[0.1111111111111111,\"#46039f\"],[0.2222222222222222,\"#7201a8\"],[0.3333333333333333,\"#9c179e\"],[0.4444444444444444,\"#bd3786\"],[0.5555555555555556,\"#d8576b\"],[0.6666666666666666,\"#ed7953\"],[0.7777777777777778,\"#fb9f3a\"],[0.8888888888888888,\"#fdca26\"],[1.0,\"#f0f921\"]]}],\"heatmap\":[{\"type\":\"heatmap\",\"colorbar\":{\"outlinewidth\":0,\"ticks\":\"\"},\"colorscale\":[[0.0,\"#0d0887\"],[0.1111111111111111,\"#46039f\"],[0.2222222222222222,\"#7201a8\"],[0.3333333333333333,\"#9c179e\"],[0.4444444444444444,\"#bd3786\"],[0.5555555555555556,\"#d8576b\"],[0.6666666666666666,\"#ed7953\"],[0.7777777777777778,\"#fb9f3a\"],[0.8888888888888888,\"#fdca26\"],[1.0,\"#f0f921\"]]}],\"heatmapgl\":[{\"type\":\"heatmapgl\",\"colorbar\":{\"outlinewidth\":0,\"ticks\":\"\"},\"colorscale\":[[0.0,\"#0d0887\"],[0.1111111111111111,\"#46039f\"],[0.2222222222222222,\"#7201a8\"],[0.3333333333333333,\"#9c179e\"],[0.4444444444444444,\"#bd3786\"],[0.5555555555555556,\"#d8576b\"],[0.6666666666666666,\"#ed7953\"],[0.7777777777777778,\"#fb9f3a\"],[0.8888888888888888,\"#fdca26\"],[1.0,\"#f0f921\"]]}],\"contourcarpet\":[{\"type\":\"contourcarpet\",\"colorbar\":{\"outlinewidth\":0,\"ticks\":\"\"}}],\"contour\":[{\"type\":\"contour\",\"colorbar\":{\"outlinewidth\":0,\"ticks\":\"\"},\"colorscale\":[[0.0,\"#0d0887\"],[0.1111111111111111,\"#46039f\"],[0.2222222222222222,\"#7201a8\"],[0.3333333333333333,\"#9c179e\"],[0.4444444444444444,\"#bd3786\"],[0.5555555555555556,\"#d8576b\"],[0.6666666666666666,\"#ed7953\"],[0.7777777777777778,\"#fb9f3a\"],[0.8888888888888888,\"#fdca26\"],[1.0,\"#f0f921\"]]}],\"surface\":[{\"type\":\"surface\",\"colorbar\":{\"outlinewidth\":0,\"ticks\":\"\"},\"colorscale\":[[0.0,\"#0d0887\"],[0.1111111111111111,\"#46039f\"],[0.2222222222222222,\"#7201a8\"],[0.3333333333333333,\"#9c179e\"],[0.4444444444444444,\"#bd3786\"],[0.5555555555555556,\"#d8576b\"],[0.6666666666666666,\"#ed7953\"],[0.7777777777777778,\"#fb9f3a\"],[0.8888888888888888,\"#fdca26\"],[1.0,\"#f0f921\"]]}],\"mesh3d\":[{\"type\":\"mesh3d\",\"colorbar\":{\"outlinewidth\":0,\"ticks\":\"\"}}],\"scatter\":[{\"fillpattern\":{\"fillmode\":\"overlay\",\"size\":10,\"solidity\":0.2},\"type\":\"scatter\"}],\"parcoords\":[{\"type\":\"parcoords\",\"line\":{\"colorbar\":{\"outlinewidth\":0,\"ticks\":\"\"}}}],\"scatterpolargl\":[{\"type\":\"scatterpolargl\",\"marker\":{\"colorbar\":{\"outlinewidth\":0,\"ticks\":\"\"}}}],\"bar\":[{\"error_x\":{\"color\":\"#2a3f5f\"},\"error_y\":{\"color\":\"#2a3f5f\"},\"marker\":{\"line\":{\"color\":\"#E5ECF6\",\"width\":0.5},\"pattern\":{\"fillmode\":\"overlay\",\"size\":10,\"solidity\":0.2}},\"type\":\"bar\"}],\"scattergeo\":[{\"type\":\"scattergeo\",\"marker\":{\"colorbar\":{\"outlinewidth\":0,\"ticks\":\"\"}}}],\"scatterpolar\":[{\"type\":\"scatterpolar\",\"marker\":{\"colorbar\":{\"outlinewidth\":0,\"ticks\":\"\"}}}],\"histogram\":[{\"marker\":{\"pattern\":{\"fillmode\":\"overlay\",\"size\":10,\"solidity\":0.2}},\"type\":\"histogram\"}],\"scattergl\":[{\"type\":\"scattergl\",\"marker\":{\"colorbar\":{\"outlinewidth\":0,\"ticks\":\"\"}}}],\"scatter3d\":[{\"type\":\"scatter3d\",\"line\":{\"colorbar\":{\"outlinewidth\":0,\"ticks\":\"\"}},\"marker\":{\"colorbar\":{\"outlinewidth\":0,\"ticks\":\"\"}}}],\"scattermapbox\":[{\"type\":\"scattermapbox\",\"marker\":{\"colorbar\":{\"outlinewidth\":0,\"ticks\":\"\"}}}],\"scatterternary\":[{\"type\":\"scatterternary\",\"marker\":{\"colorbar\":{\"outlinewidth\":0,\"ticks\":\"\"}}}],\"scattercarpet\":[{\"type\":\"scattercarpet\",\"marker\":{\"colorbar\":{\"outlinewidth\":0,\"ticks\":\"\"}}}],\"carpet\":[{\"aaxis\":{\"endlinecolor\":\"#2a3f5f\",\"gridcolor\":\"white\",\"linecolor\":\"white\",\"minorgridcolor\":\"white\",\"startlinecolor\":\"#2a3f5f\"},\"baxis\":{\"endlinecolor\":\"#2a3f5f\",\"gridcolor\":\"white\",\"linecolor\":\"white\",\"minorgridcolor\":\"white\",\"startlinecolor\":\"#2a3f5f\"},\"type\":\"carpet\"}],\"table\":[{\"cells\":{\"fill\":{\"color\":\"#EBF0F8\"},\"line\":{\"color\":\"white\"}},\"header\":{\"fill\":{\"color\":\"#C8D4E3\"},\"line\":{\"color\":\"white\"}},\"type\":\"table\"}],\"barpolar\":[{\"marker\":{\"line\":{\"color\":\"#E5ECF6\",\"width\":0.5},\"pattern\":{\"fillmode\":\"overlay\",\"size\":10,\"solidity\":0.2}},\"type\":\"barpolar\"}],\"pie\":[{\"automargin\":true,\"type\":\"pie\"}]},\"layout\":{\"autotypenumbers\":\"strict\",\"colorway\":[\"#636efa\",\"#EF553B\",\"#00cc96\",\"#ab63fa\",\"#FFA15A\",\"#19d3f3\",\"#FF6692\",\"#B6E880\",\"#FF97FF\",\"#FECB52\"],\"font\":{\"color\":\"#2a3f5f\"},\"hovermode\":\"closest\",\"hoverlabel\":{\"align\":\"left\"},\"paper_bgcolor\":\"white\",\"plot_bgcolor\":\"#E5ECF6\",\"polar\":{\"bgcolor\":\"#E5ECF6\",\"angularaxis\":{\"gridcolor\":\"white\",\"linecolor\":\"white\",\"ticks\":\"\"},\"radialaxis\":{\"gridcolor\":\"white\",\"linecolor\":\"white\",\"ticks\":\"\"}},\"ternary\":{\"bgcolor\":\"#E5ECF6\",\"aaxis\":{\"gridcolor\":\"white\",\"linecolor\":\"white\",\"ticks\":\"\"},\"baxis\":{\"gridcolor\":\"white\",\"linecolor\":\"white\",\"ticks\":\"\"},\"caxis\":{\"gridcolor\":\"white\",\"linecolor\":\"white\",\"ticks\":\"\"}},\"coloraxis\":{\"colorbar\":{\"outlinewidth\":0,\"ticks\":\"\"}},\"colorscale\":{\"sequential\":[[0.0,\"#0d0887\"],[0.1111111111111111,\"#46039f\"],[0.2222222222222222,\"#7201a8\"],[0.3333333333333333,\"#9c179e\"],[0.4444444444444444,\"#bd3786\"],[0.5555555555555556,\"#d8576b\"],[0.6666666666666666,\"#ed7953\"],[0.7777777777777778,\"#fb9f3a\"],[0.8888888888888888,\"#fdca26\"],[1.0,\"#f0f921\"]],\"sequentialminus\":[[0.0,\"#0d0887\"],[0.1111111111111111,\"#46039f\"],[0.2222222222222222,\"#7201a8\"],[0.3333333333333333,\"#9c179e\"],[0.4444444444444444,\"#bd3786\"],[0.5555555555555556,\"#d8576b\"],[0.6666666666666666,\"#ed7953\"],[0.7777777777777778,\"#fb9f3a\"],[0.8888888888888888,\"#fdca26\"],[1.0,\"#f0f921\"]],\"diverging\":[[0,\"#8e0152\"],[0.1,\"#c51b7d\"],[0.2,\"#de77ae\"],[0.3,\"#f1b6da\"],[0.4,\"#fde0ef\"],[0.5,\"#f7f7f7\"],[0.6,\"#e6f5d0\"],[0.7,\"#b8e186\"],[0.8,\"#7fbc41\"],[0.9,\"#4d9221\"],[1,\"#276419\"]]},\"xaxis\":{\"gridcolor\":\"white\",\"linecolor\":\"white\",\"ticks\":\"\",\"title\":{\"standoff\":15},\"zerolinecolor\":\"white\",\"automargin\":true,\"zerolinewidth\":2},\"yaxis\":{\"gridcolor\":\"white\",\"linecolor\":\"white\",\"ticks\":\"\",\"title\":{\"standoff\":15},\"zerolinecolor\":\"white\",\"automargin\":true,\"zerolinewidth\":2},\"scene\":{\"xaxis\":{\"backgroundcolor\":\"#E5ECF6\",\"gridcolor\":\"white\",\"linecolor\":\"white\",\"showbackground\":true,\"ticks\":\"\",\"zerolinecolor\":\"white\",\"gridwidth\":2},\"yaxis\":{\"backgroundcolor\":\"#E5ECF6\",\"gridcolor\":\"white\",\"linecolor\":\"white\",\"showbackground\":true,\"ticks\":\"\",\"zerolinecolor\":\"white\",\"gridwidth\":2},\"zaxis\":{\"backgroundcolor\":\"#E5ECF6\",\"gridcolor\":\"white\",\"linecolor\":\"white\",\"showbackground\":true,\"ticks\":\"\",\"zerolinecolor\":\"white\",\"gridwidth\":2}},\"shapedefaults\":{\"line\":{\"color\":\"#2a3f5f\"}},\"annotationdefaults\":{\"arrowcolor\":\"#2a3f5f\",\"arrowhead\":0,\"arrowwidth\":1},\"geo\":{\"bgcolor\":\"white\",\"landcolor\":\"#E5ECF6\",\"subunitcolor\":\"white\",\"showland\":true,\"showlakes\":true,\"lakecolor\":\"white\"},\"title\":{\"x\":0.05},\"mapbox\":{\"style\":\"light\"}}}},                        {\"responsive\": true}                    ).then(function(){\n",
       "                            \n",
       "var gd = document.getElementById('d3c674be-fdb8-4a1b-bdc7-e26186277f3e');\n",
       "var x = new MutationObserver(function (mutations, observer) {{\n",
       "        var display = window.getComputedStyle(gd).display;\n",
       "        if (!display || display === 'none') {{\n",
       "            console.log([gd, 'removed!']);\n",
       "            Plotly.purge(gd);\n",
       "            observer.disconnect();\n",
       "        }}\n",
       "}});\n",
       "\n",
       "// Listen for the removal of the full notebook cells\n",
       "var notebookContainer = gd.closest('#notebook-container');\n",
       "if (notebookContainer) {{\n",
       "    x.observe(notebookContainer, {childList: true});\n",
       "}}\n",
       "\n",
       "// Listen for the clearing of the current output cell\n",
       "var outputEl = gd.closest('.output');\n",
       "if (outputEl) {{\n",
       "    x.observe(outputEl, {childList: true});\n",
       "}}\n",
       "\n",
       "                        })                };                });            </script>        </div>"
      ]
     },
     "metadata": {},
     "output_type": "display_data"
    }
   ],
   "source": [
    "fig=go.Figure(data=[go.Histogram(x=[1,1,1,1,1,2,3,4,5,3,2,3,2,3,3,2,1,1])])\n",
    "fig.show()"
   ]
  },
  {
   "cell_type": "code",
   "execution_count": 18,
   "id": "bdc298de-1881-4f48-b148-f6d1899f6a80",
   "metadata": {},
   "outputs": [],
   "source": [
    "import seaborn as sns"
   ]
  },
  {
   "cell_type": "code",
   "execution_count": 40,
   "id": "68c23d23-2311-4285-9094-b67eae66d619",
   "metadata": {},
   "outputs": [],
   "source": [
    "fig=go.Figure(data=[go.Scatter(x=[1,2,3,4,5,6,4],y=[4,5,6,7,8,4,3],mode='markers',marker_size=1000*[11,22,33,45,54,63,73])])"
   ]
  },
  {
   "cell_type": "code",
   "execution_count": 41,
   "id": "1b2578d1-1887-4a6d-8186-793c56862081",
   "metadata": {},
   "outputs": [
    {
     "data": {
      "application/vnd.plotly.v1+json": {
       "config": {
        "plotlyServerURL": "https://plot.ly"
       },
       "data": [
        {
         "marker": {
          "size": [
           11,
           22,
           33,
           45,
           54,
           63,
           73,
           11,
           22,
           33,
           45,
           54,
           63,
           73,
           11,
           22,
           33,
           45,
           54,
           63,
           73,
           11,
           22,
           33,
           45,
           54,
           63,
           73,
           11,
           22,
           33,
           45,
           54,
           63,
           73,
           11,
           22,
           33,
           45,
           54,
           63,
           73,
           11,
           22,
           33,
           45,
           54,
           63,
           73,
           11,
           22,
           33,
           45,
           54,
           63,
           73,
           11,
           22,
           33,
           45,
           54,
           63,
           73,
           11,
           22,
           33,
           45,
           54,
           63,
           73,
           11,
           22,
           33,
           45,
           54,
           63,
           73,
           11,
           22,
           33,
           45,
           54,
           63,
           73,
           11,
           22,
           33,
           45,
           54,
           63,
           73,
           11,
           22,
           33,
           45,
           54,
           63,
           73,
           11,
           22,
           33,
           45,
           54,
           63,
           73,
           11,
           22,
           33,
           45,
           54,
           63,
           73,
           11,
           22,
           33,
           45,
           54,
           63,
           73,
           11,
           22,
           33,
           45,
           54,
           63,
           73,
           11,
           22,
           33,
           45,
           54,
           63,
           73,
           11,
           22,
           33,
           45,
           54,
           63,
           73,
           11,
           22,
           33,
           45,
           54,
           63,
           73,
           11,
           22,
           33,
           45,
           54,
           63,
           73,
           11,
           22,
           33,
           45,
           54,
           63,
           73,
           11,
           22,
           33,
           45,
           54,
           63,
           73,
           11,
           22,
           33,
           45,
           54,
           63,
           73,
           11,
           22,
           33,
           45,
           54,
           63,
           73,
           11,
           22,
           33,
           45,
           54,
           63,
           73,
           11,
           22,
           33,
           45,
           54,
           63,
           73,
           11,
           22,
           33,
           45,
           54,
           63,
           73,
           11,
           22,
           33,
           45,
           54,
           63,
           73,
           11,
           22,
           33,
           45,
           54,
           63,
           73,
           11,
           22,
           33,
           45,
           54,
           63,
           73,
           11,
           22,
           33,
           45,
           54,
           63,
           73,
           11,
           22,
           33,
           45,
           54,
           63,
           73,
           11,
           22,
           33,
           45,
           54,
           63,
           73,
           11,
           22,
           33,
           45,
           54,
           63,
           73,
           11,
           22,
           33,
           45,
           54,
           63,
           73,
           11,
           22,
           33,
           45,
           54,
           63,
           73,
           11,
           22,
           33,
           45,
           54,
           63,
           73,
           11,
           22,
           33,
           45,
           54,
           63,
           73,
           11,
           22,
           33,
           45,
           54,
           63,
           73,
           11,
           22,
           33,
           45,
           54,
           63,
           73,
           11,
           22,
           33,
           45,
           54,
           63,
           73,
           11,
           22,
           33,
           45,
           54,
           63,
           73,
           11,
           22,
           33,
           45,
           54,
           63,
           73,
           11,
           22,
           33,
           45,
           54,
           63,
           73,
           11,
           22,
           33,
           45,
           54,
           63,
           73,
           11,
           22,
           33,
           45,
           54,
           63,
           73,
           11,
           22,
           33,
           45,
           54,
           63,
           73,
           11,
           22,
           33,
           45,
           54,
           63,
           73,
           11,
           22,
           33,
           45,
           54,
           63,
           73,
           11,
           22,
           33,
           45,
           54,
           63,
           73,
           11,
           22,
           33,
           45,
           54,
           63,
           73,
           11,
           22,
           33,
           45,
           54,
           63,
           73,
           11,
           22,
           33,
           45,
           54,
           63,
           73,
           11,
           22,
           33,
           45,
           54,
           63,
           73,
           11,
           22,
           33,
           45,
           54,
           63,
           73,
           11,
           22,
           33,
           45,
           54,
           63,
           73,
           11,
           22,
           33,
           45,
           54,
           63,
           73,
           11,
           22,
           33,
           45,
           54,
           63,
           73,
           11,
           22,
           33,
           45,
           54,
           63,
           73,
           11,
           22,
           33,
           45,
           54,
           63,
           73,
           11,
           22,
           33,
           45,
           54,
           63,
           73,
           11,
           22,
           33,
           45,
           54,
           63,
           73,
           11,
           22,
           33,
           45,
           54,
           63,
           73,
           11,
           22,
           33,
           45,
           54,
           63,
           73,
           11,
           22,
           33,
           45,
           54,
           63,
           73,
           11,
           22,
           33,
           45,
           54,
           63,
           73,
           11,
           22,
           33,
           45,
           54,
           63,
           73,
           11,
           22,
           33,
           45,
           54,
           63,
           73,
           11,
           22,
           33,
           45,
           54,
           63,
           73,
           11,
           22,
           33,
           45,
           54,
           63,
           73,
           11,
           22,
           33,
           45,
           54,
           63,
           73,
           11,
           22,
           33,
           45,
           54,
           63,
           73,
           11,
           22,
           33,
           45,
           54,
           63,
           73,
           11,
           22,
           33,
           45,
           54,
           63,
           73,
           11,
           22,
           33,
           45,
           54,
           63,
           73,
           11,
           22,
           33,
           45,
           54,
           63,
           73,
           11,
           22,
           33,
           45,
           54,
           63,
           73,
           11,
           22,
           33,
           45,
           54,
           63,
           73,
           11,
           22,
           33,
           45,
           54,
           63,
           73,
           11,
           22,
           33,
           45,
           54,
           63,
           73,
           11,
           22,
           33,
           45,
           54,
           63,
           73,
           11,
           22,
           33,
           45,
           54,
           63,
           73,
           11,
           22,
           33,
           45,
           54,
           63,
           73,
           11,
           22,
           33,
           45,
           54,
           63,
           73,
           11,
           22,
           33,
           45,
           54,
           63,
           73,
           11,
           22,
           33,
           45,
           54,
           63,
           73,
           11,
           22,
           33,
           45,
           54,
           63,
           73,
           11,
           22,
           33,
           45,
           54,
           63,
           73,
           11,
           22,
           33,
           45,
           54,
           63,
           73,
           11,
           22,
           33,
           45,
           54,
           63,
           73,
           11,
           22,
           33,
           45,
           54,
           63,
           73,
           11,
           22,
           33,
           45,
           54,
           63,
           73,
           11,
           22,
           33,
           45,
           54,
           63,
           73,
           11,
           22,
           33,
           45,
           54,
           63,
           73,
           11,
           22,
           33,
           45,
           54,
           63,
           73,
           11,
           22,
           33,
           45,
           54,
           63,
           73,
           11,
           22,
           33,
           45,
           54,
           63,
           73,
           11,
           22,
           33,
           45,
           54,
           63,
           73,
           11,
           22,
           33,
           45,
           54,
           63,
           73,
           11,
           22,
           33,
           45,
           54,
           63,
           73,
           11,
           22,
           33,
           45,
           54,
           63,
           73,
           11,
           22,
           33,
           45,
           54,
           63,
           73,
           11,
           22,
           33,
           45,
           54,
           63,
           73,
           11,
           22,
           33,
           45,
           54,
           63,
           73,
           11,
           22,
           33,
           45,
           54,
           63,
           73,
           11,
           22,
           33,
           45,
           54,
           63,
           73,
           11,
           22,
           33,
           45,
           54,
           63,
           73,
           11,
           22,
           33,
           45,
           54,
           63,
           73,
           11,
           22,
           33,
           45,
           54,
           63,
           73,
           11,
           22,
           33,
           45,
           54,
           63,
           73,
           11,
           22,
           33,
           45,
           54,
           63,
           73,
           11,
           22,
           33,
           45,
           54,
           63,
           73,
           11,
           22,
           33,
           45,
           54,
           63,
           73,
           11,
           22,
           33,
           45,
           54,
           63,
           73,
           11,
           22,
           33,
           45,
           54,
           63,
           73,
           11,
           22,
           33,
           45,
           54,
           63,
           73,
           11,
           22,
           33,
           45,
           54,
           63,
           73,
           11,
           22,
           33,
           45,
           54,
           63,
           73,
           11,
           22,
           33,
           45,
           54,
           63,
           73,
           11,
           22,
           33,
           45,
           54,
           63,
           73,
           11,
           22,
           33,
           45,
           54,
           63,
           73,
           11,
           22,
           33,
           45,
           54,
           63,
           73,
           11,
           22,
           33,
           45,
           54,
           63,
           73,
           11,
           22,
           33,
           45,
           54,
           63,
           73,
           11,
           22,
           33,
           45,
           54,
           63,
           73,
           11,
           22,
           33,
           45,
           54,
           63,
           73,
           11,
           22,
           33,
           45,
           54,
           63,
           73,
           11,
           22,
           33,
           45,
           54,
           63,
           73,
           11,
           22,
           33,
           45,
           54,
           63,
           73,
           11,
           22,
           33,
           45,
           54,
           63,
           73,
           11,
           22,
           33,
           45,
           54,
           63,
           73,
           11,
           22,
           33,
           45,
           54,
           63,
           73,
           11,
           22,
           33,
           45,
           54,
           63,
           73,
           11,
           22,
           33,
           45,
           54,
           63,
           73,
           11,
           22,
           33,
           45,
           54,
           63,
           73,
           11,
           22,
           33,
           45,
           54,
           63,
           73,
           11,
           22,
           33,
           45,
           54,
           63,
           73,
           11,
           22,
           33,
           45,
           54,
           63,
           73,
           11,
           22,
           33,
           45,
           54,
           63,
           73,
           11,
           22,
           33,
           45,
           54,
           63,
           73,
           11,
           22,
           33,
           45,
           54,
           63,
           73,
           11,
           22,
           33,
           45,
           54,
           63,
           73,
           11,
           22,
           33,
           45,
           54,
           63,
           73,
           11,
           22,
           33,
           45,
           54,
           63,
           73,
           11,
           22,
           33,
           45,
           54,
           63,
           73,
           11,
           22,
           33,
           45,
           54,
           63,
           73,
           11,
           22,
           33,
           45,
           54,
           63,
           73,
           11,
           22,
           33,
           45,
           54,
           63,
           73,
           11,
           22,
           33,
           45,
           54,
           63,
           73,
           11,
           22,
           33,
           45,
           54,
           63,
           73,
           11,
           22,
           33,
           45,
           54,
           63,
           73,
           11,
           22,
           33,
           45,
           54,
           63,
           73,
           11,
           22,
           33,
           45,
           54,
           63,
           73,
           11,
           22,
           33,
           45,
           54,
           63,
           73,
           11,
           22,
           33,
           45,
           54,
           63,
           73,
           11,
           22,
           33,
           45,
           54,
           63,
           73,
           11,
           22,
           33,
           45,
           54,
           63,
           73,
           11,
           22,
           33,
           45,
           54,
           63,
           73,
           11,
           22,
           33,
           45,
           54,
           63,
           73,
           11,
           22,
           33,
           45,
           54,
           63,
           73,
           11,
           22,
           33,
           45,
           54,
           63,
           73,
           11,
           22,
           33,
           45,
           54,
           63,
           73,
           11,
           22,
           33,
           45,
           54,
           63,
           73,
           11,
           22,
           33,
           45,
           54,
           63,
           73,
           11,
           22,
           33,
           45,
           54,
           63,
           73,
           11,
           22,
           33,
           45,
           54,
           63,
           73,
           11,
           22,
           33,
           45,
           54,
           63,
           73,
           11,
           22,
           33,
           45,
           54,
           63,
           73,
           11,
           22,
           33,
           45,
           54,
           63,
           73,
           11,
           22,
           33,
           45,
           54,
           63,
           73,
           11,
           22,
           33,
           45,
           54,
           63,
           73,
           11,
           22,
           33,
           45,
           54,
           63,
           73,
           11,
           22,
           33,
           45,
           54,
           63,
           73,
           11,
           22,
           33,
           45,
           54,
           63,
           73,
           11,
           22,
           33,
           45,
           54,
           63,
           73,
           11,
           22,
           33,
           45,
           54,
           63,
           73,
           11,
           22,
           33,
           45,
           54,
           63,
           73,
           11,
           22,
           33,
           45,
           54,
           63,
           73,
           11,
           22,
           33,
           45,
           54,
           63,
           73,
           11,
           22,
           33,
           45,
           54,
           63,
           73,
           11,
           22,
           33,
           45,
           54,
           63,
           73,
           11,
           22,
           33,
           45,
           54,
           63,
           73,
           11,
           22,
           33,
           45,
           54,
           63,
           73,
           11,
           22,
           33,
           45,
           54,
           63,
           73,
           11,
           22,
           33,
           45,
           54,
           63,
           73,
           11,
           22,
           33,
           45,
           54,
           63,
           73,
           11,
           22,
           33,
           45,
           54,
           63,
           73,
           11,
           22,
           33,
           45,
           54,
           63,
           73,
           11,
           22,
           33,
           45,
           54,
           63,
           73,
           11,
           22,
           33,
           45,
           54,
           63,
           73,
           11,
           22,
           33,
           45,
           54,
           63,
           73,
           11,
           22,
           33,
           45,
           54,
           63,
           73,
           11,
           22,
           33,
           45,
           54,
           63,
           73,
           11,
           22,
           33,
           45,
           54,
           63,
           73,
           11,
           22,
           33,
           45,
           54,
           63,
           73,
           11,
           22,
           33,
           45,
           54,
           63,
           73,
           11,
           22,
           33,
           45,
           54,
           63,
           73,
           11,
           22,
           33,
           45,
           54,
           63,
           73,
           11,
           22,
           33,
           45,
           54,
           63,
           73,
           11,
           22,
           33,
           45,
           54,
           63,
           73,
           11,
           22,
           33,
           45,
           54,
           63,
           73,
           11,
           22,
           33,
           45,
           54,
           63,
           73,
           11,
           22,
           33,
           45,
           54,
           63,
           73,
           11,
           22,
           33,
           45,
           54,
           63,
           73,
           11,
           22,
           33,
           45,
           54,
           63,
           73,
           11,
           22,
           33,
           45,
           54,
           63,
           73,
           11,
           22,
           33,
           45,
           54,
           63,
           73,
           11,
           22,
           33,
           45,
           54,
           63,
           73,
           11,
           22,
           33,
           45,
           54,
           63,
           73,
           11,
           22,
           33,
           45,
           54,
           63,
           73,
           11,
           22,
           33,
           45,
           54,
           63,
           73,
           11,
           22,
           33,
           45,
           54,
           63,
           73,
           11,
           22,
           33,
           45,
           54,
           63,
           73,
           11,
           22,
           33,
           45,
           54,
           63,
           73,
           11,
           22,
           33,
           45,
           54,
           63,
           73,
           11,
           22,
           33,
           45,
           54,
           63,
           73,
           11,
           22,
           33,
           45,
           54,
           63,
           73,
           11,
           22,
           33,
           45,
           54,
           63,
           73,
           11,
           22,
           33,
           45,
           54,
           63,
           73,
           11,
           22,
           33,
           45,
           54,
           63,
           73,
           11,
           22,
           33,
           45,
           54,
           63,
           73,
           11,
           22,
           33,
           45,
           54,
           63,
           73,
           11,
           22,
           33,
           45,
           54,
           63,
           73,
           11,
           22,
           33,
           45,
           54,
           63,
           73,
           11,
           22,
           33,
           45,
           54,
           63,
           73,
           11,
           22,
           33,
           45,
           54,
           63,
           73,
           11,
           22,
           33,
           45,
           54,
           63,
           73,
           11,
           22,
           33,
           45,
           54,
           63,
           73,
           11,
           22,
           33,
           45,
           54,
           63,
           73,
           11,
           22,
           33,
           45,
           54,
           63,
           73,
           11,
           22,
           33,
           45,
           54,
           63,
           73,
           11,
           22,
           33,
           45,
           54,
           63,
           73,
           11,
           22,
           33,
           45,
           54,
           63,
           73,
           11,
           22,
           33,
           45,
           54,
           63,
           73,
           11,
           22,
           33,
           45,
           54,
           63,
           73,
           11,
           22,
           33,
           45,
           54,
           63,
           73,
           11,
           22,
           33,
           45,
           54,
           63,
           73,
           11,
           22,
           33,
           45,
           54,
           63,
           73,
           11,
           22,
           33,
           45,
           54,
           63,
           73,
           11,
           22,
           33,
           45,
           54,
           63,
           73,
           11,
           22,
           33,
           45,
           54,
           63,
           73,
           11,
           22,
           33,
           45,
           54,
           63,
           73,
           11,
           22,
           33,
           45,
           54,
           63,
           73,
           11,
           22,
           33,
           45,
           54,
           63,
           73,
           11,
           22,
           33,
           45,
           54,
           63,
           73,
           11,
           22,
           33,
           45,
           54,
           63,
           73,
           11,
           22,
           33,
           45,
           54,
           63,
           73,
           11,
           22,
           33,
           45,
           54,
           63,
           73,
           11,
           22,
           33,
           45,
           54,
           63,
           73,
           11,
           22,
           33,
           45,
           54,
           63,
           73,
           11,
           22,
           33,
           45,
           54,
           63,
           73,
           11,
           22,
           33,
           45,
           54,
           63,
           73,
           11,
           22,
           33,
           45,
           54,
           63,
           73,
           11,
           22,
           33,
           45,
           54,
           63,
           73,
           11,
           22,
           33,
           45,
           54,
           63,
           73,
           11,
           22,
           33,
           45,
           54,
           63,
           73,
           11,
           22,
           33,
           45,
           54,
           63,
           73,
           11,
           22,
           33,
           45,
           54,
           63,
           73,
           11,
           22,
           33,
           45,
           54,
           63,
           73,
           11,
           22,
           33,
           45,
           54,
           63,
           73,
           11,
           22,
           33,
           45,
           54,
           63,
           73,
           11,
           22,
           33,
           45,
           54,
           63,
           73,
           11,
           22,
           33,
           45,
           54,
           63,
           73,
           11,
           22,
           33,
           45,
           54,
           63,
           73,
           11,
           22,
           33,
           45,
           54,
           63,
           73,
           11,
           22,
           33,
           45,
           54,
           63,
           73,
           11,
           22,
           33,
           45,
           54,
           63,
           73,
           11,
           22,
           33,
           45,
           54,
           63,
           73,
           11,
           22,
           33,
           45,
           54,
           63,
           73,
           11,
           22,
           33,
           45,
           54,
           63,
           73,
           11,
           22,
           33,
           45,
           54,
           63,
           73,
           11,
           22,
           33,
           45,
           54,
           63,
           73,
           11,
           22,
           33,
           45,
           54,
           63,
           73,
           11,
           22,
           33,
           45,
           54,
           63,
           73,
           11,
           22,
           33,
           45,
           54,
           63,
           73,
           11,
           22,
           33,
           45,
           54,
           63,
           73,
           11,
           22,
           33,
           45,
           54,
           63,
           73,
           11,
           22,
           33,
           45,
           54,
           63,
           73,
           11,
           22,
           33,
           45,
           54,
           63,
           73,
           11,
           22,
           33,
           45,
           54,
           63,
           73,
           11,
           22,
           33,
           45,
           54,
           63,
           73,
           11,
           22,
           33,
           45,
           54,
           63,
           73,
           11,
           22,
           33,
           45,
           54,
           63,
           73,
           11,
           22,
           33,
           45,
           54,
           63,
           73,
           11,
           22,
           33,
           45,
           54,
           63,
           73,
           11,
           22,
           33,
           45,
           54,
           63,
           73,
           11,
           22,
           33,
           45,
           54,
           63,
           73,
           11,
           22,
           33,
           45,
           54,
           63,
           73,
           11,
           22,
           33,
           45,
           54,
           63,
           73,
           11,
           22,
           33,
           45,
           54,
           63,
           73,
           11,
           22,
           33,
           45,
           54,
           63,
           73,
           11,
           22,
           33,
           45,
           54,
           63,
           73,
           11,
           22,
           33,
           45,
           54,
           63,
           73,
           11,
           22,
           33,
           45,
           54,
           63,
           73,
           11,
           22,
           33,
           45,
           54,
           63,
           73,
           11,
           22,
           33,
           45,
           54,
           63,
           73,
           11,
           22,
           33,
           45,
           54,
           63,
           73,
           11,
           22,
           33,
           45,
           54,
           63,
           73,
           11,
           22,
           33,
           45,
           54,
           63,
           73,
           11,
           22,
           33,
           45,
           54,
           63,
           73,
           11,
           22,
           33,
           45,
           54,
           63,
           73,
           11,
           22,
           33,
           45,
           54,
           63,
           73,
           11,
           22,
           33,
           45,
           54,
           63,
           73,
           11,
           22,
           33,
           45,
           54,
           63,
           73,
           11,
           22,
           33,
           45,
           54,
           63,
           73,
           11,
           22,
           33,
           45,
           54,
           63,
           73,
           11,
           22,
           33,
           45,
           54,
           63,
           73,
           11,
           22,
           33,
           45,
           54,
           63,
           73,
           11,
           22,
           33,
           45,
           54,
           63,
           73,
           11,
           22,
           33,
           45,
           54,
           63,
           73,
           11,
           22,
           33,
           45,
           54,
           63,
           73,
           11,
           22,
           33,
           45,
           54,
           63,
           73,
           11,
           22,
           33,
           45,
           54,
           63,
           73,
           11,
           22,
           33,
           45,
           54,
           63,
           73,
           11,
           22,
           33,
           45,
           54,
           63,
           73,
           11,
           22,
           33,
           45,
           54,
           63,
           73,
           11,
           22,
           33,
           45,
           54,
           63,
           73,
           11,
           22,
           33,
           45,
           54,
           63,
           73,
           11,
           22,
           33,
           45,
           54,
           63,
           73,
           11,
           22,
           33,
           45,
           54,
           63,
           73,
           11,
           22,
           33,
           45,
           54,
           63,
           73,
           11,
           22,
           33,
           45,
           54,
           63,
           73,
           11,
           22,
           33,
           45,
           54,
           63,
           73,
           11,
           22,
           33,
           45,
           54,
           63,
           73,
           11,
           22,
           33,
           45,
           54,
           63,
           73,
           11,
           22,
           33,
           45,
           54,
           63,
           73,
           11,
           22,
           33,
           45,
           54,
           63,
           73,
           11,
           22,
           33,
           45,
           54,
           63,
           73,
           11,
           22,
           33,
           45,
           54,
           63,
           73,
           11,
           22,
           33,
           45,
           54,
           63,
           73,
           11,
           22,
           33,
           45,
           54,
           63,
           73,
           11,
           22,
           33,
           45,
           54,
           63,
           73,
           11,
           22,
           33,
           45,
           54,
           63,
           73,
           11,
           22,
           33,
           45,
           54,
           63,
           73,
           11,
           22,
           33,
           45,
           54,
           63,
           73,
           11,
           22,
           33,
           45,
           54,
           63,
           73,
           11,
           22,
           33,
           45,
           54,
           63,
           73,
           11,
           22,
           33,
           45,
           54,
           63,
           73,
           11,
           22,
           33,
           45,
           54,
           63,
           73,
           11,
           22,
           33,
           45,
           54,
           63,
           73,
           11,
           22,
           33,
           45,
           54,
           63,
           73,
           11,
           22,
           33,
           45,
           54,
           63,
           73,
           11,
           22,
           33,
           45,
           54,
           63,
           73,
           11,
           22,
           33,
           45,
           54,
           63,
           73,
           11,
           22,
           33,
           45,
           54,
           63,
           73,
           11,
           22,
           33,
           45,
           54,
           63,
           73,
           11,
           22,
           33,
           45,
           54,
           63,
           73,
           11,
           22,
           33,
           45,
           54,
           63,
           73,
           11,
           22,
           33,
           45,
           54,
           63,
           73,
           11,
           22,
           33,
           45,
           54,
           63,
           73,
           11,
           22,
           33,
           45,
           54,
           63,
           73,
           11,
           22,
           33,
           45,
           54,
           63,
           73,
           11,
           22,
           33,
           45,
           54,
           63,
           73,
           11,
           22,
           33,
           45,
           54,
           63,
           73,
           11,
           22,
           33,
           45,
           54,
           63,
           73,
           11,
           22,
           33,
           45,
           54,
           63,
           73,
           11,
           22,
           33,
           45,
           54,
           63,
           73,
           11,
           22,
           33,
           45,
           54,
           63,
           73,
           11,
           22,
           33,
           45,
           54,
           63,
           73,
           11,
           22,
           33,
           45,
           54,
           63,
           73,
           11,
           22,
           33,
           45,
           54,
           63,
           73,
           11,
           22,
           33,
           45,
           54,
           63,
           73,
           11,
           22,
           33,
           45,
           54,
           63,
           73,
           11,
           22,
           33,
           45,
           54,
           63,
           73,
           11,
           22,
           33,
           45,
           54,
           63,
           73,
           11,
           22,
           33,
           45,
           54,
           63,
           73,
           11,
           22,
           33,
           45,
           54,
           63,
           73,
           11,
           22,
           33,
           45,
           54,
           63,
           73,
           11,
           22,
           33,
           45,
           54,
           63,
           73,
           11,
           22,
           33,
           45,
           54,
           63,
           73,
           11,
           22,
           33,
           45,
           54,
           63,
           73,
           11,
           22,
           33,
           45,
           54,
           63,
           73,
           11,
           22,
           33,
           45,
           54,
           63,
           73,
           11,
           22,
           33,
           45,
           54,
           63,
           73,
           11,
           22,
           33,
           45,
           54,
           63,
           73,
           11,
           22,
           33,
           45,
           54,
           63,
           73,
           11,
           22,
           33,
           45,
           54,
           63,
           73,
           11,
           22,
           33,
           45,
           54,
           63,
           73,
           11,
           22,
           33,
           45,
           54,
           63,
           73,
           11,
           22,
           33,
           45,
           54,
           63,
           73,
           11,
           22,
           33,
           45,
           54,
           63,
           73,
           11,
           22,
           33,
           45,
           54,
           63,
           73,
           11,
           22,
           33,
           45,
           54,
           63,
           73,
           11,
           22,
           33,
           45,
           54,
           63,
           73,
           11,
           22,
           33,
           45,
           54,
           63,
           73,
           11,
           22,
           33,
           45,
           54,
           63,
           73,
           11,
           22,
           33,
           45,
           54,
           63,
           73,
           11,
           22,
           33,
           45,
           54,
           63,
           73,
           11,
           22,
           33,
           45,
           54,
           63,
           73,
           11,
           22,
           33,
           45,
           54,
           63,
           73,
           11,
           22,
           33,
           45,
           54,
           63,
           73,
           11,
           22,
           33,
           45,
           54,
           63,
           73,
           11,
           22,
           33,
           45,
           54,
           63,
           73,
           11,
           22,
           33,
           45,
           54,
           63,
           73,
           11,
           22,
           33,
           45,
           54,
           63,
           73,
           11,
           22,
           33,
           45,
           54,
           63,
           73,
           11,
           22,
           33,
           45,
           54,
           63,
           73,
           11,
           22,
           33,
           45,
           54,
           63,
           73,
           11,
           22,
           33,
           45,
           54,
           63,
           73,
           11,
           22,
           33,
           45,
           54,
           63,
           73,
           11,
           22,
           33,
           45,
           54,
           63,
           73,
           11,
           22,
           33,
           45,
           54,
           63,
           73,
           11,
           22,
           33,
           45,
           54,
           63,
           73,
           11,
           22,
           33,
           45,
           54,
           63,
           73,
           11,
           22,
           33,
           45,
           54,
           63,
           73,
           11,
           22,
           33,
           45,
           54,
           63,
           73,
           11,
           22,
           33,
           45,
           54,
           63,
           73,
           11,
           22,
           33,
           45,
           54,
           63,
           73,
           11,
           22,
           33,
           45,
           54,
           63,
           73,
           11,
           22,
           33,
           45,
           54,
           63,
           73,
           11,
           22,
           33,
           45,
           54,
           63,
           73,
           11,
           22,
           33,
           45,
           54,
           63,
           73,
           11,
           22,
           33,
           45,
           54,
           63,
           73,
           11,
           22,
           33,
           45,
           54,
           63,
           73,
           11,
           22,
           33,
           45,
           54,
           63,
           73,
           11,
           22,
           33,
           45,
           54,
           63,
           73,
           11,
           22,
           33,
           45,
           54,
           63,
           73,
           11,
           22,
           33,
           45,
           54,
           63,
           73,
           11,
           22,
           33,
           45,
           54,
           63,
           73,
           11,
           22,
           33,
           45,
           54,
           63,
           73,
           11,
           22,
           33,
           45,
           54,
           63,
           73,
           11,
           22,
           33,
           45,
           54,
           63,
           73,
           11,
           22,
           33,
           45,
           54,
           63,
           73,
           11,
           22,
           33,
           45,
           54,
           63,
           73,
           11,
           22,
           33,
           45,
           54,
           63,
           73,
           11,
           22,
           33,
           45,
           54,
           63,
           73,
           11,
           22,
           33,
           45,
           54,
           63,
           73,
           11,
           22,
           33,
           45,
           54,
           63,
           73,
           11,
           22,
           33,
           45,
           54,
           63,
           73,
           11,
           22,
           33,
           45,
           54,
           63,
           73,
           11,
           22,
           33,
           45,
           54,
           63,
           73,
           11,
           22,
           33,
           45,
           54,
           63,
           73,
           11,
           22,
           33,
           45,
           54,
           63,
           73,
           11,
           22,
           33,
           45,
           54,
           63,
           73,
           11,
           22,
           33,
           45,
           54,
           63,
           73,
           11,
           22,
           33,
           45,
           54,
           63,
           73,
           11,
           22,
           33,
           45,
           54,
           63,
           73,
           11,
           22,
           33,
           45,
           54,
           63,
           73,
           11,
           22,
           33,
           45,
           54,
           63,
           73,
           11,
           22,
           33,
           45,
           54,
           63,
           73,
           11,
           22,
           33,
           45,
           54,
           63,
           73,
           11,
           22,
           33,
           45,
           54,
           63,
           73,
           11,
           22,
           33,
           45,
           54,
           63,
           73,
           11,
           22,
           33,
           45,
           54,
           63,
           73,
           11,
           22,
           33,
           45,
           54,
           63,
           73,
           11,
           22,
           33,
           45,
           54,
           63,
           73,
           11,
           22,
           33,
           45,
           54,
           63,
           73,
           11,
           22,
           33,
           45,
           54,
           63,
           73,
           11,
           22,
           33,
           45,
           54,
           63,
           73,
           11,
           22,
           33,
           45,
           54,
           63,
           73,
           11,
           22,
           33,
           45,
           54,
           63,
           73,
           11,
           22,
           33,
           45,
           54,
           63,
           73,
           11,
           22,
           33,
           45,
           54,
           63,
           73,
           11,
           22,
           33,
           45,
           54,
           63,
           73,
           11,
           22,
           33,
           45,
           54,
           63,
           73,
           11,
           22,
           33,
           45,
           54,
           63,
           73,
           11,
           22,
           33,
           45,
           54,
           63,
           73,
           11,
           22,
           33,
           45,
           54,
           63,
           73,
           11,
           22,
           33,
           45,
           54,
           63,
           73,
           11,
           22,
           33,
           45,
           54,
           63,
           73,
           11,
           22,
           33,
           45,
           54,
           63,
           73,
           11,
           22,
           33,
           45,
           54,
           63,
           73,
           11,
           22,
           33,
           45,
           54,
           63,
           73,
           11,
           22,
           33,
           45,
           54,
           63,
           73,
           11,
           22,
           33,
           45,
           54,
           63,
           73,
           11,
           22,
           33,
           45,
           54,
           63,
           73,
           11,
           22,
           33,
           45,
           54,
           63,
           73,
           11,
           22,
           33,
           45,
           54,
           63,
           73,
           11,
           22,
           33,
           45,
           54,
           63,
           73,
           11,
           22,
           33,
           45,
           54,
           63,
           73,
           11,
           22,
           33,
           45,
           54,
           63,
           73,
           11,
           22,
           33,
           45,
           54,
           63,
           73,
           11,
           22,
           33,
           45,
           54,
           63,
           73,
           11,
           22,
           33,
           45,
           54,
           63,
           73,
           11,
           22,
           33,
           45,
           54,
           63,
           73,
           11,
           22,
           33,
           45,
           54,
           63,
           73,
           11,
           22,
           33,
           45,
           54,
           63,
           73,
           11,
           22,
           33,
           45,
           54,
           63,
           73,
           11,
           22,
           33,
           45,
           54,
           63,
           73,
           11,
           22,
           33,
           45,
           54,
           63,
           73,
           11,
           22,
           33,
           45,
           54,
           63,
           73,
           11,
           22,
           33,
           45,
           54,
           63,
           73,
           11,
           22,
           33,
           45,
           54,
           63,
           73,
           11,
           22,
           33,
           45,
           54,
           63,
           73,
           11,
           22,
           33,
           45,
           54,
           63,
           73,
           11,
           22,
           33,
           45,
           54,
           63,
           73,
           11,
           22,
           33,
           45,
           54,
           63,
           73,
           11,
           22,
           33,
           45,
           54,
           63,
           73,
           11,
           22,
           33,
           45,
           54,
           63,
           73,
           11,
           22,
           33,
           45,
           54,
           63,
           73,
           11,
           22,
           33,
           45,
           54,
           63,
           73,
           11,
           22,
           33,
           45,
           54,
           63,
           73,
           11,
           22,
           33,
           45,
           54,
           63,
           73,
           11,
           22,
           33,
           45,
           54,
           63,
           73,
           11,
           22,
           33,
           45,
           54,
           63,
           73,
           11,
           22,
           33,
           45,
           54,
           63,
           73,
           11,
           22,
           33,
           45,
           54,
           63,
           73,
           11,
           22,
           33,
           45,
           54,
           63,
           73,
           11,
           22,
           33,
           45,
           54,
           63,
           73,
           11,
           22,
           33,
           45,
           54,
           63,
           73,
           11,
           22,
           33,
           45,
           54,
           63,
           73,
           11,
           22,
           33,
           45,
           54,
           63,
           73,
           11,
           22,
           33,
           45,
           54,
           63,
           73,
           11,
           22,
           33,
           45,
           54,
           63,
           73,
           11,
           22,
           33,
           45,
           54,
           63,
           73,
           11,
           22,
           33,
           45,
           54,
           63,
           73,
           11,
           22,
           33,
           45,
           54,
           63,
           73,
           11,
           22,
           33,
           45,
           54,
           63,
           73,
           11,
           22,
           33,
           45,
           54,
           63,
           73,
           11,
           22,
           33,
           45,
           54,
           63,
           73,
           11,
           22,
           33,
           45,
           54,
           63,
           73,
           11,
           22,
           33,
           45,
           54,
           63,
           73,
           11,
           22,
           33,
           45,
           54,
           63,
           73,
           11,
           22,
           33,
           45,
           54,
           63,
           73,
           11,
           22,
           33,
           45,
           54,
           63,
           73,
           11,
           22,
           33,
           45,
           54,
           63,
           73,
           11,
           22,
           33,
           45,
           54,
           63,
           73,
           11,
           22,
           33,
           45,
           54,
           63,
           73,
           11,
           22,
           33,
           45,
           54,
           63,
           73,
           11,
           22,
           33,
           45,
           54,
           63,
           73,
           11,
           22,
           33,
           45,
           54,
           63,
           73,
           11,
           22,
           33,
           45,
           54,
           63,
           73,
           11,
           22,
           33,
           45,
           54,
           63,
           73,
           11,
           22,
           33,
           45,
           54,
           63,
           73,
           11,
           22,
           33,
           45,
           54,
           63,
           73,
           11,
           22,
           33,
           45,
           54,
           63,
           73,
           11,
           22,
           33,
           45,
           54,
           63,
           73,
           11,
           22,
           33,
           45,
           54,
           63,
           73,
           11,
           22,
           33,
           45,
           54,
           63,
           73,
           11,
           22,
           33,
           45,
           54,
           63,
           73,
           11,
           22,
           33,
           45,
           54,
           63,
           73,
           11,
           22,
           33,
           45,
           54,
           63,
           73,
           11,
           22,
           33,
           45,
           54,
           63,
           73,
           11,
           22,
           33,
           45,
           54,
           63,
           73,
           11,
           22,
           33,
           45,
           54,
           63,
           73,
           11,
           22,
           33,
           45,
           54,
           63,
           73,
           11,
           22,
           33,
           45,
           54,
           63,
           73,
           11,
           22,
           33,
           45,
           54,
           63,
           73,
           11,
           22,
           33,
           45,
           54,
           63,
           73,
           11,
           22,
           33,
           45,
           54,
           63,
           73,
           11,
           22,
           33,
           45,
           54,
           63,
           73,
           11,
           22,
           33,
           45,
           54,
           63,
           73,
           11,
           22,
           33,
           45,
           54,
           63,
           73,
           11,
           22,
           33,
           45,
           54,
           63,
           73,
           11,
           22,
           33,
           45,
           54,
           63,
           73,
           11,
           22,
           33,
           45,
           54,
           63,
           73,
           11,
           22,
           33,
           45,
           54,
           63,
           73,
           11,
           22,
           33,
           45,
           54,
           63,
           73,
           11,
           22,
           33,
           45,
           54,
           63,
           73,
           11,
           22,
           33,
           45,
           54,
           63,
           73,
           11,
           22,
           33,
           45,
           54,
           63,
           73,
           11,
           22,
           33,
           45,
           54,
           63,
           73,
           11,
           22,
           33,
           45,
           54,
           63,
           73,
           11,
           22,
           33,
           45,
           54,
           63,
           73,
           11,
           22,
           33,
           45,
           54,
           63,
           73,
           11,
           22,
           33,
           45,
           54,
           63,
           73,
           11,
           22,
           33,
           45,
           54,
           63,
           73,
           11,
           22,
           33,
           45,
           54,
           63,
           73,
           11,
           22,
           33,
           45,
           54,
           63,
           73,
           11,
           22,
           33,
           45,
           54,
           63,
           73,
           11,
           22,
           33,
           45,
           54,
           63,
           73,
           11,
           22,
           33,
           45,
           54,
           63,
           73,
           11,
           22,
           33,
           45,
           54,
           63,
           73,
           11,
           22,
           33,
           45,
           54,
           63,
           73,
           11,
           22,
           33,
           45,
           54,
           63,
           73,
           11,
           22,
           33,
           45,
           54,
           63,
           73,
           11,
           22,
           33,
           45,
           54,
           63,
           73,
           11,
           22,
           33,
           45,
           54,
           63,
           73,
           11,
           22,
           33,
           45,
           54,
           63,
           73,
           11,
           22,
           33,
           45,
           54,
           63,
           73,
           11,
           22,
           33,
           45,
           54,
           63,
           73,
           11,
           22,
           33,
           45,
           54,
           63,
           73,
           11,
           22,
           33,
           45,
           54,
           63,
           73,
           11,
           22,
           33,
           45,
           54,
           63,
           73,
           11,
           22,
           33,
           45,
           54,
           63,
           73,
           11,
           22,
           33,
           45,
           54,
           63,
           73,
           11,
           22,
           33,
           45,
           54,
           63,
           73,
           11,
           22,
           33,
           45,
           54,
           63,
           73,
           11,
           22,
           33,
           45,
           54,
           63,
           73,
           11,
           22,
           33,
           45,
           54,
           63,
           73,
           11,
           22,
           33,
           45,
           54,
           63,
           73,
           11,
           22,
           33,
           45,
           54,
           63,
           73,
           11,
           22,
           33,
           45,
           54,
           63,
           73,
           11,
           22,
           33,
           45,
           54,
           63,
           73,
           11,
           22,
           33,
           45,
           54,
           63,
           73,
           11,
           22,
           33,
           45,
           54,
           63,
           73,
           11,
           22,
           33,
           45,
           54,
           63,
           73,
           11,
           22,
           33,
           45,
           54,
           63,
           73,
           11,
           22,
           33,
           45,
           54,
           63,
           73,
           11,
           22,
           33,
           45,
           54,
           63,
           73,
           11,
           22,
           33,
           45,
           54,
           63,
           73,
           11,
           22,
           33,
           45,
           54,
           63,
           73,
           11,
           22,
           33,
           45,
           54,
           63,
           73,
           11,
           22,
           33,
           45,
           54,
           63,
           73,
           11,
           22,
           33,
           45,
           54,
           63,
           73,
           11,
           22,
           33,
           45,
           54,
           63,
           73,
           11,
           22,
           33,
           45,
           54,
           63,
           73,
           11,
           22,
           33,
           45,
           54,
           63,
           73,
           11,
           22,
           33,
           45,
           54,
           63,
           73,
           11,
           22,
           33,
           45,
           54,
           63,
           73,
           11,
           22,
           33,
           45,
           54,
           63,
           73,
           11,
           22,
           33,
           45,
           54,
           63,
           73,
           11,
           22,
           33,
           45,
           54,
           63,
           73,
           11,
           22,
           33,
           45,
           54,
           63,
           73,
           11,
           22,
           33,
           45,
           54,
           63,
           73,
           11,
           22,
           33,
           45,
           54,
           63,
           73,
           11,
           22,
           33,
           45,
           54,
           63,
           73,
           11,
           22,
           33,
           45,
           54,
           63,
           73,
           11,
           22,
           33,
           45,
           54,
           63,
           73,
           11,
           22,
           33,
           45,
           54,
           63,
           73,
           11,
           22,
           33,
           45,
           54,
           63,
           73,
           11,
           22,
           33,
           45,
           54,
           63,
           73,
           11,
           22,
           33,
           45,
           54,
           63,
           73,
           11,
           22,
           33,
           45,
           54,
           63,
           73,
           11,
           22,
           33,
           45,
           54,
           63,
           73,
           11,
           22,
           33,
           45,
           54,
           63,
           73,
           11,
           22,
           33,
           45,
           54,
           63,
           73,
           11,
           22,
           33,
           45,
           54,
           63,
           73,
           11,
           22,
           33,
           45,
           54,
           63,
           73,
           11,
           22,
           33,
           45,
           54,
           63,
           73,
           11,
           22,
           33,
           45,
           54,
           63,
           73,
           11,
           22,
           33,
           45,
           54,
           63,
           73,
           11,
           22,
           33,
           45,
           54,
           63,
           73,
           11,
           22,
           33,
           45,
           54,
           63,
           73,
           11,
           22,
           33,
           45,
           54,
           63,
           73,
           11,
           22,
           33,
           45,
           54,
           63,
           73,
           11,
           22,
           33,
           45,
           54,
           63,
           73,
           11,
           22,
           33,
           45,
           54,
           63,
           73,
           11,
           22,
           33,
           45,
           54,
           63,
           73,
           11,
           22,
           33,
           45,
           54,
           63,
           73,
           11,
           22,
           33,
           45,
           54,
           63,
           73,
           11,
           22,
           33,
           45,
           54,
           63,
           73,
           11,
           22,
           33,
           45,
           54,
           63,
           73,
           11,
           22,
           33,
           45,
           54,
           63,
           73,
           11,
           22,
           33,
           45,
           54,
           63,
           73,
           11,
           22,
           33,
           45,
           54,
           63,
           73,
           11,
           22,
           33,
           45,
           54,
           63,
           73,
           11,
           22,
           33,
           45,
           54,
           63,
           73,
           11,
           22,
           33,
           45,
           54,
           63,
           73,
           11,
           22,
           33,
           45,
           54,
           63,
           73,
           11,
           22,
           33,
           45,
           54,
           63,
           73,
           11,
           22,
           33,
           45,
           54,
           63,
           73,
           11,
           22,
           33,
           45,
           54,
           63,
           73,
           11,
           22,
           33,
           45,
           54,
           63,
           73,
           11,
           22,
           33,
           45,
           54,
           63,
           73,
           11,
           22,
           33,
           45,
           54,
           63,
           73,
           11,
           22,
           33,
           45,
           54,
           63,
           73,
           11,
           22,
           33,
           45,
           54,
           63,
           73,
           11,
           22,
           33,
           45,
           54,
           63,
           73,
           11,
           22,
           33,
           45,
           54,
           63,
           73,
           11,
           22,
           33,
           45,
           54,
           63,
           73,
           11,
           22,
           33,
           45,
           54,
           63,
           73,
           11,
           22,
           33,
           45,
           54,
           63,
           73,
           11,
           22,
           33,
           45,
           54,
           63,
           73,
           11,
           22,
           33,
           45,
           54,
           63,
           73,
           11,
           22,
           33,
           45,
           54,
           63,
           73,
           11,
           22,
           33,
           45,
           54,
           63,
           73,
           11,
           22,
           33,
           45,
           54,
           63,
           73,
           11,
           22,
           33,
           45,
           54,
           63,
           73,
           11,
           22,
           33,
           45,
           54,
           63,
           73,
           11,
           22,
           33,
           45,
           54,
           63,
           73,
           11,
           22,
           33,
           45,
           54,
           63,
           73,
           11,
           22,
           33,
           45,
           54,
           63,
           73,
           11,
           22,
           33,
           45,
           54,
           63,
           73,
           11,
           22,
           33,
           45,
           54,
           63,
           73,
           11,
           22,
           33,
           45,
           54,
           63,
           73,
           11,
           22,
           33,
           45,
           54,
           63,
           73,
           11,
           22,
           33,
           45,
           54,
           63,
           73,
           11,
           22,
           33,
           45,
           54,
           63,
           73,
           11,
           22,
           33,
           45,
           54,
           63,
           73,
           11,
           22,
           33,
           45,
           54,
           63,
           73,
           11,
           22,
           33,
           45,
           54,
           63,
           73,
           11,
           22,
           33,
           45,
           54,
           63,
           73,
           11,
           22,
           33,
           45,
           54,
           63,
           73,
           11,
           22,
           33,
           45,
           54,
           63,
           73,
           11,
           22,
           33,
           45,
           54,
           63,
           73,
           11,
           22,
           33,
           45,
           54,
           63,
           73,
           11,
           22,
           33,
           45,
           54,
           63,
           73,
           11,
           22,
           33,
           45,
           54,
           63,
           73,
           11,
           22,
           33,
           45,
           54,
           63,
           73,
           11,
           22,
           33,
           45,
           54,
           63,
           73,
           11,
           22,
           33,
           45,
           54,
           63,
           73,
           11,
           22,
           33,
           45,
           54,
           63,
           73,
           11,
           22,
           33,
           45,
           54,
           63,
           73,
           11,
           22,
           33,
           45,
           54,
           63,
           73,
           11,
           22,
           33,
           45,
           54,
           63,
           73,
           11,
           22,
           33,
           45,
           54,
           63,
           73,
           11,
           22,
           33,
           45,
           54,
           63,
           73,
           11,
           22,
           33,
           45,
           54,
           63,
           73,
           11,
           22,
           33,
           45,
           54,
           63,
           73,
           11,
           22,
           33,
           45,
           54,
           63,
           73,
           11,
           22,
           33,
           45,
           54,
           63,
           73,
           11,
           22,
           33,
           45,
           54,
           63,
           73,
           11,
           22,
           33,
           45,
           54,
           63,
           73,
           11,
           22,
           33,
           45,
           54,
           63,
           73,
           11,
           22,
           33,
           45,
           54,
           63,
           73,
           11,
           22,
           33,
           45,
           54,
           63,
           73,
           11,
           22,
           33,
           45,
           54,
           63,
           73,
           11,
           22,
           33,
           45,
           54,
           63,
           73,
           11,
           22,
           33,
           45,
           54,
           63,
           73,
           11,
           22,
           33,
           45,
           54,
           63,
           73,
           11,
           22,
           33,
           45,
           54,
           63,
           73,
           11,
           22,
           33,
           45,
           54,
           63,
           73,
           11,
           22,
           33,
           45,
           54,
           63,
           73,
           11,
           22,
           33,
           45,
           54,
           63,
           73,
           11,
           22,
           33,
           45,
           54,
           63,
           73,
           11,
           22,
           33,
           45,
           54,
           63,
           73,
           11,
           22,
           33,
           45,
           54,
           63,
           73,
           11,
           22,
           33,
           45,
           54,
           63,
           73,
           11,
           22,
           33,
           45,
           54,
           63,
           73,
           11,
           22,
           33,
           45,
           54,
           63,
           73,
           11,
           22,
           33,
           45,
           54,
           63,
           73,
           11,
           22,
           33,
           45,
           54,
           63,
           73,
           11,
           22,
           33,
           45,
           54,
           63,
           73,
           11,
           22,
           33,
           45,
           54,
           63,
           73,
           11,
           22,
           33,
           45,
           54,
           63,
           73,
           11,
           22,
           33,
           45,
           54,
           63,
           73,
           11,
           22,
           33,
           45,
           54,
           63,
           73,
           11,
           22,
           33,
           45,
           54,
           63,
           73,
           11,
           22,
           33,
           45,
           54,
           63,
           73,
           11,
           22,
           33,
           45,
           54,
           63,
           73,
           11,
           22,
           33,
           45,
           54,
           63,
           73,
           11,
           22,
           33,
           45,
           54,
           63,
           73,
           11,
           22,
           33,
           45,
           54,
           63,
           73,
           11,
           22,
           33,
           45,
           54,
           63,
           73,
           11,
           22,
           33,
           45,
           54,
           63,
           73,
           11,
           22,
           33,
           45,
           54,
           63,
           73,
           11,
           22,
           33,
           45,
           54,
           63,
           73,
           11,
           22,
           33,
           45,
           54,
           63,
           73,
           11,
           22,
           33,
           45,
           54,
           63,
           73,
           11,
           22,
           33,
           45,
           54,
           63,
           73,
           11,
           22,
           33,
           45,
           54,
           63,
           73,
           11,
           22,
           33,
           45,
           54,
           63,
           73,
           11,
           22,
           33,
           45,
           54,
           63,
           73,
           11,
           22,
           33,
           45,
           54,
           63,
           73,
           11,
           22,
           33,
           45,
           54,
           63,
           73,
           11,
           22,
           33,
           45,
           54,
           63,
           73,
           11,
           22,
           33,
           45,
           54,
           63,
           73,
           11,
           22,
           33,
           45,
           54,
           63,
           73,
           11,
           22,
           33,
           45,
           54,
           63,
           73,
           11,
           22,
           33,
           45,
           54,
           63,
           73,
           11,
           22,
           33,
           45,
           54,
           63,
           73,
           11,
           22,
           33,
           45,
           54,
           63,
           73,
           11,
           22,
           33,
           45,
           54,
           63,
           73,
           11,
           22,
           33,
           45,
           54,
           63,
           73,
           11,
           22,
           33,
           45,
           54,
           63,
           73,
           11,
           22,
           33,
           45,
           54,
           63,
           73,
           11,
           22,
           33,
           45,
           54,
           63,
           73,
           11,
           22,
           33,
           45,
           54,
           63,
           73,
           11,
           22,
           33,
           45,
           54,
           63,
           73,
           11,
           22,
           33,
           45,
           54,
           63,
           73,
           11,
           22,
           33,
           45,
           54,
           63,
           73,
           11,
           22,
           33,
           45,
           54,
           63,
           73,
           11,
           22,
           33,
           45,
           54,
           63,
           73,
           11,
           22,
           33,
           45,
           54,
           63,
           73,
           11,
           22,
           33,
           45,
           54,
           63,
           73,
           11,
           22,
           33,
           45,
           54,
           63,
           73,
           11,
           22,
           33,
           45,
           54,
           63,
           73,
           11,
           22,
           33,
           45,
           54,
           63,
           73,
           11,
           22,
           33,
           45,
           54,
           63,
           73,
           11,
           22,
           33,
           45,
           54,
           63,
           73,
           11,
           22,
           33,
           45,
           54,
           63,
           73,
           11,
           22,
           33,
           45,
           54,
           63,
           73,
           11,
           22,
           33,
           45,
           54,
           63,
           73,
           11,
           22,
           33,
           45,
           54,
           63,
           73,
           11,
           22,
           33,
           45,
           54,
           63,
           73,
           11,
           22,
           33,
           45,
           54,
           63,
           73,
           11,
           22,
           33,
           45,
           54,
           63,
           73,
           11,
           22,
           33,
           45,
           54,
           63,
           73,
           11,
           22,
           33,
           45,
           54,
           63,
           73,
           11,
           22,
           33,
           45,
           54,
           63,
           73,
           11,
           22,
           33,
           45,
           54,
           63,
           73,
           11,
           22,
           33,
           45,
           54,
           63,
           73,
           11,
           22,
           33,
           45,
           54,
           63,
           73,
           11,
           22,
           33,
           45,
           54,
           63,
           73,
           11,
           22,
           33,
           45,
           54,
           63,
           73,
           11,
           22,
           33,
           45,
           54,
           63,
           73,
           11,
           22,
           33,
           45,
           54,
           63,
           73,
           11,
           22,
           33,
           45,
           54,
           63,
           73,
           11,
           22,
           33,
           45,
           54,
           63,
           73,
           11,
           22,
           33,
           45,
           54,
           63,
           73,
           11,
           22,
           33,
           45,
           54,
           63,
           73,
           11,
           22,
           33,
           45,
           54,
           63,
           73,
           11,
           22,
           33,
           45,
           54,
           63,
           73,
           11,
           22,
           33,
           45,
           54,
           63,
           73,
           11,
           22,
           33,
           45,
           54,
           63,
           73,
           11,
           22,
           33,
           45,
           54,
           63,
           73,
           11,
           22,
           33,
           45,
           54,
           63,
           73,
           11,
           22,
           33,
           45,
           54,
           63,
           73,
           11,
           22,
           33,
           45,
           54,
           63,
           73,
           11,
           22,
           33,
           45,
           54,
           63,
           73,
           11,
           22,
           33,
           45,
           54,
           63,
           73,
           11,
           22,
           33,
           45,
           54,
           63,
           73,
           11,
           22,
           33,
           45,
           54,
           63,
           73,
           11,
           22,
           33,
           45,
           54,
           63,
           73,
           11,
           22,
           33,
           45,
           54,
           63,
           73,
           11,
           22,
           33,
           45,
           54,
           63,
           73,
           11,
           22,
           33,
           45,
           54,
           63,
           73,
           11,
           22,
           33,
           45,
           54,
           63,
           73,
           11,
           22,
           33,
           45,
           54,
           63,
           73,
           11,
           22,
           33,
           45,
           54,
           63,
           73,
           11,
           22,
           33,
           45,
           54,
           63,
           73,
           11,
           22,
           33,
           45,
           54,
           63,
           73,
           11,
           22,
           33,
           45,
           54,
           63,
           73,
           11,
           22,
           33,
           45,
           54,
           63,
           73,
           11,
           22,
           33,
           45,
           54,
           63,
           73,
           11,
           22,
           33,
           45,
           54,
           63,
           73,
           11,
           22,
           33,
           45,
           54,
           63,
           73,
           11,
           22,
           33,
           45,
           54,
           63,
           73,
           11,
           22,
           33,
           45,
           54,
           63,
           73,
           11,
           22,
           33,
           45,
           54,
           63,
           73,
           11,
           22,
           33,
           45,
           54,
           63,
           73,
           11,
           22,
           33,
           45,
           54,
           63,
           73,
           11,
           22,
           33,
           45,
           54,
           63,
           73,
           11,
           22,
           33,
           45,
           54,
           63,
           73,
           11,
           22,
           33,
           45,
           54,
           63,
           73,
           11,
           22,
           33,
           45,
           54,
           63,
           73,
           11,
           22,
           33,
           45,
           54,
           63,
           73,
           11,
           22,
           33,
           45,
           54,
           63,
           73,
           11,
           22,
           33,
           45,
           54,
           63,
           73,
           11,
           22,
           33,
           45,
           54,
           63,
           73,
           11,
           22,
           33,
           45,
           54,
           63,
           73,
           11,
           22,
           33,
           45,
           54,
           63,
           73,
           11,
           22,
           33,
           45,
           54,
           63,
           73,
           11,
           22,
           33,
           45,
           54,
           63,
           73,
           11,
           22,
           33,
           45,
           54,
           63,
           73,
           11,
           22,
           33,
           45,
           54,
           63,
           73,
           11,
           22,
           33,
           45,
           54,
           63,
           73,
           11,
           22,
           33,
           45,
           54,
           63,
           73,
           11,
           22,
           33,
           45,
           54,
           63,
           73,
           11,
           22,
           33,
           45,
           54,
           63,
           73,
           11,
           22,
           33,
           45,
           54,
           63,
           73,
           11,
           22,
           33,
           45,
           54,
           63,
           73,
           11,
           22,
           33,
           45,
           54,
           63,
           73,
           11,
           22,
           33,
           45,
           54,
           63,
           73,
           11,
           22,
           33,
           45,
           54,
           63,
           73,
           11,
           22,
           33,
           45,
           54,
           63,
           73,
           11,
           22,
           33,
           45,
           54,
           63,
           73,
           11,
           22,
           33,
           45,
           54,
           63,
           73,
           11,
           22,
           33,
           45,
           54,
           63,
           73,
           11,
           22,
           33,
           45,
           54,
           63,
           73,
           11,
           22,
           33,
           45,
           54,
           63,
           73,
           11,
           22,
           33,
           45,
           54,
           63,
           73,
           11,
           22,
           33,
           45,
           54,
           63,
           73,
           11,
           22,
           33,
           45,
           54,
           63,
           73,
           11,
           22,
           33,
           45,
           54,
           63,
           73,
           11,
           22,
           33,
           45,
           54,
           63,
           73,
           11,
           22,
           33,
           45,
           54,
           63,
           73,
           11,
           22,
           33,
           45,
           54,
           63,
           73,
           11,
           22,
           33,
           45,
           54,
           63,
           73,
           11,
           22,
           33,
           45,
           54,
           63,
           73,
           11,
           22,
           33,
           45,
           54,
           63,
           73,
           11,
           22,
           33,
           45,
           54,
           63,
           73,
           11,
           22,
           33,
           45,
           54,
           63,
           73,
           11,
           22,
           33,
           45,
           54,
           63,
           73,
           11,
           22,
           33,
           45,
           54,
           63,
           73,
           11,
           22,
           33,
           45,
           54,
           63,
           73,
           11,
           22,
           33,
           45,
           54,
           63,
           73,
           11,
           22,
           33,
           45,
           54,
           63,
           73,
           11,
           22,
           33,
           45,
           54,
           63,
           73,
           11,
           22,
           33,
           45,
           54,
           63,
           73,
           11,
           22,
           33,
           45,
           54,
           63,
           73,
           11,
           22,
           33,
           45,
           54,
           63,
           73,
           11,
           22,
           33,
           45,
           54,
           63,
           73,
           11,
           22,
           33,
           45,
           54,
           63,
           73,
           11,
           22,
           33,
           45,
           54,
           63,
           73,
           11,
           22,
           33,
           45,
           54,
           63,
           73,
           11,
           22,
           33,
           45,
           54,
           63,
           73,
           11,
           22,
           33,
           45,
           54,
           63,
           73,
           11,
           22,
           33,
           45,
           54,
           63,
           73,
           11,
           22,
           33,
           45,
           54,
           63,
           73,
           11,
           22,
           33,
           45,
           54,
           63,
           73,
           11,
           22,
           33,
           45,
           54,
           63,
           73,
           11,
           22,
           33,
           45,
           54,
           63,
           73,
           11,
           22,
           33,
           45,
           54,
           63,
           73,
           11,
           22,
           33,
           45,
           54,
           63,
           73,
           11,
           22,
           33,
           45,
           54,
           63,
           73,
           11,
           22,
           33,
           45,
           54,
           63,
           73,
           11,
           22,
           33,
           45,
           54,
           63,
           73,
           11,
           22,
           33,
           45,
           54,
           63,
           73,
           11,
           22,
           33,
           45,
           54,
           63,
           73,
           11,
           22,
           33,
           45,
           54,
           63,
           73,
           11,
           22,
           33,
           45,
           54,
           63,
           73,
           11,
           22,
           33,
           45,
           54,
           63,
           73,
           11,
           22,
           33,
           45,
           54,
           63,
           73,
           11,
           22,
           33,
           45,
           54,
           63,
           73,
           11,
           22,
           33,
           45,
           54,
           63,
           73,
           11,
           22,
           33,
           45,
           54,
           63,
           73,
           11,
           22,
           33,
           45,
           54,
           63,
           73,
           11,
           22,
           33,
           45,
           54,
           63,
           73,
           11,
           22,
           33,
           45,
           54,
           63,
           73,
           11,
           22,
           33,
           45,
           54,
           63,
           73,
           11,
           22,
           33,
           45,
           54,
           63,
           73,
           11,
           22,
           33,
           45,
           54,
           63,
           73,
           11,
           22,
           33,
           45,
           54,
           63,
           73,
           11,
           22,
           33,
           45,
           54,
           63,
           73,
           11,
           22,
           33,
           45,
           54,
           63,
           73,
           11,
           22,
           33,
           45,
           54,
           63,
           73,
           11,
           22,
           33,
           45,
           54,
           63,
           73,
           11,
           22,
           33,
           45,
           54,
           63,
           73,
           11,
           22,
           33,
           45,
           54,
           63,
           73,
           11,
           22,
           33,
           45,
           54,
           63,
           73,
           11,
           22,
           33,
           45,
           54,
           63,
           73,
           11,
           22,
           33,
           45,
           54,
           63,
           73,
           11,
           22,
           33,
           45,
           54,
           63,
           73,
           11,
           22,
           33,
           45,
           54,
           63,
           73,
           11,
           22,
           33,
           45,
           54,
           63,
           73,
           11,
           22,
           33,
           45,
           54,
           63,
           73,
           11,
           22,
           33,
           45,
           54,
           63,
           73,
           11,
           22,
           33,
           45,
           54,
           63,
           73,
           11,
           22,
           33,
           45,
           54,
           63,
           73,
           11,
           22,
           33,
           45,
           54,
           63,
           73,
           11,
           22,
           33,
           45,
           54,
           63,
           73,
           11,
           22,
           33,
           45,
           54,
           63,
           73,
           11,
           22,
           33,
           45,
           54,
           63,
           73,
           11,
           22,
           33,
           45,
           54,
           63,
           73,
           11,
           22,
           33,
           45,
           54,
           63,
           73,
           11,
           22,
           33,
           45,
           54,
           63,
           73,
           11,
           22,
           33,
           45,
           54,
           63,
           73,
           11,
           22,
           33,
           45,
           54,
           63,
           73,
           11,
           22,
           33,
           45,
           54,
           63,
           73,
           11,
           22,
           33,
           45,
           54,
           63,
           73,
           11,
           22,
           33,
           45,
           54,
           63,
           73,
           11,
           22,
           33,
           45,
           54,
           63,
           73,
           11,
           22,
           33,
           45,
           54,
           63,
           73,
           11,
           22,
           33,
           45,
           54,
           63,
           73,
           11,
           22,
           33,
           45,
           54,
           63,
           73,
           11,
           22,
           33,
           45,
           54,
           63,
           73,
           11,
           22,
           33,
           45,
           54,
           63,
           73,
           11,
           22,
           33,
           45,
           54,
           63,
           73,
           11,
           22,
           33,
           45,
           54,
           63,
           73,
           11,
           22,
           33,
           45,
           54,
           63,
           73,
           11,
           22,
           33,
           45,
           54,
           63,
           73,
           11,
           22,
           33,
           45,
           54,
           63,
           73,
           11,
           22,
           33,
           45,
           54,
           63,
           73,
           11,
           22,
           33,
           45,
           54,
           63,
           73,
           11,
           22,
           33,
           45,
           54,
           63,
           73,
           11,
           22,
           33,
           45,
           54,
           63,
           73,
           11,
           22,
           33,
           45,
           54,
           63,
           73,
           11,
           22,
           33,
           45,
           54,
           63,
           73,
           11,
           22,
           33,
           45,
           54,
           63,
           73,
           11,
           22,
           33,
           45,
           54,
           63,
           73,
           11,
           22,
           33,
           45,
           54,
           63,
           73,
           11,
           22,
           33,
           45,
           54,
           63,
           73,
           11,
           22,
           33,
           45,
           54,
           63,
           73,
           11,
           22,
           33,
           45,
           54,
           63,
           73,
           11,
           22,
           33,
           45,
           54,
           63,
           73,
           11,
           22,
           33,
           45,
           54,
           63,
           73,
           11,
           22,
           33,
           45,
           54,
           63,
           73,
           11,
           22,
           33,
           45,
           54,
           63,
           73,
           11,
           22,
           33,
           45,
           54,
           63,
           73,
           11,
           22,
           33,
           45,
           54,
           63,
           73,
           11,
           22,
           33,
           45,
           54,
           63,
           73,
           11,
           22,
           33,
           45,
           54,
           63,
           73,
           11,
           22,
           33,
           45,
           54,
           63,
           73,
           11,
           22,
           33,
           45,
           54,
           63,
           73,
           11,
           22,
           33,
           45,
           54,
           63,
           73,
           11,
           22,
           33,
           45,
           54,
           63,
           73,
           11,
           22,
           33,
           45,
           54,
           63,
           73,
           11,
           22,
           33,
           45,
           54,
           63,
           73,
           11,
           22,
           33,
           45,
           54,
           63,
           73,
           11,
           22,
           33,
           45,
           54,
           63,
           73,
           11,
           22,
           33,
           45,
           54,
           63,
           73,
           11,
           22,
           33,
           45,
           54,
           63,
           73,
           11,
           22,
           33,
           45,
           54,
           63,
           73,
           11,
           22,
           33,
           45,
           54,
           63,
           73,
           11,
           22,
           33,
           45,
           54,
           63,
           73,
           11,
           22,
           33,
           45,
           54,
           63,
           73,
           11,
           22,
           33,
           45,
           54,
           63,
           73,
           11,
           22,
           33,
           45,
           54,
           63,
           73,
           11,
           22,
           33,
           45,
           54,
           63,
           73,
           11,
           22,
           33,
           45,
           54,
           63,
           73,
           11,
           22,
           33,
           45,
           54,
           63,
           73,
           11,
           22,
           33,
           45,
           54,
           63,
           73,
           11,
           22,
           33,
           45,
           54,
           63,
           73,
           11,
           22,
           33,
           45,
           54,
           63,
           73,
           11,
           22,
           33,
           45,
           54,
           63,
           73,
           11,
           22,
           33,
           45,
           54,
           63,
           73,
           11,
           22,
           33,
           45,
           54,
           63,
           73,
           11,
           22,
           33,
           45,
           54,
           63,
           73,
           11,
           22,
           33,
           45,
           54,
           63,
           73,
           11,
           22,
           33,
           45,
           54,
           63,
           73,
           11,
           22,
           33,
           45,
           54,
           63,
           73,
           11,
           22,
           33,
           45,
           54,
           63,
           73,
           11,
           22,
           33,
           45,
           54,
           63,
           73,
           11,
           22,
           33,
           45,
           54,
           63,
           73,
           11,
           22,
           33,
           45,
           54,
           63,
           73,
           11,
           22,
           33,
           45,
           54,
           63,
           73,
           11,
           22,
           33,
           45,
           54,
           63,
           73,
           11,
           22,
           33,
           45,
           54,
           63,
           73,
           11,
           22,
           33,
           45,
           54,
           63,
           73,
           11,
           22,
           33,
           45,
           54,
           63,
           73,
           11,
           22,
           33,
           45,
           54,
           63,
           73,
           11,
           22,
           33,
           45,
           54,
           63,
           73,
           11,
           22,
           33,
           45,
           54,
           63,
           73,
           11,
           22,
           33,
           45,
           54,
           63,
           73,
           11,
           22,
           33,
           45,
           54,
           63,
           73,
           11,
           22,
           33,
           45,
           54,
           63,
           73
          ]
         },
         "mode": "markers",
         "type": "scatter",
         "x": [
          1,
          2,
          3,
          4,
          5,
          6,
          4
         ],
         "y": [
          4,
          5,
          6,
          7,
          8,
          4,
          3
         ]
        }
       ],
       "layout": {
        "autosize": true,
        "template": {
         "data": {
          "bar": [
           {
            "error_x": {
             "color": "#2a3f5f"
            },
            "error_y": {
             "color": "#2a3f5f"
            },
            "marker": {
             "line": {
              "color": "#E5ECF6",
              "width": 0.5
             },
             "pattern": {
              "fillmode": "overlay",
              "size": 10,
              "solidity": 0.2
             }
            },
            "type": "bar"
           }
          ],
          "barpolar": [
           {
            "marker": {
             "line": {
              "color": "#E5ECF6",
              "width": 0.5
             },
             "pattern": {
              "fillmode": "overlay",
              "size": 10,
              "solidity": 0.2
             }
            },
            "type": "barpolar"
           }
          ],
          "carpet": [
           {
            "aaxis": {
             "endlinecolor": "#2a3f5f",
             "gridcolor": "white",
             "linecolor": "white",
             "minorgridcolor": "white",
             "startlinecolor": "#2a3f5f"
            },
            "baxis": {
             "endlinecolor": "#2a3f5f",
             "gridcolor": "white",
             "linecolor": "white",
             "minorgridcolor": "white",
             "startlinecolor": "#2a3f5f"
            },
            "type": "carpet"
           }
          ],
          "choropleth": [
           {
            "colorbar": {
             "outlinewidth": 0,
             "ticks": ""
            },
            "type": "choropleth"
           }
          ],
          "contour": [
           {
            "colorbar": {
             "outlinewidth": 0,
             "ticks": ""
            },
            "colorscale": [
             [
              0,
              "#0d0887"
             ],
             [
              0.1111111111111111,
              "#46039f"
             ],
             [
              0.2222222222222222,
              "#7201a8"
             ],
             [
              0.3333333333333333,
              "#9c179e"
             ],
             [
              0.4444444444444444,
              "#bd3786"
             ],
             [
              0.5555555555555556,
              "#d8576b"
             ],
             [
              0.6666666666666666,
              "#ed7953"
             ],
             [
              0.7777777777777778,
              "#fb9f3a"
             ],
             [
              0.8888888888888888,
              "#fdca26"
             ],
             [
              1,
              "#f0f921"
             ]
            ],
            "type": "contour"
           }
          ],
          "contourcarpet": [
           {
            "colorbar": {
             "outlinewidth": 0,
             "ticks": ""
            },
            "type": "contourcarpet"
           }
          ],
          "heatmap": [
           {
            "colorbar": {
             "outlinewidth": 0,
             "ticks": ""
            },
            "colorscale": [
             [
              0,
              "#0d0887"
             ],
             [
              0.1111111111111111,
              "#46039f"
             ],
             [
              0.2222222222222222,
              "#7201a8"
             ],
             [
              0.3333333333333333,
              "#9c179e"
             ],
             [
              0.4444444444444444,
              "#bd3786"
             ],
             [
              0.5555555555555556,
              "#d8576b"
             ],
             [
              0.6666666666666666,
              "#ed7953"
             ],
             [
              0.7777777777777778,
              "#fb9f3a"
             ],
             [
              0.8888888888888888,
              "#fdca26"
             ],
             [
              1,
              "#f0f921"
             ]
            ],
            "type": "heatmap"
           }
          ],
          "heatmapgl": [
           {
            "colorbar": {
             "outlinewidth": 0,
             "ticks": ""
            },
            "colorscale": [
             [
              0,
              "#0d0887"
             ],
             [
              0.1111111111111111,
              "#46039f"
             ],
             [
              0.2222222222222222,
              "#7201a8"
             ],
             [
              0.3333333333333333,
              "#9c179e"
             ],
             [
              0.4444444444444444,
              "#bd3786"
             ],
             [
              0.5555555555555556,
              "#d8576b"
             ],
             [
              0.6666666666666666,
              "#ed7953"
             ],
             [
              0.7777777777777778,
              "#fb9f3a"
             ],
             [
              0.8888888888888888,
              "#fdca26"
             ],
             [
              1,
              "#f0f921"
             ]
            ],
            "type": "heatmapgl"
           }
          ],
          "histogram": [
           {
            "marker": {
             "pattern": {
              "fillmode": "overlay",
              "size": 10,
              "solidity": 0.2
             }
            },
            "type": "histogram"
           }
          ],
          "histogram2d": [
           {
            "colorbar": {
             "outlinewidth": 0,
             "ticks": ""
            },
            "colorscale": [
             [
              0,
              "#0d0887"
             ],
             [
              0.1111111111111111,
              "#46039f"
             ],
             [
              0.2222222222222222,
              "#7201a8"
             ],
             [
              0.3333333333333333,
              "#9c179e"
             ],
             [
              0.4444444444444444,
              "#bd3786"
             ],
             [
              0.5555555555555556,
              "#d8576b"
             ],
             [
              0.6666666666666666,
              "#ed7953"
             ],
             [
              0.7777777777777778,
              "#fb9f3a"
             ],
             [
              0.8888888888888888,
              "#fdca26"
             ],
             [
              1,
              "#f0f921"
             ]
            ],
            "type": "histogram2d"
           }
          ],
          "histogram2dcontour": [
           {
            "colorbar": {
             "outlinewidth": 0,
             "ticks": ""
            },
            "colorscale": [
             [
              0,
              "#0d0887"
             ],
             [
              0.1111111111111111,
              "#46039f"
             ],
             [
              0.2222222222222222,
              "#7201a8"
             ],
             [
              0.3333333333333333,
              "#9c179e"
             ],
             [
              0.4444444444444444,
              "#bd3786"
             ],
             [
              0.5555555555555556,
              "#d8576b"
             ],
             [
              0.6666666666666666,
              "#ed7953"
             ],
             [
              0.7777777777777778,
              "#fb9f3a"
             ],
             [
              0.8888888888888888,
              "#fdca26"
             ],
             [
              1,
              "#f0f921"
             ]
            ],
            "type": "histogram2dcontour"
           }
          ],
          "mesh3d": [
           {
            "colorbar": {
             "outlinewidth": 0,
             "ticks": ""
            },
            "type": "mesh3d"
           }
          ],
          "parcoords": [
           {
            "line": {
             "colorbar": {
              "outlinewidth": 0,
              "ticks": ""
             }
            },
            "type": "parcoords"
           }
          ],
          "pie": [
           {
            "automargin": true,
            "type": "pie"
           }
          ],
          "scatter": [
           {
            "fillpattern": {
             "fillmode": "overlay",
             "size": 10,
             "solidity": 0.2
            },
            "type": "scatter"
           }
          ],
          "scatter3d": [
           {
            "line": {
             "colorbar": {
              "outlinewidth": 0,
              "ticks": ""
             }
            },
            "marker": {
             "colorbar": {
              "outlinewidth": 0,
              "ticks": ""
             }
            },
            "type": "scatter3d"
           }
          ],
          "scattercarpet": [
           {
            "marker": {
             "colorbar": {
              "outlinewidth": 0,
              "ticks": ""
             }
            },
            "type": "scattercarpet"
           }
          ],
          "scattergeo": [
           {
            "marker": {
             "colorbar": {
              "outlinewidth": 0,
              "ticks": ""
             }
            },
            "type": "scattergeo"
           }
          ],
          "scattergl": [
           {
            "marker": {
             "colorbar": {
              "outlinewidth": 0,
              "ticks": ""
             }
            },
            "type": "scattergl"
           }
          ],
          "scattermapbox": [
           {
            "marker": {
             "colorbar": {
              "outlinewidth": 0,
              "ticks": ""
             }
            },
            "type": "scattermapbox"
           }
          ],
          "scatterpolar": [
           {
            "marker": {
             "colorbar": {
              "outlinewidth": 0,
              "ticks": ""
             }
            },
            "type": "scatterpolar"
           }
          ],
          "scatterpolargl": [
           {
            "marker": {
             "colorbar": {
              "outlinewidth": 0,
              "ticks": ""
             }
            },
            "type": "scatterpolargl"
           }
          ],
          "scatterternary": [
           {
            "marker": {
             "colorbar": {
              "outlinewidth": 0,
              "ticks": ""
             }
            },
            "type": "scatterternary"
           }
          ],
          "surface": [
           {
            "colorbar": {
             "outlinewidth": 0,
             "ticks": ""
            },
            "colorscale": [
             [
              0,
              "#0d0887"
             ],
             [
              0.1111111111111111,
              "#46039f"
             ],
             [
              0.2222222222222222,
              "#7201a8"
             ],
             [
              0.3333333333333333,
              "#9c179e"
             ],
             [
              0.4444444444444444,
              "#bd3786"
             ],
             [
              0.5555555555555556,
              "#d8576b"
             ],
             [
              0.6666666666666666,
              "#ed7953"
             ],
             [
              0.7777777777777778,
              "#fb9f3a"
             ],
             [
              0.8888888888888888,
              "#fdca26"
             ],
             [
              1,
              "#f0f921"
             ]
            ],
            "type": "surface"
           }
          ],
          "table": [
           {
            "cells": {
             "fill": {
              "color": "#EBF0F8"
             },
             "line": {
              "color": "white"
             }
            },
            "header": {
             "fill": {
              "color": "#C8D4E3"
             },
             "line": {
              "color": "white"
             }
            },
            "type": "table"
           }
          ]
         },
         "layout": {
          "annotationdefaults": {
           "arrowcolor": "#2a3f5f",
           "arrowhead": 0,
           "arrowwidth": 1
          },
          "autotypenumbers": "strict",
          "coloraxis": {
           "colorbar": {
            "outlinewidth": 0,
            "ticks": ""
           }
          },
          "colorscale": {
           "diverging": [
            [
             0,
             "#8e0152"
            ],
            [
             0.1,
             "#c51b7d"
            ],
            [
             0.2,
             "#de77ae"
            ],
            [
             0.3,
             "#f1b6da"
            ],
            [
             0.4,
             "#fde0ef"
            ],
            [
             0.5,
             "#f7f7f7"
            ],
            [
             0.6,
             "#e6f5d0"
            ],
            [
             0.7,
             "#b8e186"
            ],
            [
             0.8,
             "#7fbc41"
            ],
            [
             0.9,
             "#4d9221"
            ],
            [
             1,
             "#276419"
            ]
           ],
           "sequential": [
            [
             0,
             "#0d0887"
            ],
            [
             0.1111111111111111,
             "#46039f"
            ],
            [
             0.2222222222222222,
             "#7201a8"
            ],
            [
             0.3333333333333333,
             "#9c179e"
            ],
            [
             0.4444444444444444,
             "#bd3786"
            ],
            [
             0.5555555555555556,
             "#d8576b"
            ],
            [
             0.6666666666666666,
             "#ed7953"
            ],
            [
             0.7777777777777778,
             "#fb9f3a"
            ],
            [
             0.8888888888888888,
             "#fdca26"
            ],
            [
             1,
             "#f0f921"
            ]
           ],
           "sequentialminus": [
            [
             0,
             "#0d0887"
            ],
            [
             0.1111111111111111,
             "#46039f"
            ],
            [
             0.2222222222222222,
             "#7201a8"
            ],
            [
             0.3333333333333333,
             "#9c179e"
            ],
            [
             0.4444444444444444,
             "#bd3786"
            ],
            [
             0.5555555555555556,
             "#d8576b"
            ],
            [
             0.6666666666666666,
             "#ed7953"
            ],
            [
             0.7777777777777778,
             "#fb9f3a"
            ],
            [
             0.8888888888888888,
             "#fdca26"
            ],
            [
             1,
             "#f0f921"
            ]
           ]
          },
          "colorway": [
           "#636efa",
           "#EF553B",
           "#00cc96",
           "#ab63fa",
           "#FFA15A",
           "#19d3f3",
           "#FF6692",
           "#B6E880",
           "#FF97FF",
           "#FECB52"
          ],
          "font": {
           "color": "#2a3f5f"
          },
          "geo": {
           "bgcolor": "white",
           "lakecolor": "white",
           "landcolor": "#E5ECF6",
           "showlakes": true,
           "showland": true,
           "subunitcolor": "white"
          },
          "hoverlabel": {
           "align": "left"
          },
          "hovermode": "closest",
          "mapbox": {
           "style": "light"
          },
          "paper_bgcolor": "white",
          "plot_bgcolor": "#E5ECF6",
          "polar": {
           "angularaxis": {
            "gridcolor": "white",
            "linecolor": "white",
            "ticks": ""
           },
           "bgcolor": "#E5ECF6",
           "radialaxis": {
            "gridcolor": "white",
            "linecolor": "white",
            "ticks": ""
           }
          },
          "scene": {
           "xaxis": {
            "backgroundcolor": "#E5ECF6",
            "gridcolor": "white",
            "gridwidth": 2,
            "linecolor": "white",
            "showbackground": true,
            "ticks": "",
            "zerolinecolor": "white"
           },
           "yaxis": {
            "backgroundcolor": "#E5ECF6",
            "gridcolor": "white",
            "gridwidth": 2,
            "linecolor": "white",
            "showbackground": true,
            "ticks": "",
            "zerolinecolor": "white"
           },
           "zaxis": {
            "backgroundcolor": "#E5ECF6",
            "gridcolor": "white",
            "gridwidth": 2,
            "linecolor": "white",
            "showbackground": true,
            "ticks": "",
            "zerolinecolor": "white"
           }
          },
          "shapedefaults": {
           "line": {
            "color": "#2a3f5f"
           }
          },
          "ternary": {
           "aaxis": {
            "gridcolor": "white",
            "linecolor": "white",
            "ticks": ""
           },
           "baxis": {
            "gridcolor": "white",
            "linecolor": "white",
            "ticks": ""
           },
           "bgcolor": "#E5ECF6",
           "caxis": {
            "gridcolor": "white",
            "linecolor": "white",
            "ticks": ""
           }
          },
          "title": {
           "x": 0.05
          },
          "xaxis": {
           "automargin": true,
           "gridcolor": "white",
           "linecolor": "white",
           "ticks": "",
           "title": {
            "standoff": 15
           },
           "zerolinecolor": "white",
           "zerolinewidth": 2
          },
          "yaxis": {
           "automargin": true,
           "gridcolor": "white",
           "linecolor": "white",
           "ticks": "",
           "title": {
            "standoff": 15
           },
           "zerolinecolor": "white",
           "zerolinewidth": 2
          }
         }
        },
        "xaxis": {
         "autorange": true,
         "range": [
          0.6307506053268765,
          6.684019370460049
         ],
         "type": "linear"
        },
        "yaxis": {
         "autorange": true,
         "range": [
          -0.30559757942511334,
          10.586989409984872
         ],
         "type": "linear"
        }
       }
      },
      "image/png": "[encoded data removed]",
      "text/html": [
       "<div>                            <div id=\"83d85706-114c-4063-b363-437ccefd5f0b\" class=\"plotly-graph-div\" style=\"height:525px; width:100%;\"></div>            <script type=\"text/javascript\">                require([\"plotly\"], function(Plotly) {                    window.PLOTLYENV=window.PLOTLYENV || {};                                    if (document.getElementById(\"83d85706-114c-4063-b363-437ccefd5f0b\")) {                    Plotly.newPlot(                        \"83d85706-114c-4063-b363-437ccefd5f0b\",                        [{\"marker\":{\"size\":[11,22,33,45,54,63,73,11,22,33,45,54,63,73,11,22,33,45,54,63,73,11,22,33,45,54,63,73,11,22,33,45,54,63,73,11,22,33,45,54,63,73,11,22,33,45,54,63,73,11,22,33,45,54,63,73,11,22,33,45,54,63,73,11,22,33,45,54,63,73,11,22,33,45,54,63,73,11,22,33,45,54,63,73,11,22,33,45,54,63,73,11,22,33,45,54,63,73,11,22,33,45,54,63,73,11,22,33,45,54,63,73,11,22,33,45,54,63,73,11,22,33,45,54,63,73,11,22,33,45,54,63,73,11,22,33,45,54,63,73,11,22,33,45,54,63,73,11,22,33,45,54,63,73,11,22,33,45,54,63,73,11,22,33,45,54,63,73,11,22,33,45,54,63,73,11,22,33,45,54,63,73,11,22,33,45,54,63,73,11,22,33,45,54,63,73,11,22,33,45,54,63,73,11,22,33,45,54,63,73,11,22,33,45,54,63,73,11,22,33,45,54,63,73,11,22,33,45,54,63,73,11,22,33,45,54,63,73,11,22,33,45,54,63,73,11,22,33,45,54,63,73,11,22,33,45,54,63,73,11,22,33,45,54,63,73,11,22,33,45,54,63,73,11,22,33,45,54,63,73,11,22,33,45,54,63,73,11,22,33,45,54,63,73,11,22,33,45,54,63,73,11,22,33,45,54,63,73,11,22,33,45,54,63,73,11,22,33,45,54,63,73,11,22,33,45,54,63,73,11,22,33,45,54,63,73,11,22,33,45,54,63,73,11,22,33,45,54,63,73,11,22,33,45,54,63,73,11,22,33,45,54,63,73,11,22,33,45,54,63,73,11,22,33,45,54,63,73,11,22,33,45,54,63,73,11,22,33,45,54,63,73,11,22,33,45,54,63,73,11,22,33,45,54,63,73,11,22,33,45,54,63,73,11,22,33,45,54,63,73,11,22,33,45,54,63,73,11,22,33,45,54,63,73,11,22,33,45,54,63,73,11,22,33,45,54,63,73,11,22,33,45,54,63,73,11,22,33,45,54,63,73,11,22,33,45,54,63,73,11,22,33,45,54,63,73,11,22,33,45,54,63,73,11,22,33,45,54,63,73,11,22,33,45,54,63,73,11,22,33,45,54,63,73,11,22,33,45,54,63,73,11,22,33,45,54,63,73,11,22,33,45,54,63,73,11,22,33,45,54,63,73,11,22,33,45,54,63,73,11,22,33,45,54,63,73,11,22,33,45,54,63,73,11,22,33,45,54,63,73,11,22,33,45,54,63,73,11,22,33,45,54,63,73,11,22,33,45,54,63,73,11,22,33,45,54,63,73,11,22,33,45,54,63,73,11,22,33,45,54,63,73,11,22,33,45,54,63,73,11,22,33,45,54,63,73,11,22,33,45,54,63,73,11,22,33,45,54,63,73,11,22,33,45,54,63,73,11,22,33,45,54,63,73,11,22,33,45,54,63,73,11,22,33,45,54,63,73,11,22,33,45,54,63,73,11,22,33,45,54,63,73,11,22,33,45,54,63,73,11,22,33,45,54,63,73,11,22,33,45,54,63,73,11,22,33,45,54,63,73,11,22,33,45,54,63,73,11,22,33,45,54,63,73,11,22,33,45,54,63,73,11,22,33,45,54,63,73,11,22,33,45,54,63,73,11,22,33,45,54,63,73,11,22,33,45,54,63,73,11,22,33,45,54,63,73,11,22,33,45,54,63,73,11,22,33,45,54,63,73,11,22,33,45,54,63,73,11,22,33,45,54,63,73,11,22,33,45,54,63,73,11,22,33,45,54,63,73,11,22,33,45,54,63,73,11,22,33,45,54,63,73,11,22,33,45,54,63,73,11,22,33,45,54,63,73,11,22,33,45,54,63,73,11,22,33,45,54,63,73,11,22,33,45,54,63,73,11,22,33,45,54,63,73,11,22,33,45,54,63,73,11,22,33,45,54,63,73,11,22,33,45,54,63,73,11,22,33,45,54,63,73,11,22,33,45,54,63,73,11,22,33,45,54,63,73,11,22,33,45,54,63,73,11,22,33,45,54,63,73,11,22,33,45,54,63,73,11,22,33,45,54,63,73,11,22,33,45,54,63,73,11,22,33,45,54,63,73,11,22,33,45,54,63,73,11,22,33,45,54,63,73,11,22,33,45,54,63,73,11,22,33,45,54,63,73,11,22,33,45,54,63,73,11,22,33,45,54,63,73,11,22,33,45,54,63,73,11,22,33,45,54,63,73,11,22,33,45,54,63,73,11,22,33,45,54,63,73,11,22,33,45,54,63,73,11,22,33,45,54,63,73,11,22,33,45,54,63,73,11,22,33,45,54,63,73,11,22,33,45,54,63,73,11,22,33,45,54,63,73,11,22,33,45,54,63,73,11,22,33,45,54,63,73,11,22,33,45,54,63,73,11,22,33,45,54,63,73,11,22,33,45,54,63,73,11,22,33,45,54,63,73,11,22,33,45,54,63,73,11,22,33,45,54,63,73,11,22,33,45,54,63,73,11,22,33,45,54,63,73,11,22,33,45,54,63,73,11,22,33,45,54,63,73,11,22,33,45,54,63,73,11,22,33,45,54,63,73,11,22,33,45,54,63,73,11,22,33,45,54,63,73,11,22,33,45,54,63,73,11,22,33,45,54,63,73,11,22,33,45,54,63,73,11,22,33,45,54,63,73,11,22,33,45,54,63,73,11,22,33,45,54,63,73,11,22,33,45,54,63,73,11,22,33,45,54,63,73,11,22,33,45,54,63,73,11,22,33,45,54,63,73,11,22,33,45,54,63,73,11,22,33,45,54,63,73,11,22,33,45,54,63,73,11,22,33,45,54,63,73,11,22,33,45,54,63,73,11,22,33,45,54,63,73,11,22,33,45,54,63,73,11,22,33,45,54,63,73,11,22,33,45,54,63,73,11,22,33,45,54,63,73,11,22,33,45,54,63,73,11,22,33,45,54,63,73,11,22,33,45,54,63,73,11,22,33,45,54,63,73,11,22,33,45,54,63,73,11,22,33,45,54,63,73,11,22,33,45,54,63,73,11,22,33,45,54,63,73,11,22,33,45,54,63,73,11,22,33,45,54,63,73,11,22,33,45,54,63,73,11,22,33,45,54,63,73,11,22,33,45,54,63,73,11,22,33,45,54,63,73,11,22,33,45,54,63,73,11,22,33,45,54,63,73,11,22,33,45,54,63,73,11,22,33,45,54,63,73,11,22,33,45,54,63,73,11,22,33,45,54,63,73,11,22,33,45,54,63,73,11,22,33,45,54,63,73,11,22,33,45,54,63,73,11,22,33,45,54,63,73,11,22,33,45,54,63,73,11,22,33,45,54,63,73,11,22,33,45,54,63,73,11,22,33,45,54,63,73,11,22,33,45,54,63,73,11,22,33,45,54,63,73,11,22,33,45,54,63,73,11,22,33,45,54,63,73,11,22,33,45,54,63,73,11,22,33,45,54,63,73,11,22,33,45,54,63,73,11,22,33,45,54,63,73,11,22,33,45,54,63,73,11,22,33,45,54,63,73,11,22,33,45,54,63,73,11,22,33,45,54,63,73,11,22,33,45,54,63,73,11,22,33,45,54,63,73,11,22,33,45,54,63,73,11,22,33,45,54,63,73,11,22,33,45,54,63,73,11,22,33,45,54,63,73,11,22,33,45,54,63,73,11,22,33,45,54,63,73,11,22,33,45,54,63,73,11,22,33,45,54,63,73,11,22,33,45,54,63,73,11,22,33,45,54,63,73,11,22,33,45,54,63,73,11,22,33,45,54,63,73,11,22,33,45,54,63,73,11,22,33,45,54,63,73,11,22,33,45,54,63,73,11,22,33,45,54,63,73,11,22,33,45,54,63,73,11,22,33,45,54,63,73,11,22,33,45,54,63,73,11,22,33,45,54,63,73,11,22,33,45,54,63,73,11,22,33,45,54,63,73,11,22,33,45,54,63,73,11,22,33,45,54,63,73,11,22,33,45,54,63,73,11,22,33,45,54,63,73,11,22,33,45,54,63,73,11,22,33,45,54,63,73,11,22,33,45,54,63,73,11,22,33,45,54,63,73,11,22,33,45,54,63,73,11,22,33,45,54,63,73,11,22,33,45,54,63,73,11,22,33,45,54,63,73,11,22,33,45,54,63,73,11,22,33,45,54,63,73,11,22,33,45,54,63,73,11,22,33,45,54,63,73,11,22,33,45,54,63,73,11,22,33,45,54,63,73,11,22,33,45,54,63,73,11,22,33,45,54,63,73,11,22,33,45,54,63,73,11,22,33,45,54,63,73,11,22,33,45,54,63,73,11,22,33,45,54,63,73,11,22,33,45,54,63,73,11,22,33,45,54,63,73,11,22,33,45,54,63,73,11,22,33,45,54,63,73,11,22,33,45,54,63,73,11,22,33,45,54,63,73,11,22,33,45,54,63,73,11,22,33,45,54,63,73,11,22,33,45,54,63,73,11,22,33,45,54,63,73,11,22,33,45,54,63,73,11,22,33,45,54,63,73,11,22,33,45,54,63,73,11,22,33,45,54,63,73,11,22,33,45,54,63,73,11,22,33,45,54,63,73,11,22,33,45,54,63,73,11,22,33,45,54,63,73,11,22,33,45,54,63,73,11,22,33,45,54,63,73,11,22,33,45,54,63,73,11,22,33,45,54,63,73,11,22,33,45,54,63,73,11,22,33,45,54,63,73,11,22,33,45,54,63,73,11,22,33,45,54,63,73,11,22,33,45,54,63,73,11,22,33,45,54,63,73,11,22,33,45,54,63,73,11,22,33,45,54,63,73,11,22,33,45,54,63,73,11,22,33,45,54,63,73,11,22,33,45,54,63,73,11,22,33,45,54,63,73,11,22,33,45,54,63,73,11,22,33,45,54,63,73,11,22,33,45,54,63,73,11,22,33,45,54,63,73,11,22,33,45,54,63,73,11,22,33,45,54,63,73,11,22,33,45,54,63,73,11,22,33,45,54,63,73,11,22,33,45,54,63,73,11,22,33,45,54,63,73,11,22,33,45,54,63,73,11,22,33,45,54,63,73,11,22,33,45,54,63,73,11,22,33,45,54,63,73,11,22,33,45,54,63,73,11,22,33,45,54,63,73,11,22,33,45,54,63,73,11,22,33,45,54,63,73,11,22,33,45,54,63,73,11,22,33,45,54,63,73,11,22,33,45,54,63,73,11,22,33,45,54,63,73,11,22,33,45,54,63,73,11,22,33,45,54,63,73,11,22,33,45,54,63,73,11,22,33,45,54,63,73,11,22,33,45,54,63,73,11,22,33,45,54,63,73,11,22,33,45,54,63,73,11,22,33,45,54,63,73,11,22,33,45,54,63,73,11,22,33,45,54,63,73,11,22,33,45,54,63,73,11,22,33,45,54,63,73,11,22,33,45,54,63,73,11,22,33,45,54,63,73,11,22,33,45,54,63,73,11,22,33,45,54,63,73,11,22,33,45,54,63,73,11,22,33,45,54,63,73,11,22,33,45,54,63,73,11,22,33,45,54,63,73,11,22,33,45,54,63,73,11,22,33,45,54,63,73,11,22,33,45,54,63,73,11,22,33,45,54,63,73,11,22,33,45,54,63,73,11,22,33,45,54,63,73,11,22,33,45,54,63,73,11,22,33,45,54,63,73,11,22,33,45,54,63,73,11,22,33,45,54,63,73,11,22,33,45,54,63,73,11,22,33,45,54,63,73,11,22,33,45,54,63,73,11,22,33,45,54,63,73,11,22,33,45,54,63,73,11,22,33,45,54,63,73,11,22,33,45,54,63,73,11,22,33,45,54,63,73,11,22,33,45,54,63,73,11,22,33,45,54,63,73,11,22,33,45,54,63,73,11,22,33,45,54,63,73,11,22,33,45,54,63,73,11,22,33,45,54,63,73,11,22,33,45,54,63,73,11,22,33,45,54,63,73,11,22,33,45,54,63,73,11,22,33,45,54,63,73,11,22,33,45,54,63,73,11,22,33,45,54,63,73,11,22,33,45,54,63,73,11,22,33,45,54,63,73,11,22,33,45,54,63,73,11,22,33,45,54,63,73,11,22,33,45,54,63,73,11,22,33,45,54,63,73,11,22,33,45,54,63,73,11,22,33,45,54,63,73,11,22,33,45,54,63,73,11,22,33,45,54,63,73,11,22,33,45,54,63,73,11,22,33,45,54,63,73,11,22,33,45,54,63,73,11,22,33,45,54,63,73,11,22,33,45,54,63,73,11,22,33,45,54,63,73,11,22,33,45,54,63,73,11,22,33,45,54,63,73,11,22,33,45,54,63,73,11,22,33,45,54,63,73,11,22,33,45,54,63,73,11,22,33,45,54,63,73,11,22,33,45,54,63,73,11,22,33,45,54,63,73,11,22,33,45,54,63,73,11,22,33,45,54,63,73,11,22,33,45,54,63,73,11,22,33,45,54,63,73,11,22,33,45,54,63,73,11,22,33,45,54,63,73,11,22,33,45,54,63,73,11,22,33,45,54,63,73,11,22,33,45,54,63,73,11,22,33,45,54,63,73,11,22,33,45,54,63,73,11,22,33,45,54,63,73,11,22,33,45,54,63,73,11,22,33,45,54,63,73,11,22,33,45,54,63,73,11,22,33,45,54,63,73,11,22,33,45,54,63,73,11,22,33,45,54,63,73,11,22,33,45,54,63,73,11,22,33,45,54,63,73,11,22,33,45,54,63,73,11,22,33,45,54,63,73,11,22,33,45,54,63,73,11,22,33,45,54,63,73,11,22,33,45,54,63,73,11,22,33,45,54,63,73,11,22,33,45,54,63,73,11,22,33,45,54,63,73,11,22,33,45,54,63,73,11,22,33,45,54,63,73,11,22,33,45,54,63,73,11,22,33,45,54,63,73,11,22,33,45,54,63,73,11,22,33,45,54,63,73,11,22,33,45,54,63,73,11,22,33,45,54,63,73,11,22,33,45,54,63,73,11,22,33,45,54,63,73,11,22,33,45,54,63,73,11,22,33,45,54,63,73,11,22,33,45,54,63,73,11,22,33,45,54,63,73,11,22,33,45,54,63,73,11,22,33,45,54,63,73,11,22,33,45,54,63,73,11,22,33,45,54,63,73,11,22,33,45,54,63,73,11,22,33,45,54,63,73,11,22,33,45,54,63,73,11,22,33,45,54,63,73,11,22,33,45,54,63,73,11,22,33,45,54,63,73,11,22,33,45,54,63,73,11,22,33,45,54,63,73,11,22,33,45,54,63,73,11,22,33,45,54,63,73,11,22,33,45,54,63,73,11,22,33,45,54,63,73,11,22,33,45,54,63,73,11,22,33,45,54,63,73,11,22,33,45,54,63,73,11,22,33,45,54,63,73,11,22,33,45,54,63,73,11,22,33,45,54,63,73,11,22,33,45,54,63,73,11,22,33,45,54,63,73,11,22,33,45,54,63,73,11,22,33,45,54,63,73,11,22,33,45,54,63,73,11,22,33,45,54,63,73,11,22,33,45,54,63,73,11,22,33,45,54,63,73,11,22,33,45,54,63,73,11,22,33,45,54,63,73,11,22,33,45,54,63,73,11,22,33,45,54,63,73,11,22,33,45,54,63,73,11,22,33,45,54,63,73,11,22,33,45,54,63,73,11,22,33,45,54,63,73,11,22,33,45,54,63,73,11,22,33,45,54,63,73,11,22,33,45,54,63,73,11,22,33,45,54,63,73,11,22,33,45,54,63,73,11,22,33,45,54,63,73,11,22,33,45,54,63,73,11,22,33,45,54,63,73,11,22,33,45,54,63,73,11,22,33,45,54,63,73,11,22,33,45,54,63,73,11,22,33,45,54,63,73,11,22,33,45,54,63,73,11,22,33,45,54,63,73,11,22,33,45,54,63,73,11,22,33,45,54,63,73,11,22,33,45,54,63,73,11,22,33,45,54,63,73,11,22,33,45,54,63,73,11,22,33,45,54,63,73,11,22,33,45,54,63,73,11,22,33,45,54,63,73,11,22,33,45,54,63,73,11,22,33,45,54,63,73,11,22,33,45,54,63,73,11,22,33,45,54,63,73,11,22,33,45,54,63,73,11,22,33,45,54,63,73,11,22,33,45,54,63,73,11,22,33,45,54,63,73,11,22,33,45,54,63,73,11,22,33,45,54,63,73,11,22,33,45,54,63,73,11,22,33,45,54,63,73,11,22,33,45,54,63,73,11,22,33,45,54,63,73,11,22,33,45,54,63,73,11,22,33,45,54,63,73,11,22,33,45,54,63,73,11,22,33,45,54,63,73,11,22,33,45,54,63,73,11,22,33,45,54,63,73,11,22,33,45,54,63,73,11,22,33,45,54,63,73,11,22,33,45,54,63,73,11,22,33,45,54,63,73,11,22,33,45,54,63,73,11,22,33,45,54,63,73,11,22,33,45,54,63,73,11,22,33,45,54,63,73,11,22,33,45,54,63,73,11,22,33,45,54,63,73,11,22,33,45,54,63,73,11,22,33,45,54,63,73,11,22,33,45,54,63,73,11,22,33,45,54,63,73,11,22,33,45,54,63,73,11,22,33,45,54,63,73,11,22,33,45,54,63,73,11,22,33,45,54,63,73,11,22,33,45,54,63,73,11,22,33,45,54,63,73,11,22,33,45,54,63,73,11,22,33,45,54,63,73,11,22,33,45,54,63,73,11,22,33,45,54,63,73,11,22,33,45,54,63,73,11,22,33,45,54,63,73,11,22,33,45,54,63,73,11,22,33,45,54,63,73,11,22,33,45,54,63,73,11,22,33,45,54,63,73,11,22,33,45,54,63,73,11,22,33,45,54,63,73,11,22,33,45,54,63,73,11,22,33,45,54,63,73,11,22,33,45,54,63,73,11,22,33,45,54,63,73,11,22,33,45,54,63,73,11,22,33,45,54,63,73,11,22,33,45,54,63,73,11,22,33,45,54,63,73,11,22,33,45,54,63,73,11,22,33,45,54,63,73,11,22,33,45,54,63,73,11,22,33,45,54,63,73,11,22,33,45,54,63,73,11,22,33,45,54,63,73,11,22,33,45,54,63,73,11,22,33,45,54,63,73,11,22,33,45,54,63,73,11,22,33,45,54,63,73,11,22,33,45,54,63,73,11,22,33,45,54,63,73,11,22,33,45,54,63,73,11,22,33,45,54,63,73,11,22,33,45,54,63,73,11,22,33,45,54,63,73,11,22,33,45,54,63,73,11,22,33,45,54,63,73,11,22,33,45,54,63,73,11,22,33,45,54,63,73,11,22,33,45,54,63,73,11,22,33,45,54,63,73,11,22,33,45,54,63,73,11,22,33,45,54,63,73,11,22,33,45,54,63,73,11,22,33,45,54,63,73,11,22,33,45,54,63,73,11,22,33,45,54,63,73,11,22,33,45,54,63,73,11,22,33,45,54,63,73,11,22,33,45,54,63,73,11,22,33,45,54,63,73,11,22,33,45,54,63,73,11,22,33,45,54,63,73,11,22,33,45,54,63,73,11,22,33,45,54,63,73,11,22,33,45,54,63,73,11,22,33,45,54,63,73,11,22,33,45,54,63,73,11,22,33,45,54,63,73,11,22,33,45,54,63,73,11,22,33,45,54,63,73,11,22,33,45,54,63,73,11,22,33,45,54,63,73,11,22,33,45,54,63,73,11,22,33,45,54,63,73,11,22,33,45,54,63,73,11,22,33,45,54,63,73,11,22,33,45,54,63,73,11,22,33,45,54,63,73,11,22,33,45,54,63,73,11,22,33,45,54,63,73,11,22,33,45,54,63,73,11,22,33,45,54,63,73,11,22,33,45,54,63,73,11,22,33,45,54,63,73,11,22,33,45,54,63,73,11,22,33,45,54,63,73,11,22,33,45,54,63,73,11,22,33,45,54,63,73,11,22,33,45,54,63,73,11,22,33,45,54,63,73,11,22,33,45,54,63,73,11,22,33,45,54,63,73,11,22,33,45,54,63,73,11,22,33,45,54,63,73,11,22,33,45,54,63,73,11,22,33,45,54,63,73,11,22,33,45,54,63,73,11,22,33,45,54,63,73,11,22,33,45,54,63,73,11,22,33,45,54,63,73,11,22,33,45,54,63,73,11,22,33,45,54,63,73,11,22,33,45,54,63,73,11,22,33,45,54,63,73,11,22,33,45,54,63,73,11,22,33,45,54,63,73,11,22,33,45,54,63,73,11,22,33,45,54,63,73,11,22,33,45,54,63,73,11,22,33,45,54,63,73,11,22,33,45,54,63,73,11,22,33,45,54,63,73,11,22,33,45,54,63,73,11,22,33,45,54,63,73,11,22,33,45,54,63,73,11,22,33,45,54,63,73,11,22,33,45,54,63,73,11,22,33,45,54,63,73,11,22,33,45,54,63,73,11,22,33,45,54,63,73,11,22,33,45,54,63,73,11,22,33,45,54,63,73,11,22,33,45,54,63,73,11,22,33,45,54,63,73,11,22,33,45,54,63,73,11,22,33,45,54,63,73,11,22,33,45,54,63,73,11,22,33,45,54,63,73,11,22,33,45,54,63,73,11,22,33,45,54,63,73,11,22,33,45,54,63,73,11,22,33,45,54,63,73,11,22,33,45,54,63,73,11,22,33,45,54,63,73,11,22,33,45,54,63,73,11,22,33,45,54,63,73,11,22,33,45,54,63,73,11,22,33,45,54,63,73,11,22,33,45,54,63,73,11,22,33,45,54,63,73,11,22,33,45,54,63,73,11,22,33,45,54,63,73,11,22,33,45,54,63,73,11,22,33,45,54,63,73,11,22,33,45,54,63,73,11,22,33,45,54,63,73,11,22,33,45,54,63,73,11,22,33,45,54,63,73,11,22,33,45,54,63,73,11,22,33,45,54,63,73,11,22,33,45,54,63,73,11,22,33,45,54,63,73,11,22,33,45,54,63,73,11,22,33,45,54,63,73,11,22,33,45,54,63,73,11,22,33,45,54,63,73,11,22,33,45,54,63,73,11,22,33,45,54,63,73,11,22,33,45,54,63,73,11,22,33,45,54,63,73,11,22,33,45,54,63,73,11,22,33,45,54,63,73,11,22,33,45,54,63,73,11,22,33,45,54,63,73,11,22,33,45,54,63,73,11,22,33,45,54,63,73,11,22,33,45,54,63,73,11,22,33,45,54,63,73,11,22,33,45,54,63,73,11,22,33,45,54,63,73,11,22,33,45,54,63,73,11,22,33,45,54,63,73,11,22,33,45,54,63,73,11,22,33,45,54,63,73,11,22,33,45,54,63,73,11,22,33,45,54,63,73,11,22,33,45,54,63,73,11,22,33,45,54,63,73,11,22,33,45,54,63,73,11,22,33,45,54,63,73,11,22,33,45,54,63,73,11,22,33,45,54,63,73,11,22,33,45,54,63,73,11,22,33,45,54,63,73,11,22,33,45,54,63,73,11,22,33,45,54,63,73,11,22,33,45,54,63,73,11,22,33,45,54,63,73,11,22,33,45,54,63,73,11,22,33,45,54,63,73,11,22,33,45,54,63,73,11,22,33,45,54,63,73,11,22,33,45,54,63,73,11,22,33,45,54,63,73,11,22,33,45,54,63,73,11,22,33,45,54,63,73,11,22,33,45,54,63,73,11,22,33,45,54,63,73,11,22,33,45,54,63,73,11,22,33,45,54,63,73,11,22,33,45,54,63,73,11,22,33,45,54,63,73,11,22,33,45,54,63,73,11,22,33,45,54,63,73,11,22,33,45,54,63,73,11,22,33,45,54,63,73,11,22,33,45,54,63,73,11,22,33,45,54,63,73,11,22,33,45,54,63,73,11,22,33,45,54,63,73,11,22,33,45,54,63,73,11,22,33,45,54,63,73,11,22,33,45,54,63,73,11,22,33,45,54,63,73,11,22,33,45,54,63,73,11,22,33,45,54,63,73,11,22,33,45,54,63,73,11,22,33,45,54,63,73,11,22,33,45,54,63,73,11,22,33,45,54,63,73,11,22,33,45,54,63,73,11,22,33,45,54,63,73,11,22,33,45,54,63,73,11,22,33,45,54,63,73,11,22,33,45,54,63,73,11,22,33,45,54,63,73,11,22,33,45,54,63,73,11,22,33,45,54,63,73,11,22,33,45,54,63,73,11,22,33,45,54,63,73,11,22,33,45,54,63,73,11,22,33,45,54,63,73,11,22,33,45,54,63,73,11,22,33,45,54,63,73,11,22,33,45,54,63,73,11,22,33,45,54,63,73,11,22,33,45,54,63,73,11,22,33,45,54,63,73,11,22,33,45,54,63,73,11,22,33,45,54,63,73,11,22,33,45,54,63,73,11,22,33,45,54,63,73,11,22,33,45,54,63,73,11,22,33,45,54,63,73,11,22,33,45,54,63,73,11,22,33,45,54,63,73,11,22,33,45,54,63,73,11,22,33,45,54,63,73,11,22,33,45,54,63,73,11,22,33,45,54,63,73,11,22,33,45,54,63,73,11,22,33,45,54,63,73,11,22,33,45,54,63,73,11,22,33,45,54,63,73,11,22,33,45,54,63,73,11,22,33,45,54,63,73,11,22,33,45,54,63,73,11,22,33,45,54,63,73,11,22,33,45,54,63,73,11,22,33,45,54,63,73,11,22,33,45,54,63,73,11,22,33,45,54,63,73,11,22,33,45,54,63,73,11,22,33,45,54,63,73,11,22,33,45,54,63,73,11,22,33,45,54,63,73,11,22,33,45,54,63,73,11,22,33,45,54,63,73,11,22,33,45,54,63,73,11,22,33,45,54,63,73,11,22,33,45,54,63,73,11,22,33,45,54,63,73,11,22,33,45,54,63,73,11,22,33,45,54,63,73,11,22,33,45,54,63,73,11,22,33,45,54,63,73,11,22,33,45,54,63,73,11,22,33,45,54,63,73,11,22,33,45,54,63,73,11,22,33,45,54,63,73,11,22,33,45,54,63,73,11,22,33,45,54,63,73,11,22,33,45,54,63,73,11,22,33,45,54,63,73,11,22,33,45,54,63,73,11,22,33,45,54,63,73,11,22,33,45,54,63,73,11,22,33,45,54,63,73,11,22,33,45,54,63,73,11,22,33,45,54,63,73,11,22,33,45,54,63,73,11,22,33,45,54,63,73,11,22,33,45,54,63,73,11,22,33,45,54,63,73,11,22,33,45,54,63,73,11,22,33,45,54,63,73,11,22,33,45,54,63,73,11,22,33,45,54,63,73,11,22,33,45,54,63,73,11,22,33,45,54,63,73,11,22,33,45,54,63,73,11,22,33,45,54,63,73,11,22,33,45,54,63,73,11,22,33,45,54,63,73,11,22,33,45,54,63,73,11,22,33,45,54,63,73,11,22,33,45,54,63,73,11,22,33,45,54,63,73,11,22,33,45,54,63,73,11,22,33,45,54,63,73,11,22,33,45,54,63,73,11,22,33,45,54,63,73,11,22,33,45,54,63,73,11,22,33,45,54,63,73,11,22,33,45,54,63,73,11,22,33,45,54,63,73,11,22,33,45,54,63,73,11,22,33,45,54,63,73,11,22,33,45,54,63,73,11,22,33,45,54,63,73,11,22,33,45,54,63,73,11,22,33,45,54,63,73,11,22,33,45,54,63,73,11,22,33,45,54,63,73,11,22,33,45,54,63,73,11,22,33,45,54,63,73,11,22,33,45,54,63,73,11,22,33,45,54,63,73,11,22,33,45,54,63,73,11,22,33,45,54,63,73,11,22,33,45,54,63,73,11,22,33,45,54,63,73,11,22,33,45,54,63,73,11,22,33,45,54,63,73,11,22,33,45,54,63,73,11,22,33,45,54,63,73,11,22,33,45,54,63,73,11,22,33,45,54,63,73,11,22,33,45,54,63,73,11,22,33,45,54,63,73,11,22,33,45,54,63,73,11,22,33,45,54,63,73,11,22,33,45,54,63,73,11,22,33,45,54,63,73,11,22,33,45,54,63,73,11,22,33,45,54,63,73,11,22,33,45,54,63,73,11,22,33,45,54,63,73,11,22,33,45,54,63,73,11,22,33,45,54,63,73,11,22,33,45,54,63,73,11,22,33,45,54,63,73,11,22,33,45,54,63,73,11,22,33,45,54,63,73,11,22,33,45,54,63,73,11,22,33,45,54,63,73,11,22,33,45,54,63,73,11,22,33,45,54,63,73,11,22,33,45,54,63,73,11,22,33,45,54,63,73,11,22,33,45,54,63,73,11,22,33,45,54,63,73,11,22,33,45,54,63,73,11,22,33,45,54,63,73,11,22,33,45,54,63,73,11,22,33,45,54,63,73,11,22,33,45,54,63,73,11,22,33,45,54,63,73,11,22,33,45,54,63,73,11,22,33,45,54,63,73,11,22,33,45,54,63,73,11,22,33,45,54,63,73,11,22,33,45,54,63,73,11,22,33,45,54,63,73,11,22,33,45,54,63,73,11,22,33,45,54,63,73,11,22,33,45,54,63,73,11,22,33,45,54,63,73,11,22,33,45,54,63,73,11,22,33,45,54,63,73,11,22,33,45,54,63,73,11,22,33,45,54,63,73,11,22,33,45,54,63,73,11,22,33,45,54,63,73,11,22,33,45,54,63,73,11,22,33,45,54,63,73,11,22,33,45,54,63,73,11,22,33,45,54,63,73,11,22,33,45,54,63,73,11,22,33,45,54,63,73,11,22,33,45,54,63,73,11,22,33,45,54,63,73,11,22,33,45,54,63,73,11,22,33,45,54,63,73,11,22,33,45,54,63,73,11,22,33,45,54,63,73,11,22,33,45,54,63,73,11,22,33,45,54,63,73,11,22,33,45,54,63,73,11,22,33,45,54,63,73,11,22,33,45,54,63,73,11,22,33,45,54,63,73,11,22,33,45,54,63,73,11,22,33,45,54,63,73,11,22,33,45,54,63,73,11,22,33,45,54,63,73,11,22,33,45,54,63,73,11,22,33,45,54,63,73,11,22,33,45,54,63,73,11,22,33,45,54,63,73,11,22,33,45,54,63,73,11,22,33,45,54,63,73,11,22,33,45,54,63,73,11,22,33,45,54,63,73,11,22,33,45,54,63,73,11,22,33,45,54,63,73,11,22,33,45,54,63,73,11,22,33,45,54,63,73,11,22,33,45,54,63,73,11,22,33,45,54,63,73,11,22,33,45,54,63,73,11,22,33,45,54,63,73,11,22,33,45,54,63,73,11,22,33,45,54,63,73,11,22,33,45,54,63,73,11,22,33,45,54,63,73,11,22,33,45,54,63,73,11,22,33,45,54,63,73,11,22,33,45,54,63,73,11,22,33,45,54,63,73,11,22,33,45,54,63,73,11,22,33,45,54,63,73,11,22,33,45,54,63,73,11,22,33,45,54,63,73,11,22,33,45,54,63,73,11,22,33,45,54,63,73,11,22,33,45,54,63,73,11,22,33,45,54,63,73,11,22,33,45,54,63,73,11,22,33,45,54,63,73,11,22,33,45,54,63,73,11,22,33,45,54,63,73,11,22,33,45,54,63,73,11,22,33,45,54,63,73,11,22,33,45,54,63,73,11,22,33,45,54,63,73,11,22,33,45,54,63,73,11,22,33,45,54,63,73,11,22,33,45,54,63,73,11,22,33,45,54,63,73,11,22,33,45,54,63,73,11,22,33,45,54,63,73,11,22,33,45,54,63,73,11,22,33,45,54,63,73,11,22,33,45,54,63,73,11,22,33,45,54,63,73,11,22,33,45,54,63,73,11,22,33,45,54,63,73,11,22,33,45,54,63,73,11,22,33,45,54,63,73,11,22,33,45,54,63,73,11,22,33,45,54,63,73]},\"mode\":\"markers\",\"x\":[1,2,3,4,5,6,4],\"y\":[4,5,6,7,8,4,3],\"type\":\"scatter\"}],                        {\"template\":{\"data\":{\"histogram2dcontour\":[{\"type\":\"histogram2dcontour\",\"colorbar\":{\"outlinewidth\":0,\"ticks\":\"\"},\"colorscale\":[[0.0,\"#0d0887\"],[0.1111111111111111,\"#46039f\"],[0.2222222222222222,\"#7201a8\"],[0.3333333333333333,\"#9c179e\"],[0.4444444444444444,\"#bd3786\"],[0.5555555555555556,\"#d8576b\"],[0.6666666666666666,\"#ed7953\"],[0.7777777777777778,\"#fb9f3a\"],[0.8888888888888888,\"#fdca26\"],[1.0,\"#f0f921\"]]}],\"choropleth\":[{\"type\":\"choropleth\",\"colorbar\":{\"outlinewidth\":0,\"ticks\":\"\"}}],\"histogram2d\":[{\"type\":\"histogram2d\",\"colorbar\":{\"outlinewidth\":0,\"ticks\":\"\"},\"colorscale\":[[0.0,\"#0d0887\"],[0.1111111111111111,\"#46039f\"],[0.2222222222222222,\"#7201a8\"],[0.3333333333333333,\"#9c179e\"],[0.4444444444444444,\"#bd3786\"],[0.5555555555555556,\"#d8576b\"],[0.6666666666666666,\"#ed7953\"],[0.7777777777777778,\"#fb9f3a\"],[0.8888888888888888,\"#fdca26\"],[1.0,\"#f0f921\"]]}],\"heatmap\":[{\"type\":\"heatmap\",\"colorbar\":{\"outlinewidth\":0,\"ticks\":\"\"},\"colorscale\":[[0.0,\"#0d0887\"],[0.1111111111111111,\"#46039f\"],[0.2222222222222222,\"#7201a8\"],[0.3333333333333333,\"#9c179e\"],[0.4444444444444444,\"#bd3786\"],[0.5555555555555556,\"#d8576b\"],[0.6666666666666666,\"#ed7953\"],[0.7777777777777778,\"#fb9f3a\"],[0.8888888888888888,\"#fdca26\"],[1.0,\"#f0f921\"]]}],\"heatmapgl\":[{\"type\":\"heatmapgl\",\"colorbar\":{\"outlinewidth\":0,\"ticks\":\"\"},\"colorscale\":[[0.0,\"#0d0887\"],[0.1111111111111111,\"#46039f\"],[0.2222222222222222,\"#7201a8\"],[0.3333333333333333,\"#9c179e\"],[0.4444444444444444,\"#bd3786\"],[0.5555555555555556,\"#d8576b\"],[0.6666666666666666,\"#ed7953\"],[0.7777777777777778,\"#fb9f3a\"],[0.8888888888888888,\"#fdca26\"],[1.0,\"#f0f921\"]]}],\"contourcarpet\":[{\"type\":\"contourcarpet\",\"colorbar\":{\"outlinewidth\":0,\"ticks\":\"\"}}],\"contour\":[{\"type\":\"contour\",\"colorbar\":{\"outlinewidth\":0,\"ticks\":\"\"},\"colorscale\":[[0.0,\"#0d0887\"],[0.1111111111111111,\"#46039f\"],[0.2222222222222222,\"#7201a8\"],[0.3333333333333333,\"#9c179e\"],[0.4444444444444444,\"#bd3786\"],[0.5555555555555556,\"#d8576b\"],[0.6666666666666666,\"#ed7953\"],[0.7777777777777778,\"#fb9f3a\"],[0.8888888888888888,\"#fdca26\"],[1.0,\"#f0f921\"]]}],\"surface\":[{\"type\":\"surface\",\"colorbar\":{\"outlinewidth\":0,\"ticks\":\"\"},\"colorscale\":[[0.0,\"#0d0887\"],[0.1111111111111111,\"#46039f\"],[0.2222222222222222,\"#7201a8\"],[0.3333333333333333,\"#9c179e\"],[0.4444444444444444,\"#bd3786\"],[0.5555555555555556,\"#d8576b\"],[0.6666666666666666,\"#ed7953\"],[0.7777777777777778,\"#fb9f3a\"],[0.8888888888888888,\"#fdca26\"],[1.0,\"#f0f921\"]]}],\"mesh3d\":[{\"type\":\"mesh3d\",\"colorbar\":{\"outlinewidth\":0,\"ticks\":\"\"}}],\"scatter\":[{\"fillpattern\":{\"fillmode\":\"overlay\",\"size\":10,\"solidity\":0.2},\"type\":\"scatter\"}],\"parcoords\":[{\"type\":\"parcoords\",\"line\":{\"colorbar\":{\"outlinewidth\":0,\"ticks\":\"\"}}}],\"scatterpolargl\":[{\"type\":\"scatterpolargl\",\"marker\":{\"colorbar\":{\"outlinewidth\":0,\"ticks\":\"\"}}}],\"bar\":[{\"error_x\":{\"color\":\"#2a3f5f\"},\"error_y\":{\"color\":\"#2a3f5f\"},\"marker\":{\"line\":{\"color\":\"#E5ECF6\",\"width\":0.5},\"pattern\":{\"fillmode\":\"overlay\",\"size\":10,\"solidity\":0.2}},\"type\":\"bar\"}],\"scattergeo\":[{\"type\":\"scattergeo\",\"marker\":{\"colorbar\":{\"outlinewidth\":0,\"ticks\":\"\"}}}],\"scatterpolar\":[{\"type\":\"scatterpolar\",\"marker\":{\"colorbar\":{\"outlinewidth\":0,\"ticks\":\"\"}}}],\"histogram\":[{\"marker\":{\"pattern\":{\"fillmode\":\"overlay\",\"size\":10,\"solidity\":0.2}},\"type\":\"histogram\"}],\"scattergl\":[{\"type\":\"scattergl\",\"marker\":{\"colorbar\":{\"outlinewidth\":0,\"ticks\":\"\"}}}],\"scatter3d\":[{\"type\":\"scatter3d\",\"line\":{\"colorbar\":{\"outlinewidth\":0,\"ticks\":\"\"}},\"marker\":{\"colorbar\":{\"outlinewidth\":0,\"ticks\":\"\"}}}],\"scattermapbox\":[{\"type\":\"scattermapbox\",\"marker\":{\"colorbar\":{\"outlinewidth\":0,\"ticks\":\"\"}}}],\"scatterternary\":[{\"type\":\"scatterternary\",\"marker\":{\"colorbar\":{\"outlinewidth\":0,\"ticks\":\"\"}}}],\"scattercarpet\":[{\"type\":\"scattercarpet\",\"marker\":{\"colorbar\":{\"outlinewidth\":0,\"ticks\":\"\"}}}],\"carpet\":[{\"aaxis\":{\"endlinecolor\":\"#2a3f5f\",\"gridcolor\":\"white\",\"linecolor\":\"white\",\"minorgridcolor\":\"white\",\"startlinecolor\":\"#2a3f5f\"},\"baxis\":{\"endlinecolor\":\"#2a3f5f\",\"gridcolor\":\"white\",\"linecolor\":\"white\",\"minorgridcolor\":\"white\",\"startlinecolor\":\"#2a3f5f\"},\"type\":\"carpet\"}],\"table\":[{\"cells\":{\"fill\":{\"color\":\"#EBF0F8\"},\"line\":{\"color\":\"white\"}},\"header\":{\"fill\":{\"color\":\"#C8D4E3\"},\"line\":{\"color\":\"white\"}},\"type\":\"table\"}],\"barpolar\":[{\"marker\":{\"line\":{\"color\":\"#E5ECF6\",\"width\":0.5},\"pattern\":{\"fillmode\":\"overlay\",\"size\":10,\"solidity\":0.2}},\"type\":\"barpolar\"}],\"pie\":[{\"automargin\":true,\"type\":\"pie\"}]},\"layout\":{\"autotypenumbers\":\"strict\",\"colorway\":[\"#636efa\",\"#EF553B\",\"#00cc96\",\"#ab63fa\",\"#FFA15A\",\"#19d3f3\",\"#FF6692\",\"#B6E880\",\"#FF97FF\",\"#FECB52\"],\"font\":{\"color\":\"#2a3f5f\"},\"hovermode\":\"closest\",\"hoverlabel\":{\"align\":\"left\"},\"paper_bgcolor\":\"white\",\"plot_bgcolor\":\"#E5ECF6\",\"polar\":{\"bgcolor\":\"#E5ECF6\",\"angularaxis\":{\"gridcolor\":\"white\",\"linecolor\":\"white\",\"ticks\":\"\"},\"radialaxis\":{\"gridcolor\":\"white\",\"linecolor\":\"white\",\"ticks\":\"\"}},\"ternary\":{\"bgcolor\":\"#E5ECF6\",\"aaxis\":{\"gridcolor\":\"white\",\"linecolor\":\"white\",\"ticks\":\"\"},\"baxis\":{\"gridcolor\":\"white\",\"linecolor\":\"white\",\"ticks\":\"\"},\"caxis\":{\"gridcolor\":\"white\",\"linecolor\":\"white\",\"ticks\":\"\"}},\"coloraxis\":{\"colorbar\":{\"outlinewidth\":0,\"ticks\":\"\"}},\"colorscale\":{\"sequential\":[[0.0,\"#0d0887\"],[0.1111111111111111,\"#46039f\"],[0.2222222222222222,\"#7201a8\"],[0.3333333333333333,\"#9c179e\"],[0.4444444444444444,\"#bd3786\"],[0.5555555555555556,\"#d8576b\"],[0.6666666666666666,\"#ed7953\"],[0.7777777777777778,\"#fb9f3a\"],[0.8888888888888888,\"#fdca26\"],[1.0,\"#f0f921\"]],\"sequentialminus\":[[0.0,\"#0d0887\"],[0.1111111111111111,\"#46039f\"],[0.2222222222222222,\"#7201a8\"],[0.3333333333333333,\"#9c179e\"],[0.4444444444444444,\"#bd3786\"],[0.5555555555555556,\"#d8576b\"],[0.6666666666666666,\"#ed7953\"],[0.7777777777777778,\"#fb9f3a\"],[0.8888888888888888,\"#fdca26\"],[1.0,\"#f0f921\"]],\"diverging\":[[0,\"#8e0152\"],[0.1,\"#c51b7d\"],[0.2,\"#de77ae\"],[0.3,\"#f1b6da\"],[0.4,\"#fde0ef\"],[0.5,\"#f7f7f7\"],[0.6,\"#e6f5d0\"],[0.7,\"#b8e186\"],[0.8,\"#7fbc41\"],[0.9,\"#4d9221\"],[1,\"#276419\"]]},\"xaxis\":{\"gridcolor\":\"white\",\"linecolor\":\"white\",\"ticks\":\"\",\"title\":{\"standoff\":15},\"zerolinecolor\":\"white\",\"automargin\":true,\"zerolinewidth\":2},\"yaxis\":{\"gridcolor\":\"white\",\"linecolor\":\"white\",\"ticks\":\"\",\"title\":{\"standoff\":15},\"zerolinecolor\":\"white\",\"automargin\":true,\"zerolinewidth\":2},\"scene\":{\"xaxis\":{\"backgroundcolor\":\"#E5ECF6\",\"gridcolor\":\"white\",\"linecolor\":\"white\",\"showbackground\":true,\"ticks\":\"\",\"zerolinecolor\":\"white\",\"gridwidth\":2},\"yaxis\":{\"backgroundcolor\":\"#E5ECF6\",\"gridcolor\":\"white\",\"linecolor\":\"white\",\"showbackground\":true,\"ticks\":\"\",\"zerolinecolor\":\"white\",\"gridwidth\":2},\"zaxis\":{\"backgroundcolor\":\"#E5ECF6\",\"gridcolor\":\"white\",\"linecolor\":\"white\",\"showbackground\":true,\"ticks\":\"\",\"zerolinecolor\":\"white\",\"gridwidth\":2}},\"shapedefaults\":{\"line\":{\"color\":\"#2a3f5f\"}},\"annotationdefaults\":{\"arrowcolor\":\"#2a3f5f\",\"arrowhead\":0,\"arrowwidth\":1},\"geo\":{\"bgcolor\":\"white\",\"landcolor\":\"#E5ECF6\",\"subunitcolor\":\"white\",\"showland\":true,\"showlakes\":true,\"lakecolor\":\"white\"},\"title\":{\"x\":0.05},\"mapbox\":{\"style\":\"light\"}}}},                        {\"responsive\": true}                    ).then(function(){\n",
       "                            \n",
       "var gd = document.getElementById('83d85706-114c-4063-b363-437ccefd5f0b');\n",
       "var x = new MutationObserver(function (mutations, observer) {{\n",
       "        var display = window.getComputedStyle(gd).display;\n",
       "        if (!display || display === 'none') {{\n",
       "            console.log([gd, 'removed!']);\n",
       "            Plotly.purge(gd);\n",
       "            observer.disconnect();\n",
       "        }}\n",
       "}});\n",
       "\n",
       "// Listen for the removal of the full notebook cells\n",
       "var notebookContainer = gd.closest('#notebook-container');\n",
       "if (notebookContainer) {{\n",
       "    x.observe(notebookContainer, {childList: true});\n",
       "}}\n",
       "\n",
       "// Listen for the clearing of the current output cell\n",
       "var outputEl = gd.closest('.output');\n",
       "if (outputEl) {{\n",
       "    x.observe(outputEl, {childList: true});\n",
       "}}\n",
       "\n",
       "                        })                };                });            </script>        </div>"
      ]
     },
     "metadata": {},
     "output_type": "display_data"
    }
   ],
   "source": [
    "fig"
   ]
  },
  {
   "cell_type": "code",
   "execution_count": 53,
   "id": "26e982da-3e04-483c-868c-4f111383c618",
   "metadata": {},
   "outputs": [
    {
     "data": {
      "application/vnd.plotly.v1+json": {
       "config": {
        "plotlyServerURL": "https://plot.ly"
       },
       "data": [
        {
         "mode": "lines",
         "type": "scatter3d",
         "x": [
          1,
          2,
          3,
          4,
          5,
          3
         ],
         "y": [
          3,
          4,
          5,
          6,
          7,
          8,
          9
         ],
         "z": [
          4,
          5,
          6,
          3,
          2,
          3
         ]
        }
       ],
       "layout": {
        "autosize": true,
        "scene": {
         "aspectmode": "auto",
         "aspectratio": {
          "x": 0.9283177667225558,
          "y": 1.1603972084031948,
          "z": 0.9283177667225558
         },
         "camera": {
          "center": {
           "x": 0,
           "y": 0,
           "z": 0
          },
          "eye": {
           "x": 0.8572806731414271,
           "y": 0.8572806731414256,
           "z": 0.8572806731414253
          },
          "projection": {
           "type": "perspective"
          },
          "up": {
           "x": 0.9878646344098007,
           "y": 0.11572585744110317,
           "z": -0.10359049185090502
          }
         }
        },
        "template": {
         "data": {
          "bar": [
           {
            "error_x": {
             "color": "#2a3f5f"
            },
            "error_y": {
             "color": "#2a3f5f"
            },
            "marker": {
             "line": {
              "color": "#E5ECF6",
              "width": 0.5
             },
             "pattern": {
              "fillmode": "overlay",
              "size": 10,
              "solidity": 0.2
             }
            },
            "type": "bar"
           }
          ],
          "barpolar": [
           {
            "marker": {
             "line": {
              "color": "#E5ECF6",
              "width": 0.5
             },
             "pattern": {
              "fillmode": "overlay",
              "size": 10,
              "solidity": 0.2
             }
            },
            "type": "barpolar"
           }
          ],
          "carpet": [
           {
            "aaxis": {
             "endlinecolor": "#2a3f5f",
             "gridcolor": "white",
             "linecolor": "white",
             "minorgridcolor": "white",
             "startlinecolor": "#2a3f5f"
            },
            "baxis": {
             "endlinecolor": "#2a3f5f",
             "gridcolor": "white",
             "linecolor": "white",
             "minorgridcolor": "white",
             "startlinecolor": "#2a3f5f"
            },
            "type": "carpet"
           }
          ],
          "choropleth": [
           {
            "colorbar": {
             "outlinewidth": 0,
             "ticks": ""
            },
            "type": "choropleth"
           }
          ],
          "contour": [
           {
            "colorbar": {
             "outlinewidth": 0,
             "ticks": ""
            },
            "colorscale": [
             [
              0,
              "#0d0887"
             ],
             [
              0.1111111111111111,
              "#46039f"
             ],
             [
              0.2222222222222222,
              "#7201a8"
             ],
             [
              0.3333333333333333,
              "#9c179e"
             ],
             [
              0.4444444444444444,
              "#bd3786"
             ],
             [
              0.5555555555555556,
              "#d8576b"
             ],
             [
              0.6666666666666666,
              "#ed7953"
             ],
             [
              0.7777777777777778,
              "#fb9f3a"
             ],
             [
              0.8888888888888888,
              "#fdca26"
             ],
             [
              1,
              "#f0f921"
             ]
            ],
            "type": "contour"
           }
          ],
          "contourcarpet": [
           {
            "colorbar": {
             "outlinewidth": 0,
             "ticks": ""
            },
            "type": "contourcarpet"
           }
          ],
          "heatmap": [
           {
            "colorbar": {
             "outlinewidth": 0,
             "ticks": ""
            },
            "colorscale": [
             [
              0,
              "#0d0887"
             ],
             [
              0.1111111111111111,
              "#46039f"
             ],
             [
              0.2222222222222222,
              "#7201a8"
             ],
             [
              0.3333333333333333,
              "#9c179e"
             ],
             [
              0.4444444444444444,
              "#bd3786"
             ],
             [
              0.5555555555555556,
              "#d8576b"
             ],
             [
              0.6666666666666666,
              "#ed7953"
             ],
             [
              0.7777777777777778,
              "#fb9f3a"
             ],
             [
              0.8888888888888888,
              "#fdca26"
             ],
             [
              1,
              "#f0f921"
             ]
            ],
            "type": "heatmap"
           }
          ],
          "heatmapgl": [
           {
            "colorbar": {
             "outlinewidth": 0,
             "ticks": ""
            },
            "colorscale": [
             [
              0,
              "#0d0887"
             ],
             [
              0.1111111111111111,
              "#46039f"
             ],
             [
              0.2222222222222222,
              "#7201a8"
             ],
             [
              0.3333333333333333,
              "#9c179e"
             ],
             [
              0.4444444444444444,
              "#bd3786"
             ],
             [
              0.5555555555555556,
              "#d8576b"
             ],
             [
              0.6666666666666666,
              "#ed7953"
             ],
             [
              0.7777777777777778,
              "#fb9f3a"
             ],
             [
              0.8888888888888888,
              "#fdca26"
             ],
             [
              1,
              "#f0f921"
             ]
            ],
            "type": "heatmapgl"
           }
          ],
          "histogram": [
           {
            "marker": {
             "pattern": {
              "fillmode": "overlay",
              "size": 10,
              "solidity": 0.2
             }
            },
            "type": "histogram"
           }
          ],
          "histogram2d": [
           {
            "colorbar": {
             "outlinewidth": 0,
             "ticks": ""
            },
            "colorscale": [
             [
              0,
              "#0d0887"
             ],
             [
              0.1111111111111111,
              "#46039f"
             ],
             [
              0.2222222222222222,
              "#7201a8"
             ],
             [
              0.3333333333333333,
              "#9c179e"
             ],
             [
              0.4444444444444444,
              "#bd3786"
             ],
             [
              0.5555555555555556,
              "#d8576b"
             ],
             [
              0.6666666666666666,
              "#ed7953"
             ],
             [
              0.7777777777777778,
              "#fb9f3a"
             ],
             [
              0.8888888888888888,
              "#fdca26"
             ],
             [
              1,
              "#f0f921"
             ]
            ],
            "type": "histogram2d"
           }
          ],
          "histogram2dcontour": [
           {
            "colorbar": {
             "outlinewidth": 0,
             "ticks": ""
            },
            "colorscale": [
             [
              0,
              "#0d0887"
             ],
             [
              0.1111111111111111,
              "#46039f"
             ],
             [
              0.2222222222222222,
              "#7201a8"
             ],
             [
              0.3333333333333333,
              "#9c179e"
             ],
             [
              0.4444444444444444,
              "#bd3786"
             ],
             [
              0.5555555555555556,
              "#d8576b"
             ],
             [
              0.6666666666666666,
              "#ed7953"
             ],
             [
              0.7777777777777778,
              "#fb9f3a"
             ],
             [
              0.8888888888888888,
              "#fdca26"
             ],
             [
              1,
              "#f0f921"
             ]
            ],
            "type": "histogram2dcontour"
           }
          ],
          "mesh3d": [
           {
            "colorbar": {
             "outlinewidth": 0,
             "ticks": ""
            },
            "type": "mesh3d"
           }
          ],
          "parcoords": [
           {
            "line": {
             "colorbar": {
              "outlinewidth": 0,
              "ticks": ""
             }
            },
            "type": "parcoords"
           }
          ],
          "pie": [
           {
            "automargin": true,
            "type": "pie"
           }
          ],
          "scatter": [
           {
            "fillpattern": {
             "fillmode": "overlay",
             "size": 10,
             "solidity": 0.2
            },
            "type": "scatter"
           }
          ],
          "scatter3d": [
           {
            "line": {
             "colorbar": {
              "outlinewidth": 0,
              "ticks": ""
             }
            },
            "marker": {
             "colorbar": {
              "outlinewidth": 0,
              "ticks": ""
             }
            },
            "type": "scatter3d"
           }
          ],
          "scattercarpet": [
           {
            "marker": {
             "colorbar": {
              "outlinewidth": 0,
              "ticks": ""
             }
            },
            "type": "scattercarpet"
           }
          ],
          "scattergeo": [
           {
            "marker": {
             "colorbar": {
              "outlinewidth": 0,
              "ticks": ""
             }
            },
            "type": "scattergeo"
           }
          ],
          "scattergl": [
           {
            "marker": {
             "colorbar": {
              "outlinewidth": 0,
              "ticks": ""
             }
            },
            "type": "scattergl"
           }
          ],
          "scattermapbox": [
           {
            "marker": {
             "colorbar": {
              "outlinewidth": 0,
              "ticks": ""
             }
            },
            "type": "scattermapbox"
           }
          ],
          "scatterpolar": [
           {
            "marker": {
             "colorbar": {
              "outlinewidth": 0,
              "ticks": ""
             }
            },
            "type": "scatterpolar"
           }
          ],
          "scatterpolargl": [
           {
            "marker": {
             "colorbar": {
              "outlinewidth": 0,
              "ticks": ""
             }
            },
            "type": "scatterpolargl"
           }
          ],
          "scatterternary": [
           {
            "marker": {
             "colorbar": {
              "outlinewidth": 0,
              "ticks": ""
             }
            },
            "type": "scatterternary"
           }
          ],
          "surface": [
           {
            "colorbar": {
             "outlinewidth": 0,
             "ticks": ""
            },
            "colorscale": [
             [
              0,
              "#0d0887"
             ],
             [
              0.1111111111111111,
              "#46039f"
             ],
             [
              0.2222222222222222,
              "#7201a8"
             ],
             [
              0.3333333333333333,
              "#9c179e"
             ],
             [
              0.4444444444444444,
              "#bd3786"
             ],
             [
              0.5555555555555556,
              "#d8576b"
             ],
             [
              0.6666666666666666,
              "#ed7953"
             ],
             [
              0.7777777777777778,
              "#fb9f3a"
             ],
             [
              0.8888888888888888,
              "#fdca26"
             ],
             [
              1,
              "#f0f921"
             ]
            ],
            "type": "surface"
           }
          ],
          "table": [
           {
            "cells": {
             "fill": {
              "color": "#EBF0F8"
             },
             "line": {
              "color": "white"
             }
            },
            "header": {
             "fill": {
              "color": "#C8D4E3"
             },
             "line": {
              "color": "white"
             }
            },
            "type": "table"
           }
          ]
         },
         "layout": {
          "annotationdefaults": {
           "arrowcolor": "#2a3f5f",
           "arrowhead": 0,
           "arrowwidth": 1
          },
          "autotypenumbers": "strict",
          "coloraxis": {
           "colorbar": {
            "outlinewidth": 0,
            "ticks": ""
           }
          },
          "colorscale": {
           "diverging": [
            [
             0,
             "#8e0152"
            ],
            [
             0.1,
             "#c51b7d"
            ],
            [
             0.2,
             "#de77ae"
            ],
            [
             0.3,
             "#f1b6da"
            ],
            [
             0.4,
             "#fde0ef"
            ],
            [
             0.5,
             "#f7f7f7"
            ],
            [
             0.6,
             "#e6f5d0"
            ],
            [
             0.7,
             "#b8e186"
            ],
            [
             0.8,
             "#7fbc41"
            ],
            [
             0.9,
             "#4d9221"
            ],
            [
             1,
             "#276419"
            ]
           ],
           "sequential": [
            [
             0,
             "#0d0887"
            ],
            [
             0.1111111111111111,
             "#46039f"
            ],
            [
             0.2222222222222222,
             "#7201a8"
            ],
            [
             0.3333333333333333,
             "#9c179e"
            ],
            [
             0.4444444444444444,
             "#bd3786"
            ],
            [
             0.5555555555555556,
             "#d8576b"
            ],
            [
             0.6666666666666666,
             "#ed7953"
            ],
            [
             0.7777777777777778,
             "#fb9f3a"
            ],
            [
             0.8888888888888888,
             "#fdca26"
            ],
            [
             1,
             "#f0f921"
            ]
           ],
           "sequentialminus": [
            [
             0,
             "#0d0887"
            ],
            [
             0.1111111111111111,
             "#46039f"
            ],
            [
             0.2222222222222222,
             "#7201a8"
            ],
            [
             0.3333333333333333,
             "#9c179e"
            ],
            [
             0.4444444444444444,
             "#bd3786"
            ],
            [
             0.5555555555555556,
             "#d8576b"
            ],
            [
             0.6666666666666666,
             "#ed7953"
            ],
            [
             0.7777777777777778,
             "#fb9f3a"
            ],
            [
             0.8888888888888888,
             "#fdca26"
            ],
            [
             1,
             "#f0f921"
            ]
           ]
          },
          "colorway": [
           "#636efa",
           "#EF553B",
           "#00cc96",
           "#ab63fa",
           "#FFA15A",
           "#19d3f3",
           "#FF6692",
           "#B6E880",
           "#FF97FF",
           "#FECB52"
          ],
          "font": {
           "color": "#2a3f5f"
          },
          "geo": {
           "bgcolor": "white",
           "lakecolor": "white",
           "landcolor": "#E5ECF6",
           "showlakes": true,
           "showland": true,
           "subunitcolor": "white"
          },
          "hoverlabel": {
           "align": "left"
          },
          "hovermode": "closest",
          "mapbox": {
           "style": "light"
          },
          "paper_bgcolor": "white",
          "plot_bgcolor": "#E5ECF6",
          "polar": {
           "angularaxis": {
            "gridcolor": "white",
            "linecolor": "white",
            "ticks": ""
           },
           "bgcolor": "#E5ECF6",
           "radialaxis": {
            "gridcolor": "white",
            "linecolor": "white",
            "ticks": ""
           }
          },
          "scene": {
           "xaxis": {
            "backgroundcolor": "#E5ECF6",
            "gridcolor": "white",
            "gridwidth": 2,
            "linecolor": "white",
            "showbackground": true,
            "ticks": "",
            "zerolinecolor": "white"
           },
           "yaxis": {
            "backgroundcolor": "#E5ECF6",
            "gridcolor": "white",
            "gridwidth": 2,
            "linecolor": "white",
            "showbackground": true,
            "ticks": "",
            "zerolinecolor": "white"
           },
           "zaxis": {
            "backgroundcolor": "#E5ECF6",
            "gridcolor": "white",
            "gridwidth": 2,
            "linecolor": "white",
            "showbackground": true,
            "ticks": "",
            "zerolinecolor": "white"
           }
          },
          "shapedefaults": {
           "line": {
            "color": "#2a3f5f"
           }
          },
          "ternary": {
           "aaxis": {
            "gridcolor": "white",
            "linecolor": "white",
            "ticks": ""
           },
           "baxis": {
            "gridcolor": "white",
            "linecolor": "white",
            "ticks": ""
           },
           "bgcolor": "#E5ECF6",
           "caxis": {
            "gridcolor": "white",
            "linecolor": "white",
            "ticks": ""
           }
          },
          "title": {
           "x": 0.05
          },
          "xaxis": {
           "automargin": true,
           "gridcolor": "white",
           "linecolor": "white",
           "ticks": "",
           "title": {
            "standoff": 15
           },
           "zerolinecolor": "white",
           "zerolinewidth": 2
          },
          "yaxis": {
           "automargin": true,
           "gridcolor": "white",
           "linecolor": "white",
           "ticks": "",
           "title": {
            "standoff": 15
           },
           "zerolinecolor": "white",
           "zerolinewidth": 2
          }
         }
        }
       }
      },
      "image/png": "[encoded data removed]",
      "text/html": [
       "<div>                            <div id=\"812a1258-7d87-4336-9fe0-d2edb281e39c\" class=\"plotly-graph-div\" style=\"height:525px; width:100%;\"></div>            <script type=\"text/javascript\">                require([\"plotly\"], function(Plotly) {                    window.PLOTLYENV=window.PLOTLYENV || {};                                    if (document.getElementById(\"812a1258-7d87-4336-9fe0-d2edb281e39c\")) {                    Plotly.newPlot(                        \"812a1258-7d87-4336-9fe0-d2edb281e39c\",                        [{\"mode\":\"lines\",\"x\":[1,2,3,4,5,3],\"y\":[3,4,5,6,7,8,9],\"z\":[4,5,6,3,2,3],\"type\":\"scatter3d\"}],                        {\"template\":{\"data\":{\"histogram2dcontour\":[{\"type\":\"histogram2dcontour\",\"colorbar\":{\"outlinewidth\":0,\"ticks\":\"\"},\"colorscale\":[[0.0,\"#0d0887\"],[0.1111111111111111,\"#46039f\"],[0.2222222222222222,\"#7201a8\"],[0.3333333333333333,\"#9c179e\"],[0.4444444444444444,\"#bd3786\"],[0.5555555555555556,\"#d8576b\"],[0.6666666666666666,\"#ed7953\"],[0.7777777777777778,\"#fb9f3a\"],[0.8888888888888888,\"#fdca26\"],[1.0,\"#f0f921\"]]}],\"choropleth\":[{\"type\":\"choropleth\",\"colorbar\":{\"outlinewidth\":0,\"ticks\":\"\"}}],\"histogram2d\":[{\"type\":\"histogram2d\",\"colorbar\":{\"outlinewidth\":0,\"ticks\":\"\"},\"colorscale\":[[0.0,\"#0d0887\"],[0.1111111111111111,\"#46039f\"],[0.2222222222222222,\"#7201a8\"],[0.3333333333333333,\"#9c179e\"],[0.4444444444444444,\"#bd3786\"],[0.5555555555555556,\"#d8576b\"],[0.6666666666666666,\"#ed7953\"],[0.7777777777777778,\"#fb9f3a\"],[0.8888888888888888,\"#fdca26\"],[1.0,\"#f0f921\"]]}],\"heatmap\":[{\"type\":\"heatmap\",\"colorbar\":{\"outlinewidth\":0,\"ticks\":\"\"},\"colorscale\":[[0.0,\"#0d0887\"],[0.1111111111111111,\"#46039f\"],[0.2222222222222222,\"#7201a8\"],[0.3333333333333333,\"#9c179e\"],[0.4444444444444444,\"#bd3786\"],[0.5555555555555556,\"#d8576b\"],[0.6666666666666666,\"#ed7953\"],[0.7777777777777778,\"#fb9f3a\"],[0.8888888888888888,\"#fdca26\"],[1.0,\"#f0f921\"]]}],\"heatmapgl\":[{\"type\":\"heatmapgl\",\"colorbar\":{\"outlinewidth\":0,\"ticks\":\"\"},\"colorscale\":[[0.0,\"#0d0887\"],[0.1111111111111111,\"#46039f\"],[0.2222222222222222,\"#7201a8\"],[0.3333333333333333,\"#9c179e\"],[0.4444444444444444,\"#bd3786\"],[0.5555555555555556,\"#d8576b\"],[0.6666666666666666,\"#ed7953\"],[0.7777777777777778,\"#fb9f3a\"],[0.8888888888888888,\"#fdca26\"],[1.0,\"#f0f921\"]]}],\"contourcarpet\":[{\"type\":\"contourcarpet\",\"colorbar\":{\"outlinewidth\":0,\"ticks\":\"\"}}],\"contour\":[{\"type\":\"contour\",\"colorbar\":{\"outlinewidth\":0,\"ticks\":\"\"},\"colorscale\":[[0.0,\"#0d0887\"],[0.1111111111111111,\"#46039f\"],[0.2222222222222222,\"#7201a8\"],[0.3333333333333333,\"#9c179e\"],[0.4444444444444444,\"#bd3786\"],[0.5555555555555556,\"#d8576b\"],[0.6666666666666666,\"#ed7953\"],[0.7777777777777778,\"#fb9f3a\"],[0.8888888888888888,\"#fdca26\"],[1.0,\"#f0f921\"]]}],\"surface\":[{\"type\":\"surface\",\"colorbar\":{\"outlinewidth\":0,\"ticks\":\"\"},\"colorscale\":[[0.0,\"#0d0887\"],[0.1111111111111111,\"#46039f\"],[0.2222222222222222,\"#7201a8\"],[0.3333333333333333,\"#9c179e\"],[0.4444444444444444,\"#bd3786\"],[0.5555555555555556,\"#d8576b\"],[0.6666666666666666,\"#ed7953\"],[0.7777777777777778,\"#fb9f3a\"],[0.8888888888888888,\"#fdca26\"],[1.0,\"#f0f921\"]]}],\"mesh3d\":[{\"type\":\"mesh3d\",\"colorbar\":{\"outlinewidth\":0,\"ticks\":\"\"}}],\"scatter\":[{\"fillpattern\":{\"fillmode\":\"overlay\",\"size\":10,\"solidity\":0.2},\"type\":\"scatter\"}],\"parcoords\":[{\"type\":\"parcoords\",\"line\":{\"colorbar\":{\"outlinewidth\":0,\"ticks\":\"\"}}}],\"scatterpolargl\":[{\"type\":\"scatterpolargl\",\"marker\":{\"colorbar\":{\"outlinewidth\":0,\"ticks\":\"\"}}}],\"bar\":[{\"error_x\":{\"color\":\"#2a3f5f\"},\"error_y\":{\"color\":\"#2a3f5f\"},\"marker\":{\"line\":{\"color\":\"#E5ECF6\",\"width\":0.5},\"pattern\":{\"fillmode\":\"overlay\",\"size\":10,\"solidity\":0.2}},\"type\":\"bar\"}],\"scattergeo\":[{\"type\":\"scattergeo\",\"marker\":{\"colorbar\":{\"outlinewidth\":0,\"ticks\":\"\"}}}],\"scatterpolar\":[{\"type\":\"scatterpolar\",\"marker\":{\"colorbar\":{\"outlinewidth\":0,\"ticks\":\"\"}}}],\"histogram\":[{\"marker\":{\"pattern\":{\"fillmode\":\"overlay\",\"size\":10,\"solidity\":0.2}},\"type\":\"histogram\"}],\"scattergl\":[{\"type\":\"scattergl\",\"marker\":{\"colorbar\":{\"outlinewidth\":0,\"ticks\":\"\"}}}],\"scatter3d\":[{\"type\":\"scatter3d\",\"line\":{\"colorbar\":{\"outlinewidth\":0,\"ticks\":\"\"}},\"marker\":{\"colorbar\":{\"outlinewidth\":0,\"ticks\":\"\"}}}],\"scattermapbox\":[{\"type\":\"scattermapbox\",\"marker\":{\"colorbar\":{\"outlinewidth\":0,\"ticks\":\"\"}}}],\"scatterternary\":[{\"type\":\"scatterternary\",\"marker\":{\"colorbar\":{\"outlinewidth\":0,\"ticks\":\"\"}}}],\"scattercarpet\":[{\"type\":\"scattercarpet\",\"marker\":{\"colorbar\":{\"outlinewidth\":0,\"ticks\":\"\"}}}],\"carpet\":[{\"aaxis\":{\"endlinecolor\":\"#2a3f5f\",\"gridcolor\":\"white\",\"linecolor\":\"white\",\"minorgridcolor\":\"white\",\"startlinecolor\":\"#2a3f5f\"},\"baxis\":{\"endlinecolor\":\"#2a3f5f\",\"gridcolor\":\"white\",\"linecolor\":\"white\",\"minorgridcolor\":\"white\",\"startlinecolor\":\"#2a3f5f\"},\"type\":\"carpet\"}],\"table\":[{\"cells\":{\"fill\":{\"color\":\"#EBF0F8\"},\"line\":{\"color\":\"white\"}},\"header\":{\"fill\":{\"color\":\"#C8D4E3\"},\"line\":{\"color\":\"white\"}},\"type\":\"table\"}],\"barpolar\":[{\"marker\":{\"line\":{\"color\":\"#E5ECF6\",\"width\":0.5},\"pattern\":{\"fillmode\":\"overlay\",\"size\":10,\"solidity\":0.2}},\"type\":\"barpolar\"}],\"pie\":[{\"automargin\":true,\"type\":\"pie\"}]},\"layout\":{\"autotypenumbers\":\"strict\",\"colorway\":[\"#636efa\",\"#EF553B\",\"#00cc96\",\"#ab63fa\",\"#FFA15A\",\"#19d3f3\",\"#FF6692\",\"#B6E880\",\"#FF97FF\",\"#FECB52\"],\"font\":{\"color\":\"#2a3f5f\"},\"hovermode\":\"closest\",\"hoverlabel\":{\"align\":\"left\"},\"paper_bgcolor\":\"white\",\"plot_bgcolor\":\"#E5ECF6\",\"polar\":{\"bgcolor\":\"#E5ECF6\",\"angularaxis\":{\"gridcolor\":\"white\",\"linecolor\":\"white\",\"ticks\":\"\"},\"radialaxis\":{\"gridcolor\":\"white\",\"linecolor\":\"white\",\"ticks\":\"\"}},\"ternary\":{\"bgcolor\":\"#E5ECF6\",\"aaxis\":{\"gridcolor\":\"white\",\"linecolor\":\"white\",\"ticks\":\"\"},\"baxis\":{\"gridcolor\":\"white\",\"linecolor\":\"white\",\"ticks\":\"\"},\"caxis\":{\"gridcolor\":\"white\",\"linecolor\":\"white\",\"ticks\":\"\"}},\"coloraxis\":{\"colorbar\":{\"outlinewidth\":0,\"ticks\":\"\"}},\"colorscale\":{\"sequential\":[[0.0,\"#0d0887\"],[0.1111111111111111,\"#46039f\"],[0.2222222222222222,\"#7201a8\"],[0.3333333333333333,\"#9c179e\"],[0.4444444444444444,\"#bd3786\"],[0.5555555555555556,\"#d8576b\"],[0.6666666666666666,\"#ed7953\"],[0.7777777777777778,\"#fb9f3a\"],[0.8888888888888888,\"#fdca26\"],[1.0,\"#f0f921\"]],\"sequentialminus\":[[0.0,\"#0d0887\"],[0.1111111111111111,\"#46039f\"],[0.2222222222222222,\"#7201a8\"],[0.3333333333333333,\"#9c179e\"],[0.4444444444444444,\"#bd3786\"],[0.5555555555555556,\"#d8576b\"],[0.6666666666666666,\"#ed7953\"],[0.7777777777777778,\"#fb9f3a\"],[0.8888888888888888,\"#fdca26\"],[1.0,\"#f0f921\"]],\"diverging\":[[0,\"#8e0152\"],[0.1,\"#c51b7d\"],[0.2,\"#de77ae\"],[0.3,\"#f1b6da\"],[0.4,\"#fde0ef\"],[0.5,\"#f7f7f7\"],[0.6,\"#e6f5d0\"],[0.7,\"#b8e186\"],[0.8,\"#7fbc41\"],[0.9,\"#4d9221\"],[1,\"#276419\"]]},\"xaxis\":{\"gridcolor\":\"white\",\"linecolor\":\"white\",\"ticks\":\"\",\"title\":{\"standoff\":15},\"zerolinecolor\":\"white\",\"automargin\":true,\"zerolinewidth\":2},\"yaxis\":{\"gridcolor\":\"white\",\"linecolor\":\"white\",\"ticks\":\"\",\"title\":{\"standoff\":15},\"zerolinecolor\":\"white\",\"automargin\":true,\"zerolinewidth\":2},\"scene\":{\"xaxis\":{\"backgroundcolor\":\"#E5ECF6\",\"gridcolor\":\"white\",\"linecolor\":\"white\",\"showbackground\":true,\"ticks\":\"\",\"zerolinecolor\":\"white\",\"gridwidth\":2},\"yaxis\":{\"backgroundcolor\":\"#E5ECF6\",\"gridcolor\":\"white\",\"linecolor\":\"white\",\"showbackground\":true,\"ticks\":\"\",\"zerolinecolor\":\"white\",\"gridwidth\":2},\"zaxis\":{\"backgroundcolor\":\"#E5ECF6\",\"gridcolor\":\"white\",\"linecolor\":\"white\",\"showbackground\":true,\"ticks\":\"\",\"zerolinecolor\":\"white\",\"gridwidth\":2}},\"shapedefaults\":{\"line\":{\"color\":\"#2a3f5f\"}},\"annotationdefaults\":{\"arrowcolor\":\"#2a3f5f\",\"arrowhead\":0,\"arrowwidth\":1},\"geo\":{\"bgcolor\":\"white\",\"landcolor\":\"#E5ECF6\",\"subunitcolor\":\"white\",\"showland\":true,\"showlakes\":true,\"lakecolor\":\"white\"},\"title\":{\"x\":0.05},\"mapbox\":{\"style\":\"light\"}}}},                        {\"responsive\": true}                    ).then(function(){\n",
       "                            \n",
       "var gd = document.getElementById('812a1258-7d87-4336-9fe0-d2edb281e39c');\n",
       "var x = new MutationObserver(function (mutations, observer) {{\n",
       "        var display = window.getComputedStyle(gd).display;\n",
       "        if (!display || display === 'none') {{\n",
       "            console.log([gd, 'removed!']);\n",
       "            Plotly.purge(gd);\n",
       "            observer.disconnect();\n",
       "        }}\n",
       "}});\n",
       "\n",
       "// Listen for the removal of the full notebook cells\n",
       "var notebookContainer = gd.closest('#notebook-container');\n",
       "if (notebookContainer) {{\n",
       "    x.observe(notebookContainer, {childList: true});\n",
       "}}\n",
       "\n",
       "// Listen for the clearing of the current output cell\n",
       "var outputEl = gd.closest('.output');\n",
       "if (outputEl) {{\n",
       "    x.observe(outputEl, {childList: true});\n",
       "}}\n",
       "\n",
       "                        })                };                });            </script>        </div>"
      ]
     },
     "metadata": {},
     "output_type": "display_data"
    }
   ],
   "source": [
    "fig=go.Figure(data=[go.Scatter3d(x=[1,2,3,4,5,3],y=[3,4,5,6,7,8,9],z=[4,5,6,3,2,3],mode='lines')])\n",
    "fig.show()"
   ]
  },
  {
   "cell_type": "code",
   "execution_count": 55,
   "id": "8be0a1ff-9779-445c-8175-5fc07b8df06f",
   "metadata": {},
   "outputs": [
    {
     "data": {
      "application/vnd.plotly.v1+json": {
       "config": {
        "plotlyServerURL": "https://plot.ly"
       },
       "data": [
        {
         "type": "scatter3d",
         "x": [
          1,
          23,
          4,
          5,
          6
         ],
         "y": [
          4,
          5,
          6,
          7,
          8
         ],
         "z": [
          4,
          5,
          6,
          3,
          2
         ]
        }
       ],
       "layout": {
        "autosize": true,
        "dragmode": "zoom",
        "scene": {
         "aspectmode": "auto",
         "aspectratio": {
          "x": 1,
          "y": 1,
          "z": 1
         },
         "camera": {
          "center": {
           "x": 0,
           "y": 0,
           "z": 0
          },
          "eye": {
           "x": 1.25,
           "y": 1.25,
           "z": 1.25
          },
          "projection": {
           "type": "perspective"
          },
          "up": {
           "x": 0,
           "y": 0,
           "z": 1
          }
         },
         "dragmode": "orbit"
        },
        "template": {
         "data": {
          "bar": [
           {
            "error_x": {
             "color": "#2a3f5f"
            },
            "error_y": {
             "color": "#2a3f5f"
            },
            "marker": {
             "line": {
              "color": "#E5ECF6",
              "width": 0.5
             },
             "pattern": {
              "fillmode": "overlay",
              "size": 10,
              "solidity": 0.2
             }
            },
            "type": "bar"
           }
          ],
          "barpolar": [
           {
            "marker": {
             "line": {
              "color": "#E5ECF6",
              "width": 0.5
             },
             "pattern": {
              "fillmode": "overlay",
              "size": 10,
              "solidity": 0.2
             }
            },
            "type": "barpolar"
           }
          ],
          "carpet": [
           {
            "aaxis": {
             "endlinecolor": "#2a3f5f",
             "gridcolor": "white",
             "linecolor": "white",
             "minorgridcolor": "white",
             "startlinecolor": "#2a3f5f"
            },
            "baxis": {
             "endlinecolor": "#2a3f5f",
             "gridcolor": "white",
             "linecolor": "white",
             "minorgridcolor": "white",
             "startlinecolor": "#2a3f5f"
            },
            "type": "carpet"
           }
          ],
          "choropleth": [
           {
            "colorbar": {
             "outlinewidth": 0,
             "ticks": ""
            },
            "type": "choropleth"
           }
          ],
          "contour": [
           {
            "colorbar": {
             "outlinewidth": 0,
             "ticks": ""
            },
            "colorscale": [
             [
              0,
              "#0d0887"
             ],
             [
              0.1111111111111111,
              "#46039f"
             ],
             [
              0.2222222222222222,
              "#7201a8"
             ],
             [
              0.3333333333333333,
              "#9c179e"
             ],
             [
              0.4444444444444444,
              "#bd3786"
             ],
             [
              0.5555555555555556,
              "#d8576b"
             ],
             [
              0.6666666666666666,
              "#ed7953"
             ],
             [
              0.7777777777777778,
              "#fb9f3a"
             ],
             [
              0.8888888888888888,
              "#fdca26"
             ],
             [
              1,
              "#f0f921"
             ]
            ],
            "type": "contour"
           }
          ],
          "contourcarpet": [
           {
            "colorbar": {
             "outlinewidth": 0,
             "ticks": ""
            },
            "type": "contourcarpet"
           }
          ],
          "heatmap": [
           {
            "colorbar": {
             "outlinewidth": 0,
             "ticks": ""
            },
            "colorscale": [
             [
              0,
              "#0d0887"
             ],
             [
              0.1111111111111111,
              "#46039f"
             ],
             [
              0.2222222222222222,
              "#7201a8"
             ],
             [
              0.3333333333333333,
              "#9c179e"
             ],
             [
              0.4444444444444444,
              "#bd3786"
             ],
             [
              0.5555555555555556,
              "#d8576b"
             ],
             [
              0.6666666666666666,
              "#ed7953"
             ],
             [
              0.7777777777777778,
              "#fb9f3a"
             ],
             [
              0.8888888888888888,
              "#fdca26"
             ],
             [
              1,
              "#f0f921"
             ]
            ],
            "type": "heatmap"
           }
          ],
          "heatmapgl": [
           {
            "colorbar": {
             "outlinewidth": 0,
             "ticks": ""
            },
            "colorscale": [
             [
              0,
              "#0d0887"
             ],
             [
              0.1111111111111111,
              "#46039f"
             ],
             [
              0.2222222222222222,
              "#7201a8"
             ],
             [
              0.3333333333333333,
              "#9c179e"
             ],
             [
              0.4444444444444444,
              "#bd3786"
             ],
             [
              0.5555555555555556,
              "#d8576b"
             ],
             [
              0.6666666666666666,
              "#ed7953"
             ],
             [
              0.7777777777777778,
              "#fb9f3a"
             ],
             [
              0.8888888888888888,
              "#fdca26"
             ],
             [
              1,
              "#f0f921"
             ]
            ],
            "type": "heatmapgl"
           }
          ],
          "histogram": [
           {
            "marker": {
             "pattern": {
              "fillmode": "overlay",
              "size": 10,
              "solidity": 0.2
             }
            },
            "type": "histogram"
           }
          ],
          "histogram2d": [
           {
            "colorbar": {
             "outlinewidth": 0,
             "ticks": ""
            },
            "colorscale": [
             [
              0,
              "#0d0887"
             ],
             [
              0.1111111111111111,
              "#46039f"
             ],
             [
              0.2222222222222222,
              "#7201a8"
             ],
             [
              0.3333333333333333,
              "#9c179e"
             ],
             [
              0.4444444444444444,
              "#bd3786"
             ],
             [
              0.5555555555555556,
              "#d8576b"
             ],
             [
              0.6666666666666666,
              "#ed7953"
             ],
             [
              0.7777777777777778,
              "#fb9f3a"
             ],
             [
              0.8888888888888888,
              "#fdca26"
             ],
             [
              1,
              "#f0f921"
             ]
            ],
            "type": "histogram2d"
           }
          ],
          "histogram2dcontour": [
           {
            "colorbar": {
             "outlinewidth": 0,
             "ticks": ""
            },
            "colorscale": [
             [
              0,
              "#0d0887"
             ],
             [
              0.1111111111111111,
              "#46039f"
             ],
             [
              0.2222222222222222,
              "#7201a8"
             ],
             [
              0.3333333333333333,
              "#9c179e"
             ],
             [
              0.4444444444444444,
              "#bd3786"
             ],
             [
              0.5555555555555556,
              "#d8576b"
             ],
             [
              0.6666666666666666,
              "#ed7953"
             ],
             [
              0.7777777777777778,
              "#fb9f3a"
             ],
             [
              0.8888888888888888,
              "#fdca26"
             ],
             [
              1,
              "#f0f921"
             ]
            ],
            "type": "histogram2dcontour"
           }
          ],
          "mesh3d": [
           {
            "colorbar": {
             "outlinewidth": 0,
             "ticks": ""
            },
            "type": "mesh3d"
           }
          ],
          "parcoords": [
           {
            "line": {
             "colorbar": {
              "outlinewidth": 0,
              "ticks": ""
             }
            },
            "type": "parcoords"
           }
          ],
          "pie": [
           {
            "automargin": true,
            "type": "pie"
           }
          ],
          "scatter": [
           {
            "fillpattern": {
             "fillmode": "overlay",
             "size": 10,
             "solidity": 0.2
            },
            "type": "scatter"
           }
          ],
          "scatter3d": [
           {
            "line": {
             "colorbar": {
              "outlinewidth": 0,
              "ticks": ""
             }
            },
            "marker": {
             "colorbar": {
              "outlinewidth": 0,
              "ticks": ""
             }
            },
            "type": "scatter3d"
           }
          ],
          "scattercarpet": [
           {
            "marker": {
             "colorbar": {
              "outlinewidth": 0,
              "ticks": ""
             }
            },
            "type": "scattercarpet"
           }
          ],
          "scattergeo": [
           {
            "marker": {
             "colorbar": {
              "outlinewidth": 0,
              "ticks": ""
             }
            },
            "type": "scattergeo"
           }
          ],
          "scattergl": [
           {
            "marker": {
             "colorbar": {
              "outlinewidth": 0,
              "ticks": ""
             }
            },
            "type": "scattergl"
           }
          ],
          "scattermapbox": [
           {
            "marker": {
             "colorbar": {
              "outlinewidth": 0,
              "ticks": ""
             }
            },
            "type": "scattermapbox"
           }
          ],
          "scatterpolar": [
           {
            "marker": {
             "colorbar": {
              "outlinewidth": 0,
              "ticks": ""
             }
            },
            "type": "scatterpolar"
           }
          ],
          "scatterpolargl": [
           {
            "marker": {
             "colorbar": {
              "outlinewidth": 0,
              "ticks": ""
             }
            },
            "type": "scatterpolargl"
           }
          ],
          "scatterternary": [
           {
            "marker": {
             "colorbar": {
              "outlinewidth": 0,
              "ticks": ""
             }
            },
            "type": "scatterternary"
           }
          ],
          "surface": [
           {
            "colorbar": {
             "outlinewidth": 0,
             "ticks": ""
            },
            "colorscale": [
             [
              0,
              "#0d0887"
             ],
             [
              0.1111111111111111,
              "#46039f"
             ],
             [
              0.2222222222222222,
              "#7201a8"
             ],
             [
              0.3333333333333333,
              "#9c179e"
             ],
             [
              0.4444444444444444,
              "#bd3786"
             ],
             [
              0.5555555555555556,
              "#d8576b"
             ],
             [
              0.6666666666666666,
              "#ed7953"
             ],
             [
              0.7777777777777778,
              "#fb9f3a"
             ],
             [
              0.8888888888888888,
              "#fdca26"
             ],
             [
              1,
              "#f0f921"
             ]
            ],
            "type": "surface"
           }
          ],
          "table": [
           {
            "cells": {
             "fill": {
              "color": "#EBF0F8"
             },
             "line": {
              "color": "white"
             }
            },
            "header": {
             "fill": {
              "color": "#C8D4E3"
             },
             "line": {
              "color": "white"
             }
            },
            "type": "table"
           }
          ]
         },
         "layout": {
          "annotationdefaults": {
           "arrowcolor": "#2a3f5f",
           "arrowhead": 0,
           "arrowwidth": 1
          },
          "autotypenumbers": "strict",
          "coloraxis": {
           "colorbar": {
            "outlinewidth": 0,
            "ticks": ""
           }
          },
          "colorscale": {
           "diverging": [
            [
             0,
             "#8e0152"
            ],
            [
             0.1,
             "#c51b7d"
            ],
            [
             0.2,
             "#de77ae"
            ],
            [
             0.3,
             "#f1b6da"
            ],
            [
             0.4,
             "#fde0ef"
            ],
            [
             0.5,
             "#f7f7f7"
            ],
            [
             0.6,
             "#e6f5d0"
            ],
            [
             0.7,
             "#b8e186"
            ],
            [
             0.8,
             "#7fbc41"
            ],
            [
             0.9,
             "#4d9221"
            ],
            [
             1,
             "#276419"
            ]
           ],
           "sequential": [
            [
             0,
             "#0d0887"
            ],
            [
             0.1111111111111111,
             "#46039f"
            ],
            [
             0.2222222222222222,
             "#7201a8"
            ],
            [
             0.3333333333333333,
             "#9c179e"
            ],
            [
             0.4444444444444444,
             "#bd3786"
            ],
            [
             0.5555555555555556,
             "#d8576b"
            ],
            [
             0.6666666666666666,
             "#ed7953"
            ],
            [
             0.7777777777777778,
             "#fb9f3a"
            ],
            [
             0.8888888888888888,
             "#fdca26"
            ],
            [
             1,
             "#f0f921"
            ]
           ],
           "sequentialminus": [
            [
             0,
             "#0d0887"
            ],
            [
             0.1111111111111111,
             "#46039f"
            ],
            [
             0.2222222222222222,
             "#7201a8"
            ],
            [
             0.3333333333333333,
             "#9c179e"
            ],
            [
             0.4444444444444444,
             "#bd3786"
            ],
            [
             0.5555555555555556,
             "#d8576b"
            ],
            [
             0.6666666666666666,
             "#ed7953"
            ],
            [
             0.7777777777777778,
             "#fb9f3a"
            ],
            [
             0.8888888888888888,
             "#fdca26"
            ],
            [
             1,
             "#f0f921"
            ]
           ]
          },
          "colorway": [
           "#636efa",
           "#EF553B",
           "#00cc96",
           "#ab63fa",
           "#FFA15A",
           "#19d3f3",
           "#FF6692",
           "#B6E880",
           "#FF97FF",
           "#FECB52"
          ],
          "font": {
           "color": "#2a3f5f"
          },
          "geo": {
           "bgcolor": "white",
           "lakecolor": "white",
           "landcolor": "#E5ECF6",
           "showlakes": true,
           "showland": true,
           "subunitcolor": "white"
          },
          "hoverlabel": {
           "align": "left"
          },
          "hovermode": "closest",
          "mapbox": {
           "style": "light"
          },
          "paper_bgcolor": "white",
          "plot_bgcolor": "#E5ECF6",
          "polar": {
           "angularaxis": {
            "gridcolor": "white",
            "linecolor": "white",
            "ticks": ""
           },
           "bgcolor": "#E5ECF6",
           "radialaxis": {
            "gridcolor": "white",
            "linecolor": "white",
            "ticks": ""
           }
          },
          "scene": {
           "xaxis": {
            "backgroundcolor": "#E5ECF6",
            "gridcolor": "white",
            "gridwidth": 2,
            "linecolor": "white",
            "showbackground": true,
            "ticks": "",
            "zerolinecolor": "white"
           },
           "yaxis": {
            "backgroundcolor": "#E5ECF6",
            "gridcolor": "white",
            "gridwidth": 2,
            "linecolor": "white",
            "showbackground": true,
            "ticks": "",
            "zerolinecolor": "white"
           },
           "zaxis": {
            "backgroundcolor": "#E5ECF6",
            "gridcolor": "white",
            "gridwidth": 2,
            "linecolor": "white",
            "showbackground": true,
            "ticks": "",
            "zerolinecolor": "white"
           }
          },
          "shapedefaults": {
           "line": {
            "color": "#2a3f5f"
           }
          },
          "ternary": {
           "aaxis": {
            "gridcolor": "white",
            "linecolor": "white",
            "ticks": ""
           },
           "baxis": {
            "gridcolor": "white",
            "linecolor": "white",
            "ticks": ""
           },
           "bgcolor": "#E5ECF6",
           "caxis": {
            "gridcolor": "white",
            "linecolor": "white",
            "ticks": ""
           }
          },
          "title": {
           "x": 0.05
          },
          "xaxis": {
           "automargin": true,
           "gridcolor": "white",
           "linecolor": "white",
           "ticks": "",
           "title": {
            "standoff": 15
           },
           "zerolinecolor": "white",
           "zerolinewidth": 2
          },
          "yaxis": {
           "automargin": true,
           "gridcolor": "white",
           "linecolor": "white",
           "ticks": "",
           "title": {
            "standoff": 15
           },
           "zerolinecolor": "white",
           "zerolinewidth": 2
          }
         }
        }
       }
      },
      "image/png": "[encoded data removed]",
      "text/html": [
       "<div>                            <div id=\"76efe8c6-5f72-483d-8839-43cb5c3a68bd\" class=\"plotly-graph-div\" style=\"height:525px; width:100%;\"></div>            <script type=\"text/javascript\">                require([\"plotly\"], function(Plotly) {                    window.PLOTLYENV=window.PLOTLYENV || {};                                    if (document.getElementById(\"76efe8c6-5f72-483d-8839-43cb5c3a68bd\")) {                    Plotly.newPlot(                        \"76efe8c6-5f72-483d-8839-43cb5c3a68bd\",                        [{\"x\":[1,23,4,5,6],\"y\":[4,5,6,7,8],\"z\":[4,5,6,3,2],\"type\":\"scatter3d\"}],                        {\"template\":{\"data\":{\"histogram2dcontour\":[{\"type\":\"histogram2dcontour\",\"colorbar\":{\"outlinewidth\":0,\"ticks\":\"\"},\"colorscale\":[[0.0,\"#0d0887\"],[0.1111111111111111,\"#46039f\"],[0.2222222222222222,\"#7201a8\"],[0.3333333333333333,\"#9c179e\"],[0.4444444444444444,\"#bd3786\"],[0.5555555555555556,\"#d8576b\"],[0.6666666666666666,\"#ed7953\"],[0.7777777777777778,\"#fb9f3a\"],[0.8888888888888888,\"#fdca26\"],[1.0,\"#f0f921\"]]}],\"choropleth\":[{\"type\":\"choropleth\",\"colorbar\":{\"outlinewidth\":0,\"ticks\":\"\"}}],\"histogram2d\":[{\"type\":\"histogram2d\",\"colorbar\":{\"outlinewidth\":0,\"ticks\":\"\"},\"colorscale\":[[0.0,\"#0d0887\"],[0.1111111111111111,\"#46039f\"],[0.2222222222222222,\"#7201a8\"],[0.3333333333333333,\"#9c179e\"],[0.4444444444444444,\"#bd3786\"],[0.5555555555555556,\"#d8576b\"],[0.6666666666666666,\"#ed7953\"],[0.7777777777777778,\"#fb9f3a\"],[0.8888888888888888,\"#fdca26\"],[1.0,\"#f0f921\"]]}],\"heatmap\":[{\"type\":\"heatmap\",\"colorbar\":{\"outlinewidth\":0,\"ticks\":\"\"},\"colorscale\":[[0.0,\"#0d0887\"],[0.1111111111111111,\"#46039f\"],[0.2222222222222222,\"#7201a8\"],[0.3333333333333333,\"#9c179e\"],[0.4444444444444444,\"#bd3786\"],[0.5555555555555556,\"#d8576b\"],[0.6666666666666666,\"#ed7953\"],[0.7777777777777778,\"#fb9f3a\"],[0.8888888888888888,\"#fdca26\"],[1.0,\"#f0f921\"]]}],\"heatmapgl\":[{\"type\":\"heatmapgl\",\"colorbar\":{\"outlinewidth\":0,\"ticks\":\"\"},\"colorscale\":[[0.0,\"#0d0887\"],[0.1111111111111111,\"#46039f\"],[0.2222222222222222,\"#7201a8\"],[0.3333333333333333,\"#9c179e\"],[0.4444444444444444,\"#bd3786\"],[0.5555555555555556,\"#d8576b\"],[0.6666666666666666,\"#ed7953\"],[0.7777777777777778,\"#fb9f3a\"],[0.8888888888888888,\"#fdca26\"],[1.0,\"#f0f921\"]]}],\"contourcarpet\":[{\"type\":\"contourcarpet\",\"colorbar\":{\"outlinewidth\":0,\"ticks\":\"\"}}],\"contour\":[{\"type\":\"contour\",\"colorbar\":{\"outlinewidth\":0,\"ticks\":\"\"},\"colorscale\":[[0.0,\"#0d0887\"],[0.1111111111111111,\"#46039f\"],[0.2222222222222222,\"#7201a8\"],[0.3333333333333333,\"#9c179e\"],[0.4444444444444444,\"#bd3786\"],[0.5555555555555556,\"#d8576b\"],[0.6666666666666666,\"#ed7953\"],[0.7777777777777778,\"#fb9f3a\"],[0.8888888888888888,\"#fdca26\"],[1.0,\"#f0f921\"]]}],\"surface\":[{\"type\":\"surface\",\"colorbar\":{\"outlinewidth\":0,\"ticks\":\"\"},\"colorscale\":[[0.0,\"#0d0887\"],[0.1111111111111111,\"#46039f\"],[0.2222222222222222,\"#7201a8\"],[0.3333333333333333,\"#9c179e\"],[0.4444444444444444,\"#bd3786\"],[0.5555555555555556,\"#d8576b\"],[0.6666666666666666,\"#ed7953\"],[0.7777777777777778,\"#fb9f3a\"],[0.8888888888888888,\"#fdca26\"],[1.0,\"#f0f921\"]]}],\"mesh3d\":[{\"type\":\"mesh3d\",\"colorbar\":{\"outlinewidth\":0,\"ticks\":\"\"}}],\"scatter\":[{\"fillpattern\":{\"fillmode\":\"overlay\",\"size\":10,\"solidity\":0.2},\"type\":\"scatter\"}],\"parcoords\":[{\"type\":\"parcoords\",\"line\":{\"colorbar\":{\"outlinewidth\":0,\"ticks\":\"\"}}}],\"scatterpolargl\":[{\"type\":\"scatterpolargl\",\"marker\":{\"colorbar\":{\"outlinewidth\":0,\"ticks\":\"\"}}}],\"bar\":[{\"error_x\":{\"color\":\"#2a3f5f\"},\"error_y\":{\"color\":\"#2a3f5f\"},\"marker\":{\"line\":{\"color\":\"#E5ECF6\",\"width\":0.5},\"pattern\":{\"fillmode\":\"overlay\",\"size\":10,\"solidity\":0.2}},\"type\":\"bar\"}],\"scattergeo\":[{\"type\":\"scattergeo\",\"marker\":{\"colorbar\":{\"outlinewidth\":0,\"ticks\":\"\"}}}],\"scatterpolar\":[{\"type\":\"scatterpolar\",\"marker\":{\"colorbar\":{\"outlinewidth\":0,\"ticks\":\"\"}}}],\"histogram\":[{\"marker\":{\"pattern\":{\"fillmode\":\"overlay\",\"size\":10,\"solidity\":0.2}},\"type\":\"histogram\"}],\"scattergl\":[{\"type\":\"scattergl\",\"marker\":{\"colorbar\":{\"outlinewidth\":0,\"ticks\":\"\"}}}],\"scatter3d\":[{\"type\":\"scatter3d\",\"line\":{\"colorbar\":{\"outlinewidth\":0,\"ticks\":\"\"}},\"marker\":{\"colorbar\":{\"outlinewidth\":0,\"ticks\":\"\"}}}],\"scattermapbox\":[{\"type\":\"scattermapbox\",\"marker\":{\"colorbar\":{\"outlinewidth\":0,\"ticks\":\"\"}}}],\"scatterternary\":[{\"type\":\"scatterternary\",\"marker\":{\"colorbar\":{\"outlinewidth\":0,\"ticks\":\"\"}}}],\"scattercarpet\":[{\"type\":\"scattercarpet\",\"marker\":{\"colorbar\":{\"outlinewidth\":0,\"ticks\":\"\"}}}],\"carpet\":[{\"aaxis\":{\"endlinecolor\":\"#2a3f5f\",\"gridcolor\":\"white\",\"linecolor\":\"white\",\"minorgridcolor\":\"white\",\"startlinecolor\":\"#2a3f5f\"},\"baxis\":{\"endlinecolor\":\"#2a3f5f\",\"gridcolor\":\"white\",\"linecolor\":\"white\",\"minorgridcolor\":\"white\",\"startlinecolor\":\"#2a3f5f\"},\"type\":\"carpet\"}],\"table\":[{\"cells\":{\"fill\":{\"color\":\"#EBF0F8\"},\"line\":{\"color\":\"white\"}},\"header\":{\"fill\":{\"color\":\"#C8D4E3\"},\"line\":{\"color\":\"white\"}},\"type\":\"table\"}],\"barpolar\":[{\"marker\":{\"line\":{\"color\":\"#E5ECF6\",\"width\":0.5},\"pattern\":{\"fillmode\":\"overlay\",\"size\":10,\"solidity\":0.2}},\"type\":\"barpolar\"}],\"pie\":[{\"automargin\":true,\"type\":\"pie\"}]},\"layout\":{\"autotypenumbers\":\"strict\",\"colorway\":[\"#636efa\",\"#EF553B\",\"#00cc96\",\"#ab63fa\",\"#FFA15A\",\"#19d3f3\",\"#FF6692\",\"#B6E880\",\"#FF97FF\",\"#FECB52\"],\"font\":{\"color\":\"#2a3f5f\"},\"hovermode\":\"closest\",\"hoverlabel\":{\"align\":\"left\"},\"paper_bgcolor\":\"white\",\"plot_bgcolor\":\"#E5ECF6\",\"polar\":{\"bgcolor\":\"#E5ECF6\",\"angularaxis\":{\"gridcolor\":\"white\",\"linecolor\":\"white\",\"ticks\":\"\"},\"radialaxis\":{\"gridcolor\":\"white\",\"linecolor\":\"white\",\"ticks\":\"\"}},\"ternary\":{\"bgcolor\":\"#E5ECF6\",\"aaxis\":{\"gridcolor\":\"white\",\"linecolor\":\"white\",\"ticks\":\"\"},\"baxis\":{\"gridcolor\":\"white\",\"linecolor\":\"white\",\"ticks\":\"\"},\"caxis\":{\"gridcolor\":\"white\",\"linecolor\":\"white\",\"ticks\":\"\"}},\"coloraxis\":{\"colorbar\":{\"outlinewidth\":0,\"ticks\":\"\"}},\"colorscale\":{\"sequential\":[[0.0,\"#0d0887\"],[0.1111111111111111,\"#46039f\"],[0.2222222222222222,\"#7201a8\"],[0.3333333333333333,\"#9c179e\"],[0.4444444444444444,\"#bd3786\"],[0.5555555555555556,\"#d8576b\"],[0.6666666666666666,\"#ed7953\"],[0.7777777777777778,\"#fb9f3a\"],[0.8888888888888888,\"#fdca26\"],[1.0,\"#f0f921\"]],\"sequentialminus\":[[0.0,\"#0d0887\"],[0.1111111111111111,\"#46039f\"],[0.2222222222222222,\"#7201a8\"],[0.3333333333333333,\"#9c179e\"],[0.4444444444444444,\"#bd3786\"],[0.5555555555555556,\"#d8576b\"],[0.6666666666666666,\"#ed7953\"],[0.7777777777777778,\"#fb9f3a\"],[0.8888888888888888,\"#fdca26\"],[1.0,\"#f0f921\"]],\"diverging\":[[0,\"#8e0152\"],[0.1,\"#c51b7d\"],[0.2,\"#de77ae\"],[0.3,\"#f1b6da\"],[0.4,\"#fde0ef\"],[0.5,\"#f7f7f7\"],[0.6,\"#e6f5d0\"],[0.7,\"#b8e186\"],[0.8,\"#7fbc41\"],[0.9,\"#4d9221\"],[1,\"#276419\"]]},\"xaxis\":{\"gridcolor\":\"white\",\"linecolor\":\"white\",\"ticks\":\"\",\"title\":{\"standoff\":15},\"zerolinecolor\":\"white\",\"automargin\":true,\"zerolinewidth\":2},\"yaxis\":{\"gridcolor\":\"white\",\"linecolor\":\"white\",\"ticks\":\"\",\"title\":{\"standoff\":15},\"zerolinecolor\":\"white\",\"automargin\":true,\"zerolinewidth\":2},\"scene\":{\"xaxis\":{\"backgroundcolor\":\"#E5ECF6\",\"gridcolor\":\"white\",\"linecolor\":\"white\",\"showbackground\":true,\"ticks\":\"\",\"zerolinecolor\":\"white\",\"gridwidth\":2},\"yaxis\":{\"backgroundcolor\":\"#E5ECF6\",\"gridcolor\":\"white\",\"linecolor\":\"white\",\"showbackground\":true,\"ticks\":\"\",\"zerolinecolor\":\"white\",\"gridwidth\":2},\"zaxis\":{\"backgroundcolor\":\"#E5ECF6\",\"gridcolor\":\"white\",\"linecolor\":\"white\",\"showbackground\":true,\"ticks\":\"\",\"zerolinecolor\":\"white\",\"gridwidth\":2}},\"shapedefaults\":{\"line\":{\"color\":\"#2a3f5f\"}},\"annotationdefaults\":{\"arrowcolor\":\"#2a3f5f\",\"arrowhead\":0,\"arrowwidth\":1},\"geo\":{\"bgcolor\":\"white\",\"landcolor\":\"#E5ECF6\",\"subunitcolor\":\"white\",\"showland\":true,\"showlakes\":true,\"lakecolor\":\"white\"},\"title\":{\"x\":0.05},\"mapbox\":{\"style\":\"light\"}}}},                        {\"responsive\": true}                    ).then(function(){\n",
       "                            \n",
       "var gd = document.getElementById('76efe8c6-5f72-483d-8839-43cb5c3a68bd');\n",
       "var x = new MutationObserver(function (mutations, observer) {{\n",
       "        var display = window.getComputedStyle(gd).display;\n",
       "        if (!display || display === 'none') {{\n",
       "            console.log([gd, 'removed!']);\n",
       "            Plotly.purge(gd);\n",
       "            observer.disconnect();\n",
       "        }}\n",
       "}});\n",
       "\n",
       "// Listen for the removal of the full notebook cells\n",
       "var notebookContainer = gd.closest('#notebook-container');\n",
       "if (notebookContainer) {{\n",
       "    x.observe(notebookContainer, {childList: true});\n",
       "}}\n",
       "\n",
       "// Listen for the clearing of the current output cell\n",
       "var outputEl = gd.closest('.output');\n",
       "if (outputEl) {{\n",
       "    x.observe(outputEl, {childList: true});\n",
       "}}\n",
       "\n",
       "                        })                };                });            </script>        </div>"
      ]
     },
     "metadata": {},
     "output_type": "display_data"
    }
   ],
   "source": [
    "fig=go.Figure(data=[go.Scatter3d(x=[1,23,4,5,6],y=[4,5,6,7,8],z=[4,5,6,3,2])])\n",
    "fig.show()"
   ]
  },
  {
   "cell_type": "code",
   "execution_count": null,
   "id": "2076bbb1-6a04-4957-8813-2665e80e9e68",
   "metadata": {},
   "outputs": [],
   "source": []
  }
 ],
 "metadata": {
  "kernelspec": {
   "display_name": "Python 3 (ipykernel)",
   "language": "python",
   "name": "python3"
  },
  "language_info": {
   "codemirror_mode": {
    "name": "ipython",
    "version": 3
   },
   "file_extension": ".py",
   "mimetype": "text/x-python",
   "name": "python",
   "nbconvert_exporter": "python",
   "pygments_lexer": "ipython3",
   "version": "3.9.7"
  }
 },
 "nbformat": 4,
 "nbformat_minor": 5
}
