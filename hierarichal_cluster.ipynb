{
 "cells": [
  {
   "cell_type": "code",
   "execution_count": 10,
   "id": "1a5298eb-f35a-46e5-b6f2-7073a2c0af25",
   "metadata": {},
   "outputs": [],
   "source": [
    "import numpy as np \n",
    "import pandas as pd"
   ]
  },
  {
   "cell_type": "code",
   "execution_count": 11,
   "id": "7fd4b5e5-a0cc-4d2a-b75d-61034f71b260",
   "metadata": {},
   "outputs": [],
   "source": [
    "from sklearn import datasets"
   ]
  },
  {
   "cell_type": "code",
   "execution_count": 12,
   "id": "cacf6479-e82a-4a40-b82e-e0d3bb71b9cf",
   "metadata": {},
   "outputs": [],
   "source": [
    "iris=datasets.load_iris()"
   ]
  },
  {
   "cell_type": "code",
   "execution_count": null,
   "id": "4d84d79c-23dd-4c62-b46a-8c69c7c56ed4",
   "metadata": {},
   "outputs": [],
   "source": []
  },
  {
   "cell_type": "code",
   "execution_count": 16,
   "id": "710a63da-91a0-4aa4-aec7-1f2a35a934f3",
   "metadata": {},
   "outputs": [],
   "source": [
    "iris_data=pd.DataFrame(iris.data,columns=iris.feature_names)"
   ]
  },
  {
   "cell_type": "code",
   "execution_count": 17,
   "id": "d2a1efc6-6799-44d7-92ce-5d87fcde2958",
   "metadata": {},
   "outputs": [
    {
     "data": {
      "text/html": [
       "<div>\n",
       "<style scoped>\n",
       "    .dataframe tbody tr th:only-of-type {\n",
       "        vertical-align: middle;\n",
       "    }\n",
       "\n",
       "    .dataframe tbody tr th {\n",
       "        vertical-align: top;\n",
       "    }\n",
       "\n",
       "    .dataframe thead th {\n",
       "        text-align: right;\n",
       "    }\n",
       "</style>\n",
       "<table border=\"1\" class=\"dataframe\">\n",
       "  <thead>\n",
       "    <tr style=\"text-align: right;\">\n",
       "      <th></th>\n",
       "      <th>sepal length (cm)</th>\n",
       "      <th>sepal width (cm)</th>\n",
       "      <th>petal length (cm)</th>\n",
       "      <th>petal width (cm)</th>\n",
       "    </tr>\n",
       "  </thead>\n",
       "  <tbody>\n",
       "    <tr>\n",
       "      <th>0</th>\n",
       "      <td>5.1</td>\n",
       "      <td>3.5</td>\n",
       "      <td>1.4</td>\n",
       "      <td>0.2</td>\n",
       "    </tr>\n",
       "    <tr>\n",
       "      <th>1</th>\n",
       "      <td>4.9</td>\n",
       "      <td>3.0</td>\n",
       "      <td>1.4</td>\n",
       "      <td>0.2</td>\n",
       "    </tr>\n",
       "    <tr>\n",
       "      <th>2</th>\n",
       "      <td>4.7</td>\n",
       "      <td>3.2</td>\n",
       "      <td>1.3</td>\n",
       "      <td>0.2</td>\n",
       "    </tr>\n",
       "    <tr>\n",
       "      <th>3</th>\n",
       "      <td>4.6</td>\n",
       "      <td>3.1</td>\n",
       "      <td>1.5</td>\n",
       "      <td>0.2</td>\n",
       "    </tr>\n",
       "    <tr>\n",
       "      <th>4</th>\n",
       "      <td>5.0</td>\n",
       "      <td>3.6</td>\n",
       "      <td>1.4</td>\n",
       "      <td>0.2</td>\n",
       "    </tr>\n",
       "    <tr>\n",
       "      <th>...</th>\n",
       "      <td>...</td>\n",
       "      <td>...</td>\n",
       "      <td>...</td>\n",
       "      <td>...</td>\n",
       "    </tr>\n",
       "    <tr>\n",
       "      <th>145</th>\n",
       "      <td>6.7</td>\n",
       "      <td>3.0</td>\n",
       "      <td>5.2</td>\n",
       "      <td>2.3</td>\n",
       "    </tr>\n",
       "    <tr>\n",
       "      <th>146</th>\n",
       "      <td>6.3</td>\n",
       "      <td>2.5</td>\n",
       "      <td>5.0</td>\n",
       "      <td>1.9</td>\n",
       "    </tr>\n",
       "    <tr>\n",
       "      <th>147</th>\n",
       "      <td>6.5</td>\n",
       "      <td>3.0</td>\n",
       "      <td>5.2</td>\n",
       "      <td>2.0</td>\n",
       "    </tr>\n",
       "    <tr>\n",
       "      <th>148</th>\n",
       "      <td>6.2</td>\n",
       "      <td>3.4</td>\n",
       "      <td>5.4</td>\n",
       "      <td>2.3</td>\n",
       "    </tr>\n",
       "    <tr>\n",
       "      <th>149</th>\n",
       "      <td>5.9</td>\n",
       "      <td>3.0</td>\n",
       "      <td>5.1</td>\n",
       "      <td>1.8</td>\n",
       "    </tr>\n",
       "  </tbody>\n",
       "</table>\n",
       "<p>150 rows × 4 columns</p>\n",
       "</div>"
      ],
      "text/plain": [
       "     sepal length (cm)  sepal width (cm)  petal length (cm)  petal width (cm)\n",
       "0                  5.1               3.5                1.4               0.2\n",
       "1                  4.9               3.0                1.4               0.2\n",
       "2                  4.7               3.2                1.3               0.2\n",
       "3                  4.6               3.1                1.5               0.2\n",
       "4                  5.0               3.6                1.4               0.2\n",
       "..                 ...               ...                ...               ...\n",
       "145                6.7               3.0                5.2               2.3\n",
       "146                6.3               2.5                5.0               1.9\n",
       "147                6.5               3.0                5.2               2.0\n",
       "148                6.2               3.4                5.4               2.3\n",
       "149                5.9               3.0                5.1               1.8\n",
       "\n",
       "[150 rows x 4 columns]"
      ]
     },
     "execution_count": 17,
     "metadata": {},
     "output_type": "execute_result"
    }
   ],
   "source": [
    "iris_data"
   ]
  },
  {
   "cell_type": "code",
   "execution_count": 24,
   "id": "f5325acc-53d7-4ff1-8e8d-dec3034be0f9",
   "metadata": {},
   "outputs": [],
   "source": [
    "y=iris.target"
   ]
  },
  {
   "cell_type": "code",
   "execution_count": 25,
   "id": "f44ee3b2-276d-40c9-ab72-db963a2b4816",
   "metadata": {},
   "outputs": [
    {
     "data": {
      "text/plain": [
       "array([0, 0, 0, 0, 0, 0, 0, 0, 0, 0, 0, 0, 0, 0, 0, 0, 0, 0, 0, 0, 0, 0,\n",
       "       0, 0, 0, 0, 0, 0, 0, 0, 0, 0, 0, 0, 0, 0, 0, 0, 0, 0, 0, 0, 0, 0,\n",
       "       0, 0, 0, 0, 0, 0, 1, 1, 1, 1, 1, 1, 1, 1, 1, 1, 1, 1, 1, 1, 1, 1,\n",
       "       1, 1, 1, 1, 1, 1, 1, 1, 1, 1, 1, 1, 1, 1, 1, 1, 1, 1, 1, 1, 1, 1,\n",
       "       1, 1, 1, 1, 1, 1, 1, 1, 1, 1, 1, 1, 2, 2, 2, 2, 2, 2, 2, 2, 2, 2,\n",
       "       2, 2, 2, 2, 2, 2, 2, 2, 2, 2, 2, 2, 2, 2, 2, 2, 2, 2, 2, 2, 2, 2,\n",
       "       2, 2, 2, 2, 2, 2, 2, 2, 2, 2, 2, 2, 2, 2, 2, 2, 2, 2])"
      ]
     },
     "execution_count": 25,
     "metadata": {},
     "output_type": "execute_result"
    }
   ],
   "source": [
    "y"
   ]
  },
  {
   "cell_type": "markdown",
   "id": "b1a70ff8-fab3-4967-b953-88583f5aa93f",
   "metadata": {},
   "source": [
    "## we don't need y anywhere, we are just taking it bcz of train_test_split"
   ]
  },
  {
   "cell_type": "code",
   "execution_count": 18,
   "id": "498da19a-639f-4c1a-b255-360468388b60",
   "metadata": {},
   "outputs": [],
   "source": [
    "## in cluster we need to do feature scaling and feature extraction"
   ]
  },
  {
   "cell_type": "code",
   "execution_count": 23,
   "id": "7c19bcf6-a74b-4a4e-a657-916987655975",
   "metadata": {},
   "outputs": [],
   "source": [
    "from sklearn.model_selection import train_test_split"
   ]
  },
  {
   "cell_type": "code",
   "execution_count": 26,
   "id": "694f6138-db01-4c19-a881-bc4cf936ef0d",
   "metadata": {},
   "outputs": [],
   "source": [
    "x_train,x_test,y_train,y_test=train_test_split(iris_data,y,test_size=0.33,random_state=42)"
   ]
  },
  {
   "cell_type": "code",
   "execution_count": null,
   "id": "e188b649-cb46-40a5-b7dc-9f7d27f43248",
   "metadata": {},
   "outputs": [],
   "source": []
  },
  {
   "cell_type": "code",
   "execution_count": null,
   "id": "51f5f01a-2007-4984-833d-023de0944cd9",
   "metadata": {},
   "outputs": [],
   "source": []
  },
  {
   "cell_type": "code",
   "execution_count": 27,
   "id": "374bbdc9-4f08-4278-b51e-27efcebb8274",
   "metadata": {},
   "outputs": [],
   "source": [
    "from sklearn.preprocessing import StandardScaler"
   ]
  },
  {
   "cell_type": "code",
   "execution_count": 28,
   "id": "d915752d-2d47-41fd-900f-4c72728769d0",
   "metadata": {},
   "outputs": [],
   "source": [
    "scaler=StandardScaler()"
   ]
  },
  {
   "cell_type": "code",
   "execution_count": 29,
   "id": "9b9eae75-e97e-4f85-a8fb-ce7a07a23c95",
   "metadata": {},
   "outputs": [],
   "source": [
    "x_train_scaled=scaler.fit_transform(x_train)"
   ]
  },
  {
   "cell_type": "code",
   "execution_count": 30,
   "id": "036fb3fa-58b3-4850-974c-d53debf41c05",
   "metadata": {},
   "outputs": [
    {
     "data": {
      "text/plain": [
       "(100, 4)"
      ]
     },
     "execution_count": 30,
     "metadata": {},
     "output_type": "execute_result"
    }
   ],
   "source": [
    "x_train_scaled.shape"
   ]
  },
  {
   "cell_type": "code",
   "execution_count": 31,
   "id": "5d41fb4d-20d4-47b8-82f8-e1c89b98b53b",
   "metadata": {},
   "outputs": [],
   "source": [
    "x_test_scaled=scaler.transform(x_test)"
   ]
  },
  {
   "cell_type": "code",
   "execution_count": 33,
   "id": "982abbfe-3417-49eb-9ca2-c976f2e9fd01",
   "metadata": {},
   "outputs": [
    {
     "data": {
      "text/plain": [
       "(50, 4)"
      ]
     },
     "execution_count": 33,
     "metadata": {},
     "output_type": "execute_result"
    }
   ],
   "source": [
    "x_test_scaled.shape"
   ]
  },
  {
   "cell_type": "code",
   "execution_count": 34,
   "id": "43bd793b-4b64-4f56-97d3-93213a843a20",
   "metadata": {},
   "outputs": [],
   "source": [
    "from sklearn.decomposition import PCA"
   ]
  },
  {
   "cell_type": "code",
   "execution_count": 35,
   "id": "f73fa70a-013b-4579-afeb-8970b287e208",
   "metadata": {},
   "outputs": [],
   "source": [
    "pca=PCA(n_components=2)"
   ]
  },
  {
   "cell_type": "code",
   "execution_count": 36,
   "id": "3717f95a-5042-4649-aae8-d20c35f7e013",
   "metadata": {},
   "outputs": [
    {
     "data": {
      "text/html": [
       "<style>#sk-container-id-1 {color: black;background-color: white;}#sk-container-id-1 pre{padding: 0;}#sk-container-id-1 div.sk-toggleable {background-color: white;}#sk-container-id-1 label.sk-toggleable__label {cursor: pointer;display: block;width: 100%;margin-bottom: 0;padding: 0.3em;box-sizing: border-box;text-align: center;}#sk-container-id-1 label.sk-toggleable__label-arrow:before {content: \"▸\";float: left;margin-right: 0.25em;color: #696969;}#sk-container-id-1 label.sk-toggleable__label-arrow:hover:before {color: black;}#sk-container-id-1 div.sk-estimator:hover label.sk-toggleable__label-arrow:before {color: black;}#sk-container-id-1 div.sk-toggleable__content {max-height: 0;max-width: 0;overflow: hidden;text-align: left;background-color: #f0f8ff;}#sk-container-id-1 div.sk-toggleable__content pre {margin: 0.2em;color: black;border-radius: 0.25em;background-color: #f0f8ff;}#sk-container-id-1 input.sk-toggleable__control:checked~div.sk-toggleable__content {max-height: 200px;max-width: 100%;overflow: auto;}#sk-container-id-1 input.sk-toggleable__control:checked~label.sk-toggleable__label-arrow:before {content: \"▾\";}#sk-container-id-1 div.sk-estimator input.sk-toggleable__control:checked~label.sk-toggleable__label {background-color: #d4ebff;}#sk-container-id-1 div.sk-label input.sk-toggleable__control:checked~label.sk-toggleable__label {background-color: #d4ebff;}#sk-container-id-1 input.sk-hidden--visually {border: 0;clip: rect(1px 1px 1px 1px);clip: rect(1px, 1px, 1px, 1px);height: 1px;margin: -1px;overflow: hidden;padding: 0;position: absolute;width: 1px;}#sk-container-id-1 div.sk-estimator {font-family: monospace;background-color: #f0f8ff;border: 1px dotted black;border-radius: 0.25em;box-sizing: border-box;margin-bottom: 0.5em;}#sk-container-id-1 div.sk-estimator:hover {background-color: #d4ebff;}#sk-container-id-1 div.sk-parallel-item::after {content: \"\";width: 100%;border-bottom: 1px solid gray;flex-grow: 1;}#sk-container-id-1 div.sk-label:hover label.sk-toggleable__label {background-color: #d4ebff;}#sk-container-id-1 div.sk-serial::before {content: \"\";position: absolute;border-left: 1px solid gray;box-sizing: border-box;top: 0;bottom: 0;left: 50%;z-index: 0;}#sk-container-id-1 div.sk-serial {display: flex;flex-direction: column;align-items: center;background-color: white;padding-right: 0.2em;padding-left: 0.2em;position: relative;}#sk-container-id-1 div.sk-item {position: relative;z-index: 1;}#sk-container-id-1 div.sk-parallel {display: flex;align-items: stretch;justify-content: center;background-color: white;position: relative;}#sk-container-id-1 div.sk-item::before, #sk-container-id-1 div.sk-parallel-item::before {content: \"\";position: absolute;border-left: 1px solid gray;box-sizing: border-box;top: 0;bottom: 0;left: 50%;z-index: -1;}#sk-container-id-1 div.sk-parallel-item {display: flex;flex-direction: column;z-index: 1;position: relative;background-color: white;}#sk-container-id-1 div.sk-parallel-item:first-child::after {align-self: flex-end;width: 50%;}#sk-container-id-1 div.sk-parallel-item:last-child::after {align-self: flex-start;width: 50%;}#sk-container-id-1 div.sk-parallel-item:only-child::after {width: 0;}#sk-container-id-1 div.sk-dashed-wrapped {border: 1px dashed gray;margin: 0 0.4em 0.5em 0.4em;box-sizing: border-box;padding-bottom: 0.4em;background-color: white;}#sk-container-id-1 div.sk-label label {font-family: monospace;font-weight: bold;display: inline-block;line-height: 1.2em;}#sk-container-id-1 div.sk-label-container {text-align: center;}#sk-container-id-1 div.sk-container {/* jupyter's `normalize.less` sets `[hidden] { display: none; }` but bootstrap.min.css set `[hidden] { display: none !important; }` so we also need the `!important` here to be able to override the default hidden behavior on the sphinx rendered scikit-learn.org. See: https://github.com/scikit-learn/scikit-learn/issues/21755 */display: inline-block !important;position: relative;}#sk-container-id-1 div.sk-text-repr-fallback {display: none;}</style><div id=\"sk-container-id-1\" class=\"sk-top-container\"><div class=\"sk-text-repr-fallback\"><pre>PCA(n_components=2)</pre><b>In a Jupyter environment, please rerun this cell to show the HTML representation or trust the notebook. <br />On GitHub, the HTML representation is unable to render, please try loading this page with nbviewer.org.</b></div><div class=\"sk-container\" hidden><div class=\"sk-item\"><div class=\"sk-estimator sk-toggleable\"><input class=\"sk-toggleable__control sk-hidden--visually\" id=\"sk-estimator-id-1\" type=\"checkbox\" checked><label for=\"sk-estimator-id-1\" class=\"sk-toggleable__label sk-toggleable__label-arrow\">PCA</label><div class=\"sk-toggleable__content\"><pre>PCA(n_components=2)</pre></div></div></div></div></div>"
      ],
      "text/plain": [
       "PCA(n_components=2)"
      ]
     },
     "execution_count": 36,
     "metadata": {},
     "output_type": "execute_result"
    }
   ],
   "source": [
    "pca"
   ]
  },
  {
   "cell_type": "code",
   "execution_count": 37,
   "id": "61ca9d00-5b4c-4895-b108-eb2ee896ff98",
   "metadata": {},
   "outputs": [],
   "source": [
    "x_train_pca=pca.fit_transform(x_train_scaled)"
   ]
  },
  {
   "cell_type": "code",
   "execution_count": 38,
   "id": "f433d154-d150-4336-be9f-19bd37c278e6",
   "metadata": {},
   "outputs": [
    {
     "data": {
      "text/plain": [
       "array([[ 1.80806614e-01, -2.89949359e-01],\n",
       "       [ 2.75947391e+00,  7.94235451e-01],\n",
       "       [ 3.17594511e-01, -9.45982904e-02],\n",
       "       [-2.32440574e+00,  7.19534192e-01],\n",
       "       [ 2.89034253e+00,  3.83181790e-01],\n",
       "       [ 9.05159418e-02, -7.14099562e-01],\n",
       "       [-2.20600792e+00,  5.37801954e-01],\n",
       "       [-2.34527922e+00,  6.82952398e-01],\n",
       "       [-2.16615986e+00,  1.40565078e+00],\n",
       "       [-2.35861703e-01, -2.62064130e+00],\n",
       "       [ 1.29215434e+00, -4.51285945e-01],\n",
       "       [-2.28947676e+00,  3.72071435e-01],\n",
       "       [-2.04476529e+00, -4.40595361e-01],\n",
       "       [-1.88267168e+00,  2.91543549e-01],\n",
       "       [ 2.27401497e-01, -7.79670305e-01],\n",
       "       [-2.23538174e+00,  4.96238752e-01],\n",
       "       [ 4.92558369e-02, -7.21576139e-02],\n",
       "       [ 2.49347327e+00,  2.63341104e+00],\n",
       "       [-2.47641430e+00, -1.62346440e-01],\n",
       "       [ 5.31834309e-01, -7.89996223e-02],\n",
       "       [ 1.20888081e+00, -1.13886009e+00],\n",
       "       [-2.45578771e+00,  2.45460025e+00],\n",
       "       [ 9.02934447e-01,  9.33884816e-02],\n",
       "       [ 1.11975915e+00, -6.54642835e-01],\n",
       "       [ 4.58277852e-01, -1.74953951e+00],\n",
       "       [ 1.90794006e-01, -1.78769270e-01],\n",
       "       [ 1.39666933e+00,  1.10609402e+00],\n",
       "       [ 3.15938649e-01, -1.71807128e+00],\n",
       "       [-2.09900954e+00,  1.75468040e+00],\n",
       "       [-4.68907273e-01, -1.95023270e+00],\n",
       "       [ 1.56821354e+00, -4.01085320e-01],\n",
       "       [-2.27781086e+00,  2.29813247e-01],\n",
       "       [-2.29086616e+00,  4.95094239e-03],\n",
       "       [ 3.97817967e-02, -1.50735010e+00],\n",
       "       [ 1.33823587e+00,  3.83005503e-01],\n",
       "       [-2.19718954e+00, -2.59385411e-01],\n",
       "       [ 1.44752763e+00, -4.00695192e-01],\n",
       "       [-2.29878199e+00,  4.54153263e-01],\n",
       "       [-2.01354029e+00,  7.02597211e-01],\n",
       "       [ 7.29539059e-01,  4.98938448e-01],\n",
       "       [-5.41028248e-01, -1.45605263e+00],\n",
       "       [ 2.05254553e+00,  9.54623853e-01],\n",
       "       [ 1.01690003e+00, -5.88549804e-01],\n",
       "       [ 1.15232360e+00, -7.79722568e-01],\n",
       "       [ 2.80584842e+00,  8.45761467e-01],\n",
       "       [ 2.05943513e-01, -1.27043583e+00],\n",
       "       [-2.43822210e+00, -9.17970604e-01],\n",
       "       [-2.73525243e+00, -7.43831213e-01],\n",
       "       [ 1.18130823e+00, -1.71418672e+00],\n",
       "       [ 1.96205954e+00,  1.05231727e+00],\n",
       "       [-2.38739030e+00, -3.85641880e-01],\n",
       "       [-2.24785253e+00,  7.25560175e-01],\n",
       "       [-2.52724610e+00, -6.94675164e-01],\n",
       "       [ 1.17248985e+00, -9.16999350e-01],\n",
       "       [ 1.60467565e+00,  1.15525007e+00],\n",
       "       [-2.50985623e+00,  2.91314999e-01],\n",
       "       [ 1.87798113e+00,  4.51806365e-01],\n",
       "       [ 1.87233216e+00,  9.39547473e-01],\n",
       "       [-2.44704048e+00, -1.20783239e-01],\n",
       "       [ 6.81092999e-01, -1.12969977e-01],\n",
       "       [ 1.03221835e+00, -1.62942051e-01],\n",
       "       [ 1.13973009e+00, -2.70075995e-01],\n",
       "       [ 1.08670257e+00,  9.37252615e-01],\n",
       "       [ 1.59943853e+00,  7.42107252e-01],\n",
       "       [-2.42134558e+00,  1.39203195e+00],\n",
       "       [ 1.85235738e+00,  7.17187295e-01],\n",
       "       [ 4.05715968e-01,  3.00913146e-02],\n",
       "       [ 1.50914786e+00,  3.17957048e-01],\n",
       "       [-1.22045343e-01, -9.83136508e-01],\n",
       "       [-5.17256042e-02, -9.43553145e-01],\n",
       "       [ 5.92068998e-01,  1.10325463e-01],\n",
       "       [-2.00230966e+00, -2.21328779e+00],\n",
       "       [ 8.87514619e-01,  9.09092008e-02],\n",
       "       [ 2.10498470e-01, -1.05055493e+00],\n",
       "       [-2.27357394e+00,  1.25186292e+00],\n",
       "       [ 2.83823599e-02, -1.08739409e-01],\n",
       "       [ 2.29253180e+00,  4.24516441e-01],\n",
       "       [ 1.71764104e+00,  1.08221864e+00],\n",
       "       [-2.24726802e+00,  1.17974390e+00],\n",
       "       [-5.87305093e-01, -1.76850046e+00],\n",
       "       [ 2.02385387e+00,  1.10632257e+00],\n",
       "       [ 1.85089539e+00,  5.91585273e-01],\n",
       "       [-2.58275702e+00,  8.53154958e-01],\n",
       "       [ 2.02326937e+00,  6.52138840e-01],\n",
       "       [-2.17621841e+00, -4.83725427e-01],\n",
       "       [ 1.22290596e+00,  6.78419956e-01],\n",
       "       [ 2.41942996e+00,  2.47765609e-01],\n",
       "       [ 1.42034424e+00,  5.52720954e-06],\n",
       "       [ 2.01777748e-01, -5.14289375e-01],\n",
       "       [ 1.45812074e+00,  3.07471947e-01],\n",
       "       [ 9.59246402e-01, -1.37929821e+00],\n",
       "       [ 6.58634814e-01,  5.17135719e-03],\n",
       "       [ 9.46461424e-01, -5.10014679e-01],\n",
       "       [ 9.41613495e-01,  5.28698561e-02],\n",
       "       [-1.97712811e+00,  6.23539798e-01],\n",
       "       [ 4.21352324e-01, -3.46469704e-01],\n",
       "       [ 3.01887001e-01, -1.49623339e+00],\n",
       "       [-2.22364468e+00,  2.13217668e+00],\n",
       "       [ 2.64593494e-01, -9.26387612e-01],\n",
       "       [ 2.20428762e+00,  5.80151986e-01]])"
      ]
     },
     "execution_count": 38,
     "metadata": {},
     "output_type": "execute_result"
    }
   ],
   "source": [
    "x_train_pca"
   ]
  },
  {
   "cell_type": "code",
   "execution_count": 39,
   "id": "fe63c936-80e4-4cc2-a3ed-8fe0592f197d",
   "metadata": {},
   "outputs": [],
   "source": [
    "x_test_pca=pca.transform(x_test_scaled)"
   ]
  },
  {
   "cell_type": "code",
   "execution_count": 40,
   "id": "075939e7-7dec-41e2-ba5a-7bf4a80e5734",
   "metadata": {},
   "outputs": [
    {
     "data": {
      "text/plain": [
       "array([[ 0.58298415, -0.34883967],\n",
       "       [-1.93036442,  1.65109316],\n",
       "       [ 3.29805015, -0.04533114],\n",
       "       [ 0.62619309, -0.15007406],\n",
       "       [ 1.21391877, -0.04166699],\n",
       "       [-1.89207456,  0.63454719],\n",
       "       [-0.08675224, -0.33516858],\n",
       "       [ 1.90338449,  0.7276724 ],\n",
       "       [ 1.13797657, -1.63262718],\n",
       "       [ 0.17556949, -0.70309217],\n",
       "       [ 1.36512629,  0.76507022],\n",
       "       [-2.31617187, -0.5318369 ],\n",
       "       [-2.10483116,  0.88735386],\n",
       "       [-2.27374275, -0.26541139],\n",
       "       [-2.3788188 ,  1.39753565],\n",
       "       [ 0.74100965,  0.87852388],\n",
       "       [ 1.86641288,  0.33314274],\n",
       "       [ 0.08221091, -1.24092459],\n",
       "       [ 0.33788348, -0.51220022],\n",
       "       [ 1.84495489, -0.15762278],\n",
       "       [-2.34496118, -0.11921637],\n",
       "       [ 1.00036113,  0.13599626],\n",
       "       [-2.11164914,  0.46672752],\n",
       "       [ 1.76840169, -0.16364876],\n",
       "       [ 2.36508805,  2.70396319],\n",
       "       [ 1.86560799,  0.42020598],\n",
       "       [ 1.96198839, -0.72587885],\n",
       "       [ 2.05719814,  0.91358294],\n",
       "       [-2.16306545, -0.51978493],\n",
       "       [-2.22656336, -0.30094861],\n",
       "       [-2.8325103 ,  0.73083532],\n",
       "       [-2.25184949,  2.99898094],\n",
       "       [ 0.84942008,  0.58561155],\n",
       "       [-2.39155606,  0.37050457],\n",
       "       [-2.63724124, -0.24703971],\n",
       "       [ 1.51272912, -0.89237313],\n",
       "       [ 0.71480139,  0.68972108],\n",
       "       [-2.22697905,  0.76214197],\n",
       "       [-2.44280356,  0.90126643],\n",
       "       [-2.63351767,  2.09902236],\n",
       "       [ 1.11975915, -0.65464283],\n",
       "       [ 0.42775846,  0.97504056],\n",
       "       [ 1.02805259,  0.5932044 ],\n",
       "       [-2.23511527,  1.75259125],\n",
       "       [-2.21017369,  1.29394841],\n",
       "       [-0.07079785, -1.51389837],\n",
       "       [ 1.07555001, -0.24450159],\n",
       "       [ 1.33972292,  0.48920418],\n",
       "       [ 0.84101739,  0.31970834],\n",
       "       [ 2.31196816,  1.99029235]])"
      ]
     },
     "execution_count": 40,
     "metadata": {},
     "output_type": "execute_result"
    }
   ],
   "source": [
    "x_test_pca"
   ]
  },
  {
   "cell_type": "code",
   "execution_count": 41,
   "id": "87a284da-682a-46d2-a4b0-afea25746601",
   "metadata": {},
   "outputs": [],
   "source": [
    "import matplotlib.pyplot as plt\n",
    "%matplotlib inline"
   ]
  },
  {
   "cell_type": "code",
   "execution_count": 42,
   "id": "98cb25c0-4f3d-4e1d-a63c-d0a5c4a15423",
   "metadata": {},
   "outputs": [
    {
     "data": {
      "text/plain": [
       "<matplotlib.collections.PathCollection at 0x7fa9c8555570>"
      ]
     },
     "execution_count": 42,
     "metadata": {},
     "output_type": "execute_result"
    },
    {
     "data": {
      "image/png": "[encoded data removed]",
      "text/plain": [
       "<Figure size 640x480 with 1 Axes>"
      ]
     },
     "metadata": {},
     "output_type": "display_data"
    }
   ],
   "source": [
    "plt.scatter(x_train_pca[:,0],x_train_pca[:,1])"
   ]
  },
  {
   "cell_type": "code",
   "execution_count": 43,
   "id": "5c70b81c-472b-48c4-89e4-1f8e34f62b81",
   "metadata": {},
   "outputs": [],
   "source": [
    "## Agglomerative clustering to construct dendogram\n",
    "import scipy.cluster.hierarchy as sc\n"
   ]
  },
  {
   "cell_type": "code",
   "execution_count": 51,
   "id": "8a235b2b-e232-4014-9261-e7786a2a9231",
   "metadata": {},
   "outputs": [
    {
     "data": {
      "text/plain": [
       "Text(0, 0.5, 'Eucledian Distance')"
      ]
     },
     "execution_count": 51,
     "metadata": {},
     "output_type": "execute_result"
    },
    {
     "data": {
      "image/png": "[encoded data removed]",
      "text/plain": [
       "<Figure size 2000x700 with 1 Axes>"
      ]
     },
     "metadata": {},
     "output_type": "display_data"
    }
   ],
   "source": [
    "plt.figure(figsize=(20,7))\n",
    "plt.title('Dendrogram')\n",
    "\n",
    "## create dendrogram\n",
    "sc.dendrogram(sc.linkage(x_train_pca,method='ward')) ## this line is fixed to create dendrogram\n",
    "plt.xlabel('Sample Index')\n",
    "plt.ylabel('Eucledian Distance')"
   ]
  },
  {
   "cell_type": "code",
   "execution_count": 52,
   "id": "65b0f9c0-a2dc-4fc5-80bf-9ee54a559816",
   "metadata": {},
   "outputs": [],
   "source": [
    "from sklearn.cluster import AgglomerativeClustering"
   ]
  },
  {
   "cell_type": "code",
   "execution_count": 53,
   "id": "114f1ef2-5984-4187-b8a9-5fb8c50a182f",
   "metadata": {},
   "outputs": [],
   "source": [
    "cluster=AgglomerativeClustering(n_clusters=2,affinity='euclidean',linkage='ward')"
   ]
  },
  {
   "cell_type": "code",
   "execution_count": 54,
   "id": "f529cd43-4f93-45ad-ba8d-7bbfb6744afa",
   "metadata": {},
   "outputs": [
    {
     "name": "stderr",
     "output_type": "stream",
     "text": [
      "/opt/conda/lib/python3.10/site-packages/sklearn/cluster/_agglomerative.py:983: FutureWarning: Attribute `affinity` was deprecated in version 1.2 and will be removed in 1.4. Use `metric` instead\n",
      "  warnings.warn(\n"
     ]
    },
    {
     "data": {
      "text/html": [
       "<style>#sk-container-id-2 {color: black;background-color: white;}#sk-container-id-2 pre{padding: 0;}#sk-container-id-2 div.sk-toggleable {background-color: white;}#sk-container-id-2 label.sk-toggleable__label {cursor: pointer;display: block;width: 100%;margin-bottom: 0;padding: 0.3em;box-sizing: border-box;text-align: center;}#sk-container-id-2 label.sk-toggleable__label-arrow:before {content: \"▸\";float: left;margin-right: 0.25em;color: #696969;}#sk-container-id-2 label.sk-toggleable__label-arrow:hover:before {color: black;}#sk-container-id-2 div.sk-estimator:hover label.sk-toggleable__label-arrow:before {color: black;}#sk-container-id-2 div.sk-toggleable__content {max-height: 0;max-width: 0;overflow: hidden;text-align: left;background-color: #f0f8ff;}#sk-container-id-2 div.sk-toggleable__content pre {margin: 0.2em;color: black;border-radius: 0.25em;background-color: #f0f8ff;}#sk-container-id-2 input.sk-toggleable__control:checked~div.sk-toggleable__content {max-height: 200px;max-width: 100%;overflow: auto;}#sk-container-id-2 input.sk-toggleable__control:checked~label.sk-toggleable__label-arrow:before {content: \"▾\";}#sk-container-id-2 div.sk-estimator input.sk-toggleable__control:checked~label.sk-toggleable__label {background-color: #d4ebff;}#sk-container-id-2 div.sk-label input.sk-toggleable__control:checked~label.sk-toggleable__label {background-color: #d4ebff;}#sk-container-id-2 input.sk-hidden--visually {border: 0;clip: rect(1px 1px 1px 1px);clip: rect(1px, 1px, 1px, 1px);height: 1px;margin: -1px;overflow: hidden;padding: 0;position: absolute;width: 1px;}#sk-container-id-2 div.sk-estimator {font-family: monospace;background-color: #f0f8ff;border: 1px dotted black;border-radius: 0.25em;box-sizing: border-box;margin-bottom: 0.5em;}#sk-container-id-2 div.sk-estimator:hover {background-color: #d4ebff;}#sk-container-id-2 div.sk-parallel-item::after {content: \"\";width: 100%;border-bottom: 1px solid gray;flex-grow: 1;}#sk-container-id-2 div.sk-label:hover label.sk-toggleable__label {background-color: #d4ebff;}#sk-container-id-2 div.sk-serial::before {content: \"\";position: absolute;border-left: 1px solid gray;box-sizing: border-box;top: 0;bottom: 0;left: 50%;z-index: 0;}#sk-container-id-2 div.sk-serial {display: flex;flex-direction: column;align-items: center;background-color: white;padding-right: 0.2em;padding-left: 0.2em;position: relative;}#sk-container-id-2 div.sk-item {position: relative;z-index: 1;}#sk-container-id-2 div.sk-parallel {display: flex;align-items: stretch;justify-content: center;background-color: white;position: relative;}#sk-container-id-2 div.sk-item::before, #sk-container-id-2 div.sk-parallel-item::before {content: \"\";position: absolute;border-left: 1px solid gray;box-sizing: border-box;top: 0;bottom: 0;left: 50%;z-index: -1;}#sk-container-id-2 div.sk-parallel-item {display: flex;flex-direction: column;z-index: 1;position: relative;background-color: white;}#sk-container-id-2 div.sk-parallel-item:first-child::after {align-self: flex-end;width: 50%;}#sk-container-id-2 div.sk-parallel-item:last-child::after {align-self: flex-start;width: 50%;}#sk-container-id-2 div.sk-parallel-item:only-child::after {width: 0;}#sk-container-id-2 div.sk-dashed-wrapped {border: 1px dashed gray;margin: 0 0.4em 0.5em 0.4em;box-sizing: border-box;padding-bottom: 0.4em;background-color: white;}#sk-container-id-2 div.sk-label label {font-family: monospace;font-weight: bold;display: inline-block;line-height: 1.2em;}#sk-container-id-2 div.sk-label-container {text-align: center;}#sk-container-id-2 div.sk-container {/* jupyter's `normalize.less` sets `[hidden] { display: none; }` but bootstrap.min.css set `[hidden] { display: none !important; }` so we also need the `!important` here to be able to override the default hidden behavior on the sphinx rendered scikit-learn.org. See: https://github.com/scikit-learn/scikit-learn/issues/21755 */display: inline-block !important;position: relative;}#sk-container-id-2 div.sk-text-repr-fallback {display: none;}</style><div id=\"sk-container-id-2\" class=\"sk-top-container\"><div class=\"sk-text-repr-fallback\"><pre>AgglomerativeClustering(affinity=&#x27;euclidean&#x27;)</pre><b>In a Jupyter environment, please rerun this cell to show the HTML representation or trust the notebook. <br />On GitHub, the HTML representation is unable to render, please try loading this page with nbviewer.org.</b></div><div class=\"sk-container\" hidden><div class=\"sk-item\"><div class=\"sk-estimator sk-toggleable\"><input class=\"sk-toggleable__control sk-hidden--visually\" id=\"sk-estimator-id-2\" type=\"checkbox\" checked><label for=\"sk-estimator-id-2\" class=\"sk-toggleable__label sk-toggleable__label-arrow\">AgglomerativeClustering</label><div class=\"sk-toggleable__content\"><pre>AgglomerativeClustering(affinity=&#x27;euclidean&#x27;)</pre></div></div></div></div></div>"
      ],
      "text/plain": [
       "AgglomerativeClustering(affinity='euclidean')"
      ]
     },
     "execution_count": 54,
     "metadata": {},
     "output_type": "execute_result"
    }
   ],
   "source": [
    "cluster.fit(x_train_pca)"
   ]
  },
  {
   "cell_type": "code",
   "execution_count": 55,
   "id": "a5ec536e-42db-4518-ae79-b2d8ad2b402a",
   "metadata": {},
   "outputs": [
    {
     "data": {
      "text/plain": [
       "array([0, 0, 0, 1, 0, 0, 1, 1, 1, 0, 0, 1, 1, 1, 0, 1, 0, 0, 1, 0, 0, 1,\n",
       "       0, 0, 0, 0, 0, 0, 1, 0, 0, 1, 1, 0, 0, 1, 0, 1, 1, 0, 0, 0, 0, 0,\n",
       "       0, 0, 1, 1, 0, 0, 1, 1, 1, 0, 0, 1, 0, 0, 1, 0, 0, 0, 0, 0, 1, 0,\n",
       "       0, 0, 0, 0, 0, 0, 0, 0, 1, 0, 0, 0, 1, 0, 0, 0, 1, 0, 1, 0, 0, 0,\n",
       "       0, 0, 0, 0, 0, 0, 1, 0, 0, 1, 0, 0])"
      ]
     },
     "execution_count": 55,
     "metadata": {},
     "output_type": "execute_result"
    }
   ],
   "source": [
    "cluster.labels_"
   ]
  },
  {
   "cell_type": "code",
   "execution_count": 56,
   "id": "b7074b89-5e48-4138-a948-5eac8ceea7e4",
   "metadata": {},
   "outputs": [
    {
     "data": {
      "text/plain": [
       "<matplotlib.collections.PathCollection at 0x7fa9d1f3ae30>"
      ]
     },
     "execution_count": 56,
     "metadata": {},
     "output_type": "execute_result"
    },
    {
     "data": {
      "image/png": "[encoded data removed]",
      "text/plain": [
       "<Figure size 640x480 with 1 Axes>"
      ]
     },
     "metadata": {},
     "output_type": "display_data"
    }
   ],
   "source": [
    "plt.scatter(x_train_pca[:,0],x_train_pca[:,1],c=cluster.labels_)"
   ]
  },
  {
   "cell_type": "code",
   "execution_count": 57,
   "id": "5b1824c6-813b-43a3-a086-df219f739299",
   "metadata": {},
   "outputs": [],
   "source": [
    "## validation of cluster\n",
    "from sklearn.metrics import silhouette_score"
   ]
  },
  {
   "cell_type": "code",
   "execution_count": 58,
   "id": "84fff74e-fe7e-48b1-ad45-6db8ff092ea6",
   "metadata": {},
   "outputs": [
    {
     "name": "stderr",
     "output_type": "stream",
     "text": [
      "/opt/conda/lib/python3.10/site-packages/sklearn/cluster/_agglomerative.py:983: FutureWarning: Attribute `affinity` was deprecated in version 1.2 and will be removed in 1.4. Use `metric` instead\n",
      "  warnings.warn(\n",
      "/opt/conda/lib/python3.10/site-packages/sklearn/cluster/_agglomerative.py:983: FutureWarning: Attribute `affinity` was deprecated in version 1.2 and will be removed in 1.4. Use `metric` instead\n",
      "  warnings.warn(\n",
      "/opt/conda/lib/python3.10/site-packages/sklearn/cluster/_agglomerative.py:983: FutureWarning: Attribute `affinity` was deprecated in version 1.2 and will be removed in 1.4. Use `metric` instead\n",
      "  warnings.warn(\n",
      "/opt/conda/lib/python3.10/site-packages/sklearn/cluster/_agglomerative.py:983: FutureWarning: Attribute `affinity` was deprecated in version 1.2 and will be removed in 1.4. Use `metric` instead\n",
      "  warnings.warn(\n",
      "/opt/conda/lib/python3.10/site-packages/sklearn/cluster/_agglomerative.py:983: FutureWarning: Attribute `affinity` was deprecated in version 1.2 and will be removed in 1.4. Use `metric` instead\n",
      "  warnings.warn(\n",
      "/opt/conda/lib/python3.10/site-packages/sklearn/cluster/_agglomerative.py:983: FutureWarning: Attribute `affinity` was deprecated in version 1.2 and will be removed in 1.4. Use `metric` instead\n",
      "  warnings.warn(\n",
      "/opt/conda/lib/python3.10/site-packages/sklearn/cluster/_agglomerative.py:983: FutureWarning: Attribute `affinity` was deprecated in version 1.2 and will be removed in 1.4. Use `metric` instead\n",
      "  warnings.warn(\n",
      "/opt/conda/lib/python3.10/site-packages/sklearn/cluster/_agglomerative.py:983: FutureWarning: Attribute `affinity` was deprecated in version 1.2 and will be removed in 1.4. Use `metric` instead\n",
      "  warnings.warn(\n",
      "/opt/conda/lib/python3.10/site-packages/sklearn/cluster/_agglomerative.py:983: FutureWarning: Attribute `affinity` was deprecated in version 1.2 and will be removed in 1.4. Use `metric` instead\n",
      "  warnings.warn(\n"
     ]
    }
   ],
   "source": [
    "silhoute_score=[]\n",
    "for k in range(2,11):\n",
    "    aglo=AgglomerativeClustering(n_clusters=k,affinity='euclidean',linkage='ward')\n",
    "    aglo.fit(x_train_pca)\n",
    "    score=silhouette_score(x_train_pca,aglo.labels_)\n",
    "    silhoute_score.append(score)    "
   ]
  },
  {
   "cell_type": "code",
   "execution_count": 59,
   "id": "52dd9240-27d0-4ddf-9701-a6bda4d9c3e8",
   "metadata": {},
   "outputs": [
    {
     "data": {
      "text/plain": [
       "[0.5962733670285174,\n",
       " 0.5114770349684075,\n",
       " 0.4956630994379316,\n",
       " 0.4510019129627224,\n",
       " 0.43085794330389404,\n",
       " 0.41305896462933034,\n",
       " 0.406440638304992,\n",
       " 0.39955810340514686,\n",
       " 0.4063347432179639]"
      ]
     },
     "execution_count": 59,
     "metadata": {},
     "output_type": "execute_result"
    }
   ],
   "source": [
    "silhoute_score"
   ]
  },
  {
   "cell_type": "code",
   "execution_count": 61,
   "id": "09ee811d-ff66-4395-b49d-f4ad8d1a101f",
   "metadata": {},
   "outputs": [
    {
     "data": {
      "text/plain": [
       "Text(0, 0.5, 'silhouette score')"
      ]
     },
     "execution_count": 61,
     "metadata": {},
     "output_type": "execute_result"
    },
    {
     "data": {
      "image/png": "[encoded data removed]",
      "text/plain": [
       "<Figure size 640x480 with 1 Axes>"
      ]
     },
     "metadata": {},
     "output_type": "display_data"
    }
   ],
   "source": [
    "plt.plot(range(2,11),silhoute_score)\n",
    "plt.xlabel('number of clusters')\n",
    "plt.ylabel('silhouette score')\n"
   ]
  },
  {
   "cell_type": "code",
   "execution_count": null,
   "id": "75c6e46b-8689-417d-a80e-18b0e9a2ee38",
   "metadata": {},
   "outputs": [],
   "source": []
  }
 ],
 "metadata": {
  "kernelspec": {
   "display_name": "Python 3 (ipykernel)",
   "language": "python",
   "name": "python3"
  },
  "language_info": {
   "codemirror_mode": {
    "name": "ipython",
    "version": 3
   },
   "file_extension": ".py",
   "mimetype": "text/x-python",
   "name": "python",
   "nbconvert_exporter": "python",
   "pygments_lexer": "ipython3",
   "version": "3.10.8"
  }
 },
 "nbformat": 4,
 "nbformat_minor": 5
}
