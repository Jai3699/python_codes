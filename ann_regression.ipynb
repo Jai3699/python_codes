{
 "cells": [
  {
   "cell_type": "code",
   "execution_count": 73,
   "id": "7dfbdbe6-506d-4a97-8c9e-00e15b72333d",
   "metadata": {},
   "outputs": [],
   "source": [
    "import numpy as np\n",
    "import pandas as pd\n",
    "import tensorflow as tf\n",
    "import seaborn as sns\n",
    "import matplotlib.pyplot as plt"
   ]
  },
  {
   "cell_type": "code",
   "execution_count": 74,
   "id": "977f177e-5063-48bb-8cd3-338f13e8cbd5",
   "metadata": {},
   "outputs": [],
   "source": [
    "from sklearn.datasets import fetch_california_housing"
   ]
  },
  {
   "cell_type": "code",
   "execution_count": 75,
   "id": "24e99846-980a-455b-bb4c-d25d975188cf",
   "metadata": {},
   "outputs": [],
   "source": [
    "data=fetch_california_housing()"
   ]
  },
  {
   "cell_type": "code",
   "execution_count": 76,
   "id": "481d2c24-0de9-4806-9a43-7c30c915d986",
   "metadata": {},
   "outputs": [
    {
     "data": {
      "text/plain": [
       "{'data': array([[   8.3252    ,   41.        ,    6.98412698, ...,    2.55555556,\n",
       "           37.88      , -122.23      ],\n",
       "        [   8.3014    ,   21.        ,    6.23813708, ...,    2.10984183,\n",
       "           37.86      , -122.22      ],\n",
       "        [   7.2574    ,   52.        ,    8.28813559, ...,    2.80225989,\n",
       "           37.85      , -122.24      ],\n",
       "        ...,\n",
       "        [   1.7       ,   17.        ,    5.20554273, ...,    2.3256351 ,\n",
       "           39.43      , -121.22      ],\n",
       "        [   1.8672    ,   18.        ,    5.32951289, ...,    2.12320917,\n",
       "           39.43      , -121.32      ],\n",
       "        [   2.3886    ,   16.        ,    5.25471698, ...,    2.61698113,\n",
       "           39.37      , -121.24      ]]),\n",
       " 'target': array([4.526, 3.585, 3.521, ..., 0.923, 0.847, 0.894]),\n",
       " 'frame': None,\n",
       " 'target_names': ['MedHouseVal'],\n",
       " 'feature_names': ['MedInc',\n",
       "  'HouseAge',\n",
       "  'AveRooms',\n",
       "  'AveBedrms',\n",
       "  'Population',\n",
       "  'AveOccup',\n",
       "  'Latitude',\n",
       "  'Longitude'],\n",
       " 'DESCR': '.. _california_housing_dataset:\\n\\nCalifornia Housing dataset\\n--------------------------\\n\\n**Data Set Characteristics:**\\n\\n    :Number of Instances: 20640\\n\\n    :Number of Attributes: 8 numeric, predictive attributes and the target\\n\\n    :Attribute Information:\\n        - MedInc        median income in block group\\n        - HouseAge      median house age in block group\\n        - AveRooms      average number of rooms per household\\n        - AveBedrms     average number of bedrooms per household\\n        - Population    block group population\\n        - AveOccup      average number of household members\\n        - Latitude      block group latitude\\n        - Longitude     block group longitude\\n\\n    :Missing Attribute Values: None\\n\\nThis dataset was obtained from the StatLib repository.\\nhttps://www.dcc.fc.up.pt/~ltorgo/Regression/cal_housing.html\\n\\nThe target variable is the median house value for California districts,\\nexpressed in hundreds of thousands of dollars ($100,000).\\n\\nThis dataset was derived from the 1990 U.S. census, using one row per census\\nblock group. A block group is the smallest geographical unit for which the U.S.\\nCensus Bureau publishes sample data (a block group typically has a population\\nof 600 to 3,000 people).\\n\\nAn household is a group of people residing within a home. Since the average\\nnumber of rooms and bedrooms in this dataset are provided per household, these\\ncolumns may take surpinsingly large values for block groups with few households\\nand many empty houses, such as vacation resorts.\\n\\nIt can be downloaded/loaded using the\\n:func:`sklearn.datasets.fetch_california_housing` function.\\n\\n.. topic:: References\\n\\n    - Pace, R. Kelley and Ronald Barry, Sparse Spatial Autoregressions,\\n      Statistics and Probability Letters, 33 (1997) 291-297\\n'}"
      ]
     },
     "execution_count": 76,
     "metadata": {},
     "output_type": "execute_result"
    }
   ],
   "source": [
    "data"
   ]
  },
  {
   "cell_type": "code",
   "execution_count": 80,
   "id": "d88fb8ac-5db3-4045-b47b-1a35c82713a7",
   "metadata": {},
   "outputs": [],
   "source": [
    "x=pd.DataFrame(data.data,columns=data.feature_names)"
   ]
  },
  {
   "cell_type": "code",
   "execution_count": 81,
   "id": "548dc4b9-a920-4d0d-9da5-5880e21f5283",
   "metadata": {},
   "outputs": [
    {
     "data": {
      "text/html": [
       "<div>\n",
       "<style scoped>\n",
       "    .dataframe tbody tr th:only-of-type {\n",
       "        vertical-align: middle;\n",
       "    }\n",
       "\n",
       "    .dataframe tbody tr th {\n",
       "        vertical-align: top;\n",
       "    }\n",
       "\n",
       "    .dataframe thead th {\n",
       "        text-align: right;\n",
       "    }\n",
       "</style>\n",
       "<table border=\"1\" class=\"dataframe\">\n",
       "  <thead>\n",
       "    <tr style=\"text-align: right;\">\n",
       "      <th></th>\n",
       "      <th>MedInc</th>\n",
       "      <th>HouseAge</th>\n",
       "      <th>AveRooms</th>\n",
       "      <th>AveBedrms</th>\n",
       "      <th>Population</th>\n",
       "      <th>AveOccup</th>\n",
       "      <th>Latitude</th>\n",
       "      <th>Longitude</th>\n",
       "    </tr>\n",
       "  </thead>\n",
       "  <tbody>\n",
       "    <tr>\n",
       "      <th>0</th>\n",
       "      <td>8.3252</td>\n",
       "      <td>41.0</td>\n",
       "      <td>6.984127</td>\n",
       "      <td>1.023810</td>\n",
       "      <td>322.0</td>\n",
       "      <td>2.555556</td>\n",
       "      <td>37.88</td>\n",
       "      <td>-122.23</td>\n",
       "    </tr>\n",
       "    <tr>\n",
       "      <th>1</th>\n",
       "      <td>8.3014</td>\n",
       "      <td>21.0</td>\n",
       "      <td>6.238137</td>\n",
       "      <td>0.971880</td>\n",
       "      <td>2401.0</td>\n",
       "      <td>2.109842</td>\n",
       "      <td>37.86</td>\n",
       "      <td>-122.22</td>\n",
       "    </tr>\n",
       "    <tr>\n",
       "      <th>2</th>\n",
       "      <td>7.2574</td>\n",
       "      <td>52.0</td>\n",
       "      <td>8.288136</td>\n",
       "      <td>1.073446</td>\n",
       "      <td>496.0</td>\n",
       "      <td>2.802260</td>\n",
       "      <td>37.85</td>\n",
       "      <td>-122.24</td>\n",
       "    </tr>\n",
       "    <tr>\n",
       "      <th>3</th>\n",
       "      <td>5.6431</td>\n",
       "      <td>52.0</td>\n",
       "      <td>5.817352</td>\n",
       "      <td>1.073059</td>\n",
       "      <td>558.0</td>\n",
       "      <td>2.547945</td>\n",
       "      <td>37.85</td>\n",
       "      <td>-122.25</td>\n",
       "    </tr>\n",
       "    <tr>\n",
       "      <th>4</th>\n",
       "      <td>3.8462</td>\n",
       "      <td>52.0</td>\n",
       "      <td>6.281853</td>\n",
       "      <td>1.081081</td>\n",
       "      <td>565.0</td>\n",
       "      <td>2.181467</td>\n",
       "      <td>37.85</td>\n",
       "      <td>-122.25</td>\n",
       "    </tr>\n",
       "    <tr>\n",
       "      <th>...</th>\n",
       "      <td>...</td>\n",
       "      <td>...</td>\n",
       "      <td>...</td>\n",
       "      <td>...</td>\n",
       "      <td>...</td>\n",
       "      <td>...</td>\n",
       "      <td>...</td>\n",
       "      <td>...</td>\n",
       "    </tr>\n",
       "    <tr>\n",
       "      <th>20635</th>\n",
       "      <td>1.5603</td>\n",
       "      <td>25.0</td>\n",
       "      <td>5.045455</td>\n",
       "      <td>1.133333</td>\n",
       "      <td>845.0</td>\n",
       "      <td>2.560606</td>\n",
       "      <td>39.48</td>\n",
       "      <td>-121.09</td>\n",
       "    </tr>\n",
       "    <tr>\n",
       "      <th>20636</th>\n",
       "      <td>2.5568</td>\n",
       "      <td>18.0</td>\n",
       "      <td>6.114035</td>\n",
       "      <td>1.315789</td>\n",
       "      <td>356.0</td>\n",
       "      <td>3.122807</td>\n",
       "      <td>39.49</td>\n",
       "      <td>-121.21</td>\n",
       "    </tr>\n",
       "    <tr>\n",
       "      <th>20637</th>\n",
       "      <td>1.7000</td>\n",
       "      <td>17.0</td>\n",
       "      <td>5.205543</td>\n",
       "      <td>1.120092</td>\n",
       "      <td>1007.0</td>\n",
       "      <td>2.325635</td>\n",
       "      <td>39.43</td>\n",
       "      <td>-121.22</td>\n",
       "    </tr>\n",
       "    <tr>\n",
       "      <th>20638</th>\n",
       "      <td>1.8672</td>\n",
       "      <td>18.0</td>\n",
       "      <td>5.329513</td>\n",
       "      <td>1.171920</td>\n",
       "      <td>741.0</td>\n",
       "      <td>2.123209</td>\n",
       "      <td>39.43</td>\n",
       "      <td>-121.32</td>\n",
       "    </tr>\n",
       "    <tr>\n",
       "      <th>20639</th>\n",
       "      <td>2.3886</td>\n",
       "      <td>16.0</td>\n",
       "      <td>5.254717</td>\n",
       "      <td>1.162264</td>\n",
       "      <td>1387.0</td>\n",
       "      <td>2.616981</td>\n",
       "      <td>39.37</td>\n",
       "      <td>-121.24</td>\n",
       "    </tr>\n",
       "  </tbody>\n",
       "</table>\n",
       "<p>20640 rows × 8 columns</p>\n",
       "</div>"
      ],
      "text/plain": [
       "       MedInc  HouseAge  AveRooms  AveBedrms  Population  AveOccup  Latitude  \\\n",
       "0      8.3252      41.0  6.984127   1.023810       322.0  2.555556     37.88   \n",
       "1      8.3014      21.0  6.238137   0.971880      2401.0  2.109842     37.86   \n",
       "2      7.2574      52.0  8.288136   1.073446       496.0  2.802260     37.85   \n",
       "3      5.6431      52.0  5.817352   1.073059       558.0  2.547945     37.85   \n",
       "4      3.8462      52.0  6.281853   1.081081       565.0  2.181467     37.85   \n",
       "...       ...       ...       ...        ...         ...       ...       ...   \n",
       "20635  1.5603      25.0  5.045455   1.133333       845.0  2.560606     39.48   \n",
       "20636  2.5568      18.0  6.114035   1.315789       356.0  3.122807     39.49   \n",
       "20637  1.7000      17.0  5.205543   1.120092      1007.0  2.325635     39.43   \n",
       "20638  1.8672      18.0  5.329513   1.171920       741.0  2.123209     39.43   \n",
       "20639  2.3886      16.0  5.254717   1.162264      1387.0  2.616981     39.37   \n",
       "\n",
       "       Longitude  \n",
       "0        -122.23  \n",
       "1        -122.22  \n",
       "2        -122.24  \n",
       "3        -122.25  \n",
       "4        -122.25  \n",
       "...          ...  \n",
       "20635    -121.09  \n",
       "20636    -121.21  \n",
       "20637    -121.22  \n",
       "20638    -121.32  \n",
       "20639    -121.24  \n",
       "\n",
       "[20640 rows x 8 columns]"
      ]
     },
     "execution_count": 81,
     "metadata": {},
     "output_type": "execute_result"
    }
   ],
   "source": [
    "x"
   ]
  },
  {
   "cell_type": "code",
   "execution_count": 82,
   "id": "89e1a916-c578-4f28-b9a2-723ca9832d8f",
   "metadata": {},
   "outputs": [],
   "source": [
    "y=data.target"
   ]
  },
  {
   "cell_type": "code",
   "execution_count": 86,
   "id": "bcdca663-51de-44cc-ab28-fb6bb78a8bb1",
   "metadata": {},
   "outputs": [],
   "source": [
    "from sklearn.model_selection import train_test_split"
   ]
  },
  {
   "cell_type": "code",
   "execution_count": 87,
   "id": "2f575801-dc54-40e3-b6d9-afc2e04e8fc4",
   "metadata": {},
   "outputs": [],
   "source": [
    "x_train_full,x_test,y_train_full,y_test=train_test_split(x,y,random_state=42)"
   ]
  },
  {
   "cell_type": "code",
   "execution_count": 88,
   "id": "1fd10f90-47ec-4745-a0ea-7ec4f0e6296e",
   "metadata": {},
   "outputs": [],
   "source": [
    "x_train,x_valid,y_train,y_valid=train_test_split(x_train_full,y_train_full)"
   ]
  },
  {
   "cell_type": "code",
   "execution_count": 89,
   "id": "7f2dd567-6cb8-4433-87e0-9b6087e6d2b2",
   "metadata": {},
   "outputs": [
    {
     "data": {
      "text/plain": [
       "((11610, 8), (3870, 8), (11610,), (3870,), (5160, 8), (5160,))"
      ]
     },
     "execution_count": 89,
     "metadata": {},
     "output_type": "execute_result"
    }
   ],
   "source": [
    "x_train.shape,x_valid.shape,y_train.shape,y_valid.shape,x_test.shape,y_test.shape"
   ]
  },
  {
   "cell_type": "code",
   "execution_count": 90,
   "id": "25018fca-5295-4940-bfd7-386f1c99b405",
   "metadata": {},
   "outputs": [],
   "source": [
    "from sklearn.preprocessing import StandardScaler"
   ]
  },
  {
   "cell_type": "code",
   "execution_count": 91,
   "id": "c3a7c62d-2174-4d7a-96cf-2562e979719f",
   "metadata": {},
   "outputs": [],
   "source": [
    "scaler=StandardScaler()"
   ]
  },
  {
   "cell_type": "code",
   "execution_count": 93,
   "id": "54d7cd1c-550d-4aeb-b985-b2604f505c76",
   "metadata": {},
   "outputs": [],
   "source": [
    "x_train=scaler.fit_transform(x_train)\n",
    "x_valid=scaler.transform(x_valid)\n",
    "x_test=scaler.transform(x_test)"
   ]
  },
  {
   "cell_type": "code",
   "execution_count": 95,
   "id": "362b81e6-8afe-4181-bf61-0b1916b95fb9",
   "metadata": {},
   "outputs": [
    {
     "data": {
      "text/plain": [
       "(8,)"
      ]
     },
     "execution_count": 95,
     "metadata": {},
     "output_type": "execute_result"
    }
   ],
   "source": [
    "## we are giving x_train as input so we need to know its shape\n",
    "x_train[0].shape\n",
    "## it is already flatten so no need to flatten it"
   ]
  },
  {
   "cell_type": "code",
   "execution_count": 97,
   "id": "e1a7e004-0967-4a8b-ab3e-6418597dcba7",
   "metadata": {},
   "outputs": [],
   "source": [
    "layers=[tf.keras.layers.Dense(input_shape=x_train[0].shape,units=30,activation='relu',name='inputlayer'),\n",
    "       tf.keras.layers.Dense(units=10,activation='relu',name='hl1'),\n",
    "       tf.keras.layers.Dense(units=5,activation='relu',name='hl2'),\n",
    "       tf.keras.layers.Dense(1,name='output')]\n",
    "model=tf.keras.models.Sequential(layers)"
   ]
  },
  {
   "cell_type": "code",
   "execution_count": 99,
   "id": "b4fa2933-2bee-4f00-8abd-d6e4af964eb8",
   "metadata": {},
   "outputs": [
    {
     "name": "stdout",
     "output_type": "stream",
     "text": [
      "Model: \"sequential_1\"\n",
      "_________________________________________________________________\n",
      " Layer (type)                Output Shape              Param #   \n",
      "=================================================================\n",
      " inputlayer (Dense)          (None, 30)                270       \n",
      "                                                                 \n",
      " hl1 (Dense)                 (None, 10)                310       \n",
      "                                                                 \n",
      " hl2 (Dense)                 (None, 5)                 55        \n",
      "                                                                 \n",
      " output (Dense)              (None, 1)                 6         \n",
      "                                                                 \n",
      "=================================================================\n",
      "Total params: 641 (2.50 KB)\n",
      "Trainable params: 641 (2.50 KB)\n",
      "Non-trainable params: 0 (0.00 Byte)\n",
      "_________________________________________________________________\n"
     ]
    }
   ],
   "source": [
    "model.summary()"
   ]
  },
  {
   "cell_type": "code",
   "execution_count": 102,
   "id": "c02e9e14-4997-4131-98ac-c2163defa886",
   "metadata": {},
   "outputs": [],
   "source": [
    "loss=tf.keras.losses.mean_squared_error\n",
    "optimizer='sgd'\n",
    "metrics=['accuracy']\n",
    "model.compile(loss=loss,optimizer=optimizer,metrics=metrics)"
   ]
  },
  {
   "cell_type": "code",
   "execution_count": 103,
   "id": "7cbdfa67-1589-42a0-8107-0d4a18a81f25",
   "metadata": {},
   "outputs": [
    {
     "name": "stdout",
     "output_type": "stream",
     "text": [
      "Epoch 1/30\n",
      "363/363 [==============================] - 1s 2ms/step - loss: 0.3071 - accuracy: 0.0030 - val_loss: 0.3237 - val_accuracy: 0.0041\n",
      "Epoch 2/30\n",
      "363/363 [==============================] - 1s 2ms/step - loss: 0.3075 - accuracy: 0.0030 - val_loss: 0.3129 - val_accuracy: 0.0041\n",
      "Epoch 3/30\n",
      "363/363 [==============================] - 1s 2ms/step - loss: 0.3078 - accuracy: 0.0030 - val_loss: 0.3226 - val_accuracy: 0.0041\n",
      "Epoch 4/30\n",
      "363/363 [==============================] - 1s 2ms/step - loss: 0.3097 - accuracy: 0.0030 - val_loss: 0.3134 - val_accuracy: 0.0041\n",
      "Epoch 5/30\n",
      "363/363 [==============================] - 1s 2ms/step - loss: 0.3066 - accuracy: 0.0030 - val_loss: 0.3137 - val_accuracy: 0.0041\n",
      "Epoch 6/30\n",
      "363/363 [==============================] - 1s 2ms/step - loss: 0.3030 - accuracy: 0.0030 - val_loss: 0.3109 - val_accuracy: 0.0041\n",
      "Epoch 7/30\n",
      "363/363 [==============================] - 1s 2ms/step - loss: 0.3033 - accuracy: 0.0030 - val_loss: 0.3109 - val_accuracy: 0.0041\n",
      "Epoch 8/30\n",
      "363/363 [==============================] - 1s 2ms/step - loss: 0.3012 - accuracy: 0.0030 - val_loss: 0.3160 - val_accuracy: 0.0041\n",
      "Epoch 9/30\n",
      "363/363 [==============================] - 1s 2ms/step - loss: 0.3008 - accuracy: 0.0030 - val_loss: 0.3136 - val_accuracy: 0.0041\n",
      "Epoch 10/30\n",
      "363/363 [==============================] - 1s 2ms/step - loss: 0.2994 - accuracy: 0.0030 - val_loss: 0.3190 - val_accuracy: 0.0041\n",
      "Epoch 11/30\n",
      "363/363 [==============================] - 1s 2ms/step - loss: 0.2985 - accuracy: 0.0030 - val_loss: 0.3120 - val_accuracy: 0.0041\n",
      "Epoch 12/30\n",
      "363/363 [==============================] - 1s 2ms/step - loss: 0.2965 - accuracy: 0.0030 - val_loss: 0.3088 - val_accuracy: 0.0041\n",
      "Epoch 13/30\n",
      "363/363 [==============================] - 1s 2ms/step - loss: 0.2954 - accuracy: 0.0030 - val_loss: 0.3207 - val_accuracy: 0.0041\n",
      "Epoch 14/30\n",
      "363/363 [==============================] - 1s 2ms/step - loss: 0.2916 - accuracy: 0.0030 - val_loss: 0.3259 - val_accuracy: 0.0041\n",
      "Epoch 15/30\n",
      "363/363 [==============================] - 1s 2ms/step - loss: 0.2942 - accuracy: 0.0030 - val_loss: 0.3131 - val_accuracy: 0.0041\n",
      "Epoch 16/30\n",
      "363/363 [==============================] - 1s 2ms/step - loss: 0.2945 - accuracy: 0.0030 - val_loss: 0.3143 - val_accuracy: 0.0041\n",
      "Epoch 17/30\n",
      "363/363 [==============================] - 1s 2ms/step - loss: 0.2923 - accuracy: 0.0030 - val_loss: 0.3128 - val_accuracy: 0.0041\n",
      "Epoch 18/30\n",
      "363/363 [==============================] - 1s 2ms/step - loss: 0.2901 - accuracy: 0.0030 - val_loss: 0.3070 - val_accuracy: 0.0041\n",
      "Epoch 19/30\n",
      "363/363 [==============================] - 1s 2ms/step - loss: 0.2919 - accuracy: 0.0030 - val_loss: 0.3043 - val_accuracy: 0.0041\n",
      "Epoch 20/30\n",
      "363/363 [==============================] - 1s 2ms/step - loss: 0.2896 - accuracy: 0.0030 - val_loss: 0.4341 - val_accuracy: 0.0041\n",
      "Epoch 21/30\n",
      "363/363 [==============================] - 1s 2ms/step - loss: 0.2969 - accuracy: 0.0030 - val_loss: 0.3094 - val_accuracy: 0.0041\n",
      "Epoch 22/30\n",
      "363/363 [==============================] - 1s 2ms/step - loss: 0.2901 - accuracy: 0.0030 - val_loss: 0.3046 - val_accuracy: 0.0041\n",
      "Epoch 23/30\n",
      "363/363 [==============================] - 1s 2ms/step - loss: 0.2889 - accuracy: 0.0030 - val_loss: 0.2974 - val_accuracy: 0.0041\n",
      "Epoch 24/30\n",
      "363/363 [==============================] - 1s 2ms/step - loss: 0.2885 - accuracy: 0.0030 - val_loss: 0.2967 - val_accuracy: 0.0041\n",
      "Epoch 25/30\n",
      "363/363 [==============================] - 1s 2ms/step - loss: 0.2886 - accuracy: 0.0030 - val_loss: 0.2958 - val_accuracy: 0.0041\n",
      "Epoch 26/30\n",
      "363/363 [==============================] - 1s 2ms/step - loss: 0.2853 - accuracy: 0.0030 - val_loss: 0.3040 - val_accuracy: 0.0041\n",
      "Epoch 27/30\n",
      "363/363 [==============================] - 1s 2ms/step - loss: 0.2864 - accuracy: 0.0030 - val_loss: 0.2932 - val_accuracy: 0.0041\n",
      "Epoch 28/30\n",
      "363/363 [==============================] - 1s 2ms/step - loss: 0.2867 - accuracy: 0.0030 - val_loss: 0.3078 - val_accuracy: 0.0041\n",
      "Epoch 29/30\n",
      "363/363 [==============================] - 1s 2ms/step - loss: 0.2858 - accuracy: 0.0030 - val_loss: 0.2944 - val_accuracy: 0.0041\n",
      "Epoch 30/30\n",
      "363/363 [==============================] - 1s 2ms/step - loss: 0.2845 - accuracy: 0.0030 - val_loss: 0.3108 - val_accuracy: 0.0041\n"
     ]
    }
   ],
   "source": [
    "valid_set=(x_valid,y_valid)\n",
    "trained_model=model.fit(x_train,y_train,epochs=30,validation_data=valid_set,batch_size=32)"
   ]
  },
  {
   "cell_type": "code",
   "execution_count": 104,
   "id": "31d5ae9f-09f6-4a7e-9647-c12fddab030e",
   "metadata": {},
   "outputs": [
    {
     "data": {
      "text/plain": [
       "{'verbose': 1, 'epochs': 30, 'steps': 363}"
      ]
     },
     "execution_count": 104,
     "metadata": {},
     "output_type": "execute_result"
    }
   ],
   "source": [
    "trained_model.params"
   ]
  },
  {
   "cell_type": "code",
   "execution_count": 107,
   "id": "b436b8ef-b03f-489d-ab26-35a3028efad3",
   "metadata": {},
   "outputs": [
    {
     "data": {
      "text/html": [
       "<div>\n",
       "<style scoped>\n",
       "    .dataframe tbody tr th:only-of-type {\n",
       "        vertical-align: middle;\n",
       "    }\n",
       "\n",
       "    .dataframe tbody tr th {\n",
       "        vertical-align: top;\n",
       "    }\n",
       "\n",
       "    .dataframe thead th {\n",
       "        text-align: right;\n",
       "    }\n",
       "</style>\n",
       "<table border=\"1\" class=\"dataframe\">\n",
       "  <thead>\n",
       "    <tr style=\"text-align: right;\">\n",
       "      <th></th>\n",
       "      <th>loss</th>\n",
       "      <th>accuracy</th>\n",
       "      <th>val_loss</th>\n",
       "      <th>val_accuracy</th>\n",
       "    </tr>\n",
       "  </thead>\n",
       "  <tbody>\n",
       "    <tr>\n",
       "      <th>0</th>\n",
       "      <td>0.307119</td>\n",
       "      <td>0.003015</td>\n",
       "      <td>0.323690</td>\n",
       "      <td>0.004134</td>\n",
       "    </tr>\n",
       "    <tr>\n",
       "      <th>1</th>\n",
       "      <td>0.307550</td>\n",
       "      <td>0.003015</td>\n",
       "      <td>0.312850</td>\n",
       "      <td>0.004134</td>\n",
       "    </tr>\n",
       "    <tr>\n",
       "      <th>2</th>\n",
       "      <td>0.307770</td>\n",
       "      <td>0.003015</td>\n",
       "      <td>0.322557</td>\n",
       "      <td>0.004134</td>\n",
       "    </tr>\n",
       "    <tr>\n",
       "      <th>3</th>\n",
       "      <td>0.309721</td>\n",
       "      <td>0.003015</td>\n",
       "      <td>0.313406</td>\n",
       "      <td>0.004134</td>\n",
       "    </tr>\n",
       "    <tr>\n",
       "      <th>4</th>\n",
       "      <td>0.306567</td>\n",
       "      <td>0.003015</td>\n",
       "      <td>0.313681</td>\n",
       "      <td>0.004134</td>\n",
       "    </tr>\n",
       "    <tr>\n",
       "      <th>5</th>\n",
       "      <td>0.302977</td>\n",
       "      <td>0.003015</td>\n",
       "      <td>0.310855</td>\n",
       "      <td>0.004134</td>\n",
       "    </tr>\n",
       "    <tr>\n",
       "      <th>6</th>\n",
       "      <td>0.303258</td>\n",
       "      <td>0.003015</td>\n",
       "      <td>0.310874</td>\n",
       "      <td>0.004134</td>\n",
       "    </tr>\n",
       "    <tr>\n",
       "      <th>7</th>\n",
       "      <td>0.301191</td>\n",
       "      <td>0.003015</td>\n",
       "      <td>0.315973</td>\n",
       "      <td>0.004134</td>\n",
       "    </tr>\n",
       "    <tr>\n",
       "      <th>8</th>\n",
       "      <td>0.300829</td>\n",
       "      <td>0.003015</td>\n",
       "      <td>0.313553</td>\n",
       "      <td>0.004134</td>\n",
       "    </tr>\n",
       "    <tr>\n",
       "      <th>9</th>\n",
       "      <td>0.299353</td>\n",
       "      <td>0.003015</td>\n",
       "      <td>0.319029</td>\n",
       "      <td>0.004134</td>\n",
       "    </tr>\n",
       "    <tr>\n",
       "      <th>10</th>\n",
       "      <td>0.298532</td>\n",
       "      <td>0.003015</td>\n",
       "      <td>0.311956</td>\n",
       "      <td>0.004134</td>\n",
       "    </tr>\n",
       "    <tr>\n",
       "      <th>11</th>\n",
       "      <td>0.296499</td>\n",
       "      <td>0.003015</td>\n",
       "      <td>0.308829</td>\n",
       "      <td>0.004134</td>\n",
       "    </tr>\n",
       "    <tr>\n",
       "      <th>12</th>\n",
       "      <td>0.295363</td>\n",
       "      <td>0.003015</td>\n",
       "      <td>0.320748</td>\n",
       "      <td>0.004134</td>\n",
       "    </tr>\n",
       "    <tr>\n",
       "      <th>13</th>\n",
       "      <td>0.291617</td>\n",
       "      <td>0.003015</td>\n",
       "      <td>0.325920</td>\n",
       "      <td>0.004134</td>\n",
       "    </tr>\n",
       "    <tr>\n",
       "      <th>14</th>\n",
       "      <td>0.294245</td>\n",
       "      <td>0.003015</td>\n",
       "      <td>0.313071</td>\n",
       "      <td>0.004134</td>\n",
       "    </tr>\n",
       "    <tr>\n",
       "      <th>15</th>\n",
       "      <td>0.294454</td>\n",
       "      <td>0.003015</td>\n",
       "      <td>0.314287</td>\n",
       "      <td>0.004134</td>\n",
       "    </tr>\n",
       "    <tr>\n",
       "      <th>16</th>\n",
       "      <td>0.292283</td>\n",
       "      <td>0.003015</td>\n",
       "      <td>0.312845</td>\n",
       "      <td>0.004134</td>\n",
       "    </tr>\n",
       "    <tr>\n",
       "      <th>17</th>\n",
       "      <td>0.290078</td>\n",
       "      <td>0.003015</td>\n",
       "      <td>0.306982</td>\n",
       "      <td>0.004134</td>\n",
       "    </tr>\n",
       "    <tr>\n",
       "      <th>18</th>\n",
       "      <td>0.291889</td>\n",
       "      <td>0.003015</td>\n",
       "      <td>0.304257</td>\n",
       "      <td>0.004134</td>\n",
       "    </tr>\n",
       "    <tr>\n",
       "      <th>19</th>\n",
       "      <td>0.289643</td>\n",
       "      <td>0.003015</td>\n",
       "      <td>0.434104</td>\n",
       "      <td>0.004134</td>\n",
       "    </tr>\n",
       "    <tr>\n",
       "      <th>20</th>\n",
       "      <td>0.296946</td>\n",
       "      <td>0.003015</td>\n",
       "      <td>0.309423</td>\n",
       "      <td>0.004134</td>\n",
       "    </tr>\n",
       "    <tr>\n",
       "      <th>21</th>\n",
       "      <td>0.290061</td>\n",
       "      <td>0.003015</td>\n",
       "      <td>0.304602</td>\n",
       "      <td>0.004134</td>\n",
       "    </tr>\n",
       "    <tr>\n",
       "      <th>22</th>\n",
       "      <td>0.288942</td>\n",
       "      <td>0.003015</td>\n",
       "      <td>0.297431</td>\n",
       "      <td>0.004134</td>\n",
       "    </tr>\n",
       "    <tr>\n",
       "      <th>23</th>\n",
       "      <td>0.288515</td>\n",
       "      <td>0.003015</td>\n",
       "      <td>0.296718</td>\n",
       "      <td>0.004134</td>\n",
       "    </tr>\n",
       "    <tr>\n",
       "      <th>24</th>\n",
       "      <td>0.288570</td>\n",
       "      <td>0.003015</td>\n",
       "      <td>0.295820</td>\n",
       "      <td>0.004134</td>\n",
       "    </tr>\n",
       "    <tr>\n",
       "      <th>25</th>\n",
       "      <td>0.285331</td>\n",
       "      <td>0.003015</td>\n",
       "      <td>0.303989</td>\n",
       "      <td>0.004134</td>\n",
       "    </tr>\n",
       "    <tr>\n",
       "      <th>26</th>\n",
       "      <td>0.286369</td>\n",
       "      <td>0.003015</td>\n",
       "      <td>0.293213</td>\n",
       "      <td>0.004134</td>\n",
       "    </tr>\n",
       "    <tr>\n",
       "      <th>27</th>\n",
       "      <td>0.286734</td>\n",
       "      <td>0.003015</td>\n",
       "      <td>0.307825</td>\n",
       "      <td>0.004134</td>\n",
       "    </tr>\n",
       "    <tr>\n",
       "      <th>28</th>\n",
       "      <td>0.285798</td>\n",
       "      <td>0.003015</td>\n",
       "      <td>0.294367</td>\n",
       "      <td>0.004134</td>\n",
       "    </tr>\n",
       "    <tr>\n",
       "      <th>29</th>\n",
       "      <td>0.284544</td>\n",
       "      <td>0.003015</td>\n",
       "      <td>0.310793</td>\n",
       "      <td>0.004134</td>\n",
       "    </tr>\n",
       "  </tbody>\n",
       "</table>\n",
       "</div>"
      ],
      "text/plain": [
       "        loss  accuracy  val_loss  val_accuracy\n",
       "0   0.307119  0.003015  0.323690      0.004134\n",
       "1   0.307550  0.003015  0.312850      0.004134\n",
       "2   0.307770  0.003015  0.322557      0.004134\n",
       "3   0.309721  0.003015  0.313406      0.004134\n",
       "4   0.306567  0.003015  0.313681      0.004134\n",
       "5   0.302977  0.003015  0.310855      0.004134\n",
       "6   0.303258  0.003015  0.310874      0.004134\n",
       "7   0.301191  0.003015  0.315973      0.004134\n",
       "8   0.300829  0.003015  0.313553      0.004134\n",
       "9   0.299353  0.003015  0.319029      0.004134\n",
       "10  0.298532  0.003015  0.311956      0.004134\n",
       "11  0.296499  0.003015  0.308829      0.004134\n",
       "12  0.295363  0.003015  0.320748      0.004134\n",
       "13  0.291617  0.003015  0.325920      0.004134\n",
       "14  0.294245  0.003015  0.313071      0.004134\n",
       "15  0.294454  0.003015  0.314287      0.004134\n",
       "16  0.292283  0.003015  0.312845      0.004134\n",
       "17  0.290078  0.003015  0.306982      0.004134\n",
       "18  0.291889  0.003015  0.304257      0.004134\n",
       "19  0.289643  0.003015  0.434104      0.004134\n",
       "20  0.296946  0.003015  0.309423      0.004134\n",
       "21  0.290061  0.003015  0.304602      0.004134\n",
       "22  0.288942  0.003015  0.297431      0.004134\n",
       "23  0.288515  0.003015  0.296718      0.004134\n",
       "24  0.288570  0.003015  0.295820      0.004134\n",
       "25  0.285331  0.003015  0.303989      0.004134\n",
       "26  0.286369  0.003015  0.293213      0.004134\n",
       "27  0.286734  0.003015  0.307825      0.004134\n",
       "28  0.285798  0.003015  0.294367      0.004134\n",
       "29  0.284544  0.003015  0.310793      0.004134"
      ]
     },
     "execution_count": 107,
     "metadata": {},
     "output_type": "execute_result"
    }
   ],
   "source": [
    "pd.DataFrame(trained_model.history)"
   ]
  },
  {
   "cell_type": "code",
   "execution_count": 108,
   "id": "7ee7b578-8417-4127-9abc-2661d5d17161",
   "metadata": {},
   "outputs": [
    {
     "data": {
      "text/plain": [
       "<AxesSubplot: >"
      ]
     },
     "execution_count": 108,
     "metadata": {},
     "output_type": "execute_result"
    },
    {
     "data": {
      "image/png": "[encoded data removed]",
      "text/plain": [
       "<Figure size 640x480 with 1 Axes>"
      ]
     },
     "metadata": {},
     "output_type": "display_data"
    }
   ],
   "source": [
    "pd.DataFrame(trained_model.history).plot()"
   ]
  },
  {
   "cell_type": "code",
   "execution_count": 109,
   "id": "32ecc09c-24af-4133-b3c2-0662192b5ee5",
   "metadata": {},
   "outputs": [
    {
     "name": "stdout",
     "output_type": "stream",
     "text": [
      "162/162 [==============================] - 0s 1ms/step - loss: 0.3073 - accuracy: 0.0021\n"
     ]
    },
    {
     "data": {
      "text/plain": [
       "[0.30727118253707886, 0.0021317829377949238]"
      ]
     },
     "execution_count": 109,
     "metadata": {},
     "output_type": "execute_result"
    }
   ],
   "source": [
    "model.evaluate(x_test,y_test)"
   ]
  },
  {
   "cell_type": "code",
   "execution_count": 110,
   "id": "7565bdb0-f08d-46b1-852b-b546b22df8fa",
   "metadata": {},
   "outputs": [],
   "source": [
    "x_new=x_test[0]"
   ]
  },
  {
   "cell_type": "code",
   "execution_count": 111,
   "id": "d6f91144-cbb1-40aa-b7d1-2aa431cf5d98",
   "metadata": {},
   "outputs": [
    {
     "data": {
      "text/plain": [
       "array([-1.15860007, -0.29094913, -0.48831887, -0.16518039, -0.0257944 ,\n",
       "        0.10824149,  0.18299342,  0.29583641])"
      ]
     },
     "execution_count": 111,
     "metadata": {},
     "output_type": "execute_result"
    }
   ],
   "source": [
    "x_new"
   ]
  },
  {
   "cell_type": "code",
   "execution_count": 112,
   "id": "d082b50b-b113-4d64-ad7d-99f0ebfe7457",
   "metadata": {},
   "outputs": [],
   "source": [
    "y_actual=y_test[0]"
   ]
  },
  {
   "cell_type": "code",
   "execution_count": 113,
   "id": "443d1311-9d0b-4fa3-b78d-c57fbb899752",
   "metadata": {},
   "outputs": [
    {
     "data": {
      "text/plain": [
       "0.477"
      ]
     },
     "execution_count": 113,
     "metadata": {},
     "output_type": "execute_result"
    }
   ],
   "source": [
    "y_actual"
   ]
  },
  {
   "cell_type": "code",
   "execution_count": 114,
   "id": "ebf1cc53-9127-413c-aa35-546b82a9a245",
   "metadata": {},
   "outputs": [
    {
     "data": {
      "text/plain": [
       "(8,)"
      ]
     },
     "execution_count": 114,
     "metadata": {},
     "output_type": "execute_result"
    }
   ],
   "source": [
    "x_new.shape"
   ]
  },
  {
   "cell_type": "code",
   "execution_count": 117,
   "id": "115d6048-a6b7-45e0-a0e1-6f3a16970a3e",
   "metadata": {},
   "outputs": [
    {
     "data": {
      "text/plain": [
       "array([[-1.15860007, -0.29094913, -0.48831887, -0.16518039, -0.0257944 ,\n",
       "         0.10824149,  0.18299342,  0.29583641]])"
      ]
     },
     "execution_count": 117,
     "metadata": {},
     "output_type": "execute_result"
    }
   ],
   "source": [
    "x_new.reshape(1,8)"
   ]
  },
  {
   "cell_type": "code",
   "execution_count": null,
   "id": "99296d3e-f032-4246-924c-35d623c0801b",
   "metadata": {},
   "outputs": [],
   "source": []
  },
  {
   "cell_type": "code",
   "execution_count": 122,
   "id": "cc42db1a-a947-48df-85ce-fafed6bb4b61",
   "metadata": {},
   "outputs": [
    {
     "name": "stdout",
     "output_type": "stream",
     "text": [
      "1/1 [==============================] - 0s 26ms/step\n"
     ]
    }
   ],
   "source": [
    "y_pred=model.predict(x_new.reshape(1,8))"
   ]
  },
  {
   "cell_type": "code",
   "execution_count": 123,
   "id": "390abc24-3921-47bd-9ed7-f81c0cac1e36",
   "metadata": {},
   "outputs": [
    {
     "data": {
      "text/plain": [
       "array([[0.61671895]], dtype=float32)"
      ]
     },
     "execution_count": 123,
     "metadata": {},
     "output_type": "execute_result"
    }
   ],
   "source": [
    "y_pred"
   ]
  },
  {
   "cell_type": "code",
   "execution_count": null,
   "id": "ce3ec64e-6ad5-4bf6-b132-a60fcd8faf0f",
   "metadata": {},
   "outputs": [],
   "source": []
  },
  {
   "cell_type": "code",
   "execution_count": null,
   "id": "c1ac72f9-8b70-47fc-9942-fedee82761ce",
   "metadata": {},
   "outputs": [],
   "source": []
  }
 ],
 "metadata": {
  "kernelspec": {
   "display_name": "Python 3 (ipykernel)",
   "language": "python",
   "name": "python3"
  },
  "language_info": {
   "codemirror_mode": {
    "name": "ipython",
    "version": 3
   },
   "file_extension": ".py",
   "mimetype": "text/x-python",
   "name": "python",
   "nbconvert_exporter": "python",
   "pygments_lexer": "ipython3",
   "version": "3.10.8"
  }
 },
 "nbformat": 4,
 "nbformat_minor": 5
}
