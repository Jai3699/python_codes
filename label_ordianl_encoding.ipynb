{
 "cells": [
  {
   "cell_type": "markdown",
   "id": "00aea459-4814-48e6-a369-192d8a02ec35",
   "metadata": {},
   "source": [
    "## Label Encoding"
   ]
  },
  {
   "cell_type": "code",
   "execution_count": 1,
   "id": "b2423f47-ed11-4f8c-8424-e5082df20b8b",
   "metadata": {},
   "outputs": [],
   "source": [
    "from sklearn.preprocessing import LabelEncoder"
   ]
  },
  {
   "cell_type": "code",
   "execution_count": 3,
   "id": "28f9434e-b09e-407e-b9be-11d71251e737",
   "metadata": {},
   "outputs": [],
   "source": [
    "## create instance\n",
    "instance=LabelEncoder()"
   ]
  },
  {
   "cell_type": "code",
   "execution_count": 4,
   "id": "77ed26f9-6de4-4a54-9b0d-1db574390529",
   "metadata": {},
   "outputs": [],
   "source": [
    "import pandas as pd"
   ]
  },
  {
   "cell_type": "code",
   "execution_count": 5,
   "id": "5abff7b0-9754-455d-babd-2549ff35670a",
   "metadata": {},
   "outputs": [],
   "source": [
    "df=pd.DataFrame({'color':['red','green','blue','green','red','blue','green']})"
   ]
  },
  {
   "cell_type": "code",
   "execution_count": 6,
   "id": "54c780ee-e51a-41ab-80ed-f867de999700",
   "metadata": {},
   "outputs": [
    {
     "data": {
      "text/html": [
       "<div>\n",
       "<style scoped>\n",
       "    .dataframe tbody tr th:only-of-type {\n",
       "        vertical-align: middle;\n",
       "    }\n",
       "\n",
       "    .dataframe tbody tr th {\n",
       "        vertical-align: top;\n",
       "    }\n",
       "\n",
       "    .dataframe thead th {\n",
       "        text-align: right;\n",
       "    }\n",
       "</style>\n",
       "<table border=\"1\" class=\"dataframe\">\n",
       "  <thead>\n",
       "    <tr style=\"text-align: right;\">\n",
       "      <th></th>\n",
       "      <th>color</th>\n",
       "    </tr>\n",
       "  </thead>\n",
       "  <tbody>\n",
       "    <tr>\n",
       "      <th>0</th>\n",
       "      <td>red</td>\n",
       "    </tr>\n",
       "    <tr>\n",
       "      <th>1</th>\n",
       "      <td>green</td>\n",
       "    </tr>\n",
       "    <tr>\n",
       "      <th>2</th>\n",
       "      <td>blue</td>\n",
       "    </tr>\n",
       "    <tr>\n",
       "      <th>3</th>\n",
       "      <td>green</td>\n",
       "    </tr>\n",
       "    <tr>\n",
       "      <th>4</th>\n",
       "      <td>red</td>\n",
       "    </tr>\n",
       "    <tr>\n",
       "      <th>5</th>\n",
       "      <td>blue</td>\n",
       "    </tr>\n",
       "    <tr>\n",
       "      <th>6</th>\n",
       "      <td>green</td>\n",
       "    </tr>\n",
       "  </tbody>\n",
       "</table>\n",
       "</div>"
      ],
      "text/plain": [
       "   color\n",
       "0    red\n",
       "1  green\n",
       "2   blue\n",
       "3  green\n",
       "4    red\n",
       "5   blue\n",
       "6  green"
      ]
     },
     "execution_count": 6,
     "metadata": {},
     "output_type": "execute_result"
    }
   ],
   "source": [
    "df"
   ]
  },
  {
   "cell_type": "code",
   "execution_count": 8,
   "id": "5235a13b-4a9b-4a03-a32d-2a6a6e0e8a95",
   "metadata": {},
   "outputs": [],
   "source": [
    "encoded=instance.fit_transform(df['color'])"
   ]
  },
  {
   "cell_type": "code",
   "execution_count": 9,
   "id": "8b3590f2-0ff4-492d-bd92-a810bdf26fc4",
   "metadata": {},
   "outputs": [
    {
     "data": {
      "text/plain": [
       "array([2, 1, 0, 1, 2, 0, 1])"
      ]
     },
     "execution_count": 9,
     "metadata": {},
     "output_type": "execute_result"
    }
   ],
   "source": [
    "encoded"
   ]
  },
  {
   "cell_type": "markdown",
   "id": "83376c9c-5129-420e-beff-cc7f797b03c4",
   "metadata": {},
   "source": [
    "## Ordinal encoding"
   ]
  },
  {
   "cell_type": "code",
   "execution_count": 19,
   "id": "39b3f193-ef55-419e-9deb-2846a15b1985",
   "metadata": {},
   "outputs": [],
   "source": [
    "from sklearn.preprocessing import OrdinalEncoder"
   ]
  },
  {
   "cell_type": "code",
   "execution_count": 20,
   "id": "5210502f-bcca-4034-b352-57ce350cc7e4",
   "metadata": {},
   "outputs": [],
   "source": [
    "df2=pd.DataFrame({'size':['small','medium','large','small','large','small','medium']})"
   ]
  },
  {
   "cell_type": "code",
   "execution_count": 24,
   "id": "7bb9416e-ad24-4af5-924b-fff33c01633a",
   "metadata": {},
   "outputs": [],
   "source": [
    "inst=OrdinalEncoder(categories=[['small','medium','large']])"
   ]
  },
  {
   "cell_type": "code",
   "execution_count": 25,
   "id": "c8bad48f-23f7-445e-b816-13d81f2ae460",
   "metadata": {},
   "outputs": [],
   "source": [
    "encd=inst.fit_transform(df2[['size']])"
   ]
  },
  {
   "cell_type": "code",
   "execution_count": 26,
   "id": "ffffc57a-5677-4c50-8eb4-526d7179a209",
   "metadata": {},
   "outputs": [
    {
     "data": {
      "text/plain": [
       "array([[0.],\n",
       "       [1.],\n",
       "       [2.],\n",
       "       [0.],\n",
       "       [2.],\n",
       "       [0.],\n",
       "       [1.]])"
      ]
     },
     "execution_count": 26,
     "metadata": {},
     "output_type": "execute_result"
    }
   ],
   "source": [
    "encd"
   ]
  },
  {
   "cell_type": "code",
   "execution_count": null,
   "id": "9bc2d93d-d954-4363-9889-16641452de42",
   "metadata": {},
   "outputs": [],
   "source": []
  },
  {
   "cell_type": "code",
   "execution_count": null,
   "id": "dc591e63-db49-453a-b2bb-81f47d938263",
   "metadata": {},
   "outputs": [],
   "source": []
  }
 ],
 "metadata": {
  "kernelspec": {
   "display_name": "Python 3 (ipykernel)",
   "language": "python",
   "name": "python3"
  },
  "language_info": {
   "codemirror_mode": {
    "name": "ipython",
    "version": 3
   },
   "file_extension": ".py",
   "mimetype": "text/x-python",
   "name": "python",
   "nbconvert_exporter": "python",
   "pygments_lexer": "ipython3",
   "version": "3.10.8"
  }
 },
 "nbformat": 4,
 "nbformat_minor": 5
}
