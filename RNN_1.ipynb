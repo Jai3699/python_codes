{
 "cells": [
  {
   "cell_type": "code",
   "execution_count": 1,
   "id": "6dde7ffc-d8b8-42a9-a7c6-7571e85d6887",
   "metadata": {},
   "outputs": [],
   "source": [
    "import numpy as np"
   ]
  },
  {
   "cell_type": "code",
   "execution_count": 2,
   "id": "2c508c6e-8854-43b4-8c7c-aa30f47894a5",
   "metadata": {},
   "outputs": [],
   "source": [
    "docs=['recurrent neural network',\n",
    "     'neural network',\n",
    "     'connections between nodes',\n",
    "     'can create a cycle',\n",
    "     'allowing output',\n",
    "     'some nodes to affect subsequent',\n",
    "     'exhibit temporal',\n",
    "     'dynamic behavior',\n",
    "     'type of neural network',\n",
    "     'affect subsequent']"
   ]
  },
  {
   "cell_type": "code",
   "execution_count": 3,
   "id": "5d60554a-c2dc-446b-ad54-d455a2b50c81",
   "metadata": {},
   "outputs": [
    {
     "data": {
      "text/plain": [
       "['recurrent neural network',\n",
       " 'neural network',\n",
       " 'connections between nodes',\n",
       " 'can create a cycle',\n",
       " 'allowing output',\n",
       " 'some nodes to affect subsequent',\n",
       " 'exhibit temporal',\n",
       " 'dynamic behavior',\n",
       " 'type of neural network',\n",
       " 'affect subsequent']"
      ]
     },
     "execution_count": 3,
     "metadata": {},
     "output_type": "execute_result"
    }
   ],
   "source": [
    "docs"
   ]
  },
  {
   "cell_type": "code",
   "execution_count": 4,
   "id": "6a262556-7e60-493d-88cc-ee7686fea4c3",
   "metadata": {},
   "outputs": [],
   "source": [
    "import tensorflow as tf"
   ]
  },
  {
   "cell_type": "code",
   "execution_count": 5,
   "id": "44533fa1-f22f-4dbe-8a19-f3f454dbda79",
   "metadata": {},
   "outputs": [],
   "source": [
    "from tensorflow import keras"
   ]
  },
  {
   "cell_type": "code",
   "execution_count": 6,
   "id": "a836ccbc-f300-41ee-a0ab-a231e8093e90",
   "metadata": {},
   "outputs": [],
   "source": [
    "from keras.preprocessing.text import Tokenizer"
   ]
  },
  {
   "cell_type": "code",
   "execution_count": 7,
   "id": "904a08e6-183c-44ed-b777-77e2bb3d295d",
   "metadata": {},
   "outputs": [],
   "source": [
    "tokenizer=Tokenizer(oov_token='<nothing>') ## if any word come which is not in the docs then it will mark as nothing\n",
    "tokenizer.fit_on_texts(docs)"
   ]
  },
  {
   "cell_type": "code",
   "execution_count": 8,
   "id": "b2d09c61-761a-4b7d-9d4a-03a9d8a536be",
   "metadata": {},
   "outputs": [
    {
     "data": {
      "text/plain": [
       "{'<nothing>': 1,\n",
       " 'neural': 2,\n",
       " 'network': 3,\n",
       " 'nodes': 4,\n",
       " 'affect': 5,\n",
       " 'subsequent': 6,\n",
       " 'recurrent': 7,\n",
       " 'connections': 8,\n",
       " 'between': 9,\n",
       " 'can': 10,\n",
       " 'create': 11,\n",
       " 'a': 12,\n",
       " 'cycle': 13,\n",
       " 'allowing': 14,\n",
       " 'output': 15,\n",
       " 'some': 16,\n",
       " 'to': 17,\n",
       " 'exhibit': 18,\n",
       " 'temporal': 19,\n",
       " 'dynamic': 20,\n",
       " 'behavior': 21,\n",
       " 'type': 22,\n",
       " 'of': 23}"
      ]
     },
     "execution_count": 8,
     "metadata": {},
     "output_type": "execute_result"
    }
   ],
   "source": [
    "tokenizer.word_index"
   ]
  },
  {
   "cell_type": "code",
   "execution_count": 9,
   "id": "9bfa3b1c-7e42-4cff-9e60-ed117fdc8c5f",
   "metadata": {},
   "outputs": [
    {
     "data": {
      "text/plain": [
       "OrderedDict([('recurrent', 1),\n",
       "             ('neural', 3),\n",
       "             ('network', 3),\n",
       "             ('connections', 1),\n",
       "             ('between', 1),\n",
       "             ('nodes', 2),\n",
       "             ('can', 1),\n",
       "             ('create', 1),\n",
       "             ('a', 1),\n",
       "             ('cycle', 1),\n",
       "             ('allowing', 1),\n",
       "             ('output', 1),\n",
       "             ('some', 1),\n",
       "             ('to', 1),\n",
       "             ('affect', 2),\n",
       "             ('subsequent', 2),\n",
       "             ('exhibit', 1),\n",
       "             ('temporal', 1),\n",
       "             ('dynamic', 1),\n",
       "             ('behavior', 1),\n",
       "             ('type', 1),\n",
       "             ('of', 1)])"
      ]
     },
     "execution_count": 9,
     "metadata": {},
     "output_type": "execute_result"
    }
   ],
   "source": [
    "tokenizer.word_counts"
   ]
  },
  {
   "cell_type": "code",
   "execution_count": 10,
   "id": "fd53aac8-69a6-4f63-9d14-a6246ecd1df9",
   "metadata": {},
   "outputs": [],
   "source": [
    "sequences=tokenizer.texts_to_sequences(docs)"
   ]
  },
  {
   "cell_type": "code",
   "execution_count": 11,
   "id": "129ab223-3baf-46a7-b01d-b6dcd38e341a",
   "metadata": {},
   "outputs": [
    {
     "data": {
      "text/plain": [
       "[[7, 2, 3],\n",
       " [2, 3],\n",
       " [8, 9, 4],\n",
       " [10, 11, 12, 13],\n",
       " [14, 15],\n",
       " [16, 4, 17, 5, 6],\n",
       " [18, 19],\n",
       " [20, 21],\n",
       " [22, 23, 2, 3],\n",
       " [5, 6]]"
      ]
     },
     "execution_count": 11,
     "metadata": {},
     "output_type": "execute_result"
    }
   ],
   "source": [
    "sequences"
   ]
  },
  {
   "cell_type": "code",
   "execution_count": 12,
   "id": "0b6d6677-14d3-4a4d-aeac-9d7a046e9a5b",
   "metadata": {},
   "outputs": [],
   "source": [
    "## we can see length is not same so we will do padding "
   ]
  },
  {
   "cell_type": "code",
   "execution_count": 13,
   "id": "8d885a48-1612-49ff-bae3-c3c168b17fad",
   "metadata": {},
   "outputs": [],
   "source": [
    "from keras.utils import pad_sequences"
   ]
  },
  {
   "cell_type": "code",
   "execution_count": 14,
   "id": "3d57ec71-9c0d-41b7-8d9c-cf0b60d30139",
   "metadata": {},
   "outputs": [
    {
     "data": {
      "text/plain": [
       "array([[ 7,  2,  3,  0,  0],\n",
       "       [ 2,  3,  0,  0,  0],\n",
       "       [ 8,  9,  4,  0,  0],\n",
       "       [10, 11, 12, 13,  0],\n",
       "       [14, 15,  0,  0,  0],\n",
       "       [16,  4, 17,  5,  6],\n",
       "       [18, 19,  0,  0,  0],\n",
       "       [20, 21,  0,  0,  0],\n",
       "       [22, 23,  2,  3,  0],\n",
       "       [ 5,  6,  0,  0,  0]])"
      ]
     },
     "execution_count": 14,
     "metadata": {},
     "output_type": "execute_result"
    }
   ],
   "source": [
    "pad_sequences(sequences,padding='post')"
   ]
  },
  {
   "cell_type": "markdown",
   "id": "fffee7ce-96b3-47ed-9e45-04909293ce10",
   "metadata": {},
   "source": [
    "# Sentiment Analysis"
   ]
  },
  {
   "cell_type": "code",
   "execution_count": 15,
   "id": "70fe1fdb-b942-47a2-891b-c90eeff79c39",
   "metadata": {},
   "outputs": [],
   "source": [
    "from keras.datasets import imdb\n",
    "from keras import Sequential\n",
    "from keras.layers import Dense,Embedding,Flatten,SimpleRNN"
   ]
  },
  {
   "cell_type": "code",
   "execution_count": 16,
   "id": "257b429d-ab32-4e28-9b5f-f38aa612a152",
   "metadata": {},
   "outputs": [],
   "source": [
    "(x_train,y_train),(x_test,y_test)=imdb.load_data()"
   ]
  },
  {
   "cell_type": "code",
   "execution_count": 17,
   "id": "7be76936-0899-4c44-81f1-264fea094971",
   "metadata": {},
   "outputs": [
    {
     "data": {
      "text/plain": [
       "array([list([1, 14, 22, 16, 43, 530, 973, 1622, 1385, 65, 458, 4468, 66, 3941, 4, 173, 36, 256, 5, 25, 100, 43, 838, 112, 50, 670, 22665, 9, 35, 480, 284, 5, 150, 4, 172, 112, 167, 21631, 336, 385, 39, 4, 172, 4536, 1111, 17, 546, 38, 13, 447, 4, 192, 50, 16, 6, 147, 2025, 19, 14, 22, 4, 1920, 4613, 469, 4, 22, 71, 87, 12, 16, 43, 530, 38, 76, 15, 13, 1247, 4, 22, 17, 515, 17, 12, 16, 626, 18, 19193, 5, 62, 386, 12, 8, 316, 8, 106, 5, 4, 2223, 5244, 16, 480, 66, 3785, 33, 4, 130, 12, 16, 38, 619, 5, 25, 124, 51, 36, 135, 48, 25, 1415, 33, 6, 22, 12, 215, 28, 77, 52, 5, 14, 407, 16, 82, 10311, 8, 4, 107, 117, 5952, 15, 256, 4, 31050, 7, 3766, 5, 723, 36, 71, 43, 530, 476, 26, 400, 317, 46, 7, 4, 12118, 1029, 13, 104, 88, 4, 381, 15, 297, 98, 32, 2071, 56, 26, 141, 6, 194, 7486, 18, 4, 226, 22, 21, 134, 476, 26, 480, 5, 144, 30, 5535, 18, 51, 36, 28, 224, 92, 25, 104, 4, 226, 65, 16, 38, 1334, 88, 12, 16, 283, 5, 16, 4472, 113, 103, 32, 15, 16, 5345, 19, 178, 32]),\n",
       "       list([1, 194, 1153, 194, 8255, 78, 228, 5, 6, 1463, 4369, 5012, 134, 26, 4, 715, 8, 118, 1634, 14, 394, 20, 13, 119, 954, 189, 102, 5, 207, 110, 3103, 21, 14, 69, 188, 8, 30, 23, 7, 4, 249, 126, 93, 4, 114, 9, 2300, 1523, 5, 647, 4, 116, 9, 35, 8163, 4, 229, 9, 340, 1322, 4, 118, 9, 4, 130, 4901, 19, 4, 1002, 5, 89, 29, 952, 46, 37, 4, 455, 9, 45, 43, 38, 1543, 1905, 398, 4, 1649, 26, 6853, 5, 163, 11, 3215, 10156, 4, 1153, 9, 194, 775, 7, 8255, 11596, 349, 2637, 148, 605, 15358, 8003, 15, 123, 125, 68, 23141, 6853, 15, 349, 165, 4362, 98, 5, 4, 228, 9, 43, 36893, 1157, 15, 299, 120, 5, 120, 174, 11, 220, 175, 136, 50, 9, 4373, 228, 8255, 5, 25249, 656, 245, 2350, 5, 4, 9837, 131, 152, 491, 18, 46151, 32, 7464, 1212, 14, 9, 6, 371, 78, 22, 625, 64, 1382, 9, 8, 168, 145, 23, 4, 1690, 15, 16, 4, 1355, 5, 28, 6, 52, 154, 462, 33, 89, 78, 285, 16, 145, 95]),\n",
       "       list([1, 14, 47, 8, 30, 31, 7, 4, 249, 108, 7, 4, 5974, 54, 61, 369, 13, 71, 149, 14, 22, 112, 4, 2401, 311, 12, 16, 3711, 33, 75, 43, 1829, 296, 4, 86, 320, 35, 534, 19, 263, 4821, 1301, 4, 1873, 33, 89, 78, 12, 66, 16, 4, 360, 7, 4, 58, 316, 334, 11, 4, 1716, 43, 645, 662, 8, 257, 85, 1200, 42, 1228, 2578, 83, 68, 3912, 15, 36, 165, 1539, 278, 36, 69, 44076, 780, 8, 106, 14, 6905, 1338, 18, 6, 22, 12, 215, 28, 610, 40, 6, 87, 326, 23, 2300, 21, 23, 22, 12, 272, 40, 57, 31, 11, 4, 22, 47, 6, 2307, 51, 9, 170, 23, 595, 116, 595, 1352, 13, 191, 79, 638, 89, 51428, 14, 9, 8, 106, 607, 624, 35, 534, 6, 227, 7, 129, 113]),\n",
       "       ...,\n",
       "       list([1, 11, 6, 230, 245, 6401, 9, 6, 1225, 446, 86527, 45, 2174, 84, 8322, 4007, 21, 4, 912, 84, 14532, 325, 725, 134, 15271, 1715, 84, 5, 36, 28, 57, 1099, 21, 8, 140, 8, 703, 5, 11656, 84, 56, 18, 1644, 14, 9, 31, 7, 4, 9406, 1209, 2295, 26094, 1008, 18, 6, 20, 207, 110, 563, 12, 8, 2901, 17793, 8, 97, 6, 20, 53, 4767, 74, 4, 460, 364, 1273, 29, 270, 11, 960, 108, 45, 40, 29, 2961, 395, 11, 6, 4065, 500, 7, 14492, 89, 364, 70, 29, 140, 4, 64, 4780, 11, 4, 2678, 26, 178, 4, 529, 443, 17793, 5, 27, 710, 117, 74936, 8123, 165, 47, 84, 37, 131, 818, 14, 595, 10, 10, 61, 1242, 1209, 10, 10, 288, 2260, 1702, 34, 2901, 17793, 4, 65, 496, 4, 231, 7, 790, 5, 6, 320, 234, 2766, 234, 1119, 1574, 7, 496, 4, 139, 929, 2901, 17793, 7750, 5, 4241, 18, 4, 8497, 13164, 250, 11, 1818, 7561, 4, 4217, 5408, 747, 1115, 372, 1890, 1006, 541, 9303, 7, 4, 59, 11027, 4, 3586, 22459]),\n",
       "       list([1, 1446, 7079, 69, 72, 3305, 13, 610, 930, 8, 12, 582, 23, 5, 16, 484, 685, 54, 349, 11, 4120, 2959, 45, 58, 1466, 13, 197, 12, 16, 43, 23, 21469, 5, 62, 30, 145, 402, 11, 4131, 51, 575, 32, 61, 369, 71, 66, 770, 12, 1054, 75, 100, 2198, 8, 4, 105, 37, 69, 147, 712, 75, 3543, 44, 257, 390, 5, 69, 263, 514, 105, 50, 286, 1814, 23, 4, 123, 13, 161, 40, 5, 421, 4, 116, 16, 897, 13, 40691, 40, 319, 5872, 112, 6700, 11, 4803, 121, 25, 70, 3468, 4, 719, 3798, 13, 18, 31, 62, 40, 8, 7200, 4, 29455, 7, 14, 123, 5, 942, 25, 8, 721, 12, 145, 5, 202, 12, 160, 580, 202, 12, 6, 52, 58, 11418, 92, 401, 728, 12, 39, 14, 251, 8, 15, 251, 5, 21213, 12, 38, 84, 80, 124, 12, 9, 23]),\n",
       "       list([1, 17, 6, 194, 337, 7, 4, 204, 22, 45, 254, 8, 106, 14, 123, 4, 12815, 270, 14437, 5, 16923, 12255, 732, 2098, 101, 405, 39, 14, 1034, 4, 1310, 9, 115, 50, 305, 12, 47, 4, 168, 5, 235, 7, 38, 111, 699, 102, 7, 4, 4039, 9245, 9, 24, 6, 78, 1099, 17, 2345, 16553, 21, 27, 9685, 6139, 5, 29043, 1603, 92, 1183, 4, 1310, 7, 4, 204, 42, 97, 90, 35, 221, 109, 29, 127, 27, 118, 8, 97, 12, 157, 21, 6789, 85010, 9, 6, 66, 78, 1099, 4, 631, 1191, 5, 2642, 272, 191, 1070, 6, 7585, 8, 2197, 70907, 10755, 544, 5, 383, 1271, 848, 1468, 12183, 497, 16876, 8, 1597, 8778, 19280, 21, 60, 27, 239, 9, 43, 8368, 209, 405, 10, 10, 12, 764, 40, 4, 248, 20, 12, 16, 5, 174, 1791, 72, 7, 51, 6, 1739, 22, 4, 204, 131, 9])],\n",
       "      dtype=object)"
      ]
     },
     "execution_count": 17,
     "metadata": {},
     "output_type": "execute_result"
    }
   ],
   "source": [
    "x_train"
   ]
  },
  {
   "cell_type": "code",
   "execution_count": 18,
   "id": "ad2ad17d-109f-4140-ae04-0025d3b197fa",
   "metadata": {},
   "outputs": [
    {
     "data": {
      "text/plain": [
       "array([1, 0, 0, ..., 0, 1, 0], dtype=int64)"
      ]
     },
     "execution_count": 18,
     "metadata": {},
     "output_type": "execute_result"
    }
   ],
   "source": [
    "y_train"
   ]
  },
  {
   "cell_type": "code",
   "execution_count": 19,
   "id": "eaed503c-73d3-4533-a711-47f614f6ed78",
   "metadata": {},
   "outputs": [
    {
     "name": "stdout",
     "output_type": "stream",
     "text": [
      "550\n",
      "43\n"
     ]
    }
   ],
   "source": [
    "print(len(x_train[3]))\n",
    "print(len(x_train[5]))\n",
    "\n"
   ]
  },
  {
   "cell_type": "code",
   "execution_count": 20,
   "id": "da8fb6a8-9427-41a7-8b4c-dc3c8e22c6e4",
   "metadata": {},
   "outputs": [],
   "source": [
    "## we can see length is not same so we need to do padding"
   ]
  },
  {
   "cell_type": "code",
   "execution_count": 41,
   "id": "d3fb182b-afa8-457f-8720-bc78b2ff5c18",
   "metadata": {},
   "outputs": [],
   "source": [
    "x_train=pad_sequences(x_train,padding='post',maxlen=50)\n",
    "x_test=pad_sequences(x_test,padding='post',maxlen=50)"
   ]
  },
  {
   "cell_type": "code",
   "execution_count": 42,
   "id": "275bd9be-77a7-4242-b6b0-b5f591b2a955",
   "metadata": {},
   "outputs": [
    {
     "name": "stdout",
     "output_type": "stream",
     "text": [
      "50\n",
      "50\n"
     ]
    }
   ],
   "source": [
    "print(len(x_train[3]))\n",
    "print(len(x_train[5]))\n"
   ]
  },
  {
   "cell_type": "code",
   "execution_count": 43,
   "id": "0c0495ba-72b3-4ae6-b076-501e654eb8fc",
   "metadata": {},
   "outputs": [
    {
     "name": "stdout",
     "output_type": "stream",
     "text": [
      "Model: \"sequential_5\"\n",
      "_________________________________________________________________\n",
      " Layer (type)                Output Shape              Param #   \n",
      "=================================================================\n",
      " simple_rnn_5 (SimpleRNN)    (None, 32)                1088      \n",
      "                                                                 \n",
      " dense_3 (Dense)             (None, 1)                 33        \n",
      "                                                                 \n",
      "=================================================================\n",
      "Total params: 1,121\n",
      "Trainable params: 1,121\n",
      "Non-trainable params: 0\n",
      "_________________________________________________________________\n"
     ]
    }
   ],
   "source": [
    "##RNN\n",
    "model=Sequential()\n",
    "model.add(SimpleRNN(32,input_shape=(50,1),return_sequences=False))\n",
    "model.add(Dense(1,activation='sigmoid'))\n",
    "model.summary()"
   ]
  },
  {
   "cell_type": "code",
   "execution_count": 44,
   "id": "e62af515-9357-4535-ba40-bce8a63a95de",
   "metadata": {},
   "outputs": [],
   "source": [
    "model.compile(metrics=['accuracy'],loss='binary_crossentropy',optimizer='adam')"
   ]
  },
  {
   "cell_type": "code",
   "execution_count": 45,
   "id": "90601abe-34fb-47b6-b6da-0dfb6e5e926d",
   "metadata": {},
   "outputs": [
    {
     "name": "stdout",
     "output_type": "stream",
     "text": [
      "Epoch 1/2\n",
      "782/782 [==============================] - 9s 10ms/step - loss: 0.6934 - accuracy: 0.4989 - val_loss: 0.6931 - val_accuracy: 0.5000\n",
      "Epoch 2/2\n",
      "782/782 [==============================] - 8s 10ms/step - loss: 0.6932 - accuracy: 0.4980 - val_loss: 0.6931 - val_accuracy: 0.5000\n"
     ]
    },
    {
     "data": {
      "text/plain": [
       "<keras.callbacks.History at 0x1e799d37910>"
      ]
     },
     "execution_count": 45,
     "metadata": {},
     "output_type": "execute_result"
    }
   ],
   "source": [
    "model.fit(x_train,y_train,epochs=2,validation_data=(x_test,y_test))"
   ]
  },
  {
   "cell_type": "code",
   "execution_count": 46,
   "id": "99c0c633-097a-42f6-a69e-93444c79643f",
   "metadata": {},
   "outputs": [],
   "source": [
    "model.add(Embedding(23,output_dim=2,input_length=50))"
   ]
  },
  {
   "cell_type": "code",
   "execution_count": null,
   "id": "579ab943-57a7-422b-84e0-e28e94d218a4",
   "metadata": {},
   "outputs": [],
   "source": [
    "model.fit(x_train,y_train,validation_data=())"
   ]
  },
  {
   "cell_type": "code",
   "execution_count": null,
   "id": "f42a790b-ce87-4fc5-8b29-0e432ba08b43",
   "metadata": {},
   "outputs": [],
   "source": []
  },
  {
   "cell_type": "code",
   "execution_count": null,
   "id": "bcdabc82-e5c1-4b0f-a555-bfbaaddcb57c",
   "metadata": {},
   "outputs": [],
   "source": []
  },
  {
   "cell_type": "code",
   "execution_count": null,
   "id": "537a0c1a-3002-446f-9e33-004113b8b55b",
   "metadata": {},
   "outputs": [],
   "source": []
  },
  {
   "cell_type": "code",
   "execution_count": null,
   "id": "67cc0255-9e07-4e8f-b3a4-f7940df732e4",
   "metadata": {},
   "outputs": [],
   "source": []
  }
 ],
 "metadata": {
  "kernelspec": {
   "display_name": "Python 3 (ipykernel)",
   "language": "python",
   "name": "python3"
  },
  "language_info": {
   "codemirror_mode": {
    "name": "ipython",
    "version": 3
   },
   "file_extension": ".py",
   "mimetype": "text/x-python",
   "name": "python",
   "nbconvert_exporter": "python",
   "pygments_lexer": "ipython3",
   "version": "3.10.9"
  }
 },
 "nbformat": 4,
 "nbformat_minor": 5
}
